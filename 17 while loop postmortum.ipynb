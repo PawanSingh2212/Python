{
 "cells": [
  {
   "cell_type": "code",
   "execution_count": 2,
   "id": "8ae64a39",
   "metadata": {},
   "outputs": [
    {
     "name": "stdout",
     "output_type": "stream",
     "text": [
      "guess the number(1-100):35\n",
      "try again\n",
      "number90\n"
     ]
    }
   ],
   "source": [
    "import random\n",
    "target_number=random.randint(1,100)\n",
    "guess= int(input('guess the number(1-100):'))\n",
    "\n",
    "while guess==target_number:\n",
    "    print('congratulaton')\n",
    "else:\n",
    "    print('try again')\n",
    "guess=int(input('number'))"
   ]
  },
  {
   "cell_type": "code",
   "execution_count": null,
   "id": "e1d53434",
   "metadata": {},
   "outputs": [],
   "source": []
  },
  {
   "cell_type": "code",
   "execution_count": 4,
   "id": "ca70d8d6",
   "metadata": {},
   "outputs": [
    {
     "name": "stdout",
     "output_type": "stream",
     "text": [
      "3\n"
     ]
    }
   ],
   "source": [
    "number=100\n",
    "count=0\n",
    "while number>10:\n",
    "    number=number/3\n",
    "    count+=1\n",
    "print(count)"
   ]
  },
  {
   "cell_type": "code",
   "execution_count": 3,
   "id": "55b308ec",
   "metadata": {},
   "outputs": [
    {
     "name": "stdout",
     "output_type": "stream",
     "text": [
      "33.333333333333336\n",
      "1\n",
      "11.111111111111112\n",
      "2\n",
      "3.703703703703704\n",
      "3\n"
     ]
    }
   ],
   "source": [
    "number=100\n",
    "count=0\n",
    "while number>10:\n",
    "    number=number/3\n",
    "    print(number)\n",
    "    count+=1\n",
    "    print(count)"
   ]
  },
  {
   "cell_type": "code",
   "execution_count": 1,
   "id": "1ec99f2e",
   "metadata": {},
   "outputs": [
    {
     "name": "stdout",
     "output_type": "stream",
     "text": [
      "2\n",
      "4\n",
      "6\n",
      "8\n",
      "10\n"
     ]
    }
   ],
   "source": [
    "# print even numbers up to 10\n",
    "number=2\n",
    "while number<=10:\n",
    "    print(number)\n",
    "    number+=2"
   ]
  },
  {
   "cell_type": "code",
   "execution_count": null,
   "id": "1d4713a1",
   "metadata": {},
   "outputs": [],
   "source": []
  },
  {
   "cell_type": "code",
   "execution_count": 4,
   "id": "4bf40935",
   "metadata": {},
   "outputs": [
    {
     "name": "stdout",
     "output_type": "stream",
     "text": [
      "5\n",
      "4\n",
      "3\n",
      "2\n",
      "1\n"
     ]
    }
   ],
   "source": [
    "# count down from 5 to 1\n",
    "count=5\n",
    "while count>=1:\n",
    "    print(count)\n",
    "    count-=1\n",
    "\n"
   ]
  },
  {
   "cell_type": "code",
   "execution_count": 5,
   "id": "421f401b",
   "metadata": {},
   "outputs": [
    {
     "name": "stdout",
     "output_type": "stream",
     "text": [
      "4\n",
      "3\n",
      "2\n",
      "1\n",
      "0\n"
     ]
    }
   ],
   "source": [
    "count=5\n",
    "while count>=1:\n",
    "    count-=1\n",
    "    print(count)\n",
    "\n"
   ]
  },
  {
   "cell_type": "code",
   "execution_count": null,
   "id": "77d178c8",
   "metadata": {},
   "outputs": [],
   "source": []
  },
  {
   "cell_type": "code",
   "execution_count": null,
   "id": "4f613393",
   "metadata": {},
   "outputs": [],
   "source": [
    "username=input('enter username')\n",
    "while username.count!=6:\n",
    "    print('error')"
   ]
  },
  {
   "cell_type": "code",
   "execution_count": null,
   "id": "8ba150b0",
   "metadata": {},
   "outputs": [],
   "source": []
  },
  {
   "cell_type": "markdown",
   "id": "0cd2806c",
   "metadata": {},
   "source": [
    "## password"
   ]
  },
  {
   "cell_type": "code",
   "execution_count": null,
   "id": "892c9508",
   "metadata": {},
   "outputs": [
    {
     "name": "stdout",
     "output_type": "stream",
     "text": [
      "enter passwordee32\n",
      "incorrect passwrod\n"
     ]
    }
   ],
   "source": [
    "password='2000pawan'\n",
    "a=input('enter password')\n",
    "while a!=password:\n",
    "    print('incorrect passwrod')\n",
    "    a=input('enter again')\n",
    "else:\n",
    "    print('correct password')"
   ]
  },
  {
   "cell_type": "code",
   "execution_count": null,
   "id": "6d900008",
   "metadata": {},
   "outputs": [],
   "source": []
  },
  {
   "cell_type": "markdown",
   "id": "8eb9872f",
   "metadata": {},
   "source": [
    "### password with attempts"
   ]
  },
  {
   "cell_type": "code",
   "execution_count": 1,
   "id": "73f2e568",
   "metadata": {},
   "outputs": [
    {
     "name": "stdout",
     "output_type": "stream",
     "text": [
      "you have 3 attempts left\n",
      "enter the passwordfmef\n",
      "password is wrong\n",
      "you have 2 attempts left\n",
      "enter the passwordfrkmerf\n",
      "password is wrong\n",
      "you have 1 attempts left\n",
      "enter the passwordrgmr\n",
      "password is wrong\n"
     ]
    }
   ],
   "source": [
    "password='2000pawan'\n",
    "count=3\n",
    "while count!=0:\n",
    "    print('you have',count,'attempts left')\n",
    "    ask=input('enter the password')\n",
    "    if ask==password:\n",
    "        print('password is correct')\n",
    "        break\n",
    "    else:\n",
    "        print('password is wrong')\n",
    "        count-=1\n",
    "    \n",
    "  \n",
    "    "
   ]
  },
  {
   "cell_type": "code",
   "execution_count": null,
   "id": "e72f1773",
   "metadata": {},
   "outputs": [],
   "source": []
  },
  {
   "cell_type": "code",
   "execution_count": null,
   "id": "7b21390d",
   "metadata": {},
   "outputs": [],
   "source": []
  },
  {
   "cell_type": "code",
   "execution_count": null,
   "id": "a5b6ff32",
   "metadata": {},
   "outputs": [],
   "source": []
  },
  {
   "cell_type": "code",
   "execution_count": null,
   "id": "61cd1681",
   "metadata": {},
   "outputs": [],
   "source": []
  }
 ],
 "metadata": {
  "kernelspec": {
   "display_name": "Python 3 (ipykernel)",
   "language": "python",
   "name": "python3"
  },
  "language_info": {
   "codemirror_mode": {
    "name": "ipython",
    "version": 3
   },
   "file_extension": ".py",
   "mimetype": "text/x-python",
   "name": "python",
   "nbconvert_exporter": "python",
   "pygments_lexer": "ipython3",
   "version": "3.11.3"
  }
 },
 "nbformat": 4,
 "nbformat_minor": 5
}
