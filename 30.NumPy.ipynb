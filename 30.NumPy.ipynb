{
 "cells": [
  {
   "cell_type": "markdown",
   "id": "79354849-22bd-44c0-a0f5-83b70a662f19",
   "metadata": {},
   "source": [
    "#### Numpy stands  for numerical Pyhton . is an essential library for scientific computing in python . It provides support for arrays , matrics and a large  collection of high level mathematical function to operate on these data structures.Numpy is central to the python scientific stack underpinning many other libraries such as SciPy , Matplotlib, Pandas, sckit learn, making it a foundational component for numerical computation in Python"
   ]
  },
  {
   "cell_type": "code",
   "execution_count": 5,
   "id": "19c0c437-5e3b-484c-aa00-cbbe112a22eb",
   "metadata": {},
   "outputs": [
    {
     "name": "stdout",
     "output_type": "stream",
     "text": [
      "['ALLOW_THREADS', 'BUFSIZE', 'CLIP', 'DataSource', 'ERR_CALL', 'ERR_DEFAULT', 'ERR_IGNORE', 'ERR_LOG', 'ERR_PRINT', 'ERR_RAISE', 'ERR_WARN', 'FLOATING_POINT_SUPPORT', 'FPE_DIVIDEBYZERO', 'FPE_INVALID', 'FPE_OVERFLOW', 'FPE_UNDERFLOW', 'False_', 'Inf', 'Infinity', 'MAXDIMS', 'MAY_SHARE_BOUNDS', 'MAY_SHARE_EXACT', 'NAN', 'NINF', 'NZERO', 'NaN', 'PINF', 'PZERO', 'RAISE', 'RankWarning', 'SHIFT_DIVIDEBYZERO', 'SHIFT_INVALID', 'SHIFT_OVERFLOW', 'SHIFT_UNDERFLOW', 'ScalarType', 'True_', 'UFUNC_BUFSIZE_DEFAULT', 'UFUNC_PYVALS_NAME', 'WRAP', '_CopyMode', '_NoValue', '_UFUNC_API', '__NUMPY_SETUP__', '__all__', '__builtins__', '__cached__', '__config__', '__deprecated_attrs__', '__dir__', '__doc__', '__expired_functions__', '__file__', '__former_attrs__', '__future_scalars__', '__getattr__', '__loader__', '__name__', '__package__', '__path__', '__spec__', '__version__', '_add_newdoc_ufunc', '_builtins', '_distributor_init', '_financial_names', '_get_promotion_state', '_globals', '_int_extended_msg', '_mat', '_no_nep50_warning', '_pyinstaller_hooks_dir', '_pytesttester', '_set_promotion_state', '_specific_msg', '_typing', '_using_numpy2_behavior', '_utils', 'abs', 'absolute', 'add', 'add_docstring', 'add_newdoc', 'add_newdoc_ufunc', 'all', 'allclose', 'alltrue', 'amax', 'amin', 'angle', 'any', 'append', 'apply_along_axis', 'apply_over_axes', 'arange', 'arccos', 'arccosh', 'arcsin', 'arcsinh', 'arctan', 'arctan2', 'arctanh', 'argmax', 'argmin', 'argpartition', 'argsort', 'argwhere', 'around', 'array', 'array2string', 'array_equal', 'array_equiv', 'array_repr', 'array_split', 'array_str', 'asanyarray', 'asarray', 'asarray_chkfinite', 'ascontiguousarray', 'asfarray', 'asfortranarray', 'asmatrix', 'atleast_1d', 'atleast_2d', 'atleast_3d', 'average', 'bartlett', 'base_repr', 'binary_repr', 'bincount', 'bitwise_and', 'bitwise_not', 'bitwise_or', 'bitwise_xor', 'blackman', 'block', 'bmat', 'bool_', 'broadcast', 'broadcast_arrays', 'broadcast_shapes', 'broadcast_to', 'busday_count', 'busday_offset', 'busdaycalendar', 'byte', 'byte_bounds', 'bytes_', 'c_', 'can_cast', 'cast', 'cbrt', 'cdouble', 'ceil', 'cfloat', 'char', 'character', 'chararray', 'choose', 'clip', 'clongdouble', 'clongfloat', 'column_stack', 'common_type', 'compare_chararrays', 'compat', 'complex128', 'complex64', 'complex_', 'complexfloating', 'compress', 'concatenate', 'conj', 'conjugate', 'convolve', 'copy', 'copysign', 'copyto', 'corrcoef', 'correlate', 'cos', 'cosh', 'count_nonzero', 'cov', 'cross', 'csingle', 'ctypeslib', 'cumprod', 'cumproduct', 'cumsum', 'datetime64', 'datetime_as_string', 'datetime_data', 'deg2rad', 'degrees', 'delete', 'deprecate', 'deprecate_with_doc', 'diag', 'diag_indices', 'diag_indices_from', 'diagflat', 'diagonal', 'diff', 'digitize', 'disp', 'divide', 'divmod', 'dot', 'double', 'dsplit', 'dstack', 'dtype', 'dtypes', 'e', 'ediff1d', 'einsum', 'einsum_path', 'emath', 'empty', 'empty_like', 'equal', 'errstate', 'euler_gamma', 'exceptions', 'exp', 'exp2', 'expand_dims', 'expm1', 'extract', 'eye', 'fabs', 'fastCopyAndTranspose', 'fft', 'fill_diagonal', 'find_common_type', 'finfo', 'fix', 'flatiter', 'flatnonzero', 'flexible', 'flip', 'fliplr', 'flipud', 'float16', 'float32', 'float64', 'float_', 'float_power', 'floating', 'floor', 'floor_divide', 'fmax', 'fmin', 'fmod', 'format_float_positional', 'format_float_scientific', 'format_parser', 'frexp', 'from_dlpack', 'frombuffer', 'fromfile', 'fromfunction', 'fromiter', 'frompyfunc', 'fromregex', 'fromstring', 'full', 'full_like', 'gcd', 'generic', 'genfromtxt', 'geomspace', 'get_array_wrap', 'get_include', 'get_printoptions', 'getbufsize', 'geterr', 'geterrcall', 'geterrobj', 'gradient', 'greater', 'greater_equal', 'half', 'hamming', 'hanning', 'heaviside', 'histogram', 'histogram2d', 'histogram_bin_edges', 'histogramdd', 'hsplit', 'hstack', 'hypot', 'i0', 'identity', 'iinfo', 'imag', 'in1d', 'index_exp', 'indices', 'inexact', 'inf', 'info', 'infty', 'inner', 'insert', 'int16', 'int32', 'int64', 'int8', 'int_', 'intc', 'integer', 'interp', 'intersect1d', 'intp', 'invert', 'is_busday', 'isclose', 'iscomplex', 'iscomplexobj', 'isfinite', 'isfortran', 'isin', 'isinf', 'isnan', 'isnat', 'isneginf', 'isposinf', 'isreal', 'isrealobj', 'isscalar', 'issctype', 'issubclass_', 'issubdtype', 'issubsctype', 'iterable', 'ix_', 'kaiser', 'kron', 'lcm', 'ldexp', 'left_shift', 'less', 'less_equal', 'lexsort', 'lib', 'linalg', 'linspace', 'little_endian', 'load', 'loadtxt', 'log', 'log10', 'log1p', 'log2', 'logaddexp', 'logaddexp2', 'logical_and', 'logical_not', 'logical_or', 'logical_xor', 'logspace', 'longcomplex', 'longdouble', 'longfloat', 'longlong', 'lookfor', 'ma', 'mask_indices', 'mat', 'matmul', 'matrix', 'max', 'maximum', 'maximum_sctype', 'may_share_memory', 'mean', 'median', 'memmap', 'meshgrid', 'mgrid', 'min', 'min_scalar_type', 'minimum', 'mintypecode', 'mod', 'modf', 'moveaxis', 'msort', 'multiply', 'nan', 'nan_to_num', 'nanargmax', 'nanargmin', 'nancumprod', 'nancumsum', 'nanmax', 'nanmean', 'nanmedian', 'nanmin', 'nanpercentile', 'nanprod', 'nanquantile', 'nanstd', 'nansum', 'nanvar', 'nbytes', 'ndarray', 'ndenumerate', 'ndim', 'ndindex', 'nditer', 'negative', 'nested_iters', 'newaxis', 'nextafter', 'nonzero', 'not_equal', 'numarray', 'number', 'obj2sctype', 'object_', 'ogrid', 'oldnumeric', 'ones', 'ones_like', 'outer', 'packbits', 'pad', 'partition', 'percentile', 'pi', 'piecewise', 'place', 'poly', 'poly1d', 'polyadd', 'polyder', 'polydiv', 'polyfit', 'polyint', 'polymul', 'polynomial', 'polysub', 'polyval', 'positive', 'power', 'printoptions', 'prod', 'product', 'promote_types', 'ptp', 'put', 'put_along_axis', 'putmask', 'quantile', 'r_', 'rad2deg', 'radians', 'random', 'ravel', 'ravel_multi_index', 'real', 'real_if_close', 'rec', 'recarray', 'recfromcsv', 'recfromtxt', 'reciprocal', 'record', 'remainder', 'repeat', 'require', 'reshape', 'resize', 'result_type', 'right_shift', 'rint', 'roll', 'rollaxis', 'roots', 'rot90', 'round', 'round_', 'row_stack', 's_', 'safe_eval', 'save', 'savetxt', 'savez', 'savez_compressed', 'sctype2char', 'sctypeDict', 'sctypes', 'searchsorted', 'select', 'set_numeric_ops', 'set_printoptions', 'set_string_function', 'setbufsize', 'setdiff1d', 'seterr', 'seterrcall', 'seterrobj', 'setxor1d', 'shape', 'shares_memory', 'short', 'show_config', 'show_runtime', 'sign', 'signbit', 'signedinteger', 'sin', 'sinc', 'single', 'singlecomplex', 'sinh', 'size', 'sometrue', 'sort', 'sort_complex', 'source', 'spacing', 'split', 'sqrt', 'square', 'squeeze', 'stack', 'std', 'str_', 'string_', 'subtract', 'sum', 'swapaxes', 'take', 'take_along_axis', 'tan', 'tanh', 'tensordot', 'test', 'testing', 'tile', 'timedelta64', 'trace', 'tracemalloc_domain', 'transpose', 'trapz', 'tri', 'tril', 'tril_indices', 'tril_indices_from', 'trim_zeros', 'triu', 'triu_indices', 'triu_indices_from', 'true_divide', 'trunc', 'typecodes', 'typename', 'ubyte', 'ufunc', 'uint', 'uint16', 'uint32', 'uint64', 'uint8', 'uintc', 'uintp', 'ulonglong', 'unicode_', 'union1d', 'unique', 'unpackbits', 'unravel_index', 'unsignedinteger', 'unwrap', 'ushort', 'vander', 'var', 'vdot', 'vectorize', 'version', 'void', 'vsplit', 'vstack', 'where', 'who', 'zeros', 'zeros_like']\n"
     ]
    },
    {
     "data": {
      "text/plain": [
       "591"
      ]
     },
     "execution_count": 5,
     "metadata": {},
     "output_type": "execute_result"
    }
   ],
   "source": [
    "import numpy as np\n",
    "print(dir(np))  # all the functions in nmpy \n",
    "len(dir(np))"
   ]
  },
  {
   "cell_type": "markdown",
   "id": "5696915d-63c4-4c9c-b25d-a28b3e48522a",
   "metadata": {},
   "source": [
    "##### Q. What is NumPy Array?\n",
    "\n",
    "- A NumPy array, also known as an ndarray, is the foundation of NumPy. It's a powerful n-dimensional array object designed specifically for storing and manipulating numerical data in Python.\n",
    " "
   ]
  },
  {
   "cell_type": "code",
   "execution_count": 15,
   "id": "729e4c66-7bfd-4a19-9f48-feed2c7baa0a",
   "metadata": {},
   "outputs": [
    {
     "name": "stdout",
     "output_type": "stream",
     "text": [
      "[1 2 3]\n",
      "['1' '2' '3']\n",
      "[1. 2. 3.]\n",
      "[1. 2. 3.]\n"
     ]
    }
   ],
   "source": [
    "# Numpy stores a single type of data if ther is a float in data it will make allthe items as float \n",
    "# and if there is a string in the data it will make all the data string \n",
    "\n",
    "\n",
    "import numpy as np\n",
    "\n",
    "r=np.array([1,2,3])\n",
    "print(r)\n",
    "\n",
    "r1=np.array([1,2,'3'])\n",
    "print(r1)  # it made all the items string \n",
    "\n",
    "r2=np.array([1,2,3.0])\n",
    "print(r2) # here it made all the items float \n",
    "\n",
    "r3=np.array([1,2.0,3.0])\n",
    "print(r3)"
   ]
  },
  {
   "cell_type": "code",
   "execution_count": 1,
   "id": "20b3a175-cb14-4661-8de5-41a14a4fa5bd",
   "metadata": {},
   "outputs": [
    {
     "name": "stdout",
     "output_type": "stream",
     "text": [
      "[1 2 3]\n"
     ]
    },
    {
     "data": {
      "text/plain": [
       "numpy.ndarray"
      ]
     },
     "execution_count": 1,
     "metadata": {},
     "output_type": "execute_result"
    }
   ],
   "source": [
    "# single-dimensional NumPy\n",
    "\n",
    "import numpy as np\n",
    "\n",
    "a=np.array([1,2,3])\n",
    "print(a)\n",
    "type(a)\n",
    "\n",
    "# [1 2 3] is not list it is a array cause it do not have commas\n",
    "\n",
    "# ndaarray means  n-dimensional  array "
   ]
  },
  {
   "cell_type": "code",
   "execution_count": 3,
   "id": "45176b0d-d301-455c-aaed-00edef161e91",
   "metadata": {},
   "outputs": [
    {
     "name": "stdout",
     "output_type": "stream",
     "text": [
      "{3, 4, 5}\n",
      "<class 'numpy.ndarray'>\n"
     ]
    },
    {
     "data": {
      "text/plain": [
       "0"
      ]
     },
     "execution_count": 3,
     "metadata": {},
     "output_type": "execute_result"
    }
   ],
   "source": [
    "b=np.array({3,4,5})\n",
    "print(b)\n",
    "print(type(b))\n",
    "b.ndim"
   ]
  },
  {
   "cell_type": "code",
   "execution_count": 4,
   "id": "cf6f7118-1b8f-4f6d-a4a0-2bea559117cc",
   "metadata": {},
   "outputs": [
    {
     "name": "stdout",
     "output_type": "stream",
     "text": [
      "0\n",
      "()\n"
     ]
    }
   ],
   "source": [
    "b1=np.array({12,13,14})\n",
    "print(b1.ndim)\n",
    "print(b1.shape)"
   ]
  },
  {
   "cell_type": "code",
   "execution_count": 8,
   "id": "c6138848-c1e9-4929-9d69-27eaa2361051",
   "metadata": {},
   "outputs": [
    {
     "ename": "TypeError",
     "evalue": "unhashable type: 'set'",
     "output_type": "error",
     "traceback": [
      "\u001b[1;31m---------------------------------------------------------------------------\u001b[0m",
      "\u001b[1;31mTypeError\u001b[0m                                 Traceback (most recent call last)",
      "Cell \u001b[1;32mIn[8], line 1\u001b[0m\n\u001b[1;32m----> 1\u001b[0m b1\u001b[38;5;241m=\u001b[39mnp\u001b[38;5;241m.\u001b[39marray({{\u001b[38;5;241m12\u001b[39m,\u001b[38;5;241m13\u001b[39m,\u001b[38;5;241m14\u001b[39m}})\n\u001b[0;32m      2\u001b[0m \u001b[38;5;28mprint\u001b[39m(b1\u001b[38;5;241m.\u001b[39mndim)\n\u001b[0;32m      3\u001b[0m \u001b[38;5;28mprint\u001b[39m(b1\u001b[38;5;241m.\u001b[39mshape)\n",
      "\u001b[1;31mTypeError\u001b[0m: unhashable type: 'set'"
     ]
    }
   ],
   "source": [
    "b1=np.array({{12,13,14}})\n",
    "print(b1.ndim)\n",
    "print(b1.shape)"
   ]
  },
  {
   "cell_type": "code",
   "execution_count": null,
   "id": "bcdbc3cc-2312-4e48-bde0-d21302df2398",
   "metadata": {},
   "outputs": [],
   "source": []
  },
  {
   "cell_type": "code",
   "execution_count": 6,
   "id": "a893ccde-4af5-4d31-810a-29921e0fdafd",
   "metadata": {},
   "outputs": [
    {
     "name": "stdout",
     "output_type": "stream",
     "text": [
      "[[1 2 3]\n",
      " [4 5 6]\n",
      " [7 8 9]]\n",
      "<class 'numpy.ndarray'>\n"
     ]
    }
   ],
   "source": [
    "# 2-dimensional Array\n",
    "\n",
    "c=np.array([(1,2,3),(4,5,6),(7,8,9)])\n",
    "print(c)\n",
    "print(type(c))"
   ]
  },
  {
   "cell_type": "code",
   "execution_count": null,
   "id": "6860312d-7ae6-4a9c-b910-68c34d84ecf3",
   "metadata": {},
   "outputs": [],
   "source": []
  },
  {
   "cell_type": "code",
   "execution_count": 36,
   "id": "80429127-fba5-4f58-95c7-908aded045a8",
   "metadata": {},
   "outputs": [
    {
     "name": "stdout",
     "output_type": "stream",
     "text": [
      "[[[1 2 3]\n",
      "  [4 5 6]\n",
      "  [7 8 9]]\n",
      "\n",
      " [[0 9 8]\n",
      "  [5 6 7]\n",
      "  [3 5 2]]]\n",
      "3\n",
      "(2, 3, 3)\n"
     ]
    }
   ],
   "source": [
    "# 3-dimensional Array \n",
    "\n",
    "d=np.array([[(1,2,3),(4,5,6),(7,8,9)],  [(0,9,8),(5,6,7),(3,5,2)]])\n",
    "\n",
    "print(d)\n",
    "\n",
    "print(d.ndim)\n",
    "\n",
    "print(d.shape)"
   ]
  },
  {
   "cell_type": "code",
   "execution_count": null,
   "id": "0242f978-44af-430c-8124-ae7505d6a057",
   "metadata": {},
   "outputs": [],
   "source": []
  },
  {
   "cell_type": "code",
   "execution_count": 1,
   "id": "e6ab6102-1ffe-4e44-aee1-764a0eabb19c",
   "metadata": {},
   "outputs": [
    {
     "name": "stdout",
     "output_type": "stream",
     "text": [
      "[[[[1 2 3]\n",
      "   [4 5 6]\n",
      "   [7 8 9]]\n",
      "\n",
      "  [[1 2 3]\n",
      "   [4 5 6]\n",
      "   [7 8 9]]\n",
      "\n",
      "  [[1 2 3]\n",
      "   [4 5 6]\n",
      "   [7 8 9]]]]\n",
      "4\n"
     ]
    }
   ],
   "source": [
    "# 4-dimensional Array \n",
    "import numpy as np\n",
    "\n",
    "e=np.array([[[(1,2,3),(4,5,6),(7,8,9)],[(1,2,3),(4,5,6),(7,8,9)],[(1,2,3),(4,5,6),(7,8,9)]]])\n",
    "\n",
    "print(e)\n",
    "\n",
    "print(e.ndim)"
   ]
  },
  {
   "cell_type": "code",
   "execution_count": 16,
   "id": "37e6333b-c1cc-4ed4-a388-9a357bc8d472",
   "metadata": {},
   "outputs": [
    {
     "name": "stdout",
     "output_type": "stream",
     "text": [
      "[[[[1 2 3]\n",
      "   [4 5 6]\n",
      "   [7 8 9]]\n",
      "\n",
      "  [[1 2 3]\n",
      "   [4 5 6]\n",
      "   [7 8 9]]\n",
      "\n",
      "  [[1 2 3]\n",
      "   [4 5 6]\n",
      "   [7 8 9]]\n",
      "\n",
      "  [[1 2 3]\n",
      "   [4 5 6]\n",
      "   [7 8 9]]]]\n",
      "4\n"
     ]
    }
   ],
   "source": [
    "f=np.array([[[(1,2,3),(4,5,6),(7,8,9)],[(1,2,3),(4,5,6),(7,8,9)],[(1,2,3),(4,5,6),(7,8,9)],[(1,2,3),(4,5,6),(7,8,9)]]])\n",
    "\n",
    "print(f)\n",
    "\n",
    "print(f.ndim)"
   ]
  },
  {
   "cell_type": "code",
   "execution_count": 18,
   "id": "5a55ee28-6ab7-4f71-8a62-271c2def4100",
   "metadata": {},
   "outputs": [
    {
     "name": "stdout",
     "output_type": "stream",
     "text": [
      "[[[[[1 2 3]\n",
      "    [4 5 6]\n",
      "    [7 8 9]]\n",
      "\n",
      "   [[1 2 3]\n",
      "    [4 5 6]\n",
      "    [7 8 9]]\n",
      "\n",
      "   [[1 2 3]\n",
      "    [4 5 6]\n",
      "    [7 8 9]]\n",
      "\n",
      "   [[1 2 3]\n",
      "    [4 5 6]\n",
      "    [7 8 9]]]]]\n",
      "5\n"
     ]
    }
   ],
   "source": [
    "g=np.array([[[[(1,2,3),(4,5,6),(7,8,9)],[(1,2,3),(4,5,6),(7,8,9)],[(1,2,3),(4,5,6),(7,8,9)],[(1,2,3),(4,5,6),(7,8,9)]]]])\n",
    "\n",
    "print(g)\n",
    "print(g.ndim)"
   ]
  },
  {
   "cell_type": "code",
   "execution_count": null,
   "id": "3eba9e59-c065-4d27-9bbe-f11458d1a0c6",
   "metadata": {},
   "outputs": [],
   "source": []
  },
  {
   "cell_type": "code",
   "execution_count": 20,
   "id": "dda62fce-96c5-44c0-9728-a53a3b6bd607",
   "metadata": {},
   "outputs": [
    {
     "name": "stdout",
     "output_type": "stream",
     "text": [
      "[[[[[[[[1 2 3]\n",
      "       [4 5 6]\n",
      "       [7 8 9]]]]]]]]\n",
      "8\n"
     ]
    }
   ],
   "source": [
    "\n",
    "c=np.array([[[[[[[(1,2,3),(4,5,6),(7,8,9)]]]]]]])\n",
    "print(c)\n",
    "print(c.ndim)"
   ]
  },
  {
   "cell_type": "code",
   "execution_count": null,
   "id": "dd80fd44-02f6-4378-9049-50fd5522337d",
   "metadata": {},
   "outputs": [],
   "source": []
  },
  {
   "cell_type": "code",
   "execution_count": 23,
   "id": "f666659c-c093-4f65-b031-cf1c67d5336d",
   "metadata": {},
   "outputs": [
    {
     "name": "stdout",
     "output_type": "stream",
     "text": [
      "[[[[[1 2 3]]]]]\n",
      "5\n",
      "(1, 1, 1, 1, 3)\n"
     ]
    }
   ],
   "source": [
    "a=np.array([[[[[1,2,3]]]]])\n",
    "print(a)\n",
    "print(a.ndim)\n",
    "print(a.shape)"
   ]
  },
  {
   "cell_type": "code",
   "execution_count": null,
   "id": "600c6fb9-e416-42bf-89f2-39513eea4891",
   "metadata": {},
   "outputs": [],
   "source": []
  },
  {
   "cell_type": "code",
   "execution_count": null,
   "id": "9bd702f0-7044-4101-9f70-1347a6a89646",
   "metadata": {},
   "outputs": [],
   "source": []
  },
  {
   "cell_type": "code",
   "execution_count": null,
   "id": "96818a27-bc2d-4cc6-a628-cc3a15c5e6e0",
   "metadata": {},
   "outputs": [],
   "source": []
  },
  {
   "cell_type": "markdown",
   "id": "fc45af06-bde8-43f2-8905-fcf6ce8134df",
   "metadata": {},
   "source": [
    "#### Q. Why do we use NumPy if we alrrady have Pyhton list?\n",
    "\n",
    "- Python Numpy Array v/s List\n",
    "- Why Numpy is used in pythonn ? we use pyhton array instead of a list becuase of the below three reasons\n",
    "\n",
    "     1. Less Memory\n",
    "     2. Fast\n",
    "     3.  Convenient\n",
    "\n",
    "The very first reason to choose NumPy is that it occuples less Memory as compared the list then. it is fast in terms of execution and at the same time , It is very convenient to work with NumPy .So these are the major advantages that pyhton Nimpy array has over list Consider the below example"
   ]
  },
  {
   "cell_type": "code",
   "execution_count": 2,
   "id": "8be5a08f-6759-4bbd-b2db-185b8fc480de",
   "metadata": {},
   "outputs": [
    {
     "name": "stdout",
     "output_type": "stream",
     "text": [
      "28000\n",
      "4000\n"
     ]
    }
   ],
   "source": [
    "import numpy as np\n",
    "import time\n",
    "import sys\n",
    "\n",
    "S =range(1000)\n",
    "print(sys.getsizeof(5)*len(S))\n",
    "\n",
    "d=np.arange(1000)\n",
    "print(d.size*d.itemsize)"
   ]
  },
  {
   "cell_type": "markdown",
   "id": "5fb568f6-0dc6-4197-921a-7708028fbacd",
   "metadata": {},
   "source": [
    "The above output shows the memory allocated by list (denoted by S) is 28000 whereas the memory allocated by the Numpy is just 4000 from this you can conclude that there is a major difference between the two and this Python Numpy array as the preferred choice over list\n",
    "\n",
    "Now, let's talk about NumPy array is faster and more convenient whe compared to list "
   ]
  },
  {
   "cell_type": "code",
   "execution_count": null,
   "id": "a29c819b-a6bd-416d-885e-6d85b4aaeeed",
   "metadata": {},
   "outputs": [],
   "source": []
  },
  {
   "cell_type": "markdown",
   "id": "edb0b37e-9783-4ff9-8bf7-bb45e0bcfb1e",
   "metadata": {},
   "source": [
    "#### Pyhton NumPy Operations "
   ]
  },
  {
   "cell_type": "markdown",
   "id": "27ed1748-89bc-4267-86de-221d716f3b88",
   "metadata": {},
   "source": [
    "- Numpy Array\n",
    "\n",
    "  You can find the dimension of array, whetherit is a two dimensional array or a single dimensional array "
   ]
  },
  {
   "cell_type": "markdown",
   "id": "acf83a07-3e79-4b22-996f-d01e98f1cafd",
   "metadata": {},
   "source": [
    "- ndim"
   ]
  },
  {
   "cell_type": "code",
   "execution_count": 38,
   "id": "26451d65-a81a-4f2e-be76-1c0e8cae0b9d",
   "metadata": {},
   "outputs": [
    {
     "name": "stdout",
     "output_type": "stream",
     "text": [
      "2\n"
     ]
    }
   ],
   "source": [
    "import numpy as np\n",
    "a=np.array([(1,2,3),(4,5,6)])\n",
    "\n",
    "print(a.ndim)"
   ]
  },
  {
   "cell_type": "markdown",
   "id": "bffddd3a-0ebf-45b0-b07f-ad7153faa6f8",
   "metadata": {},
   "source": [
    "#### itemsize\n",
    "\n",
    "You  can calculate the bite size of each element. in the below code , here it is defined a single dimensional array and with the help of 'itemsize' function we can find the size of each element \n",
    "\n",
    "#### Size"
   ]
  },
  {
   "cell_type": "code",
   "execution_count": 3,
   "id": "9641c6e1-5a85-4659-81ed-cf0c02fef767",
   "metadata": {},
   "outputs": [
    {
     "name": "stdout",
     "output_type": "stream",
     "text": [
      "4\n",
      "2\n",
      "(2, 3)\n",
      "6\n"
     ]
    }
   ],
   "source": [
    "import numpy as np\n",
    "a=np.array([(1,2,3),(4,5,6)])\n",
    "print(a.itemsize)\n",
    "print(a.ndim)\n",
    "print(a.shape)\n",
    "print(a.size)"
   ]
  },
  {
   "cell_type": "code",
   "execution_count": 2,
   "id": "3ece92b3-29d3-4efd-bc84-33d69067a864",
   "metadata": {},
   "outputs": [
    {
     "name": "stdout",
     "output_type": "stream",
     "text": [
      "[[[1 2 3 4]\n",
      "  [0 9 8 6]]]\n",
      "3\n",
      "(1, 2, 4)\n",
      "\n",
      "\n",
      "4\n",
      "\n",
      "\n",
      "8\n"
     ]
    }
   ],
   "source": [
    "import numpy as np \n",
    "\n",
    "b1=np.array([[(1,2,3,4),(0,9,8,6)]])\n",
    "\n",
    "print(b1)\n",
    "print(b1.ndim)\n",
    "print(b1.shape)\n",
    "print('\\n')\n",
    "print(b1.itemsize)\n",
    "print('\\n')\n",
    "\n",
    "print(b1.size)"
   ]
  },
  {
   "cell_type": "code",
   "execution_count": 24,
   "id": "d2e577f2-aa01-439f-967c-6e4503d08945",
   "metadata": {},
   "outputs": [
    {
     "name": "stdout",
     "output_type": "stream",
     "text": [
      "[[1 2 3 4]\n",
      " [0 9 8 6]]\n",
      "2\n",
      "(2, 4)\n",
      "\n",
      "\n",
      "4\n"
     ]
    }
   ],
   "source": [
    "b1=np.array([(1,2,3,4),(0,9,8,6)])\n",
    "\n",
    "print(b1)\n",
    "print(b1.ndim)\n",
    "print(b1.shape)\n",
    "print('\\n')\n",
    "print(b1.itemsize)"
   ]
  },
  {
   "cell_type": "code",
   "execution_count": 16,
   "id": "7e331849-bb3f-4a02-a81a-c90599fbc438",
   "metadata": {},
   "outputs": [
    {
     "ename": "ValueError",
     "evalue": "setting an array element with a sequence. The requested array has an inhomogeneous shape after 1 dimensions. The detected shape was (3,) + inhomogeneous part.",
     "output_type": "error",
     "traceback": [
      "\u001b[1;31m---------------------------------------------------------------------------\u001b[0m",
      "\u001b[1;31mValueError\u001b[0m                                Traceback (most recent call last)",
      "Cell \u001b[1;32mIn[16], line 1\u001b[0m\n\u001b[1;32m----> 1\u001b[0m b1\u001b[38;5;241m=\u001b[39mnp\u001b[38;5;241m.\u001b[39marray([(\u001b[38;5;241m1\u001b[39m,\u001b[38;5;241m2\u001b[39m,\u001b[38;5;241m3\u001b[39m,\u001b[38;5;241m4\u001b[39m),(\u001b[38;5;241m0\u001b[39m,\u001b[38;5;241m9\u001b[39m,\u001b[38;5;241m8\u001b[39m,\u001b[38;5;241m6\u001b[39m),(\u001b[38;5;241m11\u001b[39m,\u001b[38;5;241m12\u001b[39m,\u001b[38;5;241m13\u001b[39m,\u001b[38;5;241m14\u001b[39m,\u001b[38;5;241m12\u001b[39m)])\n\u001b[0;32m      3\u001b[0m \u001b[38;5;28mprint\u001b[39m(b1)\n\u001b[0;32m      4\u001b[0m \u001b[38;5;28mprint\u001b[39m(b1\u001b[38;5;241m.\u001b[39mndim)\n",
      "\u001b[1;31mValueError\u001b[0m: setting an array element with a sequence. The requested array has an inhomogeneous shape after 1 dimensions. The detected shape was (3,) + inhomogeneous part."
     ]
    }
   ],
   "source": [
    "b1=np.array([(1,2,3,4),(0,9,8,6),(11,12,13,14,12)])\n",
    "\n",
    "print(b1)\n",
    "print(b1.ndim)\n",
    "print(b1.shape)\n",
    "print('\\n')\n",
    "print(b1.itemsize)"
   ]
  },
  {
   "cell_type": "code",
   "execution_count": 17,
   "id": "7f7f517c-7444-4f22-af72-3ae07c3f7ea5",
   "metadata": {},
   "outputs": [
    {
     "name": "stdout",
     "output_type": "stream",
     "text": [
      "[[ 1  2  3  4]\n",
      " [ 0  9  8  6]\n",
      " [11 12 13 14]]\n",
      "2\n",
      "(3, 4)\n",
      "\n",
      "\n",
      "4\n"
     ]
    }
   ],
   "source": [
    "b1=np.array([(1,2,3,4),(0,9,8,6),(11,12,13,14)])\n",
    "\n",
    "print(b1)\n",
    "print(b1.ndim)\n",
    "print(b1.shape)\n",
    "print('\\n')\n",
    "print(b1.itemsize)\n"
   ]
  },
  {
   "cell_type": "code",
   "execution_count": 4,
   "id": "01e61709-a90f-4c53-b967-ad155acf1de2",
   "metadata": {},
   "outputs": [
    {
     "name": "stdout",
     "output_type": "stream",
     "text": [
      "[[[[ 1  2  3  0  4]\n",
      "   [ 0  9  8  6  0]\n",
      "   [12 34 45 23 11]\n",
      "   [ 1  2  4  6  7]]]]\n",
      "4\n",
      "(1, 1, 4, 5)\n",
      "\n",
      "\n",
      "4\n",
      "20\n"
     ]
    }
   ],
   "source": [
    "b1=np.array([[[([1,2,3,0,4]),([0,9,8,6,0]),([12,34,45,23,11]),([1,2,4,6,7])]]])\n",
    "\n",
    "print(b1)\n",
    "print(b1.ndim)\n",
    "print(b1.shape)\n",
    "print('\\n')\n",
    "print(b1.itemsize)\n",
    "print(b1.size)"
   ]
  },
  {
   "cell_type": "code",
   "execution_count": null,
   "id": "a5818833-f136-4654-bc0b-ca5a07d84699",
   "metadata": {},
   "outputs": [],
   "source": []
  },
  {
   "cell_type": "markdown",
   "id": "321f6b9d-f20f-4918-8c9a-91435f390d1f",
   "metadata": {},
   "source": [
    "- Datatype\n",
    "\n",
    "   You can find the data type of the elements that are stored in an array . so if you want to know the data type of a paticular element , ypu can use 'dtype' function which will print the datatype along with the size. In the below code, we have defined an array where we used the same function "
   ]
  },
  {
   "cell_type": "code",
   "execution_count": 1,
   "id": "ef4d385f-e060-4af4-a6d4-76f9b2861b74",
   "metadata": {},
   "outputs": [
    {
     "name": "stdout",
     "output_type": "stream",
     "text": [
      "int32\n"
     ]
    }
   ],
   "source": [
    "import numpy as np\n",
    "a=np.array([(1,2,3)])\n",
    "print(a.dtype)"
   ]
  },
  {
   "cell_type": "code",
   "execution_count": 2,
   "id": "2691db50-5107-4e05-9212-8bdd05df5a6c",
   "metadata": {},
   "outputs": [
    {
     "data": {
      "text/plain": [
       "dtype('<U32')"
      ]
     },
     "execution_count": 2,
     "metadata": {},
     "output_type": "execute_result"
    }
   ],
   "source": [
    "a1=np.array(['pawan',12,34,3.4])\n",
    "a1.dtype"
   ]
  },
  {
   "cell_type": "code",
   "execution_count": 10,
   "id": "a98cc1de-0f19-4d90-a772-00270f677a26",
   "metadata": {},
   "outputs": [
    {
     "data": {
      "text/plain": [
       "dtype('float64')"
      ]
     },
     "execution_count": 10,
     "metadata": {},
     "output_type": "execute_result"
    }
   ],
   "source": [
    "a1=np.array([])  # By default it is float so empty array is also float \n",
    "a1.dtype"
   ]
  },
  {
   "cell_type": "code",
   "execution_count": 9,
   "id": "f4c4987c-afa0-458f-bdf0-03c9f382fba9",
   "metadata": {},
   "outputs": [
    {
     "data": {
      "text/plain": [
       "dtype('float64')"
      ]
     },
     "execution_count": 9,
     "metadata": {},
     "output_type": "execute_result"
    }
   ],
   "source": [
    "a1=np.array([3.4])\n",
    "a1.dtype"
   ]
  },
  {
   "cell_type": "code",
   "execution_count": 3,
   "id": "dcd89c5e-529a-44f0-ac18-2c70e337066e",
   "metadata": {},
   "outputs": [
    {
     "data": {
      "text/plain": [
       "dtype('<U5')"
      ]
     },
     "execution_count": 3,
     "metadata": {},
     "output_type": "execute_result"
    }
   ],
   "source": [
    "a2=np.array(['pawan'])\n",
    "a2.dtype"
   ]
  },
  {
   "cell_type": "code",
   "execution_count": 15,
   "id": "4df9e928-f6ed-4d3f-b0f9-ef58c6b9c657",
   "metadata": {},
   "outputs": [
    {
     "data": {
      "text/plain": [
       "dtype('float64')"
      ]
     },
     "execution_count": 15,
     "metadata": {},
     "output_type": "execute_result"
    }
   ],
   "source": [
    "a1=np.array([()])\n",
    "a1.dtype"
   ]
  },
  {
   "cell_type": "markdown",
   "id": "80d5f5c9-7e86-4718-a7b8-bdba6c4a1290",
   "metadata": {},
   "source": [
    "As you can see the data type of the array is integer 32 bits. similarly, you can find the size and shape of the array using 'size' and               'shape' funtion  respectively "
   ]
  },
  {
   "cell_type": "code",
   "execution_count": null,
   "id": "f9d83780-2b04-4c5e-85b5-4e61a0e27b80",
   "metadata": {},
   "outputs": [],
   "source": []
  },
  {
   "cell_type": "markdown",
   "id": "123d0a59-f9b5-4ee8-9dfb-c7801d1ff448",
   "metadata": {},
   "source": [
    "#### Size\n",
    "  tells about the total no. of elements in an array \n",
    "#### shape\n",
    "   tells about the number of rows and coloumn "
   ]
  },
  {
   "cell_type": "code",
   "execution_count": 42,
   "id": "d10c80de-be93-4b02-ba17-75069e84952f",
   "metadata": {},
   "outputs": [
    {
     "name": "stdout",
     "output_type": "stream",
     "text": [
      "7\n",
      "(1, 7)\n"
     ]
    }
   ],
   "source": [
    "import numpy as np\n",
    "a=np.array([(1,2,3,4,5,6,9)])\n",
    "\n",
    "print(a.size)\n",
    "print(a.shape)"
   ]
  },
  {
   "cell_type": "markdown",
   "id": "07c08133-2181-4944-a787-3e6c433df5ac",
   "metadata": {},
   "source": [
    "- reshape\n",
    "\n",
    "  reshape is  when you change the number of rows and coloumn which gives a new view to an object "
   ]
  },
  {
   "cell_type": "code",
   "execution_count": 45,
   "id": "e7d3fb45-f8e0-4329-b927-1d79bcd64c59",
   "metadata": {},
   "outputs": [
    {
     "name": "stdout",
     "output_type": "stream",
     "text": [
      "[[ 8  9 10]\n",
      " [11 12 13]]\n",
      "\n",
      "\n",
      "[[ 8  9]\n",
      " [10 11]\n",
      " [12 13]]\n"
     ]
    }
   ],
   "source": [
    "a= np.array([(8,9,10),(11,12,13)])\n",
    "print(a)\n",
    "print('\\n')\n",
    "a=a.reshape(3,2)\n",
    "print(a)"
   ]
  },
  {
   "cell_type": "code",
   "execution_count": null,
   "id": "aee03deb-efef-41a9-ba94-82046cb6f225",
   "metadata": {},
   "outputs": [],
   "source": []
  },
  {
   "cell_type": "markdown",
   "id": "2f797409-17f8-42b3-ab26-64b002360c4a",
   "metadata": {},
   "source": [
    "- Sclicing\n",
    "\n",
    "  this is similar to the the one which is there in the list as well"
   ]
  },
  {
   "cell_type": "code",
   "execution_count": 3,
   "id": "720fbd8f-628a-419c-a873-5a8ed9462685",
   "metadata": {},
   "outputs": [
    {
     "name": "stdout",
     "output_type": "stream",
     "text": [
      "3\n"
     ]
    }
   ],
   "source": [
    "import numpy as np\n",
    "a=np.array([(1,2,3,4),(3,4,5,6)])\n",
    "print(a[0,2]) \n",
    "\n",
    "# here row(1,2,3,4)mis at index 0 and row (3,4,5,6) is at index 2\n",
    "# so it is showing the 2nd item at index 0 ie;3"
   ]
  },
  {
   "cell_type": "code",
   "execution_count": 5,
   "id": "463e8463-25f1-45ac-8a29-e7b07985793b",
   "metadata": {},
   "outputs": [
    {
     "name": "stdout",
     "output_type": "stream",
     "text": [
      "4\n",
      "5\n"
     ]
    }
   ],
   "source": [
    "import numpy as np\n",
    "a=np.array([(1,2,3,4),(3,4,5,6)])\n",
    "print(a[0,3])\n",
    "print(a[1,2])\n"
   ]
  },
  {
   "cell_type": "code",
   "execution_count": 4,
   "id": "e8f8f0aa-6730-49bc-8393-ba6a64f3b47e",
   "metadata": {},
   "outputs": [
    {
     "name": "stdout",
     "output_type": "stream",
     "text": [
      "[[ 1  2  3  5  2  2  2]\n",
      " [ 2  2  3  6 78 12 12]\n",
      " [89  6  2 45 67 12 33]]\n"
     ]
    },
    {
     "data": {
      "text/plain": [
       "3"
      ]
     },
     "execution_count": 4,
     "metadata": {},
     "output_type": "execute_result"
    }
   ],
   "source": [
    "import numpy as np \n",
    "x=[1,2,3,5,2,2,2]\n",
    "y=[2,2,3,6,78,12,12]\n",
    "z=[89,6,2,45,67,12,33]\n",
    "\n",
    "paw=np.array([x,y,z])\n",
    "print(paw)   \n",
    "\n",
    "paw[1,2]"
   ]
  },
  {
   "cell_type": "code",
   "execution_count": null,
   "id": "a2f27f18-6e58-49e1-8f76-c350a5996235",
   "metadata": {},
   "outputs": [],
   "source": []
  },
  {
   "cell_type": "code",
   "execution_count": 5,
   "id": "950e6b8a-79ef-480e-b46a-c2d4d2f0963c",
   "metadata": {},
   "outputs": [
    {
     "name": "stdout",
     "output_type": "stream",
     "text": [
      "[3 5]\n"
     ]
    }
   ],
   "source": [
    "a=np.array([(1,2,3,4),(3,4,5,6)])\n",
    "print(a[0:,2]) # calling item ar index 2 from all the rows"
   ]
  },
  {
   "cell_type": "markdown",
   "id": "0bc7b98f-4661-4f5c-9431-d77428a92de5",
   "metadata": {},
   "source": [
    "Here colon represents all the rows , including zero. Now to get 2nd element , we will call index 2 from both of the rows which gives us the value 3 and 5 respectively \n",
    "\n",
    "Next just to remove the condition . let's say we have one more row and don't want to get its 2nd element printed just as the image above. what we can do in such case ? Consider the below code"
   ]
  },
  {
   "cell_type": "code",
   "execution_count": 49,
   "id": "3e1bd985-cff3-4632-8a74-df0b5135a191",
   "metadata": {},
   "outputs": [
    {
     "name": "stdout",
     "output_type": "stream",
     "text": [
      "[[ 8  9]\n",
      " [10 11]\n",
      " [12 13]]\n",
      "\n",
      "\n",
      "[ 9 11]\n"
     ]
    }
   ],
   "source": [
    "a=np.array([(8,9),(10,11),(12,13)])\n",
    "print(a)\n",
    "print('\\n')\n",
    "print(a[0:2,1])"
   ]
  },
  {
   "cell_type": "code",
   "execution_count": 53,
   "id": "9454f181-d1f6-4c6f-8c85-6ee12cb4a912",
   "metadata": {},
   "outputs": [
    {
     "name": "stdout",
     "output_type": "stream",
     "text": [
      "[[ 8  9]\n",
      " [10 11]\n",
      " [12 13]]\n",
      "\n",
      "\n",
      "[ 9 11 13]\n"
     ]
    }
   ],
   "source": [
    "a=np.array([(8,9),(10,11),(12,13)])\n",
    "print(a)\n",
    "print('\\n')\n",
    "\n",
    "print(a[0:,1])"
   ]
  },
  {
   "cell_type": "code",
   "execution_count": 54,
   "id": "7ea99146-be65-4b84-9094-fcb86b73880b",
   "metadata": {},
   "outputs": [
    {
     "name": "stdout",
     "output_type": "stream",
     "text": [
      "[[ 8  9]\n",
      " [10 11]\n",
      " [12 13]]\n",
      "\n",
      "\n",
      "[ 9 11 13]\n"
     ]
    }
   ],
   "source": [
    "a=np.array([(8,9),(10,11),(12,13)])\n",
    "print(a)\n",
    "print('\\n')\n",
    "\n",
    "print(a[:,1])"
   ]
  },
  {
   "cell_type": "markdown",
   "id": "bdc78c3c-5cfb-4144-8422-3fdf89f288d0",
   "metadata": {},
   "source": [
    "#### linspace\n",
    "\n",
    "  this is another operation in python numpy which returns evenly spaced numbers over a specified interval. Consider the below example\n",
    "  "
   ]
  },
  {
   "cell_type": "code",
   "execution_count": 61,
   "id": "b9f40e23-5d06-4720-a730-91bd3e5a59dc",
   "metadata": {},
   "outputs": [
    {
     "name": "stdout",
     "output_type": "stream",
     "text": [
      "[1. 2. 3.]\n"
     ]
    }
   ],
   "source": [
    "a=np.linspace(1,3,3)\n",
    "print(a)"
   ]
  },
  {
   "cell_type": "markdown",
   "id": "eb581acd-391e-49b1-88d4-fe8e5b891b14",
   "metadata": {},
   "source": [
    "As you can see in the result  , it has printed 3 value between 1 to 3"
   ]
  },
  {
   "cell_type": "code",
   "execution_count": 62,
   "id": "72c44568-afa2-44b0-b71d-0d829317b5d9",
   "metadata": {},
   "outputs": [
    {
     "name": "stdout",
     "output_type": "stream",
     "text": [
      "[1.         1.22222222 1.44444444 1.66666667 1.88888889 2.11111111\n",
      " 2.33333333 2.55555556 2.77777778 3.        ]\n"
     ]
    }
   ],
   "source": [
    "a=np.linspace(1,3,10)\n",
    "print(a)"
   ]
  },
  {
   "cell_type": "code",
   "execution_count": 65,
   "id": "9f85c130-6de4-41b8-b021-a7ee82fb281a",
   "metadata": {},
   "outputs": [
    {
     "name": "stdout",
     "output_type": "stream",
     "text": [
      "[1. 3.]\n"
     ]
    }
   ],
   "source": [
    "a=np.linspace(1,3,2)\n",
    "print(a)"
   ]
  },
  {
   "cell_type": "code",
   "execution_count": 7,
   "id": "2f093789-43ff-4290-9c4a-42de29716f5d",
   "metadata": {},
   "outputs": [
    {
     "name": "stdout",
     "output_type": "stream",
     "text": [
      "[1.         1.04081633 1.08163265 1.12244898 1.16326531 1.20408163\n",
      " 1.24489796 1.28571429 1.32653061 1.36734694 1.40816327 1.44897959\n",
      " 1.48979592 1.53061224 1.57142857 1.6122449  1.65306122 1.69387755\n",
      " 1.73469388 1.7755102  1.81632653 1.85714286 1.89795918 1.93877551\n",
      " 1.97959184 2.02040816 2.06122449 2.10204082 2.14285714 2.18367347\n",
      " 2.2244898  2.26530612 2.30612245 2.34693878 2.3877551  2.42857143\n",
      " 2.46938776 2.51020408 2.55102041 2.59183673 2.63265306 2.67346939\n",
      " 2.71428571 2.75510204 2.79591837 2.83673469 2.87755102 2.91836735\n",
      " 2.95918367 3.        ]\n"
     ]
    }
   ],
   "source": [
    "a=np.linspace(1,3)   # by default it will divided into 50 \n",
    "print(a)"
   ]
  },
  {
   "cell_type": "code",
   "execution_count": null,
   "id": "db2316ad-f62b-4e7f-8c93-d4d358d35b0c",
   "metadata": {},
   "outputs": [],
   "source": []
  },
  {
   "cell_type": "markdown",
   "id": "dd3f8f0e-5027-46e8-a5ac-ef1a40228374",
   "metadata": {},
   "source": [
    "- max/min\n",
    "\n",
    "  Next, we have some more operations in numpy such as to find the minimum, maximum as well the sum of the numpy array. let's go ahead in python numpy tutorial and execute it practically "
   ]
  },
  {
   "cell_type": "code",
   "execution_count": 68,
   "id": "5804fbb3-1ac6-4372-bb62-91c51178f632",
   "metadata": {},
   "outputs": [
    {
     "name": "stdout",
     "output_type": "stream",
     "text": [
      "1\n",
      "3\n",
      "6\n"
     ]
    }
   ],
   "source": [
    "a=np.array([1,2,3])\n",
    "print(a.min())\n",
    "print(a.max())\n",
    "print(a.sum())"
   ]
  },
  {
   "cell_type": "code",
   "execution_count": null,
   "id": "80b1aa1f-9224-402e-82b8-2f19d499b344",
   "metadata": {},
   "outputs": [],
   "source": []
  },
  {
   "cell_type": "markdown",
   "id": "1814bc55-520d-41f2-b85e-ce5c1e1b436c",
   "metadata": {},
   "source": [
    "### Axis in NumPy "
   ]
  },
  {
   "cell_type": "markdown",
   "id": "aa79b698-c934-40d5-abbc-1be350fc8e62",
   "metadata": {},
   "source": [
    "- axis=1 is Row\n",
    "- axis=0 is coloum"
   ]
  },
  {
   "cell_type": "code",
   "execution_count": null,
   "id": "2a6d5566-94f6-44d2-b06e-e078e2c5b05b",
   "metadata": {},
   "outputs": [],
   "source": []
  },
  {
   "cell_type": "code",
   "execution_count": 14,
   "id": "9b67eabe-4a64-4f16-974c-631fc6058dc3",
   "metadata": {},
   "outputs": [
    {
     "name": "stdout",
     "output_type": "stream",
     "text": [
      "[[1 2 3]\n",
      " [3 4 5]]\n",
      "[4 6 8]\n"
     ]
    }
   ],
   "source": [
    "import numpy as np\n",
    "\n",
    "a=np.array([(1,2,3),(3,4,5)])\n",
    "print(a)\n",
    "print(a.sum(axis=0))"
   ]
  },
  {
   "cell_type": "code",
   "execution_count": 15,
   "id": "0e7e449f-c114-41b9-803e-f868e1655855",
   "metadata": {},
   "outputs": [
    {
     "name": "stdout",
     "output_type": "stream",
     "text": [
      "[[1 2 3]\n",
      " [3 4 5]]\n",
      "[ 6 12]\n"
     ]
    }
   ],
   "source": [
    "\n",
    "a=np.array([(1,2,3),(3,4,5)])\n",
    "print(a)\n",
    "print(a.sum(axis=1))"
   ]
  },
  {
   "cell_type": "code",
   "execution_count": 12,
   "id": "faec65b1-efb0-49b0-b7fd-3d763b80296d",
   "metadata": {},
   "outputs": [
    {
     "name": "stdout",
     "output_type": "stream",
     "text": [
      "[[[1 2 3]\n",
      "  [3 4 5]]]\n",
      "3\n",
      "\n",
      "\n",
      "[[4 6 8]]\n",
      "\n",
      "\n",
      "[[1 2 3]\n",
      " [3 4 5]]\n"
     ]
    }
   ],
   "source": [
    "\n",
    "a=np.array([[(1,2,3),(3,4,5)]])\n",
    "print(a)\n",
    "print(a.ndim)\n",
    "print('\\n')\n",
    "print(a.sum(axis=1)) # row\n",
    "print('\\n')\n",
    "print(a.sum(axis=0)) # column"
   ]
  },
  {
   "cell_type": "code",
   "execution_count": 10,
   "id": "bf7a39eb-cd76-4911-ae4e-60068d02bbef",
   "metadata": {},
   "outputs": [
    {
     "name": "stdout",
     "output_type": "stream",
     "text": [
      "[[[1 2 3]\n",
      "  [3 4 5]]]\n",
      "3\n",
      "\n",
      "\n",
      "[[4 6 8]]\n",
      "\n",
      "\n",
      "[[ 6 12]]\n"
     ]
    }
   ],
   "source": [
    "a=np.array([[(1,2,3),(3,4,5)]])\n",
    "print(a)\n",
    "print(a.ndim)\n",
    "print('\\n')\n",
    "print(a.sum(axis=1))\n",
    "print('\\n')\n",
    "print(a.sum(axis=2))"
   ]
  },
  {
   "cell_type": "code",
   "execution_count": null,
   "id": "3b4d90c7-3de6-46ae-8ac3-3a0ff08763d6",
   "metadata": {},
   "outputs": [],
   "source": []
  },
  {
   "cell_type": "code",
   "execution_count": 38,
   "id": "0b70a2ab-43bf-4cdf-901b-de9f3e3e7956",
   "metadata": {},
   "outputs": [
    {
     "name": "stdout",
     "output_type": "stream",
     "text": [
      "[[[[ 1  2  3]\n",
      "   [ 3  4  5]]\n",
      "\n",
      "  [[ 6  7  8]\n",
      "   [ 9 10 11]]]]\n",
      "4\n",
      "\n",
      "\n",
      "[[[ 7  9 11]\n",
      "  [12 14 16]]]\n",
      "\n",
      "\n",
      "[[[ 1  2  3]\n",
      "  [ 3  4  5]]\n",
      "\n",
      " [[ 6  7  8]\n",
      "  [ 9 10 11]]]\n"
     ]
    }
   ],
   "source": [
    "a=np.array([[[(1,2,3),(3,4,5)],[(6,7,8),(9,10,11)]]])\n",
    "print(a)\n",
    "print(a.ndim)\n",
    "print('\\n')\n",
    "print(a.sum(axis=1))\n",
    "print('\\n')\n",
    "print(a.sum(axis=0))"
   ]
  },
  {
   "cell_type": "code",
   "execution_count": null,
   "id": "b1083980-e92f-41b3-a4ba-35541f580b58",
   "metadata": {},
   "outputs": [],
   "source": []
  },
  {
   "cell_type": "code",
   "execution_count": null,
   "id": "032da151-a347-4047-9497-aa9cf6c4c038",
   "metadata": {},
   "outputs": [],
   "source": []
  },
  {
   "cell_type": "code",
   "execution_count": 5,
   "id": "de936d7b-61c8-40d8-9997-e4fff3293346",
   "metadata": {},
   "outputs": [
    {
     "name": "stdout",
     "output_type": "stream",
     "text": [
      "[[1.         1.41421356 1.73205081 2.         2.23606798 2.44948974]]\n",
      "1.707825127659933\n",
      "3.5\n",
      "3.5\n",
      "1.15\n"
     ]
    }
   ],
   "source": [
    "import numpy as np\n",
    "\n",
    "a=np.array([(1,2,3,4,5,6)])\n",
    "\n",
    "print(np.sqrt(a))\n",
    "print(np.std(a))\n",
    "print(np.mean(a))\n",
    "print(np.median(a))\n",
    "print(np.percentile(a,3))"
   ]
  },
  {
   "cell_type": "code",
   "execution_count": null,
   "id": "6ca39ed6-16cb-41e5-8b7f-04d71e4f6d38",
   "metadata": {},
   "outputs": [],
   "source": []
  },
  {
   "cell_type": "code",
   "execution_count": 34,
   "id": "7df5f6f1-c2b2-46a1-89d2-ec3cf8601e37",
   "metadata": {},
   "outputs": [
    {
     "name": "stdout",
     "output_type": "stream",
     "text": [
      "[[[1.         1.41421356 1.73205081]\n",
      "  [1.73205081 2.         2.23606798]\n",
      "  [1.         1.41421356 1.        ]\n",
      "  [2.82842712 2.64575131 2.44948974]]]\n",
      "1.0\n"
     ]
    }
   ],
   "source": [
    "a=np.array([[(1,2,3),(3,4,5),(1,2,1),(8,7,6)]])\n",
    "\n",
    "print(np.sqrt(a))\n",
    "\n",
    "print(np.percentile(a,3))"
   ]
  },
  {
   "cell_type": "code",
   "execution_count": null,
   "id": "a24803f3-9c79-4890-b421-a5b1ba9e6665",
   "metadata": {},
   "outputs": [],
   "source": []
  },
  {
   "cell_type": "markdown",
   "id": "7c3d28ae-93c6-4cd2-a9b8-ab7a39b2e9a1",
   "metadata": {},
   "source": [
    "### Operators "
   ]
  },
  {
   "cell_type": "code",
   "execution_count": 43,
   "id": "32e3d0f1-2e3a-4ea7-b4d3-7bcb97446e15",
   "metadata": {},
   "outputs": [
    {
     "name": "stdout",
     "output_type": "stream",
     "text": [
      "[[ 2  4  6]\n",
      " [ 8 10 12]]\n",
      "[[ 1  4  9]\n",
      " [16 25 36]]\n"
     ]
    }
   ],
   "source": [
    "x=np.array([(1,2,3),(4,5,6)])\n",
    "y=np.array([(1,2,3),(4,5,6)])\n",
    "\n",
    "print(x+y)\n",
    "\n",
    "print(x*y)"
   ]
  },
  {
   "cell_type": "code",
   "execution_count": 9,
   "id": "9a8419ff-7fe3-4782-b9d2-7591f016f62a",
   "metadata": {},
   "outputs": [
    {
     "name": "stdout",
     "output_type": "stream",
     "text": [
      "[[[[ 2  4  6]\n",
      "   [ 8 10 12]]]]\n",
      "[[[[ 1  4  9]\n",
      "   [16 25 36]]]]\n"
     ]
    }
   ],
   "source": [
    "import numpy as np\n",
    "\n",
    "x1=np.array([[[(1,2,3),(4,5,6)]]])\n",
    "y1=np.array([[[(1,2,3),(4,5,6)]]])\n",
    "\n",
    "print(x1+y1)\n",
    "\n",
    "print(x1*y1)"
   ]
  },
  {
   "cell_type": "markdown",
   "id": "77dd7eb1-0342-4ce7-a389-cf1e986a28f8",
   "metadata": {},
   "source": [
    "#### Ravel "
   ]
  },
  {
   "cell_type": "code",
   "execution_count": 49,
   "id": "2f0094a2-f0c2-4986-a039-9ec3eb8bdfe5",
   "metadata": {},
   "outputs": [
    {
     "name": "stdout",
     "output_type": "stream",
     "text": [
      "[[1 2 3]\n",
      " [3 4 5]]\n",
      "[1 2 3 3 4 5]\n"
     ]
    }
   ],
   "source": [
    "import numpy as np\n",
    "\n",
    "x=np.array([(1,2,3),(3,4,5)])\n",
    "\n",
    "print(x)\n",
    "print(x.ravel())\n",
    "\n"
   ]
  },
  {
   "cell_type": "code",
   "execution_count": 59,
   "id": "dfb1c1a3-2394-4dc1-a6aa-58b14e4d5ae1",
   "metadata": {},
   "outputs": [
    {
     "name": "stdout",
     "output_type": "stream",
     "text": [
      "3\n",
      "[[[1 2 3]\n",
      "  [3 4 5]]]\n",
      "[1 2 3 3 4 5]\n",
      "1\n"
     ]
    }
   ],
   "source": [
    "x=np.array([[(1,2,3),(3,4,5)]])\n",
    "\n",
    "print(x.ndim)\n",
    "\n",
    "print(x)\n",
    "y=x.ravel()\n",
    "\n",
    "print(y)\n",
    "print(y.ndim)"
   ]
  },
  {
   "cell_type": "code",
   "execution_count": null,
   "id": "61277f2c-e221-4f46-8b61-1d20ab4e9d75",
   "metadata": {},
   "outputs": [],
   "source": []
  },
  {
   "cell_type": "markdown",
   "id": "c8237179-04ad-402a-a6a9-577c8539ebc1",
   "metadata": {},
   "source": [
    "### Memory control in NumPy"
   ]
  },
  {
   "cell_type": "markdown",
   "id": "0ebf5945-a939-4306-8761-4fab2ba1ab0b",
   "metadata": {},
   "source": [
    "- The bit is the most basic unit of information in computing\n",
    "- The byte is a unit of infotmation which contains 8 bits\n",
    "\n",
    "(1byte = 8 bits)"
   ]
  },
  {
   "cell_type": "code",
   "execution_count": null,
   "id": "fa3b223c-54d4-4225-aa27-cf1ccc06c8fe",
   "metadata": {},
   "outputs": [],
   "source": []
  },
  {
   "cell_type": "markdown",
   "id": "0963b173-0f60-4aa5-8a31-dedb79209af6",
   "metadata": {},
   "source": [
    "Usinged Integers(often called \"unit\"s) just like integers (whole numbers) but have the property that they don't have a + or - sign associated with them .Thus they are always non-negative (zero or positive) .We use units when we know the value we are counting will always be non-negative"
   ]
  },
  {
   "cell_type": "code",
   "execution_count": 27,
   "id": "d08bddd6-f4d0-4d4b-a670-28687a2fd7b5",
   "metadata": {},
   "outputs": [
    {
     "data": {
      "text/plain": [
       "dtype('int32')"
      ]
     },
     "execution_count": 27,
     "metadata": {},
     "output_type": "execute_result"
    }
   ],
   "source": [
    "import numpy as np\n",
    "\n",
    "a=np.array([(1,2,3),(3,4,5)]) # 32 bytes integers\n",
    "\n",
    "a.dtype"
   ]
  },
  {
   "cell_type": "code",
   "execution_count": 28,
   "id": "0d5acd29-e208-43b6-b184-bf73dc4cfa3c",
   "metadata": {},
   "outputs": [
    {
     "data": {
      "text/plain": [
       "array([[1, 2, 3],\n",
       "       [3, 4, 5]], dtype=int8)"
      ]
     },
     "execution_count": 28,
     "metadata": {},
     "output_type": "execute_result"
    }
   ],
   "source": [
    "a=np.array([(1,2,3),(3,4,5)],dtype='int8') # changes to less bytes \n",
    "a"
   ]
  },
  {
   "cell_type": "code",
   "execution_count": null,
   "id": "7b5bfc3d-ca07-4ba2-b0bc-1a4d251fc7cb",
   "metadata": {},
   "outputs": [],
   "source": [
    "a= np.array([(1,2,3),(3,4,5)],dtype='int8')"
   ]
  },
  {
   "cell_type": "code",
   "execution_count": null,
   "id": "f4a6978a-33e2-4445-b24e-437fc94d6188",
   "metadata": {},
   "outputs": [],
   "source": []
  },
  {
   "cell_type": "markdown",
   "id": "e4872feb-5b4d-4740-bec5-2b4ded563715",
   "metadata": {},
   "source": [
    "#### Byte String\n",
    "\n",
    "- Byte strings are constrained by the character encoding used. In character encodingf like ASCII, each character is represented by a single       byte,limiting the available characters to the 128 ASCII characters \n",
    "\n",
    "- Unicode strings cover a much larger range of characters, including those from various languages and special symbols\n",
    "\n",
    "- \"object\" data type  is used for all other data types\n",
    "\n",
    "- ASCII( American Standard Code for Information Interchange) is a character encoding standard for electronic communication. ASCII codes represent text in computers, telecommunications equipment, and other devices. Because of technical limitations of computer systems at the time it was invented, ASCII has just 128 code points, of which only 95 are printable characters, which severely limited its scope. Modern computer systems have evolved to use Unicode, which has millions of code points, but the first 128 of these are the same as the ASCII set. \n",
    "  "
   ]
  },
  {
   "cell_type": "code",
   "execution_count": null,
   "id": "7aa669ca-4378-4cb1-b421-2488af524572",
   "metadata": {},
   "outputs": [],
   "source": []
  },
  {
   "cell_type": "markdown",
   "id": "d72e4262-145c-4bd0-92e8-472fbe278c72",
   "metadata": {},
   "source": [
    "- Byte String representation\n",
    "\n",
    "  bytes/bytes_/S/a\n",
    "\n",
    "- Unicode strings representation\n",
    "\n",
    "  U/str/str_/unicode\n",
    "\n",
    "- Object representation\n",
    "\n",
    "  object/O"
   ]
  },
  {
   "cell_type": "code",
   "execution_count": 30,
   "id": "4f83b3ee-e6b9-40a9-a404-37ba155ce769",
   "metadata": {},
   "outputs": [
    {
     "data": {
      "text/plain": [
       "array(['arvind', 'joshi'], dtype='<U6')"
      ]
     },
     "execution_count": 30,
     "metadata": {},
     "output_type": "execute_result"
    }
   ],
   "source": [
    "a=np.array([('arvind'),('joshi')])  # string by default is unicode and\n",
    "                                    # is less than equal to 6\n",
    "a"
   ]
  },
  {
   "cell_type": "code",
   "execution_count": 33,
   "id": "9e9185c5-cd34-4d54-88e9-9f5dd6ff293c",
   "metadata": {},
   "outputs": [
    {
     "data": {
      "text/plain": [
       "array(['arv', 'jos'], dtype='<U3')"
      ]
     },
     "execution_count": 33,
     "metadata": {},
     "output_type": "execute_result"
    }
   ],
   "source": [
    "a=np.array([('arvind'),('joshi')],dtype=\"<U3\")   # changed to <U3\n",
    "a"
   ]
  },
  {
   "cell_type": "code",
   "execution_count": 39,
   "id": "cc77ec7b-c598-4d9f-a972-75f3860ea5c4",
   "metadata": {},
   "outputs": [
    {
     "data": {
      "text/plain": [
       "array(['arvind', 'joshi'], dtype='<U6')"
      ]
     },
     "execution_count": 39,
     "metadata": {},
     "output_type": "execute_result"
    }
   ],
   "source": [
    "a=np.array([('arvind'),('joshi')],dtype=\"<U0\")   # changed to <U3\n",
    "a"
   ]
  },
  {
   "cell_type": "code",
   "execution_count": 36,
   "id": "48310cab-7889-446c-8802-d7f075a4f58b",
   "metadata": {},
   "outputs": [
    {
     "data": {
      "text/plain": [
       "array([b'arvind', b'joshi'], dtype='|S6')"
      ]
     },
     "execution_count": 36,
     "metadata": {},
     "output_type": "execute_result"
    }
   ],
   "source": [
    "# Byte string- ASCII table has 128 characters it limits the data struucture\n",
    "\n",
    "import numpy as np\n",
    "\n",
    "a=np.array([('arvind'),('joshi')],dtype=\"S\")\n",
    "a"
   ]
  },
  {
   "cell_type": "code",
   "execution_count": null,
   "id": "6ac3fe5f-4536-406b-abd2-d8fc334d2174",
   "metadata": {},
   "outputs": [],
   "source": []
  },
  {
   "cell_type": "code",
   "execution_count": null,
   "id": "7e375c6b-267f-4625-9174-a454c106736d",
   "metadata": {},
   "outputs": [],
   "source": []
  },
  {
   "cell_type": "code",
   "execution_count": null,
   "id": "8723675e-2264-47ef-923d-8e6f6bf07fcc",
   "metadata": {},
   "outputs": [],
   "source": []
  },
  {
   "cell_type": "code",
   "execution_count": null,
   "id": "7c25821e-74fa-4f4a-a1f6-3d2fb3b8a22d",
   "metadata": {},
   "outputs": [],
   "source": []
  },
  {
   "cell_type": "code",
   "execution_count": null,
   "id": "cf3a14ff-861d-4348-ad3e-1bb4f23560ed",
   "metadata": {},
   "outputs": [],
   "source": []
  }
 ],
 "metadata": {
  "kernelspec": {
   "display_name": "Python 3 (ipykernel)",
   "language": "python",
   "name": "python3"
  },
  "language_info": {
   "codemirror_mode": {
    "name": "ipython",
    "version": 3
   },
   "file_extension": ".py",
   "mimetype": "text/x-python",
   "name": "python",
   "nbconvert_exporter": "python",
   "pygments_lexer": "ipython3",
   "version": "3.11.7"
  }
 },
 "nbformat": 4,
 "nbformat_minor": 5
}
