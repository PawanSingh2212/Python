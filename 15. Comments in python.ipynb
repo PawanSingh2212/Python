{
 "cells": [
  {
   "cell_type": "markdown",
   "id": "a0d74532",
   "metadata": {},
   "source": [
    "# Docsrting Comments"
   ]
  },
  {
   "cell_type": "code",
   "execution_count": null,
   "id": "598586f8",
   "metadata": {},
   "outputs": [],
   "source": []
  },
  {
   "cell_type": "markdown",
   "id": "f7e6ed96",
   "metadata": {},
   "source": [
    "Docstring comments describes python classes,function,construction,methods.The docstringcomment should appear just after the declaration. Although not mandatory,this is highly recommended"
   ]
  },
  {
   "cell_type": "code",
   "execution_count": 1,
   "id": "2b67ddbf",
   "metadata": {},
   "outputs": [
    {
     "data": {
      "text/plain": [
       "'i have got good salary\\n             good work done.'"
      ]
     },
     "execution_count": 1,
     "metadata": {},
     "output_type": "execute_result"
    }
   ],
   "source": [
    "'''i have got good salary\n",
    "             good work done.'''"
   ]
  },
  {
   "cell_type": "code",
   "execution_count": null,
   "id": "509adfcd",
   "metadata": {},
   "outputs": [],
   "source": []
  }
 ],
 "metadata": {
  "kernelspec": {
   "display_name": "Python 3 (ipykernel)",
   "language": "python",
   "name": "python3"
  },
  "language_info": {
   "codemirror_mode": {
    "name": "ipython",
    "version": 3
   },
   "file_extension": ".py",
   "mimetype": "text/x-python",
   "name": "python",
   "nbconvert_exporter": "python",
   "pygments_lexer": "ipython3",
   "version": "3.11.3"
  }
 },
 "nbformat": 4,
 "nbformat_minor": 5
}
