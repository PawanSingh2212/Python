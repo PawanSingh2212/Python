{
 "cells": [
  {
   "cell_type": "markdown",
   "id": "c9ab9964",
   "metadata": {},
   "source": [
    "# Dictionaries \n",
    "\n",
    "Dictionaries are ordered collections  A unique values stored in (key-value) Pairs -keys is Immutable  "
   ]
  },
  {
   "cell_type": "markdown",
   "id": "4b4732b9",
   "metadata": {},
   "source": [
    "## Chracterstics of Dictionaries "
   ]
  },
  {
   "cell_type": "markdown",
   "id": "1935a557",
   "metadata": {},
   "source": [
    "#### odered \n",
    "\n",
    "#### Unique: The Dic should be unique the (Mutable  type Strings , No , Tuples)\n",
    "\n",
    "#### Mutable : The Dic are changeble collection \n",
    "\n",
    "#### Iterable: in python an  iterable  refers to an object that can be iterated over , meaning you can loop through its element one by one, iterable are a Fundamental concept in python's iteration protocol and they are used in various contexts where you need to rocess elements sequentially , such as in loops and comprehension expression . Example f built in python iterables includes lists, strings, tuples, dictionaries (when iterating over keys, values, or items), aets amd more \n"
   ]
  },
  {
   "cell_type": "markdown",
   "id": "7bf25c74",
   "metadata": {},
   "source": [
    "### creating a dictionaries \n",
    "\n",
    "#### 3 ways\n",
    "\n",
    "- Using curly bracket: The Dic are created by enclosing the comma-separated key:Value pairs inside the{} curly brackets the colon\"\" is used to seperate the key and vaule in a pair \n",
    "\n",
    "- Using dic()constructor: create a dictionary by passing the comma-separated key:value Pairs inside the Dic()\n",
    "\n",
    "- Using Sequence: creating a dictionary having each item as a pair(Key value)"
   ]
  },
  {
   "cell_type": "code",
   "execution_count": 1,
   "id": "6061ae74",
   "metadata": {},
   "outputs": [
    {
     "name": "stdout",
     "output_type": "stream",
     "text": [
      "{'name': 'khusi', 'country': 'usa', 'telephone': 123}\n"
     ]
    }
   ],
   "source": [
    "# creating a dic using{}\n",
    "\n",
    "person= {\"name\":\"khusi\",'country':'usa', \"telephone\":123}\n",
    "print(person)"
   ]
  },
  {
   "cell_type": "code",
   "execution_count": 4,
   "id": "f945aac8",
   "metadata": {},
   "outputs": [
    {
     "name": "stdout",
     "output_type": "stream",
     "text": [
      "{'name': 'gautam', 'country': 'usa', 'telephone': 2567}\n"
     ]
    }
   ],
   "source": [
    "# creating a dic with mixed keys\n",
    "\n",
    "person=dict([('name','gautam'),('country','usa'),('telephone',2567)])\n",
    "\n",
    "print(person)"
   ]
  },
  {
   "cell_type": "code",
   "execution_count": 2,
   "id": "bdb47a9e",
   "metadata": {},
   "outputs": [
    {
     "name": "stdout",
     "output_type": "stream",
     "text": [
      "{'name': 'khusi', 'telephone': [21, 23, 21, 23]}\n"
     ]
    }
   ],
   "source": [
    "# creating a dic with value as a list \n",
    "\n",
    "person={'name':'khusi','telephone':[21,23,21,23]}\n",
    "print(person)"
   ]
  },
  {
   "cell_type": "code",
   "execution_count": 5,
   "id": "5e9bd7c2",
   "metadata": {
    "scrolled": true
   },
   "outputs": [
    {
     "name": "stdout",
     "output_type": "stream",
     "text": [
      "{'name': 'khusi', 10: 'mobile'}\n"
     ]
    }
   ],
   "source": [
    "# creating dic with mixed keys\n",
    "# first key is string and second is an integer\n",
    "\n",
    "sample_dict={'name':'khusi',10:'mobile'}\n",
    "print(sample_dict)"
   ]
  },
  {
   "cell_type": "code",
   "execution_count": 8,
   "id": "a7cc8d6c",
   "metadata": {},
   "outputs": [
    {
     "name": "stdout",
     "output_type": "stream",
     "text": [
      "{'name': 'khushi', 'country': 'khusi'}\n"
     ]
    }
   ],
   "source": [
    "person={'name':'khushi','country':'khusi'}\n",
    "\n",
    "print(person)\n",
    "\n",
    "# values can be duplicates , multiple keys can have same value, keys are immutable\n",
    "# where as value can be either mutable or immutable but dic is mutable as a whole"
   ]
  },
  {
   "cell_type": "code",
   "execution_count": 10,
   "id": "bf4b785f",
   "metadata": {},
   "outputs": [
    {
     "name": "stdout",
     "output_type": "stream",
     "text": [
      "{'name': 'pawan'}\n"
     ]
    }
   ],
   "source": [
    "person={'name':'khushi','name':'pawan'}\n",
    "\n",
    "print(person)           # keys can't be same"
   ]
  },
  {
   "cell_type": "code",
   "execution_count": 16,
   "id": "2d292db3",
   "metadata": {},
   "outputs": [
    {
     "name": "stdout",
     "output_type": "stream",
     "text": [
      "{'date': 4, 'name': 2}\n"
     ]
    },
    {
     "data": {
      "text/plain": [
       "dict"
      ]
     },
     "execution_count": 16,
     "metadata": {},
     "output_type": "execute_result"
    }
   ],
   "source": [
    "dict1=dict({('name',2),('date',4)})\n",
    "\n",
    "print(dict1)\n",
    "type(dict1)"
   ]
  },
  {
   "cell_type": "code",
   "execution_count": 20,
   "id": "dd035875",
   "metadata": {},
   "outputs": [
    {
     "name": "stdout",
     "output_type": "stream",
     "text": [
      "{'name': ['khusi', 'tu'], 'country': 'usa', 'telephone': 123}\n",
      "<class 'dict'>\n",
      "1526503356096\n"
     ]
    }
   ],
   "source": [
    "person={\"name\":[\"khusi\",'tu'],'country':'usa','telephone':123}\n",
    "print(person)\n",
    "print(type(person))\n",
    "print(id(person))"
   ]
  },
  {
   "cell_type": "code",
   "execution_count": 3,
   "id": "6d9be3b5",
   "metadata": {},
   "outputs": [
    {
     "ename": "TypeError",
     "evalue": "unhashable type: 'list'",
     "output_type": "error",
     "traceback": [
      "\u001b[1;31m---------------------------------------------------------------------------\u001b[0m",
      "\u001b[1;31mTypeError\u001b[0m                                 Traceback (most recent call last)",
      "Cell \u001b[1;32mIn[3], line 1\u001b[0m\n\u001b[1;32m----> 1\u001b[0m x\u001b[38;5;241m=\u001b[39m{[\u001b[38;5;241m2\u001b[39m,\u001b[38;5;241m3\u001b[39m,\u001b[38;5;124m'\u001b[39m\u001b[38;5;124mti\u001b[39m\u001b[38;5;124m'\u001b[39m]:\u001b[38;5;241m35\u001b[39m,\u001b[38;5;124m'\u001b[39m\u001b[38;5;124mcountry\u001b[39m\u001b[38;5;124m'\u001b[39m:\u001b[38;5;124m'\u001b[39m\u001b[38;5;124mindia\u001b[39m\u001b[38;5;124m'\u001b[39m,\u001b[38;5;124m'\u001b[39m\u001b[38;5;124mtelephone\u001b[39m\u001b[38;5;124m'\u001b[39m:\u001b[38;5;241m123\u001b[39m}\n\u001b[0;32m      2\u001b[0m \u001b[38;5;28mprint\u001b[39m(x)\n",
      "\u001b[1;31mTypeError\u001b[0m: unhashable type: 'list'"
     ]
    }
   ],
   "source": [
    "x={[2,3,'ti']:35,'country':'india','telephone':123}\n",
    "print(x)"
   ]
  },
  {
   "cell_type": "code",
   "execution_count": 10,
   "id": "c223d92d",
   "metadata": {},
   "outputs": [
    {
     "name": "stdout",
     "output_type": "stream",
     "text": [
      "{'name': 'khusi', 'telephone': [21, 23, 24]}\n"
     ]
    }
   ],
   "source": [
    "person={'name':'khusi','telephone':[21,23,24]}\n",
    "print(person)"
   ]
  },
  {
   "cell_type": "code",
   "execution_count": 12,
   "id": "599a623d",
   "metadata": {},
   "outputs": [
    {
     "name": "stdout",
     "output_type": "stream",
     "text": [
      "{'name': ['khusi', 'khusi'], 'telephone': [21, 23, 21, 23]}\n"
     ]
    }
   ],
   "source": [
    "person={'name':['khusi','khusi'],'telephone':[21,23,21,23]}\n",
    "print(person)"
   ]
  },
  {
   "cell_type": "code",
   "execution_count": 13,
   "id": "dc970f7d",
   "metadata": {},
   "outputs": [
    {
     "name": "stdout",
     "output_type": "stream",
     "text": [
      "{'name': ['khusi', 'kainya'], 'telephone': [21, 23, 21, 23]}\n"
     ]
    }
   ],
   "source": [
    "person={'name':['khusi','kainya'],'telephone':[21,23,21,23]}\n",
    "print(person)"
   ]
  },
  {
   "cell_type": "markdown",
   "id": "a0864dfb",
   "metadata": {},
   "source": [
    "## creating  a dic by sequencing"
   ]
  },
  {
   "cell_type": "code",
   "execution_count": 183,
   "id": "61c2d506",
   "metadata": {},
   "outputs": [
    {
     "name": "stdout",
     "output_type": "stream",
     "text": [
      "{'name': 'gautam', 'country': 'usa', 'telephone': 234}\n"
     ]
    }
   ],
   "source": [
    "person= dict([('name','gautam'),('country','usa'),('telephone',234)])\n",
    "\n",
    "print(person)"
   ]
  },
  {
   "cell_type": "code",
   "execution_count": 1,
   "id": "aaef244e",
   "metadata": {},
   "outputs": [
    {
     "ename": "TypeError",
     "evalue": "dict expected at most 1 argument, got 3",
     "output_type": "error",
     "traceback": [
      "\u001b[1;31m---------------------------------------------------------------------------\u001b[0m",
      "\u001b[1;31mTypeError\u001b[0m                                 Traceback (most recent call last)",
      "Cell \u001b[1;32mIn[1], line 1\u001b[0m\n\u001b[1;32m----> 1\u001b[0m person\u001b[38;5;241m=\u001b[39m \u001b[38;5;28mdict\u001b[39m((\u001b[38;5;124m'\u001b[39m\u001b[38;5;124mname\u001b[39m\u001b[38;5;124m'\u001b[39m,\u001b[38;5;124m'\u001b[39m\u001b[38;5;124mgautam\u001b[39m\u001b[38;5;124m'\u001b[39m),(\u001b[38;5;124m'\u001b[39m\u001b[38;5;124mcountry\u001b[39m\u001b[38;5;124m'\u001b[39m,\u001b[38;5;124m'\u001b[39m\u001b[38;5;124musa\u001b[39m\u001b[38;5;124m'\u001b[39m),(\u001b[38;5;124m'\u001b[39m\u001b[38;5;124mtelephone\u001b[39m\u001b[38;5;124m'\u001b[39m,\u001b[38;5;241m234\u001b[39m))\n",
      "\u001b[1;31mTypeError\u001b[0m: dict expected at most 1 argument, got 3"
     ]
    }
   ],
   "source": [
    "person= dict(('name','gautam'),('country','usa'),('telephone',234))"
   ]
  },
  {
   "cell_type": "code",
   "execution_count": 4,
   "id": "dc20beba",
   "metadata": {},
   "outputs": [
    {
     "name": "stdout",
     "output_type": "stream",
     "text": [
      "{'name': 'ravi', 'class': 4, 'school': 'kvs'}\n"
     ]
    },
    {
     "data": {
      "text/plain": [
       "dict"
      ]
     },
     "execution_count": 4,
     "metadata": {},
     "output_type": "execute_result"
    }
   ],
   "source": [
    "wide=dict([('name','ravi'),('class',4),('school','kvs')])\n",
    "\n",
    "print(wide)\n",
    "type(wide)"
   ]
  },
  {
   "cell_type": "code",
   "execution_count": 2,
   "id": "7125fbbb",
   "metadata": {},
   "outputs": [
    {
     "name": "stdout",
     "output_type": "stream",
     "text": [
      "{'name': 'ravi', 'class': 4, 'school': 'kvs'}\n"
     ]
    },
    {
     "data": {
      "text/plain": [
       "dict"
      ]
     },
     "execution_count": 2,
     "metadata": {},
     "output_type": "execute_result"
    }
   ],
   "source": [
    "des=dict((('name','ravi'),('class',4),('school','kvs')))\n",
    "print(des)\n",
    "type(des)"
   ]
  },
  {
   "cell_type": "code",
   "execution_count": null,
   "id": "155b045f",
   "metadata": {},
   "outputs": [],
   "source": []
  },
  {
   "cell_type": "code",
   "execution_count": 5,
   "id": "dd44d296",
   "metadata": {},
   "outputs": [
    {
     "name": "stdout",
     "output_type": "stream",
     "text": [
      "{'pawan': 'good', 'hey': 23}\n"
     ]
    }
   ],
   "source": [
    "lis=dict((['pawan','good'],['hey',23]))\n",
    "print(lis)"
   ]
  },
  {
   "cell_type": "code",
   "execution_count": 7,
   "id": "57600112",
   "metadata": {},
   "outputs": [
    {
     "name": "stdout",
     "output_type": "stream",
     "text": [
      "{'pawan': 'good', 'hey': 23}\n"
     ]
    },
    {
     "data": {
      "text/plain": [
       "dict"
      ]
     },
     "execution_count": 7,
     "metadata": {},
     "output_type": "execute_result"
    }
   ],
   "source": [
    "lis=dict([['pawan','good'],['hey',23]])\n",
    "print(lis)\n",
    "type(lis)"
   ]
  },
  {
   "cell_type": "code",
   "execution_count": 8,
   "id": "4a470409",
   "metadata": {},
   "outputs": [
    {
     "ename": "TypeError",
     "evalue": "unhashable type: 'list'",
     "output_type": "error",
     "traceback": [
      "\u001b[1;31m---------------------------------------------------------------------------\u001b[0m",
      "\u001b[1;31mTypeError\u001b[0m                                 Traceback (most recent call last)",
      "Cell \u001b[1;32mIn[8], line 1\u001b[0m\n\u001b[1;32m----> 1\u001b[0m lis\u001b[38;5;241m=\u001b[39m\u001b[38;5;28mdict\u001b[39m({[\u001b[38;5;124m'\u001b[39m\u001b[38;5;124mpawan\u001b[39m\u001b[38;5;124m'\u001b[39m,\u001b[38;5;124m'\u001b[39m\u001b[38;5;124mgood\u001b[39m\u001b[38;5;124m'\u001b[39m],[\u001b[38;5;124m'\u001b[39m\u001b[38;5;124mhey\u001b[39m\u001b[38;5;124m'\u001b[39m,\u001b[38;5;241m23\u001b[39m]})\n",
      "\u001b[1;31mTypeError\u001b[0m: unhashable type: 'list'"
     ]
    }
   ],
   "source": [
    "lis=dict({['pawan','good'],['hey',23]})"
   ]
  },
  {
   "cell_type": "code",
   "execution_count": 10,
   "id": "3f2d4644",
   "metadata": {},
   "outputs": [
    {
     "name": "stdout",
     "output_type": "stream",
     "text": [
      "{'pawan': 'good', 'hey': 23}\n"
     ]
    },
    {
     "data": {
      "text/plain": [
       "dict"
      ]
     },
     "execution_count": 10,
     "metadata": {},
     "output_type": "execute_result"
    }
   ],
   "source": [
    "lis=dict({('pawan','good'),('hey',23)})\n",
    "print(lis)\n",
    "type(lis)"
   ]
  },
  {
   "cell_type": "code",
   "execution_count": null,
   "id": "f9077280",
   "metadata": {},
   "outputs": [],
   "source": []
  },
  {
   "cell_type": "code",
   "execution_count": 12,
   "id": "3ba092c9",
   "metadata": {},
   "outputs": [
    {
     "ename": "ValueError",
     "evalue": "dictionary update sequence element #0 has length 4; 2 is required",
     "output_type": "error",
     "traceback": [
      "\u001b[1;31m---------------------------------------------------------------------------\u001b[0m",
      "\u001b[1;31mValueError\u001b[0m                                Traceback (most recent call last)",
      "Cell \u001b[1;32mIn[12], line 1\u001b[0m\n\u001b[1;32m----> 1\u001b[0m person\u001b[38;5;241m=\u001b[39m\u001b[38;5;28mdict\u001b[39m(((\u001b[38;5;124m'\u001b[39m\u001b[38;5;124mname\u001b[39m\u001b[38;5;124m'\u001b[39m,\u001b[38;5;124m'\u001b[39m\u001b[38;5;124mpawan\u001b[39m\u001b[38;5;124m'\u001b[39m)))\n",
      "\u001b[1;31mValueError\u001b[0m: dictionary update sequence element #0 has length 4; 2 is required"
     ]
    }
   ],
   "source": [
    "person=dict((('name','pawan')))"
   ]
  },
  {
   "cell_type": "code",
   "execution_count": null,
   "id": "13c3fbdb",
   "metadata": {},
   "outputs": [],
   "source": []
  },
  {
   "cell_type": "markdown",
   "id": "a980c40c",
   "metadata": {},
   "source": [
    "### There are two ways of accessing the dictionaries \n",
    "\n",
    "- Retrieve value using the key name inside the[ ] square brackets \n",
    "- Retrieve value by passing key name by parameter to get() method of a dictionary "
   ]
  },
  {
   "cell_type": "code",
   "execution_count": 59,
   "id": "f01c2e90",
   "metadata": {},
   "outputs": [
    {
     "name": "stdout",
     "output_type": "stream",
     "text": [
      "khusi\n",
      "8191\n"
     ]
    }
   ],
   "source": [
    "# create a dictionary named pesons \n",
    "\n",
    "person={'name':'khusi','country':'usa','telephone':8191}\n",
    "\n",
    "# acess value using key name in[]\n",
    "\n",
    "print(person['name'])\n",
    "# output 'khusi'\n",
    "\n",
    "# get key value using key name in get()\n",
    "\n",
    "print(person.get('telephone'))\n",
    "\n",
    "# output 8191"
   ]
  },
  {
   "cell_type": "code",
   "execution_count": 63,
   "id": "410c35d9",
   "metadata": {},
   "outputs": [
    {
     "name": "stdout",
     "output_type": "stream",
     "text": [
      "usa\n"
     ]
    },
    {
     "data": {
      "text/plain": [
       "str"
      ]
     },
     "execution_count": 63,
     "metadata": {},
     "output_type": "execute_result"
    }
   ],
   "source": [
    "x=person.get('country')\n",
    "\n",
    "print(x)\n",
    "\n",
    "type(x)\n",
    "\n",
    "\n",
    "x=person"
   ]
  },
  {
   "cell_type": "code",
   "execution_count": 21,
   "id": "f62a395c",
   "metadata": {},
   "outputs": [],
   "source": [
    "dic={'country':['usa','india','nepal'],'telephone':[34,56,78,12],'bill':'party'}"
   ]
  },
  {
   "cell_type": "code",
   "execution_count": 14,
   "id": "e746d9a4",
   "metadata": {},
   "outputs": [
    {
     "ename": "SyntaxError",
     "evalue": "expression cannot contain assignment, perhaps you meant \"==\"? (2197757197.py, line 1)",
     "output_type": "error",
     "traceback": [
      "\u001b[1;36m  Cell \u001b[1;32mIn[14], line 1\u001b[1;36m\u001b[0m\n\u001b[1;33m    print(dic['country'][1]='pak')\u001b[0m\n\u001b[1;37m          ^\u001b[0m\n\u001b[1;31mSyntaxError\u001b[0m\u001b[1;31m:\u001b[0m expression cannot contain assignment, perhaps you meant \"==\"?\n"
     ]
    }
   ],
   "source": [
    "print(dic['country'][1]='pak')\n",
    "\n",
    "print(dic['telephone'][3])"
   ]
  },
  {
   "cell_type": "markdown",
   "id": "3a211f11",
   "metadata": {},
   "source": []
  },
  {
   "cell_type": "markdown",
   "id": "49763b16",
   "metadata": {},
   "source": [
    " ###  we can get the items preesent in the dictionary by \n",
    " \n",
    " keys() \n",
    " \n",
    " values() \n",
    " \n",
    " items()"
   ]
  },
  {
   "cell_type": "code",
   "execution_count": 1,
   "id": "0838ee25",
   "metadata": {},
   "outputs": [],
   "source": [
    "dic={'country':['usa','india','nepal'],'telephone':[34,56,78,12],'bill':'party'}"
   ]
  },
  {
   "cell_type": "code",
   "execution_count": 5,
   "id": "7f7c8dc4",
   "metadata": {},
   "outputs": [
    {
     "data": {
      "text/plain": [
       "dict_keys(['country', 'telephone', 'bill'])"
      ]
     },
     "execution_count": 5,
     "metadata": {},
     "output_type": "execute_result"
    }
   ],
   "source": [
    "dic.keys()"
   ]
  },
  {
   "cell_type": "code",
   "execution_count": 3,
   "id": "608e1efe",
   "metadata": {},
   "outputs": [
    {
     "data": {
      "text/plain": [
       "dict_values([['usa', 'india', 'nepal'], [34, 56, 78, 12], 'party'])"
      ]
     },
     "execution_count": 3,
     "metadata": {},
     "output_type": "execute_result"
    }
   ],
   "source": [
    "dic.values()"
   ]
  },
  {
   "cell_type": "code",
   "execution_count": 4,
   "id": "414b1332",
   "metadata": {},
   "outputs": [
    {
     "data": {
      "text/plain": [
       "dict_items([('country', ['usa', 'india', 'nepal']), ('telephone', [34, 56, 78, 12]), ('bill', 'party')])"
      ]
     },
     "execution_count": 4,
     "metadata": {},
     "output_type": "execute_result"
    }
   ],
   "source": [
    "dic.items()"
   ]
  },
  {
   "cell_type": "markdown",
   "id": "538bb0e6",
   "metadata": {},
   "source": [
    "# Iterating a Dictionary\n",
    "\n",
    "we can iterate through using a for-loop and access the individual keys and their corresponding values. Let us se this with an example."
   ]
  },
  {
   "cell_type": "code",
   "execution_count": 40,
   "id": "00e536be",
   "metadata": {},
   "outputs": [
    {
     "name": "stdout",
     "output_type": "stream",
     "text": [
      "key : value\n",
      "name : jyoti\n",
      "country : usa\n",
      "telephone : 1178\n"
     ]
    }
   ],
   "source": [
    "person={'name': 'jyoti', 'country':'usa','telephone':1178}\n",
    "\n",
    "# iterating the dic using for-loop\n",
    "print('key', ':', 'value')\n",
    "for i in person:\n",
    "    print(i, ':', person[i])"
   ]
  },
  {
   "cell_type": "code",
   "execution_count": 38,
   "id": "6bfd2111",
   "metadata": {},
   "outputs": [
    {
     "ename": "NameError",
     "evalue": "name 'key' is not defined",
     "output_type": "error",
     "traceback": [
      "\u001b[1;31m---------------------------------------------------------------------------\u001b[0m",
      "\u001b[1;31mNameError\u001b[0m                                 Traceback (most recent call last)",
      "Cell \u001b[1;32mIn[38], line 1\u001b[0m\n\u001b[1;32m----> 1\u001b[0m \u001b[38;5;28mprint\u001b[39m(key)\n",
      "\u001b[1;31mNameError\u001b[0m: name 'key' is not defined"
     ]
    }
   ],
   "source": [
    "print(key)"
   ]
  },
  {
   "cell_type": "markdown",
   "id": "cf024eaa",
   "metadata": {},
   "source": [
    "## finding  lenth of dic "
   ]
  },
  {
   "cell_type": "code",
   "execution_count": 41,
   "id": "809f9354",
   "metadata": {},
   "outputs": [],
   "source": [
    "person={'name': 'jyoti', 'country':'usa','telephone':1178}"
   ]
  },
  {
   "cell_type": "code",
   "execution_count": 42,
   "id": "30464efb",
   "metadata": {},
   "outputs": [
    {
     "name": "stdout",
     "output_type": "stream",
     "text": [
      "3\n"
     ]
    }
   ],
   "source": [
    "print(len(person))"
   ]
  },
  {
   "cell_type": "markdown",
   "id": "58ed5f60",
   "metadata": {},
   "source": [
    "## Adding  items to the dictionary "
   ]
  },
  {
   "cell_type": "code",
   "execution_count": 1,
   "id": "44560e1c",
   "metadata": {},
   "outputs": [],
   "source": [
    "person={'name': 'jyoti', 'country':'usa','telephone':1178}"
   ]
  },
  {
   "cell_type": "code",
   "execution_count": 2,
   "id": "05c3c983",
   "metadata": {},
   "outputs": [
    {
     "name": "stdout",
     "output_type": "stream",
     "text": [
      "{'name': 'pawan', 'country': 'usa', 'telephone': 1178}\n",
      "{'name': 'pawan', 'country': 'usa', 'telephone': 1178, 'food': 'momo'}\n"
     ]
    }
   ],
   "source": [
    "person.update({'name':'pawan'})\n",
    "print(person)\n",
    "\n",
    "person.update({'food':'momo'})\n",
    "\n",
    "print(person)"
   ]
  },
  {
   "cell_type": "code",
   "execution_count": null,
   "id": "6430ae03",
   "metadata": {},
   "outputs": [],
   "source": []
  },
  {
   "cell_type": "markdown",
   "id": "bbda77d6",
   "metadata": {},
   "source": [
    "## Modify  the values of the dictionary keys "
   ]
  },
  {
   "cell_type": "code",
   "execution_count": 3,
   "id": "80c7c78c",
   "metadata": {},
   "outputs": [
    {
     "name": "stdout",
     "output_type": "stream",
     "text": [
      "{'name': 'pawan', 'country': 'india', 'telephone': 1178, 'food': 'momo'}\n"
     ]
    }
   ],
   "source": [
    "person['country']='india'\n",
    "print(person)"
   ]
  },
  {
   "cell_type": "code",
   "execution_count": 4,
   "id": "0e94e352",
   "metadata": {},
   "outputs": [
    {
     "name": "stdout",
     "output_type": "stream",
     "text": [
      "{'name': 'pawan', 'country': 'india', 'telephone': 1178, 'food': 'momo', ('country', 'food'): 'nepal'}\n"
     ]
    }
   ],
   "source": [
    "person['country','food']='nepal'\n",
    "print(person)\n"
   ]
  },
  {
   "cell_type": "code",
   "execution_count": 5,
   "id": "676addbd",
   "metadata": {},
   "outputs": [
    {
     "ename": "TypeError",
     "evalue": "update expected at most 1 argument, got 2",
     "output_type": "error",
     "traceback": [
      "\u001b[1;31m---------------------------------------------------------------------------\u001b[0m",
      "\u001b[1;31mTypeError\u001b[0m                                 Traceback (most recent call last)",
      "Cell \u001b[1;32mIn[5], line 1\u001b[0m\n\u001b[1;32m----> 1\u001b[0m person\u001b[38;5;241m.\u001b[39mupdate(\u001b[38;5;124m'\u001b[39m\u001b[38;5;124mcountry\u001b[39m\u001b[38;5;124m'\u001b[39m,\u001b[38;5;124m'\u001b[39m\u001b[38;5;124musa\u001b[39m\u001b[38;5;124m'\u001b[39m)\n",
      "\u001b[1;31mTypeError\u001b[0m: update expected at most 1 argument, got 2"
     ]
    }
   ],
   "source": [
    "person.update('country','usa')"
   ]
  },
  {
   "cell_type": "code",
   "execution_count": 7,
   "id": "873118e7",
   "metadata": {},
   "outputs": [
    {
     "data": {
      "text/plain": [
       "dict_keys(['name', 'country', 'telephone', 'food', ('country', 'food')])"
      ]
     },
     "execution_count": 7,
     "metadata": {},
     "output_type": "execute_result"
    }
   ],
   "source": [
    "person.keys()"
   ]
  },
  {
   "cell_type": "code",
   "execution_count": null,
   "id": "389cc236",
   "metadata": {},
   "outputs": [],
   "source": []
  },
  {
   "cell_type": "markdown",
   "id": "2dcc19fe",
   "metadata": {},
   "source": [
    "## set default"
   ]
  },
  {
   "cell_type": "code",
   "execution_count": 13,
   "id": "d5eac808",
   "metadata": {},
   "outputs": [],
   "source": [
    "person={'name': 'jyoti', 'country':'usa','telephone':1178}"
   ]
  },
  {
   "cell_type": "code",
   "execution_count": 20,
   "id": "cd5de570",
   "metadata": {},
   "outputs": [
    {
     "ename": "SyntaxError",
     "evalue": "invalid syntax (3750318757.py, line 1)",
     "output_type": "error",
     "traceback": [
      "\u001b[1;36m  Cell \u001b[1;32mIn[20], line 1\u001b[1;36m\u001b[0m\n\u001b[1;33m    person.setdefault('name':90)\u001b[0m\n\u001b[1;37m                            ^\u001b[0m\n\u001b[1;31mSyntaxError\u001b[0m\u001b[1;31m:\u001b[0m invalid syntax\n"
     ]
    }
   ],
   "source": [
    "person.setdefault('name':90)"
   ]
  },
  {
   "cell_type": "code",
   "execution_count": null,
   "id": "ca275fa3",
   "metadata": {},
   "outputs": [],
   "source": []
  },
  {
   "cell_type": "code",
   "execution_count": null,
   "id": "693e18b6",
   "metadata": {},
   "outputs": [],
   "source": []
  },
  {
   "cell_type": "code",
   "execution_count": null,
   "id": "825bdc49",
   "metadata": {},
   "outputs": [],
   "source": []
  },
  {
   "cell_type": "markdown",
   "id": "4b138946",
   "metadata": {},
   "source": [
    "## slicing"
   ]
  },
  {
   "cell_type": "code",
   "execution_count": 17,
   "id": "fd28ff4d",
   "metadata": {},
   "outputs": [
    {
     "ename": "TypeError",
     "evalue": "unhashable type: 'slice'",
     "output_type": "error",
     "traceback": [
      "\u001b[1;31m---------------------------------------------------------------------------\u001b[0m",
      "\u001b[1;31mTypeError\u001b[0m                                 Traceback (most recent call last)",
      "Cell \u001b[1;32mIn[17], line 1\u001b[0m\n\u001b[1;32m----> 1\u001b[0m person[\u001b[38;5;241m0\u001b[39m:\u001b[38;5;241m1\u001b[39m]\n",
      "\u001b[1;31mTypeError\u001b[0m: unhashable type: 'slice'"
     ]
    }
   ],
   "source": [
    "person[0:1]"
   ]
  },
  {
   "cell_type": "markdown",
   "id": "82365453",
   "metadata": {},
   "source": [
    "## Append"
   ]
  },
  {
   "cell_type": "code",
   "execution_count": 23,
   "id": "fac39f89",
   "metadata": {},
   "outputs": [
    {
     "ename": "AttributeError",
     "evalue": "'dict' object has no attribute 'append'",
     "output_type": "error",
     "traceback": [
      "\u001b[1;31m---------------------------------------------------------------------------\u001b[0m",
      "\u001b[1;31mAttributeError\u001b[0m                            Traceback (most recent call last)",
      "Cell \u001b[1;32mIn[23], line 1\u001b[0m\n\u001b[1;32m----> 1\u001b[0m person\u001b[38;5;241m.\u001b[39mappend({\u001b[38;5;124m'\u001b[39m\u001b[38;5;124mfood\u001b[39m\u001b[38;5;124m'\u001b[39m:\u001b[38;5;124m'\u001b[39m\u001b[38;5;124msoya\u001b[39m\u001b[38;5;124m'\u001b[39m})\n",
      "\u001b[1;31mAttributeError\u001b[0m: 'dict' object has no attribute 'append'"
     ]
    }
   ],
   "source": [
    "person.append({'food':'soya'})"
   ]
  },
  {
   "cell_type": "markdown",
   "id": "1a9c6182",
   "metadata": {},
   "source": [
    "## Insert"
   ]
  },
  {
   "cell_type": "code",
   "execution_count": 24,
   "id": "20ce725c",
   "metadata": {},
   "outputs": [
    {
     "name": "stdout",
     "output_type": "stream",
     "text": [
      "{'name': 'pawan', 'country': 'india', 'telephone': 1178, 'food': 'momo'}\n"
     ]
    }
   ],
   "source": [
    "print(person)"
   ]
  },
  {
   "cell_type": "code",
   "execution_count": 28,
   "id": "da00d8c5",
   "metadata": {},
   "outputs": [
    {
     "ename": "AttributeError",
     "evalue": "'dict' object has no attribute 'insert'",
     "output_type": "error",
     "traceback": [
      "\u001b[1;31m---------------------------------------------------------------------------\u001b[0m",
      "\u001b[1;31mAttributeError\u001b[0m                            Traceback (most recent call last)",
      "Cell \u001b[1;32mIn[28], line 1\u001b[0m\n\u001b[1;32m----> 1\u001b[0m person\u001b[38;5;241m.\u001b[39minsert(\u001b[38;5;241m1\u001b[39m,{\u001b[38;5;124m'\u001b[39m\u001b[38;5;124mschool\u001b[39m\u001b[38;5;124m'\u001b[39m:\u001b[38;5;124m'\u001b[39m\u001b[38;5;124mbirla\u001b[39m\u001b[38;5;124m'\u001b[39m})\n",
      "\u001b[1;31mAttributeError\u001b[0m: 'dict' object has no attribute 'insert'"
     ]
    }
   ],
   "source": [
    "person.insert(1,{'school':'birla'})"
   ]
  },
  {
   "cell_type": "markdown",
   "id": "066258d0",
   "metadata": {},
   "source": [
    "## extend"
   ]
  },
  {
   "cell_type": "code",
   "execution_count": 29,
   "id": "fe525460",
   "metadata": {},
   "outputs": [
    {
     "ename": "AttributeError",
     "evalue": "'dict' object has no attribute 'extend'",
     "output_type": "error",
     "traceback": [
      "\u001b[1;31m---------------------------------------------------------------------------\u001b[0m",
      "\u001b[1;31mAttributeError\u001b[0m                            Traceback (most recent call last)",
      "Cell \u001b[1;32mIn[29], line 1\u001b[0m\n\u001b[1;32m----> 1\u001b[0m person\u001b[38;5;241m.\u001b[39mextend({\u001b[38;5;124m'\u001b[39m\u001b[38;5;124mfood\u001b[39m\u001b[38;5;124m'\u001b[39m:\u001b[38;5;124m'\u001b[39m\u001b[38;5;124msoya\u001b[39m\u001b[38;5;124m'\u001b[39m})\n",
      "\u001b[1;31mAttributeError\u001b[0m: 'dict' object has no attribute 'extend'"
     ]
    }
   ],
   "source": [
    "person.extend({'food':'soya'})"
   ]
  },
  {
   "cell_type": "markdown",
   "id": "b64b472a",
   "metadata": {},
   "source": [
    "## Remove"
   ]
  },
  {
   "cell_type": "code",
   "execution_count": 40,
   "id": "758e7d1b",
   "metadata": {},
   "outputs": [
    {
     "ename": "AttributeError",
     "evalue": "'dict' object has no attribute 'remove'",
     "output_type": "error",
     "traceback": [
      "\u001b[1;31m---------------------------------------------------------------------------\u001b[0m",
      "\u001b[1;31mAttributeError\u001b[0m                            Traceback (most recent call last)",
      "Cell \u001b[1;32mIn[40], line 1\u001b[0m\n\u001b[1;32m----> 1\u001b[0m person\u001b[38;5;241m.\u001b[39mremove(\u001b[38;5;124m'\u001b[39m\u001b[38;5;124mfood\u001b[39m\u001b[38;5;124m'\u001b[39m)\n",
      "\u001b[1;31mAttributeError\u001b[0m: 'dict' object has no attribute 'remove'"
     ]
    }
   ],
   "source": [
    "person.remove('food')"
   ]
  },
  {
   "cell_type": "markdown",
   "id": "82141c58",
   "metadata": {},
   "source": [
    "## Clear"
   ]
  },
  {
   "cell_type": "code",
   "execution_count": 43,
   "id": "17aca297",
   "metadata": {},
   "outputs": [
    {
     "name": "stdout",
     "output_type": "stream",
     "text": [
      "{}\n"
     ]
    }
   ],
   "source": [
    "person.clear()\n",
    "\n",
    "print(person)"
   ]
  },
  {
   "cell_type": "markdown",
   "id": "283e53e2",
   "metadata": {},
   "source": [
    "## del"
   ]
  },
  {
   "cell_type": "code",
   "execution_count": 44,
   "id": "b651ac16",
   "metadata": {},
   "outputs": [],
   "source": [
    "person={'name': 'pawan', 'country': 'india', 'telephone': 1178, 'food': 'momo'}"
   ]
  },
  {
   "cell_type": "code",
   "execution_count": 46,
   "id": "7722d2e4",
   "metadata": {},
   "outputs": [],
   "source": [
    "del person"
   ]
  },
  {
   "cell_type": "code",
   "execution_count": 47,
   "id": "d2a3c107",
   "metadata": {},
   "outputs": [
    {
     "ename": "NameError",
     "evalue": "name 'person' is not defined",
     "output_type": "error",
     "traceback": [
      "\u001b[1;31m---------------------------------------------------------------------------\u001b[0m",
      "\u001b[1;31mNameError\u001b[0m                                 Traceback (most recent call last)",
      "Cell \u001b[1;32mIn[47], line 1\u001b[0m\n\u001b[1;32m----> 1\u001b[0m \u001b[38;5;28mprint\u001b[39m(person)\n",
      "\u001b[1;31mNameError\u001b[0m: name 'person' is not defined"
     ]
    }
   ],
   "source": [
    "print(person)"
   ]
  },
  {
   "cell_type": "markdown",
   "id": "57c9f4ab",
   "metadata": {},
   "source": [
    "## pop"
   ]
  },
  {
   "cell_type": "code",
   "execution_count": 1,
   "id": "f6c85730",
   "metadata": {},
   "outputs": [],
   "source": [
    "person={'name': 'pawan', 'country': 'india', 'telephone': 1178, 'food': 'momo'}"
   ]
  },
  {
   "cell_type": "code",
   "execution_count": 2,
   "id": "0bbeef67",
   "metadata": {
    "scrolled": true
   },
   "outputs": [
    {
     "ename": "TypeError",
     "evalue": "pop expected at least 1 argument, got 0",
     "output_type": "error",
     "traceback": [
      "\u001b[1;31m---------------------------------------------------------------------------\u001b[0m",
      "\u001b[1;31mTypeError\u001b[0m                                 Traceback (most recent call last)",
      "Cell \u001b[1;32mIn[2], line 1\u001b[0m\n\u001b[1;32m----> 1\u001b[0m person\u001b[38;5;241m.\u001b[39mpop()\n",
      "\u001b[1;31mTypeError\u001b[0m: pop expected at least 1 argument, got 0"
     ]
    }
   ],
   "source": [
    "person.pop()"
   ]
  },
  {
   "cell_type": "code",
   "execution_count": 56,
   "id": "b956179c",
   "metadata": {},
   "outputs": [
    {
     "data": {
      "text/plain": [
       "'pawan'"
      ]
     },
     "execution_count": 56,
     "metadata": {},
     "output_type": "execute_result"
    }
   ],
   "source": [
    "person.pop('name')\n"
   ]
  },
  {
   "cell_type": "code",
   "execution_count": 57,
   "id": "4636e772",
   "metadata": {},
   "outputs": [
    {
     "name": "stdout",
     "output_type": "stream",
     "text": [
      "{'country': 'india', 'telephone': 1178, 'food': 'momo'}\n"
     ]
    }
   ],
   "source": [
    "print(person)"
   ]
  },
  {
   "cell_type": "code",
   "execution_count": 58,
   "id": "1a43192a",
   "metadata": {},
   "outputs": [
    {
     "ename": "KeyError",
     "evalue": "'india'",
     "output_type": "error",
     "traceback": [
      "\u001b[1;31m---------------------------------------------------------------------------\u001b[0m",
      "\u001b[1;31mKeyError\u001b[0m                                  Traceback (most recent call last)",
      "Cell \u001b[1;32mIn[58], line 1\u001b[0m\n\u001b[1;32m----> 1\u001b[0m person\u001b[38;5;241m.\u001b[39mpop(\u001b[38;5;124m'\u001b[39m\u001b[38;5;124mindia\u001b[39m\u001b[38;5;124m'\u001b[39m)\n",
      "\u001b[1;31mKeyError\u001b[0m: 'india'"
     ]
    }
   ],
   "source": [
    "person.pop('india')"
   ]
  },
  {
   "cell_type": "markdown",
   "id": "271dfafe",
   "metadata": {},
   "source": [
    "##  Index"
   ]
  },
  {
   "cell_type": "code",
   "execution_count": 3,
   "id": "6f2f9036",
   "metadata": {},
   "outputs": [],
   "source": [
    "person={'name': 'pawan', 'country': 'india', 'telephone': 1178, 'food': 'momo'}"
   ]
  },
  {
   "cell_type": "code",
   "execution_count": 4,
   "id": "27cb2e6d",
   "metadata": {},
   "outputs": [
    {
     "ename": "AttributeError",
     "evalue": "'dict' object has no attribute 'index'",
     "output_type": "error",
     "traceback": [
      "\u001b[1;31m---------------------------------------------------------------------------\u001b[0m",
      "\u001b[1;31mAttributeError\u001b[0m                            Traceback (most recent call last)",
      "Cell \u001b[1;32mIn[4], line 1\u001b[0m\n\u001b[1;32m----> 1\u001b[0m person\u001b[38;5;241m.\u001b[39mindex(\u001b[38;5;124m'\u001b[39m\u001b[38;5;124mpawan\u001b[39m\u001b[38;5;124m'\u001b[39m)\n",
      "\u001b[1;31mAttributeError\u001b[0m: 'dict' object has no attribute 'index'"
     ]
    }
   ],
   "source": [
    "person.index('pawan')"
   ]
  },
  {
   "cell_type": "code",
   "execution_count": 61,
   "id": "2ce407f8",
   "metadata": {},
   "outputs": [],
   "source": [
    "person={'name': 'pawan', 'country': 'india', 'telephone':[1178,24,465,67,32] ,'food': 'momo'}"
   ]
  },
  {
   "cell_type": "code",
   "execution_count": 68,
   "id": "765335d6",
   "metadata": {},
   "outputs": [
    {
     "ename": "AttributeError",
     "evalue": "'dict' object has no attribute 'index'",
     "output_type": "error",
     "traceback": [
      "\u001b[1;31m---------------------------------------------------------------------------\u001b[0m",
      "\u001b[1;31mAttributeError\u001b[0m                            Traceback (most recent call last)",
      "Cell \u001b[1;32mIn[68], line 1\u001b[0m\n\u001b[1;32m----> 1\u001b[0m \u001b[38;5;28mprint\u001b[39m(person\u001b[38;5;241m.\u001b[39mindex(\u001b[38;5;241m24\u001b[39m))\n",
      "\u001b[1;31mAttributeError\u001b[0m: 'dict' object has no attribute 'index'"
     ]
    }
   ],
   "source": [
    "print(person.index(24))"
   ]
  },
  {
   "cell_type": "code",
   "execution_count": 69,
   "id": "0a58dfda",
   "metadata": {},
   "outputs": [],
   "source": [
    "person={'name': 'pawan', 'country': 'india', 'telephone':[1178,24,465,67,32] ,'food': 'momo'}"
   ]
  },
  {
   "cell_type": "code",
   "execution_count": 75,
   "id": "0fe334bd",
   "metadata": {},
   "outputs": [
    {
     "ename": "TypeError",
     "evalue": "unsupported operand type(s) for +: 'dict' and 'dict'",
     "output_type": "error",
     "traceback": [
      "\u001b[1;31m---------------------------------------------------------------------------\u001b[0m",
      "\u001b[1;31mTypeError\u001b[0m                                 Traceback (most recent call last)",
      "Cell \u001b[1;32mIn[75], line 1\u001b[0m\n\u001b[1;32m----> 1\u001b[0m person\u001b[38;5;241m+\u001b[39m{\u001b[38;5;124m'\u001b[39m\u001b[38;5;124mmobile\u001b[39m\u001b[38;5;124m'\u001b[39m:\u001b[38;5;124m'\u001b[39m\u001b[38;5;124mnokia\u001b[39m\u001b[38;5;124m'\u001b[39m}\n",
      "\u001b[1;31mTypeError\u001b[0m: unsupported operand type(s) for +: 'dict' and 'dict'"
     ]
    }
   ],
   "source": [
    "person+{'mobile':'nokia'}"
   ]
  },
  {
   "cell_type": "code",
   "execution_count": 78,
   "id": "393d98da",
   "metadata": {},
   "outputs": [],
   "source": [
    "person={'name': 'pawan', 'country': 'india', 'telephone':[1178,24,465,67,32] ,'food': 'momo'}"
   ]
  },
  {
   "cell_type": "code",
   "execution_count": 76,
   "id": "3936a457",
   "metadata": {},
   "outputs": [
    {
     "ename": "TypeError",
     "evalue": "unsupported operand type(s) for *: 'dict' and 'int'",
     "output_type": "error",
     "traceback": [
      "\u001b[1;31m---------------------------------------------------------------------------\u001b[0m",
      "\u001b[1;31mTypeError\u001b[0m                                 Traceback (most recent call last)",
      "Cell \u001b[1;32mIn[76], line 1\u001b[0m\n\u001b[1;32m----> 1\u001b[0m person\u001b[38;5;241m*\u001b[39m\u001b[38;5;241m2\u001b[39m\n",
      "\u001b[1;31mTypeError\u001b[0m: unsupported operand type(s) for *: 'dict' and 'int'"
     ]
    }
   ],
   "source": [
    "person*2"
   ]
  },
  {
   "cell_type": "code",
   "execution_count": 82,
   "id": "217f1ad1",
   "metadata": {},
   "outputs": [
    {
     "ename": "AttributeError",
     "evalue": "'dict' object has no attribute 'add'",
     "output_type": "error",
     "traceback": [
      "\u001b[1;31m---------------------------------------------------------------------------\u001b[0m",
      "\u001b[1;31mAttributeError\u001b[0m                            Traceback (most recent call last)",
      "Cell \u001b[1;32mIn[82], line 1\u001b[0m\n\u001b[1;32m----> 1\u001b[0m person\u001b[38;5;241m.\u001b[39madd({\u001b[38;5;124m'\u001b[39m\u001b[38;5;124mmobile\u001b[39m\u001b[38;5;124m'\u001b[39m:\u001b[38;5;124m'\u001b[39m\u001b[38;5;124mnokia\u001b[39m\u001b[38;5;124m'\u001b[39m})\n",
      "\u001b[1;31mAttributeError\u001b[0m: 'dict' object has no attribute 'add'"
     ]
    }
   ],
   "source": [
    "person.add({'mobile':'nokia'})"
   ]
  },
  {
   "cell_type": "markdown",
   "id": "7456e9cb",
   "metadata": {},
   "source": [
    "## Removing items from the dictionary\n",
    "\n",
    "- pop(key[,d]\n",
    "- popitem()\n",
    "- del key\n",
    "- clear()\n",
    "- del      "
   ]
  },
  {
   "cell_type": "code",
   "execution_count": 86,
   "id": "7e1510fb",
   "metadata": {},
   "outputs": [],
   "source": [
    "person={'name': 'pawan', 'country': 'india', 'telephone':[1178,24,465,67,32] ,'food': 'momo'}\n"
   ]
  },
  {
   "cell_type": "code",
   "execution_count": 89,
   "id": "1c09c16d",
   "metadata": {},
   "outputs": [
    {
     "data": {
      "text/plain": [
       "'pawan'"
      ]
     },
     "execution_count": 89,
     "metadata": {},
     "output_type": "execute_result"
    }
   ],
   "source": [
    "person.pop('name',[])"
   ]
  },
  {
   "cell_type": "code",
   "execution_count": 94,
   "id": "e00b2e66",
   "metadata": {},
   "outputs": [
    {
     "data": {
      "text/plain": [
       "[1178]"
      ]
     },
     "execution_count": 94,
     "metadata": {},
     "output_type": "execute_result"
    }
   ],
   "source": [
    "person.pop('telephone',[1178])"
   ]
  },
  {
   "cell_type": "code",
   "execution_count": 95,
   "id": "a8014106",
   "metadata": {},
   "outputs": [
    {
     "data": {
      "text/plain": [
       "[1187]"
      ]
     },
     "execution_count": 95,
     "metadata": {},
     "output_type": "execute_result"
    }
   ],
   "source": [
    "person.pop('telephone',[1187])"
   ]
  },
  {
   "cell_type": "markdown",
   "id": "3e71ecb7",
   "metadata": {},
   "source": [
    "## popitem()"
   ]
  },
  {
   "cell_type": "code",
   "execution_count": null,
   "id": "24422220",
   "metadata": {},
   "outputs": [],
   "source": [
    "person={'name': 'pawan', 'country': 'india', 'telephone':[1178,24,465,67,32] ,'food': 'momo'}"
   ]
  },
  {
   "cell_type": "code",
   "execution_count": 111,
   "id": "422c6cbe",
   "metadata": {},
   "outputs": [
    {
     "data": {
      "text/plain": [
       "('food', 'momo')"
      ]
     },
     "execution_count": 111,
     "metadata": {},
     "output_type": "execute_result"
    }
   ],
   "source": [
    "person.popitem()   # removing any random item usually the last one "
   ]
  },
  {
   "cell_type": "markdown",
   "id": "b3dfcc19",
   "metadata": {},
   "source": [
    "## del key"
   ]
  },
  {
   "cell_type": "code",
   "execution_count": 114,
   "id": "2bfd2a28",
   "metadata": {},
   "outputs": [],
   "source": [
    "del person['name']"
   ]
  },
  {
   "cell_type": "code",
   "execution_count": 115,
   "id": "f1dc8a1d",
   "metadata": {},
   "outputs": [
    {
     "name": "stdout",
     "output_type": "stream",
     "text": [
      "{'country': 'india', 'telephone': [1178, 24, 465, 67, 32]}\n"
     ]
    }
   ],
   "source": [
    "print(person)"
   ]
  },
  {
   "cell_type": "markdown",
   "id": "3c11f122",
   "metadata": {},
   "source": [
    "## del"
   ]
  },
  {
   "cell_type": "code",
   "execution_count": 116,
   "id": "c27fb927",
   "metadata": {},
   "outputs": [],
   "source": [
    "del person"
   ]
  },
  {
   "cell_type": "code",
   "execution_count": 117,
   "id": "b5d46bf3",
   "metadata": {},
   "outputs": [
    {
     "ename": "NameError",
     "evalue": "name 'person' is not defined",
     "output_type": "error",
     "traceback": [
      "\u001b[1;31m---------------------------------------------------------------------------\u001b[0m",
      "\u001b[1;31mNameError\u001b[0m                                 Traceback (most recent call last)",
      "Cell \u001b[1;32mIn[117], line 1\u001b[0m\n\u001b[1;32m----> 1\u001b[0m \u001b[38;5;28mprint\u001b[39m(person)\n",
      "\u001b[1;31mNameError\u001b[0m: name 'person' is not defined"
     ]
    }
   ],
   "source": [
    "print(person)"
   ]
  },
  {
   "cell_type": "markdown",
   "id": "3cb96dda",
   "metadata": {},
   "source": [
    "# Checking if a key exists "
   ]
  },
  {
   "cell_type": "markdown",
   "id": "89092da7",
   "metadata": {},
   "source": [
    "### by membership operator"
   ]
  },
  {
   "cell_type": "code",
   "execution_count": 21,
   "id": "1d307fbc",
   "metadata": {},
   "outputs": [],
   "source": [
    "person={'name': 'pawan', 'country': 'india', 'telephone':[1178,24,465,67,32] ,'food': 'momo'}"
   ]
  },
  {
   "cell_type": "code",
   "execution_count": 22,
   "id": "8217b202",
   "metadata": {},
   "outputs": [
    {
     "name": "stdout",
     "output_type": "stream",
     "text": [
      "True\n",
      "False\n"
     ]
    }
   ],
   "source": [
    "print('name' in person)\n",
    "\n",
    "print('hey' in person)"
   ]
  },
  {
   "cell_type": "code",
   "execution_count": 23,
   "id": "739ef988",
   "metadata": {},
   "outputs": [
    {
     "data": {
      "text/plain": [
       "[1178, 24, 465, 67, 32]"
      ]
     },
     "execution_count": 23,
     "metadata": {},
     "output_type": "execute_result"
    }
   ],
   "source": [
    "person.get('telephone')"
   ]
  },
  {
   "cell_type": "markdown",
   "id": "ee0c561e",
   "metadata": {},
   "source": [
    "### checking in keys and values"
   ]
  },
  {
   "cell_type": "code",
   "execution_count": 24,
   "id": "f6c9c6ba",
   "metadata": {},
   "outputs": [
    {
     "data": {
      "text/plain": [
       "True"
      ]
     },
     "execution_count": 24,
     "metadata": {},
     "output_type": "execute_result"
    }
   ],
   "source": [
    "'food' in person.keys()"
   ]
  },
  {
   "cell_type": "code",
   "execution_count": 25,
   "id": "65ba99e1",
   "metadata": {},
   "outputs": [
    {
     "data": {
      "text/plain": [
       "False"
      ]
     },
     "execution_count": 25,
     "metadata": {},
     "output_type": "execute_result"
    }
   ],
   "source": [
    "'food' in person.values()"
   ]
  },
  {
   "cell_type": "code",
   "execution_count": null,
   "id": "3434af7b",
   "metadata": {},
   "outputs": [],
   "source": []
  },
  {
   "cell_type": "markdown",
   "id": "bb8619a1",
   "metadata": {},
   "source": [
    "### by if else "
   ]
  },
  {
   "cell_type": "code",
   "execution_count": 131,
   "id": "f4b22138",
   "metadata": {},
   "outputs": [
    {
     "name": "stdout",
     "output_type": "stream",
     "text": [
      "yes\n"
     ]
    }
   ],
   "source": [
    "if 'name' in person:\n",
    "    print('yes')\n",
    "else:\n",
    "    print('no')\n"
   ]
  },
  {
   "cell_type": "code",
   "execution_count": 132,
   "id": "e2fc13c8",
   "metadata": {},
   "outputs": [
    {
     "name": "stdout",
     "output_type": "stream",
     "text": [
      "yes\n"
     ]
    }
   ],
   "source": [
    "if 'country' in person:\n",
    "    print('yes')\n",
    "else:\n",
    "    print('no')\n",
    "    "
   ]
  },
  {
   "cell_type": "markdown",
   "id": "590ef0a8",
   "metadata": {},
   "source": [
    "## adding two dictionary"
   ]
  },
  {
   "cell_type": "code",
   "execution_count": 153,
   "id": "39b753f1",
   "metadata": {},
   "outputs": [
    {
     "name": "stdout",
     "output_type": "stream",
     "text": [
      "1517124392704\n",
      "1517124390912\n"
     ]
    }
   ],
   "source": [
    "dic1={'food':'momo','scool':'birla','no.':[421,5678,34,21]}\n",
    "\n",
    "dic2={'person':'pawan','place':'halwani'}\n",
    "\n",
    "\n",
    "print(id(dic1))\n",
    "print(id(dic2))"
   ]
  },
  {
   "cell_type": "code",
   "execution_count": 154,
   "id": "32b65a7c",
   "metadata": {},
   "outputs": [],
   "source": [
    "dic1.update(dic2)"
   ]
  },
  {
   "cell_type": "code",
   "execution_count": 155,
   "id": "0497f199",
   "metadata": {},
   "outputs": [
    {
     "name": "stdout",
     "output_type": "stream",
     "text": [
      "{'food': 'momo', 'scool': 'birla', 'no.': [421, 5678, 34, 21], 'person': 'pawan', 'place': 'halwani'}\n",
      "<class 'dict'>\n"
     ]
    },
    {
     "data": {
      "text/plain": [
       "1517124392704"
      ]
     },
     "execution_count": 155,
     "metadata": {},
     "output_type": "execute_result"
    }
   ],
   "source": [
    "print(dic1)\n",
    "print(type(dic1))\n",
    "id(dic1)"
   ]
  },
  {
   "cell_type": "code",
   "execution_count": 158,
   "id": "ce170971",
   "metadata": {},
   "outputs": [],
   "source": [
    "dic3=dic1.update(dic2)"
   ]
  },
  {
   "cell_type": "code",
   "execution_count": 157,
   "id": "c24d5ad4",
   "metadata": {},
   "outputs": [
    {
     "name": "stdout",
     "output_type": "stream",
     "text": [
      "None\n"
     ]
    }
   ],
   "source": [
    "print(dic3)   # none is because it updating dic1 not creating new dic"
   ]
  },
  {
   "cell_type": "code",
   "execution_count": 145,
   "id": "52d704d3",
   "metadata": {},
   "outputs": [],
   "source": [
    "dic1={'food':'momo','scool':'birla','no.':[421,5678,34,21]}\n",
    "\n",
    "dic2={'person':'pawan','place':'halwani'}"
   ]
  },
  {
   "cell_type": "code",
   "execution_count": 149,
   "id": "ce3a71c9",
   "metadata": {},
   "outputs": [],
   "source": [
    "dic3=dic1.update(dic2)"
   ]
  },
  {
   "cell_type": "code",
   "execution_count": 147,
   "id": "fb81be2a",
   "metadata": {},
   "outputs": [
    {
     "name": "stdout",
     "output_type": "stream",
     "text": [
      "None\n"
     ]
    }
   ],
   "source": [
    "print(dic3)"
   ]
  },
  {
   "cell_type": "code",
   "execution_count": 150,
   "id": "11cf24fc",
   "metadata": {},
   "outputs": [],
   "source": [
    "x=dic1.update(dic2)"
   ]
  },
  {
   "cell_type": "code",
   "execution_count": 151,
   "id": "cb93f8d3",
   "metadata": {},
   "outputs": [
    {
     "name": "stdout",
     "output_type": "stream",
     "text": [
      "None\n"
     ]
    }
   ],
   "source": [
    "print(x)"
   ]
  },
  {
   "cell_type": "code",
   "execution_count": 164,
   "id": "0436a251",
   "metadata": {},
   "outputs": [],
   "source": [
    "dic1={'food':'momo','scool':'birla','no.':[421,5678,34,21]}\n",
    "\n",
    "dic2={'person':'pawan','place':'halwani'}\n",
    "\n",
    "dic3={'telephone':124}"
   ]
  },
  {
   "cell_type": "code",
   "execution_count": 177,
   "id": "7842cab1",
   "metadata": {},
   "outputs": [],
   "source": [
    "dic1.update(dic2)\n",
    "dic1.update(dic3)"
   ]
  },
  {
   "cell_type": "code",
   "execution_count": 178,
   "id": "b24647dd",
   "metadata": {},
   "outputs": [
    {
     "name": "stdout",
     "output_type": "stream",
     "text": [
      "{'food': 'momo', 'scool': 'birla', 'no.': [421, 5678, 34, 21], 'person': 'pawan', 'place': 'halwani', 'telephone': 124}\n"
     ]
    }
   ],
   "source": [
    "print(dic1)"
   ]
  },
  {
   "cell_type": "markdown",
   "id": "6e1381ea",
   "metadata": {},
   "source": [
    "## Using **kwargs to unpack\n",
    "\n",
    "we can unpack any number of dictionary and add their contents to another dictionary using **kwargs . in this way, we can add multiple lenth argument to one dictionary in a single statement "
   ]
  },
  {
   "cell_type": "code",
   "execution_count": 181,
   "id": "4eb3479f",
   "metadata": {},
   "outputs": [
    {
     "name": "stdout",
     "output_type": "stream",
     "text": [
      "{'aaradhya': 1, 'parul': 2, 'harry': 5, 'parth': 6, 'sandhya': 7, 'disha': 9}\n"
     ]
    }
   ],
   "source": [
    "student_dic1={'aaradhya':1,'parul':2}\n",
    "student_dic2={'harry':5,'parth':6}\n",
    "student_dic3={'sandhya':7,'disha':9}\n",
    "\n",
    "# join three dictionary \n",
    "\n",
    "student_dic1= {**student_dic1, **student_dic2, ** student_dic3}\n",
    "\n",
    "#printing the final merged dictionary\n",
    "\n",
    "print(student_dic1)"
   ]
  },
  {
   "cell_type": "code",
   "execution_count": 5,
   "id": "a450d0dc",
   "metadata": {},
   "outputs": [],
   "source": [
    "dic1={'name':'hero','place':2}\n",
    "dic2={'food':'momo'}\n",
    "dic3={'telephone':12344}"
   ]
  },
  {
   "cell_type": "code",
   "execution_count": 7,
   "id": "03c676e5",
   "metadata": {},
   "outputs": [
    {
     "name": "stdout",
     "output_type": "stream",
     "text": [
      "{'name': 'hero', 'place': 2, 'food': 'momo', 'telephone': 12344}\n"
     ]
    }
   ],
   "source": [
    "dic4={**dic1,**dic2,**dic3}\n",
    "print(dic4)"
   ]
  },
  {
   "cell_type": "markdown",
   "id": "ad7e2cde",
   "metadata": {},
   "source": [
    "# Copy a dictionary"
   ]
  },
  {
   "cell_type": "code",
   "execution_count": 1,
   "id": "a45a5b68",
   "metadata": {},
   "outputs": [
    {
     "name": "stdout",
     "output_type": "stream",
     "text": [
      "{'food': 'momo', 'scool': 'birla', 'no.': [421, 5678, 34, 21]}\n",
      "{'person': 'pawan', 'place': 'halwani'}\n"
     ]
    }
   ],
   "source": [
    "dic1={'food':'momo','scool':'birla','no.':[421,5678,34,21]}\n",
    "dic2={'person':'pawan','place':'halwani'}\n",
    "\n",
    "dic3=dic1.copy()\n",
    "\n",
    "print(dic3)\n",
    "\n",
    "dic4=dic2.copy()\n",
    "\n",
    "print(dic4)"
   ]
  },
  {
   "cell_type": "code",
   "execution_count": 2,
   "id": "62e83cd9",
   "metadata": {},
   "outputs": [
    {
     "data": {
      "text/plain": [
       "{'person': 'pawan', 'place': 'halwani'}"
      ]
     },
     "execution_count": 2,
     "metadata": {},
     "output_type": "execute_result"
    }
   ],
   "source": [
    "dic2.copy()"
   ]
  },
  {
   "cell_type": "code",
   "execution_count": 8,
   "id": "b6def22e",
   "metadata": {},
   "outputs": [],
   "source": [
    "dic1={'food':'momo','scool':'birla','no.':[421,5678,34,21]}\n",
    "dic2={'person':'pawan','place':'halwani'}"
   ]
  },
  {
   "cell_type": "code",
   "execution_count": 10,
   "id": "dc969139",
   "metadata": {},
   "outputs": [
    {
     "name": "stdout",
     "output_type": "stream",
     "text": [
      "{'person': 'pawan', 'place': 'halwani'}\n"
     ]
    }
   ],
   "source": [
    "dic1=dic2.copy()\n",
    "print(dic1)"
   ]
  },
  {
   "cell_type": "code",
   "execution_count": 14,
   "id": "0e5db992",
   "metadata": {},
   "outputs": [],
   "source": [
    "dic1={'food':'momo','scool':'birla','no.':[421,5678,34,21]}\n",
    "dic2={'person':'pawan','place':'halwani'}"
   ]
  },
  {
   "cell_type": "code",
   "execution_count": 15,
   "id": "44154dda",
   "metadata": {},
   "outputs": [
    {
     "data": {
      "text/plain": [
       "2502156705728"
      ]
     },
     "execution_count": 15,
     "metadata": {},
     "output_type": "execute_result"
    }
   ],
   "source": [
    "id(dic2)"
   ]
  },
  {
   "cell_type": "code",
   "execution_count": 16,
   "id": "f92dcab2",
   "metadata": {},
   "outputs": [
    {
     "name": "stdout",
     "output_type": "stream",
     "text": [
      "{'food': 'momo', 'scool': 'birla', 'no.': [421, 5678, 34, 21]}\n",
      "2502156706432\n"
     ]
    }
   ],
   "source": [
    "dic2=dic1.copy()\n",
    "print(dic2)\n",
    "print(id(dic2))"
   ]
  },
  {
   "cell_type": "markdown",
   "id": "11b24de3",
   "metadata": {},
   "source": [
    "### Using assignment operator"
   ]
  },
  {
   "cell_type": "code",
   "execution_count": 17,
   "id": "600c2279",
   "metadata": {},
   "outputs": [],
   "source": [
    "dic1={'food':'momo','scool':'birla','no.':[421,5678,34,21]}\n",
    "dic2={'person':'pawan','place':'halwani'}"
   ]
  },
  {
   "cell_type": "code",
   "execution_count": 19,
   "id": "4388fd98",
   "metadata": {},
   "outputs": [
    {
     "name": "stdout",
     "output_type": "stream",
     "text": [
      "2502156685952\n"
     ]
    }
   ],
   "source": [
    "print(id(dic1))"
   ]
  },
  {
   "cell_type": "code",
   "execution_count": 20,
   "id": "5d97c2a7",
   "metadata": {},
   "outputs": [
    {
     "name": "stdout",
     "output_type": "stream",
     "text": [
      "{'food': 'momo', 'scool': 'birla', 'no.': [421, 5678, 34, 21]}\n"
     ]
    },
    {
     "data": {
      "text/plain": [
       "2502156685952"
      ]
     },
     "execution_count": 20,
     "metadata": {},
     "output_type": "execute_result"
    }
   ],
   "source": [
    "dic4=dic1\n",
    "\n",
    "print(dic4)\n",
    "\n",
    "id(dic4)"
   ]
  },
  {
   "cell_type": "code",
   "execution_count": null,
   "id": "7274deb1",
   "metadata": {},
   "outputs": [],
   "source": []
  },
  {
   "cell_type": "markdown",
   "id": "c09e06da",
   "metadata": {},
   "source": [
    "## Using dict constructor"
   ]
  },
  {
   "cell_type": "code",
   "execution_count": 26,
   "id": "620e5c74",
   "metadata": {},
   "outputs": [],
   "source": [
    "dic1={'food':'momo','scool':'birla','no.':[421,5678,34,21]}\n",
    "dic2={'person':'pawan','place':'halwani'}"
   ]
  },
  {
   "cell_type": "code",
   "execution_count": 28,
   "id": "45a82e8d",
   "metadata": {},
   "outputs": [],
   "source": [
    "dict3=dict(dic1)"
   ]
  },
  {
   "cell_type": "code",
   "execution_count": 29,
   "id": "e7ef33e7",
   "metadata": {},
   "outputs": [
    {
     "name": "stdout",
     "output_type": "stream",
     "text": [
      "{'food': 'momo', 'scool': 'birla', 'no.': [421, 5678, 34, 21]}\n"
     ]
    }
   ],
   "source": [
    "print(dict3)"
   ]
  },
  {
   "cell_type": "code",
   "execution_count": null,
   "id": "47ccc8f0",
   "metadata": {},
   "outputs": [],
   "source": []
  },
  {
   "cell_type": "code",
   "execution_count": 30,
   "id": "d92426d9",
   "metadata": {},
   "outputs": [],
   "source": [
    "dic1=dict(dic2)"
   ]
  },
  {
   "cell_type": "code",
   "execution_count": 31,
   "id": "dfe707ba",
   "metadata": {},
   "outputs": [
    {
     "name": "stdout",
     "output_type": "stream",
     "text": [
      "{'person': 'pawan', 'place': 'halwani'}\n"
     ]
    }
   ],
   "source": [
    "print(dic1)"
   ]
  },
  {
   "cell_type": "code",
   "execution_count": 32,
   "id": "cddda0f8",
   "metadata": {},
   "outputs": [
    {
     "name": "stdout",
     "output_type": "stream",
     "text": [
      "{'person': 'pawan', 'place': 'halwani'}\n"
     ]
    }
   ],
   "source": [
    "print(dic1)"
   ]
  },
  {
   "cell_type": "code",
   "execution_count": null,
   "id": "1509f789",
   "metadata": {},
   "outputs": [],
   "source": []
  },
  {
   "cell_type": "markdown",
   "id": "692d1c91",
   "metadata": {},
   "source": [
    "## Using items() method"
   ]
  },
  {
   "cell_type": "code",
   "execution_count": 34,
   "id": "669582d2",
   "metadata": {},
   "outputs": [],
   "source": [
    "dict4=dict(dic1.items())"
   ]
  },
  {
   "cell_type": "code",
   "execution_count": 35,
   "id": "1008b71c",
   "metadata": {},
   "outputs": [
    {
     "name": "stdout",
     "output_type": "stream",
     "text": [
      "{'person': 'pawan', 'place': 'halwani'}\n"
     ]
    }
   ],
   "source": [
    "print(dict4)"
   ]
  },
  {
   "cell_type": "code",
   "execution_count": null,
   "id": "a2a0cea5",
   "metadata": {},
   "outputs": [],
   "source": []
  },
  {
   "cell_type": "code",
   "execution_count": null,
   "id": "2fd867e7",
   "metadata": {},
   "outputs": [],
   "source": []
  },
  {
   "cell_type": "markdown",
   "id": "79d92caa",
   "metadata": {},
   "source": [
    "# Nested dictionary"
   ]
  },
  {
   "cell_type": "code",
   "execution_count": 37,
   "id": "8e02f4fb",
   "metadata": {},
   "outputs": [],
   "source": [
    "dict5={'standard':dic1,'class':dic2,}"
   ]
  },
  {
   "cell_type": "code",
   "execution_count": 38,
   "id": "be8744c4",
   "metadata": {},
   "outputs": [
    {
     "name": "stdout",
     "output_type": "stream",
     "text": [
      "{'standard': {'person': 'pawan', 'place': 'halwani'}, 'class': {'person': 'pawan', 'place': 'halwani'}}\n"
     ]
    }
   ],
   "source": [
    "print(dict5)"
   ]
  },
  {
   "cell_type": "code",
   "execution_count": null,
   "id": "759e600e",
   "metadata": {},
   "outputs": [],
   "source": []
  },
  {
   "cell_type": "markdown",
   "id": "09ea67b8",
   "metadata": {},
   "source": [
    "## Python built-in function with dictionary\n",
    "\n"
   ]
  },
  {
   "cell_type": "markdown",
   "id": "4d2e8ba3",
   "metadata": {},
   "source": [
    "- max() and min()\n",
    "\n",
    " As the name suggests the max() and min() function will return the keys with maximum andminimum values in a dictionary respectively . Only the keys are considered here theri corresponding values  "
   ]
  },
  {
   "cell_type": "code",
   "execution_count": 4,
   "id": "2df4da09",
   "metadata": {},
   "outputs": [
    {
     "name": "stdout",
     "output_type": "stream",
     "text": [
      "Maximum Key 3\n",
      "Minimum key 1\n"
     ]
    }
   ],
   "source": [
    "dict={1:'aaa',2:'bbb',3:'AAA'}\n",
    "\n",
    "print('Maximum Key',max(dict)) #3\n",
    "\n",
    "print('Minimum key',min(dict)) #1"
   ]
  },
  {
   "cell_type": "code",
   "execution_count": 5,
   "id": "4694eb21",
   "metadata": {},
   "outputs": [
    {
     "data": {
      "text/plain": [
       "1"
      ]
     },
     "execution_count": 5,
     "metadata": {},
     "output_type": "execute_result"
    }
   ],
   "source": [
    "min(dict)"
   ]
  },
  {
   "cell_type": "markdown",
   "id": "fd84e88f",
   "metadata": {},
   "source": [
    "## Sorted()"
   ]
  },
  {
   "cell_type": "code",
   "execution_count": 2,
   "id": "37fe6728",
   "metadata": {},
   "outputs": [],
   "source": [
    "dict1={'name': \"pawan\",\"key\":40}"
   ]
  },
  {
   "cell_type": "code",
   "execution_count": 4,
   "id": "2ab682b7",
   "metadata": {},
   "outputs": [
    {
     "data": {
      "text/plain": [
       "['key', 'name']"
      ]
     },
     "execution_count": 4,
     "metadata": {},
     "output_type": "execute_result"
    }
   ],
   "source": [
    "sorted(dict1)"
   ]
  },
  {
   "cell_type": "code",
   "execution_count": null,
   "id": "15cbdfcd",
   "metadata": {},
   "outputs": [],
   "source": []
  },
  {
   "cell_type": "code",
   "execution_count": null,
   "id": "88a63247",
   "metadata": {},
   "outputs": [],
   "source": []
  },
  {
   "cell_type": "code",
   "execution_count": 6,
   "id": "4f4f6dfa",
   "metadata": {},
   "outputs": [
    {
     "ename": "AttributeError",
     "evalue": "'dict' object has no attribute 'discard'",
     "output_type": "error",
     "traceback": [
      "\u001b[1;31m---------------------------------------------------------------------------\u001b[0m",
      "\u001b[1;31mAttributeError\u001b[0m                            Traceback (most recent call last)",
      "Cell \u001b[1;32mIn[6], line 1\u001b[0m\n\u001b[1;32m----> 1\u001b[0m dict1\u001b[38;5;241m.\u001b[39mdiscard(\u001b[38;5;124m'\u001b[39m\u001b[38;5;124mname\u001b[39m\u001b[38;5;124m'\u001b[39m)\n",
      "\u001b[1;31mAttributeError\u001b[0m: 'dict' object has no attribute 'discard'"
     ]
    }
   ],
   "source": [
    "dict1.discard('name')"
   ]
  },
  {
   "cell_type": "code",
   "execution_count": 8,
   "id": "05d7a711",
   "metadata": {},
   "outputs": [
    {
     "ename": "AttributeError",
     "evalue": "'dict' object has no attribute 'add'",
     "output_type": "error",
     "traceback": [
      "\u001b[1;31m---------------------------------------------------------------------------\u001b[0m",
      "\u001b[1;31mAttributeError\u001b[0m                            Traceback (most recent call last)",
      "Cell \u001b[1;32mIn[8], line 1\u001b[0m\n\u001b[1;32m----> 1\u001b[0m dict1\u001b[38;5;241m.\u001b[39madd(\u001b[38;5;124m'\u001b[39m\u001b[38;5;124mvalue\u001b[39m\u001b[38;5;124m'\u001b[39m)\n",
      "\u001b[1;31mAttributeError\u001b[0m: 'dict' object has no attribute 'add'"
     ]
    }
   ],
   "source": [
    "dict1.add('value')"
   ]
  },
  {
   "cell_type": "code",
   "execution_count": 11,
   "id": "a236f651",
   "metadata": {},
   "outputs": [],
   "source": [
    "dict2={'class':3}"
   ]
  },
  {
   "cell_type": "code",
   "execution_count": 12,
   "id": "147b8406",
   "metadata": {},
   "outputs": [
    {
     "ename": "TypeError",
     "evalue": "unsupported operand type(s) for +: 'dict' and 'dict'",
     "output_type": "error",
     "traceback": [
      "\u001b[1;31m---------------------------------------------------------------------------\u001b[0m",
      "\u001b[1;31mTypeError\u001b[0m                                 Traceback (most recent call last)",
      "Cell \u001b[1;32mIn[12], line 1\u001b[0m\n\u001b[1;32m----> 1\u001b[0m dict1\u001b[38;5;241m+\u001b[39mdict2\n",
      "\u001b[1;31mTypeError\u001b[0m: unsupported operand type(s) for +: 'dict' and 'dict'"
     ]
    }
   ],
   "source": [
    "dict1+dict2"
   ]
  },
  {
   "cell_type": "code",
   "execution_count": 13,
   "id": "95cf20b1",
   "metadata": {},
   "outputs": [
    {
     "ename": "AttributeError",
     "evalue": "'dict' object has no attribute 'index'",
     "output_type": "error",
     "traceback": [
      "\u001b[1;31m---------------------------------------------------------------------------\u001b[0m",
      "\u001b[1;31mAttributeError\u001b[0m                            Traceback (most recent call last)",
      "Cell \u001b[1;32mIn[13], line 1\u001b[0m\n\u001b[1;32m----> 1\u001b[0m dict1\u001b[38;5;241m.\u001b[39mindex[\u001b[38;5;124m'\u001b[39m\u001b[38;5;124mname\u001b[39m\u001b[38;5;124m'\u001b[39m]\n",
      "\u001b[1;31mAttributeError\u001b[0m: 'dict' object has no attribute 'index'"
     ]
    }
   ],
   "source": [
    "dict1.index['name']"
   ]
  },
  {
   "cell_type": "code",
   "execution_count": null,
   "id": "8e53495c",
   "metadata": {},
   "outputs": [],
   "source": []
  },
  {
   "cell_type": "markdown",
   "id": "8dd01f3c",
   "metadata": {},
   "source": [
    "## all(), any()"
   ]
  },
  {
   "cell_type": "code",
   "execution_count": 47,
   "id": "0c0fe469",
   "metadata": {},
   "outputs": [],
   "source": [
    "dic9={'name':0,'class':12}\n",
    "dic10={0:'name','pace':12}\n",
    "dic11={}"
   ]
  },
  {
   "cell_type": "code",
   "execution_count": 42,
   "id": "1ceace09",
   "metadata": {},
   "outputs": [
    {
     "data": {
      "text/plain": [
       "True"
      ]
     },
     "execution_count": 42,
     "metadata": {},
     "output_type": "execute_result"
    }
   ],
   "source": [
    "all(dic9)"
   ]
  },
  {
   "cell_type": "code",
   "execution_count": 50,
   "id": "645f5db3",
   "metadata": {},
   "outputs": [
    {
     "name": "stdout",
     "output_type": "stream",
     "text": [
      "False\n"
     ]
    },
    {
     "data": {
      "text/plain": [
       "True"
      ]
     },
     "execution_count": 50,
     "metadata": {},
     "output_type": "execute_result"
    }
   ],
   "source": [
    "print(all(dic10))\n",
    "all(dic11)"
   ]
  },
  {
   "cell_type": "code",
   "execution_count": null,
   "id": "10c360ed",
   "metadata": {},
   "outputs": [],
   "source": []
  },
  {
   "cell_type": "code",
   "execution_count": 46,
   "id": "c3cbafe8",
   "metadata": {},
   "outputs": [
    {
     "data": {
      "text/plain": [
       "True"
      ]
     },
     "execution_count": 46,
     "metadata": {},
     "output_type": "execute_result"
    }
   ],
   "source": [
    "any(dic10)"
   ]
  },
  {
   "cell_type": "code",
   "execution_count": 48,
   "id": "cb83e020",
   "metadata": {},
   "outputs": [
    {
     "data": {
      "text/plain": [
       "False"
      ]
     },
     "execution_count": 48,
     "metadata": {},
     "output_type": "execute_result"
    }
   ],
   "source": [
    "any(dic11)"
   ]
  },
  {
   "cell_type": "code",
   "execution_count": null,
   "id": "82b6301f",
   "metadata": {},
   "outputs": [],
   "source": []
  },
  {
   "cell_type": "markdown",
   "id": "90339deb",
   "metadata": {},
   "source": [
    "# Dictionary comprehension"
   ]
  },
  {
   "cell_type": "code",
   "execution_count": 51,
   "id": "fd014299",
   "metadata": {},
   "outputs": [],
   "source": [
    "numbers=[1,3,5,2,8]"
   ]
  },
  {
   "cell_type": "code",
   "execution_count": 53,
   "id": "ab006a0c",
   "metadata": {},
   "outputs": [
    {
     "name": "stdout",
     "output_type": "stream",
     "text": [
      "{2: 4, 8: 64}\n"
     ]
    }
   ],
   "source": [
    "output_dict={x:x**2 for x in numbers if x%2==0}\n",
    "print(output_dict)"
   ]
  },
  {
   "cell_type": "code",
   "execution_count": 54,
   "id": "6ece465b",
   "metadata": {},
   "outputs": [
    {
     "data": {
      "text/plain": [
       "dict"
      ]
     },
     "execution_count": 54,
     "metadata": {},
     "output_type": "execute_result"
    }
   ],
   "source": [
    "type(output_dict)"
   ]
  },
  {
   "cell_type": "markdown",
   "id": "2b9ccd36",
   "metadata": {},
   "source": [
    "### Second method"
   ]
  },
  {
   "cell_type": "code",
   "execution_count": 55,
   "id": "a2975bb9",
   "metadata": {},
   "outputs": [],
   "source": [
    "telephone_book=[1179,2000,3500]\n",
    "person=['suri','gautam','ashish']"
   ]
  },
  {
   "cell_type": "code",
   "execution_count": 58,
   "id": "4661fc5b",
   "metadata": {},
   "outputs": [
    {
     "name": "stdout",
     "output_type": "stream",
     "text": [
      "{'suri': 1179, 'gautam': 2000, 'ashish': 3500}\n"
     ]
    }
   ],
   "source": [
    "telephone_dict={key:value for key,value in zip(person,telephone_book)}\n",
    "\n",
    "print(telephone_dict)"
   ]
  },
  {
   "cell_type": "code",
   "execution_count": null,
   "id": "81e4c0a9",
   "metadata": {},
   "outputs": [],
   "source": []
  },
  {
   "cell_type": "code",
   "execution_count": null,
   "id": "1150acae",
   "metadata": {},
   "outputs": [],
   "source": []
  },
  {
   "cell_type": "markdown",
   "id": "7eb2211f",
   "metadata": {},
   "source": [
    "# Zip function\n",
    "\n",
    "the zip function in python is used to aggregate elements from multiple iterable like(lists,tupes...) and returns an iterator of tuples  where each tuple contains the elements from the corresponding position of the input iterable  "
   ]
  },
  {
   "cell_type": "markdown",
   "id": "c98c05fa",
   "metadata": {},
   "source": [
    "Syntax:\n",
    "\n",
    "zip(iterables)\n"
   ]
  },
  {
   "cell_type": "code",
   "execution_count": 61,
   "id": "f4aef328",
   "metadata": {},
   "outputs": [
    {
     "name": "stdout",
     "output_type": "stream",
     "text": [
      "<zip object at 0x000002713F3131C0>\n"
     ]
    }
   ],
   "source": [
    "numbers=(1,2,3)\n",
    "letters=('a','b','c')\n",
    "\n",
    "zipped= zip(numbers,letters)\n",
    "print(zipped)   # gives the memory address"
   ]
  },
  {
   "cell_type": "code",
   "execution_count": 62,
   "id": "6c03baba",
   "metadata": {},
   "outputs": [
    {
     "name": "stdout",
     "output_type": "stream",
     "text": [
      "[(1, 'a'), (2, 'b'), (3, 'c')]\n"
     ]
    }
   ],
   "source": [
    "# converting it into list \n",
    "\n",
    "zipped_list= list(zip(numbers,letters))\n",
    "print(zipped_list)"
   ]
  },
  {
   "cell_type": "code",
   "execution_count": 63,
   "id": "7e653863",
   "metadata": {},
   "outputs": [
    {
     "name": "stdout",
     "output_type": "stream",
     "text": [
      "(1, 'a')\n",
      "(2, 'b')\n",
      "(3, 'c')\n"
     ]
    }
   ],
   "source": [
    "for i in zipped:\n",
    "    print(i)"
   ]
  },
  {
   "cell_type": "code",
   "execution_count": null,
   "id": "f9c89e49",
   "metadata": {},
   "outputs": [],
   "source": []
  },
  {
   "cell_type": "code",
   "execution_count": 69,
   "id": "a9273247",
   "metadata": {},
   "outputs": [],
   "source": [
    "numbers=(1,2,3)\n",
    "letters=['a','b','c']"
   ]
  },
  {
   "cell_type": "code",
   "execution_count": 68,
   "id": "d7008c5b",
   "metadata": {},
   "outputs": [
    {
     "name": "stdout",
     "output_type": "stream",
     "text": [
      "[(1, 'a'), (2, 'b'), (3, 'c')]\n"
     ]
    }
   ],
   "source": [
    "one=list(zip(numbers,letters))\n",
    "print(one)"
   ]
  },
  {
   "cell_type": "code",
   "execution_count": null,
   "id": "122872a5",
   "metadata": {},
   "outputs": [],
   "source": []
  }
 ],
 "metadata": {
  "kernelspec": {
   "display_name": "Python 3 (ipykernel)",
   "language": "python",
   "name": "python3"
  },
  "language_info": {
   "codemirror_mode": {
    "name": "ipython",
    "version": 3
   },
   "file_extension": ".py",
   "mimetype": "text/x-python",
   "name": "python",
   "nbconvert_exporter": "python",
   "pygments_lexer": "ipython3",
   "version": "3.11.7"
  }
 },
 "nbformat": 4,
 "nbformat_minor": 5
}
