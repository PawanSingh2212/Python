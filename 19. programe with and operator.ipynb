{
 "cells": [
  {
   "cell_type": "markdown",
   "id": "5ef56881",
   "metadata": {},
   "source": [
    "# Bank validation"
   ]
  },
  {
   "cell_type": "code",
   "execution_count": 2,
   "id": "650a8e52",
   "metadata": {},
   "outputs": [
    {
     "name": "stdout",
     "output_type": "stream",
     "text": [
      "congratulation you are qualified for premium account\n"
     ]
    }
   ],
   "source": [
    "# qualifications\n",
    "coustmer_age=30\n",
    "account_bal=10000\n",
    "credit_score=750\n",
    "\n",
    "#define the eligibility conditions\n",
    "min_age=18\n",
    "min_bal=5000\n",
    "min_credit_score=700\n",
    "\n",
    "# check eligibilty using the\"and\" operator\n",
    "is_eligible_for_premium_account=(coustmer_age>=min_age) and (account_bal>=min_bal) and (credit_score>=min_credit_score)\n",
    "\n",
    "# display the eligibility status\n",
    "if is_eligible_for_premium_account:\n",
    "    print('congratulation you are qualified for premium account')\n",
    "else:\n",
    "    print('sorry you are not qualified for premium account')"
   ]
  },
  {
   "cell_type": "code",
   "execution_count": null,
   "id": "806ee652",
   "metadata": {},
   "outputs": [],
   "source": []
  },
  {
   "cell_type": "code",
   "execution_count": null,
   "id": "7f230e64",
   "metadata": {},
   "outputs": [],
   "source": [
    "min_age=21\n",
    "min_bal=100000\n",
    "cibil_score=6\n",
    "\n",
    "age=int(input('enter your age'))\n",
    "bal=int(input('enter your balance'))\n",
    "cibil=int(input('enter your cibil score'))\n",
    "\n",
    "\n",
    "Elegibility=(age>=min_age) and (bal>=min_bal) and (cibil>=cibil_score)\n",
    "if Elegibility:\n",
    "    print('you are eligible')\n",
    "else:\n",
    "    print('you are not eligible')"
   ]
  },
  {
   "cell_type": "code",
   "execution_count": null,
   "id": "d227d812",
   "metadata": {},
   "outputs": [],
   "source": []
  },
  {
   "cell_type": "markdown",
   "id": "67373d4e",
   "metadata": {},
   "source": [
    "# Device authentication"
   ]
  },
  {
   "cell_type": "code",
   "execution_count": 3,
   "id": "187d8031",
   "metadata": {},
   "outputs": [
    {
     "name": "stdout",
     "output_type": "stream",
     "text": [
      "user cannot control the device\n"
     ]
    }
   ],
   "source": [
    "logged_in_user=\"user123\"\n",
    "device_owner=\"user1230\"\n",
    "device_id=\"device456\"\n",
    "\n",
    "logged_in= True if logged_in_user else False\n",
    "\n",
    "if logged_in and logged_in_user== device_owner:\n",
    "    print(\"user can control the device\")\n",
    "else:\n",
    "    print('user cannot control the device')"
   ]
  },
  {
   "cell_type": "code",
   "execution_count": null,
   "id": "2ff662b3",
   "metadata": {},
   "outputs": [],
   "source": []
  },
  {
   "cell_type": "code",
   "execution_count": 2,
   "id": "10738c5a",
   "metadata": {},
   "outputs": [
    {
     "name": "stdout",
     "output_type": "stream",
     "text": [
      "login_user1e2\n",
      "device_ownerrf23f\n",
      "device_idf32f\n",
      "wrong inputs\n"
     ]
    }
   ],
   "source": [
    "logged_in_user=\"user123\"\n",
    "device_owner=\"user1230\"\n",
    "device_id=\"device456\"\n",
    "\n",
    "login_user=str(input('login_user'))\n",
    "device_own=str(input('device_owner'))\n",
    "D_id=str(input('device_id'))\n",
    "\n",
    "if (login_user==logged_in_user) and (device_own==device_owner) and (D_id==device_id):\n",
    "    print('welcome')\n",
    "else:\n",
    "    print('wrong i nputs')"
   ]
  },
  {
   "cell_type": "code",
   "execution_count": null,
   "id": "1f994d04",
   "metadata": {},
   "outputs": [],
   "source": []
  },
  {
   "cell_type": "markdown",
   "id": "e0103bd3",
   "metadata": {},
   "source": [
    "# Inventary management"
   ]
  },
  {
   "cell_type": "code",
   "execution_count": null,
   "id": "9c7a8fa5",
   "metadata": {},
   "outputs": [],
   "source": [
    "availability>0 and price>=min_price and price<=mx_price"
   ]
  },
  {
   "cell_type": "code",
   "execution_count": null,
   "id": "519fd321",
   "metadata": {},
   "outputs": [],
   "source": []
  },
  {
   "cell_type": "code",
   "execution_count": null,
   "id": "398ebff0",
   "metadata": {},
   "outputs": [],
   "source": []
  },
  {
   "cell_type": "code",
   "execution_count": null,
   "id": "576dbefe",
   "metadata": {},
   "outputs": [],
   "source": []
  },
  {
   "cell_type": "code",
   "execution_count": null,
   "id": "ddd07727",
   "metadata": {},
   "outputs": [],
   "source": []
  },
  {
   "cell_type": "code",
   "execution_count": null,
   "id": "0af1e128",
   "metadata": {},
   "outputs": [],
   "source": []
  },
  {
   "cell_type": "code",
   "execution_count": null,
   "id": "53198e76",
   "metadata": {},
   "outputs": [],
   "source": []
  }
 ],
 "metadata": {
  "kernelspec": {
   "display_name": "Python 3 (ipykernel)",
   "language": "python",
   "name": "python3"
  },
  "language_info": {
   "codemirror_mode": {
    "name": "ipython",
    "version": 3
   },
   "file_extension": ".py",
   "mimetype": "text/x-python",
   "name": "python",
   "nbconvert_exporter": "python",
   "pygments_lexer": "ipython3",
   "version": "3.11.3"
  }
 },
 "nbformat": 4,
 "nbformat_minor": 5
}
