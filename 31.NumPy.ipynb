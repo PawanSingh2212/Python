{
 "cells": [
  {
   "cell_type": "code",
   "execution_count": 3,
   "id": "7bc28ec8-ebf7-4af8-85ac-c3608ad1cdb3",
   "metadata": {},
   "outputs": [],
   "source": [
    " import numpy as np   # np is Elias name \n",
    "\n"
   ]
  },
  {
   "cell_type": "code",
   "execution_count": 13,
   "id": "e5af10b2-4a39-4e6d-bf0c-24a99e8d959b",
   "metadata": {},
   "outputs": [
    {
     "name": "stdout",
     "output_type": "stream",
     "text": [
      "[1 2 3 4 5]\n"
     ]
    }
   ],
   "source": [
    "my_1st=[1,2,3,4,5]\n",
    "\n",
    "arr=np.array(my_1st)\n",
    "\n",
    "print(arr)"
   ]
  },
  {
   "cell_type": "code",
   "execution_count": 14,
   "id": "5a24f9c4-a0b5-45e3-b6b0-eb2860c4a45a",
   "metadata": {},
   "outputs": [
    {
     "data": {
      "text/plain": [
       "numpy.ndarray"
      ]
     },
     "execution_count": 14,
     "metadata": {},
     "output_type": "execute_result"
    }
   ],
   "source": [
    "type(arr)"
   ]
  },
  {
   "cell_type": "code",
   "execution_count": 15,
   "id": "458bfc6d-1184-4e40-a566-d1f05e304661",
   "metadata": {},
   "outputs": [
    {
     "data": {
      "text/plain": [
       "(5,)"
      ]
     },
     "execution_count": 15,
     "metadata": {},
     "output_type": "execute_result"
    }
   ],
   "source": [
    "arr.shape"
   ]
  },
  {
   "cell_type": "code",
   "execution_count": null,
   "id": "b5a3c16e-5e72-4ce4-b65d-93aad039ffee",
   "metadata": {},
   "outputs": [],
   "source": []
  },
  {
   "cell_type": "code",
   "execution_count": 3,
   "id": "37c8f0bc-40ec-47ff-bb2a-abdbf8944970",
   "metadata": {},
   "outputs": [
    {
     "data": {
      "text/plain": [
       "array([[1, 2, 3, 4, 5],\n",
       "       [2, 3, 4, 5, 6],\n",
       "       [9, 7, 6, 8, 9]])"
      ]
     },
     "execution_count": 3,
     "metadata": {},
     "output_type": "execute_result"
    }
   ],
   "source": [
    "import numpy as np\n",
    "my_lst1=[1,2,3,4,5]\n",
    "my_lst2=[2,3,4,5,6]\n",
    "my_lst3=[9,7,6,8,9]\n",
    "\n",
    "arre=np.array([my_lst1,my_lst2,my_lst3])\n",
    "\n",
    "arre"
   ]
  },
  {
   "cell_type": "code",
   "execution_count": 17,
   "id": "8d9aa93e-d0ed-453c-a881-67f1f6025d10",
   "metadata": {},
   "outputs": [
    {
     "data": {
      "text/plain": [
       "(3, 5)"
      ]
     },
     "execution_count": 17,
     "metadata": {},
     "output_type": "execute_result"
    }
   ],
   "source": [
    "arre.shape\n",
    "\n",
    "# it is showing that the array has 3 Rows and 5 coloumn "
   ]
  },
  {
   "cell_type": "code",
   "execution_count": 18,
   "id": "92ac5f96-c6f5-452b-8244-daf804d06789",
   "metadata": {},
   "outputs": [
    {
     "data": {
      "text/plain": [
       "array([[1, 2, 3],\n",
       "       [4, 5, 2],\n",
       "       [3, 4, 5],\n",
       "       [6, 9, 7],\n",
       "       [6, 8, 9]])"
      ]
     },
     "execution_count": 18,
     "metadata": {},
     "output_type": "execute_result"
    }
   ],
   "source": [
    "arre.reshape(5,3) # 5rows , 3 coloumn\n",
    "\n",
    "# reshape can change the dimensions of the arrays \n"
   ]
  },
  {
   "cell_type": "code",
   "execution_count": 19,
   "id": "b0251160-6bde-4884-892c-1a8c0b48959b",
   "metadata": {},
   "outputs": [
    {
     "data": {
      "text/plain": [
       "(3, 5)"
      ]
     },
     "execution_count": 19,
     "metadata": {},
     "output_type": "execute_result"
    }
   ],
   "source": [
    "arre.shape # checking after reshaping "
   ]
  },
  {
   "cell_type": "code",
   "execution_count": null,
   "id": "4438d111-c4df-4058-a61a-6a2eac034135",
   "metadata": {},
   "outputs": [],
   "source": []
  },
  {
   "cell_type": "markdown",
   "id": "71221a90-ff31-4d0c-bc96-c73181e9cfe6",
   "metadata": {},
   "source": [
    "-  assigning a variable and reshaping "
   ]
  },
  {
   "cell_type": "code",
   "execution_count": 20,
   "id": "9fb8332d-109c-4fe6-bc5c-3633dfd7d465",
   "metadata": {},
   "outputs": [
    {
     "name": "stdout",
     "output_type": "stream",
     "text": [
      "[[1 2 3]\n",
      " [4 5 2]\n",
      " [3 4 5]\n",
      " [6 9 7]\n",
      " [6 8 9]]\n",
      "(5, 3)\n"
     ]
    }
   ],
   "source": [
    "x=arre.reshape(5,3)\n",
    "print(x)\n",
    "\n",
    "print(x.shape) # 5 row 3 column "
   ]
  },
  {
   "cell_type": "code",
   "execution_count": null,
   "id": "1e2f5450-d6d5-474b-b08a-6b02e54b4893",
   "metadata": {},
   "outputs": [],
   "source": []
  },
  {
   "cell_type": "code",
   "execution_count": 21,
   "id": "67701d46-fe89-4f75-ba36-75c2178c6f67",
   "metadata": {},
   "outputs": [
    {
     "ename": "ValueError",
     "evalue": "cannot reshape array of size 15 into shape (3,4)",
     "output_type": "error",
     "traceback": [
      "\u001b[1;31m---------------------------------------------------------------------------\u001b[0m",
      "\u001b[1;31mValueError\u001b[0m                                Traceback (most recent call last)",
      "Cell \u001b[1;32mIn[21], line 1\u001b[0m\n\u001b[1;32m----> 1\u001b[0m arre\u001b[38;5;241m.\u001b[39mreshape(\u001b[38;5;241m3\u001b[39m,\u001b[38;5;241m4\u001b[39m)\n",
      "\u001b[1;31mValueError\u001b[0m: cannot reshape array of size 15 into shape (3,4)"
     ]
    }
   ],
   "source": [
    "arre.reshape(3,4)  # no. of row and should be in syn with array"
   ]
  },
  {
   "cell_type": "code",
   "execution_count": null,
   "id": "79b01b18-1c9a-4cc5-8ab1-9689023ea4b4",
   "metadata": {},
   "outputs": [],
   "source": [
    "arre.reshape(1,1)"
   ]
  },
  {
   "cell_type": "code",
   "execution_count": 1,
   "id": "b6492579-7569-4ecb-9851-e68e14380a51",
   "metadata": {},
   "outputs": [
    {
     "ename": "NameError",
     "evalue": "name 'arre' is not defined",
     "output_type": "error",
     "traceback": [
      "\u001b[1;31m---------------------------------------------------------------------------\u001b[0m",
      "\u001b[1;31mNameError\u001b[0m                                 Traceback (most recent call last)",
      "Cell \u001b[1;32mIn[1], line 1\u001b[0m\n\u001b[1;32m----> 1\u001b[0m arre\u001b[38;5;241m.\u001b[39mreshape(\u001b[38;5;241m1\u001b[39m,\u001b[38;5;241m15\u001b[39m)\n",
      "\u001b[1;31mNameError\u001b[0m: name 'arre' is not defined"
     ]
    }
   ],
   "source": [
    "arre.reshape(1,15)"
   ]
  },
  {
   "cell_type": "code",
   "execution_count": null,
   "id": "894ceead-f644-44aa-b49b-81eb6976441f",
   "metadata": {},
   "outputs": [],
   "source": []
  },
  {
   "cell_type": "markdown",
   "id": "b0091e50-ba0e-498f-88f9-d67928a06979",
   "metadata": {},
   "source": [
    "### Indexing"
   ]
  },
  {
   "cell_type": "code",
   "execution_count": 23,
   "id": "ee254b54-7d5a-4161-b802-428a50b22b18",
   "metadata": {},
   "outputs": [
    {
     "ename": "TypeError",
     "evalue": "array() takes from 1 to 2 positional arguments but 9 were given",
     "output_type": "error",
     "traceback": [
      "\u001b[1;31m---------------------------------------------------------------------------\u001b[0m",
      "\u001b[1;31mTypeError\u001b[0m                                 Traceback (most recent call last)",
      "Cell \u001b[1;32mIn[23], line 3\u001b[0m\n\u001b[0;32m      1\u001b[0m \u001b[38;5;66;03m## Accessing the array element\u001b[39;00m\n\u001b[1;32m----> 3\u001b[0m arr\u001b[38;5;241m=\u001b[39mnp\u001b[38;5;241m.\u001b[39marray(\u001b[38;5;241m1\u001b[39m,\u001b[38;5;241m2\u001b[39m,\u001b[38;5;241m3\u001b[39m,\u001b[38;5;241m4\u001b[39m,\u001b[38;5;241m5\u001b[39m,\u001b[38;5;241m6\u001b[39m,\u001b[38;5;241m7\u001b[39m,\u001b[38;5;241m8\u001b[39m,\u001b[38;5;241m9\u001b[39m)\n\u001b[0;32m      5\u001b[0m \u001b[38;5;28mprint\u001b[39m(arr[\u001b[38;5;241m3\u001b[39m])\n",
      "\u001b[1;31mTypeError\u001b[0m: array() takes from 1 to 2 positional arguments but 9 were given"
     ]
    }
   ],
   "source": [
    "## Accessing the array element\n",
    "\n",
    "arr=np.array(1,2,3,4,5,6,7,8,9)\n",
    "\n",
    "print(arr[3])"
   ]
  },
  {
   "cell_type": "code",
   "execution_count": 24,
   "id": "69ed284c-8307-4737-a912-7cf7fc795cc7",
   "metadata": {},
   "outputs": [
    {
     "name": "stdout",
     "output_type": "stream",
     "text": [
      "4\n"
     ]
    }
   ],
   "source": [
    "\n",
    "arr=np.array([1,2,3,4,5,6,7,8,9])\n",
    "\n",
    "print(arr[3])"
   ]
  },
  {
   "cell_type": "markdown",
   "id": "c9a07554-b826-4394-885b-ee97a83d4478",
   "metadata": {},
   "source": [
    "#### Row/ column index "
   ]
  },
  {
   "cell_type": "code",
   "execution_count": 25,
   "id": "12c7b3b6-c6ba-42d7-85f4-a84815abe3b9",
   "metadata": {},
   "outputs": [
    {
     "name": "stdout",
     "output_type": "stream",
     "text": [
      "[[1 2 3 4 5]\n",
      " [2 3 4 5 6]\n",
      " [9 7 6 8 9]]\n",
      "2\n"
     ]
    },
    {
     "ename": "IndexError",
     "evalue": "index 3 is out of bounds for axis 0 with size 3",
     "output_type": "error",
     "traceback": [
      "\u001b[1;31m---------------------------------------------------------------------------\u001b[0m",
      "\u001b[1;31mIndexError\u001b[0m                                Traceback (most recent call last)",
      "Cell \u001b[1;32mIn[25], line 4\u001b[0m\n\u001b[0;32m      2\u001b[0m \u001b[38;5;28mprint\u001b[39m(arre)\n\u001b[0;32m      3\u001b[0m \u001b[38;5;28mprint\u001b[39m(arre\u001b[38;5;241m.\u001b[39mndim)\n\u001b[1;32m----> 4\u001b[0m \u001b[38;5;28mprint\u001b[39m(arre[\u001b[38;5;241m3\u001b[39m])\n",
      "\u001b[1;31mIndexError\u001b[0m: index 3 is out of bounds for axis 0 with size 3"
     ]
    }
   ],
   "source": [
    "# for 2-d array\n",
    "print(arre)\n",
    "print(arre.ndim)\n",
    "print(arre[3]) # row index 3 is not persent "
   ]
  },
  {
   "cell_type": "markdown",
   "id": "525de9a6-db97-40fb-a290-986e67d1def0",
   "metadata": {},
   "source": [
    "- in this [1,2,3,4,5] is row index=0\n",
    "          [2,3,4,5,6] is row index =1\n",
    "          [9,7,6,8,9] is row index=2\n",
    "- similarly \n",
    "           1  2  3  \n",
    "           2  3  4\n",
    "           9  7  6\n",
    "     are coloumn index=0\n",
    "           ''     ''  =1\n",
    "           ''     '' = 2"
   ]
  },
  {
   "cell_type": "code",
   "execution_count": 5,
   "id": "92f8c161-09ef-4a4b-bf0f-99d3c41b1235",
   "metadata": {},
   "outputs": [
    {
     "name": "stdout",
     "output_type": "stream",
     "text": [
      "[[ 1  2  3  5  2  2  2]\n",
      " [ 2  2  3  6 78 12 12]\n",
      " [89  6  2 45 67 12 33]]\n"
     ]
    },
    {
     "data": {
      "text/plain": [
       "array([ 2,  2,  3,  6, 78, 12, 12])"
      ]
     },
     "execution_count": 5,
     "metadata": {},
     "output_type": "execute_result"
    }
   ],
   "source": [
    "import numpy as np \n",
    "x=[1,2,3,5,2,2,2,]\n",
    "y=[2,2,3,6,78,12,12]\n",
    "z=[89,6,2,45,67,12,33]\n",
    "\n",
    "paw=np.array([x,y,z])\n",
    "print(paw)   \n",
    "\n",
    "paw[1] # it is giving the row index 1 ie;[2,2,3,6,78,12,12]"
   ]
  },
  {
   "cell_type": "code",
   "execution_count": null,
   "id": "c558609e-9a64-4071-849e-bdfeabea39fb",
   "metadata": {},
   "outputs": [],
   "source": []
  },
  {
   "cell_type": "markdown",
   "id": "7e8d0671-a8a2-4a39-b681-9063eddf3b31",
   "metadata": {},
   "source": [
    "### Slicing "
   ]
  },
  {
   "cell_type": "code",
   "execution_count": 26,
   "id": "a321cc94-2671-48e9-bbbb-9bede527119a",
   "metadata": {},
   "outputs": [
    {
     "data": {
      "text/plain": [
       "array([[1, 2, 3, 4, 5],\n",
       "       [2, 3, 4, 5, 6],\n",
       "       [9, 7, 6, 8, 9]])"
      ]
     },
     "execution_count": 26,
     "metadata": {},
     "output_type": "execute_result"
    }
   ],
   "source": [
    "arre[:,:] # : on left means all the row \n",
    "        # : on right means all the colomn"
   ]
  },
  {
   "cell_type": "code",
   "execution_count": 27,
   "id": "2feca1cd-9b6e-445f-9053-9335557cbd7f",
   "metadata": {},
   "outputs": [
    {
     "data": {
      "text/plain": [
       "array([[1, 2, 3, 4, 5],\n",
       "       [2, 3, 4, 5, 6]])"
      ]
     },
     "execution_count": 27,
     "metadata": {},
     "output_type": "execute_result"
    }
   ],
   "source": [
    "arre[0:2,:]"
   ]
  },
  {
   "cell_type": "code",
   "execution_count": 28,
   "id": "90279224-0af4-493b-9bb0-dd01e1e225fc",
   "metadata": {},
   "outputs": [
    {
     "data": {
      "text/plain": [
       "array([[1, 2],\n",
       "       [2, 3]])"
      ]
     },
     "execution_count": 28,
     "metadata": {},
     "output_type": "execute_result"
    }
   ],
   "source": [
    "# if i want only 1 , 2\n",
    "#               2 , 3  of the arrray\n",
    "\n",
    "arre[0:2,0:2]"
   ]
  },
  {
   "cell_type": "code",
   "execution_count": 29,
   "id": "a32a3b45-88d0-4688-a567-d951e15934f2",
   "metadata": {},
   "outputs": [
    {
     "data": {
      "text/plain": [
       "array([[5]])"
      ]
     },
     "execution_count": 29,
     "metadata": {},
     "output_type": "execute_result"
    }
   ],
   "source": [
    "arre[1:2,3:4]"
   ]
  },
  {
   "cell_type": "code",
   "execution_count": 30,
   "id": "fde31a77-0222-4761-a1c2-bf0ba66030db",
   "metadata": {},
   "outputs": [
    {
     "data": {
      "text/plain": [
       "array([[5, 6],\n",
       "       [8, 9]])"
      ]
     },
     "execution_count": 30,
     "metadata": {},
     "output_type": "execute_result"
    }
   ],
   "source": [
    "arre[1:,3:]"
   ]
  },
  {
   "cell_type": "code",
   "execution_count": 31,
   "id": "c390cd6a-a4fb-4e60-a2a5-0e4b0e6d1b02",
   "metadata": {},
   "outputs": [
    {
     "data": {
      "text/plain": [
       "array([[1, 2, 3, 4, 5],\n",
       "       [2, 3, 4, 5, 6],\n",
       "       [9, 7, 6, 8, 9]])"
      ]
     },
     "execution_count": 31,
     "metadata": {},
     "output_type": "execute_result"
    }
   ],
   "source": [
    "arre"
   ]
  },
  {
   "cell_type": "code",
   "execution_count": 32,
   "id": "67769e6e-5f26-4e19-8f93-a38911580740",
   "metadata": {},
   "outputs": [
    {
     "data": {
      "text/plain": [
       "array([[2, 3, 4, 5, 6]])"
      ]
     },
     "execution_count": 32,
     "metadata": {},
     "output_type": "execute_result"
    }
   ],
   "source": [
    "arre[1:2,:]"
   ]
  },
  {
   "cell_type": "code",
   "execution_count": 33,
   "id": "222bd830-ad59-49e3-ac98-8d66b96d32ae",
   "metadata": {},
   "outputs": [
    {
     "data": {
      "text/plain": [
       "array([[4, 5],\n",
       "       [6, 8]])"
      ]
     },
     "execution_count": 33,
     "metadata": {},
     "output_type": "execute_result"
    }
   ],
   "source": [
    "arre[1:,2:4]"
   ]
  },
  {
   "cell_type": "code",
   "execution_count": 34,
   "id": "81a67ad0-ccb2-42da-ad5e-f4ad6c3e556c",
   "metadata": {},
   "outputs": [
    {
     "data": {
      "text/plain": [
       "array([[7]])"
      ]
     },
     "execution_count": 34,
     "metadata": {},
     "output_type": "execute_result"
    }
   ],
   "source": [
    "arre[2:,1:2]"
   ]
  },
  {
   "cell_type": "code",
   "execution_count": 35,
   "id": "f2e40d51-ec74-4d4b-b00c-23d98e231e67",
   "metadata": {},
   "outputs": [
    {
     "data": {
      "text/plain": [
       "array([[2],\n",
       "       [3],\n",
       "       [7]])"
      ]
     },
     "execution_count": 35,
     "metadata": {},
     "output_type": "execute_result"
    }
   ],
   "source": [
    "arre[0:,1:2]"
   ]
  },
  {
   "cell_type": "code",
   "execution_count": 36,
   "id": "bc34f75a-7489-4221-a27d-6e49781d722f",
   "metadata": {},
   "outputs": [
    {
     "data": {
      "text/plain": [
       "array([[1, 2, 3, 4, 5],\n",
       "       [2, 3, 4, 5, 6],\n",
       "       [9, 7, 6, 8, 9]])"
      ]
     },
     "execution_count": 36,
     "metadata": {},
     "output_type": "execute_result"
    }
   ],
   "source": [
    "arre"
   ]
  },
  {
   "cell_type": "code",
   "execution_count": 37,
   "id": "91407ac8-693f-4394-b95f-c05a7b1ca803",
   "metadata": {},
   "outputs": [
    {
     "data": {
      "text/plain": [
       "array([[2, 3]])"
      ]
     },
     "execution_count": 37,
     "metadata": {},
     "output_type": "execute_result"
    }
   ],
   "source": [
    "arre[0:1,1:3]"
   ]
  },
  {
   "cell_type": "code",
   "execution_count": 38,
   "id": "95f68468-04fa-4751-8b7b-7901f0dba8fa",
   "metadata": {},
   "outputs": [
    {
     "data": {
      "text/plain": [
       "array([[4, 5]])"
      ]
     },
     "execution_count": 38,
     "metadata": {},
     "output_type": "execute_result"
    }
   ],
   "source": [
    "arre[1:2,2:4]"
   ]
  },
  {
   "cell_type": "code",
   "execution_count": 39,
   "id": "c70df60e-3980-468f-9431-6828925ca198",
   "metadata": {},
   "outputs": [
    {
     "name": "stdout",
     "output_type": "stream",
     "text": [
      "9\n"
     ]
    },
    {
     "data": {
      "text/plain": [
       "numpy.int32"
      ]
     },
     "execution_count": 39,
     "metadata": {},
     "output_type": "execute_result"
    }
   ],
   "source": [
    "print(arre[2,4])\n",
    "type(arre[2,4])"
   ]
  },
  {
   "cell_type": "code",
   "execution_count": 40,
   "id": "435c0fb7-2df1-413e-a96f-c1d4115f301e",
   "metadata": {},
   "outputs": [
    {
     "name": "stdout",
     "output_type": "stream",
     "text": [
      "[[9]]\n"
     ]
    },
    {
     "data": {
      "text/plain": [
       "numpy.ndarray"
      ]
     },
     "execution_count": 40,
     "metadata": {},
     "output_type": "execute_result"
    }
   ],
   "source": [
    "print(arre[2:,4:])\n",
    "type(arre[2:,4:])"
   ]
  },
  {
   "cell_type": "code",
   "execution_count": 41,
   "id": "97b1e29a-b80e-4619-813b-ef4679053f1f",
   "metadata": {},
   "outputs": [
    {
     "data": {
      "text/plain": [
       "array([[3, 4, 5]])"
      ]
     },
     "execution_count": 41,
     "metadata": {},
     "output_type": "execute_result"
    }
   ],
   "source": [
    "arre[1:2,1:4]"
   ]
  },
  {
   "cell_type": "code",
   "execution_count": 9,
   "id": "8df6ea71-8055-433f-ab53-11e3ecf0ee85",
   "metadata": {},
   "outputs": [
    {
     "name": "stdout",
     "output_type": "stream",
     "text": [
      "1\n",
      "2\n",
      "3\n"
     ]
    },
    {
     "ename": "IndexError",
     "evalue": "too many indices for array: array is 1-dimensional, but 2 were indexed",
     "output_type": "error",
     "traceback": [
      "\u001b[1;31m---------------------------------------------------------------------------\u001b[0m",
      "\u001b[1;31mIndexError\u001b[0m                                Traceback (most recent call last)",
      "Cell \u001b[1;32mIn[9], line 9\u001b[0m\n\u001b[0;32m      6\u001b[0m \u001b[38;5;28mprint\u001b[39m(S[\u001b[38;5;241m1\u001b[39m])\n\u001b[0;32m      7\u001b[0m \u001b[38;5;28mprint\u001b[39m(S[\u001b[38;5;241m2\u001b[39m])\n\u001b[1;32m----> 9\u001b[0m S[\u001b[38;5;241m0\u001b[39m:\u001b[38;5;241m1\u001b[39m,\u001b[38;5;241m3\u001b[39m:\u001b[38;5;241m4\u001b[39m]\n",
      "\u001b[1;31mIndexError\u001b[0m: too many indices for array: array is 1-dimensional, but 2 were indexed"
     ]
    }
   ],
   "source": [
    "import numpy as np\n",
    "\n",
    "S=np.array([1,2,3,4,5,6,7,8,9,0])\n",
    "\n",
    "print(S[0])\n",
    "print(S[1])\n",
    "print(S[2])\n",
    "\n",
    "S[0:1,3:4]"
   ]
  },
  {
   "cell_type": "code",
   "execution_count": null,
   "id": "bc25c165-8232-44c7-bc1c-5dc0da903593",
   "metadata": {},
   "outputs": [],
   "source": []
  },
  {
   "cell_type": "code",
   "execution_count": null,
   "id": "71b65546-0666-458e-a039-1e914bceac62",
   "metadata": {},
   "outputs": [],
   "source": []
  },
  {
   "cell_type": "markdown",
   "id": "f7eb5dcf-897c-4c33-8f7f-ae078ec950cd",
   "metadata": {},
   "source": [
    "### Arrange"
   ]
  },
  {
   "cell_type": "code",
   "execution_count": 42,
   "id": "914be3d5-7abe-4512-94cc-919e70ecf64e",
   "metadata": {},
   "outputs": [
    {
     "data": {
      "text/plain": [
       "array([[1, 2, 3, 4, 5],\n",
       "       [2, 3, 4, 5, 6],\n",
       "       [9, 7, 6, 8, 9]])"
      ]
     },
     "execution_count": 42,
     "metadata": {},
     "output_type": "execute_result"
    }
   ],
   "source": [
    "arre"
   ]
  },
  {
   "cell_type": "code",
   "execution_count": 43,
   "id": "556c955a-67d5-453a-97a1-68d8b8877446",
   "metadata": {},
   "outputs": [
    {
     "ename": "TypeError",
     "evalue": "'arre' is an invalid keyword argument for print()",
     "output_type": "error",
     "traceback": [
      "\u001b[1;31m---------------------------------------------------------------------------\u001b[0m",
      "\u001b[1;31mTypeError\u001b[0m                                 Traceback (most recent call last)",
      "Cell \u001b[1;32mIn[43], line 1\u001b[0m\n\u001b[1;32m----> 1\u001b[0m \u001b[38;5;28mprint\u001b[39m(arre\u001b[38;5;241m=\u001b[39mnp\u001b[38;5;241m.\u001b[39marange(\u001b[38;5;241m0\u001b[39m,\u001b[38;5;241m10\u001b[39m))\n",
      "\u001b[1;31mTypeError\u001b[0m: 'arre' is an invalid keyword argument for print()"
     ]
    }
   ],
   "source": [
    "print(arre=np.arange(0,10))"
   ]
  },
  {
   "cell_type": "code",
   "execution_count": 44,
   "id": "f240f9f3-6c43-42c8-bc46-18d18e3e90a2",
   "metadata": {},
   "outputs": [
    {
     "data": {
      "text/plain": [
       "array([0, 1, 2, 3, 4, 5, 6, 7, 8, 9])"
      ]
     },
     "execution_count": 44,
     "metadata": {},
     "output_type": "execute_result"
    }
   ],
   "source": [
    "arre=np.arange(0,10) # values b/w 0(start) to 10(end)\n",
    "\n",
    "arre"
   ]
  },
  {
   "cell_type": "code",
   "execution_count": 45,
   "id": "dde2f945-375c-4537-950c-4fa45186ebbc",
   "metadata": {},
   "outputs": [
    {
     "data": {
      "text/plain": [
       "array([3, 4, 5])"
      ]
     },
     "execution_count": 45,
     "metadata": {},
     "output_type": "execute_result"
    }
   ],
   "source": [
    "arre=np.arange(3,6) \n",
    "\n",
    "arre"
   ]
  },
  {
   "cell_type": "code",
   "execution_count": 46,
   "id": "f6216f72-f692-46a8-af24-897959cc245f",
   "metadata": {},
   "outputs": [
    {
     "data": {
      "text/plain": [
       "array([0, 2, 4, 6, 8])"
      ]
     },
     "execution_count": 46,
     "metadata": {},
     "output_type": "execute_result"
    }
   ],
   "source": [
    "arre=np.arange(0,10,step=2)  # 2 is step \n",
    "arre"
   ]
  },
  {
   "cell_type": "markdown",
   "id": "35efb85a-d055-4d50-8204-12bd00dd4756",
   "metadata": {},
   "source": [
    "### Linspace"
   ]
  },
  {
   "cell_type": "code",
   "execution_count": 47,
   "id": "84dd3a18-da20-4279-aa07-4485ae5a64e6",
   "metadata": {},
   "outputs": [
    {
     "data": {
      "text/plain": [
       "array([[1, 2, 3, 4, 5],\n",
       "       [2, 3, 4, 5, 6],\n",
       "       [9, 7, 6, 8, 9]])"
      ]
     },
     "execution_count": 47,
     "metadata": {},
     "output_type": "execute_result"
    }
   ],
   "source": [
    "arr1=np.array([my_lst1,my_lst2,my_lst3])\n",
    "\n",
    "arr1"
   ]
  },
  {
   "cell_type": "code",
   "execution_count": 48,
   "id": "13002f92-6e69-48b6-95e6-9fb589049bbe",
   "metadata": {},
   "outputs": [
    {
     "data": {
      "text/plain": [
       "array([ 0.        ,  0.20408163,  0.40816327,  0.6122449 ,  0.81632653,\n",
       "        1.02040816,  1.2244898 ,  1.42857143,  1.63265306,  1.83673469,\n",
       "        2.04081633,  2.24489796,  2.44897959,  2.65306122,  2.85714286,\n",
       "        3.06122449,  3.26530612,  3.46938776,  3.67346939,  3.87755102,\n",
       "        4.08163265,  4.28571429,  4.48979592,  4.69387755,  4.89795918,\n",
       "        5.10204082,  5.30612245,  5.51020408,  5.71428571,  5.91836735,\n",
       "        6.12244898,  6.32653061,  6.53061224,  6.73469388,  6.93877551,\n",
       "        7.14285714,  7.34693878,  7.55102041,  7.75510204,  7.95918367,\n",
       "        8.16326531,  8.36734694,  8.57142857,  8.7755102 ,  8.97959184,\n",
       "        9.18367347,  9.3877551 ,  9.59183673,  9.79591837, 10.        ])"
      ]
     },
     "execution_count": 48,
     "metadata": {},
     "output_type": "execute_result"
    }
   ],
   "source": [
    "arr1=np.linspace(0,10,50)  # from 0 to 10 we neec 50 numbers/ points (these are equally spaced points)\n",
    "\n",
    "arr1"
   ]
  },
  {
   "cell_type": "code",
   "execution_count": null,
   "id": "da017f19-ef30-43f3-be84-5e275e9477f7",
   "metadata": {},
   "outputs": [],
   "source": []
  },
  {
   "cell_type": "markdown",
   "id": "e53d05f7-a90e-4c73-92b3-59a6bf41eadf",
   "metadata": {},
   "source": [
    "#### Copy function and Broadcasting "
   ]
  },
  {
   "cell_type": "code",
   "execution_count": 99,
   "id": "08fb5ba1-8c29-4eb3-8b21-c9b06f73f178",
   "metadata": {},
   "outputs": [
    {
     "data": {
      "text/plain": [
       "array([0, 2, 4, 6, 8])"
      ]
     },
     "execution_count": 99,
     "metadata": {},
     "output_type": "execute_result"
    }
   ],
   "source": [
    "r=np.array([0, 2, 4, 6, 8])\n",
    "r"
   ]
  },
  {
   "cell_type": "code",
   "execution_count": 100,
   "id": "ccecaddc-7971-46de-ad06-eb0c57044a30",
   "metadata": {},
   "outputs": [
    {
     "data": {
      "text/plain": [
       "array([  0,   2,   4, 100, 100])"
      ]
     },
     "execution_count": 100,
     "metadata": {},
     "output_type": "execute_result"
    }
   ],
   "source": [
    "r[3:]=100 # it says from the 3rd index replace all the indexes with 100\n",
    "r"
   ]
  },
  {
   "cell_type": "code",
   "execution_count": 101,
   "id": "8a816f80-c0a1-4e53-a896-c551039bc458",
   "metadata": {},
   "outputs": [
    {
     "name": "stdout",
     "output_type": "stream",
     "text": [
      "4\n",
      "[[[[1 2 3]\n",
      "   [4 5 6]\n",
      "   [7 8 9]]]]\n"
     ]
    }
   ],
   "source": [
    "r3=np.array([[[(1,2,3),(4,5,6),(7,8,9)]]])\n",
    "\n",
    "print(r3.ndim)\n",
    "print(r3)"
   ]
  },
  {
   "cell_type": "code",
   "execution_count": 102,
   "id": "f9ece9e4-2d53-4d1a-8bb4-bf5d9ad409d3",
   "metadata": {},
   "outputs": [
    {
     "data": {
      "text/plain": [
       "array([[[[1, 2, 3],\n",
       "         [4, 5, 6],\n",
       "         [7, 8, 9]]]])"
      ]
     },
     "execution_count": 102,
     "metadata": {},
     "output_type": "execute_result"
    }
   ],
   "source": [
    "r3[2:]=100\n",
    "r3"
   ]
  },
  {
   "cell_type": "code",
   "execution_count": 103,
   "id": "f05b070b-1111-4f38-9d64-48c370bea7b6",
   "metadata": {},
   "outputs": [
    {
     "data": {
      "text/plain": [
       "array([[[[100, 100, 100],\n",
       "         [100, 100, 100],\n",
       "         [100, 100, 100]]]])"
      ]
     },
     "execution_count": 103,
     "metadata": {},
     "output_type": "execute_result"
    }
   ],
   "source": [
    "r3[0:]=100\n",
    "r3"
   ]
  },
  {
   "cell_type": "code",
   "execution_count": null,
   "id": "bb47af61-055d-4316-a18c-8a9c50a2984e",
   "metadata": {},
   "outputs": [],
   "source": []
  },
  {
   "cell_type": "markdown",
   "id": "d649df76-b151-4398-bfac-681b3e96aa4f",
   "metadata": {},
   "source": [
    "### Copy"
   ]
  },
  {
   "cell_type": "code",
   "execution_count": 104,
   "id": "eb8336a0-292f-4501-a52c-9de72b699f99",
   "metadata": {},
   "outputs": [
    {
     "data": {
      "text/plain": [
       "array([  0,   2,   4, 100, 100])"
      ]
     },
     "execution_count": 104,
     "metadata": {},
     "output_type": "execute_result"
    }
   ],
   "source": [
    "# Refrencing / reference type/ Deep Copy \n",
    "ar=r\n",
    "r"
   ]
  },
  {
   "cell_type": "code",
   "execution_count": 105,
   "id": "7168f595-4aaa-4a72-a82c-57e2c03db7af",
   "metadata": {},
   "outputs": [
    {
     "name": "stdout",
     "output_type": "stream",
     "text": [
      "[  0   2 500 500 500]\n",
      "[  0   2 500 500 500]\n"
     ]
    }
   ],
   "source": [
    "ar[2:]=500\n",
    "print(ar)\n",
    "print(r) # changing ar also changed the items of r this is referencing "
   ]
  },
  {
   "cell_type": "code",
   "execution_count": 118,
   "id": "6ecb09d9-15cf-4e60-bb85-2bc480d50e14",
   "metadata": {},
   "outputs": [
    {
     "name": "stdout",
     "output_type": "stream",
     "text": [
      "[  0   2 500 500 500]\n"
     ]
    }
   ],
   "source": [
    "# .Copy() - it creates another memory storage for the new array\n",
    "print(r)\n",
    "arr4=r.copy()\n",
    "\n"
   ]
  },
  {
   "cell_type": "code",
   "execution_count": 119,
   "id": "e1d0c6e0-a63b-4fb3-bd16-f5eadb60f4cf",
   "metadata": {},
   "outputs": [
    {
     "data": {
      "text/plain": [
       "array([  0,   2, 500, 500, 500])"
      ]
     },
     "execution_count": 119,
     "metadata": {},
     "output_type": "execute_result"
    }
   ],
   "source": [
    "arr4"
   ]
  },
  {
   "cell_type": "code",
   "execution_count": 123,
   "id": "d1d19d66-aaf5-420c-a3a1-d5b761c67dad",
   "metadata": {},
   "outputs": [
    {
     "name": "stdout",
     "output_type": "stream",
     "text": [
      "[0 2 0 0 0]\n",
      "[  0   2 500 500 500]\n"
     ]
    }
   ],
   "source": [
    "arr4[2:]=0 # it doesn't changed the r array cause its .copy()\n",
    "print(arr4)\n",
    "print(r)  "
   ]
  },
  {
   "cell_type": "code",
   "execution_count": null,
   "id": "367a0232-c924-418b-b8a2-2b37c11e52c5",
   "metadata": {},
   "outputs": [],
   "source": []
  },
  {
   "cell_type": "markdown",
   "id": "678ae6d7-c025-4913-ab3a-6083bb62f916",
   "metadata": {},
   "source": [
    "#### Important conditions usefull in Exploratory Data Analysis "
   ]
  },
  {
   "cell_type": "code",
   "execution_count": 3,
   "id": "700d4079-0ffa-447d-a29a-12f9d4d6ed56",
   "metadata": {},
   "outputs": [],
   "source": [
    "import numpy as np\n",
    "\n",
    "X=np.array([12,34,53,1,2,2,45,64,21,78])"
   ]
  },
  {
   "cell_type": "code",
   "execution_count": 4,
   "id": "7742a7bb-3ced-4a38-9c3e-b06c046ef484",
   "metadata": {},
   "outputs": [
    {
     "data": {
      "text/plain": [
       "array([False, False, False,  True, False, False, False, False, False,\n",
       "       False])"
      ]
     },
     "execution_count": 4,
     "metadata": {},
     "output_type": "execute_result"
    }
   ],
   "source": [
    "val=2\n",
    "\n",
    "X<2"
   ]
  },
  {
   "cell_type": "code",
   "execution_count": 5,
   "id": "2a686a40-aa32-4266-8a97-a60d63136f97",
   "metadata": {},
   "outputs": [
    {
     "data": {
      "text/plain": [
       "array([ 24,  68, 106,   2,   4,   4,  90, 128,  42, 156])"
      ]
     },
     "execution_count": 5,
     "metadata": {},
     "output_type": "execute_result"
    }
   ],
   "source": [
    "X*2"
   ]
  },
  {
   "cell_type": "code",
   "execution_count": 6,
   "id": "d05d145f-82d8-4c01-9632-c90292ada7f1",
   "metadata": {},
   "outputs": [
    {
     "data": {
      "text/plain": [
       "array([False,  True,  True, False, False, False,  True,  True, False,\n",
       "        True])"
      ]
     },
     "execution_count": 6,
     "metadata": {},
     "output_type": "execute_result"
    }
   ],
   "source": [
    "X>+30"
   ]
  },
  {
   "cell_type": "code",
   "execution_count": 7,
   "id": "adbf8db6-ebf2-4df0-abd3-b6e615a2a12e",
   "metadata": {},
   "outputs": [
    {
     "data": {
      "text/plain": [
       "array([12, 34, 53,  1,  2,  2, 45, 64, 21, 78])"
      ]
     },
     "execution_count": 7,
     "metadata": {},
     "output_type": "execute_result"
    }
   ],
   "source": [
    "X"
   ]
  },
  {
   "cell_type": "code",
   "execution_count": 10,
   "id": "899a2dae-c305-4ec0-b200-604c416309ef",
   "metadata": {},
   "outputs": [
    {
     "data": {
      "text/plain": [
       "array([12, 34,  1,  2,  2, 21])"
      ]
     },
     "execution_count": 10,
     "metadata": {},
     "output_type": "execute_result"
    }
   ],
   "source": [
    "# If we want to get the condition printed \n",
    "\n",
    "X[X<40]"
   ]
  },
  {
   "cell_type": "code",
   "execution_count": null,
   "id": "9e60fa98-80f6-4fc8-88fb-f4f2dd931ea1",
   "metadata": {},
   "outputs": [],
   "source": []
  },
  {
   "cell_type": "markdown",
   "id": "6712383e-38b7-4a17-9f8f-8bf87058bdbe",
   "metadata": {},
   "source": [
    "#### Arange and reshape together (Create and reshaping array)"
   ]
  },
  {
   "cell_type": "code",
   "execution_count": 26,
   "id": "625719b6-6f62-4c77-b98b-f1c03aa1d5b4",
   "metadata": {},
   "outputs": [
    {
     "data": {
      "text/plain": [
       "array([ 0,  1,  2,  3,  4,  5,  6,  7,  8,  9, 10, 11, 12, 13, 14, 15, 16,\n",
       "       17, 18, 19])"
      ]
     },
     "execution_count": 26,
     "metadata": {},
     "output_type": "execute_result"
    }
   ],
   "source": [
    "Y=np.arange(0,20)\n",
    "Y"
   ]
  },
  {
   "cell_type": "code",
   "execution_count": 31,
   "id": "f5131cbf-c85a-4330-867b-bf5525a2da28",
   "metadata": {},
   "outputs": [
    {
     "data": {
      "text/plain": [
       "array([[ 0,  1,  2,  3],\n",
       "       [ 4,  5,  6,  7],\n",
       "       [ 8,  9, 10, 11],\n",
       "       [12, 13, 14, 15],\n",
       "       [16, 17, 18, 19]])"
      ]
     },
     "execution_count": 31,
     "metadata": {},
     "output_type": "execute_result"
    }
   ],
   "source": [
    "y=np.arange(0,20).reshape(5,4)\n",
    "y"
   ]
  },
  {
   "cell_type": "code",
   "execution_count": null,
   "id": "8d19077e-35a8-4e6f-b506-179b9659075a",
   "metadata": {},
   "outputs": [],
   "source": []
  },
  {
   "cell_type": "markdown",
   "id": "5ac1a995-5ab5-498c-bd18-e8625ffece35",
   "metadata": {},
   "source": [
    "### Ones (replace arrays by one))"
   ]
  },
  {
   "cell_type": "code",
   "execution_count": 36,
   "id": "4fd29baa-70e9-419c-8f68-e38a450a9c21",
   "metadata": {},
   "outputs": [
    {
     "data": {
      "text/plain": [
       "array([1., 1., 1., 1., 1., 1., 1., 1., 1., 1., 1., 1., 1., 1., 1., 1., 1.,\n",
       "       1., 1., 1.])"
      ]
     },
     "execution_count": 36,
     "metadata": {},
     "output_type": "execute_result"
    }
   ],
   "source": [
    "y=np.ones(20) # here by defualt the dtype is float \n",
    "y"
   ]
  },
  {
   "cell_type": "code",
   "execution_count": 41,
   "id": "f19383ab-0a83-49c2-ad73-bae0b9d0f3f8",
   "metadata": {},
   "outputs": [
    {
     "data": {
      "text/plain": [
       "array([[1, 1, 1, 1],\n",
       "       [1, 1, 1, 1],\n",
       "       [1, 1, 1, 1],\n",
       "       [1, 1, 1, 1],\n",
       "       [1, 1, 1, 1],\n",
       "       [1, 1, 1, 1]])"
      ]
     },
     "execution_count": 41,
     "metadata": {},
     "output_type": "execute_result"
    }
   ],
   "source": [
    "np.ones((6,4),dtype=int) # here we gave the dtype as integers "
   ]
  },
  {
   "cell_type": "code",
   "execution_count": null,
   "id": "463a3368-7249-4b5c-aa86-aafa587a3ca6",
   "metadata": {},
   "outputs": [],
   "source": []
  },
  {
   "cell_type": "markdown",
   "id": "0f54ca42-dd34-4223-977c-edbde37a1c73",
   "metadata": {},
   "source": [
    "### Random Distribution\n",
    "\n",
    "   all the elements of random sampling will selected b/w 0 to 1"
   ]
  },
  {
   "cell_type": "code",
   "execution_count": 45,
   "id": "c4ea4129-f0e3-471f-8865-010d6d39a0be",
   "metadata": {},
   "outputs": [
    {
     "data": {
      "text/plain": [
       "array([0.54311099, 0.6298674 , 0.91063378])"
      ]
     },
     "execution_count": 45,
     "metadata": {},
     "output_type": "execute_result"
    }
   ],
   "source": [
    "np.random.rand(3) # 1-D"
   ]
  },
  {
   "cell_type": "code",
   "execution_count": 46,
   "id": "c8769024-de04-4c80-93ce-9107e92dc3e8",
   "metadata": {},
   "outputs": [
    {
     "data": {
      "text/plain": [
       "array([[0.00624036, 0.93608061, 0.20427211],\n",
       "       [0.45521654, 0.02171359, 0.82597595],\n",
       "       [0.68657239, 0.93301331, 0.98806099]])"
      ]
     },
     "execution_count": 46,
     "metadata": {},
     "output_type": "execute_result"
    }
   ],
   "source": [
    "np.random.rand(3,3) # 2-D"
   ]
  },
  {
   "cell_type": "markdown",
   "id": "75b19b4a-176b-4a9b-8d7e-0da05edd9fd0",
   "metadata": {},
   "source": [
    "### Randn \n",
    "\n",
    " ( it will selection the samples from thre \"Standard Normal\" distribution)"
   ]
  },
  {
   "cell_type": "code",
   "execution_count": 47,
   "id": "c3f68a0e-2a24-496b-b1b2-fa78488d9539",
   "metadata": {},
   "outputs": [
    {
     "data": {
      "text/plain": [
       "array([ 0.59236327, -0.45311856])"
      ]
     },
     "execution_count": 47,
     "metadata": {},
     "output_type": "execute_result"
    }
   ],
   "source": [
    "np.random.randn(2)"
   ]
  },
  {
   "cell_type": "code",
   "execution_count": 50,
   "id": "2c09a7a7-aeda-42b6-9324-a51458be04a4",
   "metadata": {},
   "outputs": [
    {
     "data": {
      "text/plain": [
       "array([[ 0.26031941,  0.03061856, -0.78820009,  0.59988969],\n",
       "       [-0.62527331, -0.06789886, -0.6400095 , -0.08697016],\n",
       "       [ 1.79458256,  0.99475443, -2.15859824,  1.07487339],\n",
       "       [ 0.36563561,  1.18086334, -1.47494576, -3.17938582]])"
      ]
     },
     "execution_count": 50,
     "metadata": {},
     "output_type": "execute_result"
    }
   ],
   "source": [
    "arr_r=np.random.randn(4,4)\n",
    "\n",
    "arr_r"
   ]
  },
  {
   "cell_type": "code",
   "execution_count": null,
   "id": "74ee27ae-dea1-429e-a469-02a98adde193",
   "metadata": {},
   "outputs": [],
   "source": []
  },
  {
   "cell_type": "markdown",
   "id": "b8b40062-5da4-447c-bbed-27649f7e3ed7",
   "metadata": {},
   "source": [
    "### Astype(int)\n",
    "\n",
    "used to convert an integer data to a different type"
   ]
  },
  {
   "cell_type": "code",
   "execution_count": 6,
   "id": "12a92a7e-8bb1-4340-b55e-2b8c103908cf",
   "metadata": {},
   "outputs": [
    {
     "name": "stdout",
     "output_type": "stream",
     "text": [
      "[30 40 20 40 30]\n",
      "(5,)\n",
      "[30. 40. 20. 40. 30.]\n",
      "['30' '40' '20' '40' '30']\n"
     ]
    }
   ],
   "source": [
    "import numpy as np \n",
    "\n",
    "a=[30,40,20,40,30]\n",
    "x1=np.array(a)\n",
    "print(x1)\n",
    "print(x1.shape)\n",
    "\n",
    "print(x1.astype(float))\n",
    "print(x1.astype(str))"
   ]
  },
  {
   "cell_type": "code",
   "execution_count": 9,
   "id": "d788a4f9-8a82-4b21-a714-3d8deb2c7d4d",
   "metadata": {},
   "outputs": [
    {
     "name": "stdout",
     "output_type": "stream",
     "text": [
      "['1' '2' '3' '4' '5']\n",
      "[1 2 3 4 5]\n"
     ]
    }
   ],
   "source": [
    "a1=np.array(['1','2','3','4','5'])\n",
    "\n",
    "print(a1)\n",
    "print(a1.astype(int))"
   ]
  },
  {
   "cell_type": "code",
   "execution_count": 12,
   "id": "c856fa59-f34e-4fda-acb1-9847f6458e02",
   "metadata": {},
   "outputs": [
    {
     "name": "stdout",
     "output_type": "stream",
     "text": [
      "['hello']\n"
     ]
    },
    {
     "ename": "ValueError",
     "evalue": "invalid literal for int() with base 10: 'hello'",
     "output_type": "error",
     "traceback": [
      "\u001b[1;31m---------------------------------------------------------------------------\u001b[0m",
      "\u001b[1;31mValueError\u001b[0m                                Traceback (most recent call last)",
      "Cell \u001b[1;32mIn[12], line 4\u001b[0m\n\u001b[0;32m      1\u001b[0m b1\u001b[38;5;241m=\u001b[39mnp\u001b[38;5;241m.\u001b[39marray([\u001b[38;5;124m'\u001b[39m\u001b[38;5;124mhello\u001b[39m\u001b[38;5;124m'\u001b[39m])\n\u001b[0;32m      2\u001b[0m \u001b[38;5;28mprint\u001b[39m(b1)\n\u001b[1;32m----> 4\u001b[0m \u001b[38;5;28mprint\u001b[39m(b1\u001b[38;5;241m.\u001b[39mastype(\u001b[38;5;28mint\u001b[39m))\n",
      "\u001b[1;31mValueError\u001b[0m: invalid literal for int() with base 10: 'hello'"
     ]
    }
   ],
   "source": [
    "b1=np.array(['hello'])\n",
    "print(b1)\n",
    "\n",
    "print(b1.astype(int)) # can't change alphabatic string into integer abd vice-versa"
   ]
  },
  {
   "cell_type": "code",
   "execution_count": 14,
   "id": "79bf4f35-3448-48e1-95ca-97895af863a5",
   "metadata": {},
   "outputs": [
    {
     "name": "stdout",
     "output_type": "stream",
     "text": [
      "[30 40 20 40 30]\n",
      "int32\n",
      "<class 'numpy.ndarray'>\n"
     ]
    }
   ],
   "source": [
    "import numpy as np \n",
    "\n",
    "a=[30,40,20,40,30]\n",
    "x1=np.array(a)\n",
    "print(x1)\n",
    "\n",
    "print(x1.dtype) # datatype of array \n",
    "print(type(x1)) # datatype of variable "
   ]
  },
  {
   "cell_type": "code",
   "execution_count": null,
   "id": "1f002e8f-0544-4d06-b373-58751752ca55",
   "metadata": {},
   "outputs": [],
   "source": []
  },
  {
   "cell_type": "markdown",
   "id": "9fdc973c-f65e-4fa3-9774-9e53668ce3e9",
   "metadata": {},
   "source": [
    "## Mathematical operations "
   ]
  },
  {
   "cell_type": "markdown",
   "id": "ef064287-8f19-4bf5-a047-357ba938760f",
   "metadata": {},
   "source": [
    "We can use symbols  as well as methods for operations \n",
    "\n",
    "- g=a-b / np.subtract(a,b)\n",
    "\n",
    "- b+a / p.add(a,n)\n",
    "\n",
    "- a/b / np.divide(a,b)\n",
    "\n",
    "- a*b / np.multiply(a,b)\n",
    "\n",
    "- np.exp()\n",
    "\n",
    "- np.sqrt()\n",
    "\n",
    "- np.power()\n"
   ]
  },
  {
   "cell_type": "code",
   "execution_count": 17,
   "id": "d9fbb898-80bf-4732-a246-3a0f150d5a35",
   "metadata": {},
   "outputs": [
    {
     "name": "stdout",
     "output_type": "stream",
     "text": [
      "[ 60  80 120  30  13]\n",
      "[ 60  80 120  30  13]\n"
     ]
    }
   ],
   "source": [
    "import numpy as np\n",
    "\n",
    "arr=np.array([30,40,60,20,10])\n",
    "arr1=np.array([30,40,60,10,3])\n",
    "\n",
    "print(np.add(arr,arr1))\n",
    "print(arr+arr1)"
   ]
  },
  {
   "cell_type": "code",
   "execution_count": 20,
   "id": "67ea1b1b-5880-494d-a66b-19d4eb82cf54",
   "metadata": {},
   "outputs": [
    {
     "name": "stdout",
     "output_type": "stream",
     "text": [
      "[[ 0  0  0]\n",
      " [45 10  7]]\n"
     ]
    }
   ],
   "source": [
    "arr=np.array([[30,40,60],[60,20,10]])\n",
    "arr1=np.array([[30,40,60],[15,10,3]])\n",
    "\n",
    "print(np.subtract(arr,arr1))"
   ]
  },
  {
   "cell_type": "code",
   "execution_count": null,
   "id": "ff7656c3-3dee-4910-abf7-7dd32bc32632",
   "metadata": {},
   "outputs": [],
   "source": []
  },
  {
   "cell_type": "markdown",
   "id": "bdb9ddbf-d23e-4d3b-a398-b4ca9416c3e6",
   "metadata": {},
   "source": [
    "- Power()"
   ]
  },
  {
   "cell_type": "code",
   "execution_count": 22,
   "id": "d0abf986-650e-4f70-abfd-90a055bfd720",
   "metadata": {},
   "outputs": [
    {
     "name": "stdout",
     "output_type": "stream",
     "text": [
      "[ 27  64 216   8   1]\n"
     ]
    }
   ],
   "source": [
    "arr=np.array([3,4,6,2,1])\n",
    "arr1=np.array([3])\n",
    "\n",
    "print(np.power(arr,arr1))  # elements of arr have power 3 which is element of arr1\n"
   ]
  },
  {
   "cell_type": "code",
   "execution_count": 23,
   "id": "c57f4301-1e42-457b-b1c0-7ccb5a77bb7a",
   "metadata": {},
   "outputs": [
    {
     "ename": "ValueError",
     "evalue": "operands could not be broadcast together with shapes (5,) (2,) ",
     "output_type": "error",
     "traceback": [
      "\u001b[1;31m---------------------------------------------------------------------------\u001b[0m",
      "\u001b[1;31mValueError\u001b[0m                                Traceback (most recent call last)",
      "Cell \u001b[1;32mIn[23], line 3\u001b[0m\n\u001b[0;32m      1\u001b[0m arr\u001b[38;5;241m=\u001b[39mnp\u001b[38;5;241m.\u001b[39marray([\u001b[38;5;241m3\u001b[39m,\u001b[38;5;241m4\u001b[39m,\u001b[38;5;241m6\u001b[39m,\u001b[38;5;241m2\u001b[39m,\u001b[38;5;241m1\u001b[39m])\n\u001b[0;32m      2\u001b[0m arr1\u001b[38;5;241m=\u001b[39mnp\u001b[38;5;241m.\u001b[39marray([\u001b[38;5;241m3\u001b[39m,\u001b[38;5;241m2\u001b[39m])\n\u001b[1;32m----> 3\u001b[0m \u001b[38;5;28mprint\u001b[39m(np\u001b[38;5;241m.\u001b[39mpower(arr,arr1))\n",
      "\u001b[1;31mValueError\u001b[0m: operands could not be broadcast together with shapes (5,) (2,) "
     ]
    }
   ],
   "source": [
    "arr=np.array([3,4,6,2,1])\n",
    "arr1=np.array([3,2])\n",
    "print(np.power(arr,arr1))"
   ]
  },
  {
   "cell_type": "code",
   "execution_count": 25,
   "id": "523898c0-ff14-4488-a35f-7eb2e0dcb95b",
   "metadata": {},
   "outputs": [
    {
     "name": "stdout",
     "output_type": "stream",
     "text": [
      "[ 27  16 216   4   1]\n"
     ]
    }
   ],
   "source": [
    "arr=np.array([3,4,6,2,1])\n",
    "arr1=np.array([3,2,3,2,3])\n",
    "print(np.power(arr,arr1))"
   ]
  },
  {
   "cell_type": "code",
   "execution_count": null,
   "id": "4f0a3626-18fe-4a83-8339-a12aa8a14664",
   "metadata": {},
   "outputs": [],
   "source": []
  },
  {
   "cell_type": "markdown",
   "id": "a397713c-b3cf-416a-80ad-882927de36cb",
   "metadata": {},
   "source": [
    "### Combining and Spliting Arrays"
   ]
  },
  {
   "cell_type": "code",
   "execution_count": 8,
   "id": "6d83b8ec-f566-4d53-b7d9-8afb94295728",
   "metadata": {},
   "outputs": [
    {
     "name": "stdout",
     "output_type": "stream",
     "text": [
      "[30 40 50  5  5  3]\n"
     ]
    }
   ],
   "source": [
    "# Concatenate\n",
    "import numpy as np\n",
    "arr1=np.array([30,40,50])\n",
    "arr2=np.array([5,5,3])\n",
    "print(np.concatenate([arr1,arr2]))"
   ]
  },
  {
   "cell_type": "code",
   "execution_count": 6,
   "id": "9b10eaab-942c-4e2a-8c74-d36d9342114c",
   "metadata": {},
   "outputs": [
    {
     "name": "stdout",
     "output_type": "stream",
     "text": [
      "[[30 40 50  5  5  3]]\n",
      "[[30 40 50]\n",
      " [ 5  5  3]]\n"
     ]
    }
   ],
   "source": [
    "import numpy as np\n",
    "\n",
    "p=np.array([[30,40,50]])\n",
    "p1=np.array([[5,5,3]])\n",
    "\n",
    "print(np.concatenate([p,p1],axis=1))\n",
    "\n",
    "print(np.concatenate([p,p1],axis=0))"
   ]
  },
  {
   "cell_type": "code",
   "execution_count": 11,
   "id": "3d3afd20-e1fa-4ab9-a593-1c11a679f423",
   "metadata": {},
   "outputs": [
    {
     "name": "stdout",
     "output_type": "stream",
     "text": [
      "[[[30 40 50]\n",
      "  [20 60 40]\n",
      "  [80 90 70]]]\n"
     ]
    },
    {
     "data": {
      "text/plain": [
       "array([[[5, 5, 3],\n",
       "        [9, 6, 3],\n",
       "        [2, 3, 7],\n",
       "        [6, 7, 3]]])"
      ]
     },
     "execution_count": 11,
     "metadata": {},
     "output_type": "execute_result"
    }
   ],
   "source": [
    "c=np.array([[(30,40,50),(20,60,40),(80,90,70)]])\n",
    "c1=np.array([[(5,5,3),(9,6,3),(2,3,7),(6,7,3)]])\n",
    "\n",
    "print(c)\n",
    "c1"
   ]
  },
  {
   "cell_type": "code",
   "execution_count": 13,
   "id": "2d8887ee-789a-410a-9546-80f17ca526ea",
   "metadata": {},
   "outputs": [
    {
     "ename": "ValueError",
     "evalue": "all the input array dimensions except for the concatenation axis must match exactly, but along dimension 1, the array at index 0 has size 3 and the array at index 1 has size 4",
     "output_type": "error",
     "traceback": [
      "\u001b[1;31m---------------------------------------------------------------------------\u001b[0m",
      "\u001b[1;31mValueError\u001b[0m                                Traceback (most recent call last)",
      "Cell \u001b[1;32mIn[13], line 1\u001b[0m\n\u001b[1;32m----> 1\u001b[0m \u001b[38;5;28mprint\u001b[39m(np\u001b[38;5;241m.\u001b[39mconcatenate([c,c1]))\n",
      "\u001b[1;31mValueError\u001b[0m: all the input array dimensions except for the concatenation axis must match exactly, but along dimension 1, the array at index 0 has size 3 and the array at index 1 has size 4"
     ]
    }
   ],
   "source": [
    "print(np.concatenate([c,c1])) # c/z no. of row and coloumn in c and c1 is not same so will not concatenate "
   ]
  },
  {
   "cell_type": "code",
   "execution_count": 14,
   "id": "96f71dfe-8a53-4aa9-9c2b-55930e134ddd",
   "metadata": {},
   "outputs": [
    {
     "name": "stdout",
     "output_type": "stream",
     "text": [
      "[[[30 40 50]\n",
      "  [20 60 40]\n",
      "  [80 90 70]\n",
      "  [30 20 10]]]\n"
     ]
    },
    {
     "data": {
      "text/plain": [
       "array([[[5, 5, 3],\n",
       "        [9, 6, 3],\n",
       "        [2, 3, 7],\n",
       "        [6, 7, 3]]])"
      ]
     },
     "execution_count": 14,
     "metadata": {},
     "output_type": "execute_result"
    }
   ],
   "source": [
    "c=np.array([[(30,40,50),(20,60,40),(80,90,70),(30,20,10)]])\n",
    "c1=np.array([[(5,5,3),(9,6,3),(2,3,7),(6,7,3)]])\n",
    "\n",
    "print(c)\n",
    "c1"
   ]
  },
  {
   "cell_type": "code",
   "execution_count": 18,
   "id": "9b3506dd-c4af-44ee-9aee-322c4ad845c7",
   "metadata": {},
   "outputs": [
    {
     "name": "stdout",
     "output_type": "stream",
     "text": [
      "[[[30 40 50]\n",
      "  [20 60 40]\n",
      "  [80 90 70]\n",
      "  [30 20 10]]\n",
      "\n",
      " [[ 5  5  3]\n",
      "  [ 9  6  3]\n",
      "  [ 2  3  7]\n",
      "  [ 6  7  3]]]\n"
     ]
    }
   ],
   "source": [
    "print(np.concatenate([c,c1],axis=0))"
   ]
  },
  {
   "cell_type": "code",
   "execution_count": 19,
   "id": "d32c2dfe-0222-436c-9c6f-ae4fe8066a65",
   "metadata": {},
   "outputs": [
    {
     "name": "stdout",
     "output_type": "stream",
     "text": [
      "[[[30 40 50]\n",
      "  [20 60 40]\n",
      "  [80 90 70]\n",
      "  [30 20 10]\n",
      "  [ 5  5  3]\n",
      "  [ 9  6  3]\n",
      "  [ 2  3  7]\n",
      "  [ 6  7  3]]]\n"
     ]
    }
   ],
   "source": [
    "print(np.concatenate([c,c1],axis=1))"
   ]
  },
  {
   "cell_type": "code",
   "execution_count": 20,
   "id": "f4487d8d-ab07-4029-b953-9c1c725c1536",
   "metadata": {},
   "outputs": [
    {
     "name": "stdout",
     "output_type": "stream",
     "text": [
      "[[[30 40 50]\n",
      "  [20 60 40]\n",
      "  [80 90 70]\n",
      "  [30 20 10]]\n",
      "\n",
      " [[ 5  5  3]\n",
      "  [ 9  6  3]\n",
      "  [ 2  3  7]\n",
      "  [ 6  7  3]]]\n"
     ]
    }
   ],
   "source": [
    "print(np.concatenate([c,c1]))"
   ]
  },
  {
   "cell_type": "code",
   "execution_count": 22,
   "id": "6a6a48d5-cc75-480a-9658-312c69e68ff4",
   "metadata": {},
   "outputs": [
    {
     "name": "stdout",
     "output_type": "stream",
     "text": [
      "[[[30 40 50]\n",
      "  [20 60 40]\n",
      "  [80 90 70]\n",
      "  [30 20 10]\n",
      "  [ 5  5  3]\n",
      "  [ 9  6  3]\n",
      "  [ 2  3  7]\n",
      "  [ 6  7  3]]]\n"
     ]
    }
   ],
   "source": [
    "# horizontal concatenation  or we can use axis=1\n",
    "print(np.hstack([c,c1]))"
   ]
  },
  {
   "cell_type": "code",
   "execution_count": 23,
   "id": "25971d64-ec58-4925-a7d7-99c387449946",
   "metadata": {},
   "outputs": [
    {
     "name": "stdout",
     "output_type": "stream",
     "text": [
      "[[[30 40 50]\n",
      "  [20 60 40]\n",
      "  [80 90 70]\n",
      "  [30 20 10]]\n",
      "\n",
      " [[ 5  5  3]\n",
      "  [ 9  6  3]\n",
      "  [ 2  3  7]\n",
      "  [ 6  7  3]]]\n"
     ]
    }
   ],
   "source": [
    "# Vertical concatenation  or we can use axis=0\n",
    "\n",
    "print(np.vstack([c,c1]))"
   ]
  },
  {
   "cell_type": "code",
   "execution_count": null,
   "id": "848ab4a4-93aa-4d66-8a43-8c8e5379a409",
   "metadata": {},
   "outputs": [],
   "source": []
  },
  {
   "cell_type": "markdown",
   "id": "2dbe18c4-11fe-40e2-911f-aec1c067f556",
   "metadata": {},
   "source": [
    "### Spliting "
   ]
  },
  {
   "cell_type": "code",
   "execution_count": 28,
   "id": "8b58cfb1-ed57-4225-b0c3-a31df4df0b2a",
   "metadata": {},
   "outputs": [
    {
     "name": "stdout",
     "output_type": "stream",
     "text": [
      "[array([20, 40]), array([30, 40]), array([10, 20])]\n"
     ]
    }
   ],
   "source": [
    "e=np.array([20,40,30,40,10,20])\n",
    "\n",
    "print(np.array_split(e,3))\n",
    "\n",
    "# it splited array into three parts "
   ]
  },
  {
   "cell_type": "code",
   "execution_count": 26,
   "id": "5c97336a-997c-474a-aaf4-5a785bb8d48d",
   "metadata": {},
   "outputs": [
    {
     "name": "stdout",
     "output_type": "stream",
     "text": [
      "[array([20, 40, 30]), array([40, 10]), array([20, 90])]\n"
     ]
    }
   ],
   "source": [
    "f=np.array([20,40,30,40,10,20,90])\n",
    "\n",
    "print(np.array_split(f,3))"
   ]
  },
  {
   "cell_type": "code",
   "execution_count": 27,
   "id": "c3358648-309b-44c6-91f2-e22e16e4405b",
   "metadata": {},
   "outputs": [
    {
     "ename": "ValueError",
     "evalue": "number sections must be larger than 0.",
     "output_type": "error",
     "traceback": [
      "\u001b[1;31m---------------------------------------------------------------------------\u001b[0m",
      "\u001b[1;31mValueError\u001b[0m                                Traceback (most recent call last)",
      "Cell \u001b[1;32mIn[27], line 3\u001b[0m\n\u001b[0;32m      1\u001b[0m f\u001b[38;5;241m=\u001b[39mnp\u001b[38;5;241m.\u001b[39marray([\u001b[38;5;241m20\u001b[39m,\u001b[38;5;241m40\u001b[39m,\u001b[38;5;241m30\u001b[39m,\u001b[38;5;241m40\u001b[39m,\u001b[38;5;241m10\u001b[39m,\u001b[38;5;241m20\u001b[39m,\u001b[38;5;241m90\u001b[39m])\n\u001b[1;32m----> 3\u001b[0m \u001b[38;5;28mprint\u001b[39m(np\u001b[38;5;241m.\u001b[39marray_split(f,\u001b[38;5;241m0.5\u001b[39m))\n",
      "File \u001b[1;32m~\\.conda\\New folder\\Lib\\site-packages\\numpy\\lib\\shape_base.py:770\u001b[0m, in \u001b[0;36marray_split\u001b[1;34m(ary, indices_or_sections, axis)\u001b[0m\n\u001b[0;32m    768\u001b[0m Nsections \u001b[38;5;241m=\u001b[39m \u001b[38;5;28mint\u001b[39m(indices_or_sections)\n\u001b[0;32m    769\u001b[0m \u001b[38;5;28;01mif\u001b[39;00m Nsections \u001b[38;5;241m<\u001b[39m\u001b[38;5;241m=\u001b[39m \u001b[38;5;241m0\u001b[39m:\n\u001b[1;32m--> 770\u001b[0m     \u001b[38;5;28;01mraise\u001b[39;00m \u001b[38;5;167;01mValueError\u001b[39;00m(\u001b[38;5;124m'\u001b[39m\u001b[38;5;124mnumber sections must be larger than 0.\u001b[39m\u001b[38;5;124m'\u001b[39m) \u001b[38;5;28;01mfrom\u001b[39;00m \u001b[38;5;28;01mNone\u001b[39;00m\n\u001b[0;32m    771\u001b[0m Neach_section, extras \u001b[38;5;241m=\u001b[39m \u001b[38;5;28mdivmod\u001b[39m(Ntotal, Nsections)\n\u001b[0;32m    772\u001b[0m section_sizes \u001b[38;5;241m=\u001b[39m ([\u001b[38;5;241m0\u001b[39m] \u001b[38;5;241m+\u001b[39m\n\u001b[0;32m    773\u001b[0m                  extras \u001b[38;5;241m*\u001b[39m [Neach_section\u001b[38;5;241m+\u001b[39m\u001b[38;5;241m1\u001b[39m] \u001b[38;5;241m+\u001b[39m\n\u001b[0;32m    774\u001b[0m                  (Nsections\u001b[38;5;241m-\u001b[39mextras) \u001b[38;5;241m*\u001b[39m [Neach_section])\n",
      "\u001b[1;31mValueError\u001b[0m: number sections must be larger than 0."
     ]
    }
   ],
   "source": [
    "f=np.array([20,40,30,40,10,20,90])\n",
    "\n",
    "print(np.array_split(f,0.5))"
   ]
  },
  {
   "cell_type": "code",
   "execution_count": 41,
   "id": "d578e6a3-ae4b-4446-8fa6-7cc2031e9b5d",
   "metadata": {},
   "outputs": [
    {
     "name": "stdout",
     "output_type": "stream",
     "text": [
      "[array([20, 40]), array([30, 40]), array([10, 20])]\n",
      "[30 40]\n"
     ]
    },
    {
     "data": {
      "text/plain": [
       "array([20, 40])"
      ]
     },
     "execution_count": 41,
     "metadata": {},
     "output_type": "execute_result"
    }
   ],
   "source": [
    "e=np.array([20,40,30,40,10,20])\n",
    "\n",
    "b=np.array_split(e,3)\n",
    "print(b)\n",
    "# now indexing b\n",
    "\n",
    "print(b[1])\n",
    "b[0]"
   ]
  },
  {
   "cell_type": "code",
   "execution_count": null,
   "id": "de971b72-6489-4a73-b787-13c69801edc0",
   "metadata": {},
   "outputs": [],
   "source": []
  },
  {
   "cell_type": "code",
   "execution_count": 45,
   "id": "10f51543-3cb9-4163-8c30-1537033a8dfe",
   "metadata": {},
   "outputs": [
    {
     "data": {
      "text/plain": [
       "array([[[[1, 2, 3],\n",
       "         [4, 5, 6],\n",
       "         [7, 8, 9]]]])"
      ]
     },
     "execution_count": 45,
     "metadata": {},
     "output_type": "execute_result"
    }
   ],
   "source": [
    "# for n-d array \n",
    "\n",
    "D=np.array([[[(1,2,3),(4,5,6),(7,8,9)]]])\n",
    "D"
   ]
  },
  {
   "cell_type": "code",
   "execution_count": 50,
   "id": "099443c3-318b-4b6c-8d09-341738f0add7",
   "metadata": {},
   "outputs": [
    {
     "name": "stdout",
     "output_type": "stream",
     "text": [
      "[array([[[[1, 2, 3],\n",
      "         [4, 5, 6],\n",
      "         [7, 8, 9]]]]), array([], shape=(0, 1, 3, 3), dtype=int32), array([], shape=(0, 1, 3, 3), dtype=int32)]\n"
     ]
    }
   ],
   "source": [
    "print(np.array_split(D,3))"
   ]
  },
  {
   "cell_type": "code",
   "execution_count": null,
   "id": "ecf5f319-5dfc-4f9e-a740-c0c7f8700d27",
   "metadata": {},
   "outputs": [],
   "source": []
  },
  {
   "cell_type": "code",
   "execution_count": 53,
   "id": "b210c1e8-338b-40c7-aac8-340d6ce07b6b",
   "metadata": {},
   "outputs": [
    {
     "name": "stdout",
     "output_type": "stream",
     "text": [
      "[[1 2 3 4]\n",
      " [6 7 8 9]]\n",
      "[array([[1, 2, 3, 4]]), array([[6, 7, 8, 9]]), array([], shape=(0, 4), dtype=int32)]\n"
     ]
    }
   ],
   "source": [
    "\n",
    "D=np.array([[1,2,3,4],[6,7,8,9]])\n",
    "print(D)\n",
    "print(np.array_split(D,3))"
   ]
  },
  {
   "cell_type": "code",
   "execution_count": null,
   "id": "d03cef70-8de4-4bd3-80af-144298d27b1c",
   "metadata": {},
   "outputs": [],
   "source": []
  },
  {
   "cell_type": "markdown",
   "id": "ec9841a1-9033-4436-970a-fccc25e7f744",
   "metadata": {},
   "source": [
    "## Adding and Removing Elements in the Arrays\n",
    "\n",
    "#### functions\n",
    "\n",
    " - np.append (h,g)\n",
    " - np.insert (a,1,5)\n",
    " - np.delete (a,[1])"
   ]
  },
  {
   "cell_type": "markdown",
   "id": "335411a6-e434-4102-b291-18e8001e9e3e",
   "metadata": {},
   "source": [
    "### Append"
   ]
  },
  {
   "cell_type": "code",
   "execution_count": 54,
   "id": "8ea86c03-67c7-406c-a5e0-8bb888e889e8",
   "metadata": {},
   "outputs": [
    {
     "name": "stdout",
     "output_type": "stream",
     "text": [
      "[20 40 60 80 90]\n"
     ]
    }
   ],
   "source": [
    "import numpy as np\n",
    "\n",
    "a=np.array([20,40,60,80])\n",
    "print(np.append(a,90))"
   ]
  },
  {
   "cell_type": "code",
   "execution_count": 55,
   "id": "5ac4743a-5ed2-419d-a2a1-114f93d3619e",
   "metadata": {},
   "outputs": [
    {
     "name": "stdout",
     "output_type": "stream",
     "text": [
      "[20 40 60 80 90]\n"
     ]
    }
   ],
   "source": [
    "a1=np.array([[20,40,60,80]])\n",
    "\n",
    "print(np.append(a1,90))"
   ]
  },
  {
   "cell_type": "code",
   "execution_count": 8,
   "id": "6afd67c3-36b0-46ad-b8f7-289faf186741",
   "metadata": {},
   "outputs": [
    {
     "name": "stdout",
     "output_type": "stream",
     "text": [
      "[[[10 20]\n",
      "  [30 40]]]\n"
     ]
    },
    {
     "data": {
      "text/plain": [
       "array([10, 20, 30, 40, 50])"
      ]
     },
     "execution_count": 8,
     "metadata": {},
     "output_type": "execute_result"
    }
   ],
   "source": [
    "# for n-d arrays \n",
    "import numpy as np\n",
    "a2=np.array([[(10,20),(30,40)]])\n",
    "print(a2)\n",
    "\n",
    "np.append(a2,50)\n",
    "\n",
    "# it will convert the n-d array into 1-d array so we have to insert elements instead of append "
   ]
  },
  {
   "cell_type": "markdown",
   "id": "95e52055-fc59-4a7b-8a6a-b595143bf916",
   "metadata": {},
   "source": [
    "### Insert "
   ]
  },
  {
   "cell_type": "code",
   "execution_count": 11,
   "id": "6968f85b-6274-4a76-aef4-3dc79fb72b67",
   "metadata": {},
   "outputs": [
    {
     "data": {
      "text/plain": [
       "array([10, 60, 20, 30, 40])"
      ]
     },
     "execution_count": 11,
     "metadata": {},
     "output_type": "execute_result"
    }
   ],
   "source": [
    "# insert  for 1-d array \n",
    "\n",
    "np.insert(a2,1,60)"
   ]
  },
  {
   "cell_type": "code",
   "execution_count": 17,
   "id": "b02f12c7-6365-4ea0-b3b9-fd90cebd5c27",
   "metadata": {},
   "outputs": [
    {
     "name": "stdout",
     "output_type": "stream",
     "text": [
      "[[[1 2 3]\n",
      "  [4 5 6]]]\n"
     ]
    },
    {
     "data": {
      "text/plain": [
       "array([ 1, 30,  2,  3,  4,  5,  6])"
      ]
     },
     "execution_count": 17,
     "metadata": {},
     "output_type": "execute_result"
    }
   ],
   "source": [
    "a3=np.array([[(1,2,3),(4,5,6)]])\n",
    "print(a3)\n",
    "\n",
    "np.insert(a3,1,30) # it made the array 1-d "
   ]
  },
  {
   "cell_type": "code",
   "execution_count": 21,
   "id": "04299d75-b9a4-42b9-a243-dfe3b893ae13",
   "metadata": {},
   "outputs": [
    {
     "name": "stdout",
     "output_type": "stream",
     "text": [
      "[[[1 2 3]\n",
      "  [4 5 6]]]\n"
     ]
    },
    {
     "ename": "ValueError",
     "evalue": "could not broadcast input array from shape (1,1,2) into shape (1,1,3)",
     "output_type": "error",
     "traceback": [
      "\u001b[1;31m---------------------------------------------------------------------------\u001b[0m",
      "\u001b[1;31mValueError\u001b[0m                                Traceback (most recent call last)",
      "Cell \u001b[1;32mIn[21], line 4\u001b[0m\n\u001b[0;32m      1\u001b[0m a3\u001b[38;5;241m=\u001b[39mnp\u001b[38;5;241m.\u001b[39marray([[(\u001b[38;5;241m1\u001b[39m,\u001b[38;5;241m2\u001b[39m,\u001b[38;5;241m3\u001b[39m),(\u001b[38;5;241m4\u001b[39m,\u001b[38;5;241m5\u001b[39m,\u001b[38;5;241m6\u001b[39m)]])\n\u001b[0;32m      2\u001b[0m \u001b[38;5;28mprint\u001b[39m(a3)\n\u001b[1;32m----> 4\u001b[0m np\u001b[38;5;241m.\u001b[39minsert(a3,\u001b[38;5;241m1\u001b[39m,[\u001b[38;5;241m50\u001b[39m,\u001b[38;5;241m60\u001b[39m],axis\u001b[38;5;241m=\u001b[39m\u001b[38;5;241m1\u001b[39m)\n",
      "File \u001b[1;32m~\\.conda\\New folder\\Lib\\site-packages\\numpy\\lib\\function_base.py:5524\u001b[0m, in \u001b[0;36minsert\u001b[1;34m(arr, obj, values, axis)\u001b[0m\n\u001b[0;32m   5522\u001b[0m new[\u001b[38;5;28mtuple\u001b[39m(slobj)] \u001b[38;5;241m=\u001b[39m arr[\u001b[38;5;28mtuple\u001b[39m(slobj)]\n\u001b[0;32m   5523\u001b[0m slobj[axis] \u001b[38;5;241m=\u001b[39m \u001b[38;5;28mslice\u001b[39m(index, index\u001b[38;5;241m+\u001b[39mnumnew)\n\u001b[1;32m-> 5524\u001b[0m new[\u001b[38;5;28mtuple\u001b[39m(slobj)] \u001b[38;5;241m=\u001b[39m values\n\u001b[0;32m   5525\u001b[0m slobj[axis] \u001b[38;5;241m=\u001b[39m \u001b[38;5;28mslice\u001b[39m(index\u001b[38;5;241m+\u001b[39mnumnew, \u001b[38;5;28;01mNone\u001b[39;00m)\n\u001b[0;32m   5526\u001b[0m slobj2 \u001b[38;5;241m=\u001b[39m [\u001b[38;5;28mslice\u001b[39m(\u001b[38;5;28;01mNone\u001b[39;00m)] \u001b[38;5;241m*\u001b[39m ndim\n",
      "\u001b[1;31mValueError\u001b[0m: could not broadcast input array from shape (1,1,2) into shape (1,1,3)"
     ]
    }
   ],
   "source": [
    "a3=np.array([[(1,2,3),(4,5,6)]])\n",
    "print(a3)\n",
    "\n",
    "np.insert(a3,1,[50,60],axis=1)"
   ]
  },
  {
   "cell_type": "code",
   "execution_count": 23,
   "id": "b4d6709d-ad18-4f04-b29c-f853fc24ab34",
   "metadata": {},
   "outputs": [
    {
     "name": "stdout",
     "output_type": "stream",
     "text": [
      "[[[1 2 3]\n",
      "  [4 5 6]]]\n"
     ]
    },
    {
     "data": {
      "text/plain": [
       "array([[[ 1,  2,  3],\n",
       "        [50, 60, 70],\n",
       "        [ 4,  5,  6]]])"
      ]
     },
     "execution_count": 23,
     "metadata": {},
     "output_type": "execute_result"
    }
   ],
   "source": [
    "a3=np.array([[(1,2,3),(4,5,6)]])\n",
    "print(a3)\n",
    "\n",
    "np.insert(a3,1,[50,60,70],axis=1)"
   ]
  },
  {
   "cell_type": "code",
   "execution_count": 24,
   "id": "35237807-c2a1-4691-92bc-ac0aa1675c49",
   "metadata": {},
   "outputs": [
    {
     "name": "stdout",
     "output_type": "stream",
     "text": [
      "[[[1 2 3]\n",
      "  [4 5 6]]]\n"
     ]
    },
    {
     "data": {
      "text/plain": [
       "array([[[50, 60, 70],\n",
       "        [ 1,  2,  3],\n",
       "        [ 4,  5,  6]]])"
      ]
     },
     "execution_count": 24,
     "metadata": {},
     "output_type": "execute_result"
    }
   ],
   "source": [
    "a3=np.array([[(1,2,3),(4,5,6)]])\n",
    "print(a3)\n",
    "\n",
    "np.insert(a3,0,[50,60,70],axis=1)"
   ]
  },
  {
   "cell_type": "code",
   "execution_count": 27,
   "id": "a3542bdc-3e95-4086-8c49-22f580afe422",
   "metadata": {},
   "outputs": [
    {
     "name": "stdout",
     "output_type": "stream",
     "text": [
      "[[[1 2 3]\n",
      "  [4 5 6]]]\n"
     ]
    },
    {
     "data": {
      "text/plain": [
       "array([[[ 1,  2,  3],\n",
       "        [ 4,  5,  6]],\n",
       "\n",
       "       [[50, 60, 70],\n",
       "        [50, 60, 70]]])"
      ]
     },
     "execution_count": 27,
     "metadata": {},
     "output_type": "execute_result"
    }
   ],
   "source": [
    "a3=np.array([[(1,2,3),(4,5,6)]])\n",
    "print(a3)\n",
    "\n",
    "np.insert(a3,1,[50,60,70],axis=0)"
   ]
  },
  {
   "cell_type": "code",
   "execution_count": 33,
   "id": "d1c5c098-8575-4d75-8bc3-0e008921cd81",
   "metadata": {},
   "outputs": [
    {
     "name": "stdout",
     "output_type": "stream",
     "text": [
      "[[[1 2 3]\n",
      "  [4 5 6]]]\n"
     ]
    },
    {
     "data": {
      "text/plain": [
       "array([[[50, 60, 70],\n",
       "        [50, 60, 70]],\n",
       "\n",
       "       [[ 1,  2,  3],\n",
       "        [ 4,  5,  6]]])"
      ]
     },
     "execution_count": 33,
     "metadata": {},
     "output_type": "execute_result"
    }
   ],
   "source": [
    "a3=np.array([[(1,2,3),(4,5,6)]])\n",
    "print(a3)\n",
    "\n",
    "np.insert(a3,0,[50,60,70],axis=0)"
   ]
  },
  {
   "cell_type": "code",
   "execution_count": null,
   "id": "3bd097f3-bd81-4be0-a32c-22610eca9bd0",
   "metadata": {},
   "outputs": [],
   "source": []
  },
  {
   "cell_type": "markdown",
   "id": "96590a3e-ecd0-4220-b785-4672658811d8",
   "metadata": {},
   "source": [
    "### Delete "
   ]
  },
  {
   "cell_type": "code",
   "execution_count": 43,
   "id": "d41f2da5-d167-436d-a24d-8031067c7738",
   "metadata": {},
   "outputs": [
    {
     "data": {
      "text/plain": [
       "array([[20, 40],\n",
       "       [50, 50],\n",
       "       [60, 80],\n",
       "       [50, 50]])"
      ]
     },
     "execution_count": 43,
     "metadata": {},
     "output_type": "execute_result"
    }
   ],
   "source": [
    "a2=np.array([[20,40],[50,50],[60,80],[50,50]])\n",
    "a2"
   ]
  },
  {
   "cell_type": "code",
   "execution_count": 44,
   "id": "3f3bac24-37e2-4d80-a532-d0352a59fbe9",
   "metadata": {},
   "outputs": [
    {
     "data": {
      "text/plain": [
       "array([[20, 40],\n",
       "       [60, 80],\n",
       "       [50, 50]])"
      ]
     },
     "execution_count": 44,
     "metadata": {},
     "output_type": "execute_result"
    }
   ],
   "source": [
    "np.delete(a2,1,axis=0)"
   ]
  },
  {
   "cell_type": "code",
   "execution_count": 45,
   "id": "69a9291c-ea3e-4281-9b38-9d3c2c310c64",
   "metadata": {},
   "outputs": [
    {
     "data": {
      "text/plain": [
       "array([[40],\n",
       "       [50],\n",
       "       [80],\n",
       "       [50]])"
      ]
     },
     "execution_count": 45,
     "metadata": {},
     "output_type": "execute_result"
    }
   ],
   "source": [
    "np.delete(a2,0,axis=1)"
   ]
  },
  {
   "cell_type": "code",
   "execution_count": 49,
   "id": "eefa63aa-61a4-432f-bfdd-c667b8739276",
   "metadata": {},
   "outputs": [
    {
     "data": {
      "text/plain": [
       "array([[20, 40],\n",
       "       [50, 50],\n",
       "       [60, 80]])"
      ]
     },
     "execution_count": 49,
     "metadata": {},
     "output_type": "execute_result"
    }
   ],
   "source": [
    "a2\n",
    "\n",
    "np.delete(a2,3,axis=0)"
   ]
  },
  {
   "cell_type": "code",
   "execution_count": null,
   "id": "4b07e71f-0dae-4092-9fef-eec3d311c929",
   "metadata": {},
   "outputs": [],
   "source": []
  },
  {
   "cell_type": "markdown",
   "id": "49710140-7533-4152-96e9-b5380ac50c3e",
   "metadata": {},
   "source": [
    "## Search, Sort and Filter Arrays "
   ]
  },
  {
   "cell_type": "markdown",
   "id": "1f779fca-a366-4a79-96a4-660db11c2e71",
   "metadata": {},
   "source": [
    "### Sort "
   ]
  },
  {
   "cell_type": "code",
   "execution_count": 50,
   "id": "2e285e72-a75e-4042-a819-0272d6b4ed2c",
   "metadata": {},
   "outputs": [
    {
     "data": {
      "text/plain": [
       "array([  2,   2,   2,   3,   3,   4,   6,  31,  55,  68, 643])"
      ]
     },
     "execution_count": 50,
     "metadata": {},
     "output_type": "execute_result"
    }
   ],
   "source": [
    "import numpy as np\n",
    "\n",
    "b1=np.array([2,31,6,3,4,3,643,2,55,68,2])\n",
    "\n",
    "np.sort(b1)"
   ]
  },
  {
   "cell_type": "code",
   "execution_count": 51,
   "id": "1234de77-e72f-46e6-8f2c-eb5778e9c8af",
   "metadata": {},
   "outputs": [
    {
     "data": {
      "text/plain": [
       "array([[ 2,  3,  4,  6, 31],\n",
       "       [ 2,  2,  3, 55, 68]])"
      ]
     },
     "execution_count": 51,
     "metadata": {},
     "output_type": "execute_result"
    }
   ],
   "source": [
    "b1=np.array([[2,31,6,3,4,],[3,2,55,68,2]])\n",
    "\n",
    "np.sort(b1)"
   ]
  },
  {
   "cell_type": "code",
   "execution_count": null,
   "id": "8d609537-9f06-4423-ab9b-74c9818c6a8d",
   "metadata": {},
   "outputs": [],
   "source": []
  },
  {
   "cell_type": "markdown",
   "id": "7cd6ae04-afbd-4a9a-89ad-dabd583a9f54",
   "metadata": {},
   "source": [
    "### Search"
   ]
  },
  {
   "cell_type": "code",
   "execution_count": 54,
   "id": "75cc8156-850b-469e-92b6-6fa92864aae6",
   "metadata": {},
   "outputs": [
    {
     "data": {
      "text/plain": [
       "(array([1], dtype=int64),)"
      ]
     },
     "execution_count": 54,
     "metadata": {},
     "output_type": "execute_result"
    }
   ],
   "source": [
    "b2=np.array([3,4,1,7,8])\n",
    "\n",
    "np.where(b2==4)\n",
    "\n"
   ]
  },
  {
   "cell_type": "code",
   "execution_count": 57,
   "id": "a991f8d3-4593-4f12-9641-a04089bccc21",
   "metadata": {},
   "outputs": [
    {
     "data": {
      "text/plain": [
       "(array([1, 4], dtype=int64),)"
      ]
     },
     "execution_count": 57,
     "metadata": {},
     "output_type": "execute_result"
    }
   ],
   "source": [
    "np.where(b2%2==0)"
   ]
  },
  {
   "cell_type": "code",
   "execution_count": 62,
   "id": "f08dc2ae-15de-4859-8d2b-22c97a13e5c8",
   "metadata": {},
   "outputs": [
    {
     "name": "stdout",
     "output_type": "stream",
     "text": [
      "[[ 2 31  6  3  4]\n",
      " [ 3  2 55 68  2]]\n",
      "(array([0, 0, 0, 1, 1, 1], dtype=int64), array([0, 2, 4, 1, 3, 4], dtype=int64))\n"
     ]
    }
   ],
   "source": [
    "# for n-d array\n",
    "print(b1)\n",
    "\n",
    "print(np.where(b1%2==0))"
   ]
  },
  {
   "cell_type": "code",
   "execution_count": 65,
   "id": "e75cbfdf-7c24-4f5c-a509-2dfd0e4c65df",
   "metadata": {},
   "outputs": [
    {
     "data": {
      "text/plain": [
       "1"
      ]
     },
     "execution_count": 65,
     "metadata": {},
     "output_type": "execute_result"
    }
   ],
   "source": [
    "#search sorted \n",
    "\n",
    "ar=np.array([1,2,3,4,5,6,7,8]) # values must be sorted \n",
    "\n",
    "np.searchsorted(ar,2)"
   ]
  },
  {
   "cell_type": "code",
   "execution_count": null,
   "id": "0b3e3f2a-585d-435a-9838-d5848cf07253",
   "metadata": {},
   "outputs": [],
   "source": []
  },
  {
   "cell_type": "markdown",
   "id": "0b51b56c-b39e-41c5-acb5-a9ed1461a88b",
   "metadata": {},
   "source": [
    "### Filter\n",
    "\n",
    "- Creating New array by existing array "
   ]
  },
  {
   "cell_type": "code",
   "execution_count": 67,
   "id": "02fa7f56-6925-4516-b74e-5bafded8e5f8",
   "metadata": {},
   "outputs": [
    {
     "name": "stdout",
     "output_type": "stream",
     "text": [
      "[20 40]\n"
     ]
    }
   ],
   "source": [
    "import numpy as np\n",
    "\n",
    "ar=np.array([20,30,40,50])\n",
    "\n",
    "fa=[True,False,True,False] \n",
    "\n",
    "new=ar[fa]\n",
    "print(new)"
   ]
  },
  {
   "cell_type": "code",
   "execution_count": 69,
   "id": "23db6e3c-b52e-49e1-9d92-210ae1515720",
   "metadata": {},
   "outputs": [
    {
     "name": "stdout",
     "output_type": "stream",
     "text": [
      "[40 50]\n"
     ]
    }
   ],
   "source": [
    "fa=ar>35\n",
    "\n",
    "new1=ar[fa]\n",
    "\n",
    "print(new1)"
   ]
  },
  {
   "cell_type": "code",
   "execution_count": 71,
   "id": "e5643e4b-27d9-4bb4-8b54-097dc30a94ca",
   "metadata": {},
   "outputs": [
    {
     "name": "stdout",
     "output_type": "stream",
     "text": [
      "[30]\n"
     ]
    }
   ],
   "source": [
    "x=ar%3==0\n",
    "\n",
    "new2=ar[x] \n",
    "\n",
    "print(new2)"
   ]
  },
  {
   "cell_type": "code",
   "execution_count": null,
   "id": "aace53b5-dffe-4520-a52f-75da8e8c3077",
   "metadata": {},
   "outputs": [],
   "source": []
  },
  {
   "cell_type": "markdown",
   "id": "8ecdcb50-bde9-485c-97a0-6ef193e4695f",
   "metadata": {},
   "source": [
    "### Aggeregating Function In Arrays "
   ]
  },
  {
   "cell_type": "code",
   "execution_count": 9,
   "id": "2e2c1e2d-501d-4041-b4ea-ee8ab334df60",
   "metadata": {},
   "outputs": [
    {
     "name": "stdout",
     "output_type": "stream",
     "text": [
      "190\n",
      "20\n",
      "4\n",
      "47.5\n",
      "[ 20  60 120 190]\n",
      "[     20     800   48000 3360000]\n"
     ]
    }
   ],
   "source": [
    "import numpy as np \n",
    "\n",
    "a=np.array([20,40,60,70])\n",
    "\n",
    "print(np.sum(a))\n",
    "print(np.min(a))\n",
    "print(np.size(a))\n",
    "print(np.mean(a))\n",
    "print(np.cumsum(a))  # cummilative sum \n",
    "print(np.cumprod(a)) # cummilative product"
   ]
  },
  {
   "cell_type": "code",
   "execution_count": 10,
   "id": "cc8f29be-543f-4c7d-9599-47352df5af69",
   "metadata": {},
   "outputs": [
    {
     "name": "stdout",
     "output_type": "stream",
     "text": [
      "[100 150 199 200 250 130] \n",
      " [10 50 30 40 30 10]\n"
     ]
    }
   ],
   "source": [
    "a=[100,150,199,200,250,130]\n",
    "b=[10,50,30,40,30,10]\n",
    "\n",
    "price=np.array(a)\n",
    "\n",
    "quantity=np.array(b)\n",
    "\n",
    "print(price,'\\n', quantity)"
   ]
  },
  {
   "cell_type": "code",
   "execution_count": 11,
   "id": "9ad275c2-e412-41e2-98f1-6726211f286a",
   "metadata": {},
   "outputs": [
    {
     "name": "stdout",
     "output_type": "stream",
     "text": [
      "1029\n"
     ]
    }
   ],
   "source": [
    "print(np.sum(price))"
   ]
  },
  {
   "cell_type": "code",
   "execution_count": 19,
   "id": "f71806a2-cf6e-4ec9-b133-c4c7c89ef89e",
   "metadata": {},
   "outputs": [
    {
     "name": "stdout",
     "output_type": "stream",
     "text": [
      "[[ 100  150  199  200  250  130]\n",
      " [1000 7500 5970 8000 7500 1300]]\n",
      "31270\n",
      "31270\n"
     ]
    }
   ],
   "source": [
    "c=np.cumprod([price,quantity],axis=0)\n",
    "print(c)\n",
    "\n",
    "print(np.sum(c[1])) # sum of row index 1 \n",
    "print(c[1].sum()) # another way "
   ]
  },
  {
   "cell_type": "code",
   "execution_count": null,
   "id": "ead29bc6-17e4-4340-8219-8fbd3c8b0d50",
   "metadata": {},
   "outputs": [],
   "source": []
  },
  {
   "cell_type": "markdown",
   "id": "9341669a-39aa-46f4-a63e-0f8e13857473",
   "metadata": {},
   "source": [
    "## Statistical Function in Arrays "
   ]
  },
  {
   "cell_type": "code",
   "execution_count": 29,
   "id": "04063208-78e2-4206-b75f-f10880906f8b",
   "metadata": {},
   "outputs": [
    {
     "name": "stdout",
     "output_type": "stream",
     "text": [
      "202.25\n",
      "194.0\n"
     ]
    },
    {
     "ename": "AttributeError",
     "evalue": "module 'numpy' has no attribute 'mode'",
     "output_type": "error",
     "traceback": [
      "\u001b[1;31m---------------------------------------------------------------------------\u001b[0m",
      "\u001b[1;31mAttributeError\u001b[0m                            Traceback (most recent call last)",
      "Cell \u001b[1;32mIn[29], line 7\u001b[0m\n\u001b[0;32m      5\u001b[0m \u001b[38;5;28mprint\u001b[39m(np\u001b[38;5;241m.\u001b[39mmean(baked_food))\n\u001b[0;32m      6\u001b[0m \u001b[38;5;28mprint\u001b[39m(np\u001b[38;5;241m.\u001b[39mmedian(baked_food))\n\u001b[1;32m----> 7\u001b[0m \u001b[38;5;28mprint\u001b[39m(np\u001b[38;5;241m.\u001b[39mmode(baked_food))\n",
      "File \u001b[1;32m~\\.conda\\New folder\\Lib\\site-packages\\numpy\\__init__.py:333\u001b[0m, in \u001b[0;36m__getattr__\u001b[1;34m(attr)\u001b[0m\n\u001b[0;32m    330\u001b[0m     \u001b[38;5;124m\"\u001b[39m\u001b[38;5;124mRemoved in NumPy 1.25.0\u001b[39m\u001b[38;5;124m\"\u001b[39m\n\u001b[0;32m    331\u001b[0m     \u001b[38;5;28;01mraise\u001b[39;00m \u001b[38;5;167;01mRuntimeError\u001b[39;00m(\u001b[38;5;124m\"\u001b[39m\u001b[38;5;124mTester was removed in NumPy 1.25.\u001b[39m\u001b[38;5;124m\"\u001b[39m)\n\u001b[1;32m--> 333\u001b[0m \u001b[38;5;28;01mraise\u001b[39;00m \u001b[38;5;167;01mAttributeError\u001b[39;00m(\u001b[38;5;124m\"\u001b[39m\u001b[38;5;124mmodule \u001b[39m\u001b[38;5;132;01m{!r}\u001b[39;00m\u001b[38;5;124m has no attribute \u001b[39m\u001b[38;5;124m\"\u001b[39m\n\u001b[0;32m    334\u001b[0m                      \u001b[38;5;124m\"\u001b[39m\u001b[38;5;132;01m{!r}\u001b[39;00m\u001b[38;5;124m\"\u001b[39m\u001b[38;5;241m.\u001b[39mformat(\u001b[38;5;18m__name__\u001b[39m, attr))\n",
      "\u001b[1;31mAttributeError\u001b[0m: module 'numpy' has no attribute 'mode'"
     ]
    }
   ],
   "source": [
    "import numpy as np \n",
    "baked_food=[200,300,150,130,200,280,170,188]\n",
    "a=np.array(baked_food)\n",
    "\n",
    "print(np.mean(baked_food))\n",
    "print(np.median(baked_food))\n",
    "print(np.mode(baked_food)) # numpy do not have function mode "
   ]
  },
  {
   "cell_type": "code",
   "execution_count": 38,
   "id": "2f05403f-d5ab-494b-9c81-3f99763dcfd4",
   "metadata": {},
   "outputs": [
    {
     "name": "stdout",
     "output_type": "stream",
     "text": [
      "200\n",
      "55.68157235567257\n",
      "3100.4375\n"
     ]
    }
   ],
   "source": [
    "import statistics as stats\n",
    "\n",
    "print(stats.mode(baked_food))\n",
    "\n",
    "print(np.std(baked_food)) # standard deviation \n",
    "print(np.var(baked_food)) # variance= std**2\n"
   ]
  },
  {
   "cell_type": "code",
   "execution_count": 42,
   "id": "3f932292-62f9-42c1-b070-83a719bc7c6c",
   "metadata": {},
   "outputs": [
    {
     "name": "stdout",
     "output_type": "stream",
     "text": [
      "[[1.         0.99015454]\n",
      " [0.99015454 1.        ]]\n"
     ]
    }
   ],
   "source": [
    "# corelation coffecient \n",
    "\n",
    "tobacco_con=[30,50,10,30,50,40]\n",
    "deaths=[100,120,70,100,120,112]\n",
    "\n",
    "print(np.corrcoef([tobacco_con,deaths]))\n",
    "\n",
    "# -1 represent inversely proportional relationsip\n",
    "# 1 represents proportional relationship\n",
    "# 0 means no relationship "
   ]
  },
  {
   "cell_type": "code",
   "execution_count": null,
   "id": "8a4cb0ac-c245-428a-b8be-5817b79f29b3",
   "metadata": {},
   "outputs": [],
   "source": []
  },
  {
   "cell_type": "code",
   "execution_count": null,
   "id": "b189c509-c248-478d-bd88-93374b401d17",
   "metadata": {},
   "outputs": [],
   "source": []
  },
  {
   "cell_type": "code",
   "execution_count": null,
   "id": "e7700474-2c3e-4ed8-a2b3-6db5e74f978d",
   "metadata": {},
   "outputs": [],
   "source": []
  },
  {
   "cell_type": "code",
   "execution_count": null,
   "id": "fdafba1c-f86d-4275-aff2-bd0b2c7d4fba",
   "metadata": {},
   "outputs": [],
   "source": []
  },
  {
   "cell_type": "code",
   "execution_count": null,
   "id": "e99bc3a2-daa5-4aa5-90a2-8f8d76edce46",
   "metadata": {},
   "outputs": [],
   "source": []
  },
  {
   "cell_type": "code",
   "execution_count": null,
   "id": "a343f632-ea4c-44fd-9915-d8558678b560",
   "metadata": {},
   "outputs": [],
   "source": []
  }
 ],
 "metadata": {
  "kernelspec": {
   "display_name": "Python 3 (ipykernel)",
   "language": "python",
   "name": "python3"
  },
  "language_info": {
   "codemirror_mode": {
    "name": "ipython",
    "version": 3
   },
   "file_extension": ".py",
   "mimetype": "text/x-python",
   "name": "python",
   "nbconvert_exporter": "python",
   "pygments_lexer": "ipython3",
   "version": "3.11.7"
  }
 },
 "nbformat": 4,
 "nbformat_minor": 5
}
