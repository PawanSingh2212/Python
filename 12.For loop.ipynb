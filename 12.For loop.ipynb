{
 "cells": [
  {
   "cell_type": "code",
   "execution_count": 3,
   "id": "74e1230a",
   "metadata": {},
   "outputs": [
    {
     "name": "stdout",
     "output_type": "stream",
     "text": [
      "1 2 3 4 5 6 7 8 9 10 11 12 13 14 15 16 17 18 19 20 21 22 23 24 25\n"
     ]
    }
   ],
   "source": [
    "print(1,2,3,4,5,6,7,8,9,10,11,12,13,14,15,16,17,18,19,20,21,22,23,24,25)"
   ]
  },
  {
   "cell_type": "code",
   "execution_count": 6,
   "id": "ead07e2f",
   "metadata": {},
   "outputs": [
    {
     "name": "stdout",
     "output_type": "stream",
     "text": [
      "1,2,3,4,5,6,7,8,9,10,11,12,13,14,15,16,17,18,19,20,21,22,23,24,25,"
     ]
    }
   ],
   "source": [
    "for i in range(1,26,1):\n",
    "    print(i,end=',')"
   ]
  },
  {
   "cell_type": "code",
   "execution_count": 16,
   "id": "56f60a43",
   "metadata": {},
   "outputs": [
    {
     "name": "stdout",
     "output_type": "stream",
     "text": [
      "1\n",
      "2\n",
      "3\n",
      "4\n"
     ]
    }
   ],
   "source": [
    "numbers=[1,2,3,4]\n",
    "for i in numbers:\n",
    "    print(i)\n",
    "    i=i+3"
   ]
  },
  {
   "cell_type": "code",
   "execution_count": 17,
   "id": "1896ae2f",
   "metadata": {},
   "outputs": [
    {
     "name": "stdout",
     "output_type": "stream",
     "text": [
      "4\n",
      "5\n",
      "6\n",
      "7\n"
     ]
    }
   ],
   "source": [
    "numbers=[1,2,3,4]\n",
    "for i in numbers:\n",
    "    i=i+3\n",
    "    print(i)"
   ]
  },
  {
   "cell_type": "code",
   "execution_count": 20,
   "id": "47b585e6",
   "metadata": {},
   "outputs": [
    {
     "name": "stdout",
     "output_type": "stream",
     "text": [
      "4\n",
      "yes\n",
      "5\n",
      "6\n",
      "7\n"
     ]
    }
   ],
   "source": [
    "numbers=[1,2,3,4]\n",
    "for i in numbers:\n",
    "    i=i+3\n",
    "    print(i)\n",
    "    if i==4:\n",
    "        print('yes')"
   ]
  },
  {
   "cell_type": "code",
   "execution_count": 21,
   "id": "673d602d",
   "metadata": {},
   "outputs": [
    {
     "name": "stdout",
     "output_type": "stream",
     "text": [
      "4\n"
     ]
    },
    {
     "ename": "TypeError",
     "evalue": "'int' object is not iterable",
     "output_type": "error",
     "traceback": [
      "\u001b[1;31m---------------------------------------------------------------------------\u001b[0m",
      "\u001b[1;31mTypeError\u001b[0m                                 Traceback (most recent call last)",
      "Cell \u001b[1;32mIn[21], line 5\u001b[0m\n\u001b[0;32m      3\u001b[0m i\u001b[38;5;241m=\u001b[39mi\u001b[38;5;241m+\u001b[39m\u001b[38;5;241m3\u001b[39m\n\u001b[0;32m      4\u001b[0m \u001b[38;5;28mprint\u001b[39m(i)\n\u001b[1;32m----> 5\u001b[0m \u001b[38;5;28;01mfor\u001b[39;00m j \u001b[38;5;129;01min\u001b[39;00m i:\n\u001b[0;32m      6\u001b[0m     \u001b[38;5;28;01mif\u001b[39;00m j\u001b[38;5;241m==\u001b[39m\u001b[38;5;241m4\u001b[39m:\n\u001b[0;32m      7\u001b[0m         \u001b[38;5;28mprint\u001b[39m(\u001b[38;5;124m'\u001b[39m\u001b[38;5;124myes\u001b[39m\u001b[38;5;124m'\u001b[39m)\n",
      "\u001b[1;31mTypeError\u001b[0m: 'int' object is not iterable"
     ]
    }
   ],
   "source": [
    "numbers=[1,2,3,4]\n",
    "for i in numbers:\n",
    "    i=i+3\n",
    "    print(i)\n",
    "    for j in i:\n",
    "        if j==4:\n",
    "            print('yes')"
   ]
  },
  {
   "cell_type": "code",
   "execution_count": 28,
   "id": "dbe71f86",
   "metadata": {},
   "outputs": [
    {
     "name": "stdout",
     "output_type": "stream",
     "text": [
      "4\n",
      "yes\n",
      "5\n",
      "6\n",
      "7\n"
     ]
    }
   ],
   "source": [
    "numbers=[1,2,3,4]\n",
    "for i in numbers:\n",
    "    i=i+3\n",
    "    print(i)\n",
    "    for j in [i]:\n",
    "        if j==4:\n",
    "            print('yes')"
   ]
  },
  {
   "cell_type": "code",
   "execution_count": null,
   "id": "6696942a",
   "metadata": {},
   "outputs": [],
   "source": []
  },
  {
   "cell_type": "code",
   "execution_count": 7,
   "id": "47a439bd",
   "metadata": {},
   "outputs": [
    {
     "name": "stdout",
     "output_type": "stream",
     "text": [
      "green\n",
      "yellow\n",
      "red\n"
     ]
    }
   ],
   "source": [
    "colours=['green','yellow','red']\n",
    "for colour in colours:\n",
    "    print(colour)     # needs 4 spaces before print which is called Indent"
   ]
  },
  {
   "cell_type": "code",
   "execution_count": 10,
   "id": "d9edcb84",
   "metadata": {},
   "outputs": [
    {
     "name": "stdout",
     "output_type": "stream",
     "text": [
      "green\n",
      "g\n",
      "r\n",
      "e\n",
      "e\n",
      "n\n",
      "yellow\n",
      "y\n",
      "e\n",
      "l\n",
      "l\n",
      "o\n",
      "w\n",
      "red\n",
      "r\n",
      "e\n",
      "d\n"
     ]
    }
   ],
   "source": [
    "# nested for loop\n",
    "\n",
    "colours=['green','yellow','red']\n",
    "for colour in colours:\n",
    "    print(colour)\n",
    "    \n",
    "    for i in colour:\n",
    "        print(i)"
   ]
  },
  {
   "cell_type": "code",
   "execution_count": 54,
   "id": "b81c9216",
   "metadata": {},
   "outputs": [
    {
     "name": "stdout",
     "output_type": "stream",
     "text": [
      "green\n",
      "yellow\n",
      "red\n",
      "r\n",
      "e\n",
      "d\n"
     ]
    }
   ],
   "source": [
    "colours=['green','yellow','red']   #\n",
    "for colour in colours:\n",
    "    print(colour)\n",
    "for i in colour:   # this is not nested loop after removing intend it came out of the 1st loop\n",
    "        print(i)"
   ]
  },
  {
   "cell_type": "code",
   "execution_count": 56,
   "id": "c84d7e33",
   "metadata": {},
   "outputs": [
    {
     "name": "stdout",
     "output_type": "stream",
     "text": [
      "green\n",
      "yellow\n",
      "red\n",
      "r\n",
      "red\n",
      "e\n",
      "red\n",
      "d\n",
      "red\n"
     ]
    }
   ],
   "source": [
    "colours=['green','yellow','red']   #\n",
    "for colour in colours:\n",
    "    print(colour)\n",
    "    \n",
    "for i in colour:   # this is not nested loop after removing intend it came out of the 1st loop\n",
    "        print(i)\n",
    "        print(colour)"
   ]
  },
  {
   "cell_type": "code",
   "execution_count": 12,
   "id": "2c78d666",
   "metadata": {},
   "outputs": [
    {
     "name": "stdout",
     "output_type": "stream",
     "text": [
      "green\n",
      "g\n",
      "r\n",
      "e\n",
      "e\n",
      "n\n",
      "g\n",
      "r\n",
      "e\n",
      "e\n",
      "n\n",
      "yellow\n",
      "y\n",
      "e\n",
      "l\n",
      "l\n",
      "o\n",
      "w\n",
      "y\n",
      "e\n",
      "l\n",
      "l\n",
      "o\n",
      "w\n",
      "red\n",
      "r\n",
      "e\n",
      "d\n",
      "r\n",
      "e\n",
      "d\n"
     ]
    }
   ],
   "source": [
    "colours=['green','yellow','red']\n",
    "for colour in colours:\n",
    "    print(colour)\n",
    "    \n",
    "    for i in (colour*2):  # operation in green,yellow,red\n",
    "        print(i)"
   ]
  },
  {
   "cell_type": "code",
   "execution_count": 13,
   "id": "8c08e36f",
   "metadata": {},
   "outputs": [
    {
     "name": "stdout",
     "output_type": "stream",
     "text": [
      "greengreen\n",
      "g\n",
      "r\n",
      "e\n",
      "e\n",
      "n\n",
      "yellowyellow\n",
      "y\n",
      "e\n",
      "l\n",
      "l\n",
      "o\n",
      "w\n",
      "redred\n",
      "r\n",
      "e\n",
      "d\n"
     ]
    }
   ],
   "source": [
    "colours=['green','yellow','red']\n",
    "for colour in colours:\n",
    "    print(colour*2)   # operation in colour\n",
    "    \n",
    "    for i in colour:\n",
    "        print(i)"
   ]
  },
  {
   "cell_type": "code",
   "execution_count": 20,
   "id": "81ef95e0",
   "metadata": {},
   "outputs": [
    {
     "name": "stdout",
     "output_type": "stream",
     "text": [
      "green\n"
     ]
    }
   ],
   "source": [
    "colours=['green','yellow','red']\n",
    "for colour in colours:\n",
    "    if colour=='green':\n",
    "        print(colour)\n",
    "    "
   ]
  },
  {
   "cell_type": "code",
   "execution_count": 21,
   "id": "99861694",
   "metadata": {},
   "outputs": [
    {
     "name": "stdout",
     "output_type": "stream",
     "text": [
      "green\n",
      "green\n",
      "yellow\n",
      "red\n"
     ]
    }
   ],
   "source": [
    "colours=['green','yellow','red']\n",
    "for colour in colours:\n",
    "    if colour=='green':\n",
    "        print(colour)\n",
    "        \n",
    "for colour in colours:\n",
    "    print(colour)\n"
   ]
  },
  {
   "cell_type": "code",
   "execution_count": 44,
   "id": "1e2cd275",
   "metadata": {},
   "outputs": [
    {
     "name": "stdout",
     "output_type": "stream",
     "text": [
      "green\n",
      "green\n",
      "yellow\n",
      "red\n"
     ]
    }
   ],
   "source": [
    "colours=['green','yellow','red']\n",
    "for colour in colours:\n",
    "    if colour=='green':         \n",
    "        print(colour)\n",
    "        \n",
    "for colour in colours:\n",
    "    print(colour)"
   ]
  },
  {
   "cell_type": "code",
   "execution_count": 24,
   "id": "e27c88e5",
   "metadata": {},
   "outputs": [
    {
     "name": "stdout",
     "output_type": "stream",
     "text": [
      "green\n",
      "g\n",
      "r\n",
      "e\n",
      "e\n",
      "n\n",
      "y\n",
      "e\n",
      "l\n",
      "l\n",
      "o\n",
      "w\n",
      "r\n",
      "e\n",
      "d\n"
     ]
    }
   ],
   "source": [
    "colours=['green','yellow','red']\n",
    "for colour in colours:\n",
    "    if colour=='green':\n",
    "        print(colour)\n",
    "        \n",
    "    for colour in colour:\n",
    "        print(colour)  "
   ]
  },
  {
   "cell_type": "code",
   "execution_count": 14,
   "id": "72dab4ef",
   "metadata": {},
   "outputs": [
    {
     "name": "stdout",
     "output_type": "stream",
     "text": [
      "green\n",
      "g\n",
      "r\n",
      "e\n",
      "e\n",
      "n\n",
      "yellow\n",
      "y\n",
      "e\n",
      "l\n",
      "l\n",
      "o\n",
      "w\n",
      "red\n",
      "r\n",
      "e\n",
      "d\n"
     ]
    }
   ],
   "source": [
    "colours=['green','yellow','red']\n",
    "\n",
    "for colour in colours:\n",
    "    print(colour)\n",
    "    \n",
    "    for colour in colour:\n",
    "            print(colour)\n",
    "            "
   ]
  },
  {
   "cell_type": "code",
   "execution_count": null,
   "id": "16db0bd4",
   "metadata": {},
   "outputs": [],
   "source": []
  },
  {
   "cell_type": "code",
   "execution_count": 52,
   "id": "79250e52",
   "metadata": {},
   "outputs": [
    {
     "name": "stdout",
     "output_type": "stream",
     "text": [
      "green\n",
      "g\n",
      "ggg\n",
      "r\n",
      "rrr\n",
      "e\n",
      "eee\n",
      "e\n",
      "eee\n",
      "n\n",
      "nnn\n",
      "y\n",
      "yyy\n",
      "e\n",
      "eee\n",
      "l\n",
      "lll\n",
      "l\n",
      "lll\n",
      "o\n",
      "ooo\n",
      "w\n",
      "www\n",
      "r\n",
      "rrr\n",
      "e\n",
      "eee\n",
      "d\n",
      "ddd\n"
     ]
    }
   ],
   "source": [
    "colours=['green','yellow','red']   \n",
    "for colour in colours:\n",
    "    if colour=='green':\n",
    "        print(colour)\n",
    "    for i in colour:\n",
    "        print(i)\n",
    "        for j in i:\n",
    "            if j!='yellow':\n",
    "                print(j*3)   # this is not nested loop after removing intend it came out of t"
   ]
  },
  {
   "cell_type": "code",
   "execution_count": 2,
   "id": "309b05f1",
   "metadata": {},
   "outputs": [],
   "source": [
    "x=['paw','hey','so']\n",
    "for  y in x:\n",
    "    if y=='say':         # no output\n",
    "        print(y)"
   ]
  },
  {
   "cell_type": "code",
   "execution_count": 3,
   "id": "c3e20c41",
   "metadata": {},
   "outputs": [
    {
     "name": "stdout",
     "output_type": "stream",
     "text": [
      "hey\n"
     ]
    }
   ],
   "source": [
    "for y in x:\n",
    "    if y=='hey':\n",
    "        print(y)"
   ]
  },
  {
   "cell_type": "code",
   "execution_count": 8,
   "id": "fb818374",
   "metadata": {},
   "outputs": [
    {
     "ename": "IndentationError",
     "evalue": "unexpected indent (2149684317.py, line 3)",
     "output_type": "error",
     "traceback": [
      "\u001b[1;36m  Cell \u001b[1;32mIn[8], line 3\u001b[1;36m\u001b[0m\n\u001b[1;33m    for y in y:\u001b[0m\n\u001b[1;37m    ^\u001b[0m\n\u001b[1;31mIndentationError\u001b[0m\u001b[1;31m:\u001b[0m unexpected indent\n"
     ]
    }
   ],
   "source": [
    "for y in x:\n",
    "    print(y)\n",
    "        for y in y:\n",
    "            print(y)"
   ]
  },
  {
   "cell_type": "code",
   "execution_count": 9,
   "id": "af838c2b",
   "metadata": {},
   "outputs": [
    {
     "name": "stdout",
     "output_type": "stream",
     "text": [
      "paw\n",
      "p\n",
      "a\n",
      "w\n",
      "hey\n",
      "h\n",
      "e\n",
      "y\n",
      "so\n",
      "s\n",
      "o\n"
     ]
    }
   ],
   "source": [
    "for y in x:\n",
    "    print(y)\n",
    "    for y in y:\n",
    "        print(y)"
   ]
  },
  {
   "cell_type": "code",
   "execution_count": 10,
   "id": "da85c3ef",
   "metadata": {},
   "outputs": [
    {
     "name": "stdout",
     "output_type": "stream",
     "text": [
      "paw\n",
      "hey\n",
      "hey\n",
      "hey\n",
      "so\n",
      "hey\n"
     ]
    }
   ],
   "source": [
    "x=['paw','hey','so']\n",
    "for i in x:\n",
    "    print(i)\n",
    "    for i in x:\n",
    "        if i=='hey':\n",
    "            print(i)"
   ]
  },
  {
   "cell_type": "code",
   "execution_count": 11,
   "id": "edeebb8b",
   "metadata": {},
   "outputs": [
    {
     "ename": "SyntaxError",
     "evalue": "cannot assign to expression (382361687.py, line 1)",
     "output_type": "error",
     "traceback": [
      "\u001b[1;36m  Cell \u001b[1;32mIn[11], line 1\u001b[1;36m\u001b[0m\n\u001b[1;33m    for i*2 in x:\u001b[0m\n\u001b[1;37m        ^\u001b[0m\n\u001b[1;31mSyntaxError\u001b[0m\u001b[1;31m:\u001b[0m cannot assign to expression\n"
     ]
    }
   ],
   "source": [
    "for i*2 in x:\n",
    "    print(i)"
   ]
  },
  {
   "cell_type": "code",
   "execution_count": 12,
   "id": "ef731dc7",
   "metadata": {},
   "outputs": [
    {
     "name": "stdout",
     "output_type": "stream",
     "text": [
      "pawpaw\n",
      "heyhey\n",
      "soso\n"
     ]
    }
   ],
   "source": [
    "for i in x:\n",
    "    print(i*2)"
   ]
  },
  {
   "cell_type": "code",
   "execution_count": 26,
   "id": "6af7a293",
   "metadata": {},
   "outputs": [
    {
     "ename": "SyntaxError",
     "evalue": "expected ':' (2130319557.py, line 3)",
     "output_type": "error",
     "traceback": [
      "\u001b[1;36m  Cell \u001b[1;32mIn[26], line 3\u001b[1;36m\u001b[0m\n\u001b[1;33m    if i>12\u001b[0m\n\u001b[1;37m           ^\u001b[0m\n\u001b[1;31mSyntaxError\u001b[0m\u001b[1;31m:\u001b[0m expected ':'\n"
     ]
    }
   ],
   "source": [
    "u=[12,34,57,890,'hey']\n",
    "for i in u:\n",
    "    if i>12\n",
    "    print(i)"
   ]
  },
  {
   "cell_type": "code",
   "execution_count": 29,
   "id": "1631ac02",
   "metadata": {
    "scrolled": true
   },
   "outputs": [
    {
     "name": "stdout",
     "output_type": "stream",
     "text": [
      "24\n",
      "68\n",
      "114\n",
      "1780\n"
     ]
    },
    {
     "ename": "TypeError",
     "evalue": "'<' not supported between instances of 'str' and 'int'",
     "output_type": "error",
     "traceback": [
      "\u001b[1;31m---------------------------------------------------------------------------\u001b[0m",
      "\u001b[1;31mTypeError\u001b[0m                                 Traceback (most recent call last)",
      "Cell \u001b[1;32mIn[29], line 3\u001b[0m\n\u001b[0;32m      1\u001b[0m u\u001b[38;5;241m=\u001b[39m[\u001b[38;5;241m12\u001b[39m,\u001b[38;5;241m34\u001b[39m,\u001b[38;5;241m57\u001b[39m,\u001b[38;5;241m890\u001b[39m,\u001b[38;5;124m'\u001b[39m\u001b[38;5;124mhey\u001b[39m\u001b[38;5;124m'\u001b[39m]\n\u001b[0;32m      2\u001b[0m \u001b[38;5;28;01mfor\u001b[39;00m i \u001b[38;5;129;01min\u001b[39;00m u:\n\u001b[1;32m----> 3\u001b[0m     \u001b[38;5;28;01mif\u001b[39;00m i\u001b[38;5;241m<\u001b[39m\u001b[38;5;241m11\u001b[39m:\n\u001b[0;32m      4\u001b[0m         \u001b[38;5;28mprint\u001b[39m(i)\n\u001b[0;32m      5\u001b[0m     \u001b[38;5;28;01melse\u001b[39;00m:\n",
      "\u001b[1;31mTypeError\u001b[0m: '<' not supported between instances of 'str' and 'int'"
     ]
    }
   ],
   "source": [
    "u=[12,34,57,890,'hey']\n",
    "for i in u:\n",
    "    if i<11:\n",
    "        print(i)\n",
    "    else:\n",
    "        print(i*2)"
   ]
  },
  {
   "cell_type": "code",
   "execution_count": 32,
   "id": "b323a460",
   "metadata": {},
   "outputs": [
    {
     "name": "stdout",
     "output_type": "stream",
     "text": [
      "False\n",
      "False\n",
      "False\n",
      "False\n"
     ]
    },
    {
     "ename": "TypeError",
     "evalue": "'<' not supported between instances of 'str' and 'int'",
     "output_type": "error",
     "traceback": [
      "\u001b[1;31m---------------------------------------------------------------------------\u001b[0m",
      "\u001b[1;31mTypeError\u001b[0m                                 Traceback (most recent call last)",
      "Cell \u001b[1;32mIn[32], line 3\u001b[0m\n\u001b[0;32m      1\u001b[0m u\u001b[38;5;241m=\u001b[39m[\u001b[38;5;241m12\u001b[39m,\u001b[38;5;241m34\u001b[39m,\u001b[38;5;241m57\u001b[39m,\u001b[38;5;241m890\u001b[39m,\u001b[38;5;124m'\u001b[39m\u001b[38;5;124mhey\u001b[39m\u001b[38;5;124m'\u001b[39m]\n\u001b[0;32m      2\u001b[0m \u001b[38;5;28;01mfor\u001b[39;00m i \u001b[38;5;129;01min\u001b[39;00m u:\n\u001b[1;32m----> 3\u001b[0m     \u001b[38;5;28;01mif\u001b[39;00m i\u001b[38;5;241m<\u001b[39m\u001b[38;5;241m11\u001b[39m:\n\u001b[0;32m      4\u001b[0m         \u001b[38;5;28mprint\u001b[39m(i)\n\u001b[0;32m      5\u001b[0m     \u001b[38;5;28;01melse\u001b[39;00m:\n",
      "\u001b[1;31mTypeError\u001b[0m: '<' not supported between instances of 'str' and 'int'"
     ]
    }
   ],
   "source": [
    "u=[12,34,57,890,'hey']\n",
    "for i in u:\n",
    "    if i<11:\n",
    "        print(i)\n",
    "    else:\n",
    "        print(i==str)"
   ]
  },
  {
   "cell_type": "code",
   "execution_count": 38,
   "id": "5d08c9d2",
   "metadata": {},
   "outputs": [
    {
     "name": "stdout",
     "output_type": "stream",
     "text": [
      "s\n",
      "s\n",
      "s\n",
      "s\n"
     ]
    }
   ],
   "source": [
    "z=[12,34,57,890]\n",
    "for i in z:\n",
    "    if i<11:\n",
    "        print(i)\n",
    "    else:\n",
    "        print('s')"
   ]
  },
  {
   "cell_type": "code",
   "execution_count": 1,
   "id": "3b9e2967",
   "metadata": {},
   "outputs": [
    {
     "name": "stdout",
     "output_type": "stream",
     "text": [
      "square of  4 is 16\n"
     ]
    },
    {
     "ename": "TypeError",
     "evalue": "'int' object is not iterable",
     "output_type": "error",
     "traceback": [
      "\u001b[1;31m---------------------------------------------------------------------------\u001b[0m",
      "\u001b[1;31mTypeError\u001b[0m                                 Traceback (most recent call last)",
      "Cell \u001b[1;32mIn[1], line 7\u001b[0m\n\u001b[0;32m      5\u001b[0m square\u001b[38;5;241m=\u001b[39mi\u001b[38;5;241m*\u001b[39m\u001b[38;5;241m*\u001b[39m\u001b[38;5;241m2\u001b[39m  \u001b[38;5;66;03m# statement 2    # it will givean integer non iterablefor second loop\u001b[39;00m\n\u001b[0;32m      6\u001b[0m \u001b[38;5;28mprint\u001b[39m(\u001b[38;5;124m'\u001b[39m\u001b[38;5;124msquare of \u001b[39m\u001b[38;5;124m'\u001b[39m,i, \u001b[38;5;124m'\u001b[39m\u001b[38;5;124mis\u001b[39m\u001b[38;5;124m'\u001b[39m, square) \u001b[38;5;66;03m# statement1\u001b[39;00m\n\u001b[1;32m----> 7\u001b[0m \u001b[38;5;28;01mfor\u001b[39;00m j \u001b[38;5;129;01min\u001b[39;00m square: \u001b[38;5;66;03m# nested for loop\u001b[39;00m\n\u001b[0;32m      8\u001b[0m     \u001b[38;5;28;01mif\u001b[39;00m j\u001b[38;5;241m==\u001b[39m\u001b[38;5;241m16\u001b[39m:    \u001b[38;5;66;03m# statement1 for second loop\u001b[39;00m\n\u001b[0;32m      9\u001b[0m         \u001b[38;5;28mprint\u001b[39m(\u001b[38;5;124m'\u001b[39m\u001b[38;5;124mlucky number\u001b[39m\u001b[38;5;124m'\u001b[39m)\n",
      "\u001b[1;31mTypeError\u001b[0m: 'int' object is not iterable"
     ]
    }
   ],
   "source": [
    "numbers=[1,2,3,4,5]\n",
    "# iterate over each element in list num\n",
    "for i in numbers:\n",
    "    i=i+3    # statement 1\n",
    "    square=i**2  # statement 2    # it will givean integer non iterablefor second loop\n",
    "    print('square of ',i, 'is', square) # statement1\n",
    "    for j in square: # nested for loop\n",
    "        if j==16:    # statement1 for second loop\n",
    "            print('lucky number') # statement2 for second loop"
   ]
  },
  {
   "cell_type": "code",
   "execution_count": 3,
   "id": "6990602d",
   "metadata": {},
   "outputs": [
    {
     "name": "stdout",
     "output_type": "stream",
     "text": [
      "square of : 4 is 16\n",
      "lucky number\n",
      "square of : 5 is 25\n",
      "square of : 6 is 36\n",
      "square of : 7 is 49\n",
      "square of : 8 is 64\n"
     ]
    }
   ],
   "source": [
    "numbers=[1,2,3,4,5]\n",
    "for i in numbers:\n",
    "    i=i+3\n",
    "    square=i**2 # in for loop we should have only data type which are iterable by making list we made it iterable\n",
    "    print('square of :', i ,'is', square)\n",
    "    for j in [square]:\n",
    "        if j==16:\n",
    "            print('lucky number')"
   ]
  },
  {
   "cell_type": "code",
   "execution_count": 4,
   "id": "95df0b33",
   "metadata": {},
   "outputs": [
    {
     "name": "stdout",
     "output_type": "stream",
     "text": [
      "square of : 4 is [16]\n",
      "lucky number\n",
      "square of : 5 is [25]\n",
      "square of : 6 is [36]\n",
      "square of : 7 is [49]\n",
      "square of : 8 is [64]\n"
     ]
    }
   ],
   "source": [
    "numbers=[1,2,3,4,5]\n",
    "for i in numbers:\n",
    "    i=i+3\n",
    "    square=[i**2] # in for loop we should have only data type which are iterable by making list we made it iterable\n",
    "    print('square of :', i ,'is', square)\n",
    "    for j in square:\n",
    "        if j==16:\n",
    "            print('lucky number')"
   ]
  },
  {
   "cell_type": "code",
   "execution_count": null,
   "id": "0e323677",
   "metadata": {},
   "outputs": [],
   "source": []
  },
  {
   "cell_type": "code",
   "execution_count": 30,
   "id": "df2af02e",
   "metadata": {},
   "outputs": [
    {
     "name": "stdout",
     "output_type": "stream",
     "text": [
      "square of : 4 is [16]\n"
     ]
    },
    {
     "ename": "TypeError",
     "evalue": "'int' object is not iterable",
     "output_type": "error",
     "traceback": [
      "\u001b[1;31m---------------------------------------------------------------------------\u001b[0m",
      "\u001b[1;31mTypeError\u001b[0m                                 Traceback (most recent call last)",
      "Cell \u001b[1;32mIn[30], line 6\u001b[0m\n\u001b[0;32m      4\u001b[0m square\u001b[38;5;241m=\u001b[39mi\u001b[38;5;241m*\u001b[39m\u001b[38;5;241m*\u001b[39m\u001b[38;5;241m2\u001b[39m\n\u001b[0;32m      5\u001b[0m \u001b[38;5;28mprint\u001b[39m(\u001b[38;5;124m'\u001b[39m\u001b[38;5;124msquare of :\u001b[39m\u001b[38;5;124m'\u001b[39m,i,\u001b[38;5;124m'\u001b[39m\u001b[38;5;124mis\u001b[39m\u001b[38;5;124m'\u001b[39m, [square])\n\u001b[1;32m----> 6\u001b[0m \u001b[38;5;28;01mfor\u001b[39;00m j \u001b[38;5;129;01min\u001b[39;00m square: \u001b[38;5;66;03m# j is going to no iterable square\u001b[39;00m\n\u001b[0;32m      7\u001b[0m     \u001b[38;5;28;01mif\u001b[39;00m j\u001b[38;5;241m==\u001b[39m\u001b[38;5;241m16\u001b[39m:\n\u001b[0;32m      8\u001b[0m         \u001b[38;5;28mprint\u001b[39m(\u001b[38;5;124m'\u001b[39m\u001b[38;5;124mlucky number\u001b[39m\u001b[38;5;124m'\u001b[39m)\n",
      "\u001b[1;31mTypeError\u001b[0m: 'int' object is not iterable"
     ]
    }
   ],
   "source": [
    "numbers=[1,2,3,4,5]\n",
    "for i in numbers:\n",
    "    i=i+3\n",
    "    square=i**2\n",
    "    print('square of :',i,'is', [square])\n",
    "    for j in square:   # j is going in square=i**2 for iteration\n",
    "        if j==16:\n",
    "            print('lucky number')"
   ]
  },
  {
   "cell_type": "code",
   "execution_count": 31,
   "id": "f2c04153",
   "metadata": {},
   "outputs": [
    {
     "name": "stdout",
     "output_type": "stream",
     "text": [
      "square of : 4 is 16\n",
      "lucky number\n",
      "square of : 5 is 25\n",
      "square of : 6 is 36\n",
      "square of : 7 is 49\n",
      "square of : 8 is 64\n"
     ]
    }
   ],
   "source": [
    "numbers=[1,2,3,4,5]\n",
    "for i in numbers:\n",
    "    i=i+3\n",
    "    square=i**2\n",
    "    print('square of :',i,'is', square)\n",
    "    for j in [square]: # j is going to iterable [square]\n",
    "        if j==16:\n",
    "            print('lucky number')"
   ]
  },
  {
   "cell_type": "code",
   "execution_count": 32,
   "id": "93f93f58",
   "metadata": {},
   "outputs": [
    {
     "name": "stdout",
     "output_type": "stream",
     "text": [
      "square of : 4 is [16]\n",
      "lucky number\n",
      "square of : 5 is [25]\n",
      "square of : 6 is [36]\n",
      "square of : 7 is [49]\n",
      "square of : 8 is [64]\n"
     ]
    }
   ],
   "source": [
    "numbers=[1,2,3,4,5]\n",
    "for i in numbers:\n",
    "    i=i+3\n",
    "    square=i**2\n",
    "    print('square of :',i,'is', [square])\n",
    "    for j in [square]:\n",
    "        if j==16:\n",
    "            print('lucky number')"
   ]
  },
  {
   "cell_type": "code",
   "execution_count": 35,
   "id": "27fce38b",
   "metadata": {},
   "outputs": [
    {
     "name": "stdout",
     "output_type": "stream",
     "text": [
      "square of : 4 is [[16]]\n",
      "square of : 5 is [[25]]\n",
      "square of : 6 is [[36]]\n",
      "square of : 7 is [[49]]\n",
      "square of : 8 is [[64]]\n"
     ]
    }
   ],
   "source": [
    "numbers=[1,2,3,4,5]\n",
    "for i in numbers:\n",
    "    i=i+3\n",
    "    square=[i**2]\n",
    "    print('square of :',i,'is', [square])\n",
    "    for j in [square]:\n",
    "        if j==16:  # for loop ran but gave no output\n",
    "            print('lucky number')"
   ]
  },
  {
   "cell_type": "code",
   "execution_count": 10,
   "id": "cd91fd7c",
   "metadata": {},
   "outputs": [
    {
     "name": "stdout",
     "output_type": "stream",
     "text": [
      "square of : 4 is [[16]]\n",
      "lucky number\n",
      "square of : 5 is [[25]]\n",
      "square of : 6 is [[36]]\n",
      "square of : 7 is [[49]]\n",
      "square of : 8 is [[64]]\n"
     ]
    }
   ],
   "source": [
    "numbers=[1,2,3,4,5]\n",
    "for i in numbers:\n",
    "    i=i+3\n",
    "    square=[i**2]\n",
    "    print('square of :',i,'is', [square])\n",
    "    for j in [square]:\n",
    "        if j==[16]:\n",
    "            print('lucky number')"
   ]
  },
  {
   "cell_type": "code",
   "execution_count": 6,
   "id": "8f9446a6",
   "metadata": {},
   "outputs": [
    {
     "ename": "TypeError",
     "evalue": "cannot unpack non-iterable int object",
     "output_type": "error",
     "traceback": [
      "\u001b[1;31m---------------------------------------------------------------------------\u001b[0m",
      "\u001b[1;31mTypeError\u001b[0m                                 Traceback (most recent call last)",
      "Cell \u001b[1;32mIn[6], line 4\u001b[0m\n\u001b[0;32m      2\u001b[0m \u001b[38;5;28;01mfor\u001b[39;00m i \u001b[38;5;129;01min\u001b[39;00m numbers:\n\u001b[0;32m      3\u001b[0m     i\u001b[38;5;241m=\u001b[39mi\u001b[38;5;241m+\u001b[39m\u001b[38;5;241m3\u001b[39m\n\u001b[1;32m----> 4\u001b[0m     [square]\u001b[38;5;241m=\u001b[39mi\u001b[38;5;241m*\u001b[39m\u001b[38;5;241m*\u001b[39m\u001b[38;5;241m2\u001b[39m\n\u001b[0;32m      5\u001b[0m     \u001b[38;5;28mprint\u001b[39m(\u001b[38;5;124m'\u001b[39m\u001b[38;5;124msquare of\u001b[39m\u001b[38;5;124m'\u001b[39m, i, \u001b[38;5;124m'\u001b[39m\u001b[38;5;124mis\u001b[39m\u001b[38;5;124m'\u001b[39m,square)\n\u001b[0;32m      6\u001b[0m     \u001b[38;5;28;01mfor\u001b[39;00m j \u001b[38;5;129;01min\u001b[39;00m square:\n",
      "\u001b[1;31mTypeError\u001b[0m: cannot unpack non-iterable int object"
     ]
    }
   ],
   "source": [
    "numbers=[1,2,3,4,5]\n",
    "for i in numbers:\n",
    "    i=i+3\n",
    "    [square]=i**2\n",
    "    print('square of', i, 'is',square)\n",
    "    for j in square:\n",
    "        if j==16:\n",
    "            print('lucky number')"
   ]
  },
  {
   "cell_type": "code",
   "execution_count": null,
   "id": "4e6c1d83",
   "metadata": {},
   "outputs": [],
   "source": []
  },
  {
   "cell_type": "code",
   "execution_count": 28,
   "id": "ffbac489",
   "metadata": {},
   "outputs": [
    {
     "name": "stdout",
     "output_type": "stream",
     "text": [
      "[25]\n"
     ]
    }
   ],
   "source": [
    "x=25\n",
    "print([x])"
   ]
  },
  {
   "cell_type": "code",
   "execution_count": 8,
   "id": "6889192d",
   "metadata": {},
   "outputs": [
    {
     "name": "stdout",
     "output_type": "stream",
     "text": [
      "square of : 4 is [16]\n",
      "square of : 5 is [25]\n",
      "square of : 6 is [36]\n",
      "square of : 7 is [49]\n",
      "square of : 8 is [64]\n"
     ]
    }
   ],
   "source": [
    "numbers=[1,2,3,4,5]\n",
    "for i in numbers:\n",
    "    y=i+3\n",
    "    square=[y**2]\n",
    "    print('square of :',y,'is', square)\n",
    "    for j in [square]:\n",
    "        if j==16:\n",
    "            print('lucky number')"
   ]
  },
  {
   "cell_type": "code",
   "execution_count": 12,
   "id": "6e534067",
   "metadata": {},
   "outputs": [
    {
     "ename": "NameError",
     "evalue": "name 'num' is not defined",
     "output_type": "error",
     "traceback": [
      "\u001b[1;31m---------------------------------------------------------------------------\u001b[0m",
      "\u001b[1;31mNameError\u001b[0m                                 Traceback (most recent call last)",
      "Cell \u001b[1;32mIn[12], line 3\u001b[0m\n\u001b[0;32m      1\u001b[0m number_data\u001b[38;5;241m=\u001b[39m[\u001b[38;5;241m323\u001b[39m,\u001b[38;5;241m209\u001b[39m,\u001b[38;5;241m5900\u001b[39m,\u001b[38;5;241m31092\u001b[39m,\u001b[38;5;241m3402\u001b[39m,\u001b[38;5;241m39803\u001b[39m,\u001b[38;5;241m78341\u001b[39m,\u001b[38;5;241m79843740\u001b[39m,\u001b[38;5;241m895\u001b[39m,\u001b[38;5;241m6749\u001b[39m,\u001b[38;5;241m2870984\u001b[39m]\n\u001b[0;32m      2\u001b[0m \u001b[38;5;28;01mfor\u001b[39;00m number \u001b[38;5;129;01min\u001b[39;00m number_data:\n\u001b[1;32m----> 3\u001b[0m     \u001b[38;5;28;01mif\u001b[39;00m num\u001b[38;5;241m<\u001b[39mnumber:\n\u001b[0;32m      4\u001b[0m         num\u001b[38;5;241m==\u001b[39mnumber\n\u001b[0;32m      5\u001b[0m         \u001b[38;5;28mprint\u001b[39m(num)\n",
      "\u001b[1;31mNameError\u001b[0m: name 'num' is not defined"
     ]
    }
   ],
   "source": [
    "number_data=[323,209,5900,31092,3402,39803,78341,79843740,895,6749,2870984]\n",
    "for number in number_data:\n",
    "    if num<number:\n",
    "        num==number\n",
    "        print(num)"
   ]
  },
  {
   "cell_type": "markdown",
   "id": "92d059d6",
   "metadata": {},
   "source": [
    "##### odd even"
   ]
  },
  {
   "cell_type": "code",
   "execution_count": 1,
   "id": "f64c2497",
   "metadata": {},
   "outputs": [
    {
     "name": "stdout",
     "output_type": "stream",
     "text": [
      "setting of odd,even\n",
      "number43543648578\n",
      "even\n"
     ]
    }
   ],
   "source": [
    "print('setting of odd,even')\n",
    "number=int(input('number'))\n",
    "if number%2==0:\n",
    "    print('even')\n",
    "else:\n",
    "    print('odd')"
   ]
  },
  {
   "cell_type": "code",
   "execution_count": 10,
   "id": "753b4e9f",
   "metadata": {},
   "outputs": [
    {
     "ename": "TypeError",
     "evalue": "not all arguments converted during string formatting",
     "output_type": "error",
     "traceback": [
      "\u001b[1;31m---------------------------------------------------------------------------\u001b[0m",
      "\u001b[1;31mTypeError\u001b[0m                                 Traceback (most recent call last)",
      "Cell \u001b[1;32mIn[10], line 3\u001b[0m\n\u001b[0;32m      1\u001b[0m numer\u001b[38;5;241m=\u001b[39m[\u001b[38;5;241m12\u001b[39m,\u001b[38;5;241m34\u001b[39m,\u001b[38;5;241m45\u001b[39m,\u001b[38;5;241m36\u001b[39m,\u001b[38;5;241m78\u001b[39m,\u001b[38;5;241m76\u001b[39m,\u001b[38;5;241m37\u001b[39m,\u001b[38;5;241m35\u001b[39m,\u001b[38;5;241m1\u001b[39m,\u001b[38;5;241m3\u001b[39m]\n\u001b[0;32m      2\u001b[0m \u001b[38;5;28;01mfor\u001b[39;00m i \u001b[38;5;129;01min\u001b[39;00m number:\n\u001b[1;32m----> 3\u001b[0m     \u001b[38;5;28;01mif\u001b[39;00m i\u001b[38;5;241m%\u001b[39m\u001b[38;5;241m2\u001b[39m\u001b[38;5;241m==\u001b[39m\u001b[38;5;241m0\u001b[39m:\n\u001b[0;32m      4\u001b[0m         \u001b[38;5;28mprint\u001b[39m(\u001b[38;5;124m'\u001b[39m\u001b[38;5;124meven\u001b[39m\u001b[38;5;124m'\u001b[39m)\n\u001b[0;32m      5\u001b[0m \u001b[38;5;28;01melse\u001b[39;00m:\n",
      "\u001b[1;31mTypeError\u001b[0m: not all arguments converted during string formatting"
     ]
    }
   ],
   "source": [
    "numer=[12,34,45,36,78,76,37,35,1,3]\n",
    "for i in number:\n",
    "    if i%2==0:\n",
    "        print('even')\n",
    "else:\n",
    "    print('odd')"
   ]
  },
  {
   "cell_type": "markdown",
   "id": "52f689ed",
   "metadata": {},
   "source": [
    "#### digit in letter"
   ]
  },
  {
   "cell_type": "code",
   "execution_count": 29,
   "id": "04b6d4bf",
   "metadata": {},
   "outputs": [
    {
     "name": "stdout",
     "output_type": "stream",
     "text": [
      "number1\n"
     ]
    },
    {
     "ename": "TypeError",
     "evalue": "'int' object is not iterable",
     "output_type": "error",
     "traceback": [
      "\u001b[1;31m---------------------------------------------------------------------------\u001b[0m",
      "\u001b[1;31mTypeError\u001b[0m                                 Traceback (most recent call last)",
      "Cell \u001b[1;32mIn[29], line 2\u001b[0m\n\u001b[0;32m      1\u001b[0m number\u001b[38;5;241m=\u001b[39m\u001b[38;5;28mint\u001b[39m(\u001b[38;5;28minput\u001b[39m(\u001b[38;5;124m'\u001b[39m\u001b[38;5;124mnumber\u001b[39m\u001b[38;5;124m'\u001b[39m))\n\u001b[1;32m----> 2\u001b[0m \u001b[38;5;28;01mfor\u001b[39;00m i \u001b[38;5;129;01min\u001b[39;00m number:\n\u001b[0;32m      3\u001b[0m     \u001b[38;5;28;01mif\u001b[39;00m i\u001b[38;5;241m==\u001b[39m\u001b[38;5;241m1\u001b[39m:\n\u001b[0;32m      4\u001b[0m         \u001b[38;5;28mprint\u001b[39m(\u001b[38;5;124m'\u001b[39m\u001b[38;5;124mone\u001b[39m\u001b[38;5;124m'\u001b[39m)\n",
      "\u001b[1;31mTypeError\u001b[0m: 'int' object is not iterable"
     ]
    }
   ],
   "source": [
    "number=int(input('number'))\n",
    "for i in number:\n",
    "    if i==1:\n",
    "        print('one')"
   ]
  },
  {
   "cell_type": "code",
   "execution_count": 2,
   "id": "87c4cc5a",
   "metadata": {},
   "outputs": [
    {
     "name": "stdout",
     "output_type": "stream",
     "text": [
      "number1\n",
      "one\n"
     ]
    }
   ],
   "source": [
    "number=[int(input('number'))]\n",
    "for i in number:\n",
    "    if i==1:\n",
    "        print('one')"
   ]
  },
  {
   "cell_type": "code",
   "execution_count": 1,
   "id": "89ca005b",
   "metadata": {},
   "outputs": [
    {
     "name": "stdout",
     "output_type": "stream",
     "text": [
      "square of 4 is None\n",
      "square of 5 is None\n",
      "square of 6 is None\n",
      "square of 7 is None\n",
      "square of 8 is None\n"
     ]
    }
   ],
   "source": [
    "numbers=[1,2,3,4,5]\n",
    "for i in numbers:\n",
    "    i=i+3\n",
    "    square=[i**2]\n",
    "    print('square of', i , 'is', square.append(9))\n",
    "    for j in [square]:\n",
    "        if j==[16]:\n",
    "            print('lucky number')"
   ]
  },
  {
   "cell_type": "code",
   "execution_count": 15,
   "id": "9d53fd90",
   "metadata": {},
   "outputs": [
    {
     "name": "stdout",
     "output_type": "stream",
     "text": [
      "square of 4 is None [16, 9]\n",
      "square of 5 is None [25, 9]\n",
      "square of 6 is None [36, 9]\n",
      "square of 7 is None [49, 9]\n",
      "square of 8 is None [64, 9]\n"
     ]
    }
   ],
   "source": [
    "numbers=[1,2,3,4,5]\n",
    "for i in numbers:\n",
    "    i=i+3\n",
    "    square=[i**2]\n",
    "    print('square of', i , 'is', square.append(9),square)\n",
    "    for j in [square]:\n",
    "        if j==16:\n",
    "            print('lucky number')"
   ]
  },
  {
   "cell_type": "code",
   "execution_count": 16,
   "id": "bb0f4a15",
   "metadata": {},
   "outputs": [
    {
     "name": "stdout",
     "output_type": "stream",
     "text": [
      "square of 4 is None [16, 9]\n",
      "lucky number\n",
      "square of 5 is None [25, 9]\n",
      "square of 6 is None [36, 9]\n",
      "square of 7 is None [49, 9]\n",
      "square of 8 is None [64, 9]\n"
     ]
    }
   ],
   "source": [
    "numbers=[1,2,3,4,5]\n",
    "for i in numbers:\n",
    "    i=i+3\n",
    "    square=[i**2]\n",
    "    print('square of', i , 'is', square.append(9),square)\n",
    "    for j in square:\n",
    "        if j==16:\n",
    "            print('lucky number')"
   ]
  },
  {
   "cell_type": "code",
   "execution_count": 12,
   "id": "45ea9ab8",
   "metadata": {},
   "outputs": [
    {
     "ename": "TypeError",
     "evalue": "can only concatenate list (not \"int\") to list",
     "output_type": "error",
     "traceback": [
      "\u001b[1;31m---------------------------------------------------------------------------\u001b[0m",
      "\u001b[1;31mTypeError\u001b[0m                                 Traceback (most recent call last)",
      "Cell \u001b[1;32mIn[12], line 5\u001b[0m\n\u001b[0;32m      3\u001b[0m i\u001b[38;5;241m=\u001b[39mi\u001b[38;5;241m+\u001b[39m\u001b[38;5;241m3\u001b[39m\n\u001b[0;32m      4\u001b[0m square\u001b[38;5;241m=\u001b[39m[i\u001b[38;5;241m*\u001b[39m\u001b[38;5;241m*\u001b[39m\u001b[38;5;241m2\u001b[39m]\n\u001b[1;32m----> 5\u001b[0m \u001b[38;5;28mprint\u001b[39m(\u001b[38;5;124m'\u001b[39m\u001b[38;5;124msquare of\u001b[39m\u001b[38;5;124m'\u001b[39m, i , \u001b[38;5;124m'\u001b[39m\u001b[38;5;124mis\u001b[39m\u001b[38;5;124m'\u001b[39m, square\u001b[38;5;241m.\u001b[39mappend(\u001b[38;5;241m9\u001b[39m),square\u001b[38;5;241m+\u001b[39m\u001b[38;5;241m3\u001b[39m)\n\u001b[0;32m      6\u001b[0m \u001b[38;5;28;01mfor\u001b[39;00m j \u001b[38;5;129;01min\u001b[39;00m [square]:\n\u001b[0;32m      7\u001b[0m     \u001b[38;5;28;01mif\u001b[39;00m j\u001b[38;5;241m==\u001b[39m[\u001b[38;5;241m16\u001b[39m]:\n",
      "\u001b[1;31mTypeError\u001b[0m: can only concatenate list (not \"int\") to list"
     ]
    }
   ],
   "source": [
    "numbers=[1,2,3,4,5]\n",
    "for i in numbers:\n",
    "    i=i+3\n",
    "    square=[i**2]\n",
    "    print('square of', i , 'is', square.append(9),square+3)\n",
    "    for j in [square]:\n",
    "        if j==[16]:\n",
    "            print('lucky number')"
   ]
  },
  {
   "cell_type": "code",
   "execution_count": 21,
   "id": "c5f94b5a",
   "metadata": {},
   "outputs": [
    {
     "name": "stdout",
     "output_type": "stream",
     "text": [
      "square of 4 is None [16, 9, 3]\n",
      "lucky number\n",
      "square of 5 is None [25, 9, 3]\n",
      "square of 6 is None [36, 9, 3]\n",
      "square of 7 is None [49, 9, 3]\n",
      "square of 8 is None [64, 9, 3]\n"
     ]
    }
   ],
   "source": [
    "numbers=[1,2,3,4,5]\n",
    "for i in numbers:\n",
    "    i=i+3\n",
    "    square=[i**2]\n",
    "    print('square of', i , 'is', square.append(9),square+[3])\n",
    "    for j in square:\n",
    "        if j==16:\n",
    "            print('lucky number')"
   ]
  },
  {
   "cell_type": "code",
   "execution_count": 10,
   "id": "9ded0eeb",
   "metadata": {},
   "outputs": [
    {
     "name": "stdout",
     "output_type": "stream",
     "text": [
      "square of 4 is None [16, 9, 14] None\n",
      "square of 5 is None [25, 9, 14] None\n",
      "square of 6 is None [36, 9, 14] None\n",
      "square of 7 is None [49, 9, 14] None\n",
      "square of 8 is None [64, 9, 14] None\n"
     ]
    }
   ],
   "source": [
    "numbers=[1,2,3,4,5]\n",
    "for i in numbers:\n",
    "    i=i+3\n",
    "    square=[i**2]\n",
    "    print('square of', i , 'is', square.append(9),square,square.append(14))\n",
    "    for j in [square]:\n",
    "        if j==[16]:\n",
    "            print('lucky number')"
   ]
  },
  {
   "cell_type": "code",
   "execution_count": 14,
   "id": "e1204932",
   "metadata": {},
   "outputs": [
    {
     "name": "stdout",
     "output_type": "stream",
     "text": [
      "square of 4 is None [16, 9, 14] None [16, 9, 14]\n",
      "square of 5 is None [25, 9, 14] None [25, 9, 14]\n",
      "square of 6 is None [36, 9, 14] None [36, 9, 14]\n",
      "square of 7 is None [49, 9, 14] None [49, 9, 14]\n",
      "square of 8 is None [64, 9, 14] None [64, 9, 14]\n"
     ]
    }
   ],
   "source": [
    "numbers=[1,2,3,4,5]\n",
    "for i in numbers:\n",
    "    i=i+3\n",
    "    square=[i**2]\n",
    "    print('square of', i , 'is', square.append(9),square,square.append(14),square)\n",
    "    for j in square:\n",
    "        if j==[9]:\n",
    "            print('lucky number')"
   ]
  },
  {
   "cell_type": "code",
   "execution_count": 13,
   "id": "ba18882d",
   "metadata": {},
   "outputs": [
    {
     "name": "stdout",
     "output_type": "stream",
     "text": [
      "square of 4 is None [16, 9, 2, 3] [16, 9, 3] None [16, 9, 2, 3] {2, 3, 5, 9, 16} None [16, 9, 2, 3]\n",
      "square of 5 is None [25, 9, 2, 3] [25, 9, 3] None [25, 9, 2, 3] {2, 3, 5, 9, 25} None [25, 9, 2, 3]\n",
      "square of 6 is None [36, 9, 2, 3] [36, 9, 3] None [36, 9, 2, 3] {2, 3, 36, 5, 9} None [36, 9, 2, 3]\n",
      "square of 7 is None [49, 9, 2, 3] [49, 9, 3] None [49, 9, 2, 3] {2, 3, 5, 9, 49} None [49, 9, 2, 3]\n",
      "square of 8 is None [64, 9, 2, 3] [64, 9, 3] None [64, 9, 2, 3] {64, 2, 3, 5, 9} None [64, 9, 2, 3]\n",
      "[64, 9, 2, 3]\n"
     ]
    }
   ],
   "source": [
    "numbers=[1,2,3,4,5]\n",
    "for i in numbers:\n",
    "    i=i+3\n",
    "    square=[i**2]\n",
    "    print('square of', i , 'is', square.append(9),square,square+[3],square.extend([2,3,5]),square,set(square),square.remove(5),square)\n",
    "    for j in [square]:\n",
    "        if j==[16]:    # list difference\n",
    "            print('lucky number')\n",
    "print(square)"
   ]
  },
  {
   "cell_type": "code",
   "execution_count": 6,
   "id": "bf2861d0",
   "metadata": {},
   "outputs": [
    {
     "name": "stdout",
     "output_type": "stream",
     "text": [
      "[64, 9, 2, 3]\n"
     ]
    }
   ],
   "source": [
    "print(square)"
   ]
  },
  {
   "cell_type": "code",
   "execution_count": 8,
   "id": "15d2ecfc",
   "metadata": {},
   "outputs": [
    {
     "data": {
      "text/plain": [
       "True"
      ]
     },
     "execution_count": 8,
     "metadata": {},
     "output_type": "execute_result"
    }
   ],
   "source": [
    "s = [[2],3,4,5,6]\n",
    "[2] in s"
   ]
  },
  {
   "cell_type": "code",
   "execution_count": null,
   "id": "449f4d5d",
   "metadata": {},
   "outputs": [],
   "source": []
  },
  {
   "cell_type": "code",
   "execution_count": 4,
   "id": "410ea8aa",
   "metadata": {},
   "outputs": [
    {
     "name": "stdout",
     "output_type": "stream",
     "text": [
      "square of 4 is [16]\n",
      "lucky\n",
      "square of 5 is [25]\n",
      "square of 6 is [36]\n",
      "square of 7 is [49]\n",
      "square of 8 is [64]\n"
     ]
    }
   ],
   "source": [
    "numbers=[1,2,3,4,5]\n",
    "for i in numbers:\n",
    "    i=i+3\n",
    "    square=[i**2]\n",
    "    print('square of',i , 'is', square)\n",
    "    for j in [square]:\n",
    "        if j==[16]:\n",
    "            print('lucky')"
   ]
  },
  {
   "cell_type": "code",
   "execution_count": 4,
   "id": "6d63c003",
   "metadata": {},
   "outputs": [
    {
     "name": "stdout",
     "output_type": "stream",
     "text": [
      "square of 4 is None 2824618200192 [16, 9] [16, 9, 3] 2824618200192\n",
      "square of 5 is None 2824618381568 [25, 9] [25, 9, 3] 2824618381568\n",
      "square of 6 is None 2824618200192 [36, 9] [36, 9, 3] 2824618200192\n",
      "square of 7 is None 2824618381568 [49, 9] [49, 9, 3] 2824618381568\n",
      "square of 8 is None 2824618200192 [64, 9] [64, 9, 3] 2824618200192\n"
     ]
    }
   ],
   "source": [
    "numbers=[1,2,3,4,5]\n",
    "for i in numbers:\n",
    "    i=i+3\n",
    "    square=[i**2]\n",
    "    print('square of', i , 'is', square.append(9),id(square),square,square+[3],id(square))\n",
    "    for j in [square]:\n",
    "        if j==[16]:\n",
    "            print('lucky number')"
   ]
  },
  {
   "cell_type": "code",
   "execution_count": 82,
   "id": "e1c8ab85",
   "metadata": {},
   "outputs": [
    {
     "name": "stdout",
     "output_type": "stream",
     "text": [
      "square of 4 is None [16, 90, 9, 89, 78] [16, 90, 6] None [16, 90, 9, 89, 78] {67, 9, 78, 16, 89, 90} None [16, 90, 9, 89, 78]\n",
      "square of 5 is None [25, 90, 9, 89, 78] [25, 90, 6] None [25, 90, 9, 89, 78] {67, 9, 78, 89, 90, 25} None [25, 90, 9, 89, 78]\n",
      "square of 6 is None [36, 90, 9, 89, 78] [36, 90, 6] None [36, 90, 9, 89, 78] {67, 36, 9, 78, 89, 90} None [36, 90, 9, 89, 78]\n",
      "square of 7 is None [49, 90, 9, 89, 78] [49, 90, 6] None [49, 90, 9, 89, 78] {67, 9, 78, 49, 89, 90} None [49, 90, 9, 89, 78]\n",
      "square of 8 is None [64, 90, 9, 89, 78] [64, 90, 6] None [64, 90, 9, 89, 78] {64, 67, 9, 78, 89, 90} None [64, 90, 9, 89, 78]\n",
      "[64, 90, 9, 89, 78]\n"
     ]
    }
   ],
   "source": [
    "numbers=[1,2,3,4,5]\n",
    "for i in numbers:\n",
    "    i=i+3\n",
    "    square=[i**2]\n",
    "    print('square of', i, 'is',square.append(90),square,square+[6],square.extend([9,89,67,78]),square,set(square),square.remove(67),square)\n",
    "    for j in [square]:\n",
    "        if j==[16,90,9,89]:\n",
    "            print('lucky number')\n",
    "print(square)\n",
    "            "
   ]
  },
  {
   "cell_type": "code",
   "execution_count": 26,
   "id": "7f2617c2",
   "metadata": {},
   "outputs": [
    {
     "data": {
      "text/plain": [
       "2752690435200"
      ]
     },
     "execution_count": 26,
     "metadata": {},
     "output_type": "execute_result"
    }
   ],
   "source": [
    "square=[16,90]\n",
    "id(square)"
   ]
  },
  {
   "cell_type": "code",
   "execution_count": 27,
   "id": "9bb2a64a",
   "metadata": {},
   "outputs": [
    {
     "data": {
      "text/plain": [
       "[16, 90, 6]"
      ]
     },
     "execution_count": 27,
     "metadata": {},
     "output_type": "execute_result"
    }
   ],
   "source": [
    "square+[6]"
   ]
  },
  {
   "cell_type": "code",
   "execution_count": 28,
   "id": "a17aea6b",
   "metadata": {},
   "outputs": [
    {
     "name": "stdout",
     "output_type": "stream",
     "text": [
      "[16, 90]\n"
     ]
    }
   ],
   "source": [
    "print(square) # thats why answer is [64,90,9,89,90] 6 is not included in list"
   ]
  },
  {
   "cell_type": "code",
   "execution_count": null,
   "id": "27f772ec",
   "metadata": {},
   "outputs": [],
   "source": []
  },
  {
   "cell_type": "code",
   "execution_count": 35,
   "id": "ba738264",
   "metadata": {},
   "outputs": [],
   "source": [
    "square.append(10)"
   ]
  },
  {
   "cell_type": "code",
   "execution_count": 36,
   "id": "1197d74b",
   "metadata": {},
   "outputs": [
    {
     "name": "stdout",
     "output_type": "stream",
     "text": [
      "[64, 90, 9, 89, 78, 10]\n"
     ]
    }
   ],
   "source": [
    "print(square)"
   ]
  },
  {
   "cell_type": "code",
   "execution_count": null,
   "id": "008638b2",
   "metadata": {},
   "outputs": [],
   "source": []
  },
  {
   "cell_type": "code",
   "execution_count": 34,
   "id": "8eac37c7",
   "metadata": {},
   "outputs": [
    {
     "name": "stdout",
     "output_type": "stream",
     "text": [
      "square of 4 is None [16, 90, 9, 89, 78] [16, 90, 6] None [16, 90, 9, 89, 78] {67, 9, 78, 16, 89, 90} None [16, 90, 9, 89, 78]\n",
      "square of 5 is None [25, 90, 9, 89, 78] [25, 90, 6] None [25, 90, 9, 89, 78] {67, 9, 78, 89, 90, 25} None [25, 90, 9, 89, 78]\n",
      "square of 6 is None [36, 90, 9, 89, 78] [36, 90, 6] None [36, 90, 9, 89, 78] {67, 36, 9, 78, 89, 90} None [36, 90, 9, 89, 78]\n",
      "square of 7 is None [49, 90, 9, 89, 78] [49, 90, 6] None [49, 90, 9, 89, 78] {67, 9, 78, 49, 89, 90} None [49, 90, 9, 89, 78]\n",
      "square of 8 is None [64, 90, 9, 89, 78] [64, 90, 6] None [64, 90, 9, 89, 78] {64, 67, 9, 78, 89, 90} None [64, 90, 9, 89, 78]\n",
      "[64, 90, 9, 89, 78]\n"
     ]
    }
   ],
   "source": [
    "numbers=[1,2,3,4,5]\n",
    "for i in numbers:\n",
    "    i=i+3\n",
    "    square=[i**2]\n",
    "    print('square of', i, 'is',(square.append(90)),(square),(square+[6]),(square.extend([9,89,67,78])),(square),(set(square)),(square.remove(67)),(square))\n",
    "    for j in [square]:\n",
    "        if j==[16,90,9,89]:\n",
    "            print('lucky number')\n",
    "print(square)"
   ]
  },
  {
   "cell_type": "code",
   "execution_count": null,
   "id": "9dcacf02",
   "metadata": {},
   "outputs": [],
   "source": []
  },
  {
   "cell_type": "code",
   "execution_count": 80,
   "id": "4c010253",
   "metadata": {},
   "outputs": [
    {
     "name": "stdout",
     "output_type": "stream",
     "text": [
      "square of 4 is None [16, 90, 9, 89, 78] [16, 90, 6] None [16, 90, 9, 89, 78] {67, 9, 78, 16, 89, 90} None [16, 90, 9, 89, 78]\n",
      "square of 5 is None [25, 90, 9, 89, 78] [25, 90, 6] None [25, 90, 9, 89, 78] {67, 9, 78, 89, 90, 25} None [25, 90, 9, 89, 78]\n",
      "square of 6 is None [36, 90, 9, 89, 78] [36, 90, 6] None [36, 90, 9, 89, 78] {67, 36, 9, 78, 89, 90} None [36, 90, 9, 89, 78]\n",
      "square of 7 is None [49, 90, 9, 89, 78] [49, 90, 6] None [49, 90, 9, 89, 78] {67, 9, 78, 49, 89, 90} None [49, 90, 9, 89, 78]\n",
      "square of 8 is None [64, 90, 9, 89, 78] [64, 90, 6] None [64, 90, 9, 89, 78] {64, 67, 9, 78, 89, 90} None [64, 90, 9, 89, 78]\n"
     ]
    }
   ],
   "source": [
    "numbers=[1,2,3,4,5]\n",
    "for i in numbers:\n",
    "    i=i+3\n",
    "    square=[i**2]\n",
    "    print('square of', i, 'is',(square.append(90)),(square),(square+[6]),(square.extend([9,89,67,78])),(square),(set(square)),(square.remove(67)),(square))\n",
    "    "
   ]
  },
  {
   "cell_type": "code",
   "execution_count": null,
   "id": "7234cd9b",
   "metadata": {},
   "outputs": [],
   "source": []
  },
  {
   "cell_type": "code",
   "execution_count": 39,
   "id": "e911ac66",
   "metadata": {},
   "outputs": [
    {
     "name": "stdout",
     "output_type": "stream",
     "text": [
      "square of 4 is None\n",
      "[16, 90]\n",
      "[16, 90, 6]\n",
      "[16, 90]\n",
      "None\n",
      "[16, 90, 9, 89, 67, 78]\n",
      "{67, 9, 78, 16, 89, 90}\n",
      "None\n",
      "[16, 90, 9, 89, 78]\n",
      "square of 5 is None\n",
      "[25, 90]\n",
      "[25, 90, 6]\n",
      "[25, 90]\n",
      "None\n",
      "[25, 90, 9, 89, 67, 78]\n",
      "{67, 9, 78, 89, 90, 25}\n",
      "None\n",
      "[25, 90, 9, 89, 78]\n",
      "square of 6 is None\n",
      "[36, 90]\n",
      "[36, 90, 6]\n",
      "[36, 90]\n",
      "None\n",
      "[36, 90, 9, 89, 67, 78]\n",
      "{67, 36, 9, 78, 89, 90}\n",
      "None\n",
      "[36, 90, 9, 89, 78]\n",
      "square of 7 is None\n",
      "[49, 90]\n",
      "[49, 90, 6]\n",
      "[49, 90]\n",
      "None\n",
      "[49, 90, 9, 89, 67, 78]\n",
      "{67, 9, 78, 49, 89, 90}\n",
      "None\n",
      "[49, 90, 9, 89, 78]\n",
      "square of 8 is None\n",
      "[64, 90]\n",
      "[64, 90, 6]\n",
      "[64, 90]\n",
      "None\n",
      "[64, 90, 9, 89, 67, 78]\n",
      "{64, 67, 9, 78, 89, 90}\n",
      "None\n",
      "[64, 90, 9, 89, 78]\n",
      "[64, 90, 9, 89, 78]\n"
     ]
    }
   ],
   "source": [
    "numbers=[1,2,3,4,5]\n",
    "for i in numbers:\n",
    "    i=i+3\n",
    "    square=[i**2]\n",
    "    print('square of', i, 'is',square.append(90))\n",
    "    print(square)\n",
    "    print(square+[6])\n",
    "    print(square)\n",
    "    print(square.extend([9,89,67,78]))\n",
    "    print(square)\n",
    "    print(set(square))\n",
    "    print(square.remove(67))\n",
    "    print(square)\n",
    "    for j in [square]:\n",
    "        if j==[16,90,9,89]:\n",
    "            print('lucky number')\n",
    "print(square)"
   ]
  },
  {
   "cell_type": "code",
   "execution_count": null,
   "id": "2433a2e1",
   "metadata": {},
   "outputs": [],
   "source": []
  },
  {
   "cell_type": "code",
   "execution_count": 57,
   "id": "4fc439a4",
   "metadata": {},
   "outputs": [
    {
     "ename": "SyntaxError",
     "evalue": "expression cannot contain assignment, perhaps you meant \"==\"? (381596304.py, line 5)",
     "output_type": "error",
     "traceback": [
      "\u001b[1;36m  Cell \u001b[1;32mIn[57], line 5\u001b[1;36m\u001b[0m\n\u001b[1;33m    print('square of', i, 'is', square.append(90),square,square.extend([778,89,90]),square,square[3]=2345)\u001b[0m\n\u001b[1;37m                                                                                           ^\u001b[0m\n\u001b[1;31mSyntaxError\u001b[0m\u001b[1;31m:\u001b[0m expression cannot contain assignment, perhaps you meant \"==\"?\n"
     ]
    }
   ],
   "source": [
    "numbers=[1,2,3,4,5]\n",
    "for i in numbers:\n",
    "    i=i+3\n",
    "    square=[i**2]\n",
    "    print('square of', i, 'is', square.append(90),square,square.extend([778,89,90]),square,square[3]=2345)\n",
    "    for j in [square]:\n",
    "        if j==[16,90,9,89]:\n",
    "            print('lucky number')\n",
    "print(square)"
   ]
  },
  {
   "cell_type": "code",
   "execution_count": 55,
   "id": "fa0185d3",
   "metadata": {},
   "outputs": [],
   "source": [
    "square=[12,234,56,678]"
   ]
  },
  {
   "cell_type": "code",
   "execution_count": 56,
   "id": "42193829",
   "metadata": {},
   "outputs": [
    {
     "ename": "SyntaxError",
     "evalue": "expression cannot contain assignment, perhaps you meant \"==\"? (594790521.py, line 1)",
     "output_type": "error",
     "traceback": [
      "\u001b[1;36m  Cell \u001b[1;32mIn[56], line 1\u001b[1;36m\u001b[0m\n\u001b[1;33m    print(square[0]=6834756)\u001b[0m\n\u001b[1;37m          ^\u001b[0m\n\u001b[1;31mSyntaxError\u001b[0m\u001b[1;31m:\u001b[0m expression cannot contain assignment, perhaps you meant \"==\"?\n"
     ]
    }
   ],
   "source": [
    "print(square[0]=6834756)"
   ]
  },
  {
   "cell_type": "markdown",
   "id": "2eef7e4a",
   "metadata": {},
   "source": [
    "### single line print command and multiple line print command"
   ]
  },
  {
   "cell_type": "code",
   "execution_count": 74,
   "id": "fc148385",
   "metadata": {},
   "outputs": [
    {
     "name": "stdout",
     "output_type": "stream",
     "text": [
      "square of 4 is None [16, 90, 778, 89, 90] None [16, 90, 778, 89, 90] True\n",
      "square of 5 is None [25, 90, 778, 89, 90] None [25, 90, 778, 89, 90] False\n",
      "square of 6 is None [36, 90, 778, 89, 90] None [36, 90, 778, 89, 90] False\n",
      "square of 7 is None [49, 90, 778, 89, 90] None [49, 90, 778, 89, 90] False\n",
      "square of 8 is None [64, 90, 778, 89, 90] None [64, 90, 778, 89, 90] False\n",
      "[64, 90, 778, 89, 90]\n"
     ]
    }
   ],
   "source": [
    "umbers=[1,2,3,4,5]\n",
    "for i in numbers:\n",
    "    i=i+3\n",
    "    square=[i**2]\n",
    "    print('square of', i, 'is', square.append(90),square,square.extend([778,89,90]),square,square[0]==16)\n",
    "    for j in [square]:\n",
    "        if j==[16,90,9,89]:\n",
    "            print('lucky number')\n",
    "print(square)"
   ]
  },
  {
   "cell_type": "code",
   "execution_count": 54,
   "id": "bc1d9b3e",
   "metadata": {},
   "outputs": [
    {
     "name": "stdout",
     "output_type": "stream",
     "text": [
      "square of 4 is None\n",
      "[16, 90]\n",
      "None\n",
      "[16, 90, 778, 89, 90]\n",
      "True\n",
      "square of 5 is None\n",
      "[25, 90]\n",
      "None\n",
      "[25, 90, 778, 89, 90]\n",
      "False\n",
      "square of 6 is None\n",
      "[36, 90]\n",
      "None\n",
      "[36, 90, 778, 89, 90]\n",
      "False\n",
      "square of 7 is None\n",
      "[49, 90]\n",
      "None\n",
      "[49, 90, 778, 89, 90]\n",
      "False\n",
      "square of 8 is None\n",
      "[64, 90]\n",
      "None\n",
      "[64, 90, 778, 89, 90]\n",
      "False\n",
      "[64, 90, 778, 89, 90]\n"
     ]
    }
   ],
   "source": [
    "numbers=[1,2,3,4,5]\n",
    "for i in numbers:\n",
    "    i=i+3\n",
    "    square=[i**2]\n",
    "    print('square of', i, 'is', square.append(90))\n",
    "    print(square)\n",
    "    print(square.extend([778,89,90]))\n",
    "    print(square)\n",
    "    print(square[0]==16)\n",
    "    \n",
    "    for j in [square]:\n",
    "        if j==[16,90,9,89]:\n",
    "            print('lucky number')\n",
    "print(square)"
   ]
  },
  {
   "cell_type": "code",
   "execution_count": null,
   "id": "bb99c7a6",
   "metadata": {},
   "outputs": [],
   "source": []
  },
  {
   "cell_type": "code",
   "execution_count": 59,
   "id": "25031766",
   "metadata": {},
   "outputs": [
    {
     "name": "stdout",
     "output_type": "stream",
     "text": [
      "square of 4 is None [16, 90, 778, 89] None 70\n",
      "square of 5 is None [25, 90, 778, 89] None 70\n",
      "square of 6 is None [36, 90, 778, 89] None 70\n",
      "square of 7 is None [49, 90, 778, 89] None 70\n",
      "square of 8 is None [64, 90, 778, 89] None 70\n",
      "[64, 90, 778, 89]\n"
     ]
    }
   ],
   "source": [
    "numbers=[1,2,3,4,5]\n",
    "for i in numbers:\n",
    "    i=i+3\n",
    "    square=[i**2]\n",
    "    print('square of', i, 'is', square.append(90),square,square.extend([778,89,70]),square.pop())\n",
    "    for j in [square]:\n",
    "        if j==[16,90,9,89]:\n",
    "            print('lucky number')\n",
    "print(square)"
   ]
  },
  {
   "cell_type": "code",
   "execution_count": null,
   "id": "d3c689cf",
   "metadata": {},
   "outputs": [],
   "source": []
  },
  {
   "cell_type": "code",
   "execution_count": 60,
   "id": "35f23da4",
   "metadata": {},
   "outputs": [
    {
     "ename": "SyntaxError",
     "evalue": "invalid syntax (3420045842.py, line 5)",
     "output_type": "error",
     "traceback": [
      "\u001b[1;36m  Cell \u001b[1;32mIn[60], line 5\u001b[1;36m\u001b[0m\n\u001b[1;33m    print('square of', i, 'is', square.append(90),square,square.extend([778,89,70]),square.pop(),del square)\u001b[0m\n\u001b[1;37m                                                                                                 ^\u001b[0m\n\u001b[1;31mSyntaxError\u001b[0m\u001b[1;31m:\u001b[0m invalid syntax\n"
     ]
    }
   ],
   "source": [
    "numbers=[1,2,3,4,5]\n",
    "for i in numbers:\n",
    "    i=i+3\n",
    "    square=[i**2]\n",
    "    print('square of', i, 'is', square.append(90),square,square.extend([778,89,70]),square.pop(),del square)\n",
    "    for j in [square]:\n",
    "        if j==[16,90,9,89]:\n",
    "            print('lucky number')\n",
    "print(square)"
   ]
  },
  {
   "cell_type": "code",
   "execution_count": null,
   "id": "7555ab24",
   "metadata": {},
   "outputs": [],
   "source": []
  },
  {
   "cell_type": "markdown",
   "id": "fa594e36",
   "metadata": {},
   "source": [
    "### experiment with set by foe loop"
   ]
  },
  {
   "cell_type": "code",
   "execution_count": 10,
   "id": "1f818f35",
   "metadata": {},
   "outputs": [
    {
     "name": "stdout",
     "output_type": "stream",
     "text": [
      "square of 4 is None {70, 12, 16, 90} None {70, 12, 16, 90} None {70, 12, 16, 90}\n",
      "lucky number\n",
      "square of 5 is None {70, 12, 25, 90} None {70, 12, 25, 90} None {70, 12, 25, 90}\n",
      "square of 6 is None {36, 70, 12, 90} None {36, 70, 12, 90} None {36, 70, 12, 90}\n",
      "square of 7 is None {70, 12, 49, 90} None {70, 12, 49, 90} None {70, 12, 49, 90}\n",
      "square of 8 is None {64, 70, 12, 90} None {64, 70, 12, 90} None {64, 70, 12, 90}\n"
     ]
    }
   ],
   "source": [
    "number={1,2,3,4,5}\n",
    "for i in number:\n",
    "    i=i+3\n",
    "    square={i**2}\n",
    "    print('square of', i, 'is' ,square.add(12),square,square.update([90,80,70]),square,square.remove(80),square,)\n",
    "    for j in square:\n",
    "        if j==16:\n",
    "            print('lucky number')"
   ]
  },
  {
   "cell_type": "code",
   "execution_count": null,
   "id": "7aae94a8",
   "metadata": {},
   "outputs": [],
   "source": []
  },
  {
   "cell_type": "markdown",
   "id": "bac22197",
   "metadata": {},
   "source": [
    "### experiment with tuple by for loop"
   ]
  },
  {
   "cell_type": "code",
   "execution_count": 8,
   "id": "979ac551",
   "metadata": {},
   "outputs": [
    {
     "name": "stdout",
     "output_type": "stream",
     "text": [
      "1,2,3,4,5,"
     ]
    }
   ],
   "source": [
    "tup=(1,2,3,4,5)\n",
    "for i in tup:\n",
    "    print(i, end=',')\n",
    "    "
   ]
  },
  {
   "cell_type": "code",
   "execution_count": null,
   "id": "49c4b5a9",
   "metadata": {},
   "outputs": [],
   "source": []
  },
  {
   "cell_type": "code",
   "execution_count": null,
   "id": "ea086900",
   "metadata": {},
   "outputs": [],
   "source": []
  },
  {
   "cell_type": "markdown",
   "id": "4b119f27",
   "metadata": {},
   "source": [
    "## FOR LOOP WITH RANGE"
   ]
  },
  {
   "cell_type": "code",
   "execution_count": 5,
   "id": "d06e593c",
   "metadata": {},
   "outputs": [
    {
     "name": "stdout",
     "output_type": "stream",
     "text": [
      "10\n",
      "20\n",
      "30\n",
      "40\n",
      "50\n",
      "60\n",
      "70\n",
      "80\n",
      "90\n"
     ]
    }
   ],
   "source": [
    "for i in range(10,100,10):\n",
    "        print(i)"
   ]
  },
  {
   "cell_type": "markdown",
   "id": "7315831a",
   "metadata": {},
   "source": [
    "## ATM"
   ]
  },
  {
   "cell_type": "code",
   "execution_count": 4,
   "id": "33b52c81",
   "metadata": {},
   "outputs": [
    {
     "name": "stdout",
     "output_type": "stream",
     "text": [
      "card no2\n",
      "card not accepted\n"
     ]
    }
   ],
   "source": [
    "card_no=int(input('card no'))\n",
    "if card_no==:\n",
    "    print('card accepted')\n",
    "    \n",
    "else:\n",
    "     print('card not accepted')\n"
   ]
  },
  {
   "cell_type": "code",
   "execution_count": null,
   "id": "3542c3a7",
   "metadata": {},
   "outputs": [],
   "source": []
  },
  {
   "cell_type": "code",
   "execution_count": null,
   "id": "1ad7c140",
   "metadata": {},
   "outputs": [],
   "source": []
  },
  {
   "cell_type": "code",
   "execution_count": 3,
   "id": "abc82086",
   "metadata": {},
   "outputs": [],
   "source": [
    "card_no=range(0,20,1)"
   ]
  },
  {
   "cell_type": "code",
   "execution_count": 4,
   "id": "53ffbe9e",
   "metadata": {},
   "outputs": [
    {
     "name": "stdout",
     "output_type": "stream",
     "text": [
      "range(0, 20)\n"
     ]
    }
   ],
   "source": [
    "print(card_no)"
   ]
  },
  {
   "cell_type": "code",
   "execution_count": 19,
   "id": "9539e6d5",
   "metadata": {},
   "outputs": [
    {
     "name": "stdout",
     "output_type": "stream",
     "text": [
      "range(0, 100)\n"
     ]
    }
   ],
   "source": [
    "print(range(100))"
   ]
  },
  {
   "cell_type": "code",
   "execution_count": 21,
   "id": "99541a0a",
   "metadata": {},
   "outputs": [],
   "source": [
    "i=range(100)"
   ]
  },
  {
   "cell_type": "code",
   "execution_count": 22,
   "id": "d0d64687",
   "metadata": {},
   "outputs": [
    {
     "name": "stdout",
     "output_type": "stream",
     "text": [
      "range(0, 100)\n"
     ]
    }
   ],
   "source": [
    "print(i)"
   ]
  },
  {
   "cell_type": "markdown",
   "id": "4fcf56f1",
   "metadata": {},
   "source": [
    "## print all even and odd numbers\n"
   ]
  },
  {
   "cell_type": "code",
   "execution_count": null,
   "id": "085e7aa6",
   "metadata": {},
   "outputs": [],
   "source": []
  },
  {
   "cell_type": "markdown",
   "id": "586ade3f",
   "metadata": {},
   "source": [
    "# Break for loop"
   ]
  },
  {
   "cell_type": "code",
   "execution_count": 5,
   "id": "62a155af",
   "metadata": {},
   "outputs": [
    {
     "name": "stdout",
     "output_type": "stream",
     "text": [
      "0,1,2,3,4,5,6,7,8,9,10,11,12,13,14,15,16,"
     ]
    }
   ],
   "source": [
    "for i in range(30):\n",
    "    print(i,end=',')\n",
    "    if i>15:\n",
    "        break"
   ]
  },
  {
   "cell_type": "code",
   "execution_count": 6,
   "id": "05fffc01",
   "metadata": {},
   "outputs": [
    {
     "name": "stdout",
     "output_type": "stream",
     "text": [
      "0,1,2,3,4,5,6,7,8,9,10,11,12,13,14,15,16,17,18,19,20,21,22,23,24,25,26,27,28,29,"
     ]
    }
   ],
   "source": [
    "for i in range(30):\n",
    "    print(i,end=',')"
   ]
  },
  {
   "cell_type": "code",
   "execution_count": null,
   "id": "8af8783c",
   "metadata": {},
   "outputs": [],
   "source": []
  },
  {
   "cell_type": "code",
   "execution_count": 9,
   "id": "2173334b",
   "metadata": {},
   "outputs": [
    {
     "name": "stdout",
     "output_type": "stream",
     "text": [
      "17\n"
     ]
    }
   ],
   "source": [
    "number=[1,4,7,8,15,17,20,9,3,45,55]\n",
    "for i in number:\n",
    "    if i>15:\n",
    "        print(i)\n",
    "        break"
   ]
  },
  {
   "cell_type": "code",
   "execution_count": 10,
   "id": "b193db73",
   "metadata": {},
   "outputs": [
    {
     "name": "stdout",
     "output_type": "stream",
     "text": [
      "1\n",
      "4\n",
      "7\n",
      "8\n",
      "15\n"
     ]
    }
   ],
   "source": [
    "number=[1,4,7,8,15,17,20,9,3,45,55]\n",
    "for i in number:\n",
    "    if i>15: # as soon as given condition satisfied loop stops working\n",
    "        break # break the loop\n",
    "    else:\n",
    "        print(i)"
   ]
  },
  {
   "cell_type": "code",
   "execution_count": 11,
   "id": "8b72c2af",
   "metadata": {},
   "outputs": [
    {
     "name": "stdout",
     "output_type": "stream",
     "text": [
      "1\n",
      "4\n",
      "7\n",
      "8\n",
      "15\n",
      "17\n"
     ]
    }
   ],
   "source": [
    "number=[1,4,7,8,15,17,20,9,3,45,55]\n",
    "for i in number:\n",
    "    if i>15:\n",
    "        print(i)\n",
    "        break\n",
    "    else:\n",
    "        print(i)"
   ]
  },
  {
   "cell_type": "code",
   "execution_count": null,
   "id": "52a6e54c",
   "metadata": {},
   "outputs": [],
   "source": []
  },
  {
   "cell_type": "markdown",
   "id": "759c821f",
   "metadata": {},
   "source": [
    "# continue statement in for loop\n",
    "\n",
    "The continue statement skips the current iteration of a loop and immediately jumps to the next iteration \n",
    "\n",
    "Use the continue statement when you want to jump to the next iteration of the loop immediately"
   ]
  },
  {
   "cell_type": "code",
   "execution_count": null,
   "id": "ecc7e679",
   "metadata": {},
   "outputs": [],
   "source": []
  },
  {
   "cell_type": "markdown",
   "id": "c45b9567",
   "metadata": {},
   "source": [
    "### Example:count the total no. to 'm'"
   ]
  },
  {
   "cell_type": "code",
   "execution_count": 15,
   "id": "67cc9efb",
   "metadata": {},
   "outputs": [
    {
     "data": {
      "text/plain": [
       "3"
      ]
     },
     "execution_count": 15,
     "metadata": {},
     "output_type": "execute_result"
    }
   ],
   "source": [
    "alpha=['m', 'c,d', 'r', 'm', 'c', 'm']\n",
    "alpha.count('m')"
   ]
  },
  {
   "cell_type": "code",
   "execution_count": null,
   "id": "968c039a",
   "metadata": {},
   "outputs": [],
   "source": [
    "# skipping specific items in a loop\n",
    "item in items:\n",
    "    if condition(item):\n",
    "        continue  # skip this item and move to the next one"
   ]
  },
  {
   "cell_type": "code",
   "execution_count": 16,
   "id": "45f2aa90",
   "metadata": {},
   "outputs": [
    {
     "name": "stdout",
     "output_type": "stream",
     "text": [
      "Total number of m is 1\n",
      "Total number of m is 2\n"
     ]
    }
   ],
   "source": [
    "name='mariya mennen'\n",
    "count=0\n",
    "for i in name:\n",
    "    if i!='m':\n",
    "        continue  # if you do not want to print this condition then write continue in place of print\n",
    "    else:\n",
    "        count=count+1\n",
    "        print('Total number of m is',count)\n",
    "        "
   ]
  },
  {
   "cell_type": "code",
   "execution_count": 17,
   "id": "d0009f9e",
   "metadata": {},
   "outputs": [
    {
     "name": "stdout",
     "output_type": "stream",
     "text": [
      "Total number of m is 2\n"
     ]
    }
   ],
   "source": [
    "name='mariya mennen'\n",
    "count=0\n",
    "for i in name:\n",
    "    if i!='m':\n",
    "        continue\n",
    "    else:\n",
    "        count=count+1\n",
    "print('Total number of m is',count)\n",
    "        "
   ]
  },
  {
   "cell_type": "code",
   "execution_count": 18,
   "id": "3bd232f9",
   "metadata": {},
   "outputs": [
    {
     "name": "stdout",
     "output_type": "stream",
     "text": [
      "a\n",
      "r\n",
      "i\n",
      "y\n",
      "a\n",
      " \n",
      "e\n",
      "n\n",
      "n\n",
      "e\n",
      "n\n",
      "Total number of m is 2\n"
     ]
    }
   ],
   "source": [
    "name='mariya mennen'\n",
    "count=0\n",
    "for i in name:\n",
    "    if i!='m':\n",
    "        print(i)\n",
    "        continue\n",
    "    else:\n",
    "        count=count+1\n",
    "print('Total number of m is',count)\n",
    "        "
   ]
  },
  {
   "cell_type": "code",
   "execution_count": 19,
   "id": "aeece2f0",
   "metadata": {},
   "outputs": [
    {
     "name": "stdout",
     "output_type": "stream",
     "text": [
      "\n",
      "\n",
      "\n",
      "\n",
      "\n",
      "\n",
      "\n",
      "\n",
      "\n",
      "\n",
      "\n",
      "Total number of m is 2\n"
     ]
    }
   ],
   "source": [
    "name='mariya mennen'\n",
    "count=0\n",
    "for i in name:\n",
    "    if i!='m':\n",
    "        print()\n",
    "        continue\n",
    "    else:\n",
    "        count=count+1\n",
    "print('Total number of m is',count)"
   ]
  },
  {
   "cell_type": "code",
   "execution_count": null,
   "id": "57c753a0",
   "metadata": {},
   "outputs": [],
   "source": []
  },
  {
   "cell_type": "code",
   "execution_count": 23,
   "id": "8ab6b67d",
   "metadata": {},
   "outputs": [
    {
     "name": "stdout",
     "output_type": "stream",
     "text": [
      "1\n",
      "3\n",
      "5\n",
      "7\n",
      "9\n"
     ]
    }
   ],
   "source": [
    "for i in range(11):\n",
    "    if i%2==0:  # skippinf the even number\n",
    "        continue \n",
    "    else:\n",
    "        print(i)"
   ]
  },
  {
   "cell_type": "code",
   "execution_count": 24,
   "id": "ccd62633",
   "metadata": {},
   "outputs": [
    {
     "name": "stdout",
     "output_type": "stream",
     "text": [
      "\n",
      "1\n",
      "\n",
      "3\n",
      "\n",
      "5\n",
      "\n",
      "7\n",
      "\n",
      "9\n",
      "\n"
     ]
    }
   ],
   "source": [
    "for i in range(11):\n",
    "    if i%2==0:\n",
    "        print()\n",
    "    else:\n",
    "        print(i)"
   ]
  },
  {
   "cell_type": "code",
   "execution_count": 25,
   "id": "5f5f41f7",
   "metadata": {
    "scrolled": true
   },
   "outputs": [
    {
     "name": "stdout",
     "output_type": "stream",
     "text": [
      "0\n",
      "2\n",
      "4\n",
      "6\n",
      "8\n",
      "10\n"
     ]
    }
   ],
   "source": [
    "for i in range(11):\n",
    "    if i%2==1:\n",
    "        continue\n",
    "    else:\n",
    "        print(i) "
   ]
  },
  {
   "cell_type": "code",
   "execution_count": 26,
   "id": "73392bdf",
   "metadata": {},
   "outputs": [
    {
     "data": {
      "text/plain": [
       "0"
      ]
     },
     "execution_count": 26,
     "metadata": {},
     "output_type": "execute_result"
    }
   ],
   "source": [
    "0%2"
   ]
  },
  {
   "cell_type": "markdown",
   "id": "3be99c93",
   "metadata": {},
   "source": [
    "## Pass Statement in for loop\n",
    " The pass statement is a null statement, i.e; nothing happens when he statement is execute.Primmarily it is used in empty function or classes. When the interpreter finds a pass statement in the programe it returns no operation"
   ]
  },
  {
   "cell_type": "code",
   "execution_count": 3,
   "id": "2a468555",
   "metadata": {},
   "outputs": [
    {
     "name": "stdout",
     "output_type": "stream",
     "text": [
      "1\n",
      "4\n",
      "7\n",
      "8\n",
      "15\n",
      "9\n",
      "3\n"
     ]
    }
   ],
   "source": [
    "number=[1,4,7,8,15,17,20,9,3,45,55]\n",
    "for i in number:\n",
    "    if i>15:\n",
    "        pass\n",
    "    else:\n",
    "        print(i)"
   ]
  },
  {
   "cell_type": "code",
   "execution_count": 1,
   "id": "3558d1ea",
   "metadata": {},
   "outputs": [],
   "source": [
    "for i in range(11):\n",
    "    if i%2==0:\n",
    "        pass\n",
    "    "
   ]
  },
  {
   "cell_type": "code",
   "execution_count": 6,
   "id": "81c6f0e3",
   "metadata": {},
   "outputs": [
    {
     "ename": "SyntaxError",
     "evalue": "incomplete input (4028463893.py, line 2)",
     "output_type": "error",
     "traceback": [
      "\u001b[1;36m  Cell \u001b[1;32mIn[6], line 2\u001b[1;36m\u001b[0m\n\u001b[1;33m    if i%2==0:\u001b[0m\n\u001b[1;37m              ^\u001b[0m\n\u001b[1;31mSyntaxError\u001b[0m\u001b[1;31m:\u001b[0m incomplete input\n"
     ]
    }
   ],
   "source": [
    "for i in range(11):\n",
    "    if i%2==0:"
   ]
  },
  {
   "cell_type": "markdown",
   "id": "7fb367e4",
   "metadata": {},
   "source": [
    "## Reverse for loop"
   ]
  },
  {
   "cell_type": "code",
   "execution_count": null,
   "id": "95e205ce",
   "metadata": {},
   "outputs": [],
   "source": []
  },
  {
   "cell_type": "code",
   "execution_count": null,
   "id": "833fd778",
   "metadata": {},
   "outputs": [],
   "source": []
  },
  {
   "cell_type": "code",
   "execution_count": null,
   "id": "c1389406",
   "metadata": {},
   "outputs": [],
   "source": []
  },
  {
   "cell_type": "code",
   "execution_count": 1,
   "id": "9309b42f",
   "metadata": {},
   "outputs": [
    {
     "name": "stdout",
     "output_type": "stream",
     "text": [
      "\n",
      "*\n",
      "**\n",
      "***\n",
      "****\n"
     ]
    }
   ],
   "source": [
    "for i in range(5):\n",
    "    print(i*'*')"
   ]
  },
  {
   "cell_type": "code",
   "execution_count": 9,
   "id": "2854a928",
   "metadata": {},
   "outputs": [
    {
     "name": "stdout",
     "output_type": "stream",
     "text": [
      "*****\n",
      "****\n",
      "***\n",
      "**\n",
      "*\n"
     ]
    }
   ],
   "source": [
    "for i in range(5,0,-1):\n",
    "    print(i*'*')"
   ]
  },
  {
   "cell_type": "code",
   "execution_count": null,
   "id": "714e0ff0",
   "metadata": {},
   "outputs": [],
   "source": []
  }
 ],
 "metadata": {
  "kernelspec": {
   "display_name": "Python 3 (ipykernel)",
   "language": "python",
   "name": "python3"
  },
  "language_info": {
   "codemirror_mode": {
    "name": "ipython",
    "version": 3
   },
   "file_extension": ".py",
   "mimetype": "text/x-python",
   "name": "python",
   "nbconvert_exporter": "python",
   "pygments_lexer": "ipython3",
   "version": "3.11.3"
  }
 },
 "nbformat": 4,
 "nbformat_minor": 5
}
