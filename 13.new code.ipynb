{
 "cells": [
  {
   "cell_type": "markdown",
   "id": "aa1e21f9",
   "metadata": {},
   "source": [
    "# odd even code\n"
   ]
  },
  {
   "cell_type": "code",
   "execution_count": 1,
   "id": "4748bfdd",
   "metadata": {},
   "outputs": [
    {
     "name": "stdout",
     "output_type": "stream",
     "text": [
      "setting of odd,even\n",
      "number12\n",
      "even\n"
     ]
    }
   ],
   "source": [
    "print('setting of odd,even')\n",
    "number=int(input('number'))\n",
    "if number%2==0:\n",
    "    print('even')\n",
    "else:\n",
    "    print('odd')"
   ]
  },
  {
   "cell_type": "code",
   "execution_count": null,
   "id": "7086aae5",
   "metadata": {},
   "outputs": [],
   "source": []
  },
  {
   "cell_type": "markdown",
   "id": "e609e751",
   "metadata": {},
   "source": [
    "# digit to number\n"
   ]
  },
  {
   "cell_type": "code",
   "execution_count": null,
   "id": "d67011d0",
   "metadata": {},
   "outputs": [],
   "source": [
    "umber=input('number')\n",
    "for i in number:\n",
    "    if i=='1':\n",
    "        print('one',end=',')\n",
    "    if i=='2':\n",
    "        print('two',end=',')\n",
    "    if i=='3':\n",
    "        print('three',end=',')\n",
    "    if i=='4':\n",
    "        print('four',end=',')\n",
    "    if i=='5':\n",
    "        print('five',end=',')\n",
    "    if i=='6':\n",
    "        print('six',end=',')\n",
    "    if i==7:\n",
    "        print('seven',end=',')\n",
    "    if i==8:\n",
    "        print('eight',end=',')\n",
    "    if i==9:\n",
    "        print('nine',end=',')\n",
    "    if i==0:\n",
    "        print('zero',end=',')\n",
    "      "
   ]
  },
  {
   "cell_type": "code",
   "execution_count": null,
   "id": "ef820196",
   "metadata": {},
   "outputs": [],
   "source": []
  },
  {
   "cell_type": "code",
   "execution_count": 17,
   "id": "9ae8fbfe",
   "metadata": {},
   "outputs": [
    {
     "name": "stdout",
     "output_type": "stream",
     "text": [
      "number67987098\n",
      "six,seven,nine,eight,seven,zero,nine,eight,"
     ]
    }
   ],
   "source": [
    "number=input('number')\n",
    "for i in number:\n",
    "    if i=='1':\n",
    "        print('one',end=',')\n",
    "    if i=='2':\n",
    "        print('two',end=',')\n",
    "    if i=='3':\n",
    "        print('three',end=',')\n",
    "    if i=='4':\n",
    "        print('four',end=',')\n",
    "    if i=='5':\n",
    "        print('five',end=',')\n",
    "    if i=='6':\n",
    "        print('six',end=',')\n",
    "    if i=='7':\n",
    "        print('seven',end=',')\n",
    "    if i=='8':\n",
    "        print('eight',end=',')\n",
    "    if i=='9':\n",
    "        print('nine',end=',')\n",
    "    if i=='0':\n",
    "        print('zero',end=',')"
   ]
  },
  {
   "cell_type": "code",
   "execution_count": null,
   "id": "29b7b030",
   "metadata": {},
   "outputs": [],
   "source": []
  },
  {
   "cell_type": "code",
   "execution_count": null,
   "id": "02dd3068",
   "metadata": {},
   "outputs": [],
   "source": []
  },
  {
   "cell_type": "code",
   "execution_count": null,
   "id": "084bbb8f",
   "metadata": {},
   "outputs": [],
   "source": []
  },
  {
   "cell_type": "markdown",
   "id": "e9ceb746",
   "metadata": {},
   "source": [
    "# Atm code"
   ]
  },
  {
   "cell_type": "code",
   "execution_count": 1,
   "id": "49f6a181",
   "metadata": {},
   "outputs": [
    {
     "name": "stdout",
     "output_type": "stream",
     "text": [
      "card number10\n",
      "card rejected\n"
     ]
    }
   ],
   "source": [
    "card_no=int(input('card number'))\n",
    "c_no=[]\n",
    "for i in [card_no]:\n",
    "    if 10<i<40:\n",
    "        c_no.append(card_no)\n",
    "        print('card accepted')\n",
    "    else:\n",
    "        print('card rejected')\n",
    "    for j in c_no:\n",
    "        if 10<i<40:\n",
    "            print(int(input('enter pin no.')))\n"
   ]
  },
  {
   "cell_type": "code",
   "execution_count": 10,
   "id": "82bca6ce",
   "metadata": {},
   "outputs": [
    {
     "name": "stdout",
     "output_type": "stream",
     "text": [
      "card number12\n",
      "card accepted\n",
      "card rejected\n"
     ]
    }
   ],
   "source": [
    "card_no=int(input('card number'))\n",
    "c_no=[]\n",
    "for i in [card_no]:\n",
    "    if 10<i<40:\n",
    "        c_no.append(card_no)\n",
    "        print('card accepted')\n",
    "else:\n",
    "    print('card rejected')\n",
    "    "
   ]
  },
  {
   "cell_type": "code",
   "execution_count": 24,
   "id": "95fb3c17",
   "metadata": {},
   "outputs": [
    {
     "name": "stdout",
     "output_type": "stream",
     "text": [
      "card number12\n",
      "card rejected\n"
     ]
    }
   ],
   "source": [
    "card_no=int(input('card number'))\n",
    "c_no=[]\n",
    "for i in [card_no]:\n",
    "    if 10<i<40:\n",
    "        c_no.append(card_no)\n",
    "        for j in c_no:\n",
    "            if j==[0][0]:\n",
    "                print('card accepted')\n",
    "else:\n",
    "    print('card rejected')"
   ]
  },
  {
   "cell_type": "code",
   "execution_count": null,
   "id": "17c651e8",
   "metadata": {},
   "outputs": [],
   "source": []
  },
  {
   "cell_type": "code",
   "execution_count": 34,
   "id": "1fa74dfd",
   "metadata": {},
   "outputs": [
    {
     "name": "stdout",
     "output_type": "stream",
     "text": [
      "card number21\n",
      "card rejected\n"
     ]
    }
   ],
   "source": [
    "card_no=int(input('card number'))\n",
    "c_no=[]\n",
    "for i in [card_no]:\n",
    "    if 10<i<40:\n",
    "        c_no.append(card_no)\n",
    "        for j in c_no:\n",
    "            if j==12:\n",
    "                print(j)\n",
    "                print('card accepted')\n",
    "else:\n",
    "    print('card rejected')"
   ]
  },
  {
   "cell_type": "code",
   "execution_count": 35,
   "id": "067bbb87",
   "metadata": {},
   "outputs": [
    {
     "name": "stdout",
     "output_type": "stream",
     "text": [
      "card no12\n",
      "12\n"
     ]
    }
   ],
   "source": [
    "print(int(input('card no')))"
   ]
  },
  {
   "cell_type": "code",
   "execution_count": 24,
   "id": "24b76a9b",
   "metadata": {},
   "outputs": [
    {
     "name": "stdout",
     "output_type": "stream",
     "text": [
      "card number12\n",
      "range(0, 40)\n",
      "card rejected\n"
     ]
    }
   ],
   "source": [
    "card_no=int(input('card number'))\n",
    "c_no=range(40)\n",
    "list(c_no)\n",
    "for i in [card_no]:\n",
    "    if i==[c_no]:\n",
    "        print('card accepted')\n",
    "        print(c_no)\n",
    "else:\n",
    "    print('card rejected')"
   ]
  },
  {
   "cell_type": "code",
   "execution_count": null,
   "id": "d8e60962",
   "metadata": {},
   "outputs": [],
   "source": []
  },
  {
   "cell_type": "code",
   "execution_count": 25,
   "id": "0d8a2f26",
   "metadata": {},
   "outputs": [
    {
     "data": {
      "text/plain": [
       "[0, 1, 2, 3, 4, 5, 6, 7, 8, 9]"
      ]
     },
     "execution_count": 25,
     "metadata": {},
     "output_type": "execute_result"
    }
   ],
   "source": [
    "r=range(0,10,1)\n",
    "list(r)"
   ]
  },
  {
   "cell_type": "code",
   "execution_count": 26,
   "id": "ce4d9d2d",
   "metadata": {},
   "outputs": [
    {
     "name": "stdout",
     "output_type": "stream",
     "text": [
      "range(0, 10)\n"
     ]
    }
   ],
   "source": [
    "print(r)"
   ]
  },
  {
   "cell_type": "code",
   "execution_count": 18,
   "id": "e7421536",
   "metadata": {},
   "outputs": [
    {
     "name": "stdout",
     "output_type": "stream",
     "text": [
      "enter card no21\n",
      "card accepted\n",
      "card rejected\n"
     ]
    }
   ],
   "source": [
    "card_no=int(input('enter card no'))\n",
    "c_no={0}\n",
    "for i in [card_no]:\n",
    "    if i<40:\n",
    "        c_no.add(card_no)\n",
    "        print('card accepted')\n",
    "else:\n",
    "    print('card rejected')\n",
    "    "
   ]
  },
  {
   "cell_type": "code",
   "execution_count": 12,
   "id": "2fce0774",
   "metadata": {},
   "outputs": [],
   "source": [
    "c={1}"
   ]
  },
  {
   "cell_type": "code",
   "execution_count": 13,
   "id": "0b0d3a2a",
   "metadata": {},
   "outputs": [],
   "source": [
    "x=14"
   ]
  },
  {
   "cell_type": "code",
   "execution_count": 14,
   "id": "926d4cfe",
   "metadata": {},
   "outputs": [],
   "source": [
    "c.add(x)"
   ]
  },
  {
   "cell_type": "code",
   "execution_count": 15,
   "id": "9448370c",
   "metadata": {},
   "outputs": [
    {
     "name": "stdout",
     "output_type": "stream",
     "text": [
      "{1, 14}\n"
     ]
    }
   ],
   "source": [
    "print(c)"
   ]
  },
  {
   "cell_type": "code",
   "execution_count": 1,
   "id": "575dcbd6",
   "metadata": {},
   "outputs": [
    {
     "name": "stdout",
     "output_type": "stream",
     "text": [
      "card number12\n",
      "card accepted\n",
      "enter pin no.2345\n",
      "correct password\n"
     ]
    }
   ],
   "source": [
    "card_no=int(input('card number'))\n",
    "c_no=[]\n",
    "for i in [card_no]:\n",
    "    if 10<i<40:\n",
    "        c_no.append(card_no)\n",
    "        print('card accepted')\n",
    "    else:\n",
    "        print('card rejected')\n",
    "    for j in c_no:\n",
    "        if 10<j<40:\n",
    "            pin=input('enter pin no.')\n",
    "            if len(pin)<=4:\n",
    "                print('correct password')\n",
    "            else:\n",
    "                print('please enter coreect pin')"
   ]
  },
  {
   "cell_type": "code",
   "execution_count": 26,
   "id": "7835e03b",
   "metadata": {},
   "outputs": [
    {
     "name": "stdout",
     "output_type": "stream",
     "text": [
      "first digit1\n",
      "1\n",
      "second digit2\n",
      "2\n",
      "third digit3\n",
      "3\n",
      "fourth digit4\n",
      "4\n",
      "correct password\n"
     ]
    }
   ],
   "source": [
    "pin=[print(int(input('first digit'))),print(int(input('second digit'))),print(int(input('third digit'))),print(int(input('fourth digit')))]\n",
    "for k in [pin]:\n",
    "    if len(pin)>=4:\n",
    "        print('correct password')\n",
    "    else:\n",
    "        print('vyt')\n",
    "         \n",
    "         "
   ]
  },
  {
   "cell_type": "code",
   "execution_count": 5,
   "id": "4d18b05b",
   "metadata": {},
   "outputs": [
    {
     "name": "stdout",
     "output_type": "stream",
     "text": [
      "xyt1224\n",
      "1224\n"
     ]
    },
    {
     "data": {
      "text/plain": [
       "1"
      ]
     },
     "execution_count": 5,
     "metadata": {},
     "output_type": "execute_result"
    }
   ],
   "source": [
    "pin=[print(int(input('xyt')))]\n",
    "type(pin)\n",
    "len(pin)"
   ]
  },
  {
   "cell_type": "code",
   "execution_count": 2,
   "id": "6c59dd0e",
   "metadata": {},
   "outputs": [
    {
     "data": {
      "text/plain": [
       "list"
      ]
     },
     "execution_count": 2,
     "metadata": {},
     "output_type": "execute_result"
    }
   ],
   "source": [
    "type(pin)"
   ]
  },
  {
   "cell_type": "code",
   "execution_count": 13,
   "id": "4b77adc0",
   "metadata": {},
   "outputs": [],
   "source": [
    "pin=[1237,398,387463]"
   ]
  },
  {
   "cell_type": "code",
   "execution_count": 15,
   "id": "9bb67cff",
   "metadata": {},
   "outputs": [
    {
     "data": {
      "text/plain": [
       "0"
      ]
     },
     "execution_count": 15,
     "metadata": {},
     "output_type": "execute_result"
    }
   ],
   "source": [
    "pin.count(1)"
   ]
  },
  {
   "cell_type": "code",
   "execution_count": 22,
   "id": "f17e30a5",
   "metadata": {},
   "outputs": [
    {
     "name": "stdout",
     "output_type": "stream",
     "text": [
      "first digit1\n",
      "1\n",
      "second digit2\n",
      "2\n",
      "third digit3\n",
      "3\n",
      "fourth digit4\n",
      "4\n",
      "<class 'list'>\n"
     ]
    },
    {
     "data": {
      "text/plain": [
       "4"
      ]
     },
     "execution_count": 22,
     "metadata": {},
     "output_type": "execute_result"
    }
   ],
   "source": [
    "pin=[print(int(input('first digit'))),print(int(input('second digit'))),print(int(input('third digit'))),print(int(input('fourth digit')))]\n",
    "print(type(pin))\n",
    "len(pin)"
   ]
  },
  {
   "cell_type": "code",
   "execution_count": 23,
   "id": "0d05b9bf",
   "metadata": {},
   "outputs": [
    {
     "name": "stdout",
     "output_type": "stream",
     "text": [
      "[None, None, None, None]\n"
     ]
    }
   ],
   "source": [
    "print(pin)"
   ]
  },
  {
   "cell_type": "code",
   "execution_count": null,
   "id": "7fdf1efa",
   "metadata": {},
   "outputs": [],
   "source": [
    "pin=[print(int(input('enter pin no.')))]\n",
    "for k in [pin:\n",
    "    if len(k)<=4:\n",
    "        print('correct password')\n",
    "    else:\n",
    "         print('please enter coreect card number')\n"
   ]
  },
  {
   "cell_type": "code",
   "execution_count": 28,
   "id": "bddfc7d0",
   "metadata": {},
   "outputs": [
    {
     "name": "stdout",
     "output_type": "stream",
     "text": [
      "enter your pin1234\n",
      "welcome\n"
     ]
    }
   ],
   "source": [
    "y=input('enter your pin')\n",
    "if len(y)<=4:\n",
    "    print('welcome')\n",
    "else:\n",
    "    print('get lost')"
   ]
  },
  {
   "cell_type": "code",
   "execution_count": null,
   "id": "cd973aee",
   "metadata": {},
   "outputs": [],
   "source": [
    "card_no=int(input('card number'))\n",
    "c_no=[]\n",
    "for i in [card_no]:\n",
    "    if 10<i<40:\n",
    "        c_no.append(card_no)\n",
    "        print('card accepted')\n",
    "    else:\n",
    "        print('card rejected')\n",
    "    for j in c_no:\n",
    "        if 10<j<40:\n",
    "            pin=input('enter pin no.')\n",
    "            if len(pin)<=4:\n",
    "                print('correct password')\n",
    "            else:\n",
    "                print('please enter coreect pin')\n",
    "            x=input('choose options 1,2,3,4')\n",
    "            y=[]\n",
    "            for i in x :\n",
    "                if x==range(4):\n",
    "                    y.append(x)\n",
    "                    if y==[1]:\n",
    "                        print('withdraw money')\n",
    "                        if y==2:\n",
    "                            print('check balance')"
   ]
  },
  {
   "cell_type": "code",
   "execution_count": null,
   "id": "3e8e6b22",
   "metadata": {},
   "outputs": [],
   "source": []
  },
  {
   "cell_type": "code",
   "execution_count": null,
   "id": "4514a19e",
   "metadata": {},
   "outputs": [],
   "source": []
  },
  {
   "cell_type": "code",
   "execution_count": null,
   "id": "cd6fc9c1",
   "metadata": {},
   "outputs": [
    {
     "name": "stdout",
     "output_type": "stream",
     "text": [
      "card number23\n",
      "card accepted\n",
      "enter pin no.67890\n",
      "please enter coreect pin\n",
      "1-for balance check\n",
      "2-for withdraw money\n",
      "3-for pin change\n"
     ]
    }
   ],
   "source": [
    "card_no=int(input('card number'))\n",
    "c_no=[]\n",
    "balance=123459678\n",
    "for i in [card_no]:\n",
    "    if 10<i<40:\n",
    "        c_no.append(card_no)\n",
    "        print('card accepted')\n",
    "    else:\n",
    "        print('card rejected')\n",
    "    for j in c_no:\n",
    "        if 10<j<40:\n",
    "            pin=input('enter pin no.')\n",
    "            if len(pin)<=4:\n",
    "                print('correct password')\n",
    "            else:\n",
    "                print('please enter coreect pin')\n",
    "            print('1-for balance check')\n",
    "            print('2-for withdraw money')\n",
    "            print('3-for pin change')\n",
    "            \n",
    "            x=int(input('please select one option'))\n",
    "            option=[1,2,3,4]\n",
    "            if x not in option:\n",
    "                 print('choose  valid option')\n",
    "            else:\n",
    "                if x==1:\n",
    "                    print('your balance is', balance)\n",
    "                if x==2:\n",
    "                    withdraw=int(input('enter the withdraw ammount'))\n",
    "                    balance-=withdraw\n",
    "                    print('your new balance is',balance)\n",
    "                if x==3:\n",
    "                    print(input('enter your phonr no'))\n",
    "                \n",
    "                    "
   ]
  },
  {
   "cell_type": "code",
   "execution_count": null,
   "id": "b6fd7957",
   "metadata": {},
   "outputs": [],
   "source": []
  },
  {
   "cell_type": "markdown",
   "id": "de56a4d8",
   "metadata": {},
   "source": [
    "# final code"
   ]
  },
  {
   "cell_type": "code",
   "execution_count": null,
   "id": "6db0f399",
   "metadata": {},
   "outputs": [],
   "source": [
    "card_no=int(input('card number'))\n",
    "c_no=[]\n",
    "balance=90000\n",
    "for i in [card_no]:\n",
    "    if 10<i<40:\n",
    "        c_no.append(card_no)\n",
    "        print('card accepted')\n",
    "    else:\n",
    "        print('card rejected')\n",
    "    for j in c_no:\n",
    "        if 10<j<40:\n",
    "            pin=input('enter pin no.')\n",
    "            if len(pin)!=4:\n",
    "                print('incorrect password')\n",
    "            else:\n",
    "                print('correct password')\n",
    "                print('1-for balance check')\n",
    "                print('2-for withdraw money')\n",
    "                print('3-for pin change')\n",
    "            \n",
    "                x=int(input('please select one option'))\n",
    "                option=[1,2,3,4]\n",
    "                if x not in option:\n",
    "                    print('choose  valid option')\n",
    "                else:\n",
    "                    if x==1:\n",
    "                        print('your balance is', balance)\n",
    "            \n",
    "                    if x==2:\n",
    "                        withdraw=int(input('enter the withdraw ammount'))\n",
    "                        balance-=withdraw\n",
    "                        print('your new balance is',balance)\n",
    "                    if x==3:\n",
    "                        phone_no=input('enter your phonr no')\n",
    "                        if len(phone_no)!=10:\n",
    "                            print('please enter a valid number')\n",
    "                        else:\n",
    "                            new_pin=input('your new pin number')\n",
    "                            print('pin successfully cahnged to',new_pin)\n",
    "                "
   ]
  },
  {
   "cell_type": "code",
   "execution_count": null,
   "id": "4cd78292",
   "metadata": {},
   "outputs": [],
   "source": []
  },
  {
   "cell_type": "markdown",
   "id": "098324d2",
   "metadata": {},
   "source": [
    "# calculator"
   ]
  },
  {
   "cell_type": "code",
   "execution_count": 2,
   "id": "64a0f673",
   "metadata": {},
   "outputs": [
    {
     "name": "stdout",
     "output_type": "stream",
     "text": [
      "enter your first number12\n",
      "enter yur sceond number2\n",
      "operator/\n"
     ]
    },
    {
     "ename": "IndexError",
     "evalue": "string index out of range",
     "output_type": "error",
     "traceback": [
      "\u001b[1;31m---------------------------------------------------------------------------\u001b[0m",
      "\u001b[1;31mIndexError\u001b[0m                                Traceback (most recent call last)",
      "Cell \u001b[1;32mIn[2], line 8\u001b[0m\n\u001b[0;32m      6\u001b[0m \u001b[38;5;28;01mif\u001b[39;00m i\u001b[38;5;241m==\u001b[39mz[\u001b[38;5;241m0\u001b[39m]:\n\u001b[0;32m      7\u001b[0m     \u001b[38;5;28mprint\u001b[39m(number1,\u001b[38;5;124m'\u001b[39m\u001b[38;5;124m+\u001b[39m\u001b[38;5;124m'\u001b[39m,number2,\u001b[38;5;124m'\u001b[39m\u001b[38;5;124m=\u001b[39m\u001b[38;5;124m'\u001b[39m ,number1\u001b[38;5;241m+\u001b[39mnumber2 )\n\u001b[1;32m----> 8\u001b[0m \u001b[38;5;28;01mif\u001b[39;00m i\u001b[38;5;241m==\u001b[39mz[\u001b[38;5;241m1\u001b[39m]:\n\u001b[0;32m      9\u001b[0m     \u001b[38;5;28mprint\u001b[39m(number1,\u001b[38;5;124m'\u001b[39m\u001b[38;5;124m-\u001b[39m\u001b[38;5;124m'\u001b[39m,number2,\u001b[38;5;124m'\u001b[39m\u001b[38;5;124m=\u001b[39m\u001b[38;5;124m'\u001b[39m ,number1\u001b[38;5;241m-\u001b[39mnumber2 )\n\u001b[0;32m     10\u001b[0m \u001b[38;5;28;01mif\u001b[39;00m i\u001b[38;5;241m==\u001b[39mz[\u001b[38;5;241m2\u001b[39m]:\n",
      "\u001b[1;31mIndexError\u001b[0m: string index out of range"
     ]
    }
   ],
   "source": [
    "number1=int(input('enter your first number'))\n",
    "number2=int(input('enter yur sceond number'))\n",
    "operator=['+','-','*','/','**']\n",
    "z=input('operator')\n",
    "for i in operator:\n",
    "    if i==z[0]:\n",
    "        print(number1,'+',number2,'=' ,number1+number2 )\n",
    "    if i==z[1]:\n",
    "        print(number1,'-',number2,'=' ,number1-number2 )\n",
    "    if i==z[2]:\n",
    "        print(number1,'*',number2,'=' ,number1*number2 )\n",
    "    if i==z[3]:\n",
    "        print(number1,'/',number2,'=' ,number1/number2 )\n",
    "    if i==z[4]:\n",
    "        print(number1,'**',number2,'=' ,number1**number2 )\n",
    "    else:\n",
    "        print('error')\n",
    "    \n",
    "        \n",
    "    \n",
    "    "
   ]
  },
  {
   "cell_type": "code",
   "execution_count": null,
   "id": "2d3c7e9b",
   "metadata": {},
   "outputs": [],
   "source": []
  },
  {
   "cell_type": "markdown",
   "id": "272c243a",
   "metadata": {},
   "source": []
  },
  {
   "cell_type": "code",
   "execution_count": null,
   "id": "979c4ee5",
   "metadata": {},
   "outputs": [],
   "source": []
  },
  {
   "cell_type": "code",
   "execution_count": 5,
   "id": "a5350427",
   "metadata": {},
   "outputs": [
    {
     "name": "stdout",
     "output_type": "stream",
     "text": [
      "enter your first number34\n",
      "enter yur sceond number12\n",
      "operator-\n",
      "34 - 12 = 22\n",
      "error\n"
     ]
    }
   ],
   "source": [
    "number1=int(input('enter your first number'))\n",
    "number2=int(input('enter yur sceond number'))\n",
    "operator=['+','-','*','/','**']\n",
    "z=input('operator')\n",
    "for i in z:\n",
    "    if z==operator[0]:\n",
    "        print(number1,'+',number2,'=' ,number1+number2 )\n",
    "    if z==operator[1]:\n",
    "        print(number1,'-',number2,'=' ,number1-number2 )\n",
    "    if z==operator[2]:\n",
    "        print(number1,'*',number2,'=' ,number1*number2 )\n",
    "    if z==operator[3]:\n",
    "        print(number1,'/',number2,'=' ,number1/number2 )\n",
    "    if z==operator[4]:\n",
    "        print(number1,'**',number2,'=' ,number1**number2 )\n",
    "    else:\n",
    "        print('error')"
   ]
  },
  {
   "cell_type": "code",
   "execution_count": null,
   "id": "cb3cf04b",
   "metadata": {},
   "outputs": [],
   "source": []
  },
  {
   "cell_type": "code",
   "execution_count": 5,
   "id": "a969d734",
   "metadata": {},
   "outputs": [
    {
     "name": "stdout",
     "output_type": "stream",
     "text": [
      "enter your first number12\n",
      "enter yur sceond number12\n",
      "operator+\n",
      "12 + 12 = 24\n",
      "error\n"
     ]
    }
   ],
   "source": [
    "number1=int(input('enter your first number'))\n",
    "number2=int(input('enter yur sceond number'))\n",
    "operator=['+','-','*','/','**']\n",
    "z=input('operator')\n",
    "if i==operator[0]:\n",
    "    print(number1,'+',number2,'=' ,number1+number2 )\n",
    "if i==operator[1]:\n",
    "    print(number1,'-',number2,'=' ,number1-number2 )\n",
    "if i==operator[2]:\n",
    "    print(number1,'*',number2,'=' ,number1*number2 )\n",
    "if i==operator[3]:\n",
    "    print(number1,'/',number2,'=' ,number1/number2 )\n",
    "if i==operator[4]:\n",
    "    print(number1,'**',number2,'=' ,number1**number2 )\n",
    "else:\n",
    "    print('error')"
   ]
  },
  {
   "cell_type": "code",
   "execution_count": null,
   "id": "075cdeba",
   "metadata": {},
   "outputs": [],
   "source": [
    "number1=int(input('enter your first number'))\n",
    "number2=int(input('enter yur sceond number'))\n",
    "operator=['+','-','*','/','**']\n",
    "z=input('operator')\n",
    "if z==operator[0]:\n",
    "    print(number1,'+',number2,'=' ,number1+number2 )\n",
    "if z==operator[1]:\n",
    "    print(number1,'-',number2,'=' ,number1-number2 )\n",
    "if z==operator[2]:\n",
    "    print(number1,'*',number2,'=' ,number1*number2 )\n",
    "if z==operator[3]:\n",
    "    print(number1,'/',number2,'=' ,number1/number2 )\n",
    "if z==operator[4]:\n",
    "    print(number1,'**',number2,'=' ,number1**number2 )\n",
    "else:\n",
    "     print('error')"
   ]
  },
  {
   "cell_type": "code",
   "execution_count": null,
   "id": "341154a1",
   "metadata": {},
   "outputs": [],
   "source": []
  },
  {
   "cell_type": "code",
   "execution_count": 6,
   "id": "124e1bd6",
   "metadata": {},
   "outputs": [
    {
     "data": {
      "text/plain": [
       "'/'"
      ]
     },
     "execution_count": 6,
     "metadata": {},
     "output_type": "execute_result"
    }
   ],
   "source": [
    "operator=['+','-','*','/','**']\n",
    "operator[3]"
   ]
  },
  {
   "cell_type": "markdown",
   "id": "0a567f71",
   "metadata": {},
   "source": [
    "# final code"
   ]
  },
  {
   "cell_type": "code",
   "execution_count": 1,
   "id": "81d7f943",
   "metadata": {},
   "outputs": [
    {
     "name": "stdout",
     "output_type": "stream",
     "text": [
      "enter your first number12\n",
      "enter yur sceond number34\n",
      "operator+\n",
      "12 + 34 = 46\n"
     ]
    }
   ],
   "source": [
    "number1=int(input('enter your first number'))\n",
    "number2=int(input('enter yur sceond number'))\n",
    "operator=['+','-','*','/','**']\n",
    "z=input('operator')\n",
    "for i in z:\n",
    "    if z==operator[0]:\n",
    "        print(number1,'+',number2,'=' ,number1+number2 )\n",
    "    elif z==operator[1]:\n",
    "        print(number1,'-',number2,'=' ,number1-number2 )\n",
    "    elif z==operator[2]:\n",
    "        print(number1,'*',number2,'=' ,number1*number2 )\n",
    "    elif z==operator[3]:\n",
    "        print(number1,'/',number2,'=' ,number1/number2 )\n",
    "    elif z==operator[4]:\n",
    "        print(number1,'**',number2,'=' ,number1**number2 )\n",
    "    else:\n",
    "        print('error')"
   ]
  },
  {
   "cell_type": "code",
   "execution_count": null,
   "id": "4567ec2a",
   "metadata": {},
   "outputs": [],
   "source": []
  },
  {
   "cell_type": "code",
   "execution_count": null,
   "id": "1b53422c",
   "metadata": {},
   "outputs": [],
   "source": []
  },
  {
   "cell_type": "code",
   "execution_count": null,
   "id": "33d6bd2f",
   "metadata": {},
   "outputs": [],
   "source": []
  },
  {
   "cell_type": "code",
   "execution_count": 1,
   "id": "86983f76",
   "metadata": {},
   "outputs": [
    {
     "name": "stdout",
     "output_type": "stream",
     "text": [
      "B\n",
      "r\n",
      "v\n",
      "o\n"
     ]
    }
   ],
   "source": [
    "alpha='Bravo'\n",
    "Bravo='Charlie'\n",
    "charlie='Alpha'\n",
    "for char in alpha:\n",
    "    if char!='a':\n",
    "        print(char)"
   ]
  },
  {
   "cell_type": "code",
   "execution_count": 2,
   "id": "a996e678",
   "metadata": {},
   "outputs": [
    {
     "name": "stdout",
     "output_type": "stream",
     "text": [
      "\n",
      "*\n",
      "**\n",
      "***\n",
      "****\n"
     ]
    }
   ],
   "source": [
    "for i in range(5):\n",
    "    print(i*'*')"
   ]
  },
  {
   "cell_type": "code",
   "execution_count": 8,
   "id": "ada588b0",
   "metadata": {},
   "outputs": [],
   "source": [
    "for i in range(-6):\n",
    "    print(i*'*')"
   ]
  },
  {
   "cell_type": "code",
   "execution_count": null,
   "id": "d5cce643",
   "metadata": {},
   "outputs": [],
   "source": [
    "\n",
    "\n"
   ]
  }
 ],
 "metadata": {
  "kernelspec": {
   "display_name": "Python 3 (ipykernel)",
   "language": "python",
   "name": "python3"
  },
  "language_info": {
   "codemirror_mode": {
    "name": "ipython",
    "version": 3
   },
   "file_extension": ".py",
   "mimetype": "text/x-python",
   "name": "python",
   "nbconvert_exporter": "python",
   "pygments_lexer": "ipython3",
   "version": "3.11.3"
  }
 },
 "nbformat": 4,
 "nbformat_minor": 5
}
