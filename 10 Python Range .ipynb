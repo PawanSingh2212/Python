{
 "cells": [
  {
   "cell_type": "markdown",
   "id": "63166b38",
   "metadata": {},
   "source": [
    "\n",
    "# table of contents"
   ]
  },
  {
   "cell_type": "markdown",
   "id": "6a2e592c",
   "metadata": {},
   "source": [
    "Range is an immutable Data type and is also a function "
   ]
  },
  {
   "cell_type": "markdown",
   "id": "903d6496",
   "metadata": {},
   "source": [
    "## Syntax\n",
    "\n",
    "- Below is the syntax of the range() function \n",
    "- range(start,stop,step)"
   ]
  },
  {
   "cell_type": "markdown",
   "id": "32f5d8d6",
   "metadata": {},
   "source": [
    "- it takes three argument . Out of the three two are optional. the start and step areoptional arguments and the stop is the mandatory argument\n",
    "\n",
    "### paqrameters\n",
    "\n",
    "- start:(lower limit)\n",
    "- stop :(upper limit)\n",
    "- step:(specify the incrementing or decrementing value)"
   ]
  },
  {
   "cell_type": "code",
   "execution_count": 3,
   "id": "47966091",
   "metadata": {},
   "outputs": [
    {
     "name": "stdout",
     "output_type": "stream",
     "text": [
      "0\n",
      "1\n",
      "2\n",
      "3\n",
      "4\n",
      "5\n",
      "6\n",
      "7\n",
      "8\n",
      "9\n"
     ]
    }
   ],
   "source": [
    "# print first 10 numbers \n",
    "# stop= 10\n",
    "\n",
    "for i in range(0,10,1):\n",
    "    print(i)\n"
   ]
  },
  {
   "cell_type": "code",
   "execution_count": 9,
   "id": "85fd619e",
   "metadata": {},
   "outputs": [
    {
     "name": "stdout",
     "output_type": "stream",
     "text": [
      "0\n",
      "1\n",
      "2\n",
      "3\n",
      "4\n",
      "5\n",
      "6\n",
      "7\n",
      "8\n",
      "9\n"
     ]
    }
   ],
   "source": [
    "for i in range(0,10):\n",
    "    print(i)"
   ]
  },
  {
   "cell_type": "code",
   "execution_count": 6,
   "id": "70421132",
   "metadata": {},
   "outputs": [
    {
     "name": "stdout",
     "output_type": "stream",
     "text": [
      "0,1,2,3,4,5,6,7,8,9,"
     ]
    }
   ],
   "source": [
    "for i in range(0,10,1):\n",
    "    print(i,end=',')"
   ]
  },
  {
   "cell_type": "code",
   "execution_count": 10,
   "id": "6bd3a123",
   "metadata": {},
   "outputs": [
    {
     "name": "stdout",
     "output_type": "stream",
     "text": [
      "0,2,4,6,8,"
     ]
    }
   ],
   "source": [
    "for i in range(0,10,2):\n",
    "    print(i,end=',')"
   ]
  },
  {
   "cell_type": "code",
   "execution_count": 11,
   "id": "2c4078a6",
   "metadata": {},
   "outputs": [
    {
     "name": "stdout",
     "output_type": "stream",
     "text": [
      "0,5,"
     ]
    }
   ],
   "source": [
    "for i in range(0,10,5):\n",
    "    print(i,end=',')"
   ]
  },
  {
   "cell_type": "code",
   "execution_count": 12,
   "id": "020b2441",
   "metadata": {},
   "outputs": [
    {
     "name": "stdout",
     "output_type": "stream",
     "text": [
      "0@1@2@3@4@5@6@7@8@9@"
     ]
    }
   ],
   "source": [
    "for i in range(0,10,1):\n",
    "    print(i,end='@')"
   ]
  },
  {
   "cell_type": "code",
   "execution_count": 13,
   "id": "08f3c053",
   "metadata": {},
   "outputs": [
    {
     "name": "stdout",
     "output_type": "stream",
     "text": [
      "0,1,2,3,4,5,6,7,8,9,"
     ]
    }
   ],
   "source": [
    "for i in range(10):\n",
    "    print(i,end=',')"
   ]
  },
  {
   "cell_type": "code",
   "execution_count": 19,
   "id": "5e8a7903",
   "metadata": {},
   "outputs": [
    {
     "name": "stdout",
     "output_type": "stream",
     "text": [
      "10,11,12,13,14,15,"
     ]
    }
   ],
   "source": [
    "# NUmbers from 10 to 15 \n",
    "# start= 10\n",
    "# stop= 16 \n",
    "\n",
    "for i in range(16,10):\n",
    "    print(i,end=',')"
   ]
  },
  {
   "cell_type": "code",
   "execution_count": 23,
   "id": "7c44d917",
   "metadata": {},
   "outputs": [
    {
     "name": "stdout",
     "output_type": "stream",
     "text": [
      "16,15,14,13,12,11,"
     ]
    }
   ],
   "source": [
    "for i in range(16,10,-1):\n",
    "    print(i,end=',')"
   ]
  },
  {
   "cell_type": "markdown",
   "id": "74656e53",
   "metadata": {},
   "source": [
    "### note*\n",
    " the range will return an empty sequnece if you set the stop value less than start "
   ]
  },
  {
   "cell_type": "code",
   "execution_count": 26,
   "id": "7a68bca2",
   "metadata": {},
   "outputs": [],
   "source": [
    "for i in range(-16,10,-1):\n",
    "    print(i,end=',')"
   ]
  },
  {
   "cell_type": "code",
   "execution_count": null,
   "id": "c18cbe39",
   "metadata": {},
   "outputs": [],
   "source": []
  },
  {
   "cell_type": "markdown",
   "id": "fce170a1",
   "metadata": {},
   "source": [
    "# making list of a range"
   ]
  },
  {
   "cell_type": "code",
   "execution_count": 1,
   "id": "2c0e4eec",
   "metadata": {},
   "outputs": [],
   "source": [
    "list2=list(range(0,10,1))"
   ]
  },
  {
   "cell_type": "code",
   "execution_count": 3,
   "id": "59671e42",
   "metadata": {},
   "outputs": [
    {
     "name": "stdout",
     "output_type": "stream",
     "text": [
      "[0, 1, 2, 3, 4, 5, 6, 7, 8, 9]\n",
      "<class 'list'>\n"
     ]
    }
   ],
   "source": [
    "print(list2)\n",
    "print(type(list2))  # all the operation of list will be aplicable"
   ]
  },
  {
   "cell_type": "markdown",
   "id": "210c7096",
   "metadata": {},
   "source": [
    "# Reverse range"
   ]
  },
  {
   "cell_type": "code",
   "execution_count": 1,
   "id": "16e6c27c",
   "metadata": {},
   "outputs": [
    {
     "name": "stdout",
     "output_type": "stream",
     "text": [
      "10,8,6,4,"
     ]
    }
   ],
   "source": [
    "# using reverse indexing\n",
    "\n",
    "for i in range(10,2,-2):\n",
    "    print(i,end=',')\n",
    "    \n"
   ]
  },
  {
   "cell_type": "code",
   "execution_count": 14,
   "id": "1a543458",
   "metadata": {},
   "outputs": [
    {
     "name": "stdout",
     "output_type": "stream",
     "text": [
      "9,8,7,6,5,4,3,2,1,0,"
     ]
    }
   ],
   "source": [
    "# using reverse()\n",
    "\n",
    "for i in reversed(range(0,10,1)):\n",
    "    print(i,end=',')\n"
   ]
  },
  {
   "cell_type": "code",
   "execution_count": 12,
   "id": "5c3bd9d6",
   "metadata": {},
   "outputs": [
    {
     "ename": "ValueError",
     "evalue": "range() arg 3 must not be zero",
     "output_type": "error",
     "traceback": [
      "\u001b[1;31m---------------------------------------------------------------------------\u001b[0m",
      "\u001b[1;31mValueError\u001b[0m                                Traceback (most recent call last)",
      "Cell \u001b[1;32mIn[12], line 1\u001b[0m\n\u001b[1;32m----> 1\u001b[0m \u001b[38;5;28mrange\u001b[39m(\u001b[38;5;241m10\u001b[39m,\u001b[38;5;241m20\u001b[39m,\u001b[38;5;241m0\u001b[39m)\n",
      "\u001b[1;31mValueError\u001b[0m: range() arg 3 must not be zero"
     ]
    }
   ],
   "source": [
    "range(10,20,0)   # step can't  be zero"
   ]
  },
  {
   "cell_type": "markdown",
   "id": "edc01d01",
   "metadata": {},
   "source": [
    "## Inclusive range"
   ]
  },
  {
   "cell_type": "code",
   "execution_count": 8,
   "id": "e1180b44",
   "metadata": {},
   "outputs": [
    {
     "name": "stdout",
     "output_type": "stream",
     "text": [
      "1,2,3,4,5,"
     ]
    }
   ],
   "source": [
    "# inclusive range\n",
    "\n",
    "start = 1\n",
    "stop = 5\n",
    "step= 1\n",
    "\n",
    "# change stop\n",
    "stop+=step\n",
    "\n",
    "for i in range(start,stop,step):\n",
    "    print(i,end=',')"
   ]
  },
  {
   "cell_type": "code",
   "execution_count": 53,
   "id": "e5b8cff6",
   "metadata": {},
   "outputs": [
    {
     "name": "stdout",
     "output_type": "stream",
     "text": [
      "0,1,2,3,4,5,"
     ]
    }
   ],
   "source": [
    "for i in range(5+1):\n",
    "    print(i,end=',')"
   ]
  },
  {
   "cell_type": "code",
   "execution_count": 55,
   "id": "6e2c7e7c",
   "metadata": {},
   "outputs": [
    {
     "ename": "SyntaxError",
     "evalue": "expression cannot contain assignment, perhaps you meant \"==\"? (50762672.py, line 1)",
     "output_type": "error",
     "traceback": [
      "\u001b[1;36m  Cell \u001b[1;32mIn[55], line 1\u001b[1;36m\u001b[0m\n\u001b[1;33m    for i in range(5=6):\u001b[0m\n\u001b[1;37m                   ^\u001b[0m\n\u001b[1;31mSyntaxError\u001b[0m\u001b[1;31m:\u001b[0m expression cannot contain assignment, perhaps you meant \"==\"?\n"
     ]
    }
   ],
   "source": [
    "for i in range(5):\n",
    "    print(i,end=',')"
   ]
  },
  {
   "cell_type": "code",
   "execution_count": 46,
   "id": "7201f4fd",
   "metadata": {},
   "outputs": [
    {
     "name": "stdout",
     "output_type": "stream",
     "text": [
      "0,1,2,3,4,5,6,7,8,9,"
     ]
    }
   ],
   "source": [
    "for i in range(5*2):\n",
    "    print(i,end=',')"
   ]
  },
  {
   "cell_type": "code",
   "execution_count": 50,
   "id": "30bcac23",
   "metadata": {},
   "outputs": [
    {
     "name": "stdout",
     "output_type": "stream",
     "text": [
      "0,1,2,3,4,5,"
     ]
    }
   ],
   "source": [
    "for i in range(10//2+1):\n",
    "    print(i,end=',')"
   ]
  },
  {
   "cell_type": "code",
   "execution_count": 5,
   "id": "7cf3a759",
   "metadata": {},
   "outputs": [
    {
     "name": "stdout",
     "output_type": "stream",
     "text": [
      "1,2,3,"
     ]
    }
   ],
   "source": [
    "start = 1\n",
    "stop = 5\n",
    "step= 1\n",
    "\n",
    "# change stop\n",
    "stop-=step\n",
    "\n",
    "for i in range(start,stop,step):\n",
    "    print(i,end=',')"
   ]
  },
  {
   "cell_type": "code",
   "execution_count": 14,
   "id": "e3321097",
   "metadata": {},
   "outputs": [
    {
     "name": "stdout",
     "output_type": "stream",
     "text": [
      "1,"
     ]
    }
   ],
   "source": [
    "start = 1\n",
    "stop = 5\n",
    "step= 1\n",
    "\n",
    "# change stop\n",
    "step*=stop\n",
    "\n",
    "for i in range(start,stop,step):\n",
    "    print(i,end=',')"
   ]
  },
  {
   "cell_type": "markdown",
   "id": "236655a5",
   "metadata": {},
   "source": [
    "## doubling"
   ]
  },
  {
   "cell_type": "code",
   "execution_count": 1,
   "id": "6647867a",
   "metadata": {},
   "outputs": [
    {
     "name": "stdout",
     "output_type": "stream",
     "text": [
      "10,20,30,40,50,60,70,80,90,"
     ]
    }
   ],
   "source": [
    "for i in range(10,100,10):\n",
    "    print(i,end=',')"
   ]
  },
  {
   "cell_type": "code",
   "execution_count": 2,
   "id": "81748827",
   "metadata": {},
   "outputs": [
    {
     "name": "stdout",
     "output_type": "stream",
     "text": [
      "[10, 20, 30, 40, 50, 60, 70, 80, 90]\n"
     ]
    }
   ],
   "source": [
    "listr=list(range(10,100,10))\n",
    "print(listr)"
   ]
  },
  {
   "cell_type": "code",
   "execution_count": 5,
   "id": "294421e8",
   "metadata": {},
   "outputs": [
    {
     "name": "stdout",
     "output_type": "stream",
     "text": [
      "[10, 20, 30, 40, 50, 60, 70, 80, 90, 10, 20, 30, 40, 50, 60, 70, 80, 90]\n"
     ]
    }
   ],
   "source": [
    "print(listr*2)"
   ]
  },
  {
   "cell_type": "markdown",
   "id": "780780f7",
   "metadata": {},
   "source": [
    "## indexing of range\n",
    "\n",
    "- negative , positive"
   ]
  },
  {
   "cell_type": "code",
   "execution_count": 6,
   "id": "29bacdd5",
   "metadata": {},
   "outputs": [
    {
     "name": "stdout",
     "output_type": "stream",
     "text": [
      "10,20,30,40,50,60,70,80,90,"
     ]
    }
   ],
   "source": [
    "for i in range(10,100,10):\n",
    "    print(i,end=',')"
   ]
  },
  {
   "cell_type": "code",
   "execution_count": 7,
   "id": "f5a869cf",
   "metadata": {},
   "outputs": [
    {
     "data": {
      "text/plain": [
       "20"
      ]
     },
     "execution_count": 7,
     "metadata": {},
     "output_type": "execute_result"
    }
   ],
   "source": [
    "range(10,100,10)[1]"
   ]
  },
  {
   "cell_type": "code",
   "execution_count": 8,
   "id": "b8a58ec2",
   "metadata": {},
   "outputs": [
    {
     "data": {
      "text/plain": [
       "0"
      ]
     },
     "execution_count": 8,
     "metadata": {},
     "output_type": "execute_result"
    }
   ],
   "source": [
    "range(10)[0]"
   ]
  },
  {
   "cell_type": "code",
   "execution_count": 9,
   "id": "fa16d8f2",
   "metadata": {},
   "outputs": [
    {
     "data": {
      "text/plain": [
       "90"
      ]
     },
     "execution_count": 9,
     "metadata": {},
     "output_type": "execute_result"
    }
   ],
   "source": [
    "range(10,100,10)[-1]"
   ]
  },
  {
   "cell_type": "markdown",
   "id": "58bd9809",
   "metadata": {},
   "source": [
    "## reverse by index"
   ]
  },
  {
   "cell_type": "code",
   "execution_count": 10,
   "id": "6560a60a",
   "metadata": {},
   "outputs": [
    {
     "data": {
      "text/plain": [
       "range(90, 0, -10)"
      ]
     },
     "execution_count": 10,
     "metadata": {},
     "output_type": "execute_result"
    }
   ],
   "source": [
    "range(10,100,10)[::-1]"
   ]
  },
  {
   "cell_type": "markdown",
   "id": "fa9141ea",
   "metadata": {},
   "source": [
    "## slicing"
   ]
  },
  {
   "cell_type": "code",
   "execution_count": 47,
   "id": "b055b323",
   "metadata": {},
   "outputs": [
    {
     "name": "stdout",
     "output_type": "stream",
     "text": [
      "10,20,30,40,50,60,70,80,90,"
     ]
    }
   ],
   "source": [
    "for i in range(10,100,10):\n",
    "    print(i,end=',')"
   ]
  },
  {
   "cell_type": "code",
   "execution_count": 48,
   "id": "8ae6ec99",
   "metadata": {},
   "outputs": [
    {
     "data": {
      "text/plain": [
       "range(20, 40, 10)"
      ]
     },
     "execution_count": 48,
     "metadata": {},
     "output_type": "execute_result"
    }
   ],
   "source": [
    "range(10,100,10)[1:3]"
   ]
  },
  {
   "cell_type": "code",
   "execution_count": 49,
   "id": "e7d340b3",
   "metadata": {},
   "outputs": [
    {
     "data": {
      "text/plain": [
       "range(90, 70, 10)"
      ]
     },
     "execution_count": 49,
     "metadata": {},
     "output_type": "execute_result"
    }
   ],
   "source": [
    "range(10,100,10)[-1:-3]"
   ]
  },
  {
   "cell_type": "code",
   "execution_count": 52,
   "id": "a3f4c1f5",
   "metadata": {},
   "outputs": [
    {
     "data": {
      "text/plain": [
       "range(10, 50, 10)"
      ]
     },
     "execution_count": 52,
     "metadata": {},
     "output_type": "execute_result"
    }
   ],
   "source": [
    "range(10,100,10)[0:4]   # it will give answer in range "
   ]
  },
  {
   "cell_type": "markdown",
   "id": "fa884e65",
   "metadata": {},
   "source": [
    "# remove \n",
    " first change it to list "
   ]
  },
  {
   "cell_type": "code",
   "execution_count": 17,
   "id": "f031eb35",
   "metadata": {},
   "outputs": [
    {
     "name": "stdout",
     "output_type": "stream",
     "text": [
      "[0, 1, 2, 3, 4, 5, 6, 7, 8, 9]\n"
     ]
    }
   ],
   "source": [
    "liste=list(range(10))\n",
    "print(liste)"
   ]
  },
  {
   "cell_type": "code",
   "execution_count": 18,
   "id": "079afe10",
   "metadata": {},
   "outputs": [
    {
     "name": "stdout",
     "output_type": "stream",
     "text": [
      "[0, 1, 2, 3, 4, 5, 6, 7, 8, 9, 45]\n",
      "<class 'list'>\n"
     ]
    }
   ],
   "source": [
    "liste.append(45)      # all fuctions of list are applied after changing it into list \n",
    "print(liste)\n",
    "\n",
    "print(type(liste))"
   ]
  },
  {
   "cell_type": "code",
   "execution_count": 19,
   "id": "4e752a90",
   "metadata": {},
   "outputs": [],
   "source": [
    "liste.remove(4)     # REMOVE"
   ]
  },
  {
   "cell_type": "code",
   "execution_count": 20,
   "id": "d1f29ecc",
   "metadata": {},
   "outputs": [
    {
     "name": "stdout",
     "output_type": "stream",
     "text": [
      "[0, 1, 2, 3, 5, 6, 7, 8, 9, 45]\n"
     ]
    }
   ],
   "source": [
    "print(liste)"
   ]
  },
  {
   "cell_type": "markdown",
   "id": "065f8f83",
   "metadata": {},
   "source": [
    "## changing list into range"
   ]
  },
  {
   "cell_type": "code",
   "execution_count": 13,
   "id": "1ef2e4fc",
   "metadata": {},
   "outputs": [],
   "source": [
    "liste=range"
   ]
  },
  {
   "cell_type": "code",
   "execution_count": 14,
   "id": "92cd8719",
   "metadata": {},
   "outputs": [
    {
     "name": "stdout",
     "output_type": "stream",
     "text": [
      "<class 'range'>\n"
     ]
    }
   ],
   "source": [
    "print(liste)"
   ]
  },
  {
   "cell_type": "code",
   "execution_count": null,
   "id": "67f8feab",
   "metadata": {},
   "outputs": [],
   "source": []
  },
  {
   "cell_type": "code",
   "execution_count": null,
   "id": "2ca3756d",
   "metadata": {},
   "outputs": [],
   "source": []
  },
  {
   "cell_type": "code",
   "execution_count": null,
   "id": "e77080e2",
   "metadata": {},
   "outputs": [],
   "source": []
  }
 ],
 "metadata": {
  "kernelspec": {
   "display_name": "Python 3 (ipykernel)",
   "language": "python",
   "name": "python3"
  },
  "language_info": {
   "codemirror_mode": {
    "name": "ipython",
    "version": 3
   },
   "file_extension": ".py",
   "mimetype": "text/x-python",
   "name": "python",
   "nbconvert_exporter": "python",
   "pygments_lexer": "ipython3",
   "version": "3.11.3"
  }
 },
 "nbformat": 4,
 "nbformat_minor": 5
}
