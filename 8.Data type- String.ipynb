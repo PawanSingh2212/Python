{
 "cells": [
  {
   "cell_type": "markdown",
   "id": "d245d4c5",
   "metadata": {},
   "source": [
    "# Str Data type\n",
    "\n",
    "- str is a immutable data type having sequence of character inclosed  within a single quote or double quote \n",
    "- Ordered \n",
    "- Immutable so can't be modified"
   ]
  },
  {
   "cell_type": "code",
   "execution_count": 6,
   "id": "4391d9d3",
   "metadata": {},
   "outputs": [
    {
     "name": "stdout",
     "output_type": "stream",
     "text": [
      "<class 'str'>\n",
      "<class 'str'>\n"
     ]
    }
   ],
   "source": [
    "str='pawan'\n",
    "str2=\"singh\"\n",
    "\n",
    "print(type(str))\n",
    "print(type(str2))"
   ]
  },
  {
   "cell_type": "markdown",
   "id": "b1e05bbd",
   "metadata": {},
   "source": [
    "## Indexing,slicing"
   ]
  },
  {
   "cell_type": "code",
   "execution_count": 15,
   "id": "51380a30",
   "metadata": {},
   "outputs": [
    {
     "name": "stdout",
     "output_type": "stream",
     "text": [
      "a\n",
      "('p', 'a')\n"
     ]
    }
   ],
   "source": [
    "X='p','a','w','a','n'\n",
    "\n",
    "print(X[1])\n",
    "\n",
    "print(X[0:2])"
   ]
  },
  {
   "cell_type": "code",
   "execution_count": 1,
   "id": "1cb971d5",
   "metadata": {},
   "outputs": [],
   "source": [
    "v=\"a\",'b','c',[12,34,12]"
   ]
  },
  {
   "cell_type": "code",
   "execution_count": 2,
   "id": "efde766f",
   "metadata": {},
   "outputs": [
    {
     "data": {
      "text/plain": [
       "tuple"
      ]
     },
     "execution_count": 2,
     "metadata": {},
     "output_type": "execute_result"
    }
   ],
   "source": [
    "type(v)"
   ]
  },
  {
   "cell_type": "code",
   "execution_count": 3,
   "id": "bb5d5fa2",
   "metadata": {},
   "outputs": [
    {
     "data": {
      "text/plain": [
       "1"
      ]
     },
     "execution_count": 3,
     "metadata": {},
     "output_type": "execute_result"
    }
   ],
   "source": [
    "v.index('b')"
   ]
  },
  {
   "cell_type": "code",
   "execution_count": null,
   "id": "d28ab2ef",
   "metadata": {},
   "outputs": [],
   "source": []
  },
  {
   "cell_type": "markdown",
   "id": "66452321",
   "metadata": {},
   "source": [
    "### positive and negative indexing"
   ]
  },
  {
   "cell_type": "code",
   "execution_count": 10,
   "id": "0bab0666",
   "metadata": {},
   "outputs": [],
   "source": [
    "X='p','a','w','a','n'\n"
   ]
  },
  {
   "cell_type": "code",
   "execution_count": 12,
   "id": "07ae154b",
   "metadata": {},
   "outputs": [
    {
     "data": {
      "text/plain": [
       "'n'"
      ]
     },
     "execution_count": 12,
     "metadata": {},
     "output_type": "execute_result"
    }
   ],
   "source": [
    "X[-1]"
   ]
  },
  {
   "cell_type": "code",
   "execution_count": 21,
   "id": "3815c8d4",
   "metadata": {},
   "outputs": [
    {
     "data": {
      "text/plain": [
       "('a', 'a')"
      ]
     },
     "execution_count": 21,
     "metadata": {},
     "output_type": "execute_result"
    }
   ],
   "source": [
    "X[-4],X[3]"
   ]
  },
  {
   "cell_type": "code",
   "execution_count": 20,
   "id": "f3956aa1",
   "metadata": {},
   "outputs": [
    {
     "name": "stdout",
     "output_type": "stream",
     "text": [
      "('p', 'a', 'w', 'a', 'n')\n"
     ]
    }
   ],
   "source": [
    "print(X)"
   ]
  },
  {
   "cell_type": "markdown",
   "id": "c9de657a",
   "metadata": {},
   "source": [
    "### reversing"
   ]
  },
  {
   "cell_type": "code",
   "execution_count": 29,
   "id": "e83a5785",
   "metadata": {},
   "outputs": [
    {
     "data": {
      "text/plain": [
       "('n', 'a', 'w', 'a', 'p')"
      ]
     },
     "execution_count": 29,
     "metadata": {},
     "output_type": "execute_result"
    }
   ],
   "source": [
    "X[::-1]"
   ]
  },
  {
   "cell_type": "markdown",
   "id": "728d7cf1",
   "metadata": {},
   "source": [
    "## upper()"
   ]
  },
  {
   "cell_type": "code",
   "execution_count": 34,
   "id": "49b663c2",
   "metadata": {},
   "outputs": [
    {
     "data": {
      "text/plain": [
       "2409493981936"
      ]
     },
     "execution_count": 34,
     "metadata": {},
     "output_type": "execute_result"
    }
   ],
   "source": [
    "Y='singh'\n",
    "id(Y)"
   ]
  },
  {
   "cell_type": "code",
   "execution_count": 35,
   "id": "50be8389",
   "metadata": {},
   "outputs": [
    {
     "name": "stdout",
     "output_type": "stream",
     "text": [
      "SINGH\n"
     ]
    },
    {
     "data": {
      "text/plain": [
       "2409493981936"
      ]
     },
     "execution_count": 35,
     "metadata": {},
     "output_type": "execute_result"
    }
   ],
   "source": [
    "print(Y.upper())\n",
    "id(Y)"
   ]
  },
  {
   "cell_type": "markdown",
   "id": "72296497",
   "metadata": {},
   "source": [
    "## lower()"
   ]
  },
  {
   "cell_type": "code",
   "execution_count": 36,
   "id": "53241f7d",
   "metadata": {},
   "outputs": [
    {
     "name": "stdout",
     "output_type": "stream",
     "text": [
      "singh\n"
     ]
    },
    {
     "data": {
      "text/plain": [
       "2409493981936"
      ]
     },
     "execution_count": 36,
     "metadata": {},
     "output_type": "execute_result"
    }
   ],
   "source": [
    "print(Y.lower())\n",
    "id(Y)"
   ]
  },
  {
   "cell_type": "markdown",
   "id": "25cc3cba",
   "metadata": {},
   "source": [
    "## replace()"
   ]
  },
  {
   "cell_type": "code",
   "execution_count": 65,
   "id": "18e90b9b",
   "metadata": {},
   "outputs": [
    {
     "name": "stdout",
     "output_type": "stream",
     "text": [
      "paaaawan\n"
     ]
    },
    {
     "data": {
      "text/plain": [
       "2409507631600"
      ]
     },
     "execution_count": 65,
     "metadata": {},
     "output_type": "execute_result"
    }
   ],
   "source": [
    "print(Y.replace('s',\"C\"))       # id canged because its immutable\n",
    "id(Y)"
   ]
  },
  {
   "cell_type": "code",
   "execution_count": 1,
   "id": "637346ca",
   "metadata": {},
   "outputs": [
    {
     "name": "stdout",
     "output_type": "stream",
     "text": [
      "poooowon\n"
     ]
    }
   ],
   "source": [
    "U='paaaawan'\n",
    "print(U.replace('a','o'))"
   ]
  },
  {
   "cell_type": "markdown",
   "id": "c5846907",
   "metadata": {},
   "source": [
    "## count()"
   ]
  },
  {
   "cell_type": "code",
   "execution_count": 2,
   "id": "9a14e127",
   "metadata": {},
   "outputs": [
    {
     "name": "stdout",
     "output_type": "stream",
     "text": [
      "paaaawan\n",
      "0\n"
     ]
    }
   ],
   "source": [
    "print(U)\n",
    "\n",
    "print(U.count('o'))\n"
   ]
  },
  {
   "cell_type": "code",
   "execution_count": 62,
   "id": "e0b01ebc",
   "metadata": {},
   "outputs": [
    {
     "name": "stdout",
     "output_type": "stream",
     "text": [
      "0\n"
     ]
    }
   ],
   "source": [
    "x='u'\n",
    "\n",
    "print('x'.count('u'))"
   ]
  },
  {
   "cell_type": "markdown",
   "id": "037c9a43",
   "metadata": {},
   "source": [
    "## find()"
   ]
  },
  {
   "cell_type": "code",
   "execution_count": 2,
   "id": "c808ea40",
   "metadata": {},
   "outputs": [],
   "source": [
    "U='paaaawan'"
   ]
  },
  {
   "cell_type": "code",
   "execution_count": 7,
   "id": "510ae2bb",
   "metadata": {},
   "outputs": [
    {
     "name": "stdout",
     "output_type": "stream",
     "text": [
      "0\n"
     ]
    }
   ],
   "source": [
    "print(U.find(''))"
   ]
  },
  {
   "cell_type": "code",
   "execution_count": 8,
   "id": "6e62f8ff",
   "metadata": {},
   "outputs": [
    {
     "name": "stdout",
     "output_type": "stream",
     "text": [
      "1\n"
     ]
    }
   ],
   "source": [
    "print(U.find('a'))"
   ]
  },
  {
   "cell_type": "markdown",
   "id": "8d0e235f",
   "metadata": {},
   "source": [
    "## Substrings\n",
    "\n",
    "\n",
    "- count method for finding the sub string\n",
    "- in python count() method counts the occurance of a substring with in a string . An empty string is considered a valid substring , and it will be found at every position in the original string ,including before the first character ,after the last character , and between every pair of characters .Therfore ,If your string is \"vijai\" ,there are six possible position for an empty substring\n",
    "\n",
    "platform= 'vijai'\n",
    "- before\"v\"\n",
    "- betweeen 'v' and 'i' \n",
    "- between 'i' and 'j'\n",
    "- between 'j' and 'a'\n",
    "- between 'a' and 'i' \n",
    "- after 'i'\n",
    "\n",
    " so, when you call platform.count('') . It is counting these occurance of the empty string within your given string ,resulting in a count of 6. "
   ]
  },
  {
   "cell_type": "code",
   "execution_count": 1,
   "id": "356bc1f1",
   "metadata": {},
   "outputs": [
    {
     "name": "stdout",
     "output_type": "stream",
     "text": [
      "6\n"
     ]
    }
   ],
   "source": [
    "platform ='vijai'\n",
    "print(platform.count(''))"
   ]
  },
  {
   "cell_type": "code",
   "execution_count": 3,
   "id": "ca1bbc98",
   "metadata": {},
   "outputs": [
    {
     "name": "stdout",
     "output_type": "stream",
     "text": [
      "9\n"
     ]
    }
   ],
   "source": [
    "platform ='vijai   '\n",
    "\n",
    "print(platform.count(''))"
   ]
  },
  {
   "cell_type": "code",
   "execution_count": 4,
   "id": "67728294",
   "metadata": {},
   "outputs": [
    {
     "name": "stdout",
     "output_type": "stream",
     "text": [
      "2\n"
     ]
    }
   ],
   "source": [
    "str=\"u\"\n",
    "print(str.count(''))"
   ]
  },
  {
   "cell_type": "code",
   "execution_count": 3,
   "id": "484a0f80",
   "metadata": {},
   "outputs": [
    {
     "name": "stdout",
     "output_type": "stream",
     "text": [
      "9\n"
     ]
    }
   ],
   "source": [
    "x='platform'\n",
    "print(x.count(''))"
   ]
  },
  {
   "cell_type": "code",
   "execution_count": 2,
   "id": "4b22c63f",
   "metadata": {},
   "outputs": [
    {
     "name": "stdout",
     "output_type": "stream",
     "text": [
      "3\n"
     ]
    }
   ],
   "source": [
    "y='uo'\n",
    "print(y.count(''))"
   ]
  },
  {
   "cell_type": "markdown",
   "id": "924c6242",
   "metadata": {},
   "source": [
    "### If a substring is not found the string in find method returns (-1) why? \n",
    "\n",
    "In Python, the find() method returns-1 when the substring being searched for"
   ]
  },
  {
   "cell_type": "code",
   "execution_count": 3,
   "id": "b5f77f19",
   "metadata": {},
   "outputs": [
    {
     "name": "stdout",
     "output_type": "stream",
     "text": [
      "-1\n"
     ]
    }
   ],
   "source": [
    "string='paaawwwaaan'\n",
    "print(string.find('f'))"
   ]
  },
  {
   "cell_type": "code",
   "execution_count": null,
   "id": "d557e2f4",
   "metadata": {},
   "outputs": [],
   "source": []
  },
  {
   "cell_type": "code",
   "execution_count": null,
   "id": "25fca33a",
   "metadata": {},
   "outputs": [],
   "source": []
  },
  {
   "cell_type": "code",
   "execution_count": null,
   "id": "34cdbf4a",
   "metadata": {},
   "outputs": [],
   "source": []
  },
  {
   "cell_type": "markdown",
   "id": "954845f2",
   "metadata": {},
   "source": [
    "### changing str into tuple"
   ]
  },
  {
   "cell_type": "code",
   "execution_count": 6,
   "id": "9ee27ffc",
   "metadata": {},
   "outputs": [],
   "source": [
    "x='holyangles'"
   ]
  },
  {
   "cell_type": "code",
   "execution_count": 8,
   "id": "a8d6bd6a",
   "metadata": {},
   "outputs": [],
   "source": [
    "Y=x[0],x[1],x[2],x[3],x[4]"
   ]
  },
  {
   "cell_type": "code",
   "execution_count": 9,
   "id": "72ea50f7",
   "metadata": {},
   "outputs": [
    {
     "name": "stdout",
     "output_type": "stream",
     "text": [
      "('h', 'o', 'l', 'y', 'a')\n"
     ]
    }
   ],
   "source": [
    "print(Y)"
   ]
  },
  {
   "cell_type": "code",
   "execution_count": 11,
   "id": "7af619c2",
   "metadata": {},
   "outputs": [
    {
     "data": {
      "text/plain": [
       "tuple"
      ]
     },
     "execution_count": 11,
     "metadata": {},
     "output_type": "execute_result"
    }
   ],
   "source": [
    "type(Y)"
   ]
  },
  {
   "cell_type": "code",
   "execution_count": 14,
   "id": "291aab26",
   "metadata": {},
   "outputs": [],
   "source": [
    "L=Y[0],Y[1],Y[2],Y[3]"
   ]
  },
  {
   "cell_type": "code",
   "execution_count": 15,
   "id": "79c167cd",
   "metadata": {},
   "outputs": [
    {
     "name": "stdout",
     "output_type": "stream",
     "text": [
      "('h', 'o', 'l', 'y')\n"
     ]
    }
   ],
   "source": [
    "print(L)"
   ]
  },
  {
   "cell_type": "code",
   "execution_count": null,
   "id": "9090c2f8",
   "metadata": {},
   "outputs": [],
   "source": []
  },
  {
   "cell_type": "markdown",
   "id": "e9e1a73c",
   "metadata": {},
   "source": [
    "### membership"
   ]
  },
  {
   "cell_type": "code",
   "execution_count": 5,
   "id": "023996d8",
   "metadata": {},
   "outputs": [
    {
     "data": {
      "text/plain": [
       "True"
      ]
     },
     "execution_count": 5,
     "metadata": {},
     "output_type": "execute_result"
    }
   ],
   "source": [
    "'raj' in 'rajshree'"
   ]
  },
  {
   "cell_type": "code",
   "execution_count": 6,
   "id": "5b775163",
   "metadata": {},
   "outputs": [
    {
     "data": {
      "text/plain": [
       "False"
      ]
     },
     "execution_count": 6,
     "metadata": {},
     "output_type": "execute_result"
    }
   ],
   "source": [
    "'raju' in 'rajshree'"
   ]
  },
  {
   "cell_type": "code",
   "execution_count": null,
   "id": "074dcfac",
   "metadata": {},
   "outputs": [],
   "source": []
  },
  {
   "cell_type": "code",
   "execution_count": null,
   "id": "3ae949ae",
   "metadata": {},
   "outputs": [],
   "source": []
  },
  {
   "cell_type": "code",
   "execution_count": null,
   "id": "1fdafb8e",
   "metadata": {},
   "outputs": [],
   "source": []
  },
  {
   "cell_type": "code",
   "execution_count": null,
   "id": "818093a5",
   "metadata": {},
   "outputs": [],
   "source": []
  },
  {
   "cell_type": "markdown",
   "id": "0b747f73",
   "metadata": {},
   "source": [
    "# Integer\n",
    "  - IMMUTABLE"
   ]
  },
  {
   "cell_type": "markdown",
   "id": "77ccc3b1",
   "metadata": {},
   "source": [
    "# float\n",
    "  - IMMUTABLE"
   ]
  },
  {
   "cell_type": "markdown",
   "id": "e92fcc84",
   "metadata": {},
   "source": [
    "# Complex no.\n",
    "  \n",
    "   - IMMUTABLE\n",
    "   "
   ]
  },
  {
   "cell_type": "code",
   "execution_count": null,
   "id": "adef4980",
   "metadata": {},
   "outputs": [],
   "source": []
  }
 ],
 "metadata": {
  "kernelspec": {
   "display_name": "Python 3 (ipykernel)",
   "language": "python",
   "name": "python3"
  },
  "language_info": {
   "codemirror_mode": {
    "name": "ipython",
    "version": 3
   },
   "file_extension": ".py",
   "mimetype": "text/x-python",
   "name": "python",
   "nbconvert_exporter": "python",
   "pygments_lexer": "ipython3",
   "version": "3.11.7"
  }
 },
 "nbformat": 4,
 "nbformat_minor": 5
}
