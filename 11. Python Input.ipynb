{
 "cells": [
  {
   "cell_type": "markdown",
   "id": "c0c2d2f1",
   "metadata": {},
   "source": [
    "# python input:Take Input from user"
   ]
  },
  {
   "cell_type": "code",
   "execution_count": null,
   "id": "18b80a45",
   "metadata": {},
   "outputs": [],
   "source": [
    "input('Question of Mark Twain:')  # do not run it\n"
   ]
  },
  {
   "cell_type": "code",
   "execution_count": 1,
   "id": "5e7329f1",
   "metadata": {},
   "outputs": [
    {
     "name": "stdout",
     "output_type": "stream",
     "text": [
      "any integer5\n"
     ]
    },
    {
     "data": {
      "text/plain": [
       "'5'"
      ]
     },
     "execution_count": 1,
     "metadata": {},
     "output_type": "execute_result"
    }
   ],
   "source": [
    "input('any integer')\n"
   ]
  },
  {
   "cell_type": "code",
   "execution_count": 3,
   "id": "9359135e",
   "metadata": {},
   "outputs": [
    {
     "name": "stdout",
     "output_type": "stream",
     "text": [
      "enter my name:pawan\n"
     ]
    }
   ],
   "source": [
    "name=input('enter my name:')"
   ]
  },
  {
   "cell_type": "code",
   "execution_count": 4,
   "id": "dc6fa0ab",
   "metadata": {},
   "outputs": [
    {
     "name": "stdout",
     "output_type": "stream",
     "text": [
      "enter my namepawan\n"
     ]
    }
   ],
   "source": [
    "name=input('enter my name')"
   ]
  },
  {
   "cell_type": "code",
   "execution_count": 6,
   "id": "82f92f8e",
   "metadata": {},
   "outputs": [
    {
     "name": "stdout",
     "output_type": "stream",
     "text": [
      "enter a place:halwani\n"
     ]
    }
   ],
   "source": [
    "place=input('enter a place:')"
   ]
  },
  {
   "cell_type": "code",
   "execution_count": null,
   "id": "9091a192",
   "metadata": {},
   "outputs": [],
   "source": [
    "print(company=input('enter the comany'))\n",
    "print(salary= input('enter the salary'))"
   ]
  },
  {
   "cell_type": "code",
   "execution_count": 1,
   "id": "f7cb55f5",
   "metadata": {
    "scrolled": true
   },
   "outputs": [
    {
     "name": "stdout",
     "output_type": "stream",
     "text": [
      "enter employee name:pawan\n",
      "enter salary1\n",
      "enter company namex\n",
      "\n",
      "\n",
      "printing employee details\n",
      "name salary company\n",
      "pawan 1 x\n",
      "<class 'str'>\n"
     ]
    }
   ],
   "source": [
    "# take three values from user\n",
    "\n",
    "name=input('enter employee name:')\n",
    "salary=input('enter salary')\n",
    "company=input('enter company name')  # you have to enter three times after adding values\n",
    "\n",
    "\n",
    "# displays all values on screen \n",
    "\n",
    "\n",
    "print(\"\\n\")\n",
    "print(\"printing employee details\")\n",
    "print(\"name\",\"salary\",\"company\")\n",
    "print(name,salary,company)\n",
    "print(type(name))\n"
   ]
  },
  {
   "cell_type": "code",
   "execution_count": null,
   "id": "6b0939ae",
   "metadata": {},
   "outputs": [],
   "source": []
  },
  {
   "cell_type": "code",
   "execution_count": 2,
   "id": "a83b0a51",
   "metadata": {},
   "outputs": [
    {
     "name": "stdout",
     "output_type": "stream",
     "text": [
      "enter employee name:pawan\n",
      "enter salary1\n",
      "enter company namex\n",
      "\n",
      "\n",
      "printing employee details\n",
      "name salary company\n",
      "pawan 1 x\n",
      "<class 'str'>\n"
     ]
    }
   ],
   "source": [
    "name=input('enter employee name:')\n",
    "salary=input('enter salary')\n",
    "company=input('enter company name') \n",
    "\n",
    "\n",
    "# displays all values on screen \n",
    "\n",
    "\n",
    "print(\"printing employee details\")\n",
    "print(\"name\",\"salary\",\"company\")\n",
    "print(name,salary,company)\n",
    "print(type(name))\n",
    "\n"
   ]
  },
  {
   "cell_type": "code",
   "execution_count": null,
   "id": "b0bc8d13",
   "metadata": {},
   "outputs": [],
   "source": []
  },
  {
   "cell_type": "code",
   "execution_count": 17,
   "id": "d69ffc40",
   "metadata": {},
   "outputs": [
    {
     "name": "stdout",
     "output_type": "stream",
     "text": [
      "first no:123\n",
      "second no:456\n",
      "123456\n"
     ]
    },
    {
     "data": {
      "text/plain": [
       "str"
      ]
     },
     "execution_count": 17,
     "metadata": {},
     "output_type": "execute_result"
    }
   ],
   "source": [
    "first_no=input('first no:')\n",
    "second_no=input('second no:')\n",
    "\n",
    "sum1=first_no+ second_no\n",
    "print(sum1)\n",
    "type(sum1)"
   ]
  },
  {
   "cell_type": "code",
   "execution_count": 18,
   "id": "b20b714b",
   "metadata": {},
   "outputs": [
    {
     "name": "stdout",
     "output_type": "stream",
     "text": [
      "first no:123\n",
      "second no:456\n",
      "579\n"
     ]
    },
    {
     "data": {
      "text/plain": [
       "int"
      ]
     },
     "execution_count": 18,
     "metadata": {},
     "output_type": "execute_result"
    }
   ],
   "source": [
    "first_no=int(input('first no:'))\n",
    "second_no=int(input('second no:'))\n",
    "\n",
    "sum1=first_no+ second_no\n",
    "print(sum1)\n",
    "type(sum1)"
   ]
  },
  {
   "cell_type": "code",
   "execution_count": null,
   "id": "96a088dc",
   "metadata": {},
   "outputs": [],
   "source": []
  },
  {
   "cell_type": "code",
   "execution_count": 19,
   "id": "9e399a49",
   "metadata": {},
   "outputs": [
    {
     "name": "stdout",
     "output_type": "stream",
     "text": [
      "first no:123\n",
      "second no:456\n",
      "56088\n"
     ]
    },
    {
     "data": {
      "text/plain": [
       "int"
      ]
     },
     "execution_count": 19,
     "metadata": {},
     "output_type": "execute_result"
    }
   ],
   "source": [
    "first_no=int(input('first no:'))\n",
    "second_no=int(input('second no:'))\n",
    "\n",
    "sum1=first_no*second_no\n",
    "print(sum1)\n",
    "type(sum1)"
   ]
  },
  {
   "cell_type": "code",
   "execution_count": null,
   "id": "f2f18a81",
   "metadata": {},
   "outputs": [],
   "source": []
  },
  {
   "cell_type": "code",
   "execution_count": 20,
   "id": "a7b9fa6e",
   "metadata": {},
   "outputs": [
    {
     "name": "stdout",
     "output_type": "stream",
     "text": [
      "first no:123\n",
      "second no:456\n",
      "-333\n"
     ]
    },
    {
     "data": {
      "text/plain": [
       "int"
      ]
     },
     "execution_count": 20,
     "metadata": {},
     "output_type": "execute_result"
    }
   ],
   "source": [
    "first_no=int(input('first no:'))\n",
    "second_no=int(input('second no:'))\n",
    "\n",
    "sum1=first_no-second_no\n",
    "print(sum1)\n",
    "type(sum1)"
   ]
  },
  {
   "cell_type": "code",
   "execution_count": null,
   "id": "b5ad0708",
   "metadata": {},
   "outputs": [],
   "source": []
  },
  {
   "cell_type": "code",
   "execution_count": 1,
   "id": "03b72dba",
   "metadata": {},
   "outputs": [
    {
     "ename": "SyntaxError",
     "evalue": "invalid syntax (289506406.py, line 4)",
     "output_type": "error",
     "traceback": [
      "\u001b[1;36m  Cell \u001b[1;32mIn[1], line 4\u001b[1;36m\u001b[0m\n\u001b[1;33m    sum1=first_no+=second_no\u001b[0m\n\u001b[1;37m                 ^\u001b[0m\n\u001b[1;31mSyntaxError\u001b[0m\u001b[1;31m:\u001b[0m invalid syntax\n"
     ]
    }
   ],
   "source": [
    "first_no=int(input('first no:'))\n",
    "second_no=int(input('second no:'))\n",
    "\n",
    "sum1=first_no+=second_no\n",
    "print(sum1)\n",
    "type(sum1)"
   ]
  },
  {
   "cell_type": "code",
   "execution_count": null,
   "id": "b1579e0b",
   "metadata": {},
   "outputs": [],
   "source": []
  },
  {
   "cell_type": "code",
   "execution_count": 3,
   "id": "b40c149c",
   "metadata": {},
   "outputs": [
    {
     "name": "stdout",
     "output_type": "stream",
     "text": [
      "first no:123\n",
      "second no:456\n",
      "0.26973684210526316\n"
     ]
    },
    {
     "data": {
      "text/plain": [
       "float"
      ]
     },
     "execution_count": 3,
     "metadata": {},
     "output_type": "execute_result"
    }
   ],
   "source": [
    "first_no=int(input('first no:'))\n",
    "second_no=int(input('second no:'))\n",
    "\n",
    "sum1=first_no/second_no\n",
    "print(sum1)\n",
    "type(sum1)"
   ]
  },
  {
   "cell_type": "code",
   "execution_count": null,
   "id": "60e0a3f8",
   "metadata": {},
   "outputs": [],
   "source": []
  },
  {
   "cell_type": "code",
   "execution_count": 1,
   "id": "03443d20",
   "metadata": {},
   "outputs": [
    {
     "name": "stdout",
     "output_type": "stream",
     "text": [
      "first no:123\n",
      "second no:456\n",
      "123\n"
     ]
    },
    {
     "data": {
      "text/plain": [
       "int"
      ]
     },
     "execution_count": 1,
     "metadata": {},
     "output_type": "execute_result"
    }
   ],
   "source": [
    "first_no=int(input('first no:'))\n",
    "second_no=int(input('second no:'))\n",
    "\n",
    "sum1=first_no%second_no\n",
    "print(sum1)\n",
    "type(sum1)"
   ]
  },
  {
   "cell_type": "code",
   "execution_count": 2,
   "id": "7e3f37fa",
   "metadata": {},
   "outputs": [
    {
     "data": {
      "text/plain": [
       "123"
      ]
     },
     "execution_count": 2,
     "metadata": {},
     "output_type": "execute_result"
    }
   ],
   "source": [
    "123%456"
   ]
  },
  {
   "cell_type": "code",
   "execution_count": 2,
   "id": "e43a8a42",
   "metadata": {},
   "outputs": [
    {
     "name": "stdout",
     "output_type": "stream",
     "text": [
      "name of schooldav\n",
      "name of class7th\n",
      "strenght of 746\n"
     ]
    }
   ],
   "source": [
    "school=input('name of school')\n",
    "tclass = input('name of class')\n",
    "strenght=input('strenght of 7')\n",
    "\n"
   ]
  },
  {
   "cell_type": "code",
   "execution_count": 17,
   "id": "93fce3cc",
   "metadata": {},
   "outputs": [
    {
     "name": "stdout",
     "output_type": "stream",
     "text": [
      "enter the first no.4\n",
      "enter the second no.2\n",
      "\n",
      "\n",
      "4  *  2  =  8\n"
     ]
    }
   ],
   "source": [
    "number1=int(input('enter the first no.'))\n",
    "number2=int(input('enter the second no.'))\n",
    "table=number1*number2\n",
    "\n",
    "print(\"\\n\")\n",
    "print(number1,\" * \" ,number2, \" = \",number1*number2)\n"
   ]
  },
  {
   "cell_type": "code",
   "execution_count": 6,
   "id": "0f9da476",
   "metadata": {},
   "outputs": [
    {
     "name": "stdout",
     "output_type": "stream",
     "text": [
      "enter the no.4\n",
      "4 * 1 = 4\n",
      "4 * 2 = 8\n",
      "4 * 3 = 12\n",
      "4 * 4 = 16\n",
      "4 * 5 = 20\n",
      "4 * 6 = 24\n",
      "4 * 7 = 28\n",
      "4 * 8 = 32\n",
      "4 * 9 = 36\n",
      "4 * 10 = 40\n"
     ]
    }
   ],
   "source": [
    "x=int(input('enter the no.'))\n",
    "y=1,2,3,4,5,6,7,8,9,10\n",
    "\n",
    "for i in y:\n",
    "    print(x,'*',i,'=',x*i )"
   ]
  },
  {
   "cell_type": "code",
   "execution_count": null,
   "id": "17e7b977",
   "metadata": {},
   "outputs": [],
   "source": []
  }
 ],
 "metadata": {
  "kernelspec": {
   "display_name": "Python 3 (ipykernel)",
   "language": "python",
   "name": "python3"
  },
  "language_info": {
   "codemirror_mode": {
    "name": "ipython",
    "version": 3
   },
   "file_extension": ".py",
   "mimetype": "text/x-python",
   "name": "python",
   "nbconvert_exporter": "python",
   "pygments_lexer": "ipython3",
   "version": "3.11.3"
  }
 },
 "nbformat": 4,
 "nbformat_minor": 5
}
