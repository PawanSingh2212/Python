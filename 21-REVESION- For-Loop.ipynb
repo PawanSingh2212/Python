{
 "cells": [
  {
   "cell_type": "markdown",
   "id": "45d79240",
   "metadata": {},
   "source": [
    "# Finding index of same occurance"
   ]
  },
  {
   "cell_type": "code",
   "execution_count": 1,
   "id": "94802a9f",
   "metadata": {},
   "outputs": [
    {
     "name": "stdout",
     "output_type": "stream",
     "text": [
      "2\n",
      "2\n",
      "2\n"
     ]
    }
   ],
   "source": [
    "a=[2,3,1,4,4,1,1,]\n",
    "\n",
    "print(a.index(1))\n",
    "print(a.index(1))\n",
    "print(a.index(1))"
   ]
  },
  {
   "cell_type": "code",
   "execution_count": 2,
   "id": "d351d4f2",
   "metadata": {},
   "outputs": [
    {
     "name": "stdout",
     "output_type": "stream",
     "text": [
      "2\n",
      "2\n",
      "2\n"
     ]
    }
   ],
   "source": [
    "a=[2,3,1,4,4,1,1,]\n",
    "\n",
    "for i in a:\n",
    "    if i==1:\n",
    "        print(a.index(1))"
   ]
  },
  {
   "cell_type": "code",
   "execution_count": 6,
   "id": "cc47e509",
   "metadata": {},
   "outputs": [
    {
     "name": "stdout",
     "output_type": "stream",
     "text": [
      "1\n",
      "1\n"
     ]
    }
   ],
   "source": [
    "a=[2,3,1,4,4,1,1,]\n",
    "\n",
    "print(a[a.index(1)])\n",
    "print(a[])"
   ]
  },
  {
   "cell_type": "code",
   "execution_count": null,
   "id": "b6bb641a",
   "metadata": {},
   "outputs": [],
   "source": []
  },
  {
   "cell_type": "code",
   "execution_count": 3,
   "id": "fe46f42c",
   "metadata": {},
   "outputs": [
    {
     "name": "stdout",
     "output_type": "stream",
     "text": [
      "2\n",
      "5\n",
      "6\n"
     ]
    }
   ],
   "source": [
    "a=[2,3,1,4,4,1,1,]\n",
    "print(a.index(1))\n",
    "\n",
    "a[a.index(1)]='0'\n",
    "print(a.index(1))\n",
    "\n",
    "a[a.index(1)]='0'\n",
    "print(a.index(1))\n"
   ]
  },
  {
   "cell_type": "code",
   "execution_count": 19,
   "id": "c7dca2e2",
   "metadata": {},
   "outputs": [
    {
     "name": "stdout",
     "output_type": "stream",
     "text": [
      "2\n",
      "5\n",
      "6\n",
      "[2, 3, 1, 4, 4, 1, 1]\n"
     ]
    }
   ],
   "source": [
    "a=[2,3,1,4,4,1,1,]\n",
    "\n",
    "for i in a:\n",
    "    if i==1:\n",
    "        print(a.index(i))\n",
    "        a[a.index(i)]='0'\n",
    "\n",
    "for i in a:\n",
    "    if i=='0':\n",
    "        a[a.index(i)]=1\n",
    "print(a)        \n",
    "    "
   ]
  },
  {
   "cell_type": "code",
   "execution_count": null,
   "id": "90a6eda2",
   "metadata": {},
   "outputs": [],
   "source": []
  },
  {
   "cell_type": "code",
   "execution_count": 21,
   "id": "4d20b0eb",
   "metadata": {},
   "outputs": [
    {
     "name": "stdout",
     "output_type": "stream",
     "text": [
      "2\n",
      "5\n",
      "6\n"
     ]
    },
    {
     "ename": "TypeError",
     "evalue": "list indices must be integers or slices, not str",
     "output_type": "error",
     "traceback": [
      "\u001b[1;31m---------------------------------------------------------------------------\u001b[0m",
      "\u001b[1;31mTypeError\u001b[0m                                 Traceback (most recent call last)",
      "Cell \u001b[1;32mIn[21], line 10\u001b[0m\n\u001b[0;32m      8\u001b[0m \u001b[38;5;28;01mfor\u001b[39;00m i \u001b[38;5;129;01min\u001b[39;00m a:\n\u001b[0;32m      9\u001b[0m     \u001b[38;5;28;01mif\u001b[39;00m i\u001b[38;5;241m==\u001b[39m\u001b[38;5;124m'\u001b[39m\u001b[38;5;124m0\u001b[39m\u001b[38;5;124m'\u001b[39m:\n\u001b[1;32m---> 10\u001b[0m         a[i]\u001b[38;5;241m==\u001b[39m\u001b[38;5;241m1\u001b[39m\n\u001b[0;32m     11\u001b[0m \u001b[38;5;28mprint\u001b[39m(a)\n",
      "\u001b[1;31mTypeError\u001b[0m: list indices must be integers or slices, not str"
     ]
    }
   ],
   "source": [
    "a=[2,3,1,4,4,1,1,]\n",
    "\n",
    "for i in a:\n",
    "    if i==1:\n",
    "        print(a.index(i))\n",
    "        a[a.index(i)]='0'\n",
    "\n",
    "for i in a:\n",
    "    if i=='0':\n",
    "        a[i]==1\n",
    "print(a)        "
   ]
  },
  {
   "cell_type": "code",
   "execution_count": null,
   "id": "d86948bb",
   "metadata": {},
   "outputs": [],
   "source": []
  },
  {
   "cell_type": "code",
   "execution_count": null,
   "id": "f9ee84f2",
   "metadata": {},
   "outputs": [],
   "source": []
  },
  {
   "cell_type": "code",
   "execution_count": 24,
   "id": "1dee3a55",
   "metadata": {},
   "outputs": [
    {
     "name": "stdout",
     "output_type": "stream",
     "text": [
      "[1, 2, 3, 4, 5, 7, 8, 10, 23, 34, 57]\n"
     ]
    }
   ],
   "source": [
    "a=[1,1,1,1,1,2,2,3,3,4,5,5,2,34,2,3,3,4,7,8,5,4,10,57,23]\n",
    "integer=sorted(set(a))\n",
    "print(integer)"
   ]
  },
  {
   "cell_type": "code",
   "execution_count": 27,
   "id": "451ce0fd",
   "metadata": {},
   "outputs": [
    {
     "name": "stdout",
     "output_type": "stream",
     "text": [
      "[1, 2, 3, 4, 5, 34, 7, 8, 10, 23, 57]\n"
     ]
    }
   ],
   "source": [
    "a=[1,1,1,1,1,2,2,3,3,4,5,5,2,34,2,3,3,4,7,8,5,4,10,57,23]\n",
    "integer=list(set(a))\n",
    "print(integer)"
   ]
  },
  {
   "cell_type": "code",
   "execution_count": 28,
   "id": "7abeea20",
   "metadata": {},
   "outputs": [
    {
     "name": "stdout",
     "output_type": "stream",
     "text": [
      "[1, 2, 3, 4, 5, 34, 7, 8, 10, 23, 57]\n"
     ]
    }
   ],
   "source": [
    "a=[1,1,1,1,1,2,2,3,3,4,5,5,2,34,2,3,3,4,7,8,5,4,10,57,23]\n",
    "integer=list(set(a))\n",
    "print(integer)"
   ]
  },
  {
   "cell_type": "code",
   "execution_count": null,
   "id": "8205d413",
   "metadata": {},
   "outputs": [],
   "source": []
  },
  {
   "cell_type": "markdown",
   "id": "f7884da0",
   "metadata": {},
   "source": [
    "# Separating repeating and single items "
   ]
  },
  {
   "cell_type": "code",
   "execution_count": 40,
   "id": "70b33b3f",
   "metadata": {},
   "outputs": [
    {
     "name": "stdout",
     "output_type": "stream",
     "text": [
      "[34, 7, 8, 10, 23, 57]\n",
      "[1, 2, 3, 4, 5]\n"
     ]
    }
   ],
   "source": [
    "a=[1,1,1,1,1,2,2,3,3,4,5,5,2,34,2,3,3,4,7,8,5,4,10,57,23]\n",
    "integer=list(set(a))\n",
    "recur=[]\n",
    "single=[]\n",
    "for i in integer:\n",
    "    if a.count(i)>1:\n",
    "        recur.append(i)\n",
    "    else:\n",
    "        single.append(i)\n",
    "        \n",
    "print(single)\n",
    "print(recur)"
   ]
  },
  {
   "cell_type": "code",
   "execution_count": null,
   "id": "cfabcebc",
   "metadata": {},
   "outputs": [],
   "source": []
  },
  {
   "cell_type": "code",
   "execution_count": 42,
   "id": "2477c1e9",
   "metadata": {},
   "outputs": [
    {
     "name": "stdout",
     "output_type": "stream",
     "text": [
      "[34, 7, 8, 10, 23, 57]\n",
      "[1, 2, 3, 4, 5]\n"
     ]
    }
   ],
   "source": [
    "a=[1,1,1,1,1,2,2,3,3,4,5,5,2,34,2,3,3,4,7,8,5,4,10,57,23]\n",
    "recur=[]\n",
    "single=[]\n",
    "for i in set(a):\n",
    "    if a.count(i)>1:\n",
    "        recur.append(i)\n",
    "    else:\n",
    "        single.append(i)\n",
    "        \n",
    "print(single)\n",
    "print(recur)"
   ]
  },
  {
   "cell_type": "code",
   "execution_count": null,
   "id": "b48082fb",
   "metadata": {},
   "outputs": [],
   "source": []
  },
  {
   "cell_type": "code",
   "execution_count": 43,
   "id": "9b09f802",
   "metadata": {},
   "outputs": [
    {
     "name": "stdout",
     "output_type": "stream",
     "text": [
      "[34, 7, 8, 10, 57, 23]\n",
      "[1, 1, 1, 1, 1, 2, 2, 3, 3, 4, 5, 5, 2, 2, 3, 3, 4, 5, 4]\n"
     ]
    }
   ],
   "source": [
    "a=[1,1,1,1,1,2,2,3,3,4,5,5,2,34,2,3,3,4,7,8,5,4,10,57,23]\n",
    "recur=[]\n",
    "single=[]\n",
    "for i in a:\n",
    "    if a.count(i)>1:\n",
    "        recur.append(i)\n",
    "    else:\n",
    "        single.append(i)\n",
    "        \n",
    "print(single)\n",
    "print(recur)"
   ]
  },
  {
   "cell_type": "code",
   "execution_count": null,
   "id": "6ea36344",
   "metadata": {},
   "outputs": [],
   "source": []
  },
  {
   "cell_type": "code",
   "execution_count": null,
   "id": "6a5ee209",
   "metadata": {},
   "outputs": [],
   "source": []
  },
  {
   "cell_type": "code",
   "execution_count": null,
   "id": "e7610830",
   "metadata": {},
   "outputs": [],
   "source": []
  },
  {
   "cell_type": "code",
   "execution_count": 39,
   "id": "0e7e6caa",
   "metadata": {},
   "outputs": [
    {
     "name": "stdout",
     "output_type": "stream",
     "text": [
      "[1, 1, 1, 1, 1]\n",
      "[2, 2, 3, 3, 4, 5, 5, 2, 34, 2, 3, 3, 4, 7, 8, 5, 4, 10, 57, 23]\n"
     ]
    }
   ],
   "source": [
    "a=[1,1,1,1,1,2,2,3,3,4,5,5,2,34,2,3,3,4,7,8,5,4,10,57,23]\n",
    "\n",
    "recur=[]\n",
    "single=[]\n",
    "\n",
    "for i in a:\n",
    "    if i==1:\n",
    "        recur.append(i)\n",
    "        i=='0'\n",
    "    else:\n",
    "        i!=1\n",
    "        single.append(i)\n",
    "print(recur) \n",
    "print(single)"
   ]
  },
  {
   "cell_type": "code",
   "execution_count": null,
   "id": "f0c0c497",
   "metadata": {},
   "outputs": [],
   "source": []
  },
  {
   "cell_type": "markdown",
   "id": "ddd6e303",
   "metadata": {},
   "source": [
    "### Q- make a programe to calculate the total numbers of iteration fro each  string occuring times\n",
    "\n",
    "['a', 'a', 'a', 'a', 'a', 'a', 'a', 'a', 'a', 'a', 'b', 'b', 'b', 'b', 'b', 'b', 'b', 'b', 'b', 'b', 'b', 'b', 'b', 'b', 'b', 'c', 'c', 'c', 'c', 'c', 'd', 'd', 'd', 'd', 'd', 'd', 'd', 'd', 'd', 'd', 'd', 'd', 'd', 'd', 'd', 'd', 'd', 'd', 'd', 'd', 'd', 'd', 'd', 'd', 'd']"
   ]
  },
  {
   "cell_type": "code",
   "execution_count": 44,
   "id": "861f1fd7",
   "metadata": {},
   "outputs": [
    {
     "name": "stdout",
     "output_type": "stream",
     "text": [
      "['a', 'a', 'a', 'a', 'a', 'a', 'a', 'a', 'a', 'a', 'b', 'b', 'b', 'b', 'b', 'b', 'b', 'b', 'b', 'b', 'b', 'b', 'b', 'b', 'b', 'c', 'c', 'c', 'c', 'c', 'd', 'd', 'd', 'd', 'd', 'd', 'd', 'd', 'd', 'd', 'd', 'd', 'd', 'd', 'd', 'd', 'd', 'd', 'd', 'd', 'd', 'd', 'd', 'd', 'd']\n"
     ]
    }
   ],
   "source": [
    "a=[]\n",
    "a.extend('a'*10)\n",
    "a.extend('b'*15)\n",
    "a.extend('c'*5)\n",
    "a.extend('d'*25)\n",
    "\n",
    "print(a)"
   ]
  },
  {
   "cell_type": "code",
   "execution_count": null,
   "id": "c42d4d39",
   "metadata": {},
   "outputs": [],
   "source": []
  },
  {
   "cell_type": "code",
   "execution_count": null,
   "id": "57daeba4",
   "metadata": {},
   "outputs": [],
   "source": []
  },
  {
   "cell_type": "code",
   "execution_count": null,
   "id": "39d947c9",
   "metadata": {},
   "outputs": [],
   "source": []
  },
  {
   "cell_type": "code",
   "execution_count": null,
   "id": "b6287560",
   "metadata": {},
   "outputs": [],
   "source": []
  },
  {
   "cell_type": "code",
   "execution_count": null,
   "id": "f8ea2185",
   "metadata": {},
   "outputs": [],
   "source": []
  },
  {
   "cell_type": "code",
   "execution_count": null,
   "id": "f973544f",
   "metadata": {},
   "outputs": [],
   "source": []
  },
  {
   "cell_type": "code",
   "execution_count": null,
   "id": "a93a1492",
   "metadata": {},
   "outputs": [],
   "source": []
  }
 ],
 "metadata": {
  "kernelspec": {
   "display_name": "Python 3 (ipykernel)",
   "language": "python",
   "name": "python3"
  },
  "language_info": {
   "codemirror_mode": {
    "name": "ipython",
    "version": 3
   },
   "file_extension": ".py",
   "mimetype": "text/x-python",
   "name": "python",
   "nbconvert_exporter": "python",
   "pygments_lexer": "ipython3",
   "version": "3.11.3"
  }
 },
 "nbformat": 4,
 "nbformat_minor": 5
}
