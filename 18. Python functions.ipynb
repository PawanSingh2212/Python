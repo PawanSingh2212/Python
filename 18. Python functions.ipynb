{
 "cells": [
  {
   "cell_type": "markdown",
   "id": "0f7498f7",
   "metadata": {},
   "source": [
    "# Python functions\n",
    "\n",
    "In Python, a function is a block of code defined with a name. We use function whenever we need to perform the same task multiple times  without writing the same code again. It can take arguments and returns the value\n",
    "\n",
    "Python has a DRY principle like other  programming language. DRY stands don't for Repeat Yourself. Consider a scenario where we need to do some action/task many times .We can define that action only once using a function and call that function whenever required to do tha same activity\n",
    "\n",
    "Function improves efficency and reduces errors because of the reusability of a code.Once we create a function. we can call it anywhere and anytime.The benefit of the using a function is  reusability and modularity "
   ]
  },
  {
   "cell_type": "markdown",
   "id": "e41e50b2",
   "metadata": {},
   "source": [
    "### Types for function in python"
   ]
  },
  {
   "cell_type": "markdown",
   "id": "0c5fb978",
   "metadata": {},
   "source": [
    "- Built-in-funtion-- range(),id(),type(),input(),len(),etc\n",
    "\n",
    "- User defined funtions- are created by programmer explicitly according to the requirement "
   ]
  },
  {
   "cell_type": "markdown",
   "id": "d323ee31",
   "metadata": {},
   "source": [
    "#### Creating a function\n",
    "\n",
    "- Use the def keyword with the function name to define a function\n",
    "- Next, pass the number of parameters as per your requirement(optional)\n",
    "- Next, define the function body with a block of code. This block of code is nothing but the action you wanted to perform\n",
    "- In Python , no need to specify  curly braces for the function body. The only  indentation is essential  to separate code blocks. Otherwise you will get an error"
   ]
  },
  {
   "cell_type": "code",
   "execution_count": 21,
   "id": "79b6ef4e",
   "metadata": {},
   "outputs": [
    {
     "name": "stdout",
     "output_type": "stream",
     "text": [
      "addition: 25\n"
     ]
    }
   ],
   "source": [
    "# function\n",
    "def add(a,b):\n",
    "    x= a + b\n",
    "    #return the addtion\n",
    "    return x\n",
    "# call function \n",
    "# take return value in variable\n",
    "res= add(20,5)\n",
    "\n",
    "print('addition:', res)\n",
    "# output Addition:25\n"
   ]
  },
  {
   "cell_type": "code",
   "execution_count": 25,
   "id": "41d771d3",
   "metadata": {},
   "outputs": [
    {
     "name": "stdout",
     "output_type": "stream",
     "text": [
      "subtraction 15\n"
     ]
    }
   ],
   "source": [
    "def sub(a,b):\n",
    "    y=a-b\n",
    "    return y\n",
    "cus=sub(20,5)\n",
    "print('subtraction',cus)"
   ]
  },
  {
   "cell_type": "code",
   "execution_count": 26,
   "id": "eca83e53",
   "metadata": {},
   "outputs": [
    {
     "data": {
      "text/plain": [
       "50"
      ]
     },
     "execution_count": 26,
     "metadata": {},
     "output_type": "execute_result"
    }
   ],
   "source": [
    "sub(100,50)"
   ]
  },
  {
   "cell_type": "code",
   "execution_count": 1,
   "id": "33dbaee4",
   "metadata": {},
   "outputs": [
    {
     "name": "stdout",
     "output_type": "stream",
     "text": [
      "Answer 50\n"
     ]
    }
   ],
   "source": [
    "def floor(i,c):\n",
    "    v=i//c\n",
    "    return v\n",
    "    \n",
    "fl=floor(100,2)\n",
    "print('Answer',fl)"
   ]
  },
  {
   "cell_type": "code",
   "execution_count": 33,
   "id": "46ef83da",
   "metadata": {},
   "outputs": [
    {
     "data": {
      "text/plain": [
       "5.0"
      ]
     },
     "execution_count": 33,
     "metadata": {},
     "output_type": "execute_result"
    }
   ],
   "source": [
    "floor(10,2)"
   ]
  },
  {
   "cell_type": "code",
   "execution_count": 38,
   "id": "9527ccf2",
   "metadata": {},
   "outputs": [
    {
     "data": {
      "text/plain": [
       "70"
      ]
     },
     "execution_count": 38,
     "metadata": {},
     "output_type": "execute_result"
    }
   ],
   "source": [
    "add(30,40)"
   ]
  },
  {
   "cell_type": "code",
   "execution_count": 37,
   "id": "b9d9572a",
   "metadata": {},
   "outputs": [
    {
     "data": {
      "text/plain": [
       "6.6"
      ]
     },
     "execution_count": 37,
     "metadata": {},
     "output_type": "execute_result"
    }
   ],
   "source": [
    "add(30,40)\n",
    "add(3.3,3.3)"
   ]
  },
  {
   "cell_type": "code",
   "execution_count": 41,
   "id": "59c10102",
   "metadata": {},
   "outputs": [
    {
     "name": "stdout",
     "output_type": "stream",
     "text": [
      "-40\n"
     ]
    }
   ],
   "source": [
    "def paw(a,b,c):\n",
    "    x=a-b-c\n",
    "    return x\n",
    "ser=paw(10,20,30)\n",
    "print(ser)"
   ]
  },
  {
   "cell_type": "code",
   "execution_count": 42,
   "id": "b39a9aa1",
   "metadata": {},
   "outputs": [
    {
     "name": "stdout",
     "output_type": "stream",
     "text": [
      "60\n"
     ]
    }
   ],
   "source": [
    "def paw(a,b,c):\n",
    "    x=a+b+c\n",
    "    return x\n",
    "er=paw(10,20,30)\n",
    "print(er)"
   ]
  },
  {
   "cell_type": "code",
   "execution_count": 48,
   "id": "bd45193e",
   "metadata": {},
   "outputs": [
    {
     "name": "stdout",
     "output_type": "stream",
     "text": [
      "-22\n"
     ]
    }
   ],
   "source": [
    "def add(a,b):\n",
    "    x= a - b\n",
    "    return x\n",
    "dr=add(12,34)\n",
    "print(dr)"
   ]
  },
  {
   "cell_type": "code",
   "execution_count": 49,
   "id": "845fe475",
   "metadata": {},
   "outputs": [
    {
     "data": {
      "text/plain": [
       "-2"
      ]
     },
     "execution_count": 49,
     "metadata": {},
     "output_type": "execute_result"
    }
   ],
   "source": [
    "add(10,12)"
   ]
  },
  {
   "cell_type": "code",
   "execution_count": 50,
   "id": "56832f51",
   "metadata": {},
   "outputs": [
    {
     "data": {
      "text/plain": [
       "-2"
      ]
     },
     "execution_count": 50,
     "metadata": {},
     "output_type": "execute_result"
    }
   ],
   "source": [
    "add(10,12)"
   ]
  },
  {
   "cell_type": "code",
   "execution_count": 1,
   "id": "fa0cdf20",
   "metadata": {},
   "outputs": [
    {
     "ename": "TypeError",
     "evalue": "mult() missing 1 required positional argument: 'c'",
     "output_type": "error",
     "traceback": [
      "\u001b[1;31m---------------------------------------------------------------------------\u001b[0m",
      "\u001b[1;31mTypeError\u001b[0m                                 Traceback (most recent call last)",
      "Cell \u001b[1;32mIn[1], line 4\u001b[0m\n\u001b[0;32m      2\u001b[0m     v\u001b[38;5;241m=\u001b[39ma\u001b[38;5;241m*\u001b[39mb\u001b[38;5;241m*\u001b[39mc\n\u001b[0;32m      3\u001b[0m     \u001b[38;5;28;01mreturn\u001b[39;00m v\n\u001b[1;32m----> 4\u001b[0m x\u001b[38;5;241m=\u001b[39mmult(\u001b[38;5;241m20\u001b[39m,\u001b[38;5;241m10\u001b[39m)\n\u001b[0;32m      5\u001b[0m \u001b[38;5;28mprint\u001b[39m(x)\n",
      "\u001b[1;31mTypeError\u001b[0m: mult() missing 1 required positional argument: 'c'"
     ]
    }
   ],
   "source": [
    "def mult(a,b,c,):\n",
    "    v=a*b*c\n",
    "    return v\n",
    "x=mult(20,10)\n",
    "print(x)"
   ]
  },
  {
   "cell_type": "markdown",
   "id": "18ae5f5a",
   "metadata": {},
   "source": [
    "### wihtout returning variable"
   ]
  },
  {
   "cell_type": "code",
   "execution_count": 3,
   "id": "3a8fbcc5",
   "metadata": {},
   "outputs": [
    {
     "name": "stdout",
     "output_type": "stream",
     "text": [
      "1\n"
     ]
    }
   ],
   "source": [
    "def sub(a,b):\n",
    "    print(a-b)\n",
    "sub(3,2)"
   ]
  },
  {
   "cell_type": "code",
   "execution_count": 2,
   "id": "08055436",
   "metadata": {},
   "outputs": [
    {
     "name": "stdout",
     "output_type": "stream",
     "text": [
      "100\n"
     ]
    }
   ],
   "source": [
    "def lat(a,b,c,d):\n",
    "    print(a+b+c+d)\n",
    "lat(10,20,30,40)"
   ]
  },
  {
   "cell_type": "code",
   "execution_count": null,
   "id": "2d2261c4",
   "metadata": {},
   "outputs": [],
   "source": []
  },
  {
   "cell_type": "markdown",
   "id": "ca00dafb",
   "metadata": {},
   "source": [
    "### Without print()"
   ]
  },
  {
   "cell_type": "code",
   "execution_count": 4,
   "id": "690eb168",
   "metadata": {},
   "outputs": [
    {
     "data": {
      "text/plain": [
       "70"
      ]
     },
     "execution_count": 4,
     "metadata": {},
     "output_type": "execute_result"
    }
   ],
   "source": [
    "def long(a,b,c,d):\n",
    "    return(a+b+c-d)\n",
    "long(12,23,45,10)"
   ]
  },
  {
   "cell_type": "code",
   "execution_count": 1,
   "id": "3f5ca1b2",
   "metadata": {},
   "outputs": [
    {
     "data": {
      "text/plain": [
       "-1"
      ]
     },
     "execution_count": 1,
     "metadata": {},
     "output_type": "execute_result"
    }
   ],
   "source": [
    "def sub(a,b):\n",
    "    return(a-b)\n",
    "sub(3,4)"
   ]
  },
  {
   "cell_type": "code",
   "execution_count": null,
   "id": "5eb48380",
   "metadata": {},
   "outputs": [],
   "source": []
  },
  {
   "cell_type": "markdown",
   "id": "39ee8a31",
   "metadata": {},
   "source": [
    "### Fuction without parameter"
   ]
  },
  {
   "cell_type": "code",
   "execution_count": 2,
   "id": "2e5f6c6c",
   "metadata": {},
   "outputs": [
    {
     "name": "stdout",
     "output_type": "stream",
     "text": [
      "welcome to VijAi\n"
     ]
    }
   ],
   "source": [
    "# func without parameter and expression will have no return\n",
    "\n",
    "def message():\n",
    "    print('welcome to VijAi') # no output without calling teh function\n",
    "    \n",
    "# call the function using its name\n",
    "message()"
   ]
  },
  {
   "cell_type": "code",
   "execution_count": 1,
   "id": "611795cf",
   "metadata": {},
   "outputs": [],
   "source": [
    "def message():\n",
    "    print('welcome to VijAi')\n",
    "    \n",
    "# do not depends on print function"
   ]
  },
  {
   "cell_type": "markdown",
   "id": "cb0f40ab",
   "metadata": {},
   "source": [
    "### Creating a function with parameters"
   ]
  },
  {
   "cell_type": "code",
   "execution_count": 4,
   "id": "a36f0fe7",
   "metadata": {},
   "outputs": [
    {
     "name": "stdout",
     "output_type": "stream",
     "text": [
      "hello vidushi Welcome to VijAi\n",
      "your course name is  Python\n"
     ]
    }
   ],
   "source": [
    "def course_func(name,course_name):\n",
    "    print('hello', name, 'Welcome to VijAi')\n",
    "    print('your course name is ', course_name)\n",
    "    \n",
    "course_func('vidushi',\"Python\")"
   ]
  },
  {
   "cell_type": "markdown",
   "id": "5b302107",
   "metadata": {},
   "source": [
    "### Creating a function with parameters and return value\n",
    "\n",
    "fuction can return a value. The value is the output of the function. Use the return keyword to return value from a fucntion"
   ]
  },
  {
   "cell_type": "code",
   "execution_count": 5,
   "id": "2ee3076a",
   "metadata": {},
   "outputs": [
    {
     "name": "stdout",
     "output_type": "stream",
     "text": [
      "Addition: 25\n"
     ]
    }
   ],
   "source": [
    "def calculator(a,b):\n",
    "    add= a + b\n",
    "    # return the addtion\n",
    "    return add  \n",
    "\n",
    "# call the function\n",
    "# take return value in variable\n",
    "res=calculator(20,5)\n",
    "\n",
    "print('Addition:',res)\n",
    "# output Addition:25\n",
    "\n",
    "    "
   ]
  },
  {
   "cell_type": "code",
   "execution_count": 6,
   "id": "fee1fbcb",
   "metadata": {},
   "outputs": [
    {
     "name": "stdout",
     "output_type": "stream",
     "text": [
      "Addition: None\n"
     ]
    }
   ],
   "source": [
    "def calculator(a,b):\n",
    "    add= a + b\n",
    "    # return the addtion\n",
    "    return \n",
    "\n",
    "# call the function\n",
    "# take return value in variable\n",
    "res=calculator(20,5)\n",
    "\n",
    "print('Addition:',res)\n",
    "# output Addition:25\n",
    "\n",
    "    "
   ]
  },
  {
   "cell_type": "code",
   "execution_count": null,
   "id": "64ffc783",
   "metadata": {},
   "outputs": [],
   "source": []
  },
  {
   "cell_type": "code",
   "execution_count": 5,
   "id": "804e9460",
   "metadata": {},
   "outputs": [
    {
     "name": "stdout",
     "output_type": "stream",
     "text": [
      "24\n",
      "120\n"
     ]
    }
   ],
   "source": [
    "def cal(a,b):\n",
    "    x=a+b\n",
    "    return x\n",
    "no=cal(12,12)\n",
    "print(no)\n",
    "\n",
    "def cal(a,b):   \n",
    "    y=a*b\n",
    "    return y\n",
    "no=cal(10,12)\n",
    "print(no)\n",
    "\n",
    "    "
   ]
  },
  {
   "cell_type": "code",
   "execution_count": null,
   "id": "047ead6d",
   "metadata": {},
   "outputs": [],
   "source": []
  },
  {
   "cell_type": "code",
   "execution_count": 3,
   "id": "d459f6d8",
   "metadata": {},
   "outputs": [
    {
     "name": "stdout",
     "output_type": "stream",
     "text": [
      "enter the no.23\n",
      "it is a odd number\n"
     ]
    }
   ],
   "source": [
    "def find_even_odd(num):\n",
    "    if num%2==0:\n",
    "        print('it is an even number')\n",
    "    else:\n",
    "        print('it is a odd number')\n",
    "result=find_even_odd(int(input('enter the no.')))"
   ]
  },
  {
   "cell_type": "code",
   "execution_count": null,
   "id": "87ce158a",
   "metadata": {},
   "outputs": [],
   "source": []
  },
  {
   "cell_type": "code",
   "execution_count": 1,
   "id": "8c39f9b7",
   "metadata": {},
   "outputs": [
    {
     "name": "stdout",
     "output_type": "stream",
     "text": [
      "Even numbers are: [2, 42, 62, 70]\n"
     ]
    }
   ],
   "source": [
    "# list set dictionary can be the parameter of a function\n",
    "\n",
    "def is_even(list1):\n",
    "    even_num=[]\n",
    "    for n in list1:\n",
    "        if n%2==0:\n",
    "            even_num.append(n)\n",
    "        # retrun a list\n",
    "    return even_num\n",
    "\n",
    "# pass list to the function\n",
    "even_num= is_even([2,3,42,51,62,70,5,9])\n",
    "print('Even numbers are:', even_num)"
   ]
  },
  {
   "cell_type": "code",
   "execution_count": null,
   "id": "51a6593e",
   "metadata": {},
   "outputs": [],
   "source": []
  },
  {
   "cell_type": "code",
   "execution_count": 4,
   "id": "c571145e",
   "metadata": {},
   "outputs": [
    {
     "name": "stdout",
     "output_type": "stream",
     "text": [
      "[12, 34, 54, 234]\n"
     ]
    }
   ],
   "source": [
    "def ev(a):\n",
    "    ev_num=[]  # here it is a local  variable \n",
    "    for i in a:\n",
    "        if i%2==0:\n",
    "            ev_num.append(i)\n",
    "    print(ev_num)\n",
    "    \n",
    "ex=ev([12,34,54,234,45])"
   ]
  },
  {
   "cell_type": "code",
   "execution_count": null,
   "id": "a5673da8",
   "metadata": {},
   "outputs": [],
   "source": []
  },
  {
   "cell_type": "code",
   "execution_count": 3,
   "id": "a7795cf5",
   "metadata": {},
   "outputs": [
    {
     "name": "stdout",
     "output_type": "stream",
     "text": [
      "[12, 34, 54, 234]\n"
     ]
    }
   ],
   "source": [
    "ev_num=[] # here it is a global variable\n",
    "def ev(a):\n",
    "    for i in a:\n",
    "        if i%2==0:\n",
    "            ev_num.append(i)\n",
    "  \n",
    "    \n",
    "ex=ev([12,34,54,234,45])\n",
    "print(ev_num)"
   ]
  },
  {
   "cell_type": "code",
   "execution_count": null,
   "id": "b1fc6549",
   "metadata": {},
   "outputs": [],
   "source": []
  },
  {
   "cell_type": "code",
   "execution_count": 2,
   "id": "852115cb",
   "metadata": {},
   "outputs": [
    {
     "name": "stdout",
     "output_type": "stream",
     "text": [
      "addition 24\n",
      "sub 16\n",
      "mul 80\n",
      "div 5.0\n"
     ]
    }
   ],
   "source": [
    "def calculator(x,y):\n",
    "    add=x+y\n",
    "    sub=x-y\n",
    "    mul=x*y\n",
    "    div=x/y\n",
    "    return add,sub,mul,div\n",
    "a,b,c,d=calculator(20,4)\n",
    "print('addition',a)\n",
    "print('sub',b)\n",
    "print('mul',c)\n",
    "print('div',d)"
   ]
  },
  {
   "cell_type": "code",
   "execution_count": null,
   "id": "ba403679",
   "metadata": {},
   "outputs": [],
   "source": []
  },
  {
   "cell_type": "code",
   "execution_count": null,
   "id": "fd1ff2c0",
   "metadata": {},
   "outputs": [],
   "source": []
  },
  {
   "cell_type": "code",
   "execution_count": null,
   "id": "a3c190bb",
   "metadata": {},
   "outputs": [],
   "source": []
  },
  {
   "cell_type": "markdown",
   "id": "795f3836",
   "metadata": {},
   "source": [
    "## Scope and lifetime of variables \n",
    "when we define a fucntion with variables, then those variable scope is limited to that fucntion in python, the scope of a variable is an area where a variable is declared .It is called the variable's local scope\n",
    "\n",
    "we cannot access the local variable from outside of the function .because the scope is local , those variable are not visible from the out side of the function."
   ]
  },
  {
   "cell_type": "code",
   "execution_count": 5,
   "id": "b99714d2",
   "metadata": {},
   "outputs": [
    {
     "name": "stdout",
     "output_type": "stream",
     "text": [
      "python\n",
      "dataScience\n"
     ]
    },
    {
     "ename": "NameError",
     "evalue": "name 'local_lang' is not defined",
     "output_type": "error",
     "traceback": [
      "\u001b[1;31m---------------------------------------------------------------------------\u001b[0m",
      "\u001b[1;31mNameError\u001b[0m                                 Traceback (most recent call last)",
      "Cell \u001b[1;32mIn[5], line 14\u001b[0m\n\u001b[0;32m     10\u001b[0m \u001b[38;5;28mprint\u001b[39m(global_lang)\n\u001b[0;32m     11\u001b[0m \u001b[38;5;66;03m#output 'DataScience'\u001b[39;00m\n\u001b[0;32m     12\u001b[0m \n\u001b[0;32m     13\u001b[0m \u001b[38;5;66;03m#NameError: name 'local_lang' is not defined\u001b[39;00m\n\u001b[1;32m---> 14\u001b[0m \u001b[38;5;28mprint\u001b[39m(local_lang)\n",
      "\u001b[1;31mNameError\u001b[0m: name 'local_lang' is not defined"
     ]
    }
   ],
   "source": [
    "global_lang='dataScience'\n",
    "def var_scope_test():\n",
    "    local_lang='python'\n",
    "    print(local_lang)\n",
    "var_scope_test()\n",
    "#output 'Python'\n",
    "\n",
    "#outside of function\n",
    "\n",
    "print(global_lang)\n",
    "#output 'DataScience'\n",
    "\n",
    "#NameError: name 'local_lang' is not defined\n",
    "print(local_lang)"
   ]
  },
  {
   "cell_type": "code",
   "execution_count": null,
   "id": "461c4e20",
   "metadata": {},
   "outputs": [],
   "source": []
  },
  {
   "cell_type": "markdown",
   "id": "a17a180b",
   "metadata": {},
   "source": [
    "### Local Variable in function\n",
    "\n",
    "A local variable is a variable declared inside the function that is not assecible from outside the function . The scope of local variable is limited to that function  only where it is declared \n",
    "\n",
    "If we try to access the local variable  from outside of the function, we will get the error as name error"
   ]
  },
  {
   "cell_type": "code",
   "execution_count": 3,
   "id": "588b4e2a",
   "metadata": {},
   "outputs": [
    {
     "name": "stdout",
     "output_type": "stream",
     "text": [
      "value is: 888\n"
     ]
    },
    {
     "ename": "NameError",
     "evalue": "name 'loc_var' is not defined",
     "output_type": "error",
     "traceback": [
      "\u001b[1;31m---------------------------------------------------------------------------\u001b[0m",
      "\u001b[1;31mNameError\u001b[0m                                 Traceback (most recent call last)",
      "Cell \u001b[1;32mIn[3], line 11\u001b[0m\n\u001b[0;32m      7\u001b[0m     \u001b[38;5;28mprint\u001b[39m(\u001b[38;5;124m'\u001b[39m\u001b[38;5;124mvalue is:\u001b[39m\u001b[38;5;124m'\u001b[39m, loc_var)\n\u001b[0;32m     10\u001b[0m function1()\n\u001b[1;32m---> 11\u001b[0m function2()\n",
      "Cell \u001b[1;32mIn[3], line 7\u001b[0m, in \u001b[0;36mfunction2\u001b[1;34m()\u001b[0m\n\u001b[0;32m      6\u001b[0m \u001b[38;5;28;01mdef\u001b[39;00m \u001b[38;5;21mfunction2\u001b[39m():\n\u001b[1;32m----> 7\u001b[0m     \u001b[38;5;28mprint\u001b[39m(\u001b[38;5;124m'\u001b[39m\u001b[38;5;124mvalue is:\u001b[39m\u001b[38;5;124m'\u001b[39m, loc_var)\n",
      "\u001b[1;31mNameError\u001b[0m: name 'loc_var' is not defined"
     ]
    }
   ],
   "source": [
    "def function1():\n",
    "    # local variiable \n",
    "    loc_var=888\n",
    "    print('value is:', loc_var)\n",
    "    \n",
    "def function2():\n",
    "    print('value is:', loc_var)\n",
    "    \n",
    "    \n",
    "function1()\n",
    "function2()"
   ]
  },
  {
   "cell_type": "markdown",
   "id": "2e5280f1",
   "metadata": {},
   "source": [
    "### Global variable in function\n",
    " A global variable is a variable that declares outside of the function the scope of a global variable is broad. It is accessible in all functions of the same module"
   ]
  },
  {
   "cell_type": "code",
   "execution_count": 4,
   "id": "eb9106bd",
   "metadata": {},
   "outputs": [
    {
     "name": "stdout",
     "output_type": "stream",
     "text": [
      "value in 1st function: 999\n",
      "value in 2nd functon: 999\n"
     ]
    }
   ],
   "source": [
    "global_var=999\n",
    "\n",
    "def function1():\n",
    "    print('value in 1st function:',global_var)\n",
    "def function2():\n",
    "    print('value in 2nd functon:', global_var)-\n",
    "    \n",
    "    \n",
    "function1()\n",
    "function2()"
   ]
  },
  {
   "cell_type": "code",
   "execution_count": null,
   "id": "9791689c",
   "metadata": {},
   "outputs": [],
   "source": []
  },
  {
   "cell_type": "code",
   "execution_count": 6,
   "id": "22a7a65e",
   "metadata": {},
   "outputs": [
    {
     "name": "stdout",
     "output_type": "stream",
     "text": [
      "value in 1st function: 999\n"
     ]
    }
   ],
   "source": [
    "global_var=999\n",
    "\n",
    "def function1():\n",
    "    print('value in 1st function:',global_var)\n",
    "def function2():\n",
    "    print('value in 2nd functon:', global_var)\n",
    "\n",
    "function1()"
   ]
  },
  {
   "cell_type": "code",
   "execution_count": null,
   "id": "0a1d16c6",
   "metadata": {},
   "outputs": [],
   "source": []
  },
  {
   "cell_type": "markdown",
   "id": "ec17c73a",
   "metadata": {},
   "source": [
    "## Nonlocal variable in function\n",
    "\n",
    "- In python, nonlocal is the keyword used to declare a variable so that it acts as global variable for a nested function (i.e. function within another function)\n",
    "\n",
    "- We can use a nonlocal keyword when we want to declare a variable in the local scope and to make it by non local keyword global  variable."
   ]
  },
  {
   "cell_type": "code",
   "execution_count": 4,
   "id": "8bbdb3cb",
   "metadata": {},
   "outputs": [
    {
     "name": "stdout",
     "output_type": "stream",
     "text": [
      "value of x inside inner function is: 700\n",
      "value of x inside outer function is: 700\n"
     ]
    }
   ],
   "source": [
    "def outer_func():\n",
    "    x=777\n",
    "    \n",
    "    def inner_func():\n",
    "        # local variable now acts as global variable\n",
    "        nonlocal x\n",
    "        x=700\n",
    "        print('value of x inside inner function is:', x)\n",
    "        \n",
    "    inner_func()\n",
    "    print('value of x inside outer function is:',x)\n",
    "    \n",
    "outer_func()"
   ]
  },
  {
   "cell_type": "code",
   "execution_count": null,
   "id": "209cae01",
   "metadata": {},
   "outputs": [],
   "source": []
  },
  {
   "cell_type": "code",
   "execution_count": 7,
   "id": "1dc13359",
   "metadata": {},
   "outputs": [
    {
     "name": "stdout",
     "output_type": "stream",
     "text": [
      "value of x inside inner function is: 700\n",
      "value of x inside outer function is: 777\n"
     ]
    }
   ],
   "source": [
    "def outer_func():\n",
    "    x=777\n",
    "    \n",
    "    def inner_func():\n",
    "        x=700\n",
    "        print('value of x inside inner function is:', x)\n",
    "        \n",
    "    inner_func()\n",
    "    print('value of x inside outer function is:',x)\n",
    "    \n",
    "outer_func()"
   ]
  },
  {
   "cell_type": "code",
   "execution_count": null,
   "id": "b64241f2",
   "metadata": {},
   "outputs": [],
   "source": []
  },
  {
   "cell_type": "code",
   "execution_count": 17,
   "id": "63eac281",
   "metadata": {},
   "outputs": [
    {
     "name": "stdout",
     "output_type": "stream",
     "text": [
      "value of x inside inner function is: 777\n",
      "value of x inside outer function is: 777\n"
     ]
    }
   ],
   "source": [
    "def outer_func():\n",
    "    x=777\n",
    "    \n",
    "    def inner_func():\n",
    "        # local variable now acts as global variable\n",
    "        nonlocal x\n",
    "        \n",
    "        print('value of x inside inner function is:', x)\n",
    "        \n",
    "    inner_func()\n",
    "    print('value of x inside outer function is:',x)\n",
    "    \n",
    "outer_func()"
   ]
  },
  {
   "cell_type": "code",
   "execution_count": null,
   "id": "aa551da7",
   "metadata": {},
   "outputs": [],
   "source": []
  },
  {
   "cell_type": "code",
   "execution_count": 12,
   "id": "964f8ba4",
   "metadata": {},
   "outputs": [
    {
     "ename": "IndentationError",
     "evalue": "unexpected indent (402664280.py, line 7)",
     "output_type": "error",
     "traceback": [
      "\u001b[1;36m  Cell \u001b[1;32mIn[12], line 7\u001b[1;36m\u001b[0m\n\u001b[1;33m    def glob2():\u001b[0m\n\u001b[1;37m    ^\u001b[0m\n\u001b[1;31mIndentationError\u001b[0m\u001b[1;31m:\u001b[0m unexpected indent\n"
     ]
    }
   ],
   "source": [
    "def glob1():\n",
    "    local=5\n",
    "    print('value is:',local)\n",
    "    \n",
    "glob1()\n",
    "\n",
    "    def glob2():\n",
    "        nonlocal local\n",
    "        print('value of globe2',local)\n",
    "    \n",
    "glob2()"
   ]
  },
  {
   "cell_type": "code",
   "execution_count": 10,
   "id": "2916d3cc",
   "metadata": {},
   "outputs": [
    {
     "name": "stdout",
     "output_type": "stream",
     "text": [
      "value of is: 5\n",
      "value is: 5\n"
     ]
    }
   ],
   "source": [
    "def glob1():\n",
    "    local=5\n",
    "    print('value of is:',local)\n",
    "    def glob2():\n",
    "        nonlocal local\n",
    "        print('value is:',local)\n",
    "    glob2()\n",
    "        \n",
    "glob1()\n",
    "\n",
    "\n",
    "    "
   ]
  },
  {
   "cell_type": "markdown",
   "id": "7739c132",
   "metadata": {},
   "source": [
    "- Note nonlocal works only for nested function"
   ]
  },
  {
   "cell_type": "code",
   "execution_count": 24,
   "id": "cdf57ac6",
   "metadata": {},
   "outputs": [
    {
     "name": "stdout",
     "output_type": "stream",
     "text": [
      "value of global 45\n"
     ]
    },
    {
     "ename": "SyntaxError",
     "evalue": "no binding for nonlocal 'high' found (673880171.py, line 6)",
     "output_type": "error",
     "traceback": [
      "\u001b[1;36m  Cell \u001b[1;32mIn[24], line 6\u001b[1;36m\u001b[0m\n\u001b[1;33m    nonlocal high\u001b[0m\n\u001b[1;37m    ^\u001b[0m\n\u001b[1;31mSyntaxError\u001b[0m\u001b[1;31m:\u001b[0m no binding for nonlocal 'high' found\n"
     ]
    }
   ],
   "source": [
    "def kr():\n",
    "    high=45\n",
    "    print('value of global',high)\n",
    "kr()\n",
    "def cr():\n",
    "    nonlocal high\n",
    "    print('value of nonlocal',high)\n",
    "cr()"
   ]
  },
  {
   "cell_type": "code",
   "execution_count": null,
   "id": "d6f4b4ae",
   "metadata": {},
   "outputs": [],
   "source": []
  },
  {
   "cell_type": "code",
   "execution_count": 16,
   "id": "dfdfc40e",
   "metadata": {},
   "outputs": [
    {
     "name": "stdout",
     "output_type": "stream",
     "text": [
      "value of global 45\n",
      "value of nonlocal 45\n"
     ]
    }
   ],
   "source": [
    "def kr():\n",
    "    high=45\n",
    "    print('value of global',high)\n",
    "    def cr():\n",
    "        nonlocal high\n",
    "        print('value of nonlocal',high)\n",
    "    cr()\n",
    "kr()\n",
    "    "
   ]
  },
  {
   "cell_type": "code",
   "execution_count": null,
   "id": "283190f1",
   "metadata": {},
   "outputs": [],
   "source": []
  },
  {
   "cell_type": "code",
   "execution_count": 1,
   "id": "7c223fcc",
   "metadata": {},
   "outputs": [
    {
     "name": "stdout",
     "output_type": "stream",
     "text": [
      "value of global 45\n",
      "value of nonlocal 45\n"
     ]
    }
   ],
   "source": [
    "def kr():\n",
    "    high=45\n",
    "    print('value of global',high)\n",
    "    def cr():\n",
    "        nonlocal high\n",
    "        print('value of nonlocal',high)\n",
    "        cr()\n",
    "    cr()\n",
    "kr()"
   ]
  },
  {
   "cell_type": "code",
   "execution_count": 12,
   "id": "7bb51049",
   "metadata": {},
   "outputs": [
    {
     "ename": "NameError",
     "evalue": "name 'cr' is not defined",
     "output_type": "error",
     "traceback": [
      "\u001b[1;31m---------------------------------------------------------------------------\u001b[0m",
      "\u001b[1;31mNameError\u001b[0m                                 Traceback (most recent call last)",
      "Cell \u001b[1;32mIn[12], line 1\u001b[0m\n\u001b[1;32m----> 1\u001b[0m cr()\n",
      "\u001b[1;31mNameError\u001b[0m: name 'cr' is not defined"
     ]
    }
   ],
   "source": [
    "cr()"
   ]
  },
  {
   "cell_type": "code",
   "execution_count": 11,
   "id": "6c7d2774",
   "metadata": {},
   "outputs": [
    {
     "name": "stdout",
     "output_type": "stream",
     "text": [
      "value of global 45\n",
      "value of nonlocal 45\n"
     ]
    }
   ],
   "source": [
    "kr()"
   ]
  },
  {
   "cell_type": "code",
   "execution_count": null,
   "id": "11c2eea3",
   "metadata": {},
   "outputs": [],
   "source": []
  },
  {
   "cell_type": "code",
   "execution_count": 3,
   "id": "26f08c39",
   "metadata": {},
   "outputs": [
    {
     "name": "stdout",
     "output_type": "stream",
     "text": [
      "value of global 45\n"
     ]
    }
   ],
   "source": [
    "def kr():\n",
    "    high=45\n",
    "    print('value of global',high)\n",
    "    def cr():\n",
    "        nonlocal high\n",
    "        print('value of nonlocal',high)\n",
    "    kr()\n",
    "kr()\n",
    "\n",
    "# it is running infinity"
   ]
  },
  {
   "cell_type": "code",
   "execution_count": null,
   "id": "0f534cba",
   "metadata": {},
   "outputs": [],
   "source": []
  },
  {
   "cell_type": "code",
   "execution_count": 1,
   "id": "63e49192",
   "metadata": {},
   "outputs": [
    {
     "name": "stdout",
     "output_type": "stream",
     "text": [
      "value of low fuc 34\n",
      "value of  semi 34\n",
      "value of main 34\n"
     ]
    }
   ],
   "source": [
    "def main():\n",
    "    x=34\n",
    "    def semi():\n",
    "        nonlocal x\n",
    "        def low():\n",
    "            nonlocal x\n",
    "            print('value of low fuc',x)\n",
    "        low()\n",
    "        print('value of  semi',x)\n",
    "    semi()\n",
    "    print('value of main',x)\n",
    "main()"
   ]
  },
  {
   "cell_type": "code",
   "execution_count": null,
   "id": "a5555068",
   "metadata": {},
   "outputs": [],
   "source": []
  },
  {
   "cell_type": "code",
   "execution_count": 2,
   "id": "c5f3177c",
   "metadata": {},
   "outputs": [
    {
     "name": "stdout",
     "output_type": "stream",
     "text": [
      "value of low fuc 34\n",
      "value of  semi 34\n",
      "value of main 34\n"
     ]
    }
   ],
   "source": [
    "def main():\n",
    "    x=34\n",
    "    def semi():\n",
    "        nonlocal x\n",
    "        def low():\n",
    "            nonlocal x\n",
    "            print('value of low fuc',x)\n",
    "        low()\n",
    "        print('value of  semi',x)\n",
    "    semi()\n",
    "    print('value of main',x)\n",
    "main()"
   ]
  },
  {
   "cell_type": "code",
   "execution_count": null,
   "id": "d64b5e00",
   "metadata": {},
   "outputs": [],
   "source": []
  },
  {
   "cell_type": "markdown",
   "id": "dacd4a42",
   "metadata": {},
   "source": [
    "# Python Function Arguments\n",
    "\n",
    "The arguments is a value, variable or an object that we pass to a function or method call. In python there are four types of arguments method\n",
    "\n",
    "1. Positional arguments\n",
    "2. Keyword arguments\n",
    "3. default arguments \n",
    "4. variable-lenght arguments"
   ]
  },
  {
   "cell_type": "markdown",
   "id": "f417eba1",
   "metadata": {},
   "source": [
    "### What is Function arguments\n",
    "  (parameter)\n",
    "\n",
    "def my_sum(a,b): function returns a+b defination function call my_sum(10,20) (arguments)\n",
    "\n",
    "Parameters are mentioned in the function defination.Actual parameters are passed during function call"
   ]
  },
  {
   "cell_type": "code",
   "execution_count": null,
   "id": "580a825a",
   "metadata": {},
   "outputs": [],
   "source": []
  },
  {
   "cell_type": "markdown",
   "id": "019e62ec",
   "metadata": {},
   "source": [
    "## Positional  argument\n",
    "\n",
    "Positional arguments are argument that are pass to function in proper positional order"
   ]
  },
  {
   "cell_type": "code",
   "execution_count": 1,
   "id": "f140af9a",
   "metadata": {},
   "outputs": [
    {
     "name": "stdout",
     "output_type": "stream",
     "text": [
      "40\n",
      "-40\n"
     ]
    }
   ],
   "source": [
    "def add(a,b):\n",
    "    print(a-b)\n",
    "add(50,10)\n",
    "add(10,50)"
   ]
  },
  {
   "cell_type": "code",
   "execution_count": 2,
   "id": "4308e692",
   "metadata": {},
   "outputs": [
    {
     "name": "stdout",
     "output_type": "stream",
     "text": [
      "-40\n",
      "40\n"
     ]
    }
   ],
   "source": [
    "def add(a,b):\n",
    "    print(b-a)\n",
    "add(50,10)\n",
    "add(10,50)"
   ]
  },
  {
   "cell_type": "code",
   "execution_count": null,
   "id": "9ada8b56",
   "metadata": {},
   "outputs": [],
   "source": []
  },
  {
   "cell_type": "markdown",
   "id": "571e07c6",
   "metadata": {},
   "source": [
    "## Keyword arguments\n",
    " \n",
    "a keyword argument is an argument value passed to function by the variable name and equals sign \n"
   ]
  },
  {
   "cell_type": "code",
   "execution_count": 20,
   "id": "52cb8180",
   "metadata": {},
   "outputs": [
    {
     "name": "stdout",
     "output_type": "stream",
     "text": [
      "hello john willson\n",
      "hello kelly ault\n",
      "hello john wilson\n",
      "hello wilson john\n"
     ]
    }
   ],
   "source": [
    "def message(name,surname):\n",
    "    print('hello', name,surname)\n",
    "message(name='john',surname= 'willson')\n",
    "message(surname='ault',name='kelly')\n",
    "\n",
    "\n",
    "message('john','wilson') # you have made it positional\n",
    "message('wilson','john')"
   ]
  },
  {
   "cell_type": "code",
   "execution_count": 21,
   "id": "cb3f0862",
   "metadata": {},
   "outputs": [
    {
     "name": "stdout",
     "output_type": "stream",
     "text": [
      "hello john willson\n",
      "hello kelly ault\n"
     ]
    }
   ],
   "source": [
    "def message(name,surname):\n",
    "    print('hello', name,surname)\n",
    "message(name='john',surname= 'willson')\n",
    "message(surname='ault',name='kelly')"
   ]
  },
  {
   "cell_type": "markdown",
   "id": "5f676c59",
   "metadata": {},
   "source": [
    "- In keyword arguments order of argument is not matter, but the number of argumnets must match otherwise , we will get an error \n",
    "\n",
    "- While using keyword and positional arguments simultaneously , we need to pass 1st argument  as positional arguments  and then keyword arguments . Otherwise , we will get syntaxError .See the folloewing example"
   ]
  },
  {
   "cell_type": "code",
   "execution_count": 23,
   "id": "bcdd50cf",
   "metadata": {},
   "outputs": [
    {
     "ename": "SyntaxError",
     "evalue": "positional argument follows keyword argument (2390011796.py, line 11)",
     "output_type": "error",
     "traceback": [
      "\u001b[1;36m  Cell \u001b[1;32mIn[23], line 11\u001b[1;36m\u001b[0m\n\u001b[1;33m    message(first_nm='Roopali',\"Disha\")\u001b[0m\n\u001b[1;37m                                      ^\u001b[0m\n\u001b[1;31mSyntaxError\u001b[0m\u001b[1;31m:\u001b[0m positional argument follows keyword argument\n"
     ]
    }
   ],
   "source": [
    "def message(first_nm,last_nm): \n",
    "    print('hello..!', first_nm, last_nm)\n",
    "    \n",
    "# correct use\n",
    "\n",
    "message('Roopali', 'Disha')\n",
    "message('Roopali',last_nm='Disha')\n",
    "\n",
    "# Error \n",
    "#syntaxError: Positional argument follows keyword argument\n",
    "message(first_nm='Roopali',\"Disha\")"
   ]
  },
  {
   "cell_type": "code",
   "execution_count": 22,
   "id": "b284d14e",
   "metadata": {},
   "outputs": [
    {
     "name": "stdout",
     "output_type": "stream",
     "text": [
      "hello..! Roopali Disha\n"
     ]
    }
   ],
   "source": [
    "def message(first_nm,last_nm): \n",
    "    print('hello..!', first_nm, last_nm)\n",
    "    \n",
    "# correct use\n",
    "\n",
    "\n",
    "message('Roopali',last_nm='Disha')"
   ]
  },
  {
   "cell_type": "code",
   "execution_count": null,
   "id": "840c3e3d",
   "metadata": {},
   "outputs": [],
   "source": []
  },
  {
   "cell_type": "markdown",
   "id": "136b37a0",
   "metadata": {},
   "source": [
    "## Default arguments\n",
    "In function arguments can have defualt  values. we assign default values to the arguments using the '='(assignment)operatorat the time  of function defination .You can define a function with any number of default arguments "
   ]
  },
  {
   "cell_type": "markdown",
   "id": "d5fdb2da",
   "metadata": {},
   "source": [
    " def my_sum(a,b,d,d=40):\n",
    "    return a+b+c+d\n",
    "function call my_sum(10,20,c=30)\n",
    "       \n",
    "positional argument values get assignment as per sequence"
   ]
  },
  {
   "cell_type": "code",
   "execution_count": null,
   "id": "60240b26",
   "metadata": {},
   "outputs": [],
   "source": []
  },
  {
   "cell_type": "code",
   "execution_count": 4,
   "id": "6228fbe9",
   "metadata": {},
   "outputs": [
    {
     "data": {
      "text/plain": [
       "100"
      ]
     },
     "execution_count": 4,
     "metadata": {},
     "output_type": "execute_result"
    }
   ],
   "source": [
    "def my_sum(a,b,c,d=40):\n",
    "    return a+b+c+d\n",
    "my_sum(10,20,c=30)"
   ]
  },
  {
   "cell_type": "code",
   "execution_count": 5,
   "id": "1ebcc8c5",
   "metadata": {},
   "outputs": [
    {
     "ename": "SyntaxError",
     "evalue": "positional argument follows keyword argument (2585356342.py, line 4)",
     "output_type": "error",
     "traceback": [
      "\u001b[1;36m  Cell \u001b[1;32mIn[5], line 4\u001b[1;36m\u001b[0m\n\u001b[1;33m    my_sum(10,20,c=30,30)\u001b[0m\n\u001b[1;37m                        ^\u001b[0m\n\u001b[1;31mSyntaxError\u001b[0m\u001b[1;31m:\u001b[0m positional argument follows keyword argument\n"
     ]
    }
   ],
   "source": [
    "def my_sum(a,b,c,d=40):\n",
    "    return a+b+c+d\n",
    "\n",
    "my_sum(10,20,c=30,30)"
   ]
  },
  {
   "cell_type": "code",
   "execution_count": 6,
   "id": "91452d23",
   "metadata": {},
   "outputs": [
    {
     "data": {
      "text/plain": [
       "160"
      ]
     },
     "execution_count": 6,
     "metadata": {},
     "output_type": "execute_result"
    }
   ],
   "source": [
    "def my_sum(a,b,c,d=40):\n",
    "    return a+b+c+d\n",
    "\n",
    "my_sum(10,20,40,90) # it will prefer the argument value on the default value if both given"
   ]
  },
  {
   "cell_type": "code",
   "execution_count": 7,
   "id": "2c56599d",
   "metadata": {},
   "outputs": [
    {
     "ename": "TypeError",
     "evalue": "my_sum() got multiple values for argument 'c'",
     "output_type": "error",
     "traceback": [
      "\u001b[1;31m---------------------------------------------------------------------------\u001b[0m",
      "\u001b[1;31mTypeError\u001b[0m                                 Traceback (most recent call last)",
      "Cell \u001b[1;32mIn[7], line 4\u001b[0m\n\u001b[0;32m      1\u001b[0m \u001b[38;5;28;01mdef\u001b[39;00m \u001b[38;5;21mmy_sum\u001b[39m(a,b,c,d\u001b[38;5;241m=\u001b[39m\u001b[38;5;241m40\u001b[39m):\n\u001b[0;32m      2\u001b[0m     \u001b[38;5;28;01mreturn\u001b[39;00m a\u001b[38;5;241m+\u001b[39mb\u001b[38;5;241m+\u001b[39mc\u001b[38;5;241m+\u001b[39md\n\u001b[1;32m----> 4\u001b[0m my_sum(\u001b[38;5;241m10\u001b[39m,\u001b[38;5;241m20\u001b[39m,\u001b[38;5;241m40\u001b[39m,c\u001b[38;5;241m=\u001b[39m\u001b[38;5;241m30\u001b[39m)\n",
      "\u001b[1;31mTypeError\u001b[0m: my_sum() got multiple values for argument 'c'"
     ]
    }
   ],
   "source": [
    "def my_sum(a,b,c,d=40):\n",
    "    return a+b+c+d\n",
    "\n",
    "my_sum(10,20,40,c=30)"
   ]
  },
  {
   "cell_type": "code",
   "execution_count": 8,
   "id": "a28d6b45",
   "metadata": {},
   "outputs": [
    {
     "ename": "SyntaxError",
     "evalue": "positional argument follows keyword argument (47472727.py, line 4)",
     "output_type": "error",
     "traceback": [
      "\u001b[1;36m  Cell \u001b[1;32mIn[8], line 4\u001b[1;36m\u001b[0m\n\u001b[1;33m    my_sum(a=90,20,30,c=30)\u001b[0m\n\u001b[1;37m                          ^\u001b[0m\n\u001b[1;31mSyntaxError\u001b[0m\u001b[1;31m:\u001b[0m positional argument follows keyword argument\n"
     ]
    }
   ],
   "source": [
    "def my_sum(a,b,c,d=40):\n",
    "    return a+b+c+d\n",
    "\n",
    "my_sum(a=90,20,30,c=30)"
   ]
  },
  {
   "cell_type": "code",
   "execution_count": 9,
   "id": "841ba5ca",
   "metadata": {},
   "outputs": [
    {
     "ename": "SyntaxError",
     "evalue": "positional argument follows keyword argument (1648503230.py, line 4)",
     "output_type": "error",
     "traceback": [
      "\u001b[1;36m  Cell \u001b[1;32mIn[9], line 4\u001b[1;36m\u001b[0m\n\u001b[1;33m    my_sum(a=20,30,90)\u001b[0m\n\u001b[1;37m                     ^\u001b[0m\n\u001b[1;31mSyntaxError\u001b[0m\u001b[1;31m:\u001b[0m positional argument follows keyword argument\n"
     ]
    }
   ],
   "source": [
    "def my_sum(a,b,c,d=40):\n",
    "    return a+b+c+d\n",
    "\n",
    "my_sum(a=20,30,90)"
   ]
  },
  {
   "cell_type": "code",
   "execution_count": 3,
   "id": "7aeda0ea",
   "metadata": {},
   "outputs": [
    {
     "ename": "SyntaxError",
     "evalue": "non-default argument follows default argument (1765401579.py, line 1)",
     "output_type": "error",
     "traceback": [
      "\u001b[1;36m  Cell \u001b[1;32mIn[3], line 1\u001b[1;36m\u001b[0m\n\u001b[1;33m    def stu(name,grade=5,classs):\u001b[0m\n\u001b[1;37m                         ^\u001b[0m\n\u001b[1;31mSyntaxError\u001b[0m\u001b[1;31m:\u001b[0m non-default argument follows default argument\n"
     ]
    }
   ],
   "source": [
    "def stu(name,grade=5,classs):\n",
    "    print(name,classs, grade)\n",
    "    "
   ]
  },
  {
   "cell_type": "markdown",
   "id": "b4c4ace1",
   "metadata": {},
   "source": [
    "### Important points to remember about function arguments\n",
    "\n",
    "1. Default arguments should follow no-default arguments"
   ]
  },
  {
   "cell_type": "code",
   "execution_count": 24,
   "id": "6aadb913",
   "metadata": {},
   "outputs": [
    {
     "ename": "SyntaxError",
     "evalue": "non-default argument follows default argument (1016695614.py, line 1)",
     "output_type": "error",
     "traceback": [
      "\u001b[1;36m  Cell \u001b[1;32mIn[24], line 1\u001b[1;36m\u001b[0m\n\u001b[1;33m    def get_student(name,grade='five',age):\u001b[0m\n\u001b[1;37m                                      ^\u001b[0m\n\u001b[1;31mSyntaxError\u001b[0m\u001b[1;31m:\u001b[0m non-default argument follows default argument\n"
     ]
    }
   ],
   "source": [
    "def get_student(name,grade='five',age):\n",
    "    print(name,age,grade)\n",
    "    \n",
    "#output: syntaxError: non-default arguments follows default arguments"
   ]
  },
  {
   "cell_type": "markdown",
   "id": "f2b65c29",
   "metadata": {},
   "source": [
    "2. Keyword argument should follow positional arguments only\n",
    "\n"
   ]
  },
  {
   "cell_type": "code",
   "execution_count": 25,
   "id": "45abd570",
   "metadata": {},
   "outputs": [
    {
     "ename": "SyntaxError",
     "evalue": "positional argument follows keyword argument (1075915977.py, line 4)",
     "output_type": "error",
     "traceback": [
      "\u001b[1;36m  Cell \u001b[1;32mIn[25], line 4\u001b[1;36m\u001b[0m\n\u001b[1;33m    get_student(name='jeevan',12,'six')\u001b[0m\n\u001b[1;37m                                      ^\u001b[0m\n\u001b[1;31mSyntaxError\u001b[0m\u001b[1;31m:\u001b[0m positional argument follows keyword argument\n"
     ]
    }
   ],
   "source": [
    "def get_student(name,age,grade):\n",
    "    print(name,age,grade)\n",
    "\n",
    "get_student(name='jeevan',12,'six')\n",
    "# output: SyntaxError: positional argument follows keyword argument"
   ]
  },
  {
   "cell_type": "markdown",
   "id": "4140a3f6",
   "metadata": {},
   "source": [
    "3. The order of keyword arguments is not impotant, but All the keywords arguments passed must match one of the arguments accepted by the function"
   ]
  },
  {
   "cell_type": "code",
   "execution_count": 26,
   "id": "59e18102",
   "metadata": {},
   "outputs": [
    {
     "name": "stdout",
     "output_type": "stream",
     "text": [
      "Joshi 12 six\n"
     ]
    },
    {
     "ename": "TypeError",
     "evalue": "get_student() got an unexpected keyword argument 'standard'",
     "output_type": "error",
     "traceback": [
      "\u001b[1;31m---------------------------------------------------------------------------\u001b[0m",
      "\u001b[1;31mTypeError\u001b[0m                                 Traceback (most recent call last)",
      "Cell \u001b[1;32mIn[26], line 7\u001b[0m\n\u001b[0;32m      4\u001b[0m get_student(grade\u001b[38;5;241m=\u001b[39m\u001b[38;5;124m'\u001b[39m\u001b[38;5;124msix\u001b[39m\u001b[38;5;124m'\u001b[39m,name\u001b[38;5;241m=\u001b[39m\u001b[38;5;124m'\u001b[39m\u001b[38;5;124mJoshi\u001b[39m\u001b[38;5;124m'\u001b[39m,age\u001b[38;5;241m=\u001b[39m\u001b[38;5;241m12\u001b[39m)\n\u001b[0;32m      5\u001b[0m \u001b[38;5;66;03m# output: Joshi 12 six\u001b[39;00m\n\u001b[1;32m----> 7\u001b[0m get_student(name\u001b[38;5;241m=\u001b[39m\u001b[38;5;124m'\u001b[39m\u001b[38;5;124mjoshi\u001b[39m\u001b[38;5;124m'\u001b[39m,age\u001b[38;5;241m=\u001b[39m\u001b[38;5;241m12\u001b[39m,standard\u001b[38;5;241m=\u001b[39m\u001b[38;5;124m'\u001b[39m\u001b[38;5;124msix\u001b[39m\u001b[38;5;124m'\u001b[39m)\n",
      "\u001b[1;31mTypeError\u001b[0m: get_student() got an unexpected keyword argument 'standard'"
     ]
    }
   ],
   "source": [
    "def get_student(name,age,grade):\n",
    "    print(name,age,grade)\n",
    "    \n",
    "get_student(grade='six',name='Joshi',age=12)\n",
    "# output: Joshi 12 six\n",
    "\n",
    "get_student(name='joshi',age=12,standard='six')\n",
    "\n",
    "# output: TypeError: get_student() got an unexpexted keyword argument 'standard'"
   ]
  },
  {
   "cell_type": "markdown",
   "id": "e0aa0cc8",
   "metadata": {},
   "source": [
    "4. No argument should revieve a value more than once"
   ]
  },
  {
   "cell_type": "code",
   "execution_count": 27,
   "id": "926881d2",
   "metadata": {},
   "outputs": [
    {
     "ename": "SyntaxError",
     "evalue": "keyword argument repeated: age (477746249.py, line 4)",
     "output_type": "error",
     "traceback": [
      "\u001b[1;36m  Cell \u001b[1;32mIn[27], line 4\u001b[1;36m\u001b[0m\n\u001b[1;33m    student(name='jeevan',age=12,grade='six',age=12)\u001b[0m\n\u001b[1;37m                                             ^\u001b[0m\n\u001b[1;31mSyntaxError\u001b[0m\u001b[1;31m:\u001b[0m keyword argument repeated: age\n"
     ]
    }
   ],
   "source": [
    "def student(name,age,grade):\n",
    "    print('student details',name,grade,age)\n",
    "\n",
    "student(name='jeevan',age=12,grade='six',age=12)\n",
    "#output: syntax error: keyword arguments repeated"
   ]
  },
  {
   "cell_type": "code",
   "execution_count": null,
   "id": "8b5b4361",
   "metadata": {},
   "outputs": [],
   "source": []
  },
  {
   "cell_type": "markdown",
   "id": "a1117323",
   "metadata": {},
   "source": [
    "# variable- lenght arguments \n",
    "\n",
    "In pyhton, somtimes , there is a situation where we need to pass mutliple no. of arguments to the function "
   ]
  },
  {
   "cell_type": "markdown",
   "id": "2d59286e",
   "metadata": {},
   "source": [
    "### Types of arbitary Arguments \n",
    "\n",
    "- arbitary positional arguments (*args)\n",
    "- arbitary keyword argumenst (**kwargs)"
   ]
  },
  {
   "cell_type": "markdown",
   "id": "33189782",
   "metadata": {},
   "source": [
    "### Arbitary positional arguments(*args)\n",
    "\n",
    "We can declare a variable-lenght argument with thw *(abstrisk) symbol .Place an asterisk(*) before the parameter in the function defination to define an arbitary positional argument"
   ]
  },
  {
   "cell_type": "code",
   "execution_count": 5,
   "id": "7b3467f4",
   "metadata": {},
   "outputs": [
    {
     "name": "stdout",
     "output_type": "stream",
     "text": [
      "Average= 19.333333333333332\n"
     ]
    }
   ],
   "source": [
    "def percentage(s1,s2,s3):\n",
    "    avg= (s1+s2+s3)/3\n",
    "    print('Average=', avg)\n",
    "\n",
    "percentage(12,34,12)"
   ]
  },
  {
   "cell_type": "code",
   "execution_count": 6,
   "id": "1b8321cf",
   "metadata": {},
   "outputs": [
    {
     "ename": "TypeError",
     "evalue": "percentage() takes 3 positional arguments but 4 were given",
     "output_type": "error",
     "traceback": [
      "\u001b[1;31m---------------------------------------------------------------------------\u001b[0m",
      "\u001b[1;31mTypeError\u001b[0m                                 Traceback (most recent call last)",
      "Cell \u001b[1;32mIn[6], line 5\u001b[0m\n\u001b[0;32m      2\u001b[0m     avg\u001b[38;5;241m=\u001b[39m (s1\u001b[38;5;241m+\u001b[39ms2\u001b[38;5;241m+\u001b[39ms3)\u001b[38;5;241m/\u001b[39m\u001b[38;5;241m3\u001b[39m\n\u001b[0;32m      3\u001b[0m     \u001b[38;5;28mprint\u001b[39m(\u001b[38;5;124m'\u001b[39m\u001b[38;5;124mAverage=\u001b[39m\u001b[38;5;124m'\u001b[39m, avg)\n\u001b[1;32m----> 5\u001b[0m percentage(\u001b[38;5;241m12\u001b[39m,\u001b[38;5;241m34\u001b[39m,\u001b[38;5;241m12\u001b[39m,\u001b[38;5;241m10\u001b[39m)\n",
      "\u001b[1;31mTypeError\u001b[0m: percentage() takes 3 positional arguments but 4 were given"
     ]
    }
   ],
   "source": [
    "def percentage(s1,s2,s3):\n",
    "    avg= (s1+s2+s3)/3\n",
    "    print('Average=', avg)\n",
    "\n",
    "percentage(12,34,12,10)  # we can add more than three arguments"
   ]
  },
  {
   "cell_type": "code",
   "execution_count": 3,
   "id": "ccf86655",
   "metadata": {},
   "outputs": [
    {
     "name": "stdout",
     "output_type": "stream",
     "text": [
      "Average= 73.2\n"
     ]
    }
   ],
   "source": [
    "def percentage(*args): # *args can be return as *asd, *adqd anything\n",
    "    sum=0\n",
    "    for i in args:\n",
    "        sum=sum+i\n",
    "    \n",
    "    avg=sum/len(args)\n",
    "    print('Average=', avg)\n",
    "    \n",
    "percentage(12,234,65,34,21)"
   ]
  },
  {
   "cell_type": "code",
   "execution_count": null,
   "id": "3752db94",
   "metadata": {},
   "outputs": [],
   "source": []
  },
  {
   "cell_type": "code",
   "execution_count": 16,
   "id": "a5d31c47",
   "metadata": {},
   "outputs": [
    {
     "name": "stdout",
     "output_type": "stream",
     "text": [
      "square of 2 = 4\n",
      "square of 5 = 25\n",
      "square of 9 = 81\n"
     ]
    }
   ],
   "source": [
    "def square(*s):\n",
    "    sq=0\n",
    "    for i in s:\n",
    "        sq+=i\n",
    "        squ=sq**2\n",
    "        print('square of',sq,'=',squ)\n",
    "square(2,3,4)"
   ]
  },
  {
   "cell_type": "code",
   "execution_count": null,
   "id": "9ed01577",
   "metadata": {},
   "outputs": [],
   "source": []
  },
  {
   "cell_type": "code",
   "execution_count": 15,
   "id": "dbd7a873",
   "metadata": {},
   "outputs": [
    {
     "name": "stdout",
     "output_type": "stream",
     "text": [
      "square of 2 = 4\n",
      "square of 5 = 25\n",
      "square of 9 = 81\n"
     ]
    },
    {
     "ename": "NameError",
     "evalue": "name 'squ' is not defined",
     "output_type": "error",
     "traceback": [
      "\u001b[1;31m---------------------------------------------------------------------------\u001b[0m",
      "\u001b[1;31mNameError\u001b[0m                                 Traceback (most recent call last)",
      "Cell \u001b[1;32mIn[15], line 8\u001b[0m\n\u001b[0;32m      6\u001b[0m         \u001b[38;5;28mprint\u001b[39m(\u001b[38;5;124m'\u001b[39m\u001b[38;5;124msquare of\u001b[39m\u001b[38;5;124m'\u001b[39m,sq,\u001b[38;5;124m'\u001b[39m\u001b[38;5;124m=\u001b[39m\u001b[38;5;124m'\u001b[39m,squ)\n\u001b[0;32m      7\u001b[0m square(\u001b[38;5;241m2\u001b[39m,\u001b[38;5;241m3\u001b[39m,\u001b[38;5;241m4\u001b[39m)\n\u001b[1;32m----> 8\u001b[0m \u001b[38;5;28mprint\u001b[39m(\u001b[38;5;124m'\u001b[39m\u001b[38;5;124msquare of whole=\u001b[39m\u001b[38;5;124m'\u001b[39m,squ)\n",
      "\u001b[1;31mNameError\u001b[0m: name 'squ' is not defined"
     ]
    }
   ],
   "source": [
    "def square(*s):\n",
    "    sq=0\n",
    "    for i in s:\n",
    "        sq+=i\n",
    "        squ=sq**2\n",
    "        print('square of',sq,'=',squ)\n",
    "square(2,3,4)\n",
    "print('square of whole=',squ)"
   ]
  },
  {
   "cell_type": "code",
   "execution_count": null,
   "id": "1225c8c1",
   "metadata": {},
   "outputs": [],
   "source": []
  },
  {
   "cell_type": "markdown",
   "id": "f7b79d53",
   "metadata": {},
   "source": [
    "### Arbitary keyword arguments(**kwargs)\n",
    "\n",
    "We saw to use *args. Now let see how to use the **kwargs arguments. the **kwargs allow you to pass multiple keywords arguments to a function . use the **kwargs if you want to handle named arguments in a function\n",
    "\n",
    "Use the unpacking operator(**) to define variables-length  keywords "
   ]
  },
  {
   "cell_type": "code",
   "execution_count": 17,
   "id": "dccbecd7",
   "metadata": {},
   "outputs": [
    {
     "name": "stdout",
     "output_type": "stream",
     "text": [
      "age = 23\n",
      "name = pawan\n",
      "status = live\n"
     ]
    }
   ],
   "source": [
    "def acess(**k):\n",
    "    for i in k:\n",
    "        key=i\n",
    "        value=k[key]\n",
    "        print(key,'=',value)\n",
    "        \n",
    "acess(age=23,name='pawan',status='live')"
   ]
  },
  {
   "cell_type": "code",
   "execution_count": null,
   "id": "ad031766",
   "metadata": {},
   "outputs": [],
   "source": []
  },
  {
   "cell_type": "code",
   "execution_count": 8,
   "id": "475cfd90",
   "metadata": {},
   "outputs": [
    {
     "name": "stdout",
     "output_type": "stream",
     "text": [
      "math = 56\n",
      "english = 61\n",
      "science = 73\n"
     ]
    }
   ],
   "source": [
    "def percentage(**kwargs):\n",
    "    sum=0\n",
    "    for sub in kwargs:\n",
    "        sub_name=sub\n",
    "        sub_marks=kwargs[sub]\n",
    "        print(sub_name,'=',sub_marks)\n",
    "\n",
    "# pass multiple keyword arguments \n",
    "percentage(math=56,english=61,science=73)\n"
   ]
  },
  {
   "cell_type": "code",
   "execution_count": 27,
   "id": "17371130",
   "metadata": {},
   "outputs": [
    {
     "name": "stdout",
     "output_type": "stream",
     "text": [
      "math = 56\n",
      "1\n",
      "english = 61\n",
      "2\n",
      "science = 73\n",
      "3\n"
     ]
    }
   ],
   "source": [
    "def percentage(**kwargs):\n",
    "    sum=0\n",
    "    for sub in kwargs:\n",
    "        sub_name=sub\n",
    "        sub_marks=kwargs[sub]\n",
    "        print(sub_name,'=',sub_marks)\n",
    "        sum+=1\n",
    "        print(sum)\n",
    "# pass multiple keyword arguments \n",
    "percentage(math=56,english=61,science=73)\n"
   ]
  },
  {
   "cell_type": "code",
   "execution_count": 38,
   "id": "76b080ec",
   "metadata": {},
   "outputs": [
    {
     "ename": "SyntaxError",
     "evalue": "invalid syntax (1976600604.py, line 9)",
     "output_type": "error",
     "traceback": [
      "\u001b[1;36m  Cell \u001b[1;32mIn[38], line 9\u001b[1;36m\u001b[0m\n\u001b[1;33m    percentage(dict(math:56))\u001b[0m\n\u001b[1;37m                        ^\u001b[0m\n\u001b[1;31mSyntaxError\u001b[0m\u001b[1;31m:\u001b[0m invalid syntax\n"
     ]
    }
   ],
   "source": [
    "def percentage(a,b,c):\n",
    "    sum=0\n",
    "    for sub in kwargs:\n",
    "        sub_name=sub\n",
    "        sub_marks=kwargs[sub]\n",
    "        print(sub_name,'=',sub_marks)\n",
    "\n",
    "# pass multiple keyword arguments \n",
    "percentage(dict(math:56))"
   ]
  },
  {
   "cell_type": "code",
   "execution_count": 9,
   "id": "ec71ca94",
   "metadata": {},
   "outputs": [
    {
     "name": "stdout",
     "output_type": "stream",
     "text": [
      "jyoti\n"
     ]
    }
   ],
   "source": [
    "person={'name':'jyoti','country':\"USA\",'telephone':1178}\n",
    "\n",
    "print(person['name'])\n"
   ]
  },
  {
   "cell_type": "code",
   "execution_count": null,
   "id": "f4a2ac29",
   "metadata": {},
   "outputs": [],
   "source": []
  },
  {
   "cell_type": "code",
   "execution_count": 7,
   "id": "76d5257e",
   "metadata": {},
   "outputs": [
    {
     "name": "stdout",
     "output_type": "stream",
     "text": [
      "number = 23\n",
      "name = pawan\n"
     ]
    }
   ],
   "source": [
    "def learn(**person):\n",
    "    for i in person:\n",
    "        key=i\n",
    "        value=person[i]\n",
    "        print(key,'=',value)\n",
    "learn(number=23,name='pawan')\n",
    "        "
   ]
  },
  {
   "cell_type": "code",
   "execution_count": 8,
   "id": "67bcd5fe",
   "metadata": {},
   "outputs": [
    {
     "data": {
      "text/plain": [
       "dict"
      ]
     },
     "execution_count": 8,
     "metadata": {},
     "output_type": "execute_result"
    }
   ],
   "source": [
    "type(person)"
   ]
  },
  {
   "cell_type": "code",
   "execution_count": null,
   "id": "9cacc1f3",
   "metadata": {},
   "outputs": [],
   "source": []
  },
  {
   "cell_type": "code",
   "execution_count": null,
   "id": "5b6443de",
   "metadata": {},
   "outputs": [],
   "source": []
  },
  {
   "cell_type": "code",
   "execution_count": null,
   "id": "86328c80",
   "metadata": {},
   "outputs": [],
   "source": []
  },
  {
   "cell_type": "markdown",
   "id": "5dcbd496",
   "metadata": {},
   "source": [
    "## Python Anonymous/lambda Fucntion\n",
    "\n",
    "Sometimes we need to declare  a function without any name . the nameless property function is called an  anonymous lambda function \n",
    "\n",
    "Syntax of lambda function;\n",
    "\n",
    "lambda:argument_list:expression"
   ]
  },
  {
   "cell_type": "code",
   "execution_count": 13,
   "id": "968df074",
   "metadata": {},
   "outputs": [
    {
     "name": "stdout",
     "output_type": "stream",
     "text": [
      "[12, 44, 78]\n"
     ]
    }
   ],
   "source": [
    "def ev(lis):\n",
    "    even_no=[]\n",
    "    for i in lis:\n",
    "        if i%2==0:\n",
    "            even_no.append(i)\n",
    "    return even_no\n",
    "\n",
    "even_no=ev([12,3,44,45,78,65])\n",
    "print(even_no)"
   ]
  },
  {
   "cell_type": "code",
   "execution_count": 1,
   "id": "b8058d93",
   "metadata": {},
   "outputs": [
    {
     "name": "stdout",
     "output_type": "stream",
     "text": [
      "even numbers are: [10, 12, 78, 6]\n"
     ]
    }
   ],
   "source": [
    "l=[10,5,12,78,6,1,7,9]\n",
    "even_nos=list(filter(lambda x: x%2==0,l)) # list is written becausse we want answer in list\n",
    "print('even numbers are:',even_nos)"
   ]
  },
  {
   "cell_type": "code",
   "execution_count": 18,
   "id": "5cd8caaa",
   "metadata": {},
   "outputs": [
    {
     "name": "stdout",
     "output_type": "stream",
     "text": [
      "even numbers are: (10, 12, 78, 6)\n"
     ]
    }
   ],
   "source": [
    "l=[10,5,12,78,6,1,7,9]\n",
    "even_nos=tuple(filter(lambda x: x%2==0,l)) # tuple is written becausse we want answer in tuple\n",
    "print('even numbers are:',even_nos)"
   ]
  },
  {
   "cell_type": "code",
   "execution_count": 19,
   "id": "211f5c06",
   "metadata": {},
   "outputs": [
    {
     "name": "stdout",
     "output_type": "stream",
     "text": [
      "even numbers are: {10, 12, 78, 6}\n"
     ]
    }
   ],
   "source": [
    "l=[10,5,12,78,6,1,7,9]\n",
    "even_nos=set(filter(lambda x: x%2==0,l)) # set is written becausse we want answer in set\n",
    "print('even numbers are:',even_nos)"
   ]
  },
  {
   "cell_type": "code",
   "execution_count": null,
   "id": "c985014a",
   "metadata": {},
   "outputs": [],
   "source": []
  },
  {
   "cell_type": "code",
   "execution_count": 20,
   "id": "b1808fcb",
   "metadata": {},
   "outputs": [
    {
     "name": "stdout",
     "output_type": "stream",
     "text": [
      "even numbers are: [10, 12, 78, 6]\n"
     ]
    }
   ],
   "source": [
    "l=(10,5,12,78,6,1,7,9) # l is tuple\n",
    "even_nos=list(filter(lambda x: x%2==0,l))\n",
    "print('even numbers are:',even_nos) # answer came in list"
   ]
  },
  {
   "cell_type": "code",
   "execution_count": null,
   "id": "a3bbd809",
   "metadata": {},
   "outputs": [],
   "source": []
  },
  {
   "cell_type": "markdown",
   "id": "2169ac7b",
   "metadata": {},
   "source": [
    "## Filter() function in python\n",
    "\n",
    "In python filter function is used to return filter values. we use this function to filter values based on some codition\n",
    "\n",
    "Syntax of filter() function:\n",
    "\n",
    "filter(function,sequence) where,\n",
    "\n",
    "- function - Function argument is responsible for performing condition checking.\n",
    "- Sequence  -Sequence argument can be  anything like list, tuple, string\n",
    "- Example: lambda function with filter"
   ]
  },
  {
   "cell_type": "code",
   "execution_count": 10,
   "id": "2c41ab07",
   "metadata": {},
   "outputs": [
    {
     "name": "stdout",
     "output_type": "stream",
     "text": [
      "['i', 'i', 'i']\n"
     ]
    }
   ],
   "source": [
    "string='shrutttiii'\n",
    "i_only=list(filter(lambda x: x=='i', string))\n",
    "print(i_only)"
   ]
  },
  {
   "cell_type": "code",
   "execution_count": 12,
   "id": "a7304442",
   "metadata": {},
   "outputs": [
    {
     "name": "stdout",
     "output_type": "stream",
     "text": [
      "('i', 'i', 'i')\n"
     ]
    }
   ],
   "source": [
    "string='shrutttiii'\n",
    "i_only=tuple(filter(lambda x: x=='i', string)) # tuple answer will be in tuple\n",
    "print(i_only)"
   ]
  },
  {
   "cell_type": "code",
   "execution_count": 11,
   "id": "876f9f8b",
   "metadata": {},
   "outputs": [
    {
     "name": "stdout",
     "output_type": "stream",
     "text": [
      "[False, False, False, False, False, False, False, True, True, True]\n"
     ]
    }
   ],
   "source": [
    "string='shrutttiii'\n",
    "i_only=list(map(lambda x: x=='i', string))\n",
    "print(i_only)"
   ]
  },
  {
   "cell_type": "markdown",
   "id": "856f5eb2",
   "metadata": {},
   "source": [
    "### map() function in python\n",
    "\n",
    "In python map() functon  is used to apply some functionality for every element present in the given sequence and generate a new series with a required modificaton.\n",
    "\n",
    "\n",
    "Syntax of map() function:\n",
    "map(function,sequence)\n",
    "\n",
    "where;\n",
    "   - function - function argument responsible for applied on each elements of the sequence\n",
    "   - Sequence - Sequence argument can be anything like list, tuple, string"
   ]
  },
  {
   "cell_type": "code",
   "execution_count": 13,
   "id": "e92974ea",
   "metadata": {},
   "outputs": [
    {
     "name": "stdout",
     "output_type": "stream",
     "text": [
      "cube values are [8, 27, 64, 512, 729]\n"
     ]
    }
   ],
   "source": [
    "list1=[2,3,4,8,9]\n",
    "list2=list(map(lambda x:x*x*x, list1))\n",
    "print('cube values are', list2)"
   ]
  },
  {
   "cell_type": "code",
   "execution_count": null,
   "id": "67baf9d2",
   "metadata": {},
   "outputs": [],
   "source": []
  },
  {
   "cell_type": "markdown",
   "id": "619be8ca",
   "metadata": {},
   "source": [
    "## reduce() function in python\n",
    "\n",
    "In python, the reduce() function is used to minimize  the sequence elements into a single value by applying the specific condition.\n",
    "\n",
    "The reduce() function is present in the functools module: hence we need to import it using the import statement before using it \n",
    "\n",
    "Syntax o reduce() function:\n",
    "\n",
    "reduce(function,sequence)\n",
    "\n",
    "example: lambda function with reduce()\n"
   ]
  },
  {
   "cell_type": "code",
   "execution_count": 19,
   "id": "598f42a4",
   "metadata": {},
   "outputs": [
    {
     "name": "stdout",
     "output_type": "stream",
     "text": [
      "Additionof all list elements is: 54\n"
     ]
    }
   ],
   "source": [
    "from functools import reduce\n",
    "list1=[20,13,4,8,9]\n",
    "add= reduce(lambda x,y: x+y , list1)\n",
    "print(\"Additionof all list elements is:\", add)"
   ]
  },
  {
   "cell_type": "code",
   "execution_count": null,
   "id": "1849d673",
   "metadata": {},
   "outputs": [],
   "source": []
  },
  {
   "cell_type": "code",
   "execution_count": null,
   "id": "04e6f2f6",
   "metadata": {},
   "outputs": [],
   "source": [
    "from functools import reduce\n"
   ]
  },
  {
   "cell_type": "code",
   "execution_count": 25,
   "id": "47a0f407",
   "metadata": {},
   "outputs": [
    {
     "name": "stdout",
     "output_type": "stream",
     "text": [
      "Addition of all list elements is: 9\n"
     ]
    }
   ],
   "source": [
    "from functools import reduce\n",
    "list1=[20,13,4,8,9]\n",
    "add= reduce(lambda x,y: x and y , list1)\n",
    "print(\"Addition of all list elements is:\", add)\n",
    "\n",
    "#output is 9 becuase and give the last numerical if applied in number"
   ]
  },
  {
   "cell_type": "code",
   "execution_count": 26,
   "id": "fb0212ee",
   "metadata": {},
   "outputs": [
    {
     "name": "stdout",
     "output_type": "stream",
     "text": [
      "Addition of all list elements is: 20\n"
     ]
    }
   ],
   "source": [
    "from functools import reduce\n",
    "list1=[20,13,4,8,9]\n",
    "add= reduce(lambda x,y: x or y , list1)\n",
    "print(\"Addition of all list elements is:\", add) \n",
    "\n",
    "#output is 20 because or gives 1st numerical if applied in numbers "
   ]
  },
  {
   "cell_type": "code",
   "execution_count": null,
   "id": "3451dbb7",
   "metadata": {},
   "outputs": [],
   "source": []
  },
  {
   "cell_type": "code",
   "execution_count": 23,
   "id": "c8c7f57f",
   "metadata": {},
   "outputs": [],
   "source": [
    "def print_pattern(num_rows):\n",
    "    for i in range(num_rows):\n",
    "        for num_cols in range(num_rows-i):\n",
    "            print(\"*\",end=\"\") # why this print()\n",
    "        print() # why this print()"
   ]
  },
  {
   "cell_type": "code",
   "execution_count": 24,
   "id": "784859c3",
   "metadata": {},
   "outputs": [
    {
     "name": "stdout",
     "output_type": "stream",
     "text": [
      "****\n",
      "***\n",
      "**\n",
      "*\n"
     ]
    }
   ],
   "source": [
    "print_pattern(4)\n"
   ]
  },
  {
   "cell_type": "code",
   "execution_count": 15,
   "id": "91483407",
   "metadata": {},
   "outputs": [
    {
     "name": "stdout",
     "output_type": "stream",
     "text": [
      "***x\n",
      "**x\n",
      "*x\n"
     ]
    }
   ],
   "source": [
    "def print_pattern(num_rows):\n",
    "    for i in range(num_rows):\n",
    "        for num_cols in range(num_rows-i):\n",
    "            print(\"*\",end=\"\") # why this print()\n",
    "        print('x')\n",
    "print_pattern(3)"
   ]
  },
  {
   "cell_type": "code",
   "execution_count": null,
   "id": "5fa5560e",
   "metadata": {},
   "outputs": [],
   "source": []
  },
  {
   "cell_type": "code",
   "execution_count": 18,
   "id": "3a099851",
   "metadata": {},
   "outputs": [
    {
     "name": "stdout",
     "output_type": "stream",
     "text": [
      "*\n",
      "*\n",
      "*\n",
      "\n",
      "*\n",
      "*\n",
      "\n",
      "*\n",
      "\n"
     ]
    }
   ],
   "source": [
    "def print_pattern(num_rows):\n",
    "    for i in range(num_rows):\n",
    "        for num_cols in range(num_rows-i):\n",
    "            print(\"*\") # why this print()\n",
    "        print()\n",
    "        \n",
    "print_pattern(3)"
   ]
  },
  {
   "cell_type": "code",
   "execution_count": null,
   "id": "bb7a6983",
   "metadata": {},
   "outputs": [],
   "source": []
  },
  {
   "cell_type": "code",
   "execution_count": null,
   "id": "004938f3",
   "metadata": {},
   "outputs": [],
   "source": []
  },
  {
   "cell_type": "code",
   "execution_count": 35,
   "id": "128c6b32",
   "metadata": {},
   "outputs": [
    {
     "name": "stdout",
     "output_type": "stream",
     "text": [
      "**\n",
      "**\n",
      "**\n",
      "**\n",
      "\n",
      "**\n",
      "**\n",
      "**\n",
      "\n",
      "**\n",
      "**\n",
      "\n",
      "**\n",
      "\n"
     ]
    }
   ],
   "source": [
    "def print_pattern(num_rows):\n",
    "    for i in range(num_rows):\n",
    "        for num_cols in range(num_rows-i):\n",
    "            print(\"**\") # why this print()\n",
    "        print()\n",
    "        \n",
    "print_pattern(4)"
   ]
  },
  {
   "cell_type": "code",
   "execution_count": 48,
   "id": "6d77a16a",
   "metadata": {},
   "outputs": [
    {
     "data": {
      "text/plain": [
       "[20, 30, 20, 30, 20, 20, 45]"
      ]
     },
     "execution_count": 48,
     "metadata": {},
     "output_type": "execute_result"
    }
   ],
   "source": [
    "\n",
    "\n",
    "def remover():\n",
    "    a=[10,20,10,30,10,20,30,10,20,20,45]\n",
    "    while a.count(10)>0:\n",
    "        a.remove(10)\n",
    "    return a\n",
    "\n",
    "remover()"
   ]
  },
  {
   "cell_type": "code",
   "execution_count": null,
   "id": "8eed531d",
   "metadata": {},
   "outputs": [],
   "source": []
  },
  {
   "cell_type": "code",
   "execution_count": 52,
   "id": "55992172",
   "metadata": {},
   "outputs": [
    {
     "ename": "TypeError",
     "evalue": "remover() missing 1 required positional argument: 'a'",
     "output_type": "error",
     "traceback": [
      "\u001b[1;31m---------------------------------------------------------------------------\u001b[0m",
      "\u001b[1;31mTypeError\u001b[0m                                 Traceback (most recent call last)",
      "Cell \u001b[1;32mIn[52], line 8\u001b[0m\n\u001b[0;32m      5\u001b[0m         a\u001b[38;5;241m.\u001b[39mremove(\u001b[38;5;241m10\u001b[39m)\n\u001b[0;32m      6\u001b[0m     \u001b[38;5;28;01mreturn\u001b[39;00m a\n\u001b[1;32m----> 8\u001b[0m remover()\n",
      "\u001b[1;31mTypeError\u001b[0m: remover() missing 1 required positional argument: 'a'"
     ]
    }
   ],
   "source": [
    "a=[10,20,10,30,10,20,30,10,20,20,45]\n",
    "def remover(a):\n",
    "    \n",
    "    while a.count(10)>0:\n",
    "        a.remove(10)\n",
    "    return a\n",
    "\n",
    "remover()\n"
   ]
  },
  {
   "cell_type": "code",
   "execution_count": null,
   "id": "a754e567",
   "metadata": {},
   "outputs": [],
   "source": []
  },
  {
   "cell_type": "code",
   "execution_count": 65,
   "id": "4eb11d57",
   "metadata": {},
   "outputs": [
    {
     "name": "stdout",
     "output_type": "stream",
     "text": [
      "xyz\n",
      "xyz\n"
     ]
    },
    {
     "data": {
      "text/plain": [
       "16"
      ]
     },
     "execution_count": 65,
     "metadata": {},
     "output_type": "execute_result"
    }
   ],
   "source": [
    "def get_first_even(seq):\n",
    "    for i in seq:\n",
    "        if i%2==0:\n",
    "            return i\n",
    "        else:\n",
    "            print('xyz') \n",
    "    \n",
    "    \n",
    "get_first_even([13,25,16,8,2,4])"
   ]
  },
  {
   "cell_type": "code",
   "execution_count": null,
   "id": "b1ed48de",
   "metadata": {},
   "outputs": [],
   "source": []
  },
  {
   "cell_type": "code",
   "execution_count": 66,
   "id": "0033f8e5",
   "metadata": {},
   "outputs": [
    {
     "name": "stdout",
     "output_type": "stream",
     "text": [
      "xyz\n",
      "xyz\n"
     ]
    },
    {
     "data": {
      "text/plain": [
       "16"
      ]
     },
     "execution_count": 66,
     "metadata": {},
     "output_type": "execute_result"
    }
   ],
   "source": [
    "def get_first_even(seq):\n",
    "    for i in seq:\n",
    "        if i%2==0:\n",
    "            return i\n",
    "        else:\n",
    "            print('xyz') \n",
    "    \n",
    "    \n",
    "get_first_even([13,25,16,8,2,4])"
   ]
  },
  {
   "cell_type": "code",
   "execution_count": null,
   "id": "8381e90d",
   "metadata": {},
   "outputs": [],
   "source": []
  },
  {
   "cell_type": "code",
   "execution_count": 67,
   "id": "7527d571",
   "metadata": {},
   "outputs": [
    {
     "name": "stdout",
     "output_type": "stream",
     "text": [
      "xyz\n",
      "xyz\n"
     ]
    }
   ],
   "source": [
    "def get_first_even(seq):\n",
    "    for i in seq:\n",
    "        if i%2==0:\n",
    "            break\n",
    "        else:\n",
    "            print('xyz') \n",
    "    \n",
    "    \n",
    "get_first_even([13,25,16,8,2,4])"
   ]
  },
  {
   "cell_type": "code",
   "execution_count": null,
   "id": "17bbe881",
   "metadata": {},
   "outputs": [],
   "source": []
  },
  {
   "cell_type": "code",
   "execution_count": null,
   "id": "b320fff8",
   "metadata": {},
   "outputs": [],
   "source": []
  },
  {
   "cell_type": "code",
   "execution_count": 12,
   "id": "ab7e48fb",
   "metadata": {},
   "outputs": [
    {
     "ename": "SyntaxError",
     "evalue": "cannot assign to function call here. Maybe you meant '==' instead of '='? (3906634493.py, line 9)",
     "output_type": "error",
     "traceback": [
      "\u001b[1;36m  Cell \u001b[1;32mIn[12], line 9\u001b[1;36m\u001b[0m\n\u001b[1;33m    if a.count(i)=max\u001b[0m\n\u001b[1;37m       ^\u001b[0m\n\u001b[1;31mSyntaxError\u001b[0m\u001b[1;31m:\u001b[0m cannot assign to function call here. Maybe you meant '==' instead of '='?\n"
     ]
    }
   ],
   "source": [
    "def mean(a):\n",
    "    x=sum(a)/len(a)\n",
    "    return x\n",
    "v=mean([1,2,3,10,11,13,16])\n",
    "print(v)\n",
    "\n",
    "def mode(a):\n",
    "    for i in a:\n",
    "        if a.count(i)=max\n",
    "        \n",
    "        \n",
    "def median(a):\n",
    "    for i in a:\n",
    "        if len(a)%2==0:\n",
    "            print((len(a)/2+len(a)/2+1)/2)\n",
    "        else:\n",
    "            len(a)%2!==0\n",
    "            print((len(a)+1)/2)\n",
    "            \n",
    "            \n",
    "            \n",
    "    \n",
    "    \n",
    "    \n",
    "    "
   ]
  },
  {
   "cell_type": "code",
   "execution_count": 20,
   "id": "104cf469",
   "metadata": {},
   "outputs": [
    {
     "ename": "TypeError",
     "evalue": "list indices must be integers or slices, not float",
     "output_type": "error",
     "traceback": [
      "\u001b[1;31m---------------------------------------------------------------------------\u001b[0m",
      "\u001b[1;31mTypeError\u001b[0m                                 Traceback (most recent call last)",
      "Cell \u001b[1;32mIn[20], line 13\u001b[0m\n\u001b[0;32m      9\u001b[0m             \u001b[38;5;28mprint\u001b[39m(a[M1])\n\u001b[0;32m     11\u001b[0m         \u001b[38;5;28;01mbreak\u001b[39;00m\n\u001b[1;32m---> 13\u001b[0m x\u001b[38;5;241m=\u001b[39mmedian([\u001b[38;5;241m10\u001b[39m,\u001b[38;5;241m20\u001b[39m,\u001b[38;5;241m10\u001b[39m,\u001b[38;5;241m20\u001b[39m,\u001b[38;5;241m25\u001b[39m,\u001b[38;5;241m35\u001b[39m,\u001b[38;5;241m10\u001b[39m,\u001b[38;5;241m15\u001b[39m,\u001b[38;5;241m20\u001b[39m])\n",
      "Cell \u001b[1;32mIn[20], line 9\u001b[0m, in \u001b[0;36mmedian\u001b[1;34m(a)\u001b[0m\n\u001b[0;32m      7\u001b[0m     \u001b[38;5;28mlen\u001b[39m(a)\u001b[38;5;241m%\u001b[39m\u001b[38;5;241m2\u001b[39m\u001b[38;5;241m!=\u001b[39m\u001b[38;5;241m0\u001b[39m\n\u001b[0;32m      8\u001b[0m     M1\u001b[38;5;241m=\u001b[39m(\u001b[38;5;28mlen\u001b[39m(a)\u001b[38;5;241m+\u001b[39m\u001b[38;5;241m1\u001b[39m)\u001b[38;5;241m/\u001b[39m\u001b[38;5;241m2\u001b[39m\n\u001b[1;32m----> 9\u001b[0m     \u001b[38;5;28mprint\u001b[39m(a[M1])\n\u001b[0;32m     11\u001b[0m \u001b[38;5;28;01mbreak\u001b[39;00m\n",
      "\u001b[1;31mTypeError\u001b[0m: list indices must be integers or slices, not float"
     ]
    }
   ],
   "source": [
    "def median(a):\n",
    "    for i in a:\n",
    "        if len(a)%2==0:\n",
    "            M=(len(a)/2+len(a)/2+1)/2\n",
    "            print(a[M])\n",
    "        else:\n",
    "            len(a)%2!=0\n",
    "            M1=(len(a)+1)/2 # it should be flor division to avoid decimal points \n",
    "            print(a[M1])\n",
    "            \n",
    "        break\n",
    "        \n",
    "x=median([10,20,10,20,25,35,10,15,20])"
   ]
  },
  {
   "cell_type": "code",
   "execution_count": 24,
   "id": "34ad7f99",
   "metadata": {},
   "outputs": [
    {
     "name": "stdout",
     "output_type": "stream",
     "text": [
      "35\n"
     ]
    }
   ],
   "source": [
    "def median(a):\n",
    "    for i in a:\n",
    "        if len(a)%2==0:\n",
    "            M=(len(a)/2+len(a)/2+1)//2\n",
    "            print(a[M])\n",
    "        else:\n",
    "            len(a)%2!=0\n",
    "            M1=(len(a)+1)//2\n",
    "            print(a[M1])       # index should bw fixed c/z is starts counting from 0 in indexing \n",
    "            \n",
    "        break\n",
    "        \n",
    "x=median([10,20,10,20,25,35,10,15,20])"
   ]
  },
  {
   "cell_type": "code",
   "execution_count": null,
   "id": "4648f03a",
   "metadata": {},
   "outputs": [],
   "source": []
  },
  {
   "cell_type": "code",
   "execution_count": null,
   "id": "ff4b0499",
   "metadata": {},
   "outputs": [],
   "source": [
    "def mode(a):\n",
    "    for i in a:\n",
    "        "
   ]
  },
  {
   "cell_type": "code",
   "execution_count": 33,
   "id": "9b1f1488",
   "metadata": {},
   "outputs": [
    {
     "ename": "TypeError",
     "evalue": "'int' object is not iterable",
     "output_type": "error",
     "traceback": [
      "\u001b[1;31m---------------------------------------------------------------------------\u001b[0m",
      "\u001b[1;31mTypeError\u001b[0m                                 Traceback (most recent call last)",
      "Cell \u001b[1;32mIn[33], line 4\u001b[0m\n\u001b[0;32m      1\u001b[0m l\u001b[38;5;241m=\u001b[39m[\u001b[38;5;241m1\u001b[39m,\u001b[38;5;241m2\u001b[39m,\u001b[38;5;241m1\u001b[39m,\u001b[38;5;241m1\u001b[39m,\u001b[38;5;241m3\u001b[39m,\u001b[38;5;241m35\u001b[39m,\u001b[38;5;241m5\u001b[39m,\u001b[38;5;241m2\u001b[39m,\u001b[38;5;241m21\u001b[39m,\u001b[38;5;241m1\u001b[39m,\u001b[38;5;241m1\u001b[39m,\u001b[38;5;241m1\u001b[39m,\u001b[38;5;241m2\u001b[39m,\u001b[38;5;241m2\u001b[39m,\u001b[38;5;241m3\u001b[39m,\u001b[38;5;241m3\u001b[39m,\u001b[38;5;241m4\u001b[39m,\u001b[38;5;241m7\u001b[39m,\u001b[38;5;241m98\u001b[39m,\u001b[38;5;241m9\u001b[39m,\u001b[38;5;241m9\u001b[39m,\u001b[38;5;241m90\u001b[39m,\u001b[38;5;241m76\u001b[39m,\u001b[38;5;241m56\u001b[39m,\u001b[38;5;241m555\u001b[39m,\u001b[38;5;241m4\u001b[39m,\u001b[38;5;241m3\u001b[39m,\u001b[38;5;241m3\u001b[39m,\u001b[38;5;241m2\u001b[39m,\u001b[38;5;241m1\u001b[39m,\u001b[38;5;241m2\u001b[39m]\n\u001b[0;32m      3\u001b[0m \u001b[38;5;28;01mfor\u001b[39;00m i \u001b[38;5;129;01min\u001b[39;00m l:\n\u001b[1;32m----> 4\u001b[0m     \u001b[38;5;28;01mfor\u001b[39;00m a \u001b[38;5;129;01min\u001b[39;00m i:\n\u001b[0;32m      5\u001b[0m         i\u001b[38;5;241m.\u001b[39mcount(a)\n\u001b[0;32m      6\u001b[0m         \u001b[38;5;28mprint\u001b[39m(a\u001b[38;5;241m>\u001b[39m\u001b[38;5;241m5\u001b[39m)\n",
      "\u001b[1;31mTypeError\u001b[0m: 'int' object is not iterable"
     ]
    }
   ],
   "source": [
    "l=[1,2,1,1,3,35,5,2,21,1,1,1,2,2,3,3,4,7,98,9,9,90,76,56,555,4,3,3,2,1,2]\n",
    "\n",
    "for i in l:\n",
    "    for a in i:\n",
    "        i.count(a)\n",
    "        print(a>5)\n",
    "      \n",
    "\n"
   ]
  },
  {
   "cell_type": "code",
   "execution_count": null,
   "id": "1c1e4ff3",
   "metadata": {},
   "outputs": [],
   "source": []
  },
  {
   "cell_type": "code",
   "execution_count": null,
   "id": "de424bfe",
   "metadata": {},
   "outputs": [],
   "source": []
  },
  {
   "cell_type": "code",
   "execution_count": null,
   "id": "a5133429",
   "metadata": {},
   "outputs": [],
   "source": []
  },
  {
   "cell_type": "code",
   "execution_count": null,
   "id": "940e0347",
   "metadata": {},
   "outputs": [],
   "source": []
  },
  {
   "cell_type": "markdown",
   "id": "8914bc5c",
   "metadata": {},
   "source": [
    "## Final"
   ]
  },
  {
   "cell_type": "code",
   "execution_count": 25,
   "id": "a9f452a0",
   "metadata": {},
   "outputs": [
    {
     "name": "stdout",
     "output_type": "stream",
     "text": [
      "25\n"
     ]
    }
   ],
   "source": [
    "def median(a):\n",
    "    for i in a:\n",
    "        if len(a)%2==0:\n",
    "            M=(len(a)/2+len(a)/2+1)//2\n",
    "            print(a[M-1])\n",
    "        else:\n",
    "            len(a)%2!=0\n",
    "            M1=(len(a)+1)//2\n",
    "            print(a[M1-1])\n",
    "            \n",
    "        break\n",
    "        \n",
    "x=median([10,20,10,20,25,35,10,15,20])"
   ]
  },
  {
   "cell_type": "code",
   "execution_count": 26,
   "id": "fc8f9389",
   "metadata": {},
   "outputs": [
    {
     "name": "stdout",
     "output_type": "stream",
     "text": [
      "18.333333333333332\n"
     ]
    }
   ],
   "source": [
    "def mean(a):\n",
    "    x=sum(a)/len(a)\n",
    "    return x\n",
    "v=mean([10,20,10,20,25,35,10,15,20])\n",
    "print(v)\n"
   ]
  },
  {
   "cell_type": "code",
   "execution_count": null,
   "id": "13c00bae",
   "metadata": {},
   "outputs": [],
   "source": [
    "def mode(a):\n",
    "    "
   ]
  },
  {
   "cell_type": "code",
   "execution_count": null,
   "id": "8b359f65",
   "metadata": {},
   "outputs": [],
   "source": []
  },
  {
   "cell_type": "code",
   "execution_count": null,
   "id": "b784ca4c",
   "metadata": {},
   "outputs": [],
   "source": []
  },
  {
   "cell_type": "code",
   "execution_count": null,
   "id": "8bb10b8e",
   "metadata": {},
   "outputs": [],
   "source": []
  }
 ],
 "metadata": {
  "kernelspec": {
   "display_name": "Python 3 (ipykernel)",
   "language": "python",
   "name": "python3"
  },
  "language_info": {
   "codemirror_mode": {
    "name": "ipython",
    "version": 3
   },
   "file_extension": ".py",
   "mimetype": "text/x-python",
   "name": "python",
   "nbconvert_exporter": "python",
   "pygments_lexer": "ipython3",
   "version": "3.11.7"
  }
 },
 "nbformat": 4,
 "nbformat_minor": 5
}
