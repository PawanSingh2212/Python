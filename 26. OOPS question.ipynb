{
 "cells": [
  {
   "cell_type": "markdown",
   "id": "1b957362",
   "metadata": {},
   "source": [
    "### 1. Bank Accont:\n",
    "\n",
    "Create a bank account class with state attributes like account_number , holder_name and balance, implement methods for  deposit, withdraw and display balance"
   ]
  },
  {
   "cell_type": "code",
   "execution_count": 14,
   "id": "aed63123",
   "metadata": {},
   "outputs": [
    {
     "name": "stdout",
     "output_type": "stream",
     "text": [
      "acc_no.= 1234123 name= pawan available_balanace= 2000\n",
      "please select the option+\n",
      "please enter the ammount4000\n",
      "new balance 6000\n"
     ]
    }
   ],
   "source": [
    "class Bank_account:\n",
    "    bank='SBI'\n",
    "    def __init__(self,account_no,name, balance):\n",
    "        self.acc=account_no\n",
    "        self.name=name\n",
    "        self.bal=balance\n",
    "    def detail(self):\n",
    "        print('acc_no.=',self.acc,'name=',self.name,'available_balanace=',self.bal)\n",
    "        \n",
    "    def operation(self):\n",
    "        x=input('please select the option')\n",
    "        if x=='+':\n",
    "                y=int(input('please enter the ammount'))\n",
    "                print('new balance',self.bal+y)\n",
    "        if x=='-':\n",
    "                z=int(input('please nter the amount'))\n",
    "                print('new balance is',self.bal-z)\n",
    "        if x=='check balance':\n",
    "                print(self.bal)\n",
    "                            \n",
    "new=Bank_account(1234123,'pawan',2000)\n",
    "new.detail()\n",
    "new.operation()     \n",
    "\n"
   ]
  },
  {
   "cell_type": "code",
   "execution_count": null,
   "id": "52df916b",
   "metadata": {},
   "outputs": [],
   "source": []
  },
  {
   "cell_type": "code",
   "execution_count": null,
   "id": "3435442a",
   "metadata": {},
   "outputs": [],
   "source": []
  },
  {
   "cell_type": "code",
   "execution_count": null,
   "id": "ff2d54c4",
   "metadata": {},
   "outputs": [],
   "source": []
  },
  {
   "cell_type": "markdown",
   "id": "cb16e490",
   "metadata": {},
   "source": [
    "### 2. Car \n",
    "\n",
    "Create a car class with state attributes like make , model,and year, imeplement methods to start the car, stop the car and display its details"
   ]
  },
  {
   "cell_type": "code",
   "execution_count": null,
   "id": "2d995139",
   "metadata": {},
   "outputs": [],
   "source": []
  },
  {
   "cell_type": "code",
   "execution_count": null,
   "id": "d3142319",
   "metadata": {},
   "outputs": [],
   "source": [
    "class car:\n",
    "    brand='mahindra'\n",
    "    def __init__(self,name,make,model,manufacture_year):\n",
    "        self.n=name\n",
    "        self.mk=make\n",
    "        self.m=model\n",
    "        self.my=manufacture_year\n",
    "    def show(self):\n",
    "        print('Brand=',brand,'car=',self.n,'model='self.m,'manufracture year=',self.m)\n",
    "        \n",
    "    def "
   ]
  },
  {
   "cell_type": "code",
   "execution_count": null,
   "id": "acb367fd",
   "metadata": {},
   "outputs": [],
   "source": []
  },
  {
   "cell_type": "markdown",
   "id": "ddef03b8",
   "metadata": {},
   "source": [
    "### 3. Student \n",
    "Create a student class with attributes like name,roll_number, and grades , implement a method to calculate the average grade"
   ]
  },
  {
   "cell_type": "code",
   "execution_count": 3,
   "id": "66958273",
   "metadata": {},
   "outputs": [
    {
     "name": "stdout",
     "output_type": "stream",
     "text": [
      "roll no= 21 Marks= 80 65 90 50\n",
      "average marks are= 71.25\n"
     ]
    }
   ],
   "source": [
    "class student:\n",
    "    def __init__(self,roll_no,marks1,marks2,marks3,marks4):\n",
    "        self.r=roll_no\n",
    "        self.m1=marks1\n",
    "        self.m2=marks2\n",
    "        self.m3=marks3\n",
    "        self.m4=marks4\n",
    "    def show(self):\n",
    "        print('roll no=',self.r,'Marks=',self.m1,self.m2,self.m3,self.m4)\n",
    "        \n",
    "    def average(self):\n",
    "        avg=(self.m1+self.m2+self.m3+self.m4)/4\n",
    "        print('average marks are=',avg)\n",
    "    \n",
    "Rahul=student(21,80,65,90,50)\n",
    "Rahul.show()\n",
    "Rahul.average()"
   ]
  },
  {
   "cell_type": "code",
   "execution_count": null,
   "id": "f8ed815a",
   "metadata": {},
   "outputs": [],
   "source": []
  },
  {
   "cell_type": "code",
   "execution_count": null,
   "id": "f30f5002",
   "metadata": {},
   "outputs": [],
   "source": []
  },
  {
   "cell_type": "markdown",
   "id": "c7b6c0ca",
   "metadata": {},
   "source": [
    "### 4. Book \n",
    "\n",
    "Create a book class with attributes like title, author and genre .Implement a method to display  book details "
   ]
  },
  {
   "cell_type": "code",
   "execution_count": 1,
   "id": "25491933",
   "metadata": {},
   "outputs": [
    {
     "name": "stdout",
     "output_type": "stream",
     "text": [
      "name of the book= Goal written by= Brain Tracy genre\n"
     ]
    }
   ],
   "source": [
    "class book:\n",
    "    def __init__(self,title,author,genre):\n",
    "        self.x=title\n",
    "        self.y=author\n",
    "        self.z=genre\n",
    "    def detail(self):\n",
    "        print('name of the book=',self.x,'written by=',self.y,'genre')\n",
    "\n",
    "book1=book('Goal','Brain Tracy','inspirational')\n",
    "book1.detail()\n",
    "\n",
    "book2=book()"
   ]
  },
  {
   "cell_type": "code",
   "execution_count": null,
   "id": "91c40f77",
   "metadata": {},
   "outputs": [],
   "source": []
  },
  {
   "cell_type": "code",
   "execution_count": null,
   "id": "03597473",
   "metadata": {},
   "outputs": [],
   "source": []
  },
  {
   "cell_type": "code",
   "execution_count": null,
   "id": "f855a51c",
   "metadata": {},
   "outputs": [],
   "source": []
  },
  {
   "cell_type": "code",
   "execution_count": null,
   "id": "06188851",
   "metadata": {},
   "outputs": [],
   "source": []
  },
  {
   "cell_type": "markdown",
   "id": "2fae3aa0",
   "metadata": {},
   "source": [
    "### 5. LMS( Learning Management System) - # steps take one by one \n",
    "\n",
    "To create a simple Learning Management system (LMS) using Object Oriented Programmimg (OOP) principle, we  can start  by defining  basic classes and their  relationships. Below is a simplified  example in python  "
   ]
  },
  {
   "cell_type": "code",
   "execution_count": null,
   "id": "95ec5d6a",
   "metadata": {},
   "outputs": [],
   "source": []
  },
  {
   "cell_type": "code",
   "execution_count": null,
   "id": "bd0c327b",
   "metadata": {},
   "outputs": [],
   "source": []
  },
  {
   "cell_type": "markdown",
   "id": "6bc01a8c",
   "metadata": {},
   "source": [
    "### 6. Shape and triangle \n",
    "\n",
    "Define a shape class  and create a Triangle class that inherits from it .The shape class can have  attributes  like colour and methods  to calculate  area and perimeter .The triangle class should have attributes for its sides and angles "
   ]
  },
  {
   "cell_type": "code",
   "execution_count": 1,
   "id": "2067f5dd",
   "metadata": {},
   "outputs": [
    {
     "data": {
      "text/plain": [
       "58"
      ]
     },
     "execution_count": 1,
     "metadata": {},
     "output_type": "execute_result"
    }
   ],
   "source": [
    "class shape:\n",
    "    def __init__(self,colour):\n",
    "        self.c=colour\n",
    "    def cal_peremeter(self):\n",
    "        p=self.x+self.y+self.z\n",
    "        return p\n",
    "   \n",
    "class triangle(shape):\n",
    "    def __init__(self,x,y,z):\n",
    "        self.x=x\n",
    "        self.y=y\n",
    "        self.z=z\n",
    "        \n",
    "t1=triangle(12,34,12)\n",
    "t1.cal_peremeter()"
   ]
  },
  {
   "cell_type": "code",
   "execution_count": 5,
   "id": "dd8feaa2",
   "metadata": {},
   "outputs": [
    {
     "ename": "TypeError",
     "evalue": "triangle.__init__() takes 3 positional arguments but 4 were given",
     "output_type": "error",
     "traceback": [
      "\u001b[1;31m---------------------------------------------------------------------------\u001b[0m",
      "\u001b[1;31mTypeError\u001b[0m                                 Traceback (most recent call last)",
      "Cell \u001b[1;32mIn[5], line 19\u001b[0m\n\u001b[0;32m     17\u001b[0m         \u001b[38;5;28mself\u001b[39m\u001b[38;5;241m.\u001b[39mH\u001b[38;5;241m=\u001b[39mH\n\u001b[0;32m     18\u001b[0m         \u001b[38;5;28mself\u001b[39m\u001b[38;5;241m.\u001b[39mB\u001b[38;5;241m=\u001b[39mB\n\u001b[1;32m---> 19\u001b[0m t1\u001b[38;5;241m=\u001b[39mtriangle(\u001b[38;5;241m12\u001b[39m,\u001b[38;5;241m34\u001b[39m,\u001b[38;5;241m12\u001b[39m)\n\u001b[0;32m     20\u001b[0m t1\u001b[38;5;241m.\u001b[39mcal_peremeter()\n",
      "\u001b[1;31mTypeError\u001b[0m: triangle.__init__() takes 3 positional arguments but 4 were given"
     ]
    }
   ],
   "source": [
    "class shape:\n",
    "    def __init__(self,colour):\n",
    "        self.c=colour\n",
    "    def cal_peremeter(self):\n",
    "        p=self.x+self.y+self.z\n",
    "        return p\n",
    "    def cal_area(self):\n",
    "        a=1/2*H*B\n",
    "        return a\n",
    "   \n",
    "class triangle(shape):\n",
    "    def __init__(self,x,y,z):\n",
    "        self.x=x\n",
    "        self.y=y\n",
    "        self.z=z\n",
    "    def __init__(self,H,B):  #can't use two constructor in one class only \n",
    "        self.H=H\n",
    "        self.B=B\n",
    "t1=triangle(12,34,12)\n",
    "t1.cal_peremeter()"
   ]
  },
  {
   "cell_type": "code",
   "execution_count": null,
   "id": "637ff1f1",
   "metadata": {},
   "outputs": [],
   "source": []
  },
  {
   "cell_type": "code",
   "execution_count": 17,
   "id": "91bdf6c8",
   "metadata": {},
   "outputs": [
    {
     "name": "stdout",
     "output_type": "stream",
     "text": [
      "400\n",
      "80\n"
     ]
    }
   ],
   "source": [
    "class shape:\n",
    "    def __init__(self,colour):\n",
    "        self.c=colour\n",
    "    def area(self):\n",
    "        a=self.side*self.side\n",
    "        return a\n",
    "    def perimeter(self):\n",
    "        p=4*self.side\n",
    "        return p\n",
    "    \n",
    "class square(shape):\n",
    "    def __init__(self,side):\n",
    "        self.side=side\n",
    "        \n",
    "s1=square(20)\n",
    "print(s1.area())\n",
    "print(s1.perimeter())"
   ]
  },
  {
   "cell_type": "code",
   "execution_count": null,
   "id": "3682d29d",
   "metadata": {},
   "outputs": [],
   "source": []
  },
  {
   "cell_type": "markdown",
   "id": "bbfac9d0",
   "metadata": {},
   "source": [
    "### 7."
   ]
  },
  {
   "cell_type": "code",
   "execution_count": null,
   "id": "7a1d7f65",
   "metadata": {},
   "outputs": [],
   "source": []
  },
  {
   "cell_type": "code",
   "execution_count": null,
   "id": "1d33cd19",
   "metadata": {},
   "outputs": [],
   "source": []
  },
  {
   "cell_type": "code",
   "execution_count": null,
   "id": "817e81a7",
   "metadata": {},
   "outputs": [],
   "source": []
  }
 ],
 "metadata": {
  "kernelspec": {
   "display_name": "Python 3 (ipykernel)",
   "language": "python",
   "name": "python3"
  },
  "language_info": {
   "codemirror_mode": {
    "name": "ipython",
    "version": 3
   },
   "file_extension": ".py",
   "mimetype": "text/x-python",
   "name": "python",
   "nbconvert_exporter": "python",
   "pygments_lexer": "ipython3",
   "version": "3.11.3"
  }
 },
 "nbformat": 4,
 "nbformat_minor": 5
}
