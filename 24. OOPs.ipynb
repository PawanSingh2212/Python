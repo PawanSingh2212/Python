{
 "cells": [
  {
   "cell_type": "markdown",
   "id": "720cf022",
   "metadata": {},
   "source": [
    "# OOPS\n",
    "\n",
    "In python, object-oriented programming (OOPS) is a programming paradigm(pattern) that uses objects and classes in programming. It aims to implement real-word entities like inheritance, polymorphisms, encapsulation,etc in the  programming. The main concept of oops is to bind the data and the function that works on that together as a single unit so that no other part of the code can be access this data \n",
    "\n",
    "\n",
    "## OOPs Concepts in python\n",
    "\n",
    "- Class\n",
    "- Objects\n",
    "- polymorphism\n",
    "- Encapsulation\n",
    "- Inheritance\n",
    "- Data Abstraction"
   ]
  },
  {
   "cell_type": "markdown",
   "id": "cb469da1",
   "metadata": {},
   "source": [
    "## Python Class \n",
    "\n",
    "A class is a collection of objects.A class contains the blueprints or the prototype from which the object are being created. It is a logical entity that contains some attributes and methods\n",
    "\n",
    "\n",
    "To understand the need for creating a class let's consider an example, let's say you wanted to track the number of dogs that may have different attributes like breed, and age. If a list is used, the first element coould be the dog's breed while the second element could represent its age. let's suppose there are 100 differnt dogs, then how would you know which element is supposed to be which? whts if you wanted to add other properties to these dogs? this lacks  organisation and it's the exact need for classes\n",
    "\n",
    "#### Some points on python class: \n",
    "\n",
    "- Classes are created by keyword class.\n",
    "- Attributes are the variable that belongs to a class \n",
    "- Attributes are always public and can be accessed using the dot(.) operator. Eg: Myclass.Myattribute"
   ]
  },
  {
   "cell_type": "code",
   "execution_count": 2,
   "id": "f35db03e",
   "metadata": {},
   "outputs": [
    {
     "ename": "TypeError",
     "evalue": "descriptor 'append' for 'list' objects doesn't apply to a 'tuple' object",
     "output_type": "error",
     "traceback": [
      "\u001b[1;31m---------------------------------------------------------------------------\u001b[0m",
      "\u001b[1;31mTypeError\u001b[0m                                 Traceback (most recent call last)",
      "Cell \u001b[1;32mIn[2], line 1\u001b[0m\n\u001b[1;32m----> 1\u001b[0m \u001b[38;5;28mlist\u001b[39m\u001b[38;5;241m.\u001b[39mappend((\u001b[38;5;241m2\u001b[39m,))\n",
      "\u001b[1;31mTypeError\u001b[0m: descriptor 'append' for 'list' objects doesn't apply to a 'tuple' object"
     ]
    }
   ],
   "source": [
    "list.append((2,)) # here list is an object and append is an attribute of list\n",
    "\n",
    "# we can access list by attribute append\n",
    "\n",
    "# list is also a class object"
   ]
  },
  {
   "cell_type": "code",
   "execution_count": null,
   "id": "7b1f9198",
   "metadata": {},
   "outputs": [],
   "source": []
  },
  {
   "cell_type": "code",
   "execution_count": null,
   "id": "52636f95",
   "metadata": {},
   "outputs": [],
   "source": [
    "class Employee:\n",
    "    # class variable\n",
    "    company_name='abc company'\n",
    "    \n",
    "    # construct"
   ]
  },
  {
   "cell_type": "code",
   "execution_count": null,
   "id": "b72f55ae",
   "metadata": {},
   "outputs": [],
   "source": []
  },
  {
   "cell_type": "code",
   "execution_count": 2,
   "id": "8e0214a7",
   "metadata": {},
   "outputs": [
    {
     "name": "stdout",
     "output_type": "stream",
     "text": [
      "bike pulsur 220 bajaj\n",
      "bike paltina 109 bajaj\n"
     ]
    }
   ],
   "source": [
    "class bike:\n",
    "    # class variable\n",
    "    company_name='bajaj'\n",
    "    \n",
    "    # constructor to initialize the object\n",
    "    def __init__(self,name,cc): # instance varible\n",
    "            self.name= name\n",
    "            self.cc=cc\n",
    "            \n",
    "    def show(self):  # instance method\n",
    "        print('bike',self.name,self.cc,self.company_name)\n",
    "        \n",
    "#create first object\n",
    "\n",
    "b1=bike('pulsur',220)\n",
    "b1.show()\n",
    "\n",
    "# create second object\n",
    "\n",
    "b2=bike('paltina',109)\n",
    "b2.show()            "
   ]
  },
  {
   "cell_type": "code",
   "execution_count": null,
   "id": "e2e4fe30",
   "metadata": {},
   "outputs": [],
   "source": []
  },
  {
   "cell_type": "code",
   "execution_count": 16,
   "id": "609c7ba1",
   "metadata": {},
   "outputs": [
    {
     "name": "stdout",
     "output_type": "stream",
     "text": [
      "dogs billu 45 black 20 India gregwer\n",
      "<class '__main__.dogs'>\n",
      "dogs nillu 23 blue 12 India gregwer\n",
      "<class '__main__.dogs'>\n"
     ]
    }
   ],
   "source": [
    "class dogs:\n",
    "    region='India'\n",
    "    \n",
    "    \n",
    "    def __init__(self,name,height,colour,weight,):\n",
    "        self.x=name\n",
    "        self.y=height\n",
    "        self.z=colour\n",
    "        self.a=weight\n",
    "        \n",
    "    def show(self):\n",
    "        print('dogs',self.x,self.y,self.z,self.a,self.region,'gregwer')\n",
    "        \n",
    "        \n",
    "kukur1=dogs('billu',45,'black',20)\n",
    "kukur1.show()\n",
    "\n",
    "print(type(kukur1))\n",
    "\n",
    "kukur2=dogs('nillu',23,'blue',12)\n",
    "kukur2.show()\n",
    "\n",
    "print(type(kukur2))"
   ]
  },
  {
   "cell_type": "code",
   "execution_count": null,
   "id": "e0641abf",
   "metadata": {},
   "outputs": [],
   "source": [
    "class gaana:\n",
    "    music='kaka'\n",
    "    \n",
    "    def __init__(self,name,st,nd,rd,th):\n",
    "        self.name=name\n",
    "        self.st=st\n",
    "        self.nd=nd\n",
    "        self.rd=rd\n",
    "        self.th=th\n",
    "        \n",
    "    def show(self):\n",
    "        print()\n",
    "    "
   ]
  },
  {
   "cell_type": "code",
   "execution_count": null,
   "id": "7e589628",
   "metadata": {},
   "outputs": [],
   "source": []
  },
  {
   "cell_type": "code",
   "execution_count": 2,
   "id": "f9842c75",
   "metadata": {},
   "outputs": [
    {
     "name": "stdout",
     "output_type": "stream",
     "text": [
      "cars thaar v2 blue\n"
     ]
    }
   ],
   "source": [
    "a=['v2','thaar','blue']\n",
    "b=['4*4','xuv300','black']\n",
    "c=['v4','bolaro','white']\n",
    "class cars:\n",
    "    brand='mahindra'\n",
    "    def __init__(self,name,engine_type,colour):\n",
    "        self.name=name\n",
    "        self.engine_type=engine_type\n",
    "        self.colour=colour\n",
    "        \n",
    "    def show(self):\n",
    "        print('cars',self.name,self.engine_type,self.colour)\n",
    "        \n",
    "type1=cars(a[1],a[0],a[2])\n",
    "type1.show()"
   ]
  },
  {
   "cell_type": "code",
   "execution_count": null,
   "id": "e13c25ec",
   "metadata": {},
   "outputs": [],
   "source": []
  },
  {
   "cell_type": "code",
   "execution_count": 5,
   "id": "94f2511a",
   "metadata": {},
   "outputs": [
    {
     "data": {
      "text/plain": [
       "['1', '23', '42', '23']"
      ]
     },
     "execution_count": 5,
     "metadata": {},
     "output_type": "execute_result"
    }
   ],
   "source": [
    "class list1:\n",
    "    def __init__(self,_1):\n",
    "        self._1=_1\n",
    "        \n",
    "    def string(self):\n",
    "        string=[]\n",
    "        for i in self._1:\n",
    "            string.append(str(i))\n",
    "        return string\n",
    "a=[1,23,42,23]\n",
    "list1(a).string()    "
   ]
  },
  {
   "cell_type": "code",
   "execution_count": null,
   "id": "ed5f3f7e",
   "metadata": {},
   "outputs": [],
   "source": []
  },
  {
   "cell_type": "code",
   "execution_count": 6,
   "id": "a6046008",
   "metadata": {},
   "outputs": [
    {
     "data": {
      "text/plain": [
       "['1', '23', '42', '23']"
      ]
     },
     "execution_count": 6,
     "metadata": {},
     "output_type": "execute_result"
    }
   ],
   "source": [
    "    def __init__(self,_1):\n",
    "        self._1=_1\n",
    "        \n",
    "    def string(self):\n",
    "        string=[]\n",
    "        for i in self._1:\n",
    "            string.append(str(i))\n",
    "            return string\n",
    "a=[1,23,42,23]\n",
    "list1(a).string() "
   ]
  },
  {
   "cell_type": "code",
   "execution_count": null,
   "id": "1d2258ab",
   "metadata": {},
   "outputs": [],
   "source": []
  },
  {
   "cell_type": "code",
   "execution_count": 8,
   "id": "f2d0fc77",
   "metadata": {},
   "outputs": [
    {
     "data": {
      "text/plain": [
       "[12]"
      ]
     },
     "execution_count": 8,
     "metadata": {},
     "output_type": "execute_result"
    }
   ],
   "source": [
    "class data_type:\n",
    "    type_='list'\n",
    "    def __init__(self,argument):\n",
    "        self.argument=argument\n",
    "    def no_index(self):\n",
    "        list1=[]\n",
    "        for i in self.argument:\n",
    "            if i%2==0:\n",
    "                list1.append(i)\n",
    "                return list1\n",
    "            else:\n",
    "                pass\n",
    "a=[12,32,23,13,15,24,22,2,0]\n",
    "data_type(a).no_index()\n"
   ]
  },
  {
   "cell_type": "code",
   "execution_count": null,
   "id": "322dd921",
   "metadata": {},
   "outputs": [],
   "source": []
  },
  {
   "cell_type": "code",
   "execution_count": 17,
   "id": "02c7b192",
   "metadata": {},
   "outputs": [
    {
     "ename": "AttributeError",
     "evalue": "'machine' object has no attribute 'power'",
     "output_type": "error",
     "traceback": [
      "\u001b[1;31m---------------------------------------------------------------------------\u001b[0m",
      "\u001b[1;31mAttributeError\u001b[0m                            Traceback (most recent call last)",
      "Cell \u001b[1;32mIn[17], line 11\u001b[0m\n\u001b[0;32m      8\u001b[0m         \u001b[38;5;28mprint\u001b[39m(\u001b[38;5;124m'\u001b[39m\u001b[38;5;124mmachine is\u001b[39m\u001b[38;5;124m'\u001b[39m,\u001b[38;5;28mself\u001b[39m\u001b[38;5;241m.\u001b[39mname,\u001b[38;5;124m'\u001b[39m\u001b[38;5;124mpower is\u001b[39m\u001b[38;5;124m'\u001b[39m,\u001b[38;5;28mself\u001b[39m\u001b[38;5;241m.\u001b[39mpower,\u001b[38;5;124m'\u001b[39m\u001b[38;5;124mits uses\u001b[39m\u001b[38;5;124m'\u001b[39m,\u001b[38;5;28mself\u001b[39m\u001b[38;5;241m.\u001b[39muses,\u001b[38;5;124m'\u001b[39m\u001b[38;5;124mcapacity\u001b[39m\u001b[38;5;124m'\u001b[39m,\u001b[38;5;28mself\u001b[39m\u001b[38;5;241m.\u001b[39mload_time)\n\u001b[0;32m     10\u001b[0m M1\u001b[38;5;241m=\u001b[39mmachine(\u001b[38;5;124m'\u001b[39m\u001b[38;5;124mgenerator\u001b[39m\u001b[38;5;124m'\u001b[39m,\u001b[38;5;124m'\u001b[39m\u001b[38;5;124m2HP\u001b[39m\u001b[38;5;124m'\u001b[39m,\u001b[38;5;124m'\u001b[39m\u001b[38;5;124mproduce energy\u001b[39m\u001b[38;5;124m'\u001b[39m,\u001b[38;5;124m'\u001b[39m\u001b[38;5;124m28hrs\u001b[39m\u001b[38;5;124m'\u001b[39m)\n\u001b[1;32m---> 11\u001b[0m M1\u001b[38;5;241m.\u001b[39mbehaviour()\n",
      "Cell \u001b[1;32mIn[17], line 8\u001b[0m, in \u001b[0;36mmachine.behaviour\u001b[1;34m(self)\u001b[0m\n\u001b[0;32m      7\u001b[0m \u001b[38;5;28;01mdef\u001b[39;00m \u001b[38;5;21mbehaviour\u001b[39m(\u001b[38;5;28mself\u001b[39m):\n\u001b[1;32m----> 8\u001b[0m     \u001b[38;5;28mprint\u001b[39m(\u001b[38;5;124m'\u001b[39m\u001b[38;5;124mmachine is\u001b[39m\u001b[38;5;124m'\u001b[39m,\u001b[38;5;28mself\u001b[39m\u001b[38;5;241m.\u001b[39mname,\u001b[38;5;124m'\u001b[39m\u001b[38;5;124mpower is\u001b[39m\u001b[38;5;124m'\u001b[39m,\u001b[38;5;28mself\u001b[39m\u001b[38;5;241m.\u001b[39mpower,\u001b[38;5;124m'\u001b[39m\u001b[38;5;124mits uses\u001b[39m\u001b[38;5;124m'\u001b[39m,\u001b[38;5;28mself\u001b[39m\u001b[38;5;241m.\u001b[39muses,\u001b[38;5;124m'\u001b[39m\u001b[38;5;124mcapacity\u001b[39m\u001b[38;5;124m'\u001b[39m,\u001b[38;5;28mself\u001b[39m\u001b[38;5;241m.\u001b[39mload_time)\n",
      "\u001b[1;31mAttributeError\u001b[0m: 'machine' object has no attribute 'power'"
     ]
    }
   ],
   "source": [
    "class machine:\n",
    "    def __init__(self,name,power,uses,load_time):\n",
    "        self.name=name\n",
    "        selfpower=power\n",
    "        self.uses=uses\n",
    "        self.load_time=load_time\n",
    "    def behaviour(self):\n",
    "        print('machine is',self.name,'power is',self.power,'its uses',self.uses,'capacity',self.load_time)\n",
    "        \n",
    "M1=machine('generator','2HP','produce energy','28hrs')\n",
    "M1.behaviour()"
   ]
  },
  {
   "cell_type": "code",
   "execution_count": null,
   "id": "75b73ca1",
   "metadata": {},
   "outputs": [],
   "source": []
  },
  {
   "cell_type": "code",
   "execution_count": 21,
   "id": "109dae46",
   "metadata": {},
   "outputs": [
    {
     "name": "stdout",
     "output_type": "stream",
     "text": [
      "machine is generator power is 2HP it used for produce energy capacity 28hrs\n",
      "machine is water pump power is 0.25hp it used for pumping water capacity 2hr\n"
     ]
    }
   ],
   "source": [
    "class machine:\n",
    "    def __init__(self,name,power,uses,load_time):\n",
    "        self.name=name  # instance variable\n",
    "        self.power=power\n",
    "        self.uses=uses\n",
    "        self.load_time=load_time\n",
    "    def behaviour(self):  # instance method\n",
    "        print('machine is',self.name,'power is',self.power,'it used for',self.uses,'capacity',self.load_time)\n",
    "        \n",
    "M1=machine('generator','2HP','produce energy','28hrs')\n",
    "M1.behaviour()\n",
    "\n",
    "M2=machine('water pump','0.25hp','pumping water','2hr')\n",
    "M2.behaviour()"
   ]
  },
  {
   "cell_type": "code",
   "execution_count": null,
   "id": "440ea313",
   "metadata": {},
   "outputs": [],
   "source": []
  },
  {
   "cell_type": "code",
   "execution_count": 31,
   "id": "2289b98e",
   "metadata": {},
   "outputs": [
    {
     "ename": "TypeError",
     "evalue": "list_.__init__() takes 2 positional arguments but 5 were given",
     "output_type": "error",
     "traceback": [
      "\u001b[1;31m---------------------------------------------------------------------------\u001b[0m",
      "\u001b[1;31mTypeError\u001b[0m                                 Traceback (most recent call last)",
      "Cell \u001b[1;32mIn[31], line 12\u001b[0m\n\u001b[0;32m      9\u001b[0m             \u001b[38;5;28;01melse\u001b[39;00m:\n\u001b[0;32m     10\u001b[0m                 \u001b[38;5;28mprint\u001b[39m(\u001b[38;5;124m'\u001b[39m\u001b[38;5;124mnaay\u001b[39m\u001b[38;5;124m'\u001b[39m)\n\u001b[1;32m---> 12\u001b[0m list2\u001b[38;5;241m=\u001b[39mlist_(\u001b[38;5;241m10\u001b[39m,\u001b[38;5;241m9\u001b[39m,\u001b[38;5;241m8\u001b[39m,\u001b[38;5;241m7\u001b[39m)\n\u001b[0;32m     13\u001b[0m list2\u001b[38;5;241m.\u001b[39mcombine()\n",
      "\u001b[1;31mTypeError\u001b[0m: list_.__init__() takes 2 positional arguments but 5 were given"
     ]
    }
   ],
   "source": [
    "class list_:\n",
    "    def __init__(self,i1):\n",
    "        self.i1=i1\n",
    "    def combine(self):\n",
    "        print((self.i1))\n",
    "        for i in self.i1:\n",
    "            if i%2==0:\n",
    "                print('yaay')\n",
    "            else:\n",
    "                print('naay')\n",
    "\n",
    "list2=list_(10,9,8,7)\n",
    "list2.combine()"
   ]
  },
  {
   "cell_type": "code",
   "execution_count": null,
   "id": "4d7070f7",
   "metadata": {},
   "outputs": [],
   "source": []
  },
  {
   "cell_type": "code",
   "execution_count": 7,
   "id": "1f38b3d7",
   "metadata": {},
   "outputs": [
    {
     "name": "stdout",
     "output_type": "stream",
     "text": [
      "[10, 9, 8, 7]\n",
      "yaay\n",
      "naay\n",
      "yaay\n",
      "naay\n",
      "[12, 13, 31, 22, 45, 6]\n",
      "yaay\n",
      "naay\n",
      "naay\n",
      "yaay\n",
      "naay\n",
      "yaay\n"
     ]
    }
   ],
   "source": [
    "class list_:\n",
    "    def __init__(self,i1):\n",
    "        self.i1=i1\n",
    "    def combine(self):\n",
    "        print((self.i1))\n",
    "        for i in self.i1:\n",
    "            if i%2==0:\n",
    "                print('yaay')\n",
    "            else:\n",
    "                print('naay')\n",
    "\n",
    "list2=list_([10,9,8,7])\n",
    "list2.combine()\n",
    "\n",
    "list3=list_([12,13,31,22,45,6])\n",
    "list3.combine()"
   ]
  },
  {
   "cell_type": "code",
   "execution_count": null,
   "id": "766d9d7d",
   "metadata": {},
   "outputs": [],
   "source": []
  },
  {
   "cell_type": "code",
   "execution_count": 6,
   "id": "59ac19ba",
   "metadata": {},
   "outputs": [
    {
     "name": "stdout",
     "output_type": "stream",
     "text": [
      "enter the first no.12\n",
      "enter the second no.11\n",
      "enter the operator+\n",
      "add 35\n"
     ]
    }
   ],
   "source": [
    "class calculator:\n",
    "    def __init__(self,x,y):\n",
    "        self.x=x\n",
    "        self.y=y\n",
    "    def operate(self):\n",
    "        c=input('enter the operator')\n",
    "        if c=='+':\n",
    "            print('add',self.x+self.y)\n",
    "        else:\n",
    "            print('no')\n",
    "x=int(input('enter the first no.'))\n",
    "y=int(input('enter the second no.'))\n",
    "calculator(12,23).operate()"
   ]
  },
  {
   "cell_type": "code",
   "execution_count": null,
   "id": "60ee50df",
   "metadata": {},
   "outputs": [],
   "source": []
  },
  {
   "cell_type": "code",
   "execution_count": 15,
   "id": "0752f21b",
   "metadata": {},
   "outputs": [
    {
     "ename": "NameError",
     "evalue": "name 'self' is not defined",
     "output_type": "error",
     "traceback": [
      "\u001b[1;31m---------------------------------------------------------------------------\u001b[0m",
      "\u001b[1;31mNameError\u001b[0m                                 Traceback (most recent call last)",
      "Cell \u001b[1;32mIn[15], line 10\u001b[0m\n\u001b[0;32m      7\u001b[0m         \u001b[38;5;28;01mfor\u001b[39;00m i \u001b[38;5;129;01min\u001b[39;00m \u001b[38;5;28mself\u001b[39m\u001b[38;5;241m.\u001b[39mD:\n\u001b[0;32m      8\u001b[0m             \u001b[38;5;28mprint\u001b[39m(\u001b[38;5;28mself\u001b[39m\u001b[38;5;241m.\u001b[39mD[\u001b[38;5;241m0\u001b[39m:\u001b[38;5;241m4\u001b[39m])\n\u001b[1;32m---> 10\u001b[0m set1\u001b[38;5;241m=\u001b[39msets(\u001b[38;5;28mself\u001b[39m\u001b[38;5;241m.\u001b[39mD)\n\u001b[0;32m     11\u001b[0m set1\u001b[38;5;241m.\u001b[39mindex_of_set()\n",
      "\u001b[1;31mNameError\u001b[0m: name 'self' is not defined"
     ]
    }
   ],
   "source": [
    "class sets:\n",
    "    def __init__(self,D):\n",
    "        self.D=D\n",
    "        D={12,24,12,24,12}\n",
    "    def index_of_set(self):\n",
    "        set1=list(self.D)\n",
    "        for i in self.D:\n",
    "            print(self.D[0:4])\n",
    "            \n",
    "set1=sets()\n",
    "set1.index_of_set()\n"
   ]
  },
  {
   "cell_type": "code",
   "execution_count": null,
   "id": "fc19ff29",
   "metadata": {},
   "outputs": [],
   "source": []
  },
  {
   "cell_type": "code",
   "execution_count": 23,
   "id": "ae886359",
   "metadata": {},
   "outputs": [
    {
     "name": "stdout",
     "output_type": "stream",
     "text": [
      "name suryansh sex female\n",
      "name suryansh working as data scientist at goo\n"
     ]
    }
   ],
   "source": [
    "class person:\n",
    "    # state of the class\n",
    "    \n",
    "    def __init__(self,name,sex,profession):\n",
    "        # data members(instance variable)\n",
    "        self.x=name\n",
    "        self.y=sex    # x,y,z are the attributes\n",
    "        self.z=profession # name, sex,profession are instance variable\n",
    "    \n",
    "   # behaviour (instance ,method)\n",
    "    def show(self):\n",
    "        print('name', self.x, 'sex', self.y)\n",
    "        \n",
    "        # behaviour method\n",
    "    def work(self):\n",
    "        print('name', self.x , 'working as', self.z)\n",
    "        \n",
    "# creating object of the class\n",
    "emp=person('suryansh','female','data scientist at goo')\n",
    "# call method by syntax object.method()\n",
    "emp.show()\n",
    "emp.work()"
   ]
  },
  {
   "cell_type": "markdown",
   "id": "46ce75e1",
   "metadata": {},
   "source": [
    "1. Self: In python , self is a reference to the instance(object) nof the class . It is a convention, not a keyword, and it is typically the first parameter of object  creating methods(instance method)  within class . By using self you can acess and manipulate instance-specific attributes like) and methods.\n",
    "\n",
    "2. x is attributes of instance variable(self.x).This is the name of the  instance variable or attributes that you want to create  and set within  the class . It's specific to each instance of the class \n",
    "\n",
    "3. Name(on the right side of the assignment): this is the parameter passed  to the  class constructor (ussually the init method)  when creating  an object (instance of the class) . It's the value that you want to asign  to the self.x (instance variable) \n",
    "\n",
    "\n"
   ]
  },
  {
   "cell_type": "code",
   "execution_count": null,
   "id": "1d58ef0c",
   "metadata": {},
   "outputs": [],
   "source": []
  },
  {
   "cell_type": "code",
   "execution_count": 18,
   "id": "6599fdf2",
   "metadata": {},
   "outputs": [
    {
     "name": "stdout",
     "output_type": "stream",
     "text": [
      "name suryansh sex female\n"
     ]
    },
    {
     "ename": "TypeError",
     "evalue": "'str' object is not callable",
     "output_type": "error",
     "traceback": [
      "\u001b[1;31m---------------------------------------------------------------------------\u001b[0m",
      "\u001b[1;31mTypeError\u001b[0m                                 Traceback (most recent call last)",
      "Cell \u001b[1;32mIn[18], line 22\u001b[0m\n\u001b[0;32m     20\u001b[0m \u001b[38;5;66;03m# call method by syntax object.method()\u001b[39;00m\n\u001b[0;32m     21\u001b[0m emp\u001b[38;5;241m.\u001b[39mshow()\n\u001b[1;32m---> 22\u001b[0m emp\u001b[38;5;241m.\u001b[39mx()\n",
      "\u001b[1;31mTypeError\u001b[0m: 'str' object is not callable"
     ]
    }
   ],
   "source": [
    "class person:\n",
    "    # state of the class\n",
    "    \n",
    "    def __init__(self,name,sex,profession):\n",
    "        # data members(instance variable)\n",
    "        self.x=name\n",
    "        self.y=sex    # x,y,z are the attributes\n",
    "        self.z=profession # name, sex,profession are instance variable\n",
    "    \n",
    "   # behaviour (instance ,method)\n",
    "    def show(self):\n",
    "        print('name', self.x, 'sex', self.y)\n",
    "        \n",
    "        # behaviour method\n",
    "    def x (self):\n",
    "        print('name', self.x , 'working as', self.z)\n",
    "        \n",
    "# creating object of the class\n",
    "emp=person('suryansh','female', 'data scientist in goo')\n",
    "# call method by syntax object.method()\n",
    "emp.show()\n",
    "emp.x()"
   ]
  },
  {
   "cell_type": "markdown",
   "id": "84e007da",
   "metadata": {},
   "source": [
    "## Why error \n",
    "\n",
    " The error message \"type error\" \"int\" object is not collable is occuring because you are trying  to call the  attribute as if it were  fuction or method , but it's not  defined as a collable  function or method  in your class. In python , when you use parenthesses()  after an object, python  expects it to callable, such  as a function or method ,but  in your  case ,x is an attribute , not a method\n",
    " \n",
    " to aces  the x attribute  , you should  treat  it as a regular  variable  and not try  to call  it as a fucntion Here the correct  way  to acess it "
   ]
  },
  {
   "cell_type": "code",
   "execution_count": null,
   "id": "69d495f0",
   "metadata": {},
   "outputs": [],
   "source": []
  },
  {
   "cell_type": "code",
   "execution_count": 29,
   "id": "3f019b75",
   "metadata": {},
   "outputs": [
    {
     "name": "stdout",
     "output_type": "stream",
     "text": [
      "name of paint ace ultima 4500 rupee in grey colour ammount 4\n",
      "name of object paint brush type soft feel uses are painting\n"
     ]
    }
   ],
   "source": [
    "class paint:\n",
    "    def __init__(self,name,price,colour,quantity):\n",
    "        self.n=name\n",
    "        self.p=price\n",
    "        self.c=colour\n",
    "        self.q=quantity\n",
    "    def give_detail(self):\n",
    "        print('name of paint',self.n,self.p,'rupee','in',self.c,'colour','ammount',self.q)\n",
    "        \n",
    "class paint_item:\n",
    "    def __init__(dlf,object_,type_,use):\n",
    "        dlf.o=object_\n",
    "        dlf.t=type_\n",
    "        dlf.u=use\n",
    "    def show(dlf):\n",
    "        print('name of object',dlf.o,'type',dlf.t,'uses are',dlf.u)\n",
    "        \n",
    "        \n",
    "object1=paint('ace ultima',4500,'grey',4)\n",
    "object1.give_detail()\n",
    "\n",
    "item1=paint_item('paint brush', 'soft feel', 'painting')\n",
    "item1.show()"
   ]
  },
  {
   "cell_type": "code",
   "execution_count": null,
   "id": "bbede057",
   "metadata": {},
   "outputs": [],
   "source": []
  },
  {
   "cell_type": "code",
   "execution_count": 1,
   "id": "3e575567",
   "metadata": {},
   "outputs": [
    {
     "name": "stdout",
     "output_type": "stream",
     "text": [
      "name of paint ace ultima 4500 rupee in grey colour ammount 4\n"
     ]
    },
    {
     "ename": "NameError",
     "evalue": "name 'paint_item' is not defined",
     "output_type": "error",
     "traceback": [
      "\u001b[1;31m---------------------------------------------------------------------------\u001b[0m",
      "\u001b[1;31mNameError\u001b[0m                                 Traceback (most recent call last)",
      "Cell \u001b[1;32mIn[1], line 22\u001b[0m\n\u001b[0;32m     19\u001b[0m object1\u001b[38;5;241m=\u001b[39mpaint(\u001b[38;5;124m'\u001b[39m\u001b[38;5;124mace ultima\u001b[39m\u001b[38;5;124m'\u001b[39m,\u001b[38;5;241m4500\u001b[39m,\u001b[38;5;124m'\u001b[39m\u001b[38;5;124mgrey\u001b[39m\u001b[38;5;124m'\u001b[39m,\u001b[38;5;241m4\u001b[39m)\n\u001b[0;32m     20\u001b[0m object1\u001b[38;5;241m.\u001b[39mgive_detail()\n\u001b[1;32m---> 22\u001b[0m item1\u001b[38;5;241m=\u001b[39mpaint_item(\u001b[38;5;124m'\u001b[39m\u001b[38;5;124mpaint brush\u001b[39m\u001b[38;5;124m'\u001b[39m, \u001b[38;5;124m'\u001b[39m\u001b[38;5;124msoft feel\u001b[39m\u001b[38;5;124m'\u001b[39m, \u001b[38;5;124m'\u001b[39m\u001b[38;5;124mpainting\u001b[39m\u001b[38;5;124m'\u001b[39m)\n\u001b[0;32m     23\u001b[0m item1\u001b[38;5;241m.\u001b[39mshow()\n",
      "\u001b[1;31mNameError\u001b[0m: name 'paint_item' is not defined"
     ]
    }
   ],
   "source": [
    "class paint:\n",
    "    def __init__(self,name,price,colour,quantity):\n",
    "        self.n=name\n",
    "        self.p=price\n",
    "        self.c=colour\n",
    "        self.q=quantity\n",
    "    def give_detail(self):\n",
    "        print('name of paint',self.n,self.p,'rupee','in',self.c,'colour','ammount',self.q)\n",
    "        \n",
    "        class paint_item(paint):\n",
    "            def __init__(dlf,object_,type_,use):\n",
    "                dlf.o=object_\n",
    "                dlf.t=type_\n",
    "                dlf.u=use\n",
    "            def show(dlf):\n",
    "                print('name of object',dlf.o,'type',dlf.t,'uses are',dlf.u)\n",
    "        \n",
    "        \n",
    "object1=paint('ace ultima',4500,'grey',4)\n",
    "object1.give_detail()\n",
    "\n",
    "item1=paint_item('paint brush', 'soft feel', 'painting')\n",
    "item1.show()"
   ]
  },
  {
   "cell_type": "code",
   "execution_count": null,
   "id": "d4517701",
   "metadata": {},
   "outputs": [],
   "source": []
  },
  {
   "cell_type": "code",
   "execution_count": 3,
   "id": "9bebde36",
   "metadata": {},
   "outputs": [
    {
     "data": {
      "text/plain": [
       "3"
      ]
     },
     "execution_count": 3,
     "metadata": {},
     "output_type": "execute_result"
    }
   ],
   "source": [
    "class sequence:\n",
    "    def __init__(self,x,y,z):\n",
    "        self.x=x\n",
    "        self.y=y\n",
    "        self.z=z\n",
    "    def method(self):\n",
    "        self.x+=2\n",
    "        self.y+=4\n",
    "        self.z+=6\n",
    "        \n",
    "        return self.x\n",
    "        return self.y\n",
    "        return self.z\n",
    "\n",
    "obj1=sequence(1,1,1)\n",
    "obj1.method()"
   ]
  },
  {
   "cell_type": "code",
   "execution_count": 7,
   "id": "d37395f5",
   "metadata": {},
   "outputs": [
    {
     "name": "stdout",
     "output_type": "stream",
     "text": [
      "(3, 5, 7)\n",
      "<class '__main__.sequence'>\n"
     ]
    }
   ],
   "source": [
    "class sequence:\n",
    "    def __init__(self,x,y,z):\n",
    "        self.x=x\n",
    "        self.y=y\n",
    "        self.z=z\n",
    "    def method(self):\n",
    "        self.x+=2\n",
    "        self.y+=4\n",
    "        self.z+=6\n",
    "        \n",
    "        return self.x,self.y,self.z\n",
    "       \n",
    "\n",
    "obj1=sequence(1,1,1)\n",
    "print(obj1.method())\n",
    "\n",
    "print(type(obj1))"
   ]
  },
  {
   "cell_type": "code",
   "execution_count": null,
   "id": "0826e07b",
   "metadata": {},
   "outputs": [],
   "source": []
  },
  {
   "cell_type": "code",
   "execution_count": null,
   "id": "33a54e97",
   "metadata": {},
   "outputs": [],
   "source": []
  },
  {
   "cell_type": "code",
   "execution_count": 11,
   "id": "693792d7",
   "metadata": {},
   "outputs": [
    {
     "data": {
      "text/plain": [
       "(31, 31)"
      ]
     },
     "execution_count": 11,
     "metadata": {},
     "output_type": "execute_result"
    }
   ],
   "source": [
    "class sequence:\n",
    "    def __init__(self,x):\n",
    "        self.x=x\n",
    "        \n",
    "    def method(self):\n",
    "        self.x+=2\n",
    "        self.x+=4\n",
    "        self.x+=6\n",
    "        self.x+=8\n",
    "        self.x+=10\n",
    "        \n",
    "        return self.x,self.x\n",
    "    \n",
    "objt1=sequence(1)\n",
    "objt1.method()"
   ]
  },
  {
   "cell_type": "code",
   "execution_count": 12,
   "id": "2198d234",
   "metadata": {},
   "outputs": [
    {
     "data": {
      "text/plain": [
       "3"
      ]
     },
     "execution_count": 12,
     "metadata": {},
     "output_type": "execute_result"
    }
   ],
   "source": [
    "class sequence:\n",
    "    def __init__(self,x):\n",
    "        self.x=x\n",
    "        \n",
    "    def method(self):\n",
    "        self.x+=2\n",
    "        return self.x\n",
    "        self.x+=4\n",
    "        return self.x\n",
    "        self.x+=6\n",
    "        return self.x\n",
    "        self.x+=8\n",
    "        return self.x\n",
    "        self.x+=10\n",
    "        return self.x\n",
    "    \n",
    "objt1=sequence(1)\n",
    "objt1.method()"
   ]
  },
  {
   "cell_type": "code",
   "execution_count": 15,
   "id": "240674f1",
   "metadata": {},
   "outputs": [
    {
     "ename": "SyntaxError",
     "evalue": "invalid syntax (3802971619.py, line 6)",
     "output_type": "error",
     "traceback": [
      "\u001b[1;36m  Cell \u001b[1;32mIn[15], line 6\u001b[1;36m\u001b[0m\n\u001b[1;33m    self.x+=2,self.x+=4\u001b[0m\n\u001b[1;37m                    ^\u001b[0m\n\u001b[1;31mSyntaxError\u001b[0m\u001b[1;31m:\u001b[0m invalid syntax\n"
     ]
    }
   ],
   "source": [
    "class sequence:\n",
    "    def __init__(self,x):\n",
    "        self.x=x\n",
    "        \n",
    "    def method(self):\n",
    "        self.x+=2,self.x+=4\n",
    "        \n",
    "        \n",
    "        return self.x\n",
    "    \n",
    "objt1=sequence(1)\n",
    "objt1.method()"
   ]
  },
  {
   "cell_type": "markdown",
   "id": "915326c0",
   "metadata": {},
   "source": [
    "### final"
   ]
  },
  {
   "cell_type": "code",
   "execution_count": 4,
   "id": "1a32d5f8",
   "metadata": {},
   "outputs": [
    {
     "name": "stdout",
     "output_type": "stream",
     "text": [
      "[3, 5, 7, 9, 11, 13, 15, 17, 19, 21]\n",
      "<class '__main__.sequence'>\n"
     ]
    }
   ],
   "source": [
    "class sequence:\n",
    "    def __init__(self,x):\n",
    "        self.x=x\n",
    "        \n",
    "    def method(self):\n",
    "        seq=[]\n",
    "        while self.x<20:\n",
    "            self.x+=2\n",
    "            seq.append(self.x)\n",
    "        return seq\n",
    "        \n",
    "       \n",
    "    \n",
    "objt1=sequence(1)\n",
    "print(objt1.method())\n",
    "print(type(objt1))"
   ]
  },
  {
   "cell_type": "code",
   "execution_count": null,
   "id": "58d9ed9f",
   "metadata": {},
   "outputs": [],
   "source": []
  },
  {
   "cell_type": "code",
   "execution_count": null,
   "id": "666d21b7",
   "metadata": {},
   "outputs": [],
   "source": []
  },
  {
   "cell_type": "code",
   "execution_count": 2,
   "id": "7e545697",
   "metadata": {},
   "outputs": [
    {
     "name": "stdout",
     "output_type": "stream",
     "text": [
      "enter the number23\n",
      "[29, 35, 41, 47]\n"
     ]
    }
   ],
   "source": [
    "seq=int(input('enter the number'))\n",
    "sequence=[]\n",
    "while seq<47:\n",
    "    seq+=6\n",
    "    sequence.append(seq)\n",
    "print(sequence)\n",
    "    "
   ]
  },
  {
   "cell_type": "code",
   "execution_count": null,
   "id": "1ad1caf9",
   "metadata": {},
   "outputs": [],
   "source": []
  },
  {
   "cell_type": "code",
   "execution_count": 11,
   "id": "736cc4e0",
   "metadata": {},
   "outputs": [
    {
     "ename": "TypeError",
     "evalue": "'builtin_function_or_method' object is not subscriptable",
     "output_type": "error",
     "traceback": [
      "\u001b[1;31m---------------------------------------------------------------------------\u001b[0m",
      "\u001b[1;31mTypeError\u001b[0m                                 Traceback (most recent call last)",
      "Cell \u001b[1;32mIn[11], line 12\u001b[0m\n\u001b[0;32m      9\u001b[0m         \u001b[38;5;28;01mreturn\u001b[39;00m di\n\u001b[0;32m     11\u001b[0m element\u001b[38;5;241m=\u001b[39mdictionary(\u001b[38;5;241m2\u001b[39m)\n\u001b[1;32m---> 12\u001b[0m element\u001b[38;5;241m.\u001b[39mmethod()\n",
      "Cell \u001b[1;32mIn[11], line 8\u001b[0m, in \u001b[0;36mdictionary.method\u001b[1;34m(self)\u001b[0m\n\u001b[0;32m      6\u001b[0m \u001b[38;5;28;01mwhile\u001b[39;00m \u001b[38;5;28mself\u001b[39m\u001b[38;5;241m.\u001b[39mx\u001b[38;5;241m<\u001b[39m\u001b[38;5;241m30\u001b[39m:\n\u001b[0;32m      7\u001b[0m     \u001b[38;5;28mself\u001b[39m\u001b[38;5;241m.\u001b[39mx\u001b[38;5;241m+\u001b[39m\u001b[38;5;241m=\u001b[39m\u001b[38;5;241m2\u001b[39m\n\u001b[1;32m----> 8\u001b[0m     di\u001b[38;5;241m.\u001b[39mupdate[(\u001b[38;5;28mself\u001b[39m\u001b[38;5;241m.\u001b[39mx)]\n\u001b[0;32m      9\u001b[0m \u001b[38;5;28;01mreturn\u001b[39;00m di\n",
      "\u001b[1;31mTypeError\u001b[0m: 'builtin_function_or_method' object is not subscriptable"
     ]
    }
   ],
   "source": [
    "class dictionary:\n",
    "    def __init__(self,x):\n",
    "        self.x=x\n",
    "    def method(self):\n",
    "        di={}\n",
    "        while self.x<30:\n",
    "            self.x+=2\n",
    "            di.update[(self.x)]\n",
    "        return di\n",
    "\n",
    "element=dictionary(2)\n",
    "element.method()"
   ]
  },
  {
   "cell_type": "code",
   "execution_count": 16,
   "id": "4c6e3af4",
   "metadata": {},
   "outputs": [
    {
     "name": "stdout",
     "output_type": "stream",
     "text": [
      "{1, 34, 12, 13}\n"
     ]
    }
   ],
   "source": [
    "si={1}\n",
    "si.update([12,34,13])\n",
    "print(si)"
   ]
  },
  {
   "cell_type": "code",
   "execution_count": null,
   "id": "8509f23e",
   "metadata": {},
   "outputs": [],
   "source": []
  },
  {
   "cell_type": "code",
   "execution_count": 17,
   "id": "cdb886f0",
   "metadata": {},
   "outputs": [
    {
     "ename": "TypeError",
     "evalue": "'builtin_function_or_method' object is not subscriptable",
     "output_type": "error",
     "traceback": [
      "\u001b[1;31m---------------------------------------------------------------------------\u001b[0m",
      "\u001b[1;31mTypeError\u001b[0m                                 Traceback (most recent call last)",
      "Cell \u001b[1;32mIn[17], line 12\u001b[0m\n\u001b[0;32m      9\u001b[0m         \u001b[38;5;28;01mreturn\u001b[39;00m di\n\u001b[0;32m     11\u001b[0m element\u001b[38;5;241m=\u001b[39mdictionary(\u001b[38;5;241m2\u001b[39m)\n\u001b[1;32m---> 12\u001b[0m element\u001b[38;5;241m.\u001b[39mmethod()\n",
      "Cell \u001b[1;32mIn[17], line 8\u001b[0m, in \u001b[0;36mdictionary.method\u001b[1;34m(self)\u001b[0m\n\u001b[0;32m      6\u001b[0m \u001b[38;5;28;01mwhile\u001b[39;00m \u001b[38;5;28mself\u001b[39m\u001b[38;5;241m.\u001b[39mx\u001b[38;5;241m<\u001b[39m\u001b[38;5;241m30\u001b[39m:\n\u001b[0;32m      7\u001b[0m     \u001b[38;5;28mself\u001b[39m\u001b[38;5;241m.\u001b[39mx\u001b[38;5;241m+\u001b[39m\u001b[38;5;241m=\u001b[39m\u001b[38;5;241m2\u001b[39m\n\u001b[1;32m----> 8\u001b[0m     di\u001b[38;5;241m.\u001b[39mupdate[(\u001b[38;5;28mself\u001b[39m\u001b[38;5;241m.\u001b[39mx)]\n\u001b[0;32m      9\u001b[0m \u001b[38;5;28;01mreturn\u001b[39;00m di\n",
      "\u001b[1;31mTypeError\u001b[0m: 'builtin_function_or_method' object is not subscriptable"
     ]
    }
   ],
   "source": [
    "class dictionary:\n",
    "    def __init__(self,x):\n",
    "        self.x=x\n",
    "    def method(self):\n",
    "        di={1}\n",
    "        while self.x<30:\n",
    "            self.x+=2\n",
    "            di.update[(self.x)]\n",
    "        return di\n",
    "\n",
    "element=dictionary(2)\n",
    "element.method()"
   ]
  },
  {
   "cell_type": "markdown",
   "id": "d94f52c0",
   "metadata": {},
   "source": []
  },
  {
   "cell_type": "markdown",
   "id": "2f13c6ed",
   "metadata": {},
   "source": [
    "## Four pillars of OOPs\n",
    "\n",
    "1. Encapsulation\n",
    "2. Inheritance\n",
    "3. Polymorphism\n",
    "4. Abstraction"
   ]
  },
  {
   "cell_type": "markdown",
   "id": "0034b2fd",
   "metadata": {},
   "source": [
    "# Inheritance"
   ]
  },
  {
   "cell_type": "markdown",
   "id": "9c9d1d6f",
   "metadata": {},
   "source": [
    "### Types of Inheritance\n",
    "\n",
    "- Single\n",
    "- Multiple\n",
    "- Multilevel\n",
    "- Hyartical\n",
    "- Hybrid"
   ]
  },
  {
   "cell_type": "code",
   "execution_count": null,
   "id": "0e4295ac",
   "metadata": {},
   "outputs": [],
   "source": []
  },
  {
   "cell_type": "markdown",
   "id": "2543d62a",
   "metadata": {},
   "source": [
    "- Single"
   ]
  },
  {
   "cell_type": "code",
   "execution_count": 7,
   "id": "48cfb6d9",
   "metadata": {},
   "outputs": [
    {
     "name": "stdout",
     "output_type": "stream",
     "text": [
      "Inside Vehicle class\n",
      "Inside Car class\n"
     ]
    }
   ],
   "source": [
    "# parent class\n",
    "\n",
    "class vehicle:\n",
    "    def vehicle_info(self):\n",
    "        print('Inside Vehicle class')\n",
    "\n",
    "# child class\n",
    "class Car(vehicle):  # parenthese and write to parent class i  parentheses\n",
    "    def car_info(self):\n",
    "        print(\"Inside Car class\")\n",
    "        \n",
    "car=Car()\n",
    "car.vehicle_info()\n",
    "car.car_info()"
   ]
  },
  {
   "cell_type": "code",
   "execution_count": null,
   "id": "b06e0c0b",
   "metadata": {},
   "outputs": [],
   "source": []
  },
  {
   "cell_type": "code",
   "execution_count": 17,
   "id": "9cf9ba49",
   "metadata": {},
   "outputs": [
    {
     "data": {
      "text/plain": [
       "'mercedes Benz'"
      ]
     },
     "execution_count": 17,
     "metadata": {},
     "output_type": "execute_result"
    }
   ],
   "source": [
    "class vehicle:\n",
    "    def __init__(self):\n",
    "        self.brand='mercedes Benz'\n",
    "    def Vehicle_info(self):\n",
    "        print('Inside Vehicle Class')\n",
    "\n",
    "# child class\n",
    "\n",
    "class car(vehicle):\n",
    "    def car_info(self):\n",
    "        print(\"inside car class\")\n",
    "        \n",
    "car1=car()\n",
    "car1.brand"
   ]
  },
  {
   "cell_type": "code",
   "execution_count": null,
   "id": "54bc363a",
   "metadata": {},
   "outputs": [],
   "source": []
  },
  {
   "cell_type": "markdown",
   "id": "0e407f77",
   "metadata": {},
   "source": [
    "- Multilevel Inheritance"
   ]
  },
  {
   "cell_type": "code",
   "execution_count": 21,
   "id": "86db1ce1",
   "metadata": {},
   "outputs": [
    {
     "name": "stdout",
     "output_type": "stream",
     "text": [
      "H2r\n",
      "Inside Bike class\n",
      "Inside motor class\n"
     ]
    },
    {
     "ename": "AttributeError",
     "evalue": "'Motor_2' object has no attribute 'Motor_1'",
     "output_type": "error",
     "traceback": [
      "\u001b[1;31m---------------------------------------------------------------------------\u001b[0m",
      "\u001b[1;31mAttributeError\u001b[0m                            Traceback (most recent call last)",
      "Cell \u001b[1;32mIn[21], line 23\u001b[0m\n\u001b[0;32m     21\u001b[0m Bike1\u001b[38;5;241m.\u001b[39mBike_info()\n\u001b[0;32m     22\u001b[0m Bike1\u001b[38;5;241m.\u001b[39mmotor_info()\n\u001b[1;32m---> 23\u001b[0m Bike1\u001b[38;5;241m.\u001b[39mMotor_1()\n\u001b[0;32m     24\u001b[0m Bike1\u001b[38;5;241m.\u001b[39mmotor_2()\n",
      "\u001b[1;31mAttributeError\u001b[0m: 'Motor_2' object has no attribute 'Motor_1'"
     ]
    }
   ],
   "source": [
    "class Bike:\n",
    "    def __init__(self,name):\n",
    "        self.name=name\n",
    "        print(self.name)\n",
    "    def Bike_info(self):\n",
    "        print('Inside Bike class')\n",
    "\n",
    "class Motor_bike(Bike):\n",
    "    def motor_info(self):\n",
    "        print('Inside motor class')\n",
    "        \n",
    "class Motor_1(Motor_bike):\n",
    "    def motor_1(self):\n",
    "        print('Inside motor1 calss',self.name)\n",
    "        \n",
    "class Motor_2(Motor_1):\n",
    "    def motor_2(self):\n",
    "        print('Inside motor2 class')\n",
    "    \n",
    "Bike1=Motor_2('H2r')\n",
    "Bike1.Bike_info()\n",
    "Bike1.motor_info()\n",
    "Bike1.Motor_1()\n",
    "Bike1.motor_2()"
   ]
  },
  {
   "cell_type": "code",
   "execution_count": null,
   "id": "233feaf5",
   "metadata": {},
   "outputs": [],
   "source": []
  },
  {
   "cell_type": "markdown",
   "id": "444f56c4",
   "metadata": {},
   "source": [
    "- Multiple"
   ]
  },
  {
   "cell_type": "code",
   "execution_count": 23,
   "id": "5b56ea87",
   "metadata": {},
   "outputs": [
    {
     "name": "stdout",
     "output_type": "stream",
     "text": [
      "hello\n",
      "hi\n",
      "python\n",
      "say\n"
     ]
    }
   ],
   "source": [
    "class a:\n",
    "    def a_info(self):\n",
    "        print('hello')\n",
    "\n",
    "class b:\n",
    "    def b_info(self):\n",
    "        print('hi')\n",
    "\n",
    "class c:\n",
    "    def c_info(self):\n",
    "        print('python')\n",
    "\n",
    "class d(a,b,c):\n",
    "    def d_info(self):\n",
    "        print('say')\n",
    "        \n",
    "        \n",
    "obj=d()\n",
    "obj.a_info()\n",
    "obj.b_info()\n",
    "obj.c_info()\n",
    "obj.d_info()\n"
   ]
  },
  {
   "cell_type": "markdown",
   "id": "78367fc4",
   "metadata": {},
   "source": [
    "## Method Overriding \n",
    "Method overrding is a powerful  fetaure that allows you to redefine a method of the parent class in the child class .\n",
    "\n",
    "When a chlid class method has the same  name , same parameter and some return type as a method in its parent class, then  the method in the child is said to override in the parent class "
   ]
  },
  {
   "cell_type": "code",
   "execution_count": 1,
   "id": "b067967f",
   "metadata": {},
   "outputs": [],
   "source": [
    "class A:\n",
    "    pass\n",
    "class B(A):\n",
    "    pass\n"
   ]
  },
  {
   "cell_type": "code",
   "execution_count": 4,
   "id": "35afd70c",
   "metadata": {},
   "outputs": [
    {
     "name": "stdout",
     "output_type": "stream",
     "text": [
      "this is dog class\n"
     ]
    }
   ],
   "source": [
    "class A:\n",
    "    def show_name(self):\n",
    "        print('this is animal class')\n",
    "class B(A):\n",
    "    def show_name(self):\n",
    "        print('this is dog class')\n",
    "        \n",
    "a=B()\n",
    "a.show_name()"
   ]
  },
  {
   "cell_type": "markdown",
   "id": "633cb3ce",
   "metadata": {},
   "source": [
    "## Method resolution order\n",
    "\n",
    "- It is the order in which methods are searched for an object \n",
    "- Object he is default class in python "
   ]
  },
  {
   "cell_type": "code",
   "execution_count": 9,
   "id": "7ff2f568",
   "metadata": {},
   "outputs": [
    {
     "ename": "TypeError",
     "evalue": "Cannot create a consistent method resolution\norder (MRO) for bases A, B",
     "output_type": "error",
     "traceback": [
      "\u001b[1;31m---------------------------------------------------------------------------\u001b[0m",
      "\u001b[1;31mTypeError\u001b[0m                                 Traceback (most recent call last)",
      "Cell \u001b[1;32mIn[9], line 8\u001b[0m\n\u001b[0;32m      5\u001b[0m     \u001b[38;5;28;01mdef\u001b[39;00m \u001b[38;5;21mprocess\u001b[39m(\u001b[38;5;28mself\u001b[39m):\n\u001b[0;32m      6\u001b[0m         \u001b[38;5;28mprint\u001b[39m(\u001b[38;5;124m'\u001b[39m\u001b[38;5;124min class B\u001b[39m\u001b[38;5;124m'\u001b[39m)\n\u001b[1;32m----> 8\u001b[0m \u001b[38;5;28;01mclass\u001b[39;00m \u001b[38;5;21;01mC\u001b[39;00m(A,B):\n\u001b[0;32m      9\u001b[0m     \u001b[38;5;28;01mpass\u001b[39;00m\n\u001b[0;32m     11\u001b[0m   \u001b[38;5;66;03m# creating object of C class \u001b[39;00m\n",
      "\u001b[1;31mTypeError\u001b[0m: Cannot create a consistent method resolution\norder (MRO) for bases A, B"
     ]
    }
   ],
   "source": [
    "class A:\n",
    "    def process(self):\n",
    "        print('in class A')\n",
    "class B(A):\n",
    "    def process(self):\n",
    "        print('in class B')\n",
    "        \n",
    "class C(A,B):\n",
    "    pass\n",
    "\n",
    "  # creating object of C class \n",
    "    \n",
    "a=C()\n",
    "a.process()"
   ]
  },
  {
   "cell_type": "code",
   "execution_count": 8,
   "id": "202cd04f",
   "metadata": {},
   "outputs": [
    {
     "name": "stdout",
     "output_type": "stream",
     "text": [
      "in class B\n"
     ]
    }
   ],
   "source": [
    "# correction \n",
    "\n",
    "class A:\n",
    "    def process(self):\n",
    "        print('in class A')\n",
    "class B(A):\n",
    "    def process(self):\n",
    "        print('in class B')\n",
    "        \n",
    "class C(B,A):\n",
    "    pass\n",
    "\n",
    "  # creating object of C class \n",
    "    \n",
    "a=C()\n",
    "a.process()"
   ]
  },
  {
   "cell_type": "code",
   "execution_count": 10,
   "id": "3afdd70b",
   "metadata": {},
   "outputs": [
    {
     "data": {
      "text/plain": [
       "(__main__.C, __main__.B, __main__.A, object)"
      ]
     },
     "execution_count": 10,
     "metadata": {},
     "output_type": "execute_result"
    }
   ],
   "source": [
    "C.__mro__ # this is method resolution order(mro)\n"
   ]
  },
  {
   "cell_type": "code",
   "execution_count": 11,
   "id": "9b4f7ed1",
   "metadata": {},
   "outputs": [
    {
     "data": {
      "text/plain": [
       "(__main__.B, __main__.A, object)"
      ]
     },
     "execution_count": 11,
     "metadata": {},
     "output_type": "execute_result"
    }
   ],
   "source": [
    "B.__mro__"
   ]
  },
  {
   "cell_type": "code",
   "execution_count": 12,
   "id": "b54aa1c5",
   "metadata": {},
   "outputs": [
    {
     "data": {
      "text/plain": [
       "(__main__.A, object)"
      ]
     },
     "execution_count": 12,
     "metadata": {},
     "output_type": "execute_result"
    }
   ],
   "source": [
    "A.__mro__"
   ]
  },
  {
   "cell_type": "code",
   "execution_count": null,
   "id": "22d03ec0",
   "metadata": {},
   "outputs": [],
   "source": []
  },
  {
   "cell_type": "code",
   "execution_count": null,
   "id": "564ec8bb",
   "metadata": {},
   "outputs": [],
   "source": []
  },
  {
   "cell_type": "code",
   "execution_count": null,
   "id": "c591fa75",
   "metadata": {},
   "outputs": [],
   "source": []
  },
  {
   "cell_type": "code",
   "execution_count": null,
   "id": "23b7f915",
   "metadata": {},
   "outputs": [],
   "source": []
  },
  {
   "cell_type": "markdown",
   "id": "b1eb5796",
   "metadata": {},
   "source": [
    "# Encapsulation\n",
    " \n",
    "1. Encapsulation involves bunding of data (ATTRIBUTES) and (FUNCTION)(MEHTODS) within a single unit \n",
    "\n",
    "2. Encapsulation is a way to restrict access method and attributes from outside of class\n",
    "\n",
    "3. Whenever we are working with the class and dealing with senstive data , providing access to all variable used withing the class is not a good choice\n",
    "\n",
    "#### Access Modifiers in Python \n",
    "\n",
    "4. Access modifiers limit access to the attributes and method of a class \n",
    "5. pyhton provides three types of access modifiers public , private and protrcted \n",
    "\n",
    "#### Public Member\n",
    "\n",
    "6. Accessible within  inside and outside of a class \n",
    "7. All variables and method are public by default "
   ]
  },
  {
   "cell_type": "code",
   "execution_count": 2,
   "id": "ff2f6c1e",
   "metadata": {},
   "outputs": [
    {
     "name": "stdout",
     "output_type": "stream",
     "text": [
      "23\n",
      "XYZ 23\n"
     ]
    }
   ],
   "source": [
    "class Aspirant:\n",
    "    def __init__(self,name,age):\n",
    "        # Public attributes \n",
    "        self.name=name\n",
    "        self.age=age\n",
    "    def show(self):\n",
    "        print(self.name,self.age)\n",
    "        \n",
    "a=Aspirant(\"XYZ\",23)\n",
    "print(a.age)\n",
    "a.show()"
   ]
  },
  {
   "cell_type": "code",
   "execution_count": null,
   "id": "0b95da82",
   "metadata": {},
   "outputs": [],
   "source": []
  },
  {
   "cell_type": "markdown",
   "id": "cae6a71d",
   "metadata": {},
   "source": [
    "# Encapsulation  In pyhton \n",
    "\n",
    "Encapsulation python describes the concepts of building data and methods within a single unit. so far example when you create  a class  it means implementing encapsulation a class is an example  of encapsulation  as it binds all the data  members (instant variable) and methods  in to a single unit \n",
    "\n",
    "\n",
    "### Access Modifiers In Python \n",
    "\n",
    "Encapsulation can be achieved by declaring the data members and method of a class either  as private or protected but in python  we dont have direct access  modifiers  like public private . we can achieve  this by using  single  achieve this by using single underscore and double underscore \n",
    "\n",
    "1. PUBLIC MEMBER .Accessible anywhere from outside of class \n",
    "2. PRIVATE MEMBER.Accessible within the class \n",
    "3. Protected MEMBER .Accessible within the class and its sub classes\n",
    "\n"
   ]
  },
  {
   "cell_type": "code",
   "execution_count": null,
   "id": "fbcb0f8b",
   "metadata": {},
   "outputs": [],
   "source": []
  },
  {
   "cell_type": "code",
   "execution_count": 3,
   "id": "295ff45e",
   "metadata": {},
   "outputs": [],
   "source": [
    "class employee:\n",
    "    def __init__(self,name,salary):\n",
    "        self.name=name   # public member (accessible within or outside of a class)\n",
    "        self._project=project # private member(accessible with the class and its sub class)\n",
    "        self._salary=salary  # protected member( accessible within the class )\n",
    "    "
   ]
  },
  {
   "cell_type": "code",
   "execution_count": null,
   "id": "7ca9a753",
   "metadata": {},
   "outputs": [],
   "source": []
  },
  {
   "cell_type": "markdown",
   "id": "79f2c6b7",
   "metadata": {},
   "source": [
    "#### We can access private member from outside of a class using the following twom approaches\n",
    "\n",
    "1. Create public method to access private members\n",
    "2. use name mangling \n"
   ]
  },
  {
   "cell_type": "code",
   "execution_count": 6,
   "id": "ff85ef16",
   "metadata": {},
   "outputs": [
    {
     "name": "stdout",
     "output_type": "stream",
     "text": [
      "pawan singh 23\n"
     ]
    }
   ],
   "source": [
    "# 1. Public method to access private members \n",
    "\n",
    "class aspirants:\n",
    "    def __init__(self,name,age):\n",
    "        # public data member\n",
    "        self.x=name\n",
    "        # private data member \n",
    "        self.y=age\n",
    "        # public instance method \n",
    "    def detail(self):\n",
    "        # private members are accessible\n",
    "        print(self.x,self.y)\n",
    "\n",
    "# create and object\n",
    "a=aspirants('pawan singh',23)\n",
    "a.detail()"
   ]
  },
  {
   "cell_type": "markdown",
   "id": "3ed976ff",
   "metadata": {},
   "source": [
    "### Super()"
   ]
  },
  {
   "cell_type": "code",
   "execution_count": null,
   "id": "5a07696a",
   "metadata": {},
   "outputs": [],
   "source": []
  },
  {
   "cell_type": "code",
   "execution_count": 12,
   "id": "93a25e47",
   "metadata": {},
   "outputs": [
    {
     "name": "stdout",
     "output_type": "stream",
     "text": [
      "pawan works at\n"
     ]
    },
    {
     "data": {
      "text/plain": [
       "'google'"
      ]
     },
     "execution_count": 12,
     "metadata": {},
     "output_type": "execute_result"
    }
   ],
   "source": [
    "class company:\n",
    "    def company_name(self):\n",
    "        return 'google'\n",
    "class employee(company):\n",
    "    def info(self):\n",
    "        print('pawan works at')\n",
    "        \n",
    "emp=employee()\n",
    "emp.info()\n",
    "emp.company_name()\n"
   ]
  },
  {
   "cell_type": "code",
   "execution_count": null,
   "id": "52808c5d",
   "metadata": {},
   "outputs": [],
   "source": []
  },
  {
   "cell_type": "code",
   "execution_count": 17,
   "id": "855def51",
   "metadata": {},
   "outputs": [
    {
     "name": "stdout",
     "output_type": "stream",
     "text": [
      "pawan works at google\n"
     ]
    }
   ],
   "source": [
    "class company:\n",
    "    def company_name(self):\n",
    "        return 'google'\n",
    "class employee(company):\n",
    "    def info(self):\n",
    "        name=super().company_name()\n",
    "        print('pawan works at',name)\n",
    "        \n",
    "emp=employee()\n",
    "emp.info()"
   ]
  },
  {
   "cell_type": "code",
   "execution_count": null,
   "id": "79f38712",
   "metadata": {},
   "outputs": [],
   "source": []
  },
  {
   "cell_type": "markdown",
   "id": "d0df92be",
   "metadata": {},
   "source": [
    "### Method Overriding"
   ]
  },
  {
   "cell_type": "code",
   "execution_count": null,
   "id": "6f9c7ede",
   "metadata": {},
   "outputs": [],
   "source": [
    "class company:\n",
    "    def __init__(self,name,place,date):\n",
    "        self.n=name\n",
    "        self.p=place\n",
    "        self.d=date\n",
    "    def show(self):\n",
    "        print(self.n,self.p,self.d)\n",
    "class employee(company):\n",
    "    def \n"
   ]
  },
  {
   "cell_type": "code",
   "execution_count": null,
   "id": "238f839e",
   "metadata": {},
   "outputs": [],
   "source": []
  },
  {
   "cell_type": "code",
   "execution_count": null,
   "id": "9d2b5d76",
   "metadata": {},
   "outputs": [],
   "source": []
  },
  {
   "cell_type": "code",
   "execution_count": null,
   "id": "e50df8dd",
   "metadata": {},
   "outputs": [],
   "source": []
  },
  {
   "cell_type": "markdown",
   "id": "a8359d82",
   "metadata": {},
   "source": [
    "### Method Resolution Order in python "
   ]
  },
  {
   "cell_type": "code",
   "execution_count": null,
   "id": "a30823b1",
   "metadata": {},
   "outputs": [],
   "source": []
  },
  {
   "cell_type": "code",
   "execution_count": 22,
   "id": "a4b31007",
   "metadata": {},
   "outputs": [
    {
     "name": "stdout",
     "output_type": "stream",
     "text": [
      "In class C\n",
      "[<class '__main__.C'>, <class '__main__.B'>, <class '__main__.A'>, <class 'object'>]\n"
     ]
    }
   ],
   "source": [
    "class A:\n",
    "    def process(self):\n",
    "        print('In class A')\n",
    "class B(A):\n",
    "    def process(self):\n",
    "        print('in class B')\n",
    "class C(B,A):\n",
    "    def process(self):\n",
    "        print('In class C')\n",
    "c1=C()\n",
    "c1.process()\n",
    "print(C.mro())"
   ]
  },
  {
   "cell_type": "code",
   "execution_count": null,
   "id": "4a783efb",
   "metadata": {},
   "outputs": [],
   "source": []
  },
  {
   "cell_type": "code",
   "execution_count": 23,
   "id": "8fff8f95",
   "metadata": {},
   "outputs": [
    {
     "ename": "TypeError",
     "evalue": "Cannot create a consistent method resolution\norder (MRO) for bases A, B",
     "output_type": "error",
     "traceback": [
      "\u001b[1;31m---------------------------------------------------------------------------\u001b[0m",
      "\u001b[1;31mTypeError\u001b[0m                                 Traceback (most recent call last)",
      "Cell \u001b[1;32mIn[23], line 7\u001b[0m\n\u001b[0;32m      5\u001b[0m     \u001b[38;5;28;01mdef\u001b[39;00m \u001b[38;5;21mprocess\u001b[39m(\u001b[38;5;28mself\u001b[39m):\n\u001b[0;32m      6\u001b[0m         \u001b[38;5;28mprint\u001b[39m(\u001b[38;5;124m'\u001b[39m\u001b[38;5;124min class B\u001b[39m\u001b[38;5;124m'\u001b[39m)\n\u001b[1;32m----> 7\u001b[0m \u001b[38;5;28;01mclass\u001b[39;00m \u001b[38;5;21;01mC\u001b[39;00m(A,B):\n\u001b[0;32m      8\u001b[0m     \u001b[38;5;28;01mdef\u001b[39;00m \u001b[38;5;21mprocess\u001b[39m(\u001b[38;5;28mself\u001b[39m):\n\u001b[0;32m      9\u001b[0m         \u001b[38;5;28mprint\u001b[39m(\u001b[38;5;124m'\u001b[39m\u001b[38;5;124mIn class C\u001b[39m\u001b[38;5;124m'\u001b[39m)\n",
      "\u001b[1;31mTypeError\u001b[0m: Cannot create a consistent method resolution\norder (MRO) for bases A, B"
     ]
    }
   ],
   "source": [
    "class A:\n",
    "    def process(self):\n",
    "        print('In class A')\n",
    "class B(A):\n",
    "    def process(self):\n",
    "        print('in class B')\n",
    "class C(A,B):\n",
    "    def process(self):\n",
    "        print('In class C')\n",
    "c1=C()\n",
    "c1.process()\n",
    "print(C.mro())"
   ]
  },
  {
   "cell_type": "code",
   "execution_count": null,
   "id": "202125e4",
   "metadata": {},
   "outputs": [],
   "source": []
  },
  {
   "cell_type": "markdown",
   "id": "c1048ee1",
   "metadata": {},
   "source": [
    "# Polymorphism"
   ]
  },
  {
   "cell_type": "code",
   "execution_count": null,
   "id": "a073a43e",
   "metadata": {},
   "outputs": [],
   "source": []
  },
  {
   "cell_type": "markdown",
   "id": "f72173be",
   "metadata": {},
   "source": [
    "### Polymorphism with inheritance"
   ]
  },
  {
   "cell_type": "code",
   "execution_count": 6,
   "id": "f0412b93",
   "metadata": {},
   "outputs": [
    {
     "name": "stdout",
     "output_type": "stream",
     "text": [
      "this ia class C\n",
      " this is class A\n"
     ]
    }
   ],
   "source": [
    "class A:\n",
    "    def show(self):\n",
    "        print(' this is class A')\n",
    "class B(A):\n",
    "    def show(self):\n",
    "        print('this is class B')\n",
    "class C(B):\n",
    "    def show(self):\n",
    "        print('this ia class C')\n",
    "        \n",
    "a=C()\n",
    "a.show()\n",
    "\n",
    "b1=A()\n",
    "b1.show()"
   ]
  },
  {
   "cell_type": "code",
   "execution_count": 13,
   "id": "b1daecad",
   "metadata": {},
   "outputs": [
    {
     "name": "stdout",
     "output_type": "stream",
     "text": [
      "Details car x1 red 20000\n",
      "car mas speed is 250\n",
      "change gear 5th\n",
      "Details truck x1 white 35456956\n",
      "Vehicle max speed is 150\n",
      "Vehicle change gear 6th\n"
     ]
    }
   ],
   "source": [
    "class vehicle:\n",
    "    def __init__(self,name,colour,price):\n",
    "        self.name=name\n",
    "        self.colour=colour\n",
    "        self.price=price\n",
    "    def show(self):\n",
    "        print('Details',self.name,self.colour,self.price)\n",
    "    def max_speed(self):\n",
    "        print('Vehicle max speed is 150')\n",
    "    def change_gear(self):\n",
    "        print('Vehicle change gear 6th')\n",
    "\n",
    "# inheritance from vehicle class\n",
    "\n",
    "class Car(vehicle):\n",
    "    def max_speed(self):\n",
    "        print('car mas speed is 250')\n",
    "    def change_gear(self):\n",
    "        print('change gear 5th')\n",
    "        \n",
    "car=Car('car x1', 'red', 20000)\n",
    "car.show()\n",
    "\n",
    "\n",
    "car.max_speed()\n",
    "car.change_gear()\n",
    "\n",
    "# Vehicle object\n",
    "\n",
    "Vehicle =vehicle('truck x1','white', 35456956)\n",
    "Vehicle.show()\n",
    "\n",
    "# call method from a vehicle class\n",
    "\n",
    "Vehicle.max_speed()\n",
    "Vehicle.change_gear()"
   ]
  },
  {
   "cell_type": "code",
   "execution_count": null,
   "id": "ae6b750d",
   "metadata": {},
   "outputs": [],
   "source": []
  },
  {
   "cell_type": "markdown",
   "id": "475dc464",
   "metadata": {},
   "source": [
    "### Override Built-in funtion"
   ]
  },
  {
   "cell_type": "code",
   "execution_count": 20,
   "id": "fc2b5375",
   "metadata": {},
   "outputs": [
    {
     "name": "stdout",
     "output_type": "stream",
     "text": [
      "redefine lenght\n",
      "6\n"
     ]
    }
   ],
   "source": [
    "class shopping:\n",
    "    def __init__(self,basket, buyer):\n",
    "        self.basket=list(basket)\n",
    "        self.buyer=buyer\n",
    "    def __len__(self):\n",
    "        print('redefine lenght')\n",
    "        count=len(self.basket)\n",
    "        return count*3\n",
    "        # count total items in a different way\n",
    "        # pair of shoes and dress is shirt-pants\n",
    "\n",
    "Shopping=shopping(['shoes','dress'],'vidisha')\n",
    "print(len(Shopping))"
   ]
  },
  {
   "cell_type": "code",
   "execution_count": null,
   "id": "3c0e5299",
   "metadata": {},
   "outputs": [],
   "source": []
  },
  {
   "cell_type": "code",
   "execution_count": 21,
   "id": "3d18cb4e",
   "metadata": {},
   "outputs": [
    {
     "name": "stdout",
     "output_type": "stream",
     "text": [
      "petrol\n",
      "max speed 300\n",
      "Dissel\n",
      "max speed 234\n"
     ]
    }
   ],
   "source": [
    "class Ferrai:\n",
    "    def fuel_type(self):\n",
    "        print(\"petrol\")\n",
    "    def max_speed(self):\n",
    "        print('max speed 300')\n",
    "class BMW:\n",
    "    def fuel_type(self):\n",
    "        print('Dissel')\n",
    "    def max_speed(self):\n",
    "        print('max speed 234')\n",
    "\n",
    "ferrai= Ferrai()\n",
    "bmw=BMW()\n",
    "\n",
    "# iterate objects of same type\n",
    "\n",
    "for car in (ferrai,bmw):\n",
    "    # call methods without checking class of object \n",
    "    car.fuel_type()\n",
    "    car.max_speed()"
   ]
  },
  {
   "cell_type": "code",
   "execution_count": null,
   "id": "96994403",
   "metadata": {},
   "outputs": [],
   "source": []
  },
  {
   "cell_type": "markdown",
   "id": "a2b5d549",
   "metadata": {},
   "source": [
    "### Polymorphism in Built-in Methods \n",
    "\n",
    "The built-in function reversed(obj) returns the iterable by  reversing the given object. for example, if you pass a string to it, it will reverse it, But if you pass  a list of string to it, it will  return iterable  by reversing  the order  of elements (it will  not reverse the individual string)"
   ]
  },
  {
   "cell_type": "code",
   "execution_count": 2,
   "id": "9d54778a",
   "metadata": {},
   "outputs": [
    {
     "name": "stdout",
     "output_type": "stream",
     "text": [
      "['nawap']\n"
     ]
    }
   ],
   "source": [
    "class A:\n",
    "    def __init__(self,class1):\n",
    "        self.x=class1\n",
    "    def _reversed_(self):\n",
    "        a=self.x[0]\n",
    "        print([a[::-1]])\n",
    "b=A(['pawan'])\n",
    "b._reversed_()"
   ]
  },
  {
   "cell_type": "code",
   "execution_count": null,
   "id": "54b5991b",
   "metadata": {},
   "outputs": [],
   "source": []
  },
  {
   "cell_type": "markdown",
   "id": "fdde1696",
   "metadata": {},
   "source": [
    "## Overloading"
   ]
  },
  {
   "cell_type": "code",
   "execution_count": 1,
   "id": "e91fd77d",
   "metadata": {},
   "outputs": [
    {
     "ename": "TypeError",
     "evalue": "addition() missing 1 required positional argument: 'c'",
     "output_type": "error",
     "traceback": [
      "\u001b[1;31m---------------------------------------------------------------------------\u001b[0m",
      "\u001b[1;31mTypeError\u001b[0m                                 Traceback (most recent call last)",
      "Cell \u001b[1;32mIn[1], line 9\u001b[0m\n\u001b[0;32m      7\u001b[0m     \u001b[38;5;28mprint\u001b[39m(d)\n\u001b[0;32m      8\u001b[0m \u001b[38;5;66;03m# the below shows an error  \u001b[39;00m\n\u001b[1;32m----> 9\u001b[0m addition(\u001b[38;5;241m4\u001b[39m,\u001b[38;5;241m5\u001b[39m)\n\u001b[0;32m     11\u001b[0m \u001b[38;5;66;03m# this line will call the second product method\u001b[39;00m\n\u001b[0;32m     12\u001b[0m addition(\u001b[38;5;241m3\u001b[39m,\u001b[38;5;241m7\u001b[39m,\u001b[38;5;241m5\u001b[39m)\n",
      "\u001b[1;31mTypeError\u001b[0m: addition() missing 1 required positional argument: 'c'"
     ]
    }
   ],
   "source": [
    "def addition(a,b):\n",
    "    c=a+b\n",
    "    print(c)\n",
    "    \n",
    "def addition(a,b,c):\n",
    "    d=a+b+c\n",
    "    print(d)\n",
    "# the below shows an error  \n",
    "addition(4,5)\n",
    "\n"
   ]
  },
  {
   "cell_type": "code",
   "execution_count": 2,
   "id": "bc12ca57",
   "metadata": {},
   "outputs": [
    {
     "name": "stdout",
     "output_type": "stream",
     "text": [
      "15\n"
     ]
    }
   ],
   "source": [
    "def addition(a,b):\n",
    "    c=a+b\n",
    "    print(c)\n",
    "    \n",
    "def addition(a,b,c):\n",
    "    d=a+b+c\n",
    "    print(d)\n",
    "    \n",
    "# this line will call the second product method\n",
    "addition(3,7,5)"
   ]
  },
  {
   "cell_type": "code",
   "execution_count": 4,
   "id": "d5f1e375",
   "metadata": {},
   "outputs": [
    {
     "name": "stdout",
     "output_type": "stream",
     "text": [
      "14\n"
     ]
    }
   ],
   "source": [
    "def addition(a,b):\n",
    "    c=a+b\n",
    "    print(c)\n",
    "    \n",
    "def addition(a,b,c):\n",
    "    d=a+b+c\n",
    "    print(d)\n",
    "    \n",
    "def addition(a,b,c,d):\n",
    "    e=a+b+c+d\n",
    "    print(e)\n",
    "\n",
    "#addition(6,7) it will give error\n",
    "\n",
    "addition(2,3,4,5)"
   ]
  },
  {
   "cell_type": "code",
   "execution_count": 15,
   "id": "afa2806e",
   "metadata": {},
   "outputs": [
    {
     "name": "stdout",
     "output_type": "stream",
     "text": [
      "Prepairing a medium-sized regular\n",
      "Prepairing a large-sized caramel\n"
     ]
    }
   ],
   "source": [
    "def coffee_order(size,type_of_coffee):\n",
    "    print(f\"Prepairing a {size}-sized {type_of_coffee}\")\n",
    "    \n",
    "# fucntion overloading based  on the number of parameters\n",
    "\n",
    "def make_coffee(size):\n",
    "    coffee_order(size,'regular')\n",
    "        \n",
    "def make_special_coffee(size,special_flavour):\n",
    "    coffee_order(size,special_flavour)\n",
    "\n",
    "# Example usage\n",
    "make_coffee('medium')\n",
    "make_special_coffee('large','caramel')"
   ]
  },
  {
   "cell_type": "code",
   "execution_count": null,
   "id": "cdb71201",
   "metadata": {},
   "outputs": [],
   "source": []
  },
  {
   "cell_type": "code",
   "execution_count": null,
   "id": "24c6c72d",
   "metadata": {},
   "outputs": [],
   "source": []
  },
  {
   "cell_type": "code",
   "execution_count": null,
   "id": "06ba06c8",
   "metadata": {},
   "outputs": [],
   "source": []
  },
  {
   "cell_type": "code",
   "execution_count": null,
   "id": "7c8228ed",
   "metadata": {},
   "outputs": [],
   "source": []
  },
  {
   "cell_type": "markdown",
   "id": "58fae9e1",
   "metadata": {},
   "source": [
    "### Overloading + operator "
   ]
  },
  {
   "cell_type": "code",
   "execution_count": null,
   "id": "d88fffcd",
   "metadata": {},
   "outputs": [],
   "source": []
  },
  {
   "cell_type": "code",
   "execution_count": 8,
   "id": "37aef800",
   "metadata": {},
   "outputs": [
    {
     "ename": "TypeError",
     "evalue": "unsupported operand type(s) for +: 'Book' and 'Book'",
     "output_type": "error",
     "traceback": [
      "\u001b[1;31m---------------------------------------------------------------------------\u001b[0m",
      "\u001b[1;31mTypeError\u001b[0m                                 Traceback (most recent call last)",
      "Cell \u001b[1;32mIn[8], line 10\u001b[0m\n\u001b[0;32m      7\u001b[0m b2\u001b[38;5;241m=\u001b[39mBook(\u001b[38;5;241m300\u001b[39m)\n\u001b[0;32m      9\u001b[0m \u001b[38;5;66;03m# add two objects\u001b[39;00m\n\u001b[1;32m---> 10\u001b[0m \u001b[38;5;28mprint\u001b[39m(b1\u001b[38;5;241m+\u001b[39mb2)\n",
      "\u001b[1;31mTypeError\u001b[0m: unsupported operand type(s) for +: 'Book' and 'Book'"
     ]
    }
   ],
   "source": [
    "class Book:\n",
    "    def __init__(self,pages):\n",
    "        self.pages=pages\n",
    "\n",
    "# create two objects \n",
    "b1=Book(400)\n",
    "b2=Book(300)\n",
    "\n",
    "# add two objects\n",
    "print(b1+b2)\n",
    "\n"
   ]
  },
  {
   "cell_type": "code",
   "execution_count": 10,
   "id": "96af803e",
   "metadata": {},
   "outputs": [
    {
     "data": {
      "text/plain": [
       "700"
      ]
     },
     "execution_count": 10,
     "metadata": {},
     "output_type": "execute_result"
    }
   ],
   "source": [
    "class Book:\n",
    "    def __init__(self,pages):\n",
    "        self.pages=pages\n",
    "\n",
    "# create two objects \n",
    "b1=Book(400)\n",
    "b2=Book(300)\n",
    "\n",
    "b1.pages+b2.pages"
   ]
  },
  {
   "cell_type": "code",
   "execution_count": null,
   "id": "d817057a",
   "metadata": {},
   "outputs": [],
   "source": []
  },
  {
   "cell_type": "markdown",
   "id": "576a1f12",
   "metadata": {},
   "source": [
    "## Magic Method (Dunder Method)\n",
    "\n",
    "Magic methods , also known as DUNDER(double underscore) methods are special methods in pyhthon that starts and ends with double underscore , such as init, str, len etc .These methods define  how objects of a class  behave in certain  situation  and are called  automatically by python in response to specific operator "
   ]
  },
  {
   "cell_type": "markdown",
   "id": "dbca8982",
   "metadata": {},
   "source": [
    " "
   ]
  },
  {
   "cell_type": "markdown",
   "id": "058071ac",
   "metadata": {},
   "source": [
    "Initialization and Construction\n",
    "\n",
    "    __new__: To get called in an object’s instantiation.\n",
    "    __init__: To get called by the __new__ method.\n",
    "    __del__: It is the destructor.\n",
    "\n",
    "Numeric magic methods\n",
    "\n",
    "    __trunc__(self): Implements behavior for math.trunc()\n",
    "    __ceil__(self): Implements behavior for math.ceil()\n",
    "    __floor__(self): Implements behavior for math.floor()\n",
    "    __round__(self,n): Implements behavior for the built-in round()\n",
    "    __invert__(self): Implements behavior for inversion using the ~ operator.\n",
    "    __abs__(self): Implements behavior for the built-in abs()\n",
    "    __neg__(self): Implements behavior for negation\n",
    "    __pos__(self): Implements behavior for unary positive \n",
    "\n",
    "Arithmetic operators\n",
    "\n",
    "    __add__(self, other): Implements behavior for math.trunc()\n",
    "    __sub__(self, other): Implements behavior for math.ceil()\n",
    "    __mul__(self, other): Implements behavior for math.floor()\n",
    "    __floordiv__(self, other): Implements behavior for the built-in round()\n",
    "    __div__(self, other): Implements behavior for inversion using the ~ operator.\n",
    "    __truediv__(self, other): Implements behavior for the built-in abs()\n",
    "    __mod__(self, other): Implements behavior for negation\n",
    "    __divmod__(self, other): Implements behavior for unary positive \n",
    "    __pow__: Implements behavior for exponents using the ** operator.\n",
    "    __lshift__(self, other): Implements left bitwise shift using the << operator.\n",
    "    __rshift__(self, other): Implements right bitwise shift using the >> operator.\n",
    "    __and__(self, other): Implements bitwise and using the & operator.\n",
    "    __or__(self, other): Implements bitwise or using the | operator.\n",
    "    __xor__(self, other): Implements bitwise xor using the ^ operator.\n",
    "\n",
    "String Magic Methods\n",
    "\n",
    "    __str__(self): Defines behavior for when str() is called on an instance of your class.\n",
    "    __repr__(self): To get called by built-int repr() method to return a machine readable representation of a type.\n",
    "    __unicode__(self): This method to return an unicode string of a type.\n",
    "    __format__(self, formatstr): return a new style of string.\n",
    "    __hash__(self): It has to return an integer, and its result is used for quick key comparison in dictionaries.\n",
    "    __nonzero__(self): Defines behavior for when bool() is called on an instance of your class. \n",
    "    __dir__(self): This method to return a list of attributes of a class.\n",
    "    __sizeof__(self): It return the size of the object.\n",
    "\n",
    "Comparison magic methods\n",
    "\n",
    "    __eq__(self, other): Defines behavior for the equality operator, ==.\n",
    "    __ne__(self, other): Defines behavior for the inequality operator, !=.\n",
    "    __lt__(self, other): Defines behavior for the less-than operator, <.\n",
    "    __gt__(self, other): Defines behavior for the greater-than operator, >.\n",
    "    __le__(self, other): Defines behavior for the less-than-or-equal-to operator, <=.\n",
    "    __ge__(self, other): Defines behavior for the greater-than-or-equal-to operator, >="
   ]
  },
  {
   "cell_type": "code",
   "execution_count": null,
   "id": "db81739a",
   "metadata": {},
   "outputs": [],
   "source": []
  },
  {
   "cell_type": "code",
   "execution_count": null,
   "id": "96d3d199",
   "metadata": {},
   "outputs": [],
   "source": []
  },
  {
   "cell_type": "markdown",
   "id": "59d9f6c2",
   "metadata": {},
   "source": [
    "### What is Instance variable\n",
    "\n",
    "Instance variable are not  shared by objects . Every object has its own copy of the instance attributes . This means that for each  object of a class , the instance variable value is different "
   ]
  },
  {
   "cell_type": "code",
   "execution_count": null,
   "id": "888e4e5e",
   "metadata": {},
   "outputs": [],
   "source": []
  },
  {
   "cell_type": "markdown",
   "id": "fd32da70",
   "metadata": {},
   "source": [
    "### Modify Values of Instance  Variables\n",
    "\n",
    "we can  modify the value  of the instance  and asign a new  value to it using  the object reference \n",
    "\n",
    "Note: When you change the instance  variable's value of one object, the changes  will not  be reflected  in the remaining  objects  because  every  object maintains a seperate copy of the instance variable"
   ]
  },
  {
   "cell_type": "markdown",
   "id": "304c81fb",
   "metadata": {},
   "source": [
    "### Acess Instance variable\n",
    "\n",
    "There are two ways to access the instance variable of class\n"
   ]
  },
  {
   "cell_type": "code",
   "execution_count": null,
   "id": "d6d72464",
   "metadata": {},
   "outputs": [],
   "source": []
  },
  {
   "cell_type": "markdown",
   "id": "ed3dcbb0",
   "metadata": {},
   "source": [
    "### Dynamically Add Instance Variable to a operator\n",
    "\n",
    "We can add instnace variables from the outside  of class to a particular object . Use the following  syntax to add teh new instance variable to a object  "
   ]
  },
  {
   "cell_type": "code",
   "execution_count": 4,
   "id": "f3e14c1c",
   "metadata": {},
   "outputs": [
    {
     "name": "stdout",
     "output_type": "stream",
     "text": [
      "Before\n",
      "Name pawan Age 20\n",
      "After\n",
      "Nmae pawan Age 20 marks 75\n"
     ]
    }
   ],
   "source": [
    "class student:\n",
    "    def __init__(self,name,age):\n",
    "        # instance variable \n",
    "        self.name=name\n",
    "        self.age=age\n",
    "        \n",
    "# create object\n",
    "\n",
    "stu=student('pawan',20)\n",
    "print('Before')\n",
    "print('Name', stu.name,'Age',stu.age)\n",
    "\n",
    "#add new instance  variable 'marks to stud'\n",
    "\n",
    "stu.marks=75\n",
    "print('After')\n",
    "print('Nmae',stu.name,'Age',stu.age,'marks',stu.marks)"
   ]
  },
  {
   "cell_type": "code",
   "execution_count": null,
   "id": "e06fe6ba",
   "metadata": {},
   "outputs": [],
   "source": []
  },
  {
   "cell_type": "markdown",
   "id": "925961a8",
   "metadata": {},
   "source": [
    "### Dynamically delete Instance variable\n",
    "\n",
    "IN python we use the del statement and "
   ]
  },
  {
   "cell_type": "code",
   "execution_count": null,
   "id": "4133ba5a",
   "metadata": {},
   "outputs": [],
   "source": []
  },
  {
   "cell_type": "markdown",
   "id": "e2411cde",
   "metadata": {},
   "source": [
    "### Access instance variable from Another class"
   ]
  },
  {
   "cell_type": "code",
   "execution_count": 1,
   "id": "7435735d",
   "metadata": {},
   "outputs": [
    {
     "name": "stdout",
     "output_type": "stream",
     "text": [
      "max speed 240 engine 100cc\n"
     ]
    }
   ],
   "source": [
    "class Vehicle:\n",
    "    def __init__(self):\n",
    "        self.engine='100cc'\n",
    "class Car(Vehicle):\n",
    "    def __init__(self,max_speed):\n",
    "        super().__init__()\n",
    "        self.max_speed=max_speed\n",
    "    def display(self):\n",
    "        print('max speed',self.max_speed,'engine',self.engine)\n",
    "        \n",
    "v1=Car(240)\n",
    "v1.display()"
   ]
  },
  {
   "cell_type": "code",
   "execution_count": null,
   "id": "8b3ba745",
   "metadata": {},
   "outputs": [],
   "source": []
  },
  {
   "cell_type": "code",
   "execution_count": null,
   "id": "4a24d9f0",
   "metadata": {},
   "outputs": [],
   "source": []
  },
  {
   "cell_type": "code",
   "execution_count": 13,
   "id": "fa08843b",
   "metadata": {},
   "outputs": [
    {
     "name": "stdout",
     "output_type": "stream",
     "text": [
      "detail pawan 20\n"
     ]
    },
    {
     "ename": "NameError",
     "evalue": "name 'self' is not defined",
     "output_type": "error",
     "traceback": [
      "\u001b[1;31m---------------------------------------------------------------------------\u001b[0m",
      "\u001b[1;31mNameError\u001b[0m                                 Traceback (most recent call last)",
      "Cell \u001b[1;32mIn[13], line 18\u001b[0m\n\u001b[0;32m     15\u001b[0m p1\u001b[38;5;241m=\u001b[39mA(\u001b[38;5;124m'\u001b[39m\u001b[38;5;124mpawan\u001b[39m\u001b[38;5;124m'\u001b[39m,\u001b[38;5;241m20\u001b[39m)\n\u001b[0;32m     16\u001b[0m p1\u001b[38;5;241m.\u001b[39mshow()\n\u001b[1;32m---> 18\u001b[0m p2\u001b[38;5;241m=\u001b[39mB(\u001b[38;5;28mself\u001b[39m\u001b[38;5;241m.\u001b[39mn,\u001b[38;5;241m2123\u001b[39m)\n\u001b[0;32m     19\u001b[0m p2\u001b[38;5;241m.\u001b[39mdetail()\n",
      "\u001b[1;31mNameError\u001b[0m: name 'self' is not defined"
     ]
    }
   ],
   "source": [
    "class A:\n",
    "    def __init__(self,name,age):\n",
    "        self.n=name\n",
    "        self.a=age\n",
    "    def show(self):\n",
    "        print('detail',self.n,self.a)\n",
    "    \n",
    "class B(A):\n",
    "    def __init__(self,name,dob):\n",
    "        self.n=name\n",
    "        self.dob=dob\n",
    "    def detail(self):\n",
    "        print('name',self.n,'dob',self.dob)\n",
    "        \n",
    "p1=A('pawan',20)\n",
    "p1.show()\n",
    "\n",
    ",2123)\n",
    "p2.detail()"
   ]
  },
  {
   "cell_type": "code",
   "execution_count": null,
   "id": "65590d28",
   "metadata": {},
   "outputs": [],
   "source": []
  },
  {
   "cell_type": "code",
   "execution_count": 7,
   "id": "11c2d2de",
   "metadata": {},
   "outputs": [],
   "source": [
    "class Vehicle:\n",
    "    def __init__(self):\n",
    "        self.engine='100cc'\n",
    "class Car(Vehicle):\n",
    "    def __init__(self,max_speed):\n",
    "        super().__init__()\n",
    "        self.max_speed=max_speed\n",
    "   \n",
    "        \n",
    "v1=Car(23)\n",
    "v1.__init__(2323)"
   ]
  },
  {
   "cell_type": "code",
   "execution_count": null,
   "id": "58224802",
   "metadata": {},
   "outputs": [],
   "source": []
  },
  {
   "cell_type": "markdown",
   "id": "884397e0",
   "metadata": {},
   "source": [
    "### List all Instance variable of a object \n",
    "\n",
    "We can get the list of all  instance variable of an object has .Use the dict function of an object to get  all instance variables along with their value\n",
    "\n",
    "The dict function returns a dictionary that conmtains variable name as a key and variable "
   ]
  },
  {
   "cell_type": "code",
   "execution_count": 16,
   "id": "2ba307f8",
   "metadata": {},
   "outputs": [
    {
     "name": "stdout",
     "output_type": "stream",
     "text": [
      "Instance variable object has\n",
      "{'roll_no': 10, 'name': 'pawan'}\n",
      "roll_no = 10\n",
      "name = pawan\n"
     ]
    }
   ],
   "source": [
    "class student:\n",
    "    def __init__(self,roll_no,name):\n",
    "        self.roll_no=roll_no\n",
    "        self.name=name\n",
    "        \n",
    "s1=student(10,'pawan')\n",
    "print('Instance variable object has')\n",
    "dict1=s1.__dict__\n",
    "print(dict1)\n",
    "\n",
    "# access each instance variable \n",
    "\n",
    "for key_value in dict1.items():\n",
    "    print(key_value[0],'=',key_value[1])"
   ]
  },
  {
   "cell_type": "code",
   "execution_count": null,
   "id": "bf52eda2",
   "metadata": {},
   "outputs": [],
   "source": []
  },
  {
   "cell_type": "markdown",
   "id": "f9b72d34",
   "metadata": {},
   "source": [
    "### Pyhton Instance Method\n",
    "\n",
    "\n",
    "In Python object-oriented programming, when we design a class we use \n",
    "\n",
    "\n",
    "Inside class, we can define the following two types of method \n",
    "\n",
    "- Instance Method: Used to access or modify the object state. If we use instance variable such methods are called instance method .It must have a self parameters to refer to the objeect.\n",
    "\n",
    "- Class Method: Used to acess or modify the class state .In method implementation , if we use only class variable, then such type of methods we should declare  as a class method .The class method has a cls parameter which refers to the class"
   ]
  },
  {
   "cell_type": "markdown",
   "id": "fc6ce517",
   "metadata": {},
   "source": [
    "### Calling an instance method \n",
    "\n",
    "We use an object and dot(.) operator to execute the block of code or action defined in the instance method\n"
   ]
  },
  {
   "cell_type": "code",
   "execution_count": null,
   "id": "d9fafa7a",
   "metadata": {},
   "outputs": [],
   "source": []
  },
  {
   "cell_type": "markdown",
   "id": "00255b7c",
   "metadata": {},
   "source": [
    "### Modify Instance Variables inside Instance Method\n",
    "\n",
    "Let's create the instance method update() (this is not a method of dictionary )  method t0 modify the student age and roll number when student data details change"
   ]
  },
  {
   "cell_type": "code",
   "execution_count": 18,
   "id": "de6ddcc9",
   "metadata": {},
   "outputs": [
    {
     "name": "stdout",
     "output_type": "stream",
     "text": [
      "class VIII\n",
      "Roll number 23 Name pawan Age 12\n",
      "class IX\n",
      "Roll number 35 Name pawan Age 15\n",
      "class X\n",
      "Roll number 55 Name pawan Age 16\n"
     ]
    }
   ],
   "source": [
    "class student:\n",
    "    def __init__(self,roll_no,name,age):\n",
    "        # instance variable\n",
    "        self.roll_no=roll_no\n",
    "        self.name=name\n",
    "        self.age=age\n",
    "        \n",
    "    # instance method to access instance variables\n",
    "    \n",
    "    def show(self):\n",
    "        print('Roll number',self.roll_no,'Name',self.name,'Age',self.age)\n",
    "        \n",
    "    # Insatnce method to modify instance variable\n",
    "    \n",
    "    def updation(self,roll_number,age):\n",
    "        self.roll_no=roll_number\n",
    "        self.age=age\n",
    "        \n",
    "# create object \n",
    "\n",
    "print('class VIII')\n",
    "\n",
    "stud=student(23,'pawan',12)\n",
    "\n",
    "# call instance method\n",
    "\n",
    "stud.show()\n",
    "\n",
    "# modify instance variables\n",
    "\n",
    "print('class IX')\n",
    "stud.updation(35,15)\n",
    "stud.show()\n",
    "\n",
    "\n",
    "print('class X')\n",
    "stud.updation(55,16)\n",
    "stud.show()"
   ]
  },
  {
   "cell_type": "code",
   "execution_count": null,
   "id": "43defa9c",
   "metadata": {},
   "outputs": [],
   "source": []
  },
  {
   "cell_type": "markdown",
   "id": "69cba9fc",
   "metadata": {},
   "source": [
    "### Create  Instance Method in Instance variable \n",
    "\n",
    "Till the time we used constructor to create instance attributes. but instance attributes are not specific only  to the init() method. they can be  defined else where in the class .so let's see how  to create an instance variable inside the method.\n"
   ]
  },
  {
   "cell_type": "code",
   "execution_count": 23,
   "id": "6d21ffcb",
   "metadata": {},
   "outputs": [
    {
     "name": "stdout",
     "output_type": "stream",
     "text": [
      "roll number 20 Name jayanti laal Age 19 Marks 75\n"
     ]
    }
   ],
   "source": [
    "class student:\n",
    "    def __init__(self,roll_no,name,age):\n",
    "        # instance variable\n",
    "        self.roll_no=roll_no\n",
    "        self.name=name\n",
    "        self.age=age\n",
    "        \n",
    "        # instance  method to add instance variable \n",
    "        \n",
    "    def add_marks(self,marks):\n",
    "            # add new attributes to current objects \n",
    "        self.marks=marks\n",
    "            \n",
    "# create object \n",
    "stud=student(20,'jayanti laal',19)\n",
    "\n",
    "# call instance method\n",
    "stud.add_marks(75)\n",
    " \n",
    "# display object\n",
    "\n",
    "print('roll number',stud.roll_no,'Name',stud.name,'Age',stud.age,'Marks',stud.marks)"
   ]
  },
  {
   "cell_type": "code",
   "execution_count": null,
   "id": "a788dd54",
   "metadata": {},
   "outputs": [],
   "source": []
  }
 ],
 "metadata": {
  "kernelspec": {
   "display_name": "Python 3 (ipykernel)",
   "language": "python",
   "name": "python3"
  },
  "language_info": {
   "codemirror_mode": {
    "name": "ipython",
    "version": 3
   },
   "file_extension": ".py",
   "mimetype": "text/x-python",
   "name": "python",
   "nbconvert_exporter": "python",
   "pygments_lexer": "ipython3",
   "version": "3.11.3"
  }
 },
 "nbformat": 4,
 "nbformat_minor": 5
}
