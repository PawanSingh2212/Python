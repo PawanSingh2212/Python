{
 "cells": [
  {
   "cell_type": "markdown",
   "id": "0429baf5",
   "metadata": {},
   "source": [
    "# Set in python"
   ]
  },
  {
   "cell_type": "markdown",
   "id": "05335675",
   "metadata": {},
   "source": [
    "### characteristics of set \n",
    "1. unodered \n",
    "2. unchangeable (items must be immutable)\n",
    "3. unique      (items must be unique , no duplicate)"
   ]
  },
  {
   "cell_type": "markdown",
   "id": "2c93bc9f",
   "metadata": {},
   "source": [
    " - written in a curly brackets"
   ]
  },
  {
   "cell_type": "code",
   "execution_count": 3,
   "id": "5ff25077",
   "metadata": {},
   "outputs": [
    {
     "ename": "TypeError",
     "evalue": "unhashable type: 'list'",
     "output_type": "error",
     "traceback": [
      "\u001b[1;31m---------------------------------------------------------------------------\u001b[0m",
      "\u001b[1;31mTypeError\u001b[0m                                 Traceback (most recent call last)",
      "Cell \u001b[1;32mIn[3], line 1\u001b[0m\n\u001b[1;32m----> 1\u001b[0m my_set\u001b[38;5;241m=\u001b[39m{\u001b[38;5;241m1\u001b[39m,\u001b[38;5;241m2\u001b[39m,\u001b[38;5;124m\"\u001b[39m\u001b[38;5;124mpawan\u001b[39m\u001b[38;5;124m\"\u001b[39m,[\u001b[38;5;241m23.4\u001b[39m,\u001b[38;5;241m78\u001b[39m],\u001b[38;5;241m6\u001b[39m\u001b[38;5;241m+\u001b[39m\u001b[38;5;241m2\u001b[39mj}\n",
      "\u001b[1;31mTypeError\u001b[0m: unhashable type: 'list'"
     ]
    }
   ],
   "source": [
    "my_set={1,2,\"pawan\",[23.4,78],6+2j}            # list cann't be addd in set c/z list is mutable and set is not"
   ]
  },
  {
   "cell_type": "code",
   "execution_count": 2,
   "id": "25c12fa0",
   "metadata": {},
   "outputs": [],
   "source": [
    "u={34,6.78,78+8j,\"pawan\"}"
   ]
  },
  {
   "cell_type": "code",
   "execution_count": 3,
   "id": "7be188c0",
   "metadata": {},
   "outputs": [
    {
     "ename": "AttributeError",
     "evalue": "'set' object has no attribute 'index'",
     "output_type": "error",
     "traceback": [
      "\u001b[1;31m---------------------------------------------------------------------------\u001b[0m",
      "\u001b[1;31mAttributeError\u001b[0m                            Traceback (most recent call last)",
      "Cell \u001b[1;32mIn[3], line 1\u001b[0m\n\u001b[1;32m----> 1\u001b[0m u\u001b[38;5;241m.\u001b[39mindex(\u001b[38;5;241m3\u001b[39m)\n",
      "\u001b[1;31mAttributeError\u001b[0m: 'set' object has no attribute 'index'"
     ]
    }
   ],
   "source": [
    "u.index(3)                # cann't find index caused it is not ordered (no indexing)"
   ]
  },
  {
   "cell_type": "markdown",
   "id": "bc22a14b",
   "metadata": {},
   "source": [
    "## len"
   ]
  },
  {
   "cell_type": "code",
   "execution_count": 4,
   "id": "ed75b9fa",
   "metadata": {},
   "outputs": [
    {
     "ename": "AttributeError",
     "evalue": "'set' object has no attribute 'len'",
     "output_type": "error",
     "traceback": [
      "\u001b[1;31m---------------------------------------------------------------------------\u001b[0m",
      "\u001b[1;31mAttributeError\u001b[0m                            Traceback (most recent call last)",
      "Cell \u001b[1;32mIn[4], line 1\u001b[0m\n\u001b[1;32m----> 1\u001b[0m u\u001b[38;5;241m.\u001b[39mlen\n",
      "\u001b[1;31mAttributeError\u001b[0m: 'set' object has no attribute 'len'"
     ]
    }
   ],
   "source": [
    "u.len"
   ]
  },
  {
   "cell_type": "markdown",
   "id": "85b1ae2b",
   "metadata": {},
   "source": [
    "## append"
   ]
  },
  {
   "cell_type": "code",
   "execution_count": 11,
   "id": "80d14ee1",
   "metadata": {},
   "outputs": [
    {
     "ename": "AttributeError",
     "evalue": "'set' object has no attribute 'append'",
     "output_type": "error",
     "traceback": [
      "\u001b[1;31m---------------------------------------------------------------------------\u001b[0m",
      "\u001b[1;31mAttributeError\u001b[0m                            Traceback (most recent call last)",
      "Cell \u001b[1;32mIn[11], line 1\u001b[0m\n\u001b[1;32m----> 1\u001b[0m u\u001b[38;5;241m.\u001b[39mappend(\u001b[38;5;241m12\u001b[39m)\n",
      "\u001b[1;31mAttributeError\u001b[0m: 'set' object has no attribute 'append'"
     ]
    }
   ],
   "source": [
    "u.append(12)"
   ]
  },
  {
   "cell_type": "markdown",
   "id": "00623130",
   "metadata": {},
   "source": [
    "## insert"
   ]
  },
  {
   "cell_type": "code",
   "execution_count": 12,
   "id": "0d8b7ea7",
   "metadata": {},
   "outputs": [
    {
     "ename": "AttributeError",
     "evalue": "'set' object has no attribute 'insert'",
     "output_type": "error",
     "traceback": [
      "\u001b[1;31m---------------------------------------------------------------------------\u001b[0m",
      "\u001b[1;31mAttributeError\u001b[0m                            Traceback (most recent call last)",
      "Cell \u001b[1;32mIn[12], line 1\u001b[0m\n\u001b[1;32m----> 1\u001b[0m u\u001b[38;5;241m.\u001b[39minsert(\u001b[38;5;241m2\u001b[39m,\u001b[38;5;241m34\u001b[39m)\n",
      "\u001b[1;31mAttributeError\u001b[0m: 'set' object has no attribute 'insert'"
     ]
    }
   ],
   "source": [
    "u.insert(2,34)"
   ]
  },
  {
   "cell_type": "markdown",
   "id": "9596e80b",
   "metadata": {},
   "source": [
    "## extend"
   ]
  },
  {
   "cell_type": "code",
   "execution_count": 13,
   "id": "bf2e0f11",
   "metadata": {},
   "outputs": [
    {
     "ename": "AttributeError",
     "evalue": "'set' object has no attribute 'extend'",
     "output_type": "error",
     "traceback": [
      "\u001b[1;31m---------------------------------------------------------------------------\u001b[0m",
      "\u001b[1;31mAttributeError\u001b[0m                            Traceback (most recent call last)",
      "Cell \u001b[1;32mIn[13], line 1\u001b[0m\n\u001b[1;32m----> 1\u001b[0m u\u001b[38;5;241m.\u001b[39mextend(\u001b[38;5;124m'\u001b[39m\u001b[38;5;124mpaw\u001b[39m\u001b[38;5;124m'\u001b[39m)\n",
      "\u001b[1;31mAttributeError\u001b[0m: 'set' object has no attribute 'extend'"
     ]
    }
   ],
   "source": [
    "u.extend('paw')"
   ]
  },
  {
   "cell_type": "markdown",
   "id": "9b81646d",
   "metadata": {},
   "source": [
    "## modify"
   ]
  },
  {
   "cell_type": "code",
   "execution_count": 14,
   "id": "0f08a4fe",
   "metadata": {},
   "outputs": [
    {
     "ename": "TypeError",
     "evalue": "'set' object does not support item assignment",
     "output_type": "error",
     "traceback": [
      "\u001b[1;31m---------------------------------------------------------------------------\u001b[0m",
      "\u001b[1;31mTypeError\u001b[0m                                 Traceback (most recent call last)",
      "Cell \u001b[1;32mIn[14], line 1\u001b[0m\n\u001b[1;32m----> 1\u001b[0m u[\u001b[38;5;241m3\u001b[39m]\u001b[38;5;241m=\u001b[39m\u001b[38;5;241m45\u001b[39m\n",
      "\u001b[1;31mTypeError\u001b[0m: 'set' object does not support item assignment"
     ]
    }
   ],
   "source": [
    "u[3]=45"
   ]
  },
  {
   "cell_type": "markdown",
   "id": "dbc73e4d",
   "metadata": {},
   "source": [
    "## remove"
   ]
  },
  {
   "cell_type": "code",
   "execution_count": 15,
   "id": "93a0f730",
   "metadata": {},
   "outputs": [
    {
     "name": "stdout",
     "output_type": "stream",
     "text": [
      "{'pawan', 34, 6.78, (78+8j)}\n"
     ]
    }
   ],
   "source": [
    "print(u)"
   ]
  },
  {
   "cell_type": "code",
   "execution_count": 16,
   "id": "f4259526",
   "metadata": {},
   "outputs": [],
   "source": [
    "u.remove(34)"
   ]
  },
  {
   "cell_type": "code",
   "execution_count": 17,
   "id": "471260b3",
   "metadata": {},
   "outputs": [
    {
     "name": "stdout",
     "output_type": "stream",
     "text": [
      "{'pawan', 6.78, (78+8j)}\n"
     ]
    }
   ],
   "source": [
    "print(u)"
   ]
  },
  {
   "cell_type": "markdown",
   "id": "7d72cfac",
   "metadata": {},
   "source": [
    "## clear"
   ]
  },
  {
   "cell_type": "code",
   "execution_count": 35,
   "id": "7e065f95",
   "metadata": {},
   "outputs": [],
   "source": [
    "u.clear()"
   ]
  },
  {
   "cell_type": "code",
   "execution_count": 36,
   "id": "c622763c",
   "metadata": {},
   "outputs": [
    {
     "name": "stdout",
     "output_type": "stream",
     "text": [
      "set()\n"
     ]
    }
   ],
   "source": [
    "print(u)"
   ]
  },
  {
   "cell_type": "code",
   "execution_count": 39,
   "id": "e4211a58",
   "metadata": {},
   "outputs": [
    {
     "ename": "TypeError",
     "evalue": "unhashable type: 'set'",
     "output_type": "error",
     "traceback": [
      "\u001b[1;31m---------------------------------------------------------------------------\u001b[0m",
      "\u001b[1;31mTypeError\u001b[0m                                 Traceback (most recent call last)",
      "Cell \u001b[1;32mIn[39], line 1\u001b[0m\n\u001b[1;32m----> 1\u001b[0m w\u001b[38;5;241m=\u001b[39m{\u001b[38;5;241m1\u001b[39m,\u001b[38;5;241m23\u001b[39m,{\u001b[38;5;241m3\u001b[39m,\u001b[38;5;241m34\u001b[39m}}\n",
      "\u001b[1;31mTypeError\u001b[0m: unhashable type: 'set'"
     ]
    }
   ],
   "source": [
    "w={1,23,{3,34}}           # set is mutable that's why we cann't add a set inside set c/z items of set are immutable"
   ]
  },
  {
   "cell_type": "markdown",
   "id": "8f9ec9e8",
   "metadata": {},
   "source": [
    "## del"
   ]
  },
  {
   "cell_type": "code",
   "execution_count": 1,
   "id": "b0801bbc",
   "metadata": {},
   "outputs": [],
   "source": [
    "setc={1,2,35,67,8.5}"
   ]
  },
  {
   "cell_type": "code",
   "execution_count": 2,
   "id": "859b4fde",
   "metadata": {},
   "outputs": [
    {
     "ename": "NameError",
     "evalue": "name 'setc' is not defined",
     "output_type": "error",
     "traceback": [
      "\u001b[1;31m---------------------------------------------------------------------------\u001b[0m",
      "\u001b[1;31mNameError\u001b[0m                                 Traceback (most recent call last)",
      "Cell \u001b[1;32mIn[2], line 2\u001b[0m\n\u001b[0;32m      1\u001b[0m \u001b[38;5;28;01mdel\u001b[39;00m setc\n\u001b[1;32m----> 2\u001b[0m \u001b[38;5;28mprint\u001b[39m(setc)\n",
      "\u001b[1;31mNameError\u001b[0m: name 'setc' is not defined"
     ]
    }
   ],
   "source": [
    "del setc\n",
    "print(setc)"
   ]
  },
  {
   "cell_type": "markdown",
   "id": "2998366c",
   "metadata": {},
   "source": [
    "## pop"
   ]
  },
  {
   "cell_type": "code",
   "execution_count": 13,
   "id": "4078f372",
   "metadata": {},
   "outputs": [],
   "source": [
    "setn={1,2,3455,6.7,\"pawan\"}"
   ]
  },
  {
   "cell_type": "code",
   "execution_count": 14,
   "id": "967c85b1",
   "metadata": {},
   "outputs": [
    {
     "data": {
      "text/plain": [
       "1"
      ]
     },
     "execution_count": 14,
     "metadata": {},
     "output_type": "execute_result"
    }
   ],
   "source": [
    "setn.pop()          # removed the item from left"
   ]
  },
  {
   "cell_type": "code",
   "execution_count": 15,
   "id": "a836400a",
   "metadata": {},
   "outputs": [
    {
     "name": "stdout",
     "output_type": "stream",
     "text": [
      "{2, 'pawan', 6.7, 3455}\n"
     ]
    }
   ],
   "source": [
    "print(setn)"
   ]
  },
  {
   "cell_type": "code",
   "execution_count": 16,
   "id": "1f544209",
   "metadata": {},
   "outputs": [
    {
     "data": {
      "text/plain": [
       "2"
      ]
     },
     "execution_count": 16,
     "metadata": {},
     "output_type": "execute_result"
    }
   ],
   "source": [
    "setn.pop()\n"
   ]
  },
  {
   "cell_type": "code",
   "execution_count": 17,
   "id": "04a8587b",
   "metadata": {},
   "outputs": [
    {
     "name": "stdout",
     "output_type": "stream",
     "text": [
      "{'pawan', 6.7, 3455}\n"
     ]
    }
   ],
   "source": [
    "print(setn)"
   ]
  },
  {
   "cell_type": "markdown",
   "id": "9934fb74",
   "metadata": {},
   "source": [
    "## adding two set"
   ]
  },
  {
   "cell_type": "code",
   "execution_count": 1,
   "id": "15460d68",
   "metadata": {},
   "outputs": [],
   "source": [
    "seta={1,2,45,67,43}\n",
    "setb={23,45,67,967}"
   ]
  },
  {
   "cell_type": "code",
   "execution_count": 2,
   "id": "6238f322-4f5c-479e-af6b-d17949669daa",
   "metadata": {},
   "outputs": [
    {
     "ename": "TypeError",
     "evalue": "unhashable type: 'set'",
     "output_type": "error",
     "traceback": [
      "\u001b[1;31m---------------------------------------------------------------------------\u001b[0m",
      "\u001b[1;31mTypeError\u001b[0m                                 Traceback (most recent call last)",
      "Cell \u001b[1;32mIn[2], line 1\u001b[0m\n\u001b[1;32m----> 1\u001b[0m seta\u001b[38;5;241m.\u001b[39madd(setb)\n",
      "\u001b[1;31mTypeError\u001b[0m: unhashable type: 'set'"
     ]
    }
   ],
   "source": [
    "seta.add(setb)"
   ]
  },
  {
   "cell_type": "code",
   "execution_count": 6,
   "id": "a5ab5f91",
   "metadata": {},
   "outputs": [
    {
     "ename": "TypeError",
     "evalue": "unsupported operand type(s) for +: 'set' and 'set'",
     "output_type": "error",
     "traceback": [
      "\u001b[1;31m---------------------------------------------------------------------------\u001b[0m",
      "\u001b[1;31mTypeError\u001b[0m                                 Traceback (most recent call last)",
      "Cell \u001b[1;32mIn[6], line 1\u001b[0m\n\u001b[1;32m----> 1\u001b[0m \u001b[38;5;28mprint\u001b[39m(seta\u001b[38;5;241m+\u001b[39msetb)\n",
      "\u001b[1;31mTypeError\u001b[0m: unsupported operand type(s) for +: 'set' and 'set'"
     ]
    }
   ],
   "source": [
    "print(seta+setb)"
   ]
  },
  {
   "cell_type": "code",
   "execution_count": 7,
   "id": "002100ac",
   "metadata": {},
   "outputs": [
    {
     "ename": "TypeError",
     "evalue": "unhashable type: 'set'",
     "output_type": "error",
     "traceback": [
      "\u001b[1;31m---------------------------------------------------------------------------\u001b[0m",
      "\u001b[1;31mTypeError\u001b[0m                                 Traceback (most recent call last)",
      "Cell \u001b[1;32mIn[7], line 1\u001b[0m\n\u001b[1;32m----> 1\u001b[0m \u001b[38;5;28mprint\u001b[39m({seta}\u001b[38;5;241m*\u001b[39m\u001b[38;5;241m2\u001b[39m)\n",
      "\u001b[1;31mTypeError\u001b[0m: unhashable type: 'set'"
     ]
    }
   ],
   "source": [
    "print({seta}*2)"
   ]
  },
  {
   "cell_type": "markdown",
   "id": "4f8301b3",
   "metadata": {},
   "source": [
    "# Adding items to the set"
   ]
  },
  {
   "cell_type": "markdown",
   "id": "9cc57e73",
   "metadata": {},
   "source": [
    "## add() "
   ]
  },
  {
   "cell_type": "code",
   "execution_count": 18,
   "id": "1a763f42",
   "metadata": {},
   "outputs": [],
   "source": [
    "set0={1,23,45,5.65}"
   ]
  },
  {
   "cell_type": "code",
   "execution_count": 19,
   "id": "060b8997",
   "metadata": {},
   "outputs": [],
   "source": [
    "set0.add(12)"
   ]
  },
  {
   "cell_type": "code",
   "execution_count": 20,
   "id": "874654ce",
   "metadata": {},
   "outputs": [
    {
     "name": "stdout",
     "output_type": "stream",
     "text": [
      "{1, 5.65, 12, 45, 23}\n"
     ]
    }
   ],
   "source": [
    "print(set0)"
   ]
  },
  {
   "cell_type": "code",
   "execution_count": 21,
   "id": "5006d117",
   "metadata": {},
   "outputs": [
    {
     "name": "stdout",
     "output_type": "stream",
     "text": [
      "{1, 34, 5.65, 12, 45, 23}\n"
     ]
    }
   ],
   "source": [
    "set0.add(34)\n",
    "print(set0)"
   ]
  },
  {
   "cell_type": "code",
   "execution_count": 22,
   "id": "1f6ebf9d",
   "metadata": {},
   "outputs": [
    {
     "ename": "SyntaxError",
     "evalue": "invalid syntax (3999653041.py, line 1)",
     "output_type": "error",
     "traceback": [
      "\u001b[1;36m  Cell \u001b[1;32mIn[22], line 1\u001b[1;36m\u001b[0m\n\u001b[1;33m    set0.add{12}\u001b[0m\n\u001b[1;37m            ^\u001b[0m\n\u001b[1;31mSyntaxError\u001b[0m\u001b[1;31m:\u001b[0m invalid syntax\n"
     ]
    }
   ],
   "source": [
    "set0.add{12}"
   ]
  },
  {
   "cell_type": "code",
   "execution_count": 1,
   "id": "51f917d8",
   "metadata": {},
   "outputs": [],
   "source": [
    "set1={90,\"yaay\",78,23,\"no\"}"
   ]
  },
  {
   "cell_type": "code",
   "execution_count": 2,
   "id": "0d9596a6",
   "metadata": {},
   "outputs": [],
   "source": [
    "set1.add((12,34,89))"
   ]
  },
  {
   "cell_type": "code",
   "execution_count": 3,
   "id": "6f3c5cdf",
   "metadata": {},
   "outputs": [
    {
     "name": "stdout",
     "output_type": "stream",
     "text": [
      "{'no', (12, 34, 89), 23, 'yaay', 90, 78}\n"
     ]
    }
   ],
   "source": [
    "print(set1)"
   ]
  },
  {
   "cell_type": "code",
   "execution_count": 4,
   "id": "edae4412",
   "metadata": {},
   "outputs": [
    {
     "ename": "TypeError",
     "evalue": "set.add() takes exactly one argument (3 given)",
     "output_type": "error",
     "traceback": [
      "\u001b[1;31m---------------------------------------------------------------------------\u001b[0m",
      "\u001b[1;31mTypeError\u001b[0m                                 Traceback (most recent call last)",
      "Cell \u001b[1;32mIn[4], line 1\u001b[0m\n\u001b[1;32m----> 1\u001b[0m set1\u001b[38;5;241m.\u001b[39madd(\u001b[38;5;241m12\u001b[39m,\u001b[38;5;241m336\u001b[39m,\u001b[38;5;241m46\u001b[39m)\n",
      "\u001b[1;31mTypeError\u001b[0m: set.add() takes exactly one argument (3 given)"
     ]
    }
   ],
   "source": [
    "set1.add(12,336,46)              "
   ]
  },
  {
   "cell_type": "code",
   "execution_count": 5,
   "id": "44f3185d",
   "metadata": {},
   "outputs": [
    {
     "ename": "TypeError",
     "evalue": "unhashable type: 'list'",
     "output_type": "error",
     "traceback": [
      "\u001b[1;31m---------------------------------------------------------------------------\u001b[0m",
      "\u001b[1;31mTypeError\u001b[0m                                 Traceback (most recent call last)",
      "Cell \u001b[1;32mIn[5], line 1\u001b[0m\n\u001b[1;32m----> 1\u001b[0m set1\u001b[38;5;241m.\u001b[39madd([\u001b[38;5;241m12\u001b[39m,\u001b[38;5;241m336\u001b[39m,\u001b[38;5;241m46\u001b[39m])\n",
      "\u001b[1;31mTypeError\u001b[0m: unhashable type: 'list'"
     ]
    }
   ],
   "source": [
    "set1.add([12,336,46]) # it didn't add it cause add fuction add only one item and here list is treated as one item and is mutab."
   ]
  },
  {
   "cell_type": "code",
   "execution_count": 6,
   "id": "271d1c3c",
   "metadata": {},
   "outputs": [
    {
     "name": "stdout",
     "output_type": "stream",
     "text": [
      "{'yyyy', 'no', (12, 34, 89), 23, 'yaay', 90, 78}\n"
     ]
    }
   ],
   "source": [
    "set1.add(\"yyyy\")          # it added \"yyyy\" c/z it treated it as a single item\n",
    "print(set1)"
   ]
  },
  {
   "cell_type": "code",
   "execution_count": 1,
   "id": "c8f99fa7",
   "metadata": {},
   "outputs": [],
   "source": [
    "book={\"history\",\"geography\",\"english\"}"
   ]
  },
  {
   "cell_type": "code",
   "execution_count": 2,
   "id": "8073e82e",
   "metadata": {},
   "outputs": [
    {
     "name": "stdout",
     "output_type": "stream",
     "text": [
      "{'history', 'english', 'geography', 'science'}\n"
     ]
    }
   ],
   "source": [
    "book.add(\"science\")\n",
    "print(book)"
   ]
  },
  {
   "cell_type": "code",
   "execution_count": 3,
   "id": "4975fee7",
   "metadata": {},
   "outputs": [
    {
     "name": "stdout",
     "output_type": "stream",
     "text": [
      "None\n"
     ]
    }
   ],
   "source": [
    "print(book.add('gu'))"
   ]
  },
  {
   "cell_type": "markdown",
   "id": "688ea74c",
   "metadata": {},
   "source": [
    "## update([])\n",
    "to add more than one item"
   ]
  },
  {
   "cell_type": "code",
   "execution_count": 33,
   "id": "dd801926",
   "metadata": {},
   "outputs": [],
   "source": [
    "book.update([\"hindi\",\"polity\",\"math\"])"
   ]
  },
  {
   "cell_type": "code",
   "execution_count": 34,
   "id": "fbca01d7",
   "metadata": {},
   "outputs": [
    {
     "name": "stdout",
     "output_type": "stream",
     "text": [
      "{'history', 'science', 'english', 'math', 'hindi', 'y', 'geography', 'polity'}\n"
     ]
    }
   ],
   "source": [
    "print(book)"
   ]
  },
  {
   "cell_type": "code",
   "execution_count": 35,
   "id": "0d7e1316",
   "metadata": {},
   "outputs": [
    {
     "name": "stdout",
     "output_type": "stream",
     "text": [
      "{1, 2, 3, 'history', 'science', 'english', 'math', 'hindi', 'y', 'geography', 'polity'}\n"
     ]
    }
   ],
   "source": [
    "book.update([1,2,3])    # update took only the items of list not the list \n",
    "print(book)"
   ]
  },
  {
   "cell_type": "code",
   "execution_count": 36,
   "id": "c83fe897",
   "metadata": {},
   "outputs": [],
   "source": [
    "book.update('homescience',)    "
   ]
  },
  {
   "cell_type": "code",
   "execution_count": 37,
   "id": "e5b76147",
   "metadata": {},
   "outputs": [
    {
     "name": "stdout",
     "output_type": "stream",
     "text": [
      "{1, 2, 3, 'science', 'math', 'hindi', 'h', 'y', 'polity', 'history', 'c', 's', 'e', 'i', 'o', 'english', 'm', 'n', 'geography'}\n"
     ]
    }
   ],
   "source": [
    "print(book)"
   ]
  },
  {
   "cell_type": "code",
   "execution_count": 38,
   "id": "2eded21f",
   "metadata": {},
   "outputs": [
    {
     "ename": "SyntaxError",
     "evalue": "invalid syntax (1132166138.py, line 1)",
     "output_type": "error",
     "traceback": [
      "\u001b[1;36m  Cell \u001b[1;32mIn[38], line 1\u001b[1;36m\u001b[0m\n\u001b[1;33m    book.update{23,46}\u001b[0m\n\u001b[1;37m               ^\u001b[0m\n\u001b[1;31mSyntaxError\u001b[0m\u001b[1;31m:\u001b[0m invalid syntax\n"
     ]
    }
   ],
   "source": [
    "book.update{23,46}"
   ]
  },
  {
   "cell_type": "code",
   "execution_count": 39,
   "id": "6a8128d3",
   "metadata": {},
   "outputs": [
    {
     "ename": "SyntaxError",
     "evalue": "invalid syntax (878232343.py, line 1)",
     "output_type": "error",
     "traceback": [
      "\u001b[1;36m  Cell \u001b[1;32mIn[39], line 1\u001b[1;36m\u001b[0m\n\u001b[1;33m    book.update\"pawan\"\u001b[0m\n\u001b[1;37m               ^\u001b[0m\n\u001b[1;31mSyntaxError\u001b[0m\u001b[1;31m:\u001b[0m invalid syntax\n"
     ]
    }
   ],
   "source": [
    "book.update\"pawan\""
   ]
  },
  {
   "cell_type": "code",
   "execution_count": 40,
   "id": "e3b2f939",
   "metadata": {},
   "outputs": [],
   "source": [
    "book.update((\"raven\"))"
   ]
  },
  {
   "cell_type": "code",
   "execution_count": 41,
   "id": "e0813be0",
   "metadata": {},
   "outputs": [
    {
     "name": "stdout",
     "output_type": "stream",
     "text": [
      "{1, 2, 3, 'science', 'math', 'hindi', 'h', 'v', 'y', 'polity', 'r', 'history', 'c', 's', 'e', 'i', 'a', 'o', 'english', 'm', 'n', 'geography'}\n"
     ]
    }
   ],
   "source": [
    "print(book)"
   ]
  },
  {
   "cell_type": "code",
   "execution_count": 42,
   "id": "3d5acaf9",
   "metadata": {},
   "outputs": [],
   "source": [
    "book.update((\"saw\",\"no\"))"
   ]
  },
  {
   "cell_type": "code",
   "execution_count": 43,
   "id": "6e59dc64",
   "metadata": {},
   "outputs": [
    {
     "name": "stdout",
     "output_type": "stream",
     "text": [
      "{1, 2, 3, 'no', 'science', 'math', 'hindi', 'h', 'v', 'y', 'saw', 'polity', 'r', 'history', 'c', 's', 'e', 'i', 'a', 'o', 'english', 'm', 'n', 'geography'}\n"
     ]
    }
   ],
   "source": [
    "print(book)"
   ]
  },
  {
   "cell_type": "code",
   "execution_count": 44,
   "id": "ab611e61",
   "metadata": {},
   "outputs": [],
   "source": [
    "book.update({\"pawan\"})"
   ]
  },
  {
   "cell_type": "code",
   "execution_count": 45,
   "id": "0f87926e",
   "metadata": {},
   "outputs": [
    {
     "name": "stdout",
     "output_type": "stream",
     "text": [
      "{1, 2, 3, 'no', 'science', 'math', 'hindi', 'h', 'v', 'y', 'saw', 'polity', 'r', 'history', 'c', 's', 'e', 'i', 'a', 'o', 'pawan', 'english', 'm', 'n', 'geography'}\n"
     ]
    }
   ],
   "source": [
    "print(book)"
   ]
  },
  {
   "cell_type": "code",
   "execution_count": 46,
   "id": "c1d87aad",
   "metadata": {},
   "outputs": [],
   "source": [
    "book.update({12,243,56})"
   ]
  },
  {
   "cell_type": "code",
   "execution_count": 47,
   "id": "99b87dbf",
   "metadata": {},
   "outputs": [
    {
     "name": "stdout",
     "output_type": "stream",
     "text": [
      "{1, 2, 3, 'no', 'science', 'math', 12, 'hindi', 'h', 'v', 'y', 'saw', 'polity', 'r', 'history', 'c', 's', 56, 'e', 'i', 'a', 'o', 'pawan', 'english', 'm', 243, 'n', 'geography'}\n"
     ]
    }
   ],
   "source": [
    "print(book)"
   ]
  },
  {
   "cell_type": "code",
   "execution_count": 48,
   "id": "f9866888",
   "metadata": {},
   "outputs": [],
   "source": [
    "book.update({12})"
   ]
  },
  {
   "cell_type": "code",
   "execution_count": 49,
   "id": "846998f8",
   "metadata": {},
   "outputs": [
    {
     "name": "stdout",
     "output_type": "stream",
     "text": [
      "{1, 2, 3, 'no', 'science', 'math', 12, 'hindi', 'h', 'v', 'y', 'saw', 'polity', 'r', 'history', 'c', 's', 56, 'e', 'i', 'a', 'o', 'pawan', 'english', 'm', 243, 'n', 'geography'}\n"
     ]
    }
   ],
   "source": [
    "print(book)"
   ]
  },
  {
   "cell_type": "code",
   "execution_count": 50,
   "id": "40946454",
   "metadata": {},
   "outputs": [
    {
     "ename": "SyntaxError",
     "evalue": "invalid syntax (3534556748.py, line 1)",
     "output_type": "error",
     "traceback": [
      "\u001b[1;36m  Cell \u001b[1;32mIn[50], line 1\u001b[1;36m\u001b[0m\n\u001b[1;33m    book.update{(12)}\u001b[0m\n\u001b[1;37m               ^\u001b[0m\n\u001b[1;31mSyntaxError\u001b[0m\u001b[1;31m:\u001b[0m invalid syntax\n"
     ]
    }
   ],
   "source": [
    "book.update{(12)}"
   ]
  },
  {
   "cell_type": "code",
   "execution_count": 51,
   "id": "4484b767",
   "metadata": {},
   "outputs": [
    {
     "ename": "TypeError",
     "evalue": "'int' object is not iterable",
     "output_type": "error",
     "traceback": [
      "\u001b[1;31m---------------------------------------------------------------------------\u001b[0m",
      "\u001b[1;31mTypeError\u001b[0m                                 Traceback (most recent call last)",
      "Cell \u001b[1;32mIn[51], line 1\u001b[0m\n\u001b[1;32m----> 1\u001b[0m book\u001b[38;5;241m.\u001b[39mupdate(\u001b[38;5;241m12\u001b[39m,\u001b[38;5;241m78\u001b[39m)\n",
      "\u001b[1;31mTypeError\u001b[0m: 'int' object is not iterable"
     ]
    }
   ],
   "source": [
    "book.update(12,78)  # 'int' object is not iterable"
   ]
  },
  {
   "cell_type": "code",
   "execution_count": 52,
   "id": "d0285461",
   "metadata": {},
   "outputs": [
    {
     "name": "stdout",
     "output_type": "stream",
     "text": [
      "{1, 2, 3, '8', 'no', 'science', 'math', 12, 'hindi', 'h', 'v', 'y', 'saw', 'polity', 'r', 'history', 'c', 's', '2', 56, 'e', 'i', 'a', 'o', 'pawan', 'english', '7', 'm', 243, 'n', 'geography', '1'}\n"
     ]
    }
   ],
   "source": [
    "book.update(\"12\",\"78\")       # string is iterable\n",
    "print(book)"
   ]
  },
  {
   "cell_type": "code",
   "execution_count": 53,
   "id": "4c52e55a",
   "metadata": {},
   "outputs": [
    {
     "name": "stdout",
     "output_type": "stream",
     "text": [
      "{1, 2, 3, '8', 'no', 'science', 'math', 12, 'hindi', 'h', 'v', 'y', 'saw', 'polity', 'r', 'history', 'c', 's', '2', 56, 'e', 'i', 'a', 'o', 'pawan', 'english', '7', 'm', 243, 'n', 'geography', '1'}\n"
     ]
    }
   ],
   "source": [
    "book.update(\"yyyy\")    # it took only \"y\" c/z set do not have duplicates\n",
    "print(book)         "
   ]
  },
  {
   "cell_type": "code",
   "execution_count": null,
   "id": "9ede8315",
   "metadata": {},
   "outputs": [],
   "source": []
  },
  {
   "cell_type": "code",
   "execution_count": 4,
   "id": "280b53dc",
   "metadata": {},
   "outputs": [],
   "source": [
    "name={\"pawan\",\"rao\",\"naincy\",\"ruskin\"}"
   ]
  },
  {
   "cell_type": "code",
   "execution_count": 5,
   "id": "e77172a4",
   "metadata": {},
   "outputs": [
    {
     "name": "stdout",
     "output_type": "stream",
     "text": [
      "{'naincy', 'rao', 'raj', 'pawan', 'ruskin', 'pushpa'}\n"
     ]
    }
   ],
   "source": [
    "name.update([\"raj\",\"pushpa\"])\n",
    "print(name)"
   ]
  },
  {
   "cell_type": "code",
   "execution_count": 6,
   "id": "07800b2a",
   "metadata": {},
   "outputs": [
    {
     "name": "stdout",
     "output_type": "stream",
     "text": [
      "{'naincy', '12', 'rao', 'raj', 12, 'pawan', 'ruskin', 'pushpa'}\n"
     ]
    }
   ],
   "source": [
    "name.update([\"12\",12])\n",
    "print(name)"
   ]
  },
  {
   "cell_type": "code",
   "execution_count": 7,
   "id": "062b6aee",
   "metadata": {},
   "outputs": [
    {
     "ename": "TypeError",
     "evalue": "'int' object is not iterable",
     "output_type": "error",
     "traceback": [
      "\u001b[1;31m---------------------------------------------------------------------------\u001b[0m",
      "\u001b[1;31mTypeError\u001b[0m                                 Traceback (most recent call last)",
      "Cell \u001b[1;32mIn[7], line 1\u001b[0m\n\u001b[1;32m----> 1\u001b[0m name\u001b[38;5;241m.\u001b[39mupdate(\u001b[38;5;124m\"\u001b[39m\u001b[38;5;124m12\u001b[39m\u001b[38;5;124m\"\u001b[39m,\u001b[38;5;241m12\u001b[39m)\n",
      "\u001b[1;31mTypeError\u001b[0m: 'int' object is not iterable"
     ]
    }
   ],
   "source": [
    "name.update(\"12\",12)"
   ]
  },
  {
   "cell_type": "code",
   "execution_count": 8,
   "id": "c3d26484",
   "metadata": {},
   "outputs": [
    {
     "name": "stdout",
     "output_type": "stream",
     "text": [
      "{'naincy', '12', 'rao', 'raj', 12, 'pawan', 'ruskin', '1', '2', 'pushpa'}\n"
     ]
    }
   ],
   "source": [
    "print(name)"
   ]
  },
  {
   "cell_type": "code",
   "execution_count": 9,
   "id": "0b8014d2",
   "metadata": {},
   "outputs": [],
   "source": [
    "name.update((((\"po\"))))"
   ]
  },
  {
   "cell_type": "code",
   "execution_count": 10,
   "id": "8cfeff3a",
   "metadata": {},
   "outputs": [
    {
     "name": "stdout",
     "output_type": "stream",
     "text": [
      "{'naincy', '12', 'rao', 'raj', 12, 'p', 'pawan', 'ruskin', '1', 'o', '2', 'pushpa'}\n"
     ]
    }
   ],
   "source": [
    "print(name)"
   ]
  },
  {
   "cell_type": "code",
   "execution_count": 13,
   "id": "b5452e2e",
   "metadata": {},
   "outputs": [
    {
     "name": "stdout",
     "output_type": "stream",
     "text": [
      "{1, 'naincy', '12', 'rao', 'raj', 12, 'p', 'pawan', 'ruskin', '1', 'o', '2', 'pushpa', 'b'}\n"
     ]
    }
   ],
   "source": [
    "name.update({1:\"a\",\"b\":2})\n",
    "print(name)"
   ]
  },
  {
   "cell_type": "code",
   "execution_count": null,
   "id": "d34d1e35-3489-488a-812a-7cbf121d6a8a",
   "metadata": {},
   "outputs": [],
   "source": []
  },
  {
   "cell_type": "markdown",
   "id": "ec7c36d3",
   "metadata": {},
   "source": [
    "## update don't works with empty set"
   ]
  },
  {
   "cell_type": "code",
   "execution_count": 1,
   "id": "5799360e",
   "metadata": {},
   "outputs": [
    {
     "ename": "TypeError",
     "evalue": "cannot convert dictionary update sequence element #0 to a sequence",
     "output_type": "error",
     "traceback": [
      "\u001b[1;31m---------------------------------------------------------------------------\u001b[0m",
      "\u001b[1;31mTypeError\u001b[0m                                 Traceback (most recent call last)",
      "Cell \u001b[1;32mIn[1], line 2\u001b[0m\n\u001b[0;32m      1\u001b[0m set6\u001b[38;5;241m=\u001b[39m{}\n\u001b[1;32m----> 2\u001b[0m set6\u001b[38;5;241m.\u001b[39mupdate([\u001b[38;5;241m12\u001b[39m,\u001b[38;5;241m34\u001b[39m,\u001b[38;5;241m23\u001b[39m])\n",
      "\u001b[1;31mTypeError\u001b[0m: cannot convert dictionary update sequence element #0 to a sequence"
     ]
    }
   ],
   "source": [
    "set6={}\n",
    "set6.update([12,34,23])"
   ]
  },
  {
   "cell_type": "code",
   "execution_count": 2,
   "id": "82dc00f1",
   "metadata": {},
   "outputs": [
    {
     "name": "stdout",
     "output_type": "stream",
     "text": [
      "{1, 34, 12, 23}\n"
     ]
    }
   ],
   "source": [
    "set6={1}\n",
    "set6.update([12,34,23])\n",
    "print(set6)"
   ]
  },
  {
   "cell_type": "code",
   "execution_count": null,
   "id": "a6ec4908",
   "metadata": {},
   "outputs": [],
   "source": []
  },
  {
   "cell_type": "markdown",
   "id": "c0a3f612",
   "metadata": {},
   "source": [
    "# set operations"
   ]
  },
  {
   "cell_type": "markdown",
   "id": "4be1b370",
   "metadata": {},
   "source": [
    "1. remove()\n",
    "2. discard()\n",
    "3. pop()\n",
    "4. del\n",
    "5. clear()"
   ]
  },
  {
   "cell_type": "markdown",
   "id": "34e1c036",
   "metadata": {},
   "source": [
    "## remove"
   ]
  },
  {
   "cell_type": "code",
   "execution_count": 134,
   "id": "6b92ba22",
   "metadata": {},
   "outputs": [],
   "source": [
    "bike={\"bajaj\",\"dicover\",\"pulsar\",\"duke\"}"
   ]
  },
  {
   "cell_type": "code",
   "execution_count": 135,
   "id": "cf6b85a5",
   "metadata": {},
   "outputs": [],
   "source": [
    "bike.remove(\"bajaj\")\n"
   ]
  },
  {
   "cell_type": "code",
   "execution_count": 136,
   "id": "de5d910b",
   "metadata": {},
   "outputs": [
    {
     "name": "stdout",
     "output_type": "stream",
     "text": [
      "{'duke', 'dicover', 'pulsar'}\n"
     ]
    }
   ],
   "source": [
    "print(bike)"
   ]
  },
  {
   "cell_type": "markdown",
   "id": "30e86f3c",
   "metadata": {},
   "source": [
    "## discard"
   ]
  },
  {
   "cell_type": "code",
   "execution_count": 137,
   "id": "f6d37698",
   "metadata": {},
   "outputs": [],
   "source": [
    "bike.discard(\"dicover\")"
   ]
  },
  {
   "cell_type": "code",
   "execution_count": 138,
   "id": "e4fcf154",
   "metadata": {},
   "outputs": [
    {
     "name": "stdout",
     "output_type": "stream",
     "text": [
      "{'duke', 'pulsar'}\n"
     ]
    }
   ],
   "source": [
    "print(bike)"
   ]
  },
  {
   "cell_type": "code",
   "execution_count": 139,
   "id": "56697ad8",
   "metadata": {},
   "outputs": [],
   "source": [
    "bike.discard(\"pulsar\")"
   ]
  },
  {
   "cell_type": "code",
   "execution_count": 140,
   "id": "9bc95891",
   "metadata": {},
   "outputs": [
    {
     "name": "stdout",
     "output_type": "stream",
     "text": [
      "{'duke'}\n"
     ]
    }
   ],
   "source": [
    "print(bike)"
   ]
  },
  {
   "cell_type": "code",
   "execution_count": 141,
   "id": "8462d01c",
   "metadata": {},
   "outputs": [
    {
     "ename": "TypeError",
     "evalue": "unhashable type: 'list'",
     "output_type": "error",
     "traceback": [
      "\u001b[1;31m---------------------------------------------------------------------------\u001b[0m",
      "\u001b[1;31mTypeError\u001b[0m                                 Traceback (most recent call last)",
      "Cell \u001b[1;32mIn[141], line 1\u001b[0m\n\u001b[1;32m----> 1\u001b[0m bike\u001b[38;5;241m.\u001b[39mdiscard([\u001b[38;5;124m\"\u001b[39m\u001b[38;5;124mduke\u001b[39m\u001b[38;5;124m\"\u001b[39m])\n",
      "\u001b[1;31mTypeError\u001b[0m: unhashable type: 'list'"
     ]
    }
   ],
   "source": [
    "bike.discard([\"duke\"])"
   ]
  },
  {
   "cell_type": "code",
   "execution_count": 142,
   "id": "2cb53ab4",
   "metadata": {},
   "outputs": [
    {
     "ename": "TypeError",
     "evalue": "set.discard() takes exactly one argument (2 given)",
     "output_type": "error",
     "traceback": [
      "\u001b[1;31m---------------------------------------------------------------------------\u001b[0m",
      "\u001b[1;31mTypeError\u001b[0m                                 Traceback (most recent call last)",
      "Cell \u001b[1;32mIn[142], line 1\u001b[0m\n\u001b[1;32m----> 1\u001b[0m bike\u001b[38;5;241m.\u001b[39mdiscard(\u001b[38;5;124m\"\u001b[39m\u001b[38;5;124mduke\u001b[39m\u001b[38;5;124m\"\u001b[39m,\u001b[38;5;124m\"\u001b[39m\u001b[38;5;124mpulsar\u001b[39m\u001b[38;5;124m\"\u001b[39m)\n",
      "\u001b[1;31mTypeError\u001b[0m: set.discard() takes exactly one argument (2 given)"
     ]
    }
   ],
   "source": [
    "bike.discard(\"duke\",\"pulsar\")"
   ]
  },
  {
   "cell_type": "code",
   "execution_count": 143,
   "id": "060ea095",
   "metadata": {},
   "outputs": [],
   "source": [
    "bike.discard(2)"
   ]
  },
  {
   "cell_type": "code",
   "execution_count": 144,
   "id": "7ef38bf0",
   "metadata": {},
   "outputs": [
    {
     "name": "stdout",
     "output_type": "stream",
     "text": [
      "{'duke'}\n"
     ]
    }
   ],
   "source": [
    "print(bike)"
   ]
  },
  {
   "cell_type": "code",
   "execution_count": 145,
   "id": "43e0ebc8",
   "metadata": {},
   "outputs": [],
   "source": [
    "bike.discard(\"pulsar\") # do not gives error if an already discarded item is again written to discard "
   ]
  },
  {
   "cell_type": "code",
   "execution_count": 146,
   "id": "52efaf0b",
   "metadata": {},
   "outputs": [
    {
     "name": "stdout",
     "output_type": "stream",
     "text": [
      "{'duke'}\n"
     ]
    }
   ],
   "source": [
    "print(bike)"
   ]
  },
  {
   "cell_type": "code",
   "execution_count": null,
   "id": "4a6da866-b201-4a4e-b4fd-680c6ef04c69",
   "metadata": {},
   "outputs": [],
   "source": []
  },
  {
   "cell_type": "markdown",
   "id": "8092aa0c",
   "metadata": {},
   "source": [
    "## pop"
   ]
  },
  {
   "cell_type": "code",
   "execution_count": null,
   "id": "3b186253-45b8-4520-b07b-12b0d8544817",
   "metadata": {},
   "outputs": [],
   "source": []
  },
  {
   "cell_type": "code",
   "execution_count": 61,
   "id": "94fa00b2",
   "metadata": {},
   "outputs": [],
   "source": [
    "toss={34,55,132,\"uday\",34.56}            "
   ]
  },
  {
   "cell_type": "code",
   "execution_count": 62,
   "id": "b8758bed",
   "metadata": {},
   "outputs": [
    {
     "data": {
      "text/plain": [
       "34"
      ]
     },
     "execution_count": 62,
     "metadata": {},
     "output_type": "execute_result"
    }
   ],
   "source": [
    "toss.pop() # it removes the left most item of the set "
   ]
  },
  {
   "cell_type": "code",
   "execution_count": 63,
   "id": "8813b20f",
   "metadata": {},
   "outputs": [
    {
     "name": "stdout",
     "output_type": "stream",
     "text": [
      "{34.56, 132, 55, 'uday'}\n"
     ]
    }
   ],
   "source": [
    "print(toss)"
   ]
  },
  {
   "cell_type": "code",
   "execution_count": 64,
   "id": "b9d67247",
   "metadata": {},
   "outputs": [
    {
     "data": {
      "text/plain": [
       "34.56"
      ]
     },
     "execution_count": 64,
     "metadata": {},
     "output_type": "execute_result"
    }
   ],
   "source": [
    "toss.pop()"
   ]
  },
  {
   "cell_type": "code",
   "execution_count": 65,
   "id": "bd74c4ba",
   "metadata": {},
   "outputs": [
    {
     "name": "stdout",
     "output_type": "stream",
     "text": [
      "{132, 55, 'uday'}\n"
     ]
    }
   ],
   "source": [
    "print(toss)"
   ]
  },
  {
   "cell_type": "code",
   "execution_count": 66,
   "id": "bc244be6",
   "metadata": {},
   "outputs": [
    {
     "data": {
      "text/plain": [
       "132"
      ]
     },
     "execution_count": 66,
     "metadata": {},
     "output_type": "execute_result"
    }
   ],
   "source": [
    "toss.pop()"
   ]
  },
  {
   "cell_type": "code",
   "execution_count": null,
   "id": "3744204b-3b19-4f03-8063-3477ad85eec6",
   "metadata": {},
   "outputs": [],
   "source": []
  },
  {
   "cell_type": "markdown",
   "id": "62ab0408",
   "metadata": {},
   "source": [
    "# Set Operations"
   ]
  },
  {
   "cell_type": "markdown",
   "id": "2091476a",
   "metadata": {},
   "source": [
    "### union\n",
    "### intersection\n",
    "### difference"
   ]
  },
  {
   "cell_type": "code",
   "execution_count": 67,
   "id": "8238207d",
   "metadata": {},
   "outputs": [],
   "source": [
    "A={1,3,5,7,9,10}\n",
    "B={1,33,10,56}"
   ]
  },
  {
   "cell_type": "code",
   "execution_count": 68,
   "id": "4b05a174",
   "metadata": {},
   "outputs": [
    {
     "data": {
      "text/plain": [
       "{1, 3, 5, 7, 9, 10, 33, 56}"
      ]
     },
     "execution_count": 68,
     "metadata": {},
     "output_type": "execute_result"
    }
   ],
   "source": [
    "A.union(B)"
   ]
  },
  {
   "cell_type": "code",
   "execution_count": 69,
   "id": "0997bbb9",
   "metadata": {},
   "outputs": [
    {
     "data": {
      "text/plain": [
       "{1, 10}"
      ]
     },
     "execution_count": 69,
     "metadata": {},
     "output_type": "execute_result"
    }
   ],
   "source": [
    "A.intersection(B)"
   ]
  },
  {
   "cell_type": "code",
   "execution_count": 70,
   "id": "1415527a",
   "metadata": {},
   "outputs": [
    {
     "data": {
      "text/plain": [
       "{3, 5, 7, 9}"
      ]
     },
     "execution_count": 70,
     "metadata": {},
     "output_type": "execute_result"
    }
   ],
   "source": [
    "A.difference(B)"
   ]
  },
  {
   "cell_type": "code",
   "execution_count": 71,
   "id": "c17350c4",
   "metadata": {},
   "outputs": [
    {
     "data": {
      "text/plain": [
       "{33, 56}"
      ]
     },
     "execution_count": 71,
     "metadata": {},
     "output_type": "execute_result"
    }
   ],
   "source": [
    "B.difference(A)"
   ]
  },
  {
   "cell_type": "code",
   "execution_count": 3,
   "id": "b45eb3af",
   "metadata": {},
   "outputs": [
    {
     "name": "stdout",
     "output_type": "stream",
     "text": [
      "{25, 'roopali', 75.25, 'vidushi'}\n"
     ]
    }
   ],
   "source": [
    "sample_set={\"roopali\",\"vidushi\",25,75.25}\n",
    "print(sample_set)"
   ]
  },
  {
   "cell_type": "code",
   "execution_count": 4,
   "id": "dbea2ece",
   "metadata": {},
   "outputs": [],
   "source": [
    "sample_set.update([12,34.5,2+4j,\"singh\"])"
   ]
  },
  {
   "cell_type": "code",
   "execution_count": 5,
   "id": "8a45ab2b",
   "metadata": {},
   "outputs": [
    {
     "name": "stdout",
     "output_type": "stream",
     "text": [
      "{34.5, 'roopali', 75.25, 12, (2+4j), 'vidushi', 25, 'singh'}\n"
     ]
    }
   ],
   "source": [
    "print(sample_set)"
   ]
  },
  {
   "cell_type": "markdown",
   "id": "b3932777",
   "metadata": {},
   "source": [
    "## union"
   ]
  },
  {
   "cell_type": "code",
   "execution_count": 18,
   "id": "72d2c889",
   "metadata": {},
   "outputs": [],
   "source": [
    "colour_set={\"voiolet\",\"indigo\",\"blue\",\"green\",\"yellow\"}\n",
    "remaining_colour={\"indigo\",\"orange\",\"red\"}"
   ]
  },
  {
   "cell_type": "code",
   "execution_count": 19,
   "id": "ed2d4b36",
   "metadata": {},
   "outputs": [
    {
     "name": "stdout",
     "output_type": "stream",
     "text": [
      "2507980953568\n",
      "2507980954464\n"
     ]
    }
   ],
   "source": [
    "print(id(colour_set))\n",
    "print(id(remaining_colour))"
   ]
  },
  {
   "cell_type": "code",
   "execution_count": 20,
   "id": "6f348377",
   "metadata": {},
   "outputs": [],
   "source": [
    "vibgyor_colours=colour_set.union(remaining_colour)"
   ]
  },
  {
   "cell_type": "code",
   "execution_count": 21,
   "id": "5518c4fc",
   "metadata": {},
   "outputs": [
    {
     "name": "stdout",
     "output_type": "stream",
     "text": [
      "{'blue', 'yellow', 'green', 'red', 'voiolet', 'orange', 'indigo'}\n"
     ]
    }
   ],
   "source": [
    "print(vibgyor_colours)"
   ]
  },
  {
   "cell_type": "code",
   "execution_count": 22,
   "id": "8b944127",
   "metadata": {},
   "outputs": [
    {
     "name": "stdout",
     "output_type": "stream",
     "text": [
      "2507967631808\n"
     ]
    }
   ],
   "source": [
    "print(id(vibgyor_colours))"
   ]
  },
  {
   "cell_type": "markdown",
   "id": "1c83fd75",
   "metadata": {},
   "source": [
    "## insetsection"
   ]
  },
  {
   "cell_type": "code",
   "execution_count": 23,
   "id": "462d728e",
   "metadata": {},
   "outputs": [],
   "source": [
    "new_set=colour_set.intersection(remaining_colour)"
   ]
  },
  {
   "cell_type": "code",
   "execution_count": 24,
   "id": "245695a4",
   "metadata": {},
   "outputs": [
    {
     "name": "stdout",
     "output_type": "stream",
     "text": [
      "{'indigo'}\n"
     ]
    }
   ],
   "source": [
    "print(new_set)"
   ]
  },
  {
   "cell_type": "code",
   "execution_count": 25,
   "id": "6749d520",
   "metadata": {},
   "outputs": [
    {
     "name": "stdout",
     "output_type": "stream",
     "text": [
      "2507980952224\n"
     ]
    }
   ],
   "source": [
    "print(id(new_set))"
   ]
  },
  {
   "cell_type": "markdown",
   "id": "cbe3ebf3",
   "metadata": {},
   "source": [
    "## intersection update"
   ]
  },
  {
   "cell_type": "markdown",
   "id": "dd8322ec",
   "metadata": {},
   "source": [
    "- uptdation of the original set"
   ]
  },
  {
   "cell_type": "code",
   "execution_count": 52,
   "id": "4d342c42",
   "metadata": {},
   "outputs": [
    {
     "name": "stdout",
     "output_type": "stream",
     "text": [
      "2507980956928\n",
      "{'indigo'}\n",
      "{'blue', 'yellow', 'green', 'voiolet', 'indigo'}\n",
      "2507980956928\n",
      "{'indigo'}\n",
      "2507980956928\n"
     ]
    }
   ],
   "source": [
    "colour_set={\"voiolet\",\"indigo\",\"blue\",\"green\",\"yellow\"}\n",
    "\n",
    "remaining_colour={\"indigo\",\"orange\",\"red\"}\n",
    "print(id(colour_set))\n",
    "\n",
    "# intersection of two sets\n",
    "\n",
    "common_colours=colour_set.intersection(remaining_colour)\n",
    "print(common_colours)\n",
    "\n",
    "# original set after intersection\n",
    "\n",
    "print(colour_set)\n",
    "# output {\"blue\",\"yellow\",\"green\",\"voilet\",\"indigo\"}\n",
    "print(id(colour_set))\n",
    "\n",
    "# intersection two sets using intersection_update() i.e updation of colour_set\n",
    "\n",
    "colour_set.intersection_update(remaining_colour)\n",
    "# original set after inntersection\n",
    "print(colour_set)\n",
    "print(id(colour_set))\n",
    "# output {'indigo'}"
   ]
  },
  {
   "cell_type": "markdown",
   "id": "a4f54503",
   "metadata": {},
   "source": [
    "## difference set"
   ]
  },
  {
   "cell_type": "code",
   "execution_count": 10,
   "id": "94d5f2dd",
   "metadata": {},
   "outputs": [
    {
     "name": "stdout",
     "output_type": "stream",
     "text": [
      "2339911864768\n"
     ]
    }
   ],
   "source": [
    "colour_set={\"voiolet\",\"indigo\",\"blue\",\"green\",\"yellow\"}\n",
    "remaining_colour={\"indigo\",\"orange\",\"red\"}\n",
    "print(id(colour_set))"
   ]
  },
  {
   "cell_type": "code",
   "execution_count": 11,
   "id": "326fcbb8",
   "metadata": {},
   "outputs": [],
   "source": [
    "new_set1=colour_set.difference(remaining_colour)  # difference of two set"
   ]
  },
  {
   "cell_type": "code",
   "execution_count": 12,
   "id": "d117c580",
   "metadata": {},
   "outputs": [
    {
     "name": "stdout",
     "output_type": "stream",
     "text": [
      "{'blue', 'voiolet', 'yellow', 'green'}\n",
      "2339911862976\n"
     ]
    }
   ],
   "source": [
    "print(new_set1)\n",
    "print(id(new_set1))"
   ]
  },
  {
   "cell_type": "code",
   "execution_count": 15,
   "id": "e9bfbde8",
   "metadata": {},
   "outputs": [
    {
     "name": "stdout",
     "output_type": "stream",
     "text": [
      "{'blue', 'voiolet', 'yellow', 'green'}\n"
     ]
    }
   ],
   "source": [
    "colour_set.difference_update(remaining_colour)\n",
    "print(colour_set)"
   ]
  },
  {
   "cell_type": "code",
   "execution_count": 16,
   "id": "c53306e2",
   "metadata": {},
   "outputs": [
    {
     "name": "stdout",
     "output_type": "stream",
     "text": [
      "{'blue', 'voiolet', 'yellow', 'green'}\n",
      "2339911864768\n"
     ]
    }
   ],
   "source": [
    "print(colour_set)   # now colour set is diffrence i;e (new_set1)\n",
    "print(id(colour_set)) # id of colour_set is same"
   ]
  },
  {
   "cell_type": "code",
   "execution_count": 40,
   "id": "644cd10e",
   "metadata": {},
   "outputs": [
    {
     "name": "stdout",
     "output_type": "stream",
     "text": [
      "{'voiolet', 'yellow', 'green', 'blue'}\n",
      "2087992202560\n",
      "None\n"
     ]
    }
   ],
   "source": [
    "colour_set={\"voiolet\",\"indigo\",\"blue\",\"green\",\"yellow\"}\n",
    "remaining_colour={\"indigo\",\"orange\",\"red\"}\n",
    "\n",
    "colour_set.difference_update(remaining_colour)   # it gave the answer set\n",
    "print(colour_set)\n",
    "print(id(colour_set))\n",
    "\n",
    "X=colour_set.difference_update(remaining_colour) # it gave none (update can't br in a new variable)\n",
    "print(X)               "
   ]
  },
  {
   "cell_type": "code",
   "execution_count": null,
   "id": "63ebcced-c49e-4aac-b08d-75b4bcb46643",
   "metadata": {},
   "outputs": [],
   "source": []
  },
  {
   "cell_type": "markdown",
   "id": "9eec08c5",
   "metadata": {},
   "source": [
    "# symmetric difference of sets"
   ]
  },
  {
   "cell_type": "markdown",
   "id": "6e93740a",
   "metadata": {},
   "source": [
    " The symmetric difference operation returns the elements that are unique in the both set"
   ]
  },
  {
   "cell_type": "code",
   "execution_count": 9,
   "id": "d4825ce1",
   "metadata": {},
   "outputs": [],
   "source": [
    "P={1,2,45,6,7,88,90}\n",
    "T={2,56,88,90,21,34,24}"
   ]
  },
  {
   "cell_type": "code",
   "execution_count": 10,
   "id": "53ec668a",
   "metadata": {},
   "outputs": [
    {
     "data": {
      "text/plain": [
       "{1, 6, 7, 21, 24, 34, 45, 56}"
      ]
     },
     "execution_count": 10,
     "metadata": {},
     "output_type": "execute_result"
    }
   ],
   "source": [
    "P^T                   # it gave the unique item od both the sets"
   ]
  },
  {
   "cell_type": "code",
   "execution_count": 11,
   "id": "6e948091",
   "metadata": {},
   "outputs": [],
   "source": [
    "colour_set={\"voiolet\",\"indigo\",\"blue\",\"green\",\"yellow\"}\n",
    "\n",
    "remaining_colour={\"indigo\",\"orange\",\"red\"}"
   ]
  },
  {
   "cell_type": "code",
   "execution_count": 12,
   "id": "8f74f8b8",
   "metadata": {},
   "outputs": [
    {
     "name": "stdout",
     "output_type": "stream",
     "text": [
      "2087979454016\n",
      "2087979453792\n"
     ]
    }
   ],
   "source": [
    "print(id(colour_set))\n",
    "print(id(remaining_colour))"
   ]
  },
  {
   "cell_type": "code",
   "execution_count": 13,
   "id": "b321f2b5",
   "metadata": {},
   "outputs": [],
   "source": [
    "unique_item=colour_set^remaining_colour             "
   ]
  },
  {
   "cell_type": "code",
   "execution_count": 14,
   "id": "0d342919",
   "metadata": {},
   "outputs": [
    {
     "name": "stdout",
     "output_type": "stream",
     "text": [
      "{'voiolet', 'red', 'yellow', 'green', 'orange', 'blue'}\n"
     ]
    }
   ],
   "source": [
    "print(unique_item)"
   ]
  },
  {
   "cell_type": "code",
   "execution_count": 15,
   "id": "e2719357",
   "metadata": {},
   "outputs": [
    {
     "data": {
      "text/plain": [
       "2087979454464"
      ]
     },
     "execution_count": 15,
     "metadata": {},
     "output_type": "execute_result"
    }
   ],
   "source": [
    "id(unique_item)          # this id is different"
   ]
  },
  {
   "cell_type": "code",
   "execution_count": null,
   "id": "42acfc4a-3b25-44eb-b24d-3ef42cb91d46",
   "metadata": {},
   "outputs": [],
   "source": []
  },
  {
   "cell_type": "markdown",
   "id": "13b0a29a",
   "metadata": {
    "jp-MarkdownHeadingCollapsed": true
   },
   "source": [
    "# subset and super set"
   ]
  },
  {
   "cell_type": "code",
   "execution_count": 41,
   "id": "5195b3fb",
   "metadata": {},
   "outputs": [],
   "source": [
    "sup={1,2,35,6.7,45,56,90,4,6}\n",
    "sub={2,4,6,45}"
   ]
  },
  {
   "cell_type": "markdown",
   "id": "727de289",
   "metadata": {},
   "source": [
    "## - issubset()"
   ]
  },
  {
   "cell_type": "code",
   "execution_count": 48,
   "id": "c4e4b808",
   "metadata": {},
   "outputs": [
    {
     "data": {
      "text/plain": [
       "False"
      ]
     },
     "execution_count": 48,
     "metadata": {},
     "output_type": "execute_result"
    }
   ],
   "source": [
    "sup.issubset(sub)"
   ]
  },
  {
   "cell_type": "code",
   "execution_count": 49,
   "id": "a49887eb",
   "metadata": {},
   "outputs": [
    {
     "data": {
      "text/plain": [
       "True"
      ]
     },
     "execution_count": 49,
     "metadata": {},
     "output_type": "execute_result"
    }
   ],
   "source": [
    "sub.issubset(sup)"
   ]
  },
  {
   "cell_type": "markdown",
   "id": "658b5c25",
   "metadata": {},
   "source": [
    "## - issuperset()"
   ]
  },
  {
   "cell_type": "code",
   "execution_count": 52,
   "id": "945969dd",
   "metadata": {},
   "outputs": [],
   "source": [
    "sup={1,2,35,6.7,45,56,90,4,6}\n",
    "sub={2,4,6,45}"
   ]
  },
  {
   "cell_type": "code",
   "execution_count": 53,
   "id": "b934b8fa",
   "metadata": {},
   "outputs": [
    {
     "data": {
      "text/plain": [
       "False"
      ]
     },
     "execution_count": 53,
     "metadata": {},
     "output_type": "execute_result"
    }
   ],
   "source": [
    "sub.issuperset(sup)"
   ]
  },
  {
   "cell_type": "code",
   "execution_count": 54,
   "id": "de973499",
   "metadata": {},
   "outputs": [
    {
     "data": {
      "text/plain": [
       "True"
      ]
     },
     "execution_count": 54,
     "metadata": {},
     "output_type": "execute_result"
    }
   ],
   "source": [
    "sup.issuperset(sub)"
   ]
  },
  {
   "cell_type": "code",
   "execution_count": 55,
   "id": "d5c30795",
   "metadata": {},
   "outputs": [
    {
     "ename": "NameError",
     "evalue": "name 'a' is not defined",
     "output_type": "error",
     "traceback": [
      "\u001b[1;31m---------------------------------------------------------------------------\u001b[0m",
      "\u001b[1;31mNameError\u001b[0m                                 Traceback (most recent call last)",
      "Cell \u001b[1;32mIn[55], line 1\u001b[0m\n\u001b[1;32m----> 1\u001b[0m a\u001b[38;5;241m.\u001b[39missuperset(sub)\n",
      "\u001b[1;31mNameError\u001b[0m: name 'a' is not defined"
     ]
    }
   ],
   "source": [
    "a.issuperset(sub)"
   ]
  },
  {
   "cell_type": "code",
   "execution_count": null,
   "id": "0bf5f969-7dac-4e0d-973f-c9e0659f3b17",
   "metadata": {},
   "outputs": [],
   "source": []
  },
  {
   "cell_type": "markdown",
   "id": "f4303c80",
   "metadata": {},
   "source": [
    "## find whether two sets are disjoint"
   ]
  },
  {
   "cell_type": "code",
   "execution_count": 4,
   "id": "632c95bc",
   "metadata": {},
   "outputs": [
    {
     "name": "stdout",
     "output_type": "stream",
     "text": [
      "False\n",
      "True\n"
     ]
    }
   ],
   "source": [
    "c_set1={\"voilet\",\"blue\",\"yellow\",\"red\"}\n",
    "c_set2={\"orange\",\"red\"}\n",
    "c_set3={\"green\",\"orange\"}\n",
    "\n",
    "# disjoint\n",
    "print(c_set2.isdisjoint(c_set1))\n",
    "# output False c/z sets contain \"red\" as a common item\n",
    "\n",
    "print(c_set3.isdisjoint(c_set1))\n",
    "# output is True c/z they do not have any common element"
   ]
  },
  {
   "cell_type": "code",
   "execution_count": 9,
   "id": "bd5bd461",
   "metadata": {},
   "outputs": [
    {
     "name": "stdout",
     "output_type": "stream",
     "text": [
      "False\n"
     ]
    }
   ],
   "source": [
    "print(c_set2.union(c_set3).isdisjoint(c_set1))"
   ]
  },
  {
   "cell_type": "code",
   "execution_count": 10,
   "id": "82f67062",
   "metadata": {},
   "outputs": [
    {
     "name": "stdout",
     "output_type": "stream",
     "text": [
      "True\n"
     ]
    }
   ],
   "source": [
    "print(c_set2.intersection(c_set3).isdisjoint(c_set1))"
   ]
  },
  {
   "cell_type": "code",
   "execution_count": 11,
   "id": "ec72d9f2",
   "metadata": {},
   "outputs": [
    {
     "name": "stdout",
     "output_type": "stream",
     "text": [
      "True\n"
     ]
    }
   ],
   "source": [
    "print(c_set3.intersection(c_set1).isdisjoint(c_set2))"
   ]
  },
  {
   "cell_type": "markdown",
   "id": "e5f31611",
   "metadata": {
    "jp-MarkdownHeadingCollapsed": true
   },
   "source": [
    "# sort the set\n",
    "\n",
    "A set is unordered collection of data items , so there is no piont of sorting it. if you still want to sort it using sorted() method but this method will return the list \n",
    "\n",
    "The sorted() function is used to sort the set .This will return a new list and will not update the original set \n",
    "\n",
    "ex-"
   ]
  },
  {
   "cell_type": "code",
   "execution_count": 22,
   "id": "076c5af7",
   "metadata": {},
   "outputs": [
    {
     "name": "stdout",
     "output_type": "stream",
     "text": [
      "{4, 20, 6, 8, 10, 15}\n",
      "[4, 6, 8, 10, 15, 20]\n"
     ]
    },
    {
     "data": {
      "text/plain": [
       "list"
      ]
     },
     "execution_count": 22,
     "metadata": {},
     "output_type": "execute_result"
    }
   ],
   "source": [
    "# what data type will we get if we sort the set ?\n",
    "# ANS- List\n",
    "\n",
    "set1={20,4,6,10,8,15}\n",
    "print(set1)\n",
    "sorted_set= sorted(set1)\n",
    "\n",
    "print(sorted_set)\n",
    "# output is [4,6,8,10,15,20]\n",
    "\n",
    "type(sorted_set)"
   ]
  },
  {
   "cell_type": "code",
   "execution_count": 23,
   "id": "632a6cc9",
   "metadata": {},
   "outputs": [
    {
     "name": "stdout",
     "output_type": "stream",
     "text": [
      "2301178110336\n",
      "2301178872128\n"
     ]
    }
   ],
   "source": [
    "print(id(set1))\n",
    "print(id(sorted_set))"
   ]
  },
  {
   "cell_type": "code",
   "execution_count": null,
   "id": "44f50df5",
   "metadata": {},
   "outputs": [],
   "source": [
    "r={34,56,1.2,131,335,90}"
   ]
  },
  {
   "cell_type": "code",
   "execution_count": 21,
   "id": "08824ff4",
   "metadata": {},
   "outputs": [
    {
     "name": "stdout",
     "output_type": "stream",
     "text": [
      "[1.2, 34, 56, 90, 131, 335]\n"
     ]
    }
   ],
   "source": [
    "print(sorted(r))"
   ]
  },
  {
   "cell_type": "code",
   "execution_count": 24,
   "id": "2278c17b",
   "metadata": {},
   "outputs": [],
   "source": [
    "q={34,56,1.2,131,335,90,\"abcd\"}      # sorted is not supported for string an integer together in one set "
   ]
  },
  {
   "cell_type": "code",
   "execution_count": 26,
   "id": "a3de8b2b",
   "metadata": {},
   "outputs": [
    {
     "ename": "TypeError",
     "evalue": "'<' not supported between instances of 'str' and 'int'",
     "output_type": "error",
     "traceback": [
      "\u001b[1;31m---------------------------------------------------------------------------\u001b[0m",
      "\u001b[1;31mTypeError\u001b[0m                                 Traceback (most recent call last)",
      "Cell \u001b[1;32mIn[26], line 1\u001b[0m\n\u001b[1;32m----> 1\u001b[0m \u001b[38;5;28mprint\u001b[39m(\u001b[38;5;28msorted\u001b[39m(q))\n",
      "\u001b[1;31mTypeError\u001b[0m: '<' not supported between instances of 'str' and 'int'"
     ]
    }
   ],
   "source": [
    "print(sorted(q))"
   ]
  },
  {
   "cell_type": "code",
   "execution_count": 27,
   "id": "84a24cc6",
   "metadata": {},
   "outputs": [],
   "source": [
    "d={\"abs\",\"absj\",\"jada\",\"ala\"}"
   ]
  },
  {
   "cell_type": "code",
   "execution_count": 28,
   "id": "3e7245af",
   "metadata": {},
   "outputs": [
    {
     "name": "stdout",
     "output_type": "stream",
     "text": [
      "['abs', 'absj', 'ala', 'jada']\n"
     ]
    }
   ],
   "source": [
    "print(sorted(d))  # odered the string alphabeticaly"
   ]
  },
  {
   "cell_type": "code",
   "execution_count": 29,
   "id": "0a0788eb",
   "metadata": {},
   "outputs": [
    {
     "name": "stdout",
     "output_type": "stream",
     "text": [
      "['d']\n"
     ]
    }
   ],
   "source": [
    "f={'d','d','d','d'}     # it gave only one string in the list\n",
    "print(sorted(f))"
   ]
  },
  {
   "cell_type": "code",
   "execution_count": 31,
   "id": "6bea7e2f",
   "metadata": {},
   "outputs": [
    {
     "name": "stdout",
     "output_type": "stream",
     "text": [
      "['d2', 'd3', 'd4', 'd8']\n"
     ]
    }
   ],
   "source": [
    "g={\"d2\",\"d4\",\"d8\",\"d3\"}         # is arranged strings with numbering\n",
    "print(sorted(g))"
   ]
  },
  {
   "cell_type": "code",
   "execution_count": 32,
   "id": "0894e89e",
   "metadata": {},
   "outputs": [
    {
     "name": "stdout",
     "output_type": "stream",
     "text": [
      "['3d', '4d', '5d', '8d']\n"
     ]
    }
   ],
   "source": [
    "p={\"4d\",\"8d\",\"5d\",\"3d\"}\n",
    "print(sorted(p))"
   ]
  },
  {
   "cell_type": "code",
   "execution_count": null,
   "id": "ebac85ea-1983-4db2-91cd-4bc3cf944310",
   "metadata": {},
   "outputs": [],
   "source": []
  },
  {
   "cell_type": "markdown",
   "id": "cb9159dc",
   "metadata": {
    "jp-MarkdownHeadingCollapsed": true
   },
   "source": [
    "# max() and min()\n",
    "\n",
    "- max() function  will return the item with maximum value in a set\n",
    "- min() fucn will return an item with a minimum value in a set \n",
    "\n",
    "- In case of str it will compute the max/min value based on the ASCII code"
   ]
  },
  {
   "cell_type": "code",
   "execution_count": 36,
   "id": "19ed39ef",
   "metadata": {},
   "outputs": [],
   "source": [
    "holi={1,23,45,67,43}\n"
   ]
  },
  {
   "cell_type": "code",
   "execution_count": 37,
   "id": "980e0d83",
   "metadata": {},
   "outputs": [
    {
     "name": "stdout",
     "output_type": "stream",
     "text": [
      "67\n",
      "1\n"
     ]
    }
   ],
   "source": [
    "print(max(holi))\n",
    "print(min(holi))"
   ]
  },
  {
   "cell_type": "code",
   "execution_count": 38,
   "id": "3964e552",
   "metadata": {},
   "outputs": [],
   "source": [
    "koli={\"ABC\",\"abc\"}"
   ]
  },
  {
   "cell_type": "code",
   "execution_count": 39,
   "id": "b1c98aa9",
   "metadata": {},
   "outputs": [
    {
     "name": "stdout",
     "output_type": "stream",
     "text": [
      "abc\n",
      "ABC\n"
     ]
    }
   ],
   "source": [
    "print(max(koli))\n",
    "print(min(koli))"
   ]
  },
  {
   "cell_type": "code",
   "execution_count": null,
   "id": "9bbfadfe-3cb0-4c90-a50b-b6a6863f299d",
   "metadata": {},
   "outputs": [],
   "source": []
  },
  {
   "cell_type": "markdown",
   "id": "77f421e6",
   "metadata": {
    "jp-MarkdownHeadingCollapsed": true
   },
   "source": [
    "# Frozenset"
   ]
  },
  {
   "cell_type": "markdown",
   "id": "6d9e942a",
   "metadata": {},
   "source": [
    " A Frozenset is immutable set. Frozen set  is thus an unordered colection of immutable unique items.\n",
    " \n",
    " we can create a Frozenset using the frozenset() function , which take a single iterable object as a parameter"
   ]
  },
  {
   "cell_type": "code",
   "execution_count": 14,
   "id": "08a4da77",
   "metadata": {},
   "outputs": [
    {
     "name": "stdout",
     "output_type": "stream",
     "text": [
      "2655126066944\n",
      "frozenset({'green', 'indigo', 'blue', 'orange', 'voilet', 'yellow', 'red'})\n",
      "<class 'frozenset'>\n",
      "2655126067616\n"
     ]
    }
   ],
   "source": [
    "rainbow={\"voilet\",\"indigo\",\"blue\",\"green\",\"yellow\",\"orange\",\"red\"}\n",
    "# create frozenset\n",
    "print(id(rainbow))\n",
    "f_set=frozenset(rainbow)\n",
    "\n",
    "print(f_set)\n",
    "# output frozenset ({\"indigo\",'red','blue','orange','voilet','yellow','green'})\n",
    "print(type(f_set))\n",
    "print(id(f_set))"
   ]
  },
  {
   "cell_type": "code",
   "execution_count": 3,
   "id": "09172b90",
   "metadata": {},
   "outputs": [
    {
     "ename": "AttributeError",
     "evalue": "'frozenset' object has no attribute 'add'",
     "output_type": "error",
     "traceback": [
      "\u001b[1;31m---------------------------------------------------------------------------\u001b[0m",
      "\u001b[1;31mAttributeError\u001b[0m                            Traceback (most recent call last)",
      "Cell \u001b[1;32mIn[3], line 1\u001b[0m\n\u001b[1;32m----> 1\u001b[0m f_set\u001b[38;5;241m.\u001b[39madd(\u001b[38;5;241m21\u001b[39m)\n",
      "\u001b[1;31mAttributeError\u001b[0m: 'frozenset' object has no attribute 'add'"
     ]
    }
   ],
   "source": [
    "f_set.add(21)  # we can't alter a frozenset"
   ]
  },
  {
   "cell_type": "code",
   "execution_count": 4,
   "id": "57dbd1f9",
   "metadata": {},
   "outputs": [
    {
     "ename": "AttributeError",
     "evalue": "'frozenset' object has no attribute 'update'",
     "output_type": "error",
     "traceback": [
      "\u001b[1;31m---------------------------------------------------------------------------\u001b[0m",
      "\u001b[1;31mAttributeError\u001b[0m                            Traceback (most recent call last)",
      "Cell \u001b[1;32mIn[4], line 1\u001b[0m\n\u001b[1;32m----> 1\u001b[0m f_set\u001b[38;5;241m.\u001b[39mupdate([\u001b[38;5;241m12\u001b[39m,\u001b[38;5;241m34\u001b[39m,\u001b[38;5;241m65\u001b[39m])\n",
      "\u001b[1;31mAttributeError\u001b[0m: 'frozenset' object has no attribute 'update'"
     ]
    }
   ],
   "source": [
    "f_set.update([12,34,65])"
   ]
  },
  {
   "cell_type": "code",
   "execution_count": 10,
   "id": "93e0e3bc",
   "metadata": {},
   "outputs": [
    {
     "ename": "TypeError",
     "evalue": "unhashable type: 'list'",
     "output_type": "error",
     "traceback": [
      "\u001b[1;31m---------------------------------------------------------------------------\u001b[0m",
      "\u001b[1;31mTypeError\u001b[0m                                 Traceback (most recent call last)",
      "Cell \u001b[1;32mIn[10], line 3\u001b[0m\n\u001b[0;32m      1\u001b[0m rainbow\u001b[38;5;241m=\u001b[39m(\u001b[38;5;124m\"\u001b[39m\u001b[38;5;124mvoilet\u001b[39m\u001b[38;5;124m\"\u001b[39m,\u001b[38;5;124m\"\u001b[39m\u001b[38;5;124mindigo\u001b[39m\u001b[38;5;124m\"\u001b[39m,\u001b[38;5;124m\"\u001b[39m\u001b[38;5;124mblue\u001b[39m\u001b[38;5;124m\"\u001b[39m,\u001b[38;5;124m\"\u001b[39m\u001b[38;5;124mgreen\u001b[39m\u001b[38;5;124m\"\u001b[39m,\u001b[38;5;124m\"\u001b[39m\u001b[38;5;124myellow\u001b[39m\u001b[38;5;124m\"\u001b[39m,\u001b[38;5;124m\"\u001b[39m\u001b[38;5;124morange\u001b[39m\u001b[38;5;124m\"\u001b[39m,\u001b[38;5;124m\"\u001b[39m\u001b[38;5;124mred\u001b[39m\u001b[38;5;124m\"\u001b[39m,[\u001b[38;5;241m12\u001b[39m,\u001b[38;5;241m344\u001b[39m])\n\u001b[1;32m----> 3\u001b[0m \u001b[38;5;28mfrozenset\u001b[39m(rainbow)\n",
      "\u001b[1;31mTypeError\u001b[0m: unhashable type: 'list'"
     ]
    }
   ],
   "source": [
    "rainbow=(\"voilet\",\"indigo\",\"blue\",\"green\",\"yellow\",\"orange\",\"red\",[12,344])\n",
    "\n",
    "frozenset(rainbow)      # a set will be frosed if it follows the condition of set   "
   ]
  },
  {
   "cell_type": "code",
   "execution_count": 18,
   "id": "f73b629b",
   "metadata": {},
   "outputs": [],
   "source": [
    "colourset1=frozenset(('voilet','indigo','blue','green'))\n",
    "colourset2=frozenset({'blue','green','red'})"
   ]
  },
  {
   "cell_type": "code",
   "execution_count": 20,
   "id": "cb5489c2",
   "metadata": {},
   "outputs": [
    {
     "data": {
      "text/plain": [
       "frozenset({'blue', 'green', 'indigo', 'red', 'voilet'})"
      ]
     },
     "execution_count": 20,
     "metadata": {},
     "output_type": "execute_result"
    }
   ],
   "source": [
    "colourset1.union(colourset2) # union"
   ]
  },
  {
   "cell_type": "code",
   "execution_count": 28,
   "id": "f252182f",
   "metadata": {},
   "outputs": [
    {
     "name": "stdout",
     "output_type": "stream",
     "text": [
      "frozenset({'blue', 'green'})\n"
     ]
    },
    {
     "ename": "AttributeError",
     "evalue": "'frozenset' object has no attribute 'intersection_update'",
     "output_type": "error",
     "traceback": [
      "\u001b[1;31m---------------------------------------------------------------------------\u001b[0m",
      "\u001b[1;31mAttributeError\u001b[0m                            Traceback (most recent call last)",
      "Cell \u001b[1;32mIn[28], line 5\u001b[0m\n\u001b[0;32m      1\u001b[0m intset\u001b[38;5;241m=\u001b[39mcolourset1\u001b[38;5;241m.\u001b[39mintersection(colourset2) \u001b[38;5;66;03m# intersection\u001b[39;00m\n\u001b[0;32m      3\u001b[0m \u001b[38;5;28mprint\u001b[39m(intset)\n\u001b[1;32m----> 5\u001b[0m upset\u001b[38;5;241m=\u001b[39mcolourset1\u001b[38;5;241m.\u001b[39mintersection_update(inset)\n",
      "\u001b[1;31mAttributeError\u001b[0m: 'frozenset' object has no attribute 'intersection_update'"
     ]
    }
   ],
   "source": [
    "intset=colourset1.intersection(colourset2) # intersection\n",
    "\n",
    "print(intset)\n",
    "\n",
    "upset=colourset1.intersection_update(inset)     # intersection_update"
   ]
  },
  {
   "cell_type": "code",
   "execution_count": 29,
   "id": "83f5f3d7",
   "metadata": {},
   "outputs": [
    {
     "data": {
      "text/plain": [
       "frozenset({'indigo', 'voilet'})"
      ]
     },
     "execution_count": 29,
     "metadata": {},
     "output_type": "execute_result"
    }
   ],
   "source": [
    "colourset1.difference(colourset2)    # difference"
   ]
  },
  {
   "cell_type": "code",
   "execution_count": 35,
   "id": "bdf042e9",
   "metadata": {},
   "outputs": [
    {
     "name": "stdout",
     "output_type": "stream",
     "text": [
      "{'voilet', 'indigo', 'blue', 'green'}\n",
      "{'red', 'blue', 'green'}\n",
      "{2, 'indigo', 'blue', 'voilet', 'green'}\n"
     ]
    }
   ],
   "source": [
    "# converting frozenset into set\n",
    "\n",
    "x=set(colourset1)\n",
    "print(x)\n",
    "\n",
    "y=set(colourset2)\n",
    "print(y)\n",
    "\n",
    "x.add(2)\n",
    "print(x)"
   ]
  },
  {
   "cell_type": "code",
   "execution_count": null,
   "id": "8e9511b3-2613-4ae6-b2db-95f4d290ee08",
   "metadata": {},
   "outputs": [],
   "source": []
  },
  {
   "cell_type": "markdown",
   "id": "bcc6daeb",
   "metadata": {
    "jp-MarkdownHeadingCollapsed": true
   },
   "source": [
    "# Nested Sets"
   ]
  },
  {
   "cell_type": "code",
   "execution_count": 1,
   "id": "c04836ad",
   "metadata": {},
   "outputs": [
    {
     "name": "stdout",
     "output_type": "stream",
     "text": [
      "{frozenset({'green', 'indigo', 'voilet', 'blue'}), frozenset({'green', 'blue', 'red'})}\n"
     ]
    },
    {
     "data": {
      "text/plain": [
       "set"
      ]
     },
     "execution_count": 1,
     "metadata": {},
     "output_type": "execute_result"
    }
   ],
   "source": [
    "colourset1=(('voilet','indigo','blue','green'))\n",
    "colourset2=('blue','green','red')\n",
    "\n",
    "nested_set=set((frozenset(colourset1),frozenset(colourset2)))\n",
    "\n",
    "print(nested_set)\n",
    "\n",
    "type(nested_set)"
   ]
  },
  {
   "cell_type": "code",
   "execution_count": null,
   "id": "f9b780d5-e88c-4e5b-940b-3255c1add6f5",
   "metadata": {},
   "outputs": [],
   "source": []
  },
  {
   "cell_type": "code",
   "execution_count": null,
   "id": "447cb6ca-5702-4237-a842-f74abc718989",
   "metadata": {},
   "outputs": [],
   "source": []
  },
  {
   "cell_type": "markdown",
   "id": "a1df050c",
   "metadata": {},
   "source": [
    "## when to use set data type \n",
    "\n",
    "- Eliminating duplicate entries\n",
    "- Membership testing\n",
    "- Performing arthimatical  operation similar to mathematical set  "
   ]
  },
  {
   "cell_type": "markdown",
   "id": "ae11a3cb",
   "metadata": {},
   "source": [
    "### empty set"
   ]
  },
  {
   "cell_type": "code",
   "execution_count": 1,
   "id": "3eead5ec",
   "metadata": {},
   "outputs": [],
   "source": [
    "y=[]"
   ]
  },
  {
   "cell_type": "code",
   "execution_count": 2,
   "id": "49668dbc",
   "metadata": {},
   "outputs": [],
   "source": [
    "x=set(y)"
   ]
  },
  {
   "cell_type": "code",
   "execution_count": 3,
   "id": "bbde9515",
   "metadata": {},
   "outputs": [
    {
     "data": {
      "text/plain": [
       "set"
      ]
     },
     "execution_count": 3,
     "metadata": {},
     "output_type": "execute_result"
    }
   ],
   "source": [
    "type(x)"
   ]
  },
  {
   "cell_type": "markdown",
   "id": "e565515a",
   "metadata": {},
   "source": [
    "## set comprehension "
   ]
  },
  {
   "cell_type": "code",
   "execution_count": null,
   "id": "902766a1",
   "metadata": {},
   "outputs": [],
   "source": []
  },
  {
   "cell_type": "code",
   "execution_count": null,
   "id": "71eebd03",
   "metadata": {},
   "outputs": [],
   "source": []
  }
 ],
 "metadata": {
  "kernelspec": {
   "display_name": "Python 3 (ipykernel)",
   "language": "python",
   "name": "python3"
  },
  "language_info": {
   "codemirror_mode": {
    "name": "ipython",
    "version": 3
   },
   "file_extension": ".py",
   "mimetype": "text/x-python",
   "name": "python",
   "nbconvert_exporter": "python",
   "pygments_lexer": "ipython3",
   "version": "3.11.7"
  }
 },
 "nbformat": 4,
 "nbformat_minor": 5
}
