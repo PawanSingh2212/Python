{
 "cells": [
  {
   "cell_type": "markdown",
   "id": "ed0ec4fa",
   "metadata": {},
   "source": [
    "# List comprehension"
   ]
  },
  {
   "cell_type": "code",
   "execution_count": 1,
   "id": "f93c324b",
   "metadata": {},
   "outputs": [
    {
     "name": "stdout",
     "output_type": "stream",
     "text": [
      "[12, 14, 16, 18, 20]\n"
     ]
    }
   ],
   "source": [
    "a=[1,12,3,14,5,16,7,18,9,20]\n",
    "b=[]\n",
    "for i in a:\n",
    "    if i>10:\n",
    "        b.append(i)\n",
    "print(b)"
   ]
  },
  {
   "cell_type": "code",
   "execution_count": 4,
   "id": "398bbfd6",
   "metadata": {},
   "outputs": [
    {
     "name": "stdout",
     "output_type": "stream",
     "text": [
      "[12, 14, 16, 18, 20]\n"
     ]
    }
   ],
   "source": [
    "a=[1,12,3,14,5,16,7,18,9,20]\n",
    "c=[i for i in a if i>10]  # first i is working as i \n",
    "print(c)"
   ]
  },
  {
   "cell_type": "code",
   "execution_count": null,
   "id": "07c88b5c",
   "metadata": {},
   "outputs": [],
   "source": []
  },
  {
   "cell_type": "code",
   "execution_count": 4,
   "id": "4fcff72b",
   "metadata": {},
   "outputs": [
    {
     "name": "stdout",
     "output_type": "stream",
     "text": [
      "['kiwi', 'cheeku', 'bigen']\n"
     ]
    }
   ],
   "source": [
    "a=['apple','kiwi','mango','papaya','bnana','cheeku','grapes','seetafal','sareefa','strawberry','bigen','avacado']\n",
    "b=[i for i in a if 'a' not in i ]\n",
    "print(b)"
   ]
  },
  {
   "cell_type": "code",
   "execution_count": 3,
   "id": "1c57b5b5",
   "metadata": {},
   "outputs": [
    {
     "name": "stdout",
     "output_type": "stream",
     "text": [
      "['kiwi', 'cheeku', 'bigen']\n"
     ]
    },
    {
     "ename": "NameError",
     "evalue": "name 'i' is not defined",
     "output_type": "error",
     "traceback": [
      "\u001b[1;31m---------------------------------------------------------------------------\u001b[0m",
      "\u001b[1;31mNameError\u001b[0m                                 Traceback (most recent call last)",
      "Cell \u001b[1;32mIn[3], line 4\u001b[0m\n\u001b[0;32m      2\u001b[0m b\u001b[38;5;241m=\u001b[39m[i \u001b[38;5;28;01mfor\u001b[39;00m i \u001b[38;5;129;01min\u001b[39;00m a \u001b[38;5;28;01mif\u001b[39;00m \u001b[38;5;124m'\u001b[39m\u001b[38;5;124ma\u001b[39m\u001b[38;5;124m'\u001b[39m \u001b[38;5;129;01mnot\u001b[39;00m \u001b[38;5;129;01min\u001b[39;00m i ]\n\u001b[0;32m      3\u001b[0m \u001b[38;5;28mprint\u001b[39m(b)\n\u001b[1;32m----> 4\u001b[0m \u001b[38;5;28mprint\u001b[39m(i)\n",
      "\u001b[1;31mNameError\u001b[0m: name 'i' is not defined"
     ]
    }
   ],
   "source": [
    "a=['apple','kiwi','mango','papaya','bnana','cheeku','grapes','seetafal','sareefa','strawberry','bigen','avacado']\n",
    "b=[i for i in a if 'a' not in i ]\n",
    "print(b)\n",
    "print(i)"
   ]
  },
  {
   "cell_type": "code",
   "execution_count": null,
   "id": "2b0bfc47",
   "metadata": {},
   "outputs": [],
   "source": []
  },
  {
   "cell_type": "code",
   "execution_count": 1,
   "id": "5f5f967a",
   "metadata": {},
   "outputs": [
    {
     "name": "stdout",
     "output_type": "stream",
     "text": [
      "['seetafal', 'sareefa', 'strawberry', 'avacado']\n"
     ]
    }
   ],
   "source": [
    "a=['apple','kiwi','mango','papaya','bnana','cheeku','grapes','seetafal','sareefa','strawberry','bigen','avacado']\n",
    "b=[i for i in a if 'a' in i and len(i)>6 ]\n",
    "print(b)"
   ]
  },
  {
   "cell_type": "code",
   "execution_count": null,
   "id": "ba96f604",
   "metadata": {},
   "outputs": [],
   "source": []
  },
  {
   "cell_type": "code",
   "execution_count": 2,
   "id": "1ac99993",
   "metadata": {},
   "outputs": [
    {
     "name": "stdout",
     "output_type": "stream",
     "text": [
      "['seetafal', 'sareefa', 'strawberry', 'avacado']\n"
     ]
    }
   ],
   "source": [
    "a=['apple','kiwi','mango','papaya','bnana','cheeku','grapes','seetafal','sareefa','strawberry','bigen','avacado']\n",
    "b=[i for i in a if 'a' in i if  len(i)>6 ]\n",
    "print(b)"
   ]
  },
  {
   "cell_type": "code",
   "execution_count": null,
   "id": "247832e2",
   "metadata": {},
   "outputs": [],
   "source": []
  },
  {
   "cell_type": "code",
   "execution_count": 4,
   "id": "e6555c28",
   "metadata": {},
   "outputs": [
    {
     "name": "stdout",
     "output_type": "stream",
     "text": [
      "['apple', 'mango', 'bnana']\n"
     ]
    }
   ],
   "source": [
    "a=['apple','kiwi','mango','papaya','bnana','cheeku','grapes','seetafal','sareefa','strawberry','bigen','avacado']\n",
    "b=[i for i in a if 'a' in i if  len(i)<6 ]\n",
    "print(b)"
   ]
  },
  {
   "cell_type": "code",
   "execution_count": null,
   "id": "2c95e773",
   "metadata": {},
   "outputs": [],
   "source": []
  },
  {
   "cell_type": "code",
   "execution_count": 6,
   "id": "b51df4ae",
   "metadata": {},
   "outputs": [
    {
     "name": "stdout",
     "output_type": "stream",
     "text": [
      "['kiwi', 'bigen']\n"
     ]
    }
   ],
   "source": [
    "a=['apple','kiwi','mango','papaya','bnana','cheeku','grapes','seetafal','sareefa','strawberry','bigen','avacado']\n",
    "b=[i for i in a if 'a'not in i if  len(i)<6 ]\n",
    "print(b)"
   ]
  },
  {
   "cell_type": "code",
   "execution_count": null,
   "id": "e12300ca",
   "metadata": {},
   "outputs": [],
   "source": []
  },
  {
   "cell_type": "code",
   "execution_count": 9,
   "id": "71cdf0dd",
   "metadata": {},
   "outputs": [
    {
     "name": "stdout",
     "output_type": "stream",
     "text": [
      "['kiwi', 'cheeku', 'seetafal', 'sareefa', 'strawberry', 'bigen', 'avacado']\n"
     ]
    }
   ],
   "source": [
    "a=['apple','kiwi','mango','papaya','bnana','cheeku','grapes','seetafal','sareefa','strawberry','bigen','avacado']\n",
    "b=[i for i in a if 'a'not in i or  len(i)>6 ]\n",
    "print(b)"
   ]
  },
  {
   "cell_type": "code",
   "execution_count": null,
   "id": "028bd11a",
   "metadata": {},
   "outputs": [],
   "source": []
  },
  {
   "cell_type": "code",
   "execution_count": 13,
   "id": "2ffb6cb8",
   "metadata": {},
   "outputs": [
    {
     "ename": "SyntaxError",
     "evalue": "invalid syntax (3599052356.py, line 2)",
     "output_type": "error",
     "traceback": [
      "\u001b[1;36m  Cell \u001b[1;32mIn[13], line 2\u001b[1;36m\u001b[0m\n\u001b[1;33m    b=[i for i in a if i%2==0 y.append(i) and i%2==1 x.append(i) ]\u001b[0m\n\u001b[1;37m                              ^\u001b[0m\n\u001b[1;31mSyntaxError\u001b[0m\u001b[1;31m:\u001b[0m invalid syntax\n"
     ]
    }
   ],
   "source": [
    "a=[1,2,23,22,44,56,23,11,23,4]\n",
    "b=[i for i in a if i%2==0 y.append(i) and i%2==1 x.append(i) ]\n",
    "y=[]\n",
    "x=[]"
   ]
  },
  {
   "cell_type": "code",
   "execution_count": null,
   "id": "77d82f1d",
   "metadata": {},
   "outputs": [],
   "source": []
  },
  {
   "cell_type": "markdown",
   "id": "69bb25d0",
   "metadata": {},
   "source": [
    "# Tuple comprehension "
   ]
  },
  {
   "cell_type": "code",
   "execution_count": null,
   "id": "1c30b445",
   "metadata": {},
   "outputs": [],
   "source": [
    "c='a','b','c','d'\n",
    "a={i }"
   ]
  },
  {
   "cell_type": "code",
   "execution_count": null,
   "id": "b3067b9f",
   "metadata": {},
   "outputs": [],
   "source": []
  },
  {
   "cell_type": "code",
   "execution_count": null,
   "id": "b64e99e3",
   "metadata": {},
   "outputs": [],
   "source": []
  },
  {
   "cell_type": "markdown",
   "id": "868fb80e",
   "metadata": {},
   "source": [
    "# Dictionary Comprehension"
   ]
  },
  {
   "cell_type": "code",
   "execution_count": 14,
   "id": "be3ed5c4",
   "metadata": {},
   "outputs": [
    {
     "name": "stdout",
     "output_type": "stream",
     "text": [
      "{1: 'e', 2: 'e', 3: 'e', 4: 'e', 5: 'e', 6: 'e'}\n"
     ]
    }
   ],
   "source": [
    "a=(1,2,3,4,5,6)\n",
    "b=('a','b','c','d','e')\n",
    "c={x:y for x in a for y in b}\n",
    "print(c)"
   ]
  },
  {
   "cell_type": "code",
   "execution_count": null,
   "id": "8cb6f3bc",
   "metadata": {},
   "outputs": [],
   "source": [
    "a=(1,2,3,4,5,6)\n",
    "b=('a','b','c','d','e')\n",
    "c{a:b for a,b in }"
   ]
  },
  {
   "cell_type": "code",
   "execution_count": null,
   "id": "c607bd47",
   "metadata": {},
   "outputs": [],
   "source": [
    "telephone_dict={key:value for key,value in zip(person,telephone_book)}\n"
   ]
  },
  {
   "cell_type": "code",
   "execution_count": null,
   "id": "8fb59a66",
   "metadata": {},
   "outputs": [],
   "source": [
    "output_dict={x:x**2 for x in numbers if x%2==0}"
   ]
  },
  {
   "cell_type": "code",
   "execution_count": null,
   "id": "46e120a4",
   "metadata": {},
   "outputs": [],
   "source": []
  },
  {
   "cell_type": "code",
   "execution_count": 19,
   "id": "4ee71369",
   "metadata": {},
   "outputs": [
    {
     "name": "stdout",
     "output_type": "stream",
     "text": [
      "{1: 'value x is1', 2: 'value x is2', 3: 'value x is3', 4: 'value x is4', 5: 'value x is5', 6: 'value x is6'}\n"
     ]
    }
   ],
   "source": [
    "a=(1,2,3,4,5,6)\n",
    "b=('a','b','c','d','e')\n",
    "c={x:f'value x is{x}' for x in a}\n",
    "print(c)"
   ]
  },
  {
   "cell_type": "code",
   "execution_count": 21,
   "id": "1cd4d104",
   "metadata": {},
   "outputs": [
    {
     "name": "stdout",
     "output_type": "stream",
     "text": [
      "{'value x is1': 1, 'value x is2': 2, 'value x is3': 3, 'value x is4': 4, 'value x is5': 5, 'value x is6': 6}\n"
     ]
    }
   ],
   "source": [
    "d={c[x]:x for x  in a}\n",
    "\n",
    "print(d)"
   ]
  },
  {
   "cell_type": "code",
   "execution_count": null,
   "id": "86528e72",
   "metadata": {},
   "outputs": [],
   "source": []
  },
  {
   "cell_type": "code",
   "execution_count": null,
   "id": "c02c8b3c",
   "metadata": {},
   "outputs": [],
   "source": []
  },
  {
   "cell_type": "code",
   "execution_count": 5,
   "id": "e53dfdf9",
   "metadata": {},
   "outputs": [
    {
     "name": "stdout",
     "output_type": "stream",
     "text": [
      "[2, 4, 6, 8]\n"
     ]
    }
   ],
   "source": [
    "list1=[1,2,3,4,5,6,7,8]\n",
    "def even():\n",
    "    c=[i for i in list1 if i%2==0]\n",
    "    print(c)\n",
    "    \n",
    "even()\n",
    "\n",
    "\n"
   ]
  },
  {
   "cell_type": "code",
   "execution_count": null,
   "id": "19861ae1",
   "metadata": {},
   "outputs": [],
   "source": []
  },
  {
   "cell_type": "code",
   "execution_count": 9,
   "id": "d27b6f82",
   "metadata": {},
   "outputs": [
    {
     "name": "stdout",
     "output_type": "stream",
     "text": [
      "[2, 4, 6, 8, 10]\n"
     ]
    }
   ],
   "source": [
    "list1=[1,2,3,4,5]\n",
    "list2=[6,7,8,9,10,11]\n",
    "\n",
    "def even(a,b):\n",
    "    c=[i for i in list1+list2 if i%2==0]\n",
    "    print(c)\n",
    "\n",
    "even(list1,list2)"
   ]
  },
  {
   "cell_type": "code",
   "execution_count": 11,
   "id": "5195e5bb",
   "metadata": {},
   "outputs": [
    {
     "name": "stdout",
     "output_type": "stream",
     "text": [
      "1\n",
      "2\n",
      "3\n",
      "4\n",
      "5\n",
      "6\n",
      "7\n",
      "8\n",
      "9\n",
      "10\n"
     ]
    }
   ],
   "source": [
    "list1=[1,2,3,4,5,6,7,8,9,10]\n",
    "list0=[]\n",
    "list_1=[]\n",
    "def even_odd():\n",
    "    for i in list1:\n",
    "        if i%2==0:\n",
    "            list0.append(i)\n",
    "            print(i)\n",
    "        else:\n",
    "            list_1.append(i)\n",
    "            print(i)\n",
    "even_odd()            "
   ]
  },
  {
   "cell_type": "code",
   "execution_count": null,
   "id": "83b6c0c0",
   "metadata": {},
   "outputs": [],
   "source": []
  }
 ],
 "metadata": {
  "kernelspec": {
   "display_name": "Python 3 (ipykernel)",
   "language": "python",
   "name": "python3"
  },
  "language_info": {
   "codemirror_mode": {
    "name": "ipython",
    "version": 3
   },
   "file_extension": ".py",
   "mimetype": "text/x-python",
   "name": "python",
   "nbconvert_exporter": "python",
   "pygments_lexer": "ipython3",
   "version": "3.11.7"
  }
 },
 "nbformat": 4,
 "nbformat_minor": 5
}
