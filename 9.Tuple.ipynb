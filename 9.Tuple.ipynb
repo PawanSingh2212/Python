{
 "cells": [
  {
   "cell_type": "markdown",
   "id": "e101dc12",
   "metadata": {},
   "source": [
    "## properties of tuple\n",
    "\n",
    "- Odered\n",
    "- Unchangeable \n",
    "- Heterogenous \n",
    "- Contains Duplicates\n",
    "- Iterable\n",
    "- immutable\n"
   ]
  },
  {
   "cell_type": "markdown",
   "id": "1ebaabfe",
   "metadata": {},
   "source": [
    "## Creating tuple "
   ]
  },
  {
   "cell_type": "markdown",
   "id": "71ed6185",
   "metadata": {},
   "source": [
    "#### 1. Using parenthesis"
   ]
  },
  {
   "cell_type": "code",
   "execution_count": 3,
   "id": "7400dd82",
   "metadata": {},
   "outputs": [],
   "source": [
    "no_tuple=(10,20,30,40)\n",
    "\n",
    "mix_tuple=(10,'hey',1.3,2+7j,)\n",
    "\n",
    "str_tuple=('pawan','singh','tangariya')\n"
   ]
  },
  {
   "cell_type": "code",
   "execution_count": 6,
   "id": "4d3c3d35",
   "metadata": {},
   "outputs": [
    {
     "data": {
      "text/plain": [
       "str"
      ]
     },
     "execution_count": 6,
     "metadata": {},
     "output_type": "execute_result"
    }
   ],
   "source": [
    "single_tuple=('hello')   # it is not tuple because tuple should have commas\n",
    "\n",
    "type(single_tuple)"
   ]
  },
  {
   "cell_type": "code",
   "execution_count": 8,
   "id": "a012b612",
   "metadata": {},
   "outputs": [
    {
     "data": {
      "text/plain": [
       "int"
      ]
     },
     "execution_count": 8,
     "metadata": {},
     "output_type": "execute_result"
    }
   ],
   "source": [
    "single_tuple=(10)\n",
    "\n",
    "type(single_tuple)"
   ]
  },
  {
   "cell_type": "code",
   "execution_count": 9,
   "id": "759a94cb",
   "metadata": {},
   "outputs": [
    {
     "data": {
      "text/plain": [
       "tuple"
      ]
     },
     "execution_count": 9,
     "metadata": {},
     "output_type": "execute_result"
    }
   ],
   "source": [
    "not_single=(10,)\n",
    "\n",
    "type(not_single)"
   ]
  },
  {
   "cell_type": "code",
   "execution_count": 9,
   "id": "b9f8dfef",
   "metadata": {},
   "outputs": [
    {
     "data": {
      "text/plain": [
       "tuple"
      ]
     },
     "execution_count": 9,
     "metadata": {},
     "output_type": "execute_result"
    }
   ],
   "source": [
    "x=10,20,30   # it is tuple because it have commas \n",
    "\n",
    "type(x)"
   ]
  },
  {
   "cell_type": "code",
   "execution_count": 14,
   "id": "53c3ddd3",
   "metadata": {},
   "outputs": [
    {
     "name": "stdout",
     "output_type": "stream",
     "text": [
      "<class 'tuple'>\n",
      "(10, 20, 'hey')\n"
     ]
    }
   ],
   "source": [
    "tuple1=10,20,'hey'   # tuple can be created without parenthesis \n",
    "\n",
    "print(type(tuple1))\n",
    "\n",
    "print(tuple1)     # packing an unpack tuple"
   ]
  },
  {
   "cell_type": "code",
   "execution_count": null,
   "id": "0e6da70e",
   "metadata": {},
   "outputs": [],
   "source": []
  },
  {
   "cell_type": "markdown",
   "id": "b44fcc33",
   "metadata": {},
   "source": [
    "#### 2. Using tuple() constructor"
   ]
  },
  {
   "cell_type": "code",
   "execution_count": 3,
   "id": "2623aaa0",
   "metadata": {},
   "outputs": [
    {
     "name": "stdout",
     "output_type": "stream",
     "text": [
      "(12, 34, 12)\n"
     ]
    },
    {
     "data": {
      "text/plain": [
       "tuple"
      ]
     },
     "execution_count": 3,
     "metadata": {},
     "output_type": "execute_result"
    }
   ],
   "source": [
    "x=tuple([12,34,12])\n",
    "print(x)\n",
    "type(x)"
   ]
  },
  {
   "cell_type": "code",
   "execution_count": 5,
   "id": "4e548d03",
   "metadata": {},
   "outputs": [
    {
     "name": "stdout",
     "output_type": "stream",
     "text": [
      "(34, 12, 'say', 12.3)\n"
     ]
    },
    {
     "data": {
      "text/plain": [
       "tuple"
      ]
     },
     "execution_count": 5,
     "metadata": {},
     "output_type": "execute_result"
    }
   ],
   "source": [
    "y=tuple({12,34,'say',12.3})\n",
    "print(y)\n",
    "type(x)"
   ]
  },
  {
   "cell_type": "code",
   "execution_count": 7,
   "id": "188a6939",
   "metadata": {},
   "outputs": [
    {
     "name": "stdout",
     "output_type": "stream",
     "text": [
      "('a', 13)\n"
     ]
    },
    {
     "data": {
      "text/plain": [
       "tuple"
      ]
     },
     "execution_count": 7,
     "metadata": {},
     "output_type": "execute_result"
    }
   ],
   "source": [
    "z=tuple({'a':12,13:'b'})\n",
    "print(z)\n",
    "type(z)  # it took only keys of the dictionary "
   ]
  },
  {
   "cell_type": "code",
   "execution_count": null,
   "id": "8e7fa512",
   "metadata": {},
   "outputs": [],
   "source": []
  },
  {
   "cell_type": "code",
   "execution_count": null,
   "id": "cdc21e4b",
   "metadata": {},
   "outputs": [],
   "source": []
  },
  {
   "cell_type": "markdown",
   "id": "e930221f",
   "metadata": {},
   "source": [
    "### unpacking a tuple into variable\n"
   ]
  },
  {
   "cell_type": "code",
   "execution_count": 3,
   "id": "491c2237",
   "metadata": {},
   "outputs": [],
   "source": [
    "tuple1=10,20,'hey'"
   ]
  },
  {
   "cell_type": "code",
   "execution_count": 4,
   "id": "72b65366",
   "metadata": {},
   "outputs": [
    {
     "name": "stdout",
     "output_type": "stream",
     "text": [
      "10 20 hey\n"
     ]
    }
   ],
   "source": [
    "# unpacking a tuple into variable\n",
    "\n",
    "i,j,k= tuple1\n",
    "\n",
    "#printing the variables\n",
    "\n",
    "print(i,j,k)\n",
    "\n",
    "# output 1 2 hey"
   ]
  },
  {
   "cell_type": "code",
   "execution_count": 5,
   "id": "35f3fca9",
   "metadata": {},
   "outputs": [
    {
     "name": "stdout",
     "output_type": "stream",
     "text": [
      "(10, 20, 'hey')\n"
     ]
    }
   ],
   "source": [
    "print(tuple1)"
   ]
  },
  {
   "cell_type": "code",
   "execution_count": 6,
   "id": "b67ddf6d",
   "metadata": {},
   "outputs": [
    {
     "name": "stdout",
     "output_type": "stream",
     "text": [
      "10 20 hey\n",
      "10\n"
     ]
    }
   ],
   "source": [
    "g,k,y= tuple1    # g=10 k=20 y=hey    we are assigning variables the items of tuples \n",
    "\n",
    "print(g,k,y)\n",
    "\n",
    "print(g)"
   ]
  },
  {
   "cell_type": "markdown",
   "id": "153efb41",
   "metadata": {},
   "source": [
    "### lenth of a tuple"
   ]
  },
  {
   "cell_type": "code",
   "execution_count": 10,
   "id": "a56a490d",
   "metadata": {},
   "outputs": [],
   "source": [
    "tuple6=(10,23,678)"
   ]
  },
  {
   "cell_type": "code",
   "execution_count": 11,
   "id": "856c0587",
   "metadata": {},
   "outputs": [
    {
     "data": {
      "text/plain": [
       "3"
      ]
     },
     "execution_count": 11,
     "metadata": {},
     "output_type": "execute_result"
    }
   ],
   "source": [
    "len(tuple6)"
   ]
  },
  {
   "cell_type": "markdown",
   "id": "f7d93c81",
   "metadata": {},
   "source": [
    "### Indexing"
   ]
  },
  {
   "cell_type": "code",
   "execution_count": 19,
   "id": "b780c57f",
   "metadata": {},
   "outputs": [
    {
     "data": {
      "text/plain": [
       "678"
      ]
     },
     "execution_count": 19,
     "metadata": {},
     "output_type": "execute_result"
    }
   ],
   "source": [
    "tuple6[2]"
   ]
  },
  {
   "cell_type": "markdown",
   "id": "e6424007",
   "metadata": {},
   "source": [
    "### Modify"
   ]
  },
  {
   "cell_type": "code",
   "execution_count": 21,
   "id": "48b1b191",
   "metadata": {},
   "outputs": [
    {
     "ename": "TypeError",
     "evalue": "'tuple' object does not support item assignment",
     "output_type": "error",
     "traceback": [
      "\u001b[1;31m---------------------------------------------------------------------------\u001b[0m",
      "\u001b[1;31mTypeError\u001b[0m                                 Traceback (most recent call last)",
      "Cell \u001b[1;32mIn[21], line 1\u001b[0m\n\u001b[1;32m----> 1\u001b[0m tuple6[\u001b[38;5;241m0\u001b[39m:\u001b[38;5;241m1\u001b[39m]\u001b[38;5;241m=\u001b[39m\u001b[38;5;124m'\u001b[39m\u001b[38;5;124mhey\u001b[39m\u001b[38;5;124m'\u001b[39m\n",
      "\u001b[1;31mTypeError\u001b[0m: 'tuple' object does not support item assignment"
     ]
    }
   ],
   "source": [
    "tuple6[0:1]='hey'"
   ]
  },
  {
   "cell_type": "code",
   "execution_count": 10,
   "id": "6d486f46",
   "metadata": {},
   "outputs": [
    {
     "ename": "TypeError",
     "evalue": "'tuple' object does not support item assignment",
     "output_type": "error",
     "traceback": [
      "\u001b[1;31m---------------------------------------------------------------------------\u001b[0m",
      "\u001b[1;31mTypeError\u001b[0m                                 Traceback (most recent call last)",
      "Cell \u001b[1;32mIn[10], line 1\u001b[0m\n\u001b[1;32m----> 1\u001b[0m tuple1[\u001b[38;5;241m1\u001b[39m]\u001b[38;5;241m=\u001b[39m\u001b[38;5;241m12\u001b[39m\n",
      "\u001b[1;31mTypeError\u001b[0m: 'tuple' object does not support item assignment"
     ]
    }
   ],
   "source": [
    "tuple1[1]=12"
   ]
  },
  {
   "cell_type": "code",
   "execution_count": null,
   "id": "254fb2f7",
   "metadata": {},
   "outputs": [],
   "source": []
  },
  {
   "cell_type": "markdown",
   "id": "5eb26d91",
   "metadata": {},
   "source": [
    "## Sclicing"
   ]
  },
  {
   "cell_type": "code",
   "execution_count": 4,
   "id": "fef78aff",
   "metadata": {},
   "outputs": [],
   "source": [
    "tuple_1=(10,'helo',56,12.3,'sixty')"
   ]
  },
  {
   "cell_type": "code",
   "execution_count": 5,
   "id": "3b88aa2b",
   "metadata": {},
   "outputs": [
    {
     "data": {
      "text/plain": [
       "('helo', 56)"
      ]
     },
     "execution_count": 5,
     "metadata": {},
     "output_type": "execute_result"
    }
   ],
   "source": [
    "tuple_1[1:3]"
   ]
  },
  {
   "cell_type": "code",
   "execution_count": null,
   "id": "134946b9",
   "metadata": {},
   "outputs": [],
   "source": []
  },
  {
   "cell_type": "code",
   "execution_count": null,
   "id": "1387e89c",
   "metadata": {},
   "outputs": [],
   "source": [
    "x=('z','d','c',1,2,3,4)\n",
    "x[i:j:k]"
   ]
  },
  {
   "cell_type": "code",
   "execution_count": 14,
   "id": "f439824d",
   "metadata": {},
   "outputs": [
    {
     "data": {
      "text/plain": [
       "(4, 3, 2, 1, 'c', 'd', 'z')"
      ]
     },
     "execution_count": 14,
     "metadata": {},
     "output_type": "execute_result"
    }
   ],
   "source": [
    "x=('z','d','c',1,2,3,4)\n",
    "x[len(x)-1:-len(x)-1:-1]"
   ]
  },
  {
   "cell_type": "code",
   "execution_count": 15,
   "id": "ebcb3ffe",
   "metadata": {},
   "outputs": [
    {
     "data": {
      "text/plain": [
       "(4, 3, 2, 1, 'c', 'd')"
      ]
     },
     "execution_count": 15,
     "metadata": {},
     "output_type": "execute_result"
    }
   ],
   "source": [
    "x=('z','d','c',1,2,3,4)\n",
    "x[len(x)-1:0:-1]"
   ]
  },
  {
   "cell_type": "code",
   "execution_count": 16,
   "id": "b1533bbd",
   "metadata": {},
   "outputs": [
    {
     "data": {
      "text/plain": [
       "(4, 3, 2, 1, 'c', 'd', 'z')"
      ]
     },
     "execution_count": 16,
     "metadata": {},
     "output_type": "execute_result"
    }
   ],
   "source": [
    "x=('z','d','c',1,2,3,4)\n",
    "x[len(x)-1::-1]"
   ]
  },
  {
   "cell_type": "code",
   "execution_count": 17,
   "id": "3c65e191",
   "metadata": {},
   "outputs": [
    {
     "data": {
      "text/plain": [
       "(4, 3, 2, 1, 'c', 'd', 'z')"
      ]
     },
     "execution_count": 17,
     "metadata": {},
     "output_type": "execute_result"
    }
   ],
   "source": [
    "x=('z','d','c',1,2,3,4)\n",
    "x[::-1]"
   ]
  },
  {
   "cell_type": "code",
   "execution_count": null,
   "id": "5116d49a",
   "metadata": {},
   "outputs": [],
   "source": []
  },
  {
   "cell_type": "code",
   "execution_count": null,
   "id": "9ec10291",
   "metadata": {},
   "outputs": [],
   "source": []
  },
  {
   "cell_type": "code",
   "execution_count": 18,
   "id": "d25ce24e",
   "metadata": {},
   "outputs": [
    {
     "name": "stdout",
     "output_type": "stream",
     "text": [
      "(('z', 'd', 'c', 1, 2, 3, 4), 9)\n"
     ]
    }
   ],
   "source": [
    "x=('z','d','c',1,2,3,4)\n",
    "b=(x),9\n",
    "print(b)"
   ]
  },
  {
   "cell_type": "code",
   "execution_count": 19,
   "id": "f924f3cf",
   "metadata": {},
   "outputs": [
    {
     "name": "stdout",
     "output_type": "stream",
     "text": [
      "((('z', 'd', 'c', 1, 2, 3, 4), 9),)\n"
     ]
    }
   ],
   "source": [
    "x=('z','d','c',1,2,3,4)\n",
    "b=((((x,9),)))\n",
    "print(b)"
   ]
  },
  {
   "cell_type": "code",
   "execution_count": null,
   "id": "894d35cd",
   "metadata": {},
   "outputs": [],
   "source": []
  },
  {
   "cell_type": "markdown",
   "id": "aea11143",
   "metadata": {},
   "source": [
    "### Reversing"
   ]
  },
  {
   "cell_type": "code",
   "execution_count": 7,
   "id": "52b642d3",
   "metadata": {},
   "outputs": [
    {
     "data": {
      "text/plain": [
       "('sixty', 12.3, 56, 'helo', 10)"
      ]
     },
     "execution_count": 7,
     "metadata": {},
     "output_type": "execute_result"
    }
   ],
   "source": [
    "tuple_1[::-1]"
   ]
  },
  {
   "cell_type": "markdown",
   "id": "4ccc828a",
   "metadata": {},
   "source": [
    "### positive and Negative Indexing "
   ]
  },
  {
   "cell_type": "code",
   "execution_count": 24,
   "id": "6df1eec2",
   "metadata": {},
   "outputs": [],
   "source": [
    "tuple_1=(10,'helo',56,12.3,'sixty')"
   ]
  },
  {
   "cell_type": "code",
   "execution_count": 28,
   "id": "1fb976df",
   "metadata": {},
   "outputs": [
    {
     "name": "stdout",
     "output_type": "stream",
     "text": [
      "sixty\n",
      "10\n"
     ]
    }
   ],
   "source": [
    "print(tuple_1[-1])\n",
    "print(tuple_1[0])"
   ]
  },
  {
   "cell_type": "markdown",
   "id": "22babcaf",
   "metadata": {},
   "source": [
    "## modifying nested  tuple\n",
    "\n",
    "  a nested tuple can only be modified not a normal tuple"
   ]
  },
  {
   "cell_type": "code",
   "execution_count": 38,
   "id": "87225e64",
   "metadata": {},
   "outputs": [],
   "source": [
    "tuple_2=(34,56,'go',['slow',20],30)\n",
    "\n",
    "tuple_2[3][0]=230"
   ]
  },
  {
   "cell_type": "code",
   "execution_count": 39,
   "id": "30a40014",
   "metadata": {},
   "outputs": [
    {
     "name": "stdout",
     "output_type": "stream",
     "text": [
      "(34, 56, 'go', [230, 20], 30)\n"
     ]
    }
   ],
   "source": [
    "print(tuple_2)"
   ]
  },
  {
   "cell_type": "markdown",
   "id": "0d988368",
   "metadata": {},
   "source": [
    "### min & max"
   ]
  },
  {
   "cell_type": "code",
   "execution_count": 41,
   "id": "c2ce72d4",
   "metadata": {},
   "outputs": [
    {
     "ename": "TypeError",
     "evalue": "'<' not supported between instances of 'str' and 'int'",
     "output_type": "error",
     "traceback": [
      "\u001b[1;31m---------------------------------------------------------------------------\u001b[0m",
      "\u001b[1;31mTypeError\u001b[0m                                 Traceback (most recent call last)",
      "Cell \u001b[1;32mIn[41], line 1\u001b[0m\n\u001b[1;32m----> 1\u001b[0m \u001b[38;5;28mmin\u001b[39m(tuple_2)\n",
      "\u001b[1;31mTypeError\u001b[0m: '<' not supported between instances of 'str' and 'int'"
     ]
    }
   ],
   "source": [
    "min(tuple_2)"
   ]
  },
  {
   "cell_type": "code",
   "execution_count": 42,
   "id": "8a92cc9e",
   "metadata": {},
   "outputs": [],
   "source": [
    "tuple_3=(10,20,45,789)"
   ]
  },
  {
   "cell_type": "code",
   "execution_count": 44,
   "id": "2f2fcb13",
   "metadata": {},
   "outputs": [
    {
     "name": "stdout",
     "output_type": "stream",
     "text": [
      "10\n",
      "789\n"
     ]
    }
   ],
   "source": [
    "print(min(tuple_3))\n",
    "print(max(tuple_3))"
   ]
  },
  {
   "cell_type": "markdown",
   "id": "63fc3da0",
   "metadata": {},
   "source": [
    "## del"
   ]
  },
  {
   "cell_type": "code",
   "execution_count": 45,
   "id": "afb33b02",
   "metadata": {},
   "outputs": [],
   "source": [
    "tuple_3=(10,20,45,789)"
   ]
  },
  {
   "cell_type": "code",
   "execution_count": 46,
   "id": "b1dde7a5",
   "metadata": {},
   "outputs": [],
   "source": [
    "del tuple_3"
   ]
  },
  {
   "cell_type": "code",
   "execution_count": 47,
   "id": "86caeca2",
   "metadata": {},
   "outputs": [
    {
     "ename": "NameError",
     "evalue": "name 'tuple_3' is not defined",
     "output_type": "error",
     "traceback": [
      "\u001b[1;31m---------------------------------------------------------------------------\u001b[0m",
      "\u001b[1;31mNameError\u001b[0m                                 Traceback (most recent call last)",
      "Cell \u001b[1;32mIn[47], line 1\u001b[0m\n\u001b[1;32m----> 1\u001b[0m \u001b[38;5;28mprint\u001b[39m(tuple_3)\n",
      "\u001b[1;31mNameError\u001b[0m: name 'tuple_3' is not defined"
     ]
    }
   ],
   "source": [
    "print(tuple_3)"
   ]
  },
  {
   "cell_type": "markdown",
   "id": "1428aa33",
   "metadata": {},
   "source": [
    "## clear()"
   ]
  },
  {
   "cell_type": "code",
   "execution_count": 50,
   "id": "2f4b1fad",
   "metadata": {},
   "outputs": [],
   "source": [
    "tuple_3=(10,20,45,789)"
   ]
  },
  {
   "cell_type": "code",
   "execution_count": 51,
   "id": "8f6bb8b3",
   "metadata": {},
   "outputs": [
    {
     "ename": "AttributeError",
     "evalue": "'tuple' object has no attribute 'clear'",
     "output_type": "error",
     "traceback": [
      "\u001b[1;31m---------------------------------------------------------------------------\u001b[0m",
      "\u001b[1;31mAttributeError\u001b[0m                            Traceback (most recent call last)",
      "Cell \u001b[1;32mIn[51], line 1\u001b[0m\n\u001b[1;32m----> 1\u001b[0m tuple_3\u001b[38;5;241m.\u001b[39mclear()\n",
      "\u001b[1;31mAttributeError\u001b[0m: 'tuple' object has no attribute 'clear'"
     ]
    }
   ],
   "source": [
    "tuple_3.clear()"
   ]
  },
  {
   "cell_type": "markdown",
   "id": "97a326bc",
   "metadata": {},
   "source": [
    "## pop"
   ]
  },
  {
   "cell_type": "code",
   "execution_count": 54,
   "id": "1c107eae",
   "metadata": {},
   "outputs": [],
   "source": [
    "tuple_3=(10,20,45,789)"
   ]
  },
  {
   "cell_type": "code",
   "execution_count": 55,
   "id": "c9e3652a",
   "metadata": {},
   "outputs": [
    {
     "ename": "AttributeError",
     "evalue": "'tuple' object has no attribute 'pop'",
     "output_type": "error",
     "traceback": [
      "\u001b[1;31m---------------------------------------------------------------------------\u001b[0m",
      "\u001b[1;31mAttributeError\u001b[0m                            Traceback (most recent call last)",
      "Cell \u001b[1;32mIn[55], line 1\u001b[0m\n\u001b[1;32m----> 1\u001b[0m tuple_3\u001b[38;5;241m.\u001b[39mpop()\n",
      "\u001b[1;31mAttributeError\u001b[0m: 'tuple' object has no attribute 'pop'"
     ]
    }
   ],
   "source": [
    "tuple_3.pop()"
   ]
  },
  {
   "cell_type": "markdown",
   "id": "a96ad93f",
   "metadata": {},
   "source": [
    "## count"
   ]
  },
  {
   "cell_type": "code",
   "execution_count": 62,
   "id": "1a09cfce",
   "metadata": {},
   "outputs": [],
   "source": [
    "tuple_3=(10,20,45,789)"
   ]
  },
  {
   "cell_type": "code",
   "execution_count": 63,
   "id": "3aa1a4c4",
   "metadata": {},
   "outputs": [
    {
     "data": {
      "text/plain": [
       "1"
      ]
     },
     "execution_count": 63,
     "metadata": {},
     "output_type": "execute_result"
    }
   ],
   "source": [
    "tuple_3.count(20)"
   ]
  },
  {
   "cell_type": "markdown",
   "id": "eedb0f6a",
   "metadata": {},
   "source": [
    "## index()"
   ]
  },
  {
   "cell_type": "code",
   "execution_count": 15,
   "id": "eb7adc78",
   "metadata": {},
   "outputs": [],
   "source": [
    "tuple_3=(10,20,45,789)"
   ]
  },
  {
   "cell_type": "code",
   "execution_count": 64,
   "id": "77e76675",
   "metadata": {},
   "outputs": [
    {
     "data": {
      "text/plain": [
       "1"
      ]
     },
     "execution_count": 64,
     "metadata": {},
     "output_type": "execute_result"
    }
   ],
   "source": [
    "tuple_3.index(20)"
   ]
  },
  {
   "cell_type": "code",
   "execution_count": null,
   "id": "c9776343",
   "metadata": {},
   "outputs": [],
   "source": []
  },
  {
   "cell_type": "code",
   "execution_count": 69,
   "id": "fea15648",
   "metadata": {},
   "outputs": [
    {
     "data": {
      "text/plain": [
       "0"
      ]
     },
     "execution_count": 69,
     "metadata": {},
     "output_type": "execute_result"
    }
   ],
   "source": [
    "tuple_3.index(10,0,3)  # returns the index no. of a particular item(10) in a tuple .But search only from index number 0 to 3"
   ]
  },
  {
   "cell_type": "code",
   "execution_count": null,
   "id": "78c1126a",
   "metadata": {},
   "outputs": [],
   "source": []
  },
  {
   "cell_type": "code",
   "execution_count": null,
   "id": "c895f653",
   "metadata": {},
   "outputs": [],
   "source": []
  },
  {
   "cell_type": "markdown",
   "id": "4940476b",
   "metadata": {},
   "source": [
    "## append"
   ]
  },
  {
   "cell_type": "code",
   "execution_count": 70,
   "id": "cc9ebabd",
   "metadata": {},
   "outputs": [
    {
     "ename": "AttributeError",
     "evalue": "'tuple' object has no attribute 'append'",
     "output_type": "error",
     "traceback": [
      "\u001b[1;31m---------------------------------------------------------------------------\u001b[0m",
      "\u001b[1;31mAttributeError\u001b[0m                            Traceback (most recent call last)",
      "Cell \u001b[1;32mIn[70], line 1\u001b[0m\n\u001b[1;32m----> 1\u001b[0m tuple_3\u001b[38;5;241m.\u001b[39mappend(\u001b[38;5;124m'\u001b[39m\u001b[38;5;124mno\u001b[39m\u001b[38;5;124m'\u001b[39m)\n",
      "\u001b[1;31mAttributeError\u001b[0m: 'tuple' object has no attribute 'append'"
     ]
    }
   ],
   "source": [
    "tuple_3.append('no')"
   ]
  },
  {
   "cell_type": "markdown",
   "id": "07cdadb7",
   "metadata": {},
   "source": [
    "## find()"
   ]
  },
  {
   "cell_type": "code",
   "execution_count": 71,
   "id": "dceec9b1",
   "metadata": {},
   "outputs": [
    {
     "ename": "AttributeError",
     "evalue": "'tuple' object has no attribute 'find'",
     "output_type": "error",
     "traceback": [
      "\u001b[1;31m---------------------------------------------------------------------------\u001b[0m",
      "\u001b[1;31mAttributeError\u001b[0m                            Traceback (most recent call last)",
      "Cell \u001b[1;32mIn[71], line 1\u001b[0m\n\u001b[1;32m----> 1\u001b[0m tuple_3\u001b[38;5;241m.\u001b[39mfind(\u001b[38;5;241m789\u001b[39m)\n",
      "\u001b[1;31mAttributeError\u001b[0m: 'tuple' object has no attribute 'find'"
     ]
    }
   ],
   "source": [
    "tuple_3.find(789)"
   ]
  },
  {
   "cell_type": "markdown",
   "id": "6d582c6c",
   "metadata": {},
   "source": [
    "## replace()"
   ]
  },
  {
   "cell_type": "code",
   "execution_count": 72,
   "id": "851b1899",
   "metadata": {},
   "outputs": [
    {
     "ename": "AttributeError",
     "evalue": "'tuple' object has no attribute 'replace'",
     "output_type": "error",
     "traceback": [
      "\u001b[1;31m---------------------------------------------------------------------------\u001b[0m",
      "\u001b[1;31mAttributeError\u001b[0m                            Traceback (most recent call last)",
      "Cell \u001b[1;32mIn[72], line 1\u001b[0m\n\u001b[1;32m----> 1\u001b[0m tuple_3\u001b[38;5;241m.\u001b[39mreplace(\u001b[38;5;241m10\u001b[39m,\u001b[38;5;241m100\u001b[39m)\n",
      "\u001b[1;31mAttributeError\u001b[0m: 'tuple' object has no attribute 'replace'"
     ]
    }
   ],
   "source": [
    "tuple_3.replace(10,100)"
   ]
  },
  {
   "cell_type": "markdown",
   "id": "a9a9d397",
   "metadata": {},
   "source": [
    "## changing a list into tuple"
   ]
  },
  {
   "cell_type": "code",
   "execution_count": 1,
   "id": "297cc6ed",
   "metadata": {},
   "outputs": [],
   "source": [
    "list=[12,34,'hey',90]"
   ]
  },
  {
   "cell_type": "code",
   "execution_count": 4,
   "id": "083ea8ce",
   "metadata": {},
   "outputs": [
    {
     "name": "stdout",
     "output_type": "stream",
     "text": [
      "(12, 34, 'hey', 90)\n"
     ]
    }
   ],
   "source": [
    "x=list[0],list[1],list[2],list[3]\n",
    "print(x)"
   ]
  },
  {
   "cell_type": "code",
   "execution_count": 5,
   "id": "89f524f8",
   "metadata": {},
   "outputs": [
    {
     "name": "stdout",
     "output_type": "stream",
     "text": [
      "<class 'tuple'>\n"
     ]
    }
   ],
   "source": [
    "print(type(x))"
   ]
  },
  {
   "cell_type": "code",
   "execution_count": 6,
   "id": "a3690090",
   "metadata": {},
   "outputs": [
    {
     "data": {
      "text/plain": [
       "tuple"
      ]
     },
     "execution_count": 6,
     "metadata": {},
     "output_type": "execute_result"
    }
   ],
   "source": [
    "type(x)"
   ]
  },
  {
   "cell_type": "markdown",
   "id": "01b9f57f",
   "metadata": {},
   "source": [
    "### Concatenation"
   ]
  },
  {
   "cell_type": "code",
   "execution_count": 11,
   "id": "063fe2a9",
   "metadata": {},
   "outputs": [],
   "source": [
    "tuple1=(5,6,7,8,9,10)\n",
    "tuple2=(1,2,3,4,5,6,5)"
   ]
  },
  {
   "cell_type": "markdown",
   "id": "fd6190f7",
   "metadata": {},
   "source": [
    "#### Using + operator"
   ]
  },
  {
   "cell_type": "code",
   "execution_count": 12,
   "id": "b397b5a4",
   "metadata": {},
   "outputs": [
    {
     "data": {
      "text/plain": [
       "(5, 6, 7, 8, 9, 10, 1, 2, 3, 4, 5, 6, 5)"
      ]
     },
     "execution_count": 12,
     "metadata": {},
     "output_type": "execute_result"
    }
   ],
   "source": [
    "tuple1+tuple2"
   ]
  },
  {
   "cell_type": "markdown",
   "id": "f083dbe3",
   "metadata": {},
   "source": []
  },
  {
   "cell_type": "markdown",
   "id": "b7f2c3f5",
   "metadata": {},
   "source": [
    "### Using  sum()"
   ]
  },
  {
   "cell_type": "code",
   "execution_count": 24,
   "id": "3de806bd",
   "metadata": {},
   "outputs": [
    {
     "ename": "AttributeError",
     "evalue": "'tuple' object has no attribute 'sum'",
     "output_type": "error",
     "traceback": [
      "\u001b[1;31m---------------------------------------------------------------------------\u001b[0m",
      "\u001b[1;31mAttributeError\u001b[0m                            Traceback (most recent call last)",
      "Cell \u001b[1;32mIn[24], line 1\u001b[0m\n\u001b[1;32m----> 1\u001b[0m \u001b[38;5;28mtuple\u001b[39m\u001b[38;5;241m=\u001b[39mtuple1\u001b[38;5;241m.\u001b[39msum(tuple2)\n",
      "\u001b[1;31mAttributeError\u001b[0m: 'tuple' object has no attribute 'sum'"
     ]
    }
   ],
   "source": [
    "tuple=tuple1.sum(tuple2)"
   ]
  },
  {
   "cell_type": "code",
   "execution_count": 25,
   "id": "0a3d2b14",
   "metadata": {},
   "outputs": [
    {
     "ename": "AttributeError",
     "evalue": "'tuple' object has no attribute 'sum'",
     "output_type": "error",
     "traceback": [
      "\u001b[1;31m---------------------------------------------------------------------------\u001b[0m",
      "\u001b[1;31mAttributeError\u001b[0m                            Traceback (most recent call last)",
      "Cell \u001b[1;32mIn[25], line 1\u001b[0m\n\u001b[1;32m----> 1\u001b[0m tupleS\u001b[38;5;241m=\u001b[39mtuple1\u001b[38;5;241m.\u001b[39msum(tuple2)\n",
      "\u001b[1;31mAttributeError\u001b[0m: 'tuple' object has no attribute 'sum'"
     ]
    }
   ],
   "source": [
    "tupleS=tuple1.sum(tuple2)"
   ]
  },
  {
   "cell_type": "code",
   "execution_count": 26,
   "id": "f7d7dfc1",
   "metadata": {},
   "outputs": [
    {
     "ename": "TypeError",
     "evalue": "can only concatenate tuple (not \"int\") to tuple",
     "output_type": "error",
     "traceback": [
      "\u001b[1;31m---------------------------------------------------------------------------\u001b[0m",
      "\u001b[1;31mTypeError\u001b[0m                                 Traceback (most recent call last)",
      "Cell \u001b[1;32mIn[26], line 1\u001b[0m\n\u001b[1;32m----> 1\u001b[0m tupleS\u001b[38;5;241m=\u001b[39m\u001b[38;5;28msum\u001b[39m(tuple1,tuple2)\n",
      "\u001b[1;31mTypeError\u001b[0m: can only concatenate tuple (not \"int\") to tuple"
     ]
    }
   ],
   "source": [
    "tupleS=sum(tuple1,tuple2)"
   ]
  },
  {
   "cell_type": "code",
   "execution_count": 29,
   "id": "ac68fec0",
   "metadata": {},
   "outputs": [
    {
     "name": "stdout",
     "output_type": "stream",
     "text": [
      "(1, 2, 3, 4, 5, 6, 5, 1, 2, 3, 4, 5, 6, 5)\n"
     ]
    }
   ],
   "source": [
    "tupleS=sum((tuple1,tuple2),())\n",
    "\n",
    "print(tupleS)"
   ]
  },
  {
   "cell_type": "code",
   "execution_count": null,
   "id": "7e417a50",
   "metadata": {},
   "outputs": [],
   "source": []
  },
  {
   "cell_type": "code",
   "execution_count": 31,
   "id": "42296774",
   "metadata": {},
   "outputs": [
    {
     "ename": "TypeError",
     "evalue": "can only concatenate list (not \"int\") to list",
     "output_type": "error",
     "traceback": [
      "\u001b[1;31m---------------------------------------------------------------------------\u001b[0m",
      "\u001b[1;31mTypeError\u001b[0m                                 Traceback (most recent call last)",
      "Cell \u001b[1;32mIn[31], line 4\u001b[0m\n\u001b[0;32m      1\u001b[0m list1\u001b[38;5;241m=\u001b[39m[\u001b[38;5;241m1\u001b[39m,\u001b[38;5;241m2\u001b[39m,\u001b[38;5;241m3\u001b[39m,\u001b[38;5;241m4\u001b[39m,\u001b[38;5;241m5\u001b[39m,\u001b[38;5;241m6\u001b[39m]\n\u001b[0;32m      2\u001b[0m list2\u001b[38;5;241m=\u001b[39m[\u001b[38;5;241m7\u001b[39m,\u001b[38;5;241m8\u001b[39m,\u001b[38;5;241m9\u001b[39m,\u001b[38;5;241m10\u001b[39m,\u001b[38;5;241m11\u001b[39m]\n\u001b[1;32m----> 4\u001b[0m \u001b[38;5;28msum\u001b[39m(list1,list2)\n",
      "\u001b[1;31mTypeError\u001b[0m: can only concatenate list (not \"int\") to list"
     ]
    }
   ],
   "source": [
    "list1=[1,2,3,4,5,6]\n",
    "list2=[7,8,9,10,11]\n",
    "\n",
    "sum(list1,list2)"
   ]
  },
  {
   "cell_type": "code",
   "execution_count": 33,
   "id": "fd47607a",
   "metadata": {},
   "outputs": [
    {
     "ename": "TypeError",
     "evalue": "sum() takes at most 2 arguments (3 given)",
     "output_type": "error",
     "traceback": [
      "\u001b[1;31m---------------------------------------------------------------------------\u001b[0m",
      "\u001b[1;31mTypeError\u001b[0m                                 Traceback (most recent call last)",
      "Cell \u001b[1;32mIn[33], line 1\u001b[0m\n\u001b[1;32m----> 1\u001b[0m \u001b[38;5;28msum\u001b[39m(list1,list2,[])\n",
      "\u001b[1;31mTypeError\u001b[0m: sum() takes at most 2 arguments (3 given)"
     ]
    }
   ],
   "source": [
    "sum(list1,list2,[])"
   ]
  },
  {
   "cell_type": "code",
   "execution_count": 34,
   "id": "16668b5e",
   "metadata": {},
   "outputs": [
    {
     "data": {
      "text/plain": [
       "[1, 2, 3, 4, 5, 6, 7, 8, 9, 10, 11]"
      ]
     },
     "execution_count": 34,
     "metadata": {},
     "output_type": "execute_result"
    }
   ],
   "source": [
    "sum((list1,list2),[])"
   ]
  },
  {
   "cell_type": "code",
   "execution_count": null,
   "id": "c3e62c97",
   "metadata": {},
   "outputs": [],
   "source": []
  },
  {
   "cell_type": "markdown",
   "id": "6f5fc1bf",
   "metadata": {},
   "source": [
    "### Using chain() function\n",
    "\n",
    "The itertools.chain() function is used to combine multiple iterable objects like(list,tuple,set,dict,string) into a single element"
   ]
  },
  {
   "cell_type": "code",
   "execution_count": 37,
   "id": "733f76aa",
   "metadata": {},
   "outputs": [],
   "source": [
    "list1=[12,34,12]\n",
    "tuple1=('hey',90)\n",
    "set1={12,24,12,'hello'}"
   ]
  },
  {
   "cell_type": "code",
   "execution_count": 42,
   "id": "d80d5cca",
   "metadata": {},
   "outputs": [
    {
     "name": "stdout",
     "output_type": "stream",
     "text": [
      "<itertools.chain object at 0x000001D45B25CF70>\n",
      "[12, 34, 12, 'hey', 90, 24, 'hello', 12]\n"
     ]
    }
   ],
   "source": [
    "import itertools\n",
    "\n",
    "combined_iterable=itertools.chain(list1,tuple1,set1)\n",
    "print(combined_iterable)\n",
    "\n",
    "print(list(combined_iterable))"
   ]
  },
  {
   "cell_type": "code",
   "execution_count": null,
   "id": "8cfb7bab",
   "metadata": {},
   "outputs": [],
   "source": []
  },
  {
   "cell_type": "code",
   "execution_count": 2,
   "id": "8027e976",
   "metadata": {},
   "outputs": [
    {
     "ename": "TypeError",
     "evalue": "unhashable type: 'list'",
     "output_type": "error",
     "traceback": [
      "\u001b[1;31m---------------------------------------------------------------------------\u001b[0m",
      "\u001b[1;31mTypeError\u001b[0m                                 Traceback (most recent call last)",
      "Cell \u001b[1;32mIn[2], line 7\u001b[0m\n\u001b[0;32m      3\u001b[0m set1\u001b[38;5;241m=\u001b[39m{\u001b[38;5;241m12\u001b[39m,\u001b[38;5;241m24\u001b[39m,\u001b[38;5;241m12\u001b[39m,\u001b[38;5;124m'\u001b[39m\u001b[38;5;124mhello\u001b[39m\u001b[38;5;124m'\u001b[39m}\n\u001b[0;32m      5\u001b[0m \u001b[38;5;28;01mimport\u001b[39;00m \u001b[38;5;21;01mitertools\u001b[39;00m\n\u001b[1;32m----> 7\u001b[0m com_set\u001b[38;5;241m=\u001b[39m\u001b[38;5;28mset\u001b[39m(itertools\u001b[38;5;241m.\u001b[39mchain(list1,set1,tuple1))\n\u001b[0;32m      8\u001b[0m \u001b[38;5;28mprint\u001b[39m(com_set)\n",
      "\u001b[1;31mTypeError\u001b[0m: unhashable type: 'list'"
     ]
    }
   ],
   "source": [
    "list1=[12,34,12,['mutable']]\n",
    "tuple1=('hey',90)\n",
    "set1={12,24,12,'hello'}\n",
    "\n",
    "import itertools\n",
    "\n",
    "com_set=set(itertools.chain(list1,set1,tuple1))\n",
    "print(com_set)"
   ]
  },
  {
   "cell_type": "code",
   "execution_count": 3,
   "id": "93a86f25",
   "metadata": {},
   "outputs": [
    {
     "name": "stdout",
     "output_type": "stream",
     "text": [
      "[12, 34, 12, ['mutable'], 24, 12, 'hello', 'hey', 90]\n"
     ]
    }
   ],
   "source": [
    "list1=[12,34,12,['mutable']]\n",
    "tuple1=('hey',90)\n",
    "set1={12,24,12,'hello'}\n",
    "\n",
    "import itertools\n",
    "\n",
    "\n",
    "com_set=list(itertools.chain(list1,set1,tuple1))\n",
    "print(com_set)"
   ]
  },
  {
   "cell_type": "code",
   "execution_count": null,
   "id": "12f681a6",
   "metadata": {},
   "outputs": [],
   "source": []
  },
  {
   "cell_type": "code",
   "execution_count": 4,
   "id": "7cc03496",
   "metadata": {},
   "outputs": [
    {
     "name": "stdout",
     "output_type": "stream",
     "text": [
      "(12, 34, 12, ['mutable'], 24, 12, 'hello', 'hey', 90)\n"
     ]
    }
   ],
   "source": [
    "list1=[12,34,12,['mutable']]\n",
    "tuple1=('hey',90)\n",
    "set1={12,24,12,'hello'}\n",
    "\n",
    "import itertools\n",
    "\n",
    "com_set=tuple(itertools.chain(list1,set1,tuple1))\n",
    "print(com_set)"
   ]
  },
  {
   "cell_type": "code",
   "execution_count": null,
   "id": "ac8e0e02",
   "metadata": {},
   "outputs": [],
   "source": []
  },
  {
   "cell_type": "code",
   "execution_count": 10,
   "id": "e938dbe9",
   "metadata": {},
   "outputs": [
    {
     "name": "stdout",
     "output_type": "stream",
     "text": [
      "12\n",
      "34\n",
      "12\n",
      "['mutable']\n",
      "24\n",
      "12\n",
      "hello\n",
      "hey\n",
      "90\n",
      "(12, 34, 12, ['mutable'], 24, 12, 'hello', 'hey', 90)\n"
     ]
    }
   ],
   "source": [
    "for i in com_set:\n",
    "    print(i)\n",
    "    \n",
    "print(com_set)"
   ]
  },
  {
   "cell_type": "code",
   "execution_count": 6,
   "id": "ee2d6403",
   "metadata": {},
   "outputs": [
    {
     "name": "stdout",
     "output_type": "stream",
     "text": [
      "(12, 34, 12, ['mutable'], 24, 12, 'hello', 'hey', 90)\n"
     ]
    }
   ],
   "source": [
    "print(com_set)"
   ]
  },
  {
   "cell_type": "code",
   "execution_count": null,
   "id": "31e7f8de",
   "metadata": {},
   "outputs": [],
   "source": []
  },
  {
   "cell_type": "code",
   "execution_count": 12,
   "id": "65b49dae",
   "metadata": {},
   "outputs": [
    {
     "name": "stdout",
     "output_type": "stream",
     "text": [
      "[12, 34, 12, ['mutable'], 24, 12, 'hello', 'hey', 90]\n",
      "12\n",
      "34\n",
      "12\n",
      "['mutable']\n",
      "24\n",
      "12\n",
      "hello\n",
      "hey\n",
      "90\n",
      "[12, 34, 12, ['mutable'], 24, 12, 'hello', 'hey', 90]\n"
     ]
    }
   ],
   "source": [
    "list1=[12,34,12,['mutable']]\n",
    "tuple1=('hey',90)\n",
    "set1={12,24,12,'hello'}\n",
    "\n",
    "import itertools\n",
    "\n",
    "\n",
    "com_set=list(itertools.chain(list1,set1,tuple1))\n",
    "print(com_set) \n",
    "\n",
    "for i in com_set:\n",
    "    print(i)\n",
    "    \n",
    "print(com_set)"
   ]
  },
  {
   "cell_type": "code",
   "execution_count": null,
   "id": "3efa0ed7",
   "metadata": {},
   "outputs": [],
   "source": []
  },
  {
   "cell_type": "code",
   "execution_count": null,
   "id": "e6455c6e",
   "metadata": {},
   "outputs": [],
   "source": []
  },
  {
   "cell_type": "code",
   "execution_count": null,
   "id": "fd87d6b4",
   "metadata": {},
   "outputs": [],
   "source": []
  },
  {
   "cell_type": "code",
   "execution_count": null,
   "id": "c7080f58",
   "metadata": {},
   "outputs": [],
   "source": []
  },
  {
   "cell_type": "markdown",
   "id": "f9e5bc93",
   "metadata": {},
   "source": [
    "### Replication"
   ]
  },
  {
   "cell_type": "code",
   "execution_count": 14,
   "id": "89008587",
   "metadata": {},
   "outputs": [
    {
     "data": {
      "text/plain": [
       "(5, 6, 7, 8, 9, 10, 5, 6, 7, 8, 9, 10, 5, 6, 7, 8, 9, 10)"
      ]
     },
     "execution_count": 14,
     "metadata": {},
     "output_type": "execute_result"
    }
   ],
   "source": [
    "tuple1*3"
   ]
  },
  {
   "cell_type": "code",
   "execution_count": null,
   "id": "cd6b5a3a",
   "metadata": {},
   "outputs": [],
   "source": []
  },
  {
   "cell_type": "markdown",
   "id": "013eb6d4",
   "metadata": {},
   "source": [
    "### Modify nested items of a tuple"
   ]
  },
  {
   "cell_type": "code",
   "execution_count": 17,
   "id": "56673a6b",
   "metadata": {},
   "outputs": [
    {
     "name": "stdout",
     "output_type": "stream",
     "text": [
      "(1, 2, 3, [9, 15, 7])\n"
     ]
    }
   ],
   "source": [
    "tuplex=(1,2,3,[9,8,7])\n",
    "\n",
    "tuplex[3][1]=15\n",
    "print(tuplex)"
   ]
  },
  {
   "cell_type": "code",
   "execution_count": null,
   "id": "9bdc75e5",
   "metadata": {},
   "outputs": [],
   "source": []
  },
  {
   "cell_type": "markdown",
   "id": "4fffc3d8",
   "metadata": {},
   "source": [
    "### Copy\n"
   ]
  },
  {
   "cell_type": "code",
   "execution_count": 21,
   "id": "228412c5",
   "metadata": {},
   "outputs": [
    {
     "name": "stdout",
     "output_type": "stream",
     "text": [
      "(1, 2, 3, 4, 5, 6, 5)\n"
     ]
    }
   ],
   "source": [
    "tuple1=(5,6,7,8,9,10)\n",
    "tuple2=(1,2,3,4,5,6,5)\n",
    "\n",
    "tuple1=tuple2\n",
    "\n",
    "print(tuple1) # this is a normal copy NOT A DEEP COPY any made on tuple2 will reflect on tuple1(c/z tuple is an immutable data type )"
   ]
  },
  {
   "cell_type": "code",
   "execution_count": 18,
   "id": "76dbefa3",
   "metadata": {},
   "outputs": [
    {
     "ename": "AttributeError",
     "evalue": "'tuple' object has no attribute 'copy'",
     "output_type": "error",
     "traceback": [
      "\u001b[1;31m---------------------------------------------------------------------------\u001b[0m",
      "\u001b[1;31mAttributeError\u001b[0m                            Traceback (most recent call last)",
      "Cell \u001b[1;32mIn[18], line 1\u001b[0m\n\u001b[1;32m----> 1\u001b[0m x\u001b[38;5;241m=\u001b[39mtuple1\u001b[38;5;241m.\u001b[39mcopy()\n",
      "\u001b[1;31mAttributeError\u001b[0m: 'tuple' object has no attribute 'copy'"
     ]
    }
   ],
   "source": [
    "x=tuple1.copy()"
   ]
  },
  {
   "cell_type": "code",
   "execution_count": null,
   "id": "4c881c3a",
   "metadata": {},
   "outputs": [],
   "source": []
  },
  {
   "cell_type": "code",
   "execution_count": null,
   "id": "afdd5aba",
   "metadata": {},
   "outputs": [],
   "source": []
  },
  {
   "cell_type": "code",
   "execution_count": null,
   "id": "86fea04a",
   "metadata": {},
   "outputs": [],
   "source": []
  }
 ],
 "metadata": {
  "kernelspec": {
   "display_name": "Python 3 (ipykernel)",
   "language": "python",
   "name": "python3"
  },
  "language_info": {
   "codemirror_mode": {
    "name": "ipython",
    "version": 3
   },
   "file_extension": ".py",
   "mimetype": "text/x-python",
   "name": "python",
   "nbconvert_exporter": "python",
   "pygments_lexer": "ipython3",
   "version": "3.11.3"
  }
 },
 "nbformat": 4,
 "nbformat_minor": 5
}
