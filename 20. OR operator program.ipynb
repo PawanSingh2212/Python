{
 "cells": [
  {
   "cell_type": "markdown",
   "id": "2c66307f",
   "metadata": {},
   "source": [
    "# Discounted shopping"
   ]
  },
  {
   "cell_type": "markdown",
   "id": "6f9bd1f0",
   "metadata": {},
   "source": [
    "- In an online store, you want to offer a discount on certain products. Explain how you would use the 'or' operator to apply a discount if either the product is in a specific  category or the coustmer is a premiuim member\n"
   ]
  },
  {
   "cell_type": "code",
   "execution_count": null,
   "id": "b0d57d2d",
   "metadata": {},
   "outputs": [],
   "source": []
  },
  {
   "cell_type": "markdown",
   "id": "e35f571a",
   "metadata": {},
   "source": [
    "# Music streamming service"
   ]
  },
  {
   "cell_type": "markdown",
   "id": "fc55a787",
   "metadata": {},
   "source": [
    "- When recommending music to user on an streamming platfrom , you want to suggest songs they might like. how could you use the \"or\" operator to recommend songs if they are either in the user's favorite genre or have a high rating "
   ]
  },
  {
   "cell_type": "markdown",
   "id": "46b23e48",
   "metadata": {},
   "source": []
  }
 ],
 "metadata": {
  "kernelspec": {
   "display_name": "Python 3 (ipykernel)",
   "language": "python",
   "name": "python3"
  },
  "language_info": {
   "codemirror_mode": {
    "name": "ipython",
    "version": 3
   },
   "file_extension": ".py",
   "mimetype": "text/x-python",
   "name": "python",
   "nbconvert_exporter": "python",
   "pygments_lexer": "ipython3",
   "version": "3.11.3"
  }
 },
 "nbformat": 4,
 "nbformat_minor": 5
}
