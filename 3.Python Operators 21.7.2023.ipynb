{
 "cells": [
  {
   "cell_type": "markdown",
   "id": "1da84f04",
   "metadata": {},
   "source": [
    "# Python operators"
   ]
  },
  {
   "cell_type": "markdown",
   "id": "e29619cb",
   "metadata": {},
   "source": [
    "Python has 7 types of operators \n",
    "\n",
    "- Arithemetic operator\n",
    "- Relational operators (comparision operator)\n",
    "- Assignment   \"\n",
    "- Logical      \"\n",
    "- Membership   \"\n",
    "- Identity     \"\n",
    "- Bitwise      \""
   ]
  },
  {
   "cell_type": "markdown",
   "id": "94c88471",
   "metadata": {},
   "source": [
    "## Arithmectic operators\n",
    "\n",
    "There are 7 types of AO\n",
    "\n",
    "- Addition (+)\n",
    "- Subtraction (-)\n",
    "- Division (/)\n",
    "- Multiplication (*)\n",
    "- Modulus (%)\n",
    "- Floor division (//)\n",
    "- Exponentiation (**)"
   ]
  },
  {
   "cell_type": "code",
   "execution_count": 1,
   "id": "90016db5",
   "metadata": {},
   "outputs": [
    {
     "data": {
      "text/plain": [
       "4.5"
      ]
     },
     "execution_count": 1,
     "metadata": {},
     "output_type": "execute_result"
    }
   ],
   "source": [
    "9/2"
   ]
  },
  {
   "cell_type": "code",
   "execution_count": 2,
   "id": "139e49b3",
   "metadata": {},
   "outputs": [
    {
     "data": {
      "text/plain": [
       "4"
      ]
     },
     "execution_count": 2,
     "metadata": {},
     "output_type": "execute_result"
    }
   ],
   "source": [
    "9//2"
   ]
  },
  {
   "cell_type": "code",
   "execution_count": 3,
   "id": "90e437ac",
   "metadata": {},
   "outputs": [
    {
     "data": {
      "text/plain": [
       "1"
      ]
     },
     "execution_count": 3,
     "metadata": {},
     "output_type": "execute_result"
    }
   ],
   "source": [
    "9%2"
   ]
  },
  {
   "cell_type": "code",
   "execution_count": 4,
   "id": "d149255c",
   "metadata": {},
   "outputs": [
    {
     "data": {
      "text/plain": [
       "8"
      ]
     },
     "execution_count": 4,
     "metadata": {},
     "output_type": "execute_result"
    }
   ],
   "source": [
    "2**3"
   ]
  },
  {
   "cell_type": "code",
   "execution_count": 5,
   "id": "6f746500",
   "metadata": {},
   "outputs": [
    {
     "data": {
      "text/plain": [
       "0.125"
      ]
     },
     "execution_count": 5,
     "metadata": {},
     "output_type": "execute_result"
    }
   ],
   "source": [
    "2**-3"
   ]
  },
  {
   "cell_type": "code",
   "execution_count": 6,
   "id": "1363fa50",
   "metadata": {},
   "outputs": [
    {
     "data": {
      "text/plain": [
       "6"
      ]
     },
     "execution_count": 6,
     "metadata": {},
     "output_type": "execute_result"
    }
   ],
   "source": [
    "2*3"
   ]
  },
  {
   "cell_type": "code",
   "execution_count": 9,
   "id": "173ca83f",
   "metadata": {},
   "outputs": [
    {
     "ename": "TypeError",
     "evalue": "unsupported operand type(s) for /: 'str' and 'int'",
     "output_type": "error",
     "traceback": [
      "\u001b[1;31m---------------------------------------------------------------------------\u001b[0m",
      "\u001b[1;31mTypeError\u001b[0m                                 Traceback (most recent call last)",
      "Cell \u001b[1;32mIn[9], line 1\u001b[0m\n\u001b[1;32m----> 1\u001b[0m \u001b[38;5;124m\"\u001b[39m\u001b[38;5;124mpawan\u001b[39m\u001b[38;5;124m\"\u001b[39m\u001b[38;5;241m/\u001b[39m\u001b[38;5;241m2\u001b[39m\n",
      "\u001b[1;31mTypeError\u001b[0m: unsupported operand type(s) for /: 'str' and 'int'"
     ]
    }
   ],
   "source": [
    "\"pawan\"/2"
   ]
  },
  {
   "cell_type": "code",
   "execution_count": 10,
   "id": "915b8d92",
   "metadata": {},
   "outputs": [
    {
     "ename": "TypeError",
     "evalue": "unsupported operand type(s) for //: 'str' and 'int'",
     "output_type": "error",
     "traceback": [
      "\u001b[1;31m---------------------------------------------------------------------------\u001b[0m",
      "\u001b[1;31mTypeError\u001b[0m                                 Traceback (most recent call last)",
      "Cell \u001b[1;32mIn[10], line 1\u001b[0m\n\u001b[1;32m----> 1\u001b[0m \u001b[38;5;124m\"\u001b[39m\u001b[38;5;124mpawan\u001b[39m\u001b[38;5;124m\"\u001b[39m\u001b[38;5;241m/\u001b[39m\u001b[38;5;241m/\u001b[39m\u001b[38;5;241m2\u001b[39m\n",
      "\u001b[1;31mTypeError\u001b[0m: unsupported operand type(s) for //: 'str' and 'int'"
     ]
    }
   ],
   "source": [
    "\"pawan\"//2"
   ]
  },
  {
   "cell_type": "code",
   "execution_count": 11,
   "id": "404ea839",
   "metadata": {},
   "outputs": [
    {
     "ename": "SyntaxError",
     "evalue": "unterminated string literal (detected at line 1) (1872444397.py, line 1)",
     "output_type": "error",
     "traceback": [
      "\u001b[1;36m  Cell \u001b[1;32mIn[11], line 1\u001b[1;36m\u001b[0m\n\u001b[1;33m    'pawan/2\u001b[0m\n\u001b[1;37m    ^\u001b[0m\n\u001b[1;31mSyntaxError\u001b[0m\u001b[1;31m:\u001b[0m unterminated string literal (detected at line 1)\n"
     ]
    }
   ],
   "source": [
    "'pawan/2"
   ]
  },
  {
   "cell_type": "code",
   "execution_count": 14,
   "id": "c5346543",
   "metadata": {},
   "outputs": [
    {
     "ename": "TypeError",
     "evalue": "unsupported operand type(s) for /: 'str' and 'int'",
     "output_type": "error",
     "traceback": [
      "\u001b[1;31m---------------------------------------------------------------------------\u001b[0m",
      "\u001b[1;31mTypeError\u001b[0m                                 Traceback (most recent call last)",
      "Cell \u001b[1;32mIn[14], line 1\u001b[0m\n\u001b[1;32m----> 1\u001b[0m \u001b[38;5;124m\"\u001b[39m\u001b[38;5;124mpawan\u001b[39m\u001b[38;5;124m\"\u001b[39m\u001b[38;5;241m/\u001b[39m\u001b[38;5;241m2\u001b[39m\n",
      "\u001b[1;31mTypeError\u001b[0m: unsupported operand type(s) for /: 'str' and 'int'"
     ]
    }
   ],
   "source": [
    "\"pawan\"/2"
   ]
  },
  {
   "cell_type": "markdown",
   "id": "1adad985",
   "metadata": {},
   "source": [
    "# Concatenation"
   ]
  },
  {
   "cell_type": "code",
   "execution_count": 16,
   "id": "d3518427",
   "metadata": {},
   "outputs": [
    {
     "data": {
      "text/plain": [
       "'pawantangariya'"
      ]
     },
     "execution_count": 16,
     "metadata": {},
     "output_type": "execute_result"
    }
   ],
   "source": [
    "\"pawan\"+\"tangariya\""
   ]
  },
  {
   "cell_type": "code",
   "execution_count": 17,
   "id": "85cf49f3",
   "metadata": {},
   "outputs": [
    {
     "name": "stdout",
     "output_type": "stream",
     "text": [
      "pawansingh\n"
     ]
    }
   ],
   "source": [
    "name=\"pawan\"\n",
    "surname=\"singh\"         #CONCATENATION (joining 2 strings)\n",
    "print(name+surname)"
   ]
  },
  {
   "cell_type": "code",
   "execution_count": 2,
   "id": "bb0f7f97",
   "metadata": {},
   "outputs": [
    {
     "name": "stdout",
     "output_type": "stream",
     "text": [
      "pawan           singh\n"
     ]
    }
   ],
   "source": [
    "name=\"pawan\"\n",
    "surname=\"singh\"\n",
    "print(name+\"           \"+surname)"
   ]
  },
  {
   "cell_type": "code",
   "execution_count": 25,
   "id": "8e0399e5",
   "metadata": {},
   "outputs": [
    {
     "name": "stdout",
     "output_type": "stream",
     "text": [
      "pawansingh\n"
     ]
    }
   ],
   "source": [
    "print(name  +  surname)"
   ]
  },
  {
   "cell_type": "code",
   "execution_count": 28,
   "id": "008ec426",
   "metadata": {},
   "outputs": [
    {
     "data": {
      "text/plain": [
       "'pawan      singh'"
      ]
     },
     "execution_count": 28,
     "metadata": {},
     "output_type": "execute_result"
    }
   ],
   "source": [
    "\"pawan   \" +  \"   singh\" "
   ]
  },
  {
   "cell_type": "markdown",
   "id": "21c26c91",
   "metadata": {},
   "source": [
    "# Replication"
   ]
  },
  {
   "cell_type": "code",
   "execution_count": 2,
   "id": "feff5c94",
   "metadata": {},
   "outputs": [],
   "source": [
    "pawan=20"
   ]
  },
  {
   "cell_type": "code",
   "execution_count": 3,
   "id": "f6ceb008",
   "metadata": {},
   "outputs": [
    {
     "data": {
      "text/plain": [
       "40"
      ]
     },
     "execution_count": 3,
     "metadata": {},
     "output_type": "execute_result"
    }
   ],
   "source": [
    "pawan*2"
   ]
  },
  {
   "cell_type": "code",
   "execution_count": 31,
   "id": "f51a5cd5",
   "metadata": {},
   "outputs": [
    {
     "data": {
      "text/plain": [
       "'pawanpawanpawanpawan'"
      ]
     },
     "execution_count": 31,
     "metadata": {},
     "output_type": "execute_result"
    }
   ],
   "source": [
    "\"pawan\"*4                              #strings can be multyplied"
   ]
  },
  {
   "cell_type": "code",
   "execution_count": 32,
   "id": "00567745",
   "metadata": {},
   "outputs": [
    {
     "data": {
      "text/plain": [
       "'pawan pawan pawan pawan '"
      ]
     },
     "execution_count": 32,
     "metadata": {},
     "output_type": "execute_result"
    }
   ],
   "source": [
    "\"pawan \"*4                          # after using space "
   ]
  },
  {
   "cell_type": "markdown",
   "id": "5d6d6afb",
   "metadata": {},
   "source": [
    "## Floor division //"
   ]
  },
  {
   "cell_type": "markdown",
   "id": "022a4c42",
   "metadata": {},
   "source": [
    "Floor division returns the quotient in which the digits after decimal point are removed. In simple terms , it is used to divide one value by a second value and gives a quotient as a round figure value to the next smallest whole value \n",
    "\n",
    "It works same as the division operator , except it return a possible integer .The // symbol denotes a floor division "
   ]
  },
  {
   "cell_type": "code",
   "execution_count": 1,
   "id": "ec1e5013",
   "metadata": {},
   "outputs": [
    {
     "data": {
      "text/plain": [
       "2.0"
      ]
     },
     "execution_count": 1,
     "metadata": {},
     "output_type": "execute_result"
    }
   ],
   "source": [
    "4/2"
   ]
  },
  {
   "cell_type": "code",
   "execution_count": 34,
   "id": "a0e6b45a",
   "metadata": {},
   "outputs": [
    {
     "data": {
      "text/plain": [
       "2"
      ]
     },
     "execution_count": 34,
     "metadata": {},
     "output_type": "execute_result"
    }
   ],
   "source": [
    "4//2"
   ]
  },
  {
   "cell_type": "code",
   "execution_count": 35,
   "id": "ab2be71e",
   "metadata": {},
   "outputs": [
    {
     "data": {
      "text/plain": [
       "4"
      ]
     },
     "execution_count": 35,
     "metadata": {},
     "output_type": "execute_result"
    }
   ],
   "source": [
    "9//2"
   ]
  },
  {
   "cell_type": "code",
   "execution_count": 36,
   "id": "4d0ac8b5",
   "metadata": {},
   "outputs": [
    {
     "data": {
      "text/plain": [
       "4"
      ]
     },
     "execution_count": 36,
     "metadata": {},
     "output_type": "execute_result"
    }
   ],
   "source": [
    "14//3"
   ]
  },
  {
   "cell_type": "code",
   "execution_count": 37,
   "id": "ca0a6ca4",
   "metadata": {},
   "outputs": [
    {
     "data": {
      "text/plain": [
       "0.0"
      ]
     },
     "execution_count": 37,
     "metadata": {},
     "output_type": "execute_result"
    }
   ],
   "source": [
    "5/5//3"
   ]
  },
  {
   "cell_type": "code",
   "execution_count": 38,
   "id": "39aa2cdc",
   "metadata": {},
   "outputs": [
    {
     "data": {
      "text/plain": [
       "1.6666666666666667"
      ]
     },
     "execution_count": 38,
     "metadata": {},
     "output_type": "execute_result"
    }
   ],
   "source": [
    "5/3"
   ]
  },
  {
   "cell_type": "code",
   "execution_count": 39,
   "id": "1d5f4cbf",
   "metadata": {},
   "outputs": [
    {
     "data": {
      "text/plain": [
       "1"
      ]
     },
     "execution_count": 39,
     "metadata": {},
     "output_type": "execute_result"
    }
   ],
   "source": [
    "5//3"
   ]
  },
  {
   "cell_type": "markdown",
   "id": "d644d77b",
   "metadata": {},
   "source": [
    "NOTE*   \n",
    "\n",
    "Floor division can perform both floating-point and integers .if both operands are int type then the result int type .If at least one operand float type ,then the result is a float type  (float type=decimal)"
   ]
  },
  {
   "cell_type": "code",
   "execution_count": 41,
   "id": "b12b12e5",
   "metadata": {},
   "outputs": [
    {
     "data": {
      "text/plain": [
       "4"
      ]
     },
     "execution_count": 41,
     "metadata": {},
     "output_type": "execute_result"
    }
   ],
   "source": [
    "9//2"
   ]
  },
  {
   "cell_type": "code",
   "execution_count": 43,
   "id": "6fbe6c6a",
   "metadata": {},
   "outputs": [
    {
     "data": {
      "text/plain": [
       "0.0"
      ]
     },
     "execution_count": 43,
     "metadata": {},
     "output_type": "execute_result"
    }
   ],
   "source": [
    ".45//2"
   ]
  },
  {
   "cell_type": "code",
   "execution_count": 44,
   "id": "9b6923b3",
   "metadata": {},
   "outputs": [
    {
     "data": {
      "text/plain": [
       "19.0"
      ]
     },
     "execution_count": 44,
     "metadata": {},
     "output_type": "execute_result"
    }
   ],
   "source": [
    "2//.1"
   ]
  },
  {
   "cell_type": "markdown",
   "id": "069caea5",
   "metadata": {},
   "source": [
    "#  Relational (comparison) Operators"
   ]
  },
  {
   "cell_type": "markdown",
   "id": "dcf17af8",
   "metadata": {},
   "source": [
    "1. greater than(>)\n",
    "2. less than(<)\n",
    "3. equal to  (==)\n",
    "4. not equal to(!=)\n",
    "5. greator than equal to(>=)\n",
    "6. less than euqal to (<=)"
   ]
  },
  {
   "cell_type": "code",
   "execution_count": 7,
   "id": "6bf6abff",
   "metadata": {},
   "outputs": [],
   "source": [
    "x=3;y=13"
   ]
  },
  {
   "cell_type": "code",
   "execution_count": 8,
   "id": "18d170b8",
   "metadata": {},
   "outputs": [
    {
     "data": {
      "text/plain": [
       "False"
      ]
     },
     "execution_count": 8,
     "metadata": {},
     "output_type": "execute_result"
    }
   ],
   "source": [
    "x>y   # grater than "
   ]
  },
  {
   "cell_type": "code",
   "execution_count": 9,
   "id": "5d622662",
   "metadata": {},
   "outputs": [
    {
     "data": {
      "text/plain": [
       "True"
      ]
     },
     "execution_count": 9,
     "metadata": {},
     "output_type": "execute_result"
    }
   ],
   "source": [
    "x<y    # less than"
   ]
  },
  {
   "cell_type": "code",
   "execution_count": 10,
   "id": "b2ddfd92",
   "metadata": {},
   "outputs": [
    {
     "data": {
      "text/plain": [
       "False"
      ]
     },
     "execution_count": 10,
     "metadata": {},
     "output_type": "execute_result"
    }
   ],
   "source": [
    "x==y    # equal to"
   ]
  },
  {
   "cell_type": "code",
   "execution_count": 11,
   "id": "e597f892",
   "metadata": {},
   "outputs": [
    {
     "data": {
      "text/plain": [
       "True"
      ]
     },
     "execution_count": 11,
     "metadata": {},
     "output_type": "execute_result"
    }
   ],
   "source": [
    "x!=y"
   ]
  },
  {
   "cell_type": "code",
   "execution_count": 12,
   "id": "f659689b",
   "metadata": {},
   "outputs": [
    {
     "data": {
      "text/plain": [
       "True"
      ]
     },
     "execution_count": 12,
     "metadata": {},
     "output_type": "execute_result"
    }
   ],
   "source": [
    "x<=y"
   ]
  },
  {
   "cell_type": "code",
   "execution_count": 13,
   "id": "1b30def3",
   "metadata": {},
   "outputs": [
    {
     "data": {
      "text/plain": [
       "False"
      ]
     },
     "execution_count": 13,
     "metadata": {},
     "output_type": "execute_result"
    }
   ],
   "source": [
    "x>=y"
   ]
  },
  {
   "cell_type": "markdown",
   "id": "64fa8fa4",
   "metadata": {},
   "source": [
    "# Assignment operators"
   ]
  },
  {
   "cell_type": "markdown",
   "id": "79716df2",
   "metadata": {},
   "source": [
    "1. Assign (=)\n",
    "2. add and assign (+=)             a+=5 (means a=a+5)\n",
    "3. subtract and assign (-=)        a-=5 (means a=a-5) \n",
    "4. multyply and assign (*=)        a*=5 (means a=a*5)\n",
    "5. divide and assign (/=)          a/=5 (means a=a/5)\n",
    "6. modulus and assign (%=)         a%=5  (means a=a%5)\n",
    "7. floor division and assign (//=) \n",
    "8. exponent and assign (**=)"
   ]
  },
  {
   "cell_type": "code",
   "execution_count": 14,
   "id": "2dd24cd2",
   "metadata": {},
   "outputs": [],
   "source": [
    "a=6;b=10 "
   ]
  },
  {
   "cell_type": "code",
   "execution_count": 15,
   "id": "f2a1410f",
   "metadata": {},
   "outputs": [
    {
     "name": "stdout",
     "output_type": "stream",
     "text": [
      "16\n"
     ]
    }
   ],
   "source": [
    "a+=b       # a=a+b ( where a=6,b=10)\n",
    "print(a)"
   ]
  },
  {
   "cell_type": "code",
   "execution_count": 16,
   "id": "f548c250",
   "metadata": {},
   "outputs": [
    {
     "name": "stdout",
     "output_type": "stream",
     "text": [
      "1.6\n"
     ]
    }
   ],
   "source": [
    "a/=b        #a=a/b    (where a=16,b=10)\n",
    "print(a)"
   ]
  },
  {
   "cell_type": "code",
   "execution_count": 17,
   "id": "bdcc9462",
   "metadata": {},
   "outputs": [
    {
     "name": "stdout",
     "output_type": "stream",
     "text": [
      "1.6\n"
     ]
    }
   ],
   "source": [
    "a%=b         # a=a%b\n",
    "print(a)"
   ]
  },
  {
   "cell_type": "code",
   "execution_count": 18,
   "id": "1f2827e7",
   "metadata": {},
   "outputs": [
    {
     "name": "stdout",
     "output_type": "stream",
     "text": [
      "11.6\n"
     ]
    }
   ],
   "source": [
    "b+=a       # b=b+a\n",
    "print(b)"
   ]
  },
  {
   "cell_type": "code",
   "execution_count": 19,
   "id": "a4d50eca",
   "metadata": {},
   "outputs": [
    {
     "name": "stdout",
     "output_type": "stream",
     "text": [
      "18.56\n"
     ]
    }
   ],
   "source": [
    "b*=a\n",
    "print( b)"
   ]
  },
  {
   "cell_type": "code",
   "execution_count": 2,
   "id": "7f7c68e2",
   "metadata": {},
   "outputs": [
    {
     "name": "stdout",
     "output_type": "stream",
     "text": [
      "pawansingh\n"
     ]
    }
   ],
   "source": [
    "A=\"pawan\"\n",
    "A+=\"singh\"\n",
    "print(A)\n"
   ]
  },
  {
   "cell_type": "code",
   "execution_count": 4,
   "id": "6fca1913",
   "metadata": {},
   "outputs": [
    {
     "name": "stdout",
     "output_type": "stream",
     "text": [
      "heypawan\n"
     ]
    }
   ],
   "source": [
    "greetings=\"hey\"\n",
    "greetings+=\"pawan\"      # greetings= greeetings+\"pawan\"\n",
    "print(greetings)"
   ]
  },
  {
   "cell_type": "code",
   "execution_count": 5,
   "id": "03714e44",
   "metadata": {},
   "outputs": [
    {
     "ename": "TypeError",
     "evalue": "unsupported operand type(s) for /=: 'str' and 'str'",
     "output_type": "error",
     "traceback": [
      "\u001b[1;31m---------------------------------------------------------------------------\u001b[0m",
      "\u001b[1;31mTypeError\u001b[0m                                 Traceback (most recent call last)",
      "Cell \u001b[1;32mIn[5], line 2\u001b[0m\n\u001b[0;32m      1\u001b[0m sky\u001b[38;5;241m=\u001b[39m\u001b[38;5;124m\"\u001b[39m\u001b[38;5;124mpawan\u001b[39m\u001b[38;5;124m\"\u001b[39m\n\u001b[1;32m----> 2\u001b[0m sky\u001b[38;5;241m/\u001b[39m\u001b[38;5;241m=\u001b[39m\u001b[38;5;124m\"\u001b[39m\u001b[38;5;124mhey\u001b[39m\u001b[38;5;124m\"\u001b[39m\n\u001b[0;32m      3\u001b[0m \u001b[38;5;28mprint\u001b[39m(sky)\n",
      "\u001b[1;31mTypeError\u001b[0m: unsupported operand type(s) for /=: 'str' and 'str'"
     ]
    }
   ],
   "source": [
    "sky=\"pawan\"\n",
    "sky/=\"hey\"                # only add and assign is used for strings\n",
    "print(sky)"
   ]
  },
  {
   "cell_type": "markdown",
   "id": "8596a515",
   "metadata": {},
   "source": [
    "# Logical operators "
   ]
  },
  {
   "cell_type": "code",
   "execution_count": null,
   "id": "59674b03-10e0-46ba-91ca-d7d81076d248",
   "metadata": {},
   "outputs": [],
   "source": [
    "1. and (Logical and )\n",
    "2. or (Logical or)\n",
    "3. not (Logical not)"
   ]
  },
  {
   "cell_type": "markdown",
   "id": "70f87e2a",
   "metadata": {},
   "source": [
    "## and (Logical and)"
   ]
  },
  {
   "cell_type": "markdown",
   "id": "d8b4b5c3",
   "metadata": {},
   "source": [
    "If any of the condition is False thans answer is False \n",
    "IF both are TRUE than answer is TRUE"
   ]
  },
  {
   "cell_type": "code",
   "execution_count": 27,
   "id": "4c2f0751",
   "metadata": {},
   "outputs": [
    {
     "name": "stdout",
     "output_type": "stream",
     "text": [
      "False\n"
     ]
    }
   ],
   "source": [
    "print(True and False)"
   ]
  },
  {
   "cell_type": "code",
   "execution_count": 24,
   "id": "2d9f4533",
   "metadata": {},
   "outputs": [
    {
     "name": "stdout",
     "output_type": "stream",
     "text": [
      "False\n"
     ]
    }
   ],
   "source": [
    "print(False and True)"
   ]
  },
  {
   "cell_type": "code",
   "execution_count": 29,
   "id": "0ce5508c",
   "metadata": {},
   "outputs": [
    {
     "name": "stdout",
     "output_type": "stream",
     "text": [
      "False\n"
     ]
    }
   ],
   "source": [
    "print(False and False)"
   ]
  },
  {
   "cell_type": "code",
   "execution_count": 28,
   "id": "533e396e",
   "metadata": {},
   "outputs": [
    {
     "name": "stdout",
     "output_type": "stream",
     "text": [
      "True\n"
     ]
    }
   ],
   "source": [
    "print (True and True)"
   ]
  },
  {
   "cell_type": "markdown",
   "id": "d97e88d8",
   "metadata": {},
   "source": [
    " #### IN case of arthematical values the answer is the second value"
   ]
  },
  {
   "cell_type": "code",
   "execution_count": 36,
   "id": "a7123536",
   "metadata": {},
   "outputs": [
    {
     "name": "stdout",
     "output_type": "stream",
     "text": [
      "20\n",
      "50\n",
      "60\n",
      "56\n"
     ]
    }
   ],
   "source": [
    "print(10 and 20)\n",
    "print(30 and 50) \n",
    "print(40 and 60)\n",
    "print(24 and 56)\n",
    " "
   ]
  },
  {
   "cell_type": "markdown",
   "id": "02d9c340",
   "metadata": {},
   "source": [
    "## or(Logical or)"
   ]
  },
  {
   "cell_type": "markdown",
   "id": "38a6a048",
   "metadata": {},
   "source": [
    "1. If any of the condition is True than answer is true \n",
    "2. If both are False than answer is False "
   ]
  },
  {
   "cell_type": "code",
   "execution_count": 30,
   "id": "4973e846",
   "metadata": {},
   "outputs": [
    {
     "name": "stdout",
     "output_type": "stream",
     "text": [
      "True\n"
     ]
    }
   ],
   "source": [
    "print(True or False)"
   ]
  },
  {
   "cell_type": "code",
   "execution_count": 31,
   "id": "b16bebeb",
   "metadata": {},
   "outputs": [
    {
     "name": "stdout",
     "output_type": "stream",
     "text": [
      "True\n"
     ]
    }
   ],
   "source": [
    "print(False or True)"
   ]
  },
  {
   "cell_type": "code",
   "execution_count": 32,
   "id": "586598b7",
   "metadata": {},
   "outputs": [
    {
     "name": "stdout",
     "output_type": "stream",
     "text": [
      "True\n"
     ]
    }
   ],
   "source": [
    "print(True or True)"
   ]
  },
  {
   "cell_type": "code",
   "execution_count": 33,
   "id": "b6a94e3b",
   "metadata": {},
   "outputs": [
    {
     "name": "stdout",
     "output_type": "stream",
     "text": [
      "False\n"
     ]
    }
   ],
   "source": [
    "print (False or False)"
   ]
  },
  {
   "cell_type": "markdown",
   "id": "1edeb92b",
   "metadata": {},
   "source": [
    "#### In case of Arethmatic values or gives the first value"
   ]
  },
  {
   "cell_type": "code",
   "execution_count": 37,
   "id": "13a775ba",
   "metadata": {},
   "outputs": [
    {
     "name": "stdout",
     "output_type": "stream",
     "text": [
      "10\n",
      "30\n",
      "50\n"
     ]
    }
   ],
   "source": [
    "print(10 or 20)\n",
    "print(30 or 50)\n",
    "print(50 or 30)"
   ]
  },
  {
   "cell_type": "markdown",
   "id": "00ff8d65",
   "metadata": {},
   "source": [
    "## not (Logical not)"
   ]
  },
  {
   "cell_type": "markdown",
   "id": "6f030f61",
   "metadata": {},
   "source": [
    "not operator gives contarary answer "
   ]
  },
  {
   "cell_type": "code",
   "execution_count": 39,
   "id": "e3e3b63a",
   "metadata": {},
   "outputs": [
    {
     "name": "stdout",
     "output_type": "stream",
     "text": [
      "False\n"
     ]
    }
   ],
   "source": [
    "print(not True)"
   ]
  },
  {
   "cell_type": "code",
   "execution_count": 41,
   "id": "d87c6007",
   "metadata": {},
   "outputs": [
    {
     "name": "stdout",
     "output_type": "stream",
     "text": [
      "True\n"
     ]
    }
   ],
   "source": [
    "print(not False)"
   ]
  },
  {
   "cell_type": "markdown",
   "id": "de3f8904",
   "metadata": {},
   "source": [
    "#### Not used for arthematical values or strings "
   ]
  },
  {
   "cell_type": "code",
   "execution_count": 7,
   "id": "8c253145",
   "metadata": {},
   "outputs": [
    {
     "ename": "SyntaxError",
     "evalue": "invalid syntax. Perhaps you forgot a comma? (600232622.py, line 1)",
     "output_type": "error",
     "traceback": [
      "\u001b[1;36m  Cell \u001b[1;32mIn[7], line 1\u001b[1;36m\u001b[0m\n\u001b[1;33m    print(10 not 20)\u001b[0m\n\u001b[1;37m          ^\u001b[0m\n\u001b[1;31mSyntaxError\u001b[0m\u001b[1;31m:\u001b[0m invalid syntax. Perhaps you forgot a comma?\n"
     ]
    }
   ],
   "source": [
    "print(10 not 20)"
   ]
  },
  {
   "cell_type": "code",
   "execution_count": 8,
   "id": "76f15945",
   "metadata": {},
   "outputs": [
    {
     "ename": "SyntaxError",
     "evalue": "invalid syntax. Perhaps you forgot a comma? (128264869.py, line 1)",
     "output_type": "error",
     "traceback": [
      "\u001b[1;36m  Cell \u001b[1;32mIn[8], line 1\u001b[1;36m\u001b[0m\n\u001b[1;33m    print(\"pawan\" not \"singh\")\u001b[0m\n\u001b[1;37m          ^\u001b[0m\n\u001b[1;31mSyntaxError\u001b[0m\u001b[1;31m:\u001b[0m invalid syntax. Perhaps you forgot a comma?\n"
     ]
    }
   ],
   "source": [
    "print(\"pawan\" not \"singh\")"
   ]
  },
  {
   "cell_type": "markdown",
   "id": "a96939c0",
   "metadata": {},
   "source": [
    "# Identity operators"
   ]
  },
  {
   "cell_type": "markdown",
   "id": "86e5b269",
   "metadata": {},
   "source": [
    "1. is \n",
    "2. is not\n",
    "   - it check whether two variables or objects share the same memory location or not "
   ]
  },
  {
   "cell_type": "code",
   "execution_count": 7,
   "id": "a7cb0ffc",
   "metadata": {},
   "outputs": [
    {
     "name": "stdout",
     "output_type": "stream",
     "text": [
      "140710490444936\n",
      "140710490444936\n",
      "True\n",
      "False\n"
     ]
    }
   ],
   "source": [
    "x=12\n",
    "y=12\n",
    "\n",
    "print(id(x))\n",
    "print(id(y))\n",
    "print(x is y )\n",
    "print(x is not y)"
   ]
  },
  {
   "cell_type": "code",
   "execution_count": 8,
   "id": "19f1aa5b",
   "metadata": {},
   "outputs": [
    {
     "data": {
      "text/plain": [
       "True"
      ]
     },
     "execution_count": 8,
     "metadata": {},
     "output_type": "execute_result"
    }
   ],
   "source": [
    "x==y\n"
   ]
  },
  {
   "cell_type": "code",
   "execution_count": 9,
   "id": "653debdd",
   "metadata": {},
   "outputs": [
    {
     "data": {
      "text/plain": [
       "False"
      ]
     },
     "execution_count": 9,
     "metadata": {},
     "output_type": "execute_result"
    }
   ],
   "source": [
    "x!=y"
   ]
  },
  {
   "cell_type": "code",
   "execution_count": 59,
   "id": "6225096e",
   "metadata": {},
   "outputs": [
    {
     "name": "stdout",
     "output_type": "stream",
     "text": [
      "140719166887048\n",
      "2585226436224\n"
     ]
    }
   ],
   "source": [
    "g=12\n",
    "h=[12]\n",
    "print(id(g))\n",
    "print(id(h))"
   ]
  },
  {
   "cell_type": "code",
   "execution_count": 60,
   "id": "7d3fa502",
   "metadata": {},
   "outputs": [
    {
     "name": "stdout",
     "output_type": "stream",
     "text": [
      "False\n",
      "True\n"
     ]
    }
   ],
   "source": [
    "print(h is g)\n",
    "print(g is not h)"
   ]
  },
  {
   "cell_type": "code",
   "execution_count": 64,
   "id": "cfe6ee20",
   "metadata": {},
   "outputs": [
    {
     "name": "stdout",
     "output_type": "stream",
     "text": [
      "2585183270912\n",
      "140719166886760\n"
     ]
    }
   ],
   "source": [
    "g=[1,23,3,4,24,]\n",
    "h=3\n",
    "print(id(g))\n",
    "print(id(h))"
   ]
  },
  {
   "cell_type": "code",
   "execution_count": 65,
   "id": "628d04bd",
   "metadata": {},
   "outputs": [
    {
     "name": "stdout",
     "output_type": "stream",
     "text": [
      "False\n",
      "True\n"
     ]
    }
   ],
   "source": [
    "print(h is g)\n",
    "print(g is not h)"
   ]
  },
  {
   "cell_type": "code",
   "execution_count": 66,
   "id": "aaf1ccaa",
   "metadata": {},
   "outputs": [
    {
     "name": "stdout",
     "output_type": "stream",
     "text": [
      "True\n"
     ]
    },
    {
     "ename": "TypeError",
     "evalue": "argument of type 'int' is not iterable",
     "output_type": "error",
     "traceback": [
      "\u001b[1;31m---------------------------------------------------------------------------\u001b[0m",
      "\u001b[1;31mTypeError\u001b[0m                                 Traceback (most recent call last)",
      "Cell \u001b[1;32mIn[66], line 2\u001b[0m\n\u001b[0;32m      1\u001b[0m \u001b[38;5;28mprint\u001b[39m(h \u001b[38;5;129;01min\u001b[39;00m g)\n\u001b[1;32m----> 2\u001b[0m \u001b[38;5;28mprint\u001b[39m(g \u001b[38;5;129;01mnot\u001b[39;00m \u001b[38;5;129;01min\u001b[39;00m h)\n",
      "\u001b[1;31mTypeError\u001b[0m: argument of type 'int' is not iterable"
     ]
    }
   ],
   "source": [
    "print(h in g)\n",
    "print(g not in h)"
   ]
  },
  {
   "cell_type": "markdown",
   "id": "b24beef1",
   "metadata": {},
   "source": [
    "# membership operators "
   ]
  },
  {
   "cell_type": "code",
   "execution_count": null,
   "id": "0fa1d677",
   "metadata": {},
   "outputs": [],
   "source": [
    "# Membership Operators       (in   not in) \n",
    "# Membership operators check whether a value is present in a sequence of values\n",
    "# Sequence- strings,lists,tuples\n"
   ]
  },
  {
   "cell_type": "code",
   "execution_count": 18,
   "id": "79bd6a88",
   "metadata": {},
   "outputs": [],
   "source": [
    "a= \"Data science\"\n",
    "b= \"Data\"\n"
   ]
  },
  {
   "cell_type": "code",
   "execution_count": 69,
   "id": "7043412c",
   "metadata": {},
   "outputs": [
    {
     "name": "stdout",
     "output_type": "stream",
     "text": [
      "True\n",
      "False\n"
     ]
    }
   ],
   "source": [
    "print(b in a)\n",
    "print(a in b)"
   ]
  },
  {
   "cell_type": "code",
   "execution_count": 21,
   "id": "7c6ef7fc",
   "metadata": {},
   "outputs": [
    {
     "data": {
      "text/plain": [
       "False"
      ]
     },
     "execution_count": 21,
     "metadata": {},
     "output_type": "execute_result"
    }
   ],
   "source": [
    "b in a\n",
    "a in b             # it will only read the last one if we don't use print func.(python is a left to right language)"
   ]
  },
  {
   "cell_type": "code",
   "execution_count": 22,
   "id": "6eac4059",
   "metadata": {},
   "outputs": [
    {
     "name": "stdout",
     "output_type": "stream",
     "text": [
      "True\n",
      "False\n"
     ]
    }
   ],
   "source": [
    "print(b in a)\n",
    "print(a in b)"
   ]
  },
  {
   "cell_type": "code",
   "execution_count": 23,
   "id": "5288a95a",
   "metadata": {},
   "outputs": [
    {
     "data": {
      "text/plain": [
       "False"
      ]
     },
     "execution_count": 23,
     "metadata": {},
     "output_type": "execute_result"
    }
   ],
   "source": [
    "b in a;a in b"
   ]
  },
  {
   "cell_type": "code",
   "execution_count": 24,
   "id": "fe03ade2",
   "metadata": {},
   "outputs": [],
   "source": [
    "c=[1,2,3,5,6]\n",
    "d=[3]"
   ]
  },
  {
   "cell_type": "code",
   "execution_count": 25,
   "id": "30e95bdb",
   "metadata": {},
   "outputs": [
    {
     "name": "stdout",
     "output_type": "stream",
     "text": [
      "False\n"
     ]
    }
   ],
   "source": [
    " print(d in c)\n"
   ]
  },
  {
   "cell_type": "code",
   "execution_count": 68,
   "id": "398ccf95",
   "metadata": {},
   "outputs": [
    {
     "name": "stdout",
     "output_type": "stream",
     "text": [
      "False\n",
      "False\n",
      "True\n"
     ]
    }
   ],
   "source": [
    "print(c in d)\n",
    "print(d in c)\n",
    "print(d not in c)"
   ]
  },
  {
   "cell_type": "code",
   "execution_count": 4,
   "id": "9ba77340",
   "metadata": {},
   "outputs": [],
   "source": [
    "d=[1,2,3,4]\n",
    "c=[2]"
   ]
  },
  {
   "cell_type": "code",
   "execution_count": 9,
   "id": "94f39efa",
   "metadata": {},
   "outputs": [
    {
     "name": "stdout",
     "output_type": "stream",
     "text": [
      "False\n"
     ]
    }
   ],
   "source": [
    "print(d in c)\n"
   ]
  },
  {
   "cell_type": "code",
   "execution_count": 8,
   "id": "348b8f8d",
   "metadata": {},
   "outputs": [
    {
     "name": "stdout",
     "output_type": "stream",
     "text": [
      "False\n"
     ]
    }
   ],
   "source": [
    "print(c in d)"
   ]
  },
  {
   "cell_type": "code",
   "execution_count": 2,
   "id": "f8cf2088",
   "metadata": {},
   "outputs": [],
   "source": [
    "y=[1,2,3,4]   \n",
    "x=4          "
   ]
  },
  {
   "cell_type": "code",
   "execution_count": 3,
   "id": "baadd23f",
   "metadata": {},
   "outputs": [
    {
     "ename": "TypeError",
     "evalue": "argument of type 'int' is not iterable",
     "output_type": "error",
     "traceback": [
      "\u001b[1;31m---------------------------------------------------------------------------\u001b[0m",
      "\u001b[1;31mTypeError\u001b[0m                                 Traceback (most recent call last)",
      "Cell \u001b[1;32mIn[3], line 1\u001b[0m\n\u001b[1;32m----> 1\u001b[0m \u001b[38;5;28mprint\u001b[39m(y \u001b[38;5;129;01min\u001b[39;00m x)\n",
      "\u001b[1;31mTypeError\u001b[0m: argument of type 'int' is not iterable"
     ]
    }
   ],
   "source": [
    "print(y in x)"
   ]
  },
  {
   "cell_type": "code",
   "execution_count": 6,
   "id": "cb24709d",
   "metadata": {},
   "outputs": [
    {
     "name": "stdout",
     "output_type": "stream",
     "text": [
      "True\n"
     ]
    },
    {
     "ename": "TypeError",
     "evalue": "argument of type 'int' is not iterable",
     "output_type": "error",
     "traceback": [
      "\u001b[1;31m---------------------------------------------------------------------------\u001b[0m",
      "\u001b[1;31mTypeError\u001b[0m                                 Traceback (most recent call last)",
      "Cell \u001b[1;32mIn[6], line 2\u001b[0m\n\u001b[0;32m      1\u001b[0m \u001b[38;5;28mprint\u001b[39m(x \u001b[38;5;129;01min\u001b[39;00m y)\n\u001b[1;32m----> 2\u001b[0m \u001b[38;5;28mprint\u001b[39m(y \u001b[38;5;129;01mnot\u001b[39;00m \u001b[38;5;129;01min\u001b[39;00m x)\n\u001b[0;32m      3\u001b[0m \u001b[38;5;28mprint\u001b[39m(y \u001b[38;5;129;01min\u001b[39;00m x)\n",
      "\u001b[1;31mTypeError\u001b[0m: argument of type 'int' is not iterable"
     ]
    }
   ],
   "source": [
    "print(x in y)\n",
    "print(y not in x)\n",
    "print(y in x)"
   ]
  },
  {
   "cell_type": "code",
   "execution_count": 49,
   "id": "57023b9e",
   "metadata": {},
   "outputs": [
    {
     "name": "stdout",
     "output_type": "stream",
     "text": [
      "True\n"
     ]
    },
    {
     "ename": "TypeError",
     "evalue": "argument of type 'int' is not iterable",
     "output_type": "error",
     "traceback": [
      "\u001b[1;31m---------------------------------------------------------------------------\u001b[0m",
      "\u001b[1;31mTypeError\u001b[0m                                 Traceback (most recent call last)",
      "Cell \u001b[1;32mIn[49], line 2\u001b[0m\n\u001b[0;32m      1\u001b[0m \u001b[38;5;28mprint\u001b[39m(x \u001b[38;5;129;01min\u001b[39;00m y)\n\u001b[1;32m----> 2\u001b[0m \u001b[38;5;28mprint\u001b[39m(y \u001b[38;5;129;01min\u001b[39;00m x)\n",
      "\u001b[1;31mTypeError\u001b[0m: argument of type 'int' is not iterable"
     ]
    }
   ],
   "source": [
    "print(x in y)\n",
    "print(y in x)"
   ]
  },
  {
   "cell_type": "code",
   "execution_count": 3,
   "id": "d4eee6fe",
   "metadata": {},
   "outputs": [],
   "source": [
    "y=1,2,3,4,5\n",
    "p=1,2"
   ]
  },
  {
   "cell_type": "code",
   "execution_count": 4,
   "id": "59628b73",
   "metadata": {},
   "outputs": [
    {
     "name": "stdout",
     "output_type": "stream",
     "text": [
      "False\n",
      "True\n",
      "False\n",
      "True\n"
     ]
    }
   ],
   "source": [
    "print(y in p)\n",
    "print(y not in p)\n",
    "print(p in y)\n",
    "print(p not in y)"
   ]
  },
  {
   "cell_type": "code",
   "execution_count": 6,
   "id": "03d26621",
   "metadata": {},
   "outputs": [
    {
     "name": "stdout",
     "output_type": "stream",
     "text": [
      "False\n",
      "True\n",
      "False\n",
      "True\n"
     ]
    }
   ],
   "source": [
    "u=5,9,7,0\n",
    "r=[5]\n",
    "print(u in r)\n",
    "print(r not in u)\n",
    "print(r in u)\n",
    "print(u not in r)\n"
   ]
  },
  {
   "cell_type": "code",
   "execution_count": 1,
   "id": "13d04e0d",
   "metadata": {},
   "outputs": [
    {
     "name": "stdout",
     "output_type": "stream",
     "text": [
      "no\n"
     ]
    }
   ],
   "source": [
    "my_list=[13,45,68,34]\n",
    "number=12\n",
    "if number in my_list:\n",
    "    print('cool')\n",
    "else:\n",
    "    print('no')"
   ]
  },
  {
   "cell_type": "code",
   "execution_count": 5,
   "id": "cc0fe831",
   "metadata": {},
   "outputs": [
    {
     "name": "stdout",
     "output_type": "stream",
     "text": [
      "no. is present\n"
     ]
    }
   ],
   "source": [
    "my_list=[13,45,68,34]\n",
    "number=45\n",
    "if number in my_list:\n",
    "    print('no. is present')\n",
    "else:\n",
    "    print('no. is not present')"
   ]
  },
  {
   "cell_type": "markdown",
   "id": "28088848",
   "metadata": {},
   "source": [
    "# Bitwise operators"
   ]
  },
  {
   "cell_type": "markdown",
   "id": "979eb2f1",
   "metadata": {},
   "source": [
    "1.&-bitwise and \n",
    "2.|- bitwise or\n",
    "3.^- bitwise XOR \n",
    "4.~- bitwise not\n",
    "5.<< left shift\n",
    "6.>> right shift \n",
    "\n",
    "  ### not used in data science "
   ]
  },
  {
   "cell_type": "code",
   "execution_count": null,
   "id": "f375395c",
   "metadata": {},
   "outputs": [],
   "source": []
  }
 ],
 "metadata": {
  "kernelspec": {
   "display_name": "Python 3 (ipykernel)",
   "language": "python",
   "name": "python3"
  },
  "language_info": {
   "codemirror_mode": {
    "name": "ipython",
    "version": 3
   },
   "file_extension": ".py",
   "mimetype": "text/x-python",
   "name": "python",
   "nbconvert_exporter": "python",
   "pygments_lexer": "ipython3",
   "version": "3.11.7"
  }
 },
 "nbformat": 4,
 "nbformat_minor": 5
}
