{
 "cells": [
  {
   "cell_type": "markdown",
   "id": "f64ce528",
   "metadata": {},
   "source": [
    "# Recursive functon\n",
    "\n",
    "A  recursive function is a function that call itself again and again.\n",
    "    This allows the function to solve a problem by breaking it down  into smaller, more manageble sub problem "
   ]
  },
  {
   "cell_type": "markdown",
   "id": "ad2540b2",
   "metadata": {},
   "source": [
    "Each recursive call should reduce the original problem towards a base casse which is a condition that signals the function to stop calling itself and start returning values.\n",
    "\n",
    "Without base case the recursive function would continue calling itself indefinitely, and lead to stack overflow"
   ]
  },
  {
   "cell_type": "code",
   "execution_count": null,
   "id": "b30b544d",
   "metadata": {},
   "outputs": [],
   "source": []
  },
  {
   "cell_type": "code",
   "execution_count": 1,
   "id": "70dfefbb",
   "metadata": {},
   "outputs": [
    {
     "data": {
      "text/plain": [
       "720"
      ]
     },
     "execution_count": 1,
     "metadata": {},
     "output_type": "execute_result"
    }
   ],
   "source": [
    "def factorial(n):\n",
    "    if n==0:\n",
    "        return 1\n",
    "    else:\n",
    "        return n*factorial(n-1)\n",
    "    \n",
    "factorial(6)"
   ]
  },
  {
   "cell_type": "code",
   "execution_count": 2,
   "id": "386a6bfc",
   "metadata": {},
   "outputs": [
    {
     "data": {
      "text/plain": [
       "12146304367025329675766243241881295855454217088483382315328918161829235892362167668831156960612640202170735835221294047782591091570411651472186029519906261646730733907419814952960000000000000000000000000000"
      ]
     },
     "execution_count": 2,
     "metadata": {},
     "output_type": "execute_result"
    }
   ],
   "source": [
    "def factorial(n):\n",
    "    if n==0:\n",
    "        return 1\n",
    "    else:\n",
    "        return n*factorial(n-1)\n",
    "    \n",
    "factorial(123)"
   ]
  },
  {
   "cell_type": "code",
   "execution_count": null,
   "id": "edbf0c45",
   "metadata": {},
   "outputs": [],
   "source": []
  },
  {
   "cell_type": "markdown",
   "id": "520454e7",
   "metadata": {},
   "source": [
    "# Fibonacci sequence \n",
    "\n"
   ]
  },
  {
   "cell_type": "markdown",
   "id": "c3eb5bf4",
   "metadata": {},
   "source": [
    "fibonacci sequence is a sequence in which each number is the sum of the two preceding numbers that are part of the fibonacci numbers commonly denoted by Fn\n",
    "\n",
    "0,1,1,2,3,5,8,13,21,34,55,89,..."
   ]
  },
  {
   "cell_type": "code",
   "execution_count": 1,
   "id": "e535743f",
   "metadata": {},
   "outputs": [
    {
     "data": {
      "text/plain": [
       "13"
      ]
     },
     "execution_count": 1,
     "metadata": {},
     "output_type": "execute_result"
    }
   ],
   "source": [
    "def fibonacci(n):\n",
    "    if n<=1:\n",
    "        return n\n",
    "    else:\n",
    "        \n",
    "        return fibonacci(n-1)+ fibonacci(n-2)\n",
    "fibonacci(7)\n"
   ]
  },
  {
   "cell_type": "code",
   "execution_count": null,
   "id": "a205a777",
   "metadata": {},
   "outputs": [],
   "source": []
  },
  {
   "cell_type": "markdown",
   "id": "59042966",
   "metadata": {},
   "source": [
    "## Countdown"
   ]
  },
  {
   "cell_type": "code",
   "execution_count": 3,
   "id": "2ef64bb8",
   "metadata": {},
   "outputs": [
    {
     "name": "stdout",
     "output_type": "stream",
     "text": [
      "10\n",
      "9\n",
      "8\n",
      "7\n",
      "6\n",
      "5\n",
      "4\n",
      "3\n",
      "2\n",
      "1\n",
      "done\n"
     ]
    }
   ],
   "source": [
    "def countdown(n):\n",
    "    if n<=0:\n",
    "        print('done')\n",
    "    else:\n",
    "        print(n)\n",
    "        countdown(n-1)\n",
    "        \n",
    "countdown(10)"
   ]
  },
  {
   "cell_type": "code",
   "execution_count": null,
   "id": "4b686f0c",
   "metadata": {},
   "outputs": [],
   "source": []
  },
  {
   "cell_type": "code",
   "execution_count": null,
   "id": "04cee0bb",
   "metadata": {},
   "outputs": [],
   "source": [
    "def sum_of_digits(n):\n",
    "    if n<10:\n",
    "        return n\n",
    "    else:\n",
    "        \n",
    "result()"
   ]
  },
  {
   "cell_type": "code",
   "execution_count": null,
   "id": "1676b886",
   "metadata": {},
   "outputs": [],
   "source": []
  },
  {
   "cell_type": "markdown",
   "id": "d086fc19",
   "metadata": {},
   "source": [
    "# lambda function"
   ]
  },
  {
   "cell_type": "markdown",
   "id": "a94d3070",
   "metadata": {},
   "source": [
    "lambda function are typically used for short simple operation and are often employed as an agrements higher order function like map(),filter(),reduce(),sorted()"
   ]
  },
  {
   "cell_type": "code",
   "execution_count": 1,
   "id": "36f63ece",
   "metadata": {},
   "outputs": [
    {
     "name": "stdout",
     "output_type": "stream",
     "text": [
      "8\n"
     ]
    }
   ],
   "source": [
    "add=lambda x,y : x+y\n",
    "print(add(3,5))"
   ]
  },
  {
   "cell_type": "code",
   "execution_count": 4,
   "id": "ece8e32e",
   "metadata": {},
   "outputs": [
    {
     "name": "stdout",
     "output_type": "stream",
     "text": [
      "8.0\n"
     ]
    }
   ],
   "source": [
    "integers= lambda x,y,z : x*y+z/x\n",
    "print(integers(2,3,4))"
   ]
  },
  {
   "cell_type": "code",
   "execution_count": 6,
   "id": "b74ed74a",
   "metadata": {},
   "outputs": [
    {
     "name": "stdout",
     "output_type": "stream",
     "text": [
      "[10, 12, 16, 18]\n"
     ]
    }
   ],
   "source": [
    "# Even numbers in a list:\n",
    "list1=[10,5,12,16,9,3,18]\n",
    "even=list(filter(lambda x:x%2==0,list1))\n",
    "print(even)"
   ]
  },
  {
   "cell_type": "code",
   "execution_count": 7,
   "id": "9a3f864b",
   "metadata": {},
   "outputs": [
    {
     "name": "stdout",
     "output_type": "stream",
     "text": [
      "4\n"
     ]
    }
   ],
   "source": [
    "# Lambda function thart squares the input()\n",
    "\n",
    "square= lambda x:x**2\n",
    "print(square(2))"
   ]
  },
  {
   "cell_type": "code",
   "execution_count": 13,
   "id": "b88dfa07",
   "metadata": {},
   "outputs": [
    {
     "name": "stdout",
     "output_type": "stream",
     "text": [
      "<function <lambda> at 0x0000022F897E5080>\n"
     ]
    }
   ],
   "source": [
    "# Lambda function with no arguments \n",
    "\n",
    "constant_func=lambda:80\n",
    "print(constant_func)"
   ]
  },
  {
   "cell_type": "code",
   "execution_count": 18,
   "id": "190a09e8",
   "metadata": {},
   "outputs": [
    {
     "name": "stdout",
     "output_type": "stream",
     "text": [
      "[(5, 0), (0, 0), (3, 1), (1, 2), (4, 5)]\n"
     ]
    }
   ],
   "source": [
    "# lambda function for sorting a list of tuples by the second point\n",
    "\n",
    "points=[(1,2),(3,1),(5,0),(0,0),(4,5)]\n",
    "sorted_points=sorted(points,key=lambda x:x[1])\n",
    "print(sorted_points)"
   ]
  },
  {
   "cell_type": "code",
   "execution_count": 17,
   "id": "f6a67a80",
   "metadata": {},
   "outputs": [
    {
     "ename": "SyntaxError",
     "evalue": "positional argument follows keyword argument (2124737992.py, line 2)",
     "output_type": "error",
     "traceback": [
      "\u001b[1;36m  Cell \u001b[1;32mIn[17], line 2\u001b[1;36m\u001b[0m\n\u001b[1;33m    sorted_points=sorted(key=lambda x:x[1],points)\u001b[0m\n\u001b[1;37m                                                 ^\u001b[0m\n\u001b[1;31mSyntaxError\u001b[0m\u001b[1;31m:\u001b[0m positional argument follows keyword argument\n"
     ]
    }
   ],
   "source": [
    "points=[(1,2),(3,1),(5,0),(0,0),(4,5)]\n",
    "sorted_points=sorted(key=lambda x:x[1],points)\n",
    "print(sorted_points)"
   ]
  },
  {
   "cell_type": "code",
   "execution_count": 19,
   "id": "9ae9cdf8",
   "metadata": {},
   "outputs": [
    {
     "name": "stdout",
     "output_type": "stream",
     "text": [
      "16\n"
     ]
    }
   ],
   "source": [
    "# define a higher order function that applies a function to a number \n",
    "\n",
    "def apply_operator(operation,x):\n",
    "    return operation(x)\n",
    "# use lambda function to square a number\n",
    "\n",
    "print(apply_operator(lambda x:x**2,4))  # operation lambda is argument "
   ]
  },
  {
   "cell_type": "code",
   "execution_count": null,
   "id": "71887a5e",
   "metadata": {},
   "outputs": [],
   "source": []
  },
  {
   "cell_type": "code",
   "execution_count": 23,
   "id": "48cc8061",
   "metadata": {},
   "outputs": [
    {
     "name": "stdout",
     "output_type": "stream",
     "text": [
      "printing\n",
      "0\n",
      "printing\n",
      "1\n",
      "printing\n",
      "printing\n",
      "3\n"
     ]
    }
   ],
   "source": [
    "for i in range(4):\n",
    "    print('printing')\n",
    "    if i==2:\n",
    "        continue\n",
    "    print(i)"
   ]
  },
  {
   "cell_type": "code",
   "execution_count": 1,
   "id": "41442a53",
   "metadata": {},
   "outputs": [
    {
     "name": "stdout",
     "output_type": "stream",
     "text": [
      "sad😭\n"
     ]
    }
   ],
   "source": [
    "mood=\"sad😭\"\n",
    "\n",
    "print(mood)"
   ]
  },
  {
   "cell_type": "code",
   "execution_count": null,
   "id": "2edfb834",
   "metadata": {},
   "outputs": [],
   "source": []
  },
  {
   "cell_type": "markdown",
   "id": "66854821",
   "metadata": {},
   "source": [
    "# F string"
   ]
  },
  {
   "cell_type": "code",
   "execution_count": 2,
   "id": "bfe1286f",
   "metadata": {},
   "outputs": [
    {
     "name": "stdout",
     "output_type": "stream",
     "text": [
      "move disk1 from1 to 3\n",
      "move disk2 from 1 to 2\n",
      "move disk1 from3 to 2\n",
      "move disk3 from 1 to 3\n",
      "move disk1 from2 to 1\n",
      "move disk2 from 2 to 3\n",
      "move disk1 from1 to 3\n"
     ]
    }
   ],
   "source": [
    "def tower_of_hanoi(n,source,auxilary,target):\n",
    "    if n==1:\n",
    "        print(f\"move disk1 from{source} to {target}\")\n",
    "    else:\n",
    "        tower_of_hanoi(n-1,source,target,auxilary)\n",
    "        print(f\"move disk{n} from {source} to {target}\")\n",
    "        tower_of_hanoi(n-1,auxilary,source,target)\n",
    "              \n",
    "tower_of_hanoi(3,1,2,3)"
   ]
  },
  {
   "cell_type": "code",
   "execution_count": null,
   "id": "627268ef",
   "metadata": {},
   "outputs": [],
   "source": []
  }
 ],
 "metadata": {
  "kernelspec": {
   "display_name": "Python 3 (ipykernel)",
   "language": "python",
   "name": "python3"
  },
  "language_info": {
   "codemirror_mode": {
    "name": "ipython",
    "version": 3
   },
   "file_extension": ".py",
   "mimetype": "text/x-python",
   "name": "python",
   "nbconvert_exporter": "python",
   "pygments_lexer": "ipython3",
   "version": "3.11.3"
  }
 },
 "nbformat": 4,
 "nbformat_minor": 5
}
