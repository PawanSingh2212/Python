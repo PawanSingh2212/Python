{
 "cells": [
  {
   "cell_type": "markdown",
   "id": "219d61ee",
   "metadata": {},
   "source": [
    "### kichdi"
   ]
  },
  {
   "cell_type": "code",
   "execution_count": null,
   "id": "c218e024",
   "metadata": {},
   "outputs": [],
   "source": [
    "# program name-khicri preparation process\n",
    "# process and parameter-rice,rice variety,spice an their type , stove,\n",
    "# dal variety, curd, required utensil , carrot availability,taste etc"
   ]
  },
  {
   "cell_type": "code",
   "execution_count": 3,
   "id": "2805287e",
   "metadata": {},
   "outputs": [
    {
     "name": "stdout",
     "output_type": "stream",
     "text": [
      "lets make khicdi with python\n",
      "select rice type\n",
      "\n",
      "\n",
      "['basmati', 'sarbati', 'angori', 'parmal']\n",
      "\n",
      "\n",
      "choose rice type 1\n",
      "you choose basmati for khichdi\n",
      "chose water level for rice in l1l\n",
      "1l\n",
      "match not found\n"
     ]
    }
   ],
   "source": [
    "print('lets make khicdi with python')\n",
    "print('select rice type')\n",
    "print('\\n')\n",
    "Rice=['basmati','sarbati','angori','parmal']\n",
    "water_level=['1l','1.5l','2l','2.5l']\n",
    "print(Rice)\n",
    "print('\\n')\n",
    "select_rice=int(input('choose rice type '))\n",
    "for i in [select_rice]:\n",
    "    if i==1:\n",
    "        print('you choose basmati for khichdi')\n",
    "        water=print(input('chose water level for rice in l'))\n",
    "        if i in [water]!=water_level:\n",
    "            print('please enter valid water level')\n",
    "    if i==2:\n",
    "        print('you choose sarbati')\n",
    "        print(input('choose water level'))\n",
    "    if i==3:\n",
    "        print('you choose angori')\n",
    "        print(input('choose water level for rice'))\n",
    "    if i==4:\n",
    "        print('you choose parmal')\n",
    "        print(input('choose water level for rice'))\n",
    "    else:\n",
    "        print('match not found')\n",
    "        \n"
   ]
  },
  {
   "cell_type": "code",
   "execution_count": null,
   "id": "9afb5608",
   "metadata": {},
   "outputs": [],
   "source": []
  },
  {
   "cell_type": "code",
   "execution_count": 6,
   "id": "170a26f3",
   "metadata": {},
   "outputs": [
    {
     "name": "stdout",
     "output_type": "stream",
     "text": [
      "lets make khicdi with python\n",
      "select rice type\n",
      "\n",
      "\n",
      "['basmati', 'sarbati', 'angori', 'parmal']\n",
      "\n",
      "\n",
      "choose rice type 1\n",
      "you choose basmati for khichdi\n",
      "chose water level for rice in l23\n",
      "23\n",
      "please enter valid water level\n"
     ]
    }
   ],
   "source": [
    "print('lets make khicdi with python')\n",
    "print('select rice type')\n",
    "print('\\n')\n",
    "Rice=['basmati','sarbati','angori','parmal']\n",
    "water_level=['1l','1.5l','2l','2.5l']\n",
    "print(Rice)\n",
    "print('\\n')\n",
    "select_rice=int(input('choose rice type '))\n",
    "for i in [select_rice]:\n",
    "    if i==1:\n",
    "        print('you choose basmati for khichdi')\n",
    "        water=print(input('chose water level for rice in l'))\n",
    "        for i in [water]:\n",
    "            if i!=water_level:\n",
    "                print('please enter valid water level')"
   ]
  },
  {
   "cell_type": "code",
   "execution_count": 5,
   "id": "2dcc254c",
   "metadata": {},
   "outputs": [
    {
     "name": "stdout",
     "output_type": "stream",
     "text": [
      "chose water level for rice in l2l\n",
      "2l\n"
     ]
    }
   ],
   "source": [
    "water=print(input('chose water level for rice in l'))\n",
    "for i in water"
   ]
  },
  {
   "cell_type": "code",
   "execution_count": null,
   "id": "09275fcd",
   "metadata": {},
   "outputs": [],
   "source": []
  },
  {
   "cell_type": "code",
   "execution_count": 8,
   "id": "640f79b5",
   "metadata": {},
   "outputs": [
    {
     "name": "stdout",
     "output_type": "stream",
     "text": [
      "lets make khicdi with python\n",
      "select rice type\n",
      "\n",
      "\n",
      "['basmati', 'sarbati', 'angori', 'parmal']\n",
      "\n",
      "\n",
      "choose rice type 1\n",
      "you choose basmati for khichdi\n",
      "chose water level for rice in l2\n",
      "2\n",
      "please enter valid water level\n"
     ]
    }
   ],
   "source": [
    "print('lets make khicdi with python')\n",
    "print('select rice type')\n",
    "print('\\n')\n",
    "Rice=['basmati','sarbati','angori','parmal']\n",
    "water_level=[1,1.5,2,2.5]\n",
    "print(Rice)\n",
    "print('\\n')\n",
    "select_rice=int(input('choose rice type '))\n",
    "for i in [select_rice]:\n",
    "    if i==1:\n",
    "        print('you choose basmati for khichdi')\n",
    "        water=print(int(input('chose water level for rice in l')))\n",
    "        for i in [water_level]:\n",
    "            if i!=water:\n",
    "                print('please enter valid water level')\n",
    "    elif i==2:\n",
    "        print('you choose sarbati')\n",
    "        print(input('choose water level'))\n",
    "    elif i==3:\n",
    "        print('you choose angori')\n",
    "        print(input('choose water level for rice'))\n",
    "    elif i==4:\n",
    "        print('you choose parmal')\n",
    "        print(input('choose water level for rice'))\n",
    "    else:\n",
    "        print('match not found')\n",
    "        "
   ]
  },
  {
   "cell_type": "code",
   "execution_count": null,
   "id": "a409c015",
   "metadata": {},
   "outputs": [],
   "source": []
  },
  {
   "cell_type": "code",
   "execution_count": 4,
   "id": "7311a966",
   "metadata": {},
   "outputs": [
    {
     "name": "stdout",
     "output_type": "stream",
     "text": [
      "lets make khicdi with python\n",
      "select rice type\n",
      "\n",
      "\n",
      "['basmati', 'sarbati', 'angori', 'parmal']\n",
      "\n",
      "\n",
      "choose rice type 1\n",
      "you choose basmati for khichdi\n",
      "chose water level for rice in l2.5\n"
     ]
    },
    {
     "ename": "ValueError",
     "evalue": "invalid literal for int() with base 10: '2.5'",
     "output_type": "error",
     "traceback": [
      "\u001b[1;31m---------------------------------------------------------------------------\u001b[0m",
      "\u001b[1;31mValueError\u001b[0m                                Traceback (most recent call last)",
      "Cell \u001b[1;32mIn[4], line 12\u001b[0m\n\u001b[0;32m     10\u001b[0m \u001b[38;5;28;01mif\u001b[39;00m i\u001b[38;5;241m==\u001b[39m\u001b[38;5;241m1\u001b[39m:\n\u001b[0;32m     11\u001b[0m     \u001b[38;5;28mprint\u001b[39m(\u001b[38;5;124m'\u001b[39m\u001b[38;5;124myou choose basmati for khichdi\u001b[39m\u001b[38;5;124m'\u001b[39m)\n\u001b[1;32m---> 12\u001b[0m     water\u001b[38;5;241m=\u001b[39m\u001b[38;5;28mprint\u001b[39m(\u001b[38;5;28mint\u001b[39m(\u001b[38;5;28minput\u001b[39m(\u001b[38;5;124m'\u001b[39m\u001b[38;5;124mchose water level for rice in l\u001b[39m\u001b[38;5;124m'\u001b[39m)))\n\u001b[0;32m     13\u001b[0m     \u001b[38;5;28;01mfor\u001b[39;00m i \u001b[38;5;129;01min\u001b[39;00m [water_level]:\n\u001b[0;32m     14\u001b[0m         \u001b[38;5;28;01mif\u001b[39;00m i\u001b[38;5;241m!=\u001b[39mwater:\n",
      "\u001b[1;31mValueError\u001b[0m: invalid literal for int() with base 10: '2.5'"
     ]
    }
   ],
   "source": [
    "print('lets make khicdi with python')\n",
    "print('select rice type')\n",
    "print('\\n')\n",
    "Rice=['basmati','sarbati','angori','parmal']\n",
    "water_level='1,1.5,2,2.5'\n",
    "print(Rice)\n",
    "print('\\n')\n",
    "select_rice=int(input('choose rice type '))\n",
    "for i in [select_rice]:\n",
    "    if i==1:\n",
    "        print('you choose basmati for khichdi')\n",
    "        water=print(int(input('chose water level for rice in l')))\n",
    "        for i in [water_level]:\n",
    "            if i!=water:\n",
    "                print('please enter valid water level')"
   ]
  },
  {
   "cell_type": "code",
   "execution_count": null,
   "id": "fec20bfa",
   "metadata": {},
   "outputs": [],
   "source": []
  },
  {
   "cell_type": "code",
   "execution_count": null,
   "id": "a222b0d5",
   "metadata": {},
   "outputs": [],
   "source": []
  },
  {
   "cell_type": "code",
   "execution_count": null,
   "id": "dde24dab",
   "metadata": {},
   "outputs": [
    {
     "name": "stdout",
     "output_type": "stream",
     "text": [
      "lets make khichdi with python\n",
      "\n",
      "\n",
      "rice available ('basmati', 'sarbati', 'parmal', 'angoori')\n"
     ]
    }
   ],
   "source": [
    "print('lets make khichdi with python')\n",
    "print('\\n')\n",
    "\n",
    "rice_type='basmati','sarbati','parmal','angoori'\n",
    "print('rice available', rice_type)\n",
    "x=print(str(input('please select rice type  ')))\n",
    "for i in rice_type:\n",
    "    if i!=rice_type:\n",
    "        print('not available')\n",
    "    else:\n",
    "        print('ok')"
   ]
  },
  {
   "cell_type": "code",
   "execution_count": null,
   "id": "cd98a24e",
   "metadata": {},
   "outputs": [],
   "source": []
  },
  {
   "cell_type": "code",
   "execution_count": null,
   "id": "64d748c2",
   "metadata": {},
   "outputs": [],
   "source": []
  },
  {
   "cell_type": "code",
   "execution_count": null,
   "id": "3c5c5fa1",
   "metadata": {},
   "outputs": [],
   "source": []
  },
  {
   "cell_type": "code",
   "execution_count": null,
   "id": "27239528",
   "metadata": {},
   "outputs": [],
   "source": []
  },
  {
   "cell_type": "markdown",
   "id": "dd114ccb",
   "metadata": {},
   "source": [
    "## Routine"
   ]
  },
  {
   "cell_type": "code",
   "execution_count": null,
   "id": "e997193a",
   "metadata": {},
   "outputs": [],
   "source": [
    "# Early Morning getting ready for VijAi\n",
    "# Process and parameter\n",
    "# 1. Morning victory parameters\n",
    "# 2. daily routine parameters"
   ]
  }
 ],
 "metadata": {
  "kernelspec": {
   "display_name": "Python 3 (ipykernel)",
   "language": "python",
   "name": "python3"
  },
  "language_info": {
   "codemirror_mode": {
    "name": "ipython",
    "version": 3
   },
   "file_extension": ".py",
   "mimetype": "text/x-python",
   "name": "python",
   "nbconvert_exporter": "python",
   "pygments_lexer": "ipython3",
   "version": "3.11.3"
  }
 },
 "nbformat": 4,
 "nbformat_minor": 5
}
