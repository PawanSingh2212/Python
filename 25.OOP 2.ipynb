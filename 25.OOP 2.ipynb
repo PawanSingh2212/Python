{
 "cells": [
  {
   "cell_type": "code",
   "execution_count": 1,
   "id": "fb393217",
   "metadata": {},
   "outputs": [
    {
     "name": "stdout",
     "output_type": "stream",
     "text": [
      "config is 16gb 1tb i5\n"
     ]
    }
   ],
   "source": [
    "class computer:\n",
    "    def __init__(self,ram,rom,cpu):\n",
    "        self.ram=ram\n",
    "        self.rom=rom\n",
    "        self.cpu=cpu\n",
    "    def config(self):\n",
    "        print('config is',self.ram,self.rom,self.cpu)\n",
    "        \n",
    "com1=computer('16gb','1tb','i5')\n",
    "com1.config()"
   ]
  },
  {
   "cell_type": "code",
   "execution_count": null,
   "id": "8bbae915",
   "metadata": {},
   "outputs": [],
   "source": []
  },
  {
   "cell_type": "code",
   "execution_count": 2,
   "id": "6fa82d22",
   "metadata": {},
   "outputs": [
    {
     "name": "stdout",
     "output_type": "stream",
     "text": [
      "pawan\n",
      "pawan\n"
     ]
    }
   ],
   "source": [
    "class computer:\n",
    "    def __init__(self):\n",
    "        self.name='pawan'\n",
    "        self.cpu='i5'\n",
    "    \n",
    "    \n",
    "com1=computer()\n",
    "com2=computer()\n",
    "\n",
    "print(com1.name)\n",
    "print(com2.name)"
   ]
  },
  {
   "cell_type": "code",
   "execution_count": null,
   "id": "23a4cd5a",
   "metadata": {},
   "outputs": [],
   "source": []
  },
  {
   "cell_type": "code",
   "execution_count": 4,
   "id": "1a303a30",
   "metadata": {},
   "outputs": [
    {
     "name": "stdout",
     "output_type": "stream",
     "text": [
      "rashi\n",
      "pawan\n"
     ]
    }
   ],
   "source": [
    "class computer:\n",
    "    def __init__(self):\n",
    "        self.name='pawan'\n",
    "        self.cpu='i5'\n",
    "    \n",
    "    \n",
    "com1=computer()\n",
    "com1.name='rashi'\n",
    "com2=computer()\n",
    "\n",
    "print(com1.name)\n",
    "print(com2.name)"
   ]
  },
  {
   "cell_type": "code",
   "execution_count": null,
   "id": "10499bd1",
   "metadata": {},
   "outputs": [],
   "source": []
  },
  {
   "cell_type": "code",
   "execution_count": 21,
   "id": "b108fbcc",
   "metadata": {},
   "outputs": [
    {
     "name": "stdout",
     "output_type": "stream",
     "text": [
      "pawan 23\n"
     ]
    }
   ],
   "source": [
    "class person:\n",
    "    def __init__(self,name,age):\n",
    "        self.name='pawan'\n",
    "        self.age=23\n",
    "    def update(self):\n",
    "        age=35\n",
    "        print(self.name,self.age)\n",
    "        \n",
    "P1=person('woow','12')\n",
    "P1.update()"
   ]
  },
  {
   "cell_type": "code",
   "execution_count": null,
   "id": "fd13bb77",
   "metadata": {},
   "outputs": [],
   "source": []
  },
  {
   "cell_type": "code",
   "execution_count": 24,
   "id": "8343bf19",
   "metadata": {},
   "outputs": [
    {
     "name": "stdout",
     "output_type": "stream",
     "text": [
      "woow 12\n"
     ]
    }
   ],
   "source": [
    "class person:\n",
    "    def __init__(self,name,age):\n",
    "        self.name=name\n",
    "        self.age=age\n",
    "    def update(self):\n",
    "        age=35\n",
    "        print(self.name,self.age)\n",
    "        \n",
    "P1=person('woow','12')\n",
    "P1.update()"
   ]
  },
  {
   "cell_type": "code",
   "execution_count": 30,
   "id": "db3bb77d",
   "metadata": {},
   "outputs": [
    {
     "name": "stdout",
     "output_type": "stream",
     "text": [
      "woow 35\n",
      "hariraam 35\n"
     ]
    }
   ],
   "source": [
    "class person:\n",
    "    def __init__(self,name,age):\n",
    "        self.name=name\n",
    "        self.age=age\n",
    "    def update(self):\n",
    "        self.age=35\n",
    "        print(self.name,self.age)\n",
    "        \n",
    "P1=person('woow',12)\n",
    "P1.update()\n",
    "\n",
    "P2=person('hariraam',90)\n",
    "P2.update()"
   ]
  },
  {
   "cell_type": "code",
   "execution_count": null,
   "id": "6b9a91c5",
   "metadata": {},
   "outputs": [],
   "source": []
  },
  {
   "cell_type": "code",
   "execution_count": 40,
   "id": "cdbf4758",
   "metadata": {},
   "outputs": [
    {
     "name": "stdout",
     "output_type": "stream",
     "text": [
      "woow 35\n",
      "hariraam 35\n",
      "both are not same\n"
     ]
    }
   ],
   "source": [
    "class person:\n",
    "    def __init__(self,name,age):\n",
    "        self.name=name\n",
    "        self.age=age\n",
    "    def update(self):\n",
    "        self.age=35\n",
    "        print(self.name,self.age)\n",
    "        \n",
    "    def compare(self,P2):\n",
    "        if self.age==P2:\n",
    "            print('both are same')\n",
    "        else:\n",
    "            print('both are not same')\n",
    "    \n",
    "P1=person('woow',12)\n",
    "P1.update()\n",
    "\n",
    "P2=person('hariraam',90)\n",
    "P2.update()\n",
    "\n",
    "P1.compare(P2)"
   ]
  },
  {
   "cell_type": "code",
   "execution_count": null,
   "id": "7cdde492",
   "metadata": {},
   "outputs": [],
   "source": []
  },
  {
   "cell_type": "code",
   "execution_count": 41,
   "id": "5ceaa7a6",
   "metadata": {},
   "outputs": [
    {
     "name": "stdout",
     "output_type": "stream",
     "text": [
      "woow 35\n",
      "hariraam 35\n",
      "both are same\n",
      "both are same\n"
     ]
    }
   ],
   "source": [
    "class person:\n",
    "    def __init__(self,name,age):\n",
    "        self.name=name\n",
    "        self.age=age\n",
    "    def update(self):\n",
    "        self.age=35\n",
    "        print(self.name,self.age)\n",
    "        \n",
    "    def compare(self,P2):\n",
    "        if self.age==P2.age:\n",
    "            print('both are same')\n",
    "        else:\n",
    "            print('both are not same')\n",
    "    \n",
    "P1=person('woow',12)\n",
    "P1.update()\n",
    "\n",
    "P2=person('hariraam',90)\n",
    "P2.update()\n",
    "\n",
    "P1.compare(P2)\n",
    "P2.compare(P1)"
   ]
  },
  {
   "cell_type": "code",
   "execution_count": null,
   "id": "4c55e3ba",
   "metadata": {},
   "outputs": [],
   "source": []
  },
  {
   "cell_type": "code",
   "execution_count": 43,
   "id": "c6e064f5",
   "metadata": {},
   "outputs": [
    {
     "name": "stdout",
     "output_type": "stream",
     "text": [
      "woow 35\n",
      "hariraam 35\n",
      "both are same\n"
     ]
    }
   ],
   "source": [
    "class person:\n",
    "    def __init__(self,name,age):\n",
    "        self.name=name\n",
    "        self.age=age\n",
    "    def update(self):\n",
    "        self.age=35\n",
    "        print(self.name,self.age)\n",
    "        \n",
    "    def compare(self,others):\n",
    "        if self.age==others.age:\n",
    "            print('both are same')\n",
    "        else:\n",
    "            print('both are not same')\n",
    "    \n",
    "P1=person('woow',12)\n",
    "P1.update()\n",
    "\n",
    "P2=person('hariraam',90)\n",
    "P2.update()\n",
    "\n",
    "P1.compare(P2)"
   ]
  },
  {
   "cell_type": "code",
   "execution_count": null,
   "id": "a45b0a01",
   "metadata": {},
   "outputs": [],
   "source": []
  },
  {
   "cell_type": "code",
   "execution_count": 44,
   "id": "f8b0866d",
   "metadata": {},
   "outputs": [
    {
     "ename": "NameError",
     "evalue": "name 'M1' is not defined",
     "output_type": "error",
     "traceback": [
      "\u001b[1;31m---------------------------------------------------------------------------\u001b[0m",
      "\u001b[1;31mNameError\u001b[0m                                 Traceback (most recent call last)",
      "Cell \u001b[1;32mIn[44], line 13\u001b[0m\n\u001b[0;32m     10\u001b[0m         \u001b[38;5;28mprint\u001b[39m(\u001b[38;5;124m'\u001b[39m\u001b[38;5;124maverage of marks is =\u001b[39m\u001b[38;5;124m'\u001b[39m,avg)\n\u001b[0;32m     12\u001b[0m rahul\u001b[38;5;241m=\u001b[39mstudent(\u001b[38;5;241m40\u001b[39m,\u001b[38;5;241m30\u001b[39m,\u001b[38;5;241m50\u001b[39m)\n\u001b[1;32m---> 13\u001b[0m rahul\u001b[38;5;241m.\u001b[39maverage()\n",
      "Cell \u001b[1;32mIn[44], line 9\u001b[0m, in \u001b[0;36mstudent.average\u001b[1;34m(self)\u001b[0m\n\u001b[0;32m      8\u001b[0m \u001b[38;5;28;01mdef\u001b[39;00m \u001b[38;5;21maverage\u001b[39m(\u001b[38;5;28mself\u001b[39m):\n\u001b[1;32m----> 9\u001b[0m     avg\u001b[38;5;241m=\u001b[39mM1\u001b[38;5;241m+\u001b[39mM2\u001b[38;5;241m+\u001b[39mM3\u001b[38;5;241m/\u001b[39m\u001b[38;5;241m3\u001b[39m\n\u001b[0;32m     10\u001b[0m     \u001b[38;5;28mprint\u001b[39m(\u001b[38;5;124m'\u001b[39m\u001b[38;5;124maverage of marks is =\u001b[39m\u001b[38;5;124m'\u001b[39m,avg)\n",
      "\u001b[1;31mNameError\u001b[0m: name 'M1' is not defined"
     ]
    }
   ],
   "source": [
    "class student:\n",
    "    school='DAV'\n",
    "    \n",
    "    def __init__(self,M1,M2,M3):\n",
    "        self.M1=M1\n",
    "        self.M2=M2\n",
    "        self.M3=M3\n",
    "    def average(self):\n",
    "        avg=M1+M2+M3/3 # wrong 2 mistakes\n",
    "        print('average of marks is =',avg)\n",
    "        \n",
    "rahul=student(40,30,50)\n",
    "rahul.average()"
   ]
  },
  {
   "cell_type": "code",
   "execution_count": null,
   "id": "78d46666",
   "metadata": {},
   "outputs": [],
   "source": []
  },
  {
   "cell_type": "code",
   "execution_count": 46,
   "id": "a8081ada",
   "metadata": {},
   "outputs": [
    {
     "name": "stdout",
     "output_type": "stream",
     "text": [
      "average of marks of <__main__.student object at 0x000001426C876310> is = 86.66666666666667\n"
     ]
    }
   ],
   "source": [
    "class student:\n",
    "    school='DAV'\n",
    "    \n",
    "    def __init__(self,M1,M2,M3):\n",
    "        self.M1=M1\n",
    "        self.M2=M2\n",
    "        self.M3=M3\n",
    "    def average(self):\n",
    "        avg=self.M1+self.M2+self.M3/3 # mistake on writing division\n",
    "        print('average of marks of',self, 'is =',avg)\n",
    "        \n",
    "rahul=student(40,30,50)\n",
    "rahul.average()"
   ]
  },
  {
   "cell_type": "code",
   "execution_count": null,
   "id": "dd93093e",
   "metadata": {},
   "outputs": [],
   "source": []
  },
  {
   "cell_type": "code",
   "execution_count": 48,
   "id": "23b57240",
   "metadata": {},
   "outputs": [
    {
     "name": "stdout",
     "output_type": "stream",
     "text": [
      "average of marks of rahul gandhi is = 86.66666666666667\n"
     ]
    }
   ],
   "source": [
    "class student:\n",
    "    school='DAV'\n",
    "    \n",
    "    def __init__(self,name,M1,M2,M3):\n",
    "        self.n=name\n",
    "        self.M1=M1\n",
    "        self.M2=M2\n",
    "        self.M3=M3\n",
    "    def average(self):\n",
    "        avg=self.M1+self.M2+self.M3/3 # mistake on writing devision\n",
    "        print('average of marks of',self.n, 'is =',avg)\n",
    "        \n",
    "rahul=student('rahul gandhi',40,30,50)\n",
    "rahul.average()"
   ]
  },
  {
   "cell_type": "code",
   "execution_count": null,
   "id": "c933e516",
   "metadata": {},
   "outputs": [],
   "source": []
  },
  {
   "cell_type": "code",
   "execution_count": null,
   "id": "7fb4170a",
   "metadata": {},
   "outputs": [],
   "source": []
  },
  {
   "cell_type": "markdown",
   "id": "09adc026",
   "metadata": {},
   "source": [
    "### correct one"
   ]
  },
  {
   "cell_type": "code",
   "execution_count": 49,
   "id": "2fae604d",
   "metadata": {},
   "outputs": [
    {
     "name": "stdout",
     "output_type": "stream",
     "text": [
      "average of marks of rahul gandhi is = 40.0\n"
     ]
    }
   ],
   "source": [
    "class student:\n",
    "    school='DAV'\n",
    "    \n",
    "    def __init__(self,name,M1,M2,M3):\n",
    "        self.n=name\n",
    "        self.M1=M1\n",
    "        self.M2=M2\n",
    "        self.M3=M3\n",
    "    def average(self):\n",
    "        avg=(self.M1+self.M2+self.M3)/3\n",
    "        print('average of marks of',self.n, 'is =',avg)\n",
    "        \n",
    "rahul=student('rahul gandhi',40,30,50)\n",
    "rahul.average()"
   ]
  },
  {
   "cell_type": "code",
   "execution_count": null,
   "id": "84403fc3",
   "metadata": {},
   "outputs": [],
   "source": []
  },
  {
   "cell_type": "code",
   "execution_count": 50,
   "id": "a80c4db8",
   "metadata": {},
   "outputs": [
    {
     "data": {
      "text/plain": [
       "40.0"
      ]
     },
     "execution_count": 50,
     "metadata": {},
     "output_type": "execute_result"
    }
   ],
   "source": [
    "class student:\n",
    "    school='DAV'\n",
    "    \n",
    "    def __init__(self,name,M1,M2,M3):\n",
    "        self.n=name\n",
    "        self.M1=M1\n",
    "        self.M2=M2\n",
    "        self.M3=M3\n",
    "    def average(self):\n",
    "        return (self.M1+self.M2+self.M3)/3\n",
    "        print('average of marks of',self.n, 'is =',avg) # now print is not working\n",
    "        \n",
    "rahul=student ('rahul gandhi',40,30,50)\n",
    "rahul.average()"
   ]
  },
  {
   "cell_type": "code",
   "execution_count": 51,
   "id": "0d91765f",
   "metadata": {},
   "outputs": [
    {
     "data": {
      "text/plain": [
       "40.0"
      ]
     },
     "execution_count": 51,
     "metadata": {},
     "output_type": "execute_result"
    }
   ],
   "source": [
    "class student:\n",
    "    school='DAV'\n",
    "    \n",
    "    def __init__(self,name,M1,M2,M3):\n",
    "        self.n=name\n",
    "        self.M1=M1\n",
    "        self.M2=M2\n",
    "        self.M3=M3\n",
    "    def average(self):\n",
    "        return (self.M1+self.M2+self.M3)/3\n",
    "       \n",
    "        \n",
    "rahul=student('rahul gandhi',40,30,50)\n",
    "rahul.average()"
   ]
  },
  {
   "cell_type": "code",
   "execution_count": null,
   "id": "3d8c4a69",
   "metadata": {},
   "outputs": [],
   "source": []
  },
  {
   "cell_type": "code",
   "execution_count": 57,
   "id": "770c0e58",
   "metadata": {},
   "outputs": [
    {
     "name": "stdout",
     "output_type": "stream",
     "text": [
      "50\n"
     ]
    }
   ],
   "source": [
    "class student:\n",
    "    school='DAV'\n",
    "    \n",
    "    def __init__(self,M1,M2,M3):\n",
    "        self.M1=M1\n",
    "        self.M2=M2\n",
    "        self.M3=M3\n",
    "    def average(self):\n",
    "        return (self.M1+self.M2+self.M3)/3\n",
    "    def get_M3(self):\n",
    "        return self.M3\n",
    "    \n",
    "        \n",
    "rahul=student(40,30,50)\n",
    "rahul.average()  \n",
    "print(rahul.get_M3())"
   ]
  },
  {
   "cell_type": "code",
   "execution_count": 58,
   "id": "da3101e3",
   "metadata": {},
   "outputs": [
    {
     "name": "stdout",
     "output_type": "stream",
     "text": [
      "40.0\n",
      "50\n"
     ]
    }
   ],
   "source": [
    "class student:\n",
    "    school='DAV'\n",
    "    \n",
    "    def __init__(self,M1,M2,M3):\n",
    "        self.M1=M1\n",
    "        self.M2=M2\n",
    "        self.M3=M3\n",
    "    def average(self):\n",
    "        return (self.M1+self.M2+self.M3)/3\n",
    "    def get_M3(self):\n",
    "        return self.M3\n",
    "    \n",
    "        \n",
    "rahul=student(40,30,50)\n",
    "print(rahul.average())  \n",
    "print(rahul.get_M3())"
   ]
  },
  {
   "cell_type": "code",
   "execution_count": null,
   "id": "44260c16",
   "metadata": {},
   "outputs": [],
   "source": []
  },
  {
   "cell_type": "code",
   "execution_count": 62,
   "id": "4201ea6b",
   "metadata": {},
   "outputs": [
    {
     "name": "stdout",
     "output_type": "stream",
     "text": [
      "40.0\n",
      "50\n",
      "None\n"
     ]
    },
    {
     "data": {
      "text/plain": [
       "<function print(*args, sep=' ', end='\\n', file=None, flush=False)>"
      ]
     },
     "execution_count": 62,
     "metadata": {},
     "output_type": "execute_result"
    }
   ],
   "source": [
    "class student:\n",
    "    school='DAV'\n",
    "    \n",
    "    def __init__(self,M1,M2,M3):\n",
    "        self.M1=M1\n",
    "        self.M2=M2\n",
    "        self.M3=M3\n",
    "    def average(self):\n",
    "        return (self.M1+self.M2+self.M3)/3\n",
    "    def get_M3(self):\n",
    "        return self.M3\n",
    "    def set_value(self,value):\n",
    "        self.M1=value\n",
    "    \n",
    "        \n",
    "rahul=student(40,30,50)\n",
    "print(rahul.average())  \n",
    "print(rahul.get_M3())\n",
    "print(rahul.set_value(100)) # none because no visible output nothing to show on print \n"
   ]
  },
  {
   "cell_type": "code",
   "execution_count": 66,
   "id": "473c753f",
   "metadata": {},
   "outputs": [
    {
     "name": "stdout",
     "output_type": "stream",
     "text": [
      "40.0\n",
      "50\n",
      "60.0\n"
     ]
    }
   ],
   "source": [
    "class student:\n",
    "    school='DAV'\n",
    "    \n",
    "    def __init__(self,M1,M2,M3):\n",
    "        self.M1=M1\n",
    "        self.M2=M2\n",
    "        self.M3=M3\n",
    "    def average(self):\n",
    "        return (self.M1+self.M2+self.M3)/3\n",
    "    def get_M3(self):\n",
    "        return self.M3\n",
    "    def set_value(self,value):\n",
    "        self.M1=value\n",
    "    \n",
    "        \n",
    "rahul=student(40,30,50)\n",
    "print(rahul.average())  # output 40\n",
    "print(rahul.get_M3())\n",
    "rahul.set_value(100)\n",
    "print(rahul.average()) # output 60"
   ]
  },
  {
   "cell_type": "code",
   "execution_count": null,
   "id": "a39d2d5d",
   "metadata": {},
   "outputs": [],
   "source": []
  },
  {
   "cell_type": "code",
   "execution_count": 67,
   "id": "2a6441ac",
   "metadata": {},
   "outputs": [
    {
     "ename": "TypeError",
     "evalue": "student.__init__() missing 3 required positional arguments: 'M1', 'M2', and 'M3'",
     "output_type": "error",
     "traceback": [
      "\u001b[1;31m---------------------------------------------------------------------------\u001b[0m",
      "\u001b[1;31mTypeError\u001b[0m                                 Traceback (most recent call last)",
      "Cell \u001b[1;32mIn[67], line 13\u001b[0m\n\u001b[0;32m     10\u001b[0m     \u001b[38;5;129m@classmethod\u001b[39m\n\u001b[0;32m     11\u001b[0m     \u001b[38;5;28;01mdef\u001b[39;00m \u001b[38;5;21minfo\u001b[39m(\u001b[38;5;28mcls\u001b[39m):\n\u001b[0;32m     12\u001b[0m         \u001b[38;5;28mprint\u001b[39m(\u001b[38;5;28mcls\u001b[39m\u001b[38;5;241m.\u001b[39mschool)\n\u001b[1;32m---> 13\u001b[0m s1\u001b[38;5;241m=\u001b[39mstudent()\n\u001b[0;32m     14\u001b[0m s1\u001b[38;5;241m.\u001b[39minfo()\n",
      "\u001b[1;31mTypeError\u001b[0m: student.__init__() missing 3 required positional arguments: 'M1', 'M2', and 'M3'"
     ]
    }
   ],
   "source": [
    "class student:\n",
    "    school='DAV'\n",
    "    \n",
    "    def __init__(self,M1,M2,M3):\n",
    "        self.M1=M1\n",
    "        self.M2=M2\n",
    "        self.M3=M3\n",
    "    def average(self):\n",
    "        return (self.M1+self.M2+self.M3)/3\n",
    "    @classmethod\n",
    "    def info(cls):\n",
    "        print(cls.school)\n",
    "\n",
    "s1=student()\n",
    "s1.info()"
   ]
  },
  {
   "cell_type": "code",
   "execution_count": 69,
   "id": "2f49ba0d",
   "metadata": {},
   "outputs": [
    {
     "name": "stdout",
     "output_type": "stream",
     "text": [
      "DAV\n"
     ]
    }
   ],
   "source": [
    "class student:\n",
    "    school='DAV'\n",
    "    \n",
    "    def __init__(self,M1,M2,M3):\n",
    "        self.M1=M1\n",
    "        self.M2=M2\n",
    "        self.M3=M3\n",
    "    def average(self):\n",
    "        return (self.M1+self.M2+self.M3)/3\n",
    "    @classmethod\n",
    "    def info(cls):\n",
    "        print(cls.school)\n",
    "        \n",
    "rahul=student(40,30,50)\n",
    "rahul.average() # you have to write print if you are using more than one function if you want output of both the function\n",
    "\n",
    "rahul.info()"
   ]
  },
  {
   "cell_type": "markdown",
   "id": "4b47be9a",
   "metadata": {},
   "source": [
    "# Class method"
   ]
  },
  {
   "cell_type": "code",
   "execution_count": 1,
   "id": "1105452a",
   "metadata": {},
   "outputs": [
    {
     "name": "stdout",
     "output_type": "stream",
     "text": [
      "40.0\n",
      "DAV\n"
     ]
    }
   ],
   "source": [
    "class student:\n",
    "    school='DAV'\n",
    "    \n",
    "    def __init__(self,M1,M2,M3):\n",
    "        self.M1=M1\n",
    "        self.M2=M2\n",
    "        self.M3=M3\n",
    "    def average(self):\n",
    "        return (self.M1+self.M2+self.M3)/3\n",
    "    @classmethod\n",
    "    def info(cls):\n",
    "        return cls.school\n",
    "        \n",
    "rahul=student(40,30,50)\n",
    "print(rahul.average())\n",
    "\n",
    "print(rahul.info())"
   ]
  },
  {
   "cell_type": "code",
   "execution_count": 2,
   "id": "a9e6c7b9",
   "metadata": {},
   "outputs": [
    {
     "name": "stdout",
     "output_type": "stream",
     "text": [
      "4\n",
      "None\n"
     ]
    }
   ],
   "source": [
    "a=4\n",
    "print(print(a))"
   ]
  },
  {
   "cell_type": "markdown",
   "id": "d6d4bfde",
   "metadata": {},
   "source": [
    "# static method"
   ]
  },
  {
   "cell_type": "code",
   "execution_count": 1,
   "id": "ea113cc9",
   "metadata": {},
   "outputs": [
    {
     "name": "stdout",
     "output_type": "stream",
     "text": [
      "40.0\n",
      "DAV\n",
      "None\n",
      "rahul goes to school\n",
      "None\n"
     ]
    }
   ],
   "source": [
    "class student:\n",
    "    school='DAV'\n",
    "    \n",
    "    def __init__(self,M1,M2,M3):\n",
    "        self.M1=M1\n",
    "        self.M2=M2\n",
    "        self.M3=M3\n",
    "    def average(self):\n",
    "        return (self.M1+self.M2+self.M3)/3\n",
    "    @classmethod\n",
    "    def info(cls):\n",
    "        print(cls.school)\n",
    "        \n",
    "    @staticmethod\n",
    "    def static():\n",
    "        print('rahul goes to school')\n",
    "        \n",
    "rahul=student(40,30,50)\n",
    "print(rahul.average())\n",
    "\n",
    "print(rahul.info())\n",
    "\n",
    "print(rahul.static())"
   ]
  },
  {
   "cell_type": "markdown",
   "id": "8e36bdd3",
   "metadata": {},
   "source": [
    "# Class inside Class"
   ]
  },
  {
   "cell_type": "code",
   "execution_count": null,
   "id": "73f3436d",
   "metadata": {},
   "outputs": [],
   "source": []
  },
  {
   "cell_type": "code",
   "execution_count": 9,
   "id": "ddd9a4ea",
   "metadata": {},
   "outputs": [
    {
     "name": "stdout",
     "output_type": "stream",
     "text": [
      "Naveen 2\n",
      "HP i5 8\n",
      "pawan 45\n",
      "HP i5 8\n",
      "HP i5 8\n"
     ]
    }
   ],
   "source": [
    "class student:\n",
    "    def __init__(self,name,roll_no):\n",
    "        self.name=name\n",
    "        self.roll_no=roll_no\n",
    "        self.lap=self.Laptop()\n",
    "\n",
    "    def show(self):\n",
    "        print(self.name,self.roll_no)\n",
    "        self.lap.show()\n",
    "    \n",
    "    class Laptop:\n",
    "        def __init__(self):\n",
    "            self.brand='HP'\n",
    "            self.cpu='i5'\n",
    "            self.ram=8\n",
    "        def show(self):\n",
    "            print(self.brand,self.cpu,self.ram)\n",
    "\n",
    "s1=student('Naveen',2)\n",
    "s2=student('pawan',45)\n",
    "\n",
    "s1.show()\n",
    "s2.show()\n",
    "\n",
    "lap1=student.Laptop()\n",
    "lap1.show()"
   ]
  },
  {
   "cell_type": "code",
   "execution_count": 8,
   "id": "731cee3e",
   "metadata": {},
   "outputs": [
    {
     "name": "stdout",
     "output_type": "stream",
     "text": [
      "Naveen 2\n",
      "HP i5 8\n"
     ]
    }
   ],
   "source": [
    "class student:\n",
    "    def __init__(self,name,roll_no):\n",
    "        self.name=name\n",
    "        self.roll_no=roll_no\n",
    "        self.lap=self.Laptop()\n",
    "\n",
    "    def detail(self):\n",
    "        print(self.name,self.roll_no)\n",
    "        self.lap.show()\n",
    "    \n",
    "    class Laptop:\n",
    "        def __init__(self):\n",
    "            self.brand='HP'\n",
    "            self.cpu='i5'\n",
    "            self.ram=8\n",
    "        def show(self):\n",
    "            print(self.brand,self.cpu,self.ram)\n",
    "\n",
    "s1=student('Naveen',2)\n",
    "s2=student('pawan',45)\n",
    "s1.detail()"
   ]
  },
  {
   "cell_type": "code",
   "execution_count": null,
   "id": "6f7735bf",
   "metadata": {},
   "outputs": [],
   "source": []
  },
  {
   "cell_type": "code",
   "execution_count": null,
   "id": "7e305015",
   "metadata": {},
   "outputs": [],
   "source": []
  },
  {
   "cell_type": "code",
   "execution_count": null,
   "id": "15e4995c",
   "metadata": {},
   "outputs": [],
   "source": []
  },
  {
   "cell_type": "markdown",
   "id": "92022e4b",
   "metadata": {},
   "source": [
    "# Inheritance"
   ]
  },
  {
   "cell_type": "markdown",
   "id": "9424cf87",
   "metadata": {},
   "source": [
    "### Single Inheritance"
   ]
  },
  {
   "cell_type": "code",
   "execution_count": 2,
   "id": "5cfb6f23",
   "metadata": {},
   "outputs": [
    {
     "name": "stdout",
     "output_type": "stream",
     "text": [
      "feature1 working\n",
      "feature2 working\n"
     ]
    }
   ],
   "source": [
    "class A:\n",
    "    def feature1(self):\n",
    "        print('feature1 working')\n",
    "    def feature2(self):\n",
    "        print('feature2 working')\n",
    "        \n",
    "a1=A()\n",
    "a1.feature1()\n",
    "a1.feature2()"
   ]
  },
  {
   "cell_type": "code",
   "execution_count": 3,
   "id": "e60300e3",
   "metadata": {},
   "outputs": [
    {
     "data": {
      "text/plain": [
       "<function __main__.A.feature2(self)>"
      ]
     },
     "execution_count": 3,
     "metadata": {},
     "output_type": "execute_result"
    }
   ],
   "source": [
    "class A:\n",
    "    def feature1(self):\n",
    "        print('feature1 working')\n",
    "    def feature2(self):\n",
    "        print('feature2 working')\n",
    "        \n",
    "a1=A\n",
    "a1.feature1\n",
    "a1.feature2"
   ]
  },
  {
   "cell_type": "code",
   "execution_count": null,
   "id": "681c0d03",
   "metadata": {},
   "outputs": [],
   "source": []
  },
  {
   "cell_type": "code",
   "execution_count": 3,
   "id": "aaf53068",
   "metadata": {},
   "outputs": [
    {
     "name": "stdout",
     "output_type": "stream",
     "text": [
      "feature1 working\n"
     ]
    }
   ],
   "source": [
    "class A:\n",
    "    def feature1(self):\n",
    "        print('feature1 working')\n",
    "    def feature2(self):\n",
    "        print('feature2 working')\n",
    "        \n",
    "class B(A):\n",
    "    def feature3(self):\n",
    "        print('feature3 working')\n",
    "    def feature4(self):\n",
    "        print('feature4 working')\n",
    "        \n",
    "b1=B()\n",
    "b1.feature1() # B is a child class of A so it can access the feature of class A"
   ]
  },
  {
   "cell_type": "code",
   "execution_count": 4,
   "id": "845691b9",
   "metadata": {},
   "outputs": [
    {
     "ename": "AttributeError",
     "evalue": "'A' object has no attribute 'feature3'",
     "output_type": "error",
     "traceback": [
      "\u001b[1;31m---------------------------------------------------------------------------\u001b[0m",
      "\u001b[1;31mAttributeError\u001b[0m                            Traceback (most recent call last)",
      "Cell \u001b[1;32mIn[4], line 14\u001b[0m\n\u001b[0;32m     11\u001b[0m         \u001b[38;5;28mprint\u001b[39m(\u001b[38;5;124m'\u001b[39m\u001b[38;5;124mfeature4 working\u001b[39m\u001b[38;5;124m'\u001b[39m)\n\u001b[0;32m     13\u001b[0m a1\u001b[38;5;241m=\u001b[39mA()\n\u001b[1;32m---> 14\u001b[0m a1\u001b[38;5;241m.\u001b[39mfeature3()\n",
      "\u001b[1;31mAttributeError\u001b[0m: 'A' object has no attribute 'feature3'"
     ]
    }
   ],
   "source": [
    "class A:\n",
    "    def feature1(self):\n",
    "        print('feature1 working')\n",
    "    def feature2(self):\n",
    "        print('feature2 working')\n",
    "        \n",
    "class B(A):\n",
    "    def feature3(self):\n",
    "        print('feature3 working')\n",
    "    def feature4(self):\n",
    "        print('feature4 working')\n",
    "        \n",
    "a1=A()\n",
    "a1.feature3() # bur class A cant access the feature of  class B "
   ]
  },
  {
   "cell_type": "markdown",
   "id": "cdb0dfd9",
   "metadata": {},
   "source": [
    "### Multilevel Inheritance"
   ]
  },
  {
   "cell_type": "code",
   "execution_count": 5,
   "id": "4bd38b52",
   "metadata": {},
   "outputs": [
    {
     "name": "stdout",
     "output_type": "stream",
     "text": [
      "feature3 working\n",
      "feature1 working\n",
      "feature2 working\n"
     ]
    },
    {
     "ename": "AttributeError",
     "evalue": "'B' object has no attribute 'feature5'",
     "output_type": "error",
     "traceback": [
      "\u001b[1;31m---------------------------------------------------------------------------\u001b[0m",
      "\u001b[1;31mAttributeError\u001b[0m                            Traceback (most recent call last)",
      "Cell \u001b[1;32mIn[5], line 23\u001b[0m\n\u001b[0;32m     21\u001b[0m b1\u001b[38;5;241m=\u001b[39mB()\n\u001b[0;32m     22\u001b[0m b1\u001b[38;5;241m.\u001b[39mfeature2() \u001b[38;5;66;03m# can access the feature of A butcan not access the feature of C\u001b[39;00m\n\u001b[1;32m---> 23\u001b[0m b1\u001b[38;5;241m.\u001b[39mfeature5()\n",
      "\u001b[1;31mAttributeError\u001b[0m: 'B' object has no attribute 'feature5'"
     ]
    }
   ],
   "source": [
    "class A:\n",
    "    def feature1(self):\n",
    "        print('feature1 working')\n",
    "    def feature2(self):\n",
    "        print('feature2 working')\n",
    "        \n",
    "class B(A):\n",
    "    def feature3(self):\n",
    "        print('feature3 working')\n",
    "    def feature4(self):\n",
    "        print('feature4 working')\n",
    "        \n",
    "class C(B):\n",
    "    def feature5(self):\n",
    "        print('feature5 is working')\n",
    "        \n",
    "c1=C()\n",
    "c1.feature3()\n",
    "c1.feature1()  # class C can access the feature of Class A and Class B both \n",
    "\n",
    "b1=B()\n",
    "b1.feature2() # can access the feature of A butcan not access the feature of C\n",
    "b1.feature5()"
   ]
  },
  {
   "cell_type": "markdown",
   "id": "95d13a8a",
   "metadata": {},
   "source": [
    "### Multiple Inheritance"
   ]
  },
  {
   "cell_type": "code",
   "execution_count": 2,
   "id": "a1420d56",
   "metadata": {},
   "outputs": [
    {
     "name": "stdout",
     "output_type": "stream",
     "text": [
      "feature1 working\n",
      "feature4 working\n",
      "feature1 working\n"
     ]
    },
    {
     "ename": "AttributeError",
     "evalue": "'B' object has no attribute 'feature6'",
     "output_type": "error",
     "traceback": [
      "\u001b[1;31m---------------------------------------------------------------------------\u001b[0m",
      "\u001b[1;31mAttributeError\u001b[0m                            Traceback (most recent call last)",
      "Cell \u001b[1;32mIn[2], line 29\u001b[0m\n\u001b[0;32m     26\u001b[0m e\u001b[38;5;241m.\u001b[39mfeature1()\n\u001b[0;32m     28\u001b[0m f\u001b[38;5;241m=\u001b[39mB()\n\u001b[1;32m---> 29\u001b[0m f\u001b[38;5;241m.\u001b[39mfeature6()\n",
      "\u001b[1;31mAttributeError\u001b[0m: 'B' object has no attribute 'feature6'"
     ]
    }
   ],
   "source": [
    "class A:\n",
    "    def feature1(self):\n",
    "        print('feature1 working')\n",
    "    def feature2(self):\n",
    "        print('feature2 working')\n",
    "        \n",
    "class B():\n",
    "    def feature3(self):\n",
    "        print('feature3 working')\n",
    "    def feature4(self):\n",
    "        print('feature4 working')\n",
    "        \n",
    "class C(A,B):\n",
    "    def feature5(self):\n",
    "        print('feature5 is working')\n",
    "\n",
    "class D(C):\n",
    "    def feature6(self):\n",
    "        print('feature6 is running')\n",
    "c2=C()\n",
    "c2.feature1()\n",
    "c2.feature4() # c2 can access the feture of both the class A and B but here B cann't access the \n",
    "                # feature of A\n",
    "\n",
    "e=D()\n",
    "e.feature1()\n",
    "\n",
    "f=B()\n",
    "f.feature6()"
   ]
  },
  {
   "cell_type": "code",
   "execution_count": null,
   "id": "6682a507",
   "metadata": {},
   "outputs": [],
   "source": []
  },
  {
   "cell_type": "code",
   "execution_count": null,
   "id": "0455b0c0",
   "metadata": {},
   "outputs": [],
   "source": []
  },
  {
   "cell_type": "markdown",
   "id": "467a8f2c",
   "metadata": {},
   "source": [
    "#"
   ]
  },
  {
   "cell_type": "code",
   "execution_count": null,
   "id": "c6701441",
   "metadata": {},
   "outputs": [],
   "source": [
    "class A:\n",
    "    def feature1(self):\n",
    "        print('feature1 working')\n",
    "    def feature2(self):\n",
    "        print('feature2 working')\n",
    "        \n",
    "class B(A):\n",
    "    def feature3(self):\n",
    "        print('feature3 working')\n",
    "    def feature4(self):\n",
    "        print('feature4 working')\n",
    "        \n",
    "class C(A):\n",
    "    def feature5(self):\n",
    "        print('feature5 is working')\n",
    "        \n"
   ]
  },
  {
   "cell_type": "code",
   "execution_count": null,
   "id": "3cb12d3b",
   "metadata": {},
   "outputs": [],
   "source": []
  },
  {
   "cell_type": "code",
   "execution_count": null,
   "id": "7ea0d679",
   "metadata": {},
   "outputs": [],
   "source": []
  },
  {
   "cell_type": "code",
   "execution_count": null,
   "id": "e699174d",
   "metadata": {},
   "outputs": [],
   "source": []
  },
  {
   "cell_type": "code",
   "execution_count": 6,
   "id": "2d241318",
   "metadata": {},
   "outputs": [
    {
     "name": "stdout",
     "output_type": "stream",
     "text": [
      "In A init\n"
     ]
    }
   ],
   "source": [
    "class A:\n",
    "    def __init__(self):\n",
    "        print('In A init')\n",
    "    def feature1(self):\n",
    "        print('feature1 working')\n",
    "    def feature2(self):\n",
    "        print('feature2 working')\n",
    "        \n",
    "class B(A):\n",
    "    def feature3(self):\n",
    "        print('feature3 working')\n",
    "    def feature4(self):\n",
    "        print('feature4 working')\n",
    "\n",
    "a1=B() # object of B is calling constructor of A \n",
    "\n"
   ]
  },
  {
   "cell_type": "code",
   "execution_count": null,
   "id": "6782292b",
   "metadata": {},
   "outputs": [],
   "source": []
  },
  {
   "cell_type": "markdown",
   "id": "f10b8f70",
   "metadata": {},
   "source": [
    "If you create object of sub class it will try find init of sub class if it is not found then it will  call init of super class"
   ]
  },
  {
   "cell_type": "code",
   "execution_count": 9,
   "id": "9daa559b",
   "metadata": {},
   "outputs": [
    {
     "name": "stdout",
     "output_type": "stream",
     "text": [
      "In B init\n"
     ]
    }
   ],
   "source": [
    "class A:\n",
    "    def __init__(self):\n",
    "        print('In A init')\n",
    "    def feature1(self):\n",
    "        print('feature1 working')\n",
    "    def feature2(self):\n",
    "        print('feature2 working')\n",
    "        \n",
    "class B(A):\n",
    "    def __init__(self):\n",
    "        print(\"In B init\")\n",
    "    def feature3(self):\n",
    "        print('feature3 working')\n",
    "    def feature4(self):\n",
    "        print('feature4 working')\n",
    "    \n",
    "a1=B() # now B has its own constructor \n"
   ]
  },
  {
   "cell_type": "code",
   "execution_count": null,
   "id": "faf06c10",
   "metadata": {},
   "outputs": [],
   "source": []
  },
  {
   "cell_type": "markdown",
   "id": "106a23b0",
   "metadata": {},
   "source": [
    "### super().\n",
    "\n",
    "The super() function is used to refer to parent class "
   ]
  },
  {
   "cell_type": "code",
   "execution_count": null,
   "id": "4e50e677",
   "metadata": {},
   "outputs": [],
   "source": []
  },
  {
   "cell_type": "code",
   "execution_count": 10,
   "id": "606fe0c0",
   "metadata": {},
   "outputs": [
    {
     "name": "stdout",
     "output_type": "stream",
     "text": [
      "In A init\n",
      "In B init\n"
     ]
    }
   ],
   "source": [
    "class A:\n",
    "    def __init__(self):\n",
    "        print('In A init')\n",
    "    def feature1(self):\n",
    "        print('feature1 working')\n",
    "    def feature2(self):\n",
    "        print('feature2 working')\n",
    "        \n",
    "class B(A):\n",
    "    def __init__(self):\n",
    "        super().__init__() # Now we can access the constructor of both the class \n",
    "        print(\"In B init\")\n",
    "    def feature3(self):\n",
    "        print('feature3 working')\n",
    "    def feature4(self):\n",
    "        print('feature4 working')\n",
    "    \n",
    "a1=B()"
   ]
  },
  {
   "cell_type": "code",
   "execution_count": null,
   "id": "abeabd35",
   "metadata": {},
   "outputs": [],
   "source": []
  },
  {
   "cell_type": "code",
   "execution_count": 12,
   "id": "b5f0021e",
   "metadata": {},
   "outputs": [
    {
     "name": "stdout",
     "output_type": "stream",
     "text": [
      "In A init\n"
     ]
    }
   ],
   "source": [
    "class A:\n",
    "    def __init__(self):\n",
    "        print('In A init')\n",
    "    def feature1(self):\n",
    "        print('feature1 working')\n",
    "    def feature2(self):\n",
    "        print('feature2 working')\n",
    "        \n",
    "class B(A):\n",
    "    def __init__(self):\n",
    "        super().__init__() # Now we can access the constructor of both the class \n",
    "        print(\"In B init\")\n",
    "    def feature3(self):\n",
    "        print('feature3 working')\n",
    "    def feature4(self):\n",
    "        print('feature4 working')\n",
    "    \n",
    "a1=A() # but  object of class A can't access the constructor of Class B"
   ]
  },
  {
   "cell_type": "code",
   "execution_count": null,
   "id": "bf016f7c",
   "metadata": {},
   "outputs": [],
   "source": []
  },
  {
   "cell_type": "code",
   "execution_count": 14,
   "id": "126699f5",
   "metadata": {},
   "outputs": [
    {
     "ename": "AttributeError",
     "evalue": "'B' object has no attribute 'feature1'",
     "output_type": "error",
     "traceback": [
      "\u001b[1;31m---------------------------------------------------------------------------\u001b[0m",
      "\u001b[1;31mAttributeError\u001b[0m                            Traceback (most recent call last)",
      "Cell \u001b[1;32mIn[14], line 21\u001b[0m\n\u001b[0;32m     15\u001b[0m         \u001b[38;5;28msuper\u001b[39m()\u001b[38;5;241m.\u001b[39mfeature2()\n\u001b[0;32m     20\u001b[0m c1\u001b[38;5;241m=\u001b[39mB()\n\u001b[1;32m---> 21\u001b[0m c1\u001b[38;5;241m.\u001b[39mfeature1()\n",
      "\u001b[1;31mAttributeError\u001b[0m: 'B' object has no attribute 'feature1'"
     ]
    }
   ],
   "source": [
    "class A:\n",
    "    \n",
    "    def feature1(self):\n",
    "        print('feature1 working')\n",
    "    def feature2(self):\n",
    "        print('feature2 working')\n",
    "        \n",
    "class B:\n",
    "   \n",
    "    def feature3(self):\n",
    "        print('feature3 working')\n",
    "    def feature4(self):\n",
    "        print('feature4 working')\n",
    "    def feat(self):\n",
    "        super().feature2()\n",
    "\n",
    "    \n",
    "    \n",
    "        \n",
    "c1=B()\n",
    "c1.feature1()"
   ]
  },
  {
   "cell_type": "code",
   "execution_count": null,
   "id": "bafacb46",
   "metadata": {},
   "outputs": [],
   "source": []
  },
  {
   "cell_type": "code",
   "execution_count": null,
   "id": "0a274967",
   "metadata": {},
   "outputs": [],
   "source": []
  },
  {
   "cell_type": "code",
   "execution_count": null,
   "id": "12259b84",
   "metadata": {},
   "outputs": [],
   "source": []
  },
  {
   "cell_type": "markdown",
   "id": "a83214b2",
   "metadata": {},
   "source": [
    "##  MRO( Method resolution order)"
   ]
  },
  {
   "cell_type": "code",
   "execution_count": 1,
   "id": "ab77c587",
   "metadata": {},
   "outputs": [
    {
     "name": "stdout",
     "output_type": "stream",
     "text": [
      "In A init\n",
      "In C init\n"
     ]
    }
   ],
   "source": [
    "class A:\n",
    "    def __init__(self):\n",
    "        print('In A init')\n",
    "    def feature1(self):\n",
    "        print('feature1 working')\n",
    "    def feature2(self):\n",
    "        print('feature2 working')\n",
    "        \n",
    "class B():\n",
    "    def __init__(self):\n",
    "        print(\"In B init\")\n",
    "    def feature3(self):\n",
    "        print('feature3 working')\n",
    "    def feature4(self):\n",
    "        print('feature4 working')\n",
    "    \n",
    "class C(A,B):\n",
    "    def __init__(self):\n",
    "        super().__init__() # it is calling the constructor of A not B \n",
    "        print('In C init')\n",
    "        \n",
    "c1=C()\n"
   ]
  },
  {
   "cell_type": "code",
   "execution_count": 5,
   "id": "b4b82f8e",
   "metadata": {},
   "outputs": [
    {
     "name": "stdout",
     "output_type": "stream",
     "text": [
      "In C init\n",
      "feature 1-A working\n"
     ]
    }
   ],
   "source": [
    "class A:\n",
    "    def __init__(self):\n",
    "        print('In A init')\n",
    "    def feature1(self):\n",
    "        print('feature 1-A working')\n",
    "        \n",
    "class B():\n",
    "    def __init__(self):\n",
    "        print(\"In B init\")\n",
    "    def feature1(self):\n",
    "        print('feature 1-B working')\n",
    "\n",
    "\n",
    "class C(A,B):\n",
    "    def __init__(self):\n",
    "        print('In C init')\n",
    "    \n",
    "a1=C()\n",
    "a1.feature1() # calling the method of class A"
   ]
  },
  {
   "cell_type": "code",
   "execution_count": null,
   "id": "afbebd70",
   "metadata": {},
   "outputs": [],
   "source": []
  },
  {
   "cell_type": "markdown",
   "id": "b143f9dc",
   "metadata": {},
   "source": [
    "## Polymorphism\n",
    "\n",
    "Poly- (MANY)\n",
    "\n",
    "Morph -(FROM)\n",
    "\n",
    "\n",
    "One thing behvaing differently "
   ]
  },
  {
   "cell_type": "markdown",
   "id": "4f418f08",
   "metadata": {},
   "source": [
    "#### Four ways of implementing the Polymorphism \n",
    "\n",
    "- Duck Typing\n",
    "- Operator Overloading\n",
    "- Method Overloading \n",
    "- Method Overriding"
   ]
  },
  {
   "cell_type": "markdown",
   "id": "b10537b3",
   "metadata": {},
   "source": [
    "#### Duck Typing "
   ]
  },
  {
   "cell_type": "code",
   "execution_count": 2,
   "id": "19fd1e2a",
   "metadata": {},
   "outputs": [
    {
     "name": "stdout",
     "output_type": "stream",
     "text": [
      "compiling\n",
      "Running\n"
     ]
    }
   ],
   "source": [
    "class pycharm:\n",
    "    def execute(self):\n",
    "        print('compiling')\n",
    "        print('Running')\n",
    "\n",
    "class Laptop:\n",
    "    def code(self, ide):\n",
    "        ide.execute()\n",
    "\n",
    "        \n",
    "ide=pycharm()\n",
    "\n",
    "lap1=Laptop()\n",
    "lap1.code(ide)"
   ]
  },
  {
   "cell_type": "code",
   "execution_count": 3,
   "id": "c2fbb8ad",
   "metadata": {},
   "outputs": [
    {
     "name": "stdout",
     "output_type": "stream",
     "text": [
      "hey\n",
      "there\n"
     ]
    }
   ],
   "source": [
    "class ninja:\n",
    "    def full(self):\n",
    "        print('hey')\n",
    "        print('there')\n",
    "class person:\n",
    "    def quality(self,ide):\n",
    "        ide.full()\n",
    "\n",
    "ide=ninja()\n",
    "\n",
    "p1=person()\n",
    "p1.quality(ide)"
   ]
  },
  {
   "cell_type": "code",
   "execution_count": 7,
   "id": "645977ec",
   "metadata": {},
   "outputs": [
    {
     "name": "stdout",
     "output_type": "stream",
     "text": [
      "spell check\n",
      "covention check\n",
      "Compiling\n",
      "Running\n"
     ]
    }
   ],
   "source": [
    "\n",
    "class Myeditor:\n",
    "    def execute(self):\n",
    "        print('spell check')\n",
    "        print('covention check')\n",
    "        print('Compiling')\n",
    "        print('Running')\n",
    "        \n",
    "        \n",
    "class Laptop:\n",
    "    def code(self, ide):\n",
    "        ide.execute()\n",
    "\n",
    "ide=Myeditor()       \n",
    "\n",
    "\n",
    "lap1=Laptop()\n",
    "lap1.code(ide)"
   ]
  },
  {
   "cell_type": "code",
   "execution_count": null,
   "id": "a399eef6",
   "metadata": {},
   "outputs": [],
   "source": []
  },
  {
   "cell_type": "markdown",
   "id": "7d5079d3",
   "metadata": {},
   "source": [
    "#### Operator Overloading"
   ]
  },
  {
   "cell_type": "code",
   "execution_count": 9,
   "id": "dae3e28d",
   "metadata": {},
   "outputs": [
    {
     "name": "stdout",
     "output_type": "stream",
     "text": [
      "11\n",
      "11\n"
     ]
    }
   ],
   "source": [
    "a=5\n",
    "b=6\n",
    "\n",
    "print(a+b)\n",
    "\n",
    "print(int.__add__(a,b))"
   ]
  },
  {
   "cell_type": "code",
   "execution_count": 11,
   "id": "73ec49c7",
   "metadata": {},
   "outputs": [
    {
     "name": "stdout",
     "output_type": "stream",
     "text": [
      "56\n"
     ]
    }
   ],
   "source": [
    "a='5'\n",
    "b='6'\n",
    "\n",
    "print(str.__add__(a,b))"
   ]
  },
  {
   "cell_type": "code",
   "execution_count": 12,
   "id": "c02fd240",
   "metadata": {},
   "outputs": [
    {
     "ename": "TypeError",
     "evalue": "unsupported operand type(s) for +: 'student' and 'student'",
     "output_type": "error",
     "traceback": [
      "\u001b[1;31m---------------------------------------------------------------------------\u001b[0m",
      "\u001b[1;31mTypeError\u001b[0m                                 Traceback (most recent call last)",
      "Cell \u001b[1;32mIn[12], line 9\u001b[0m\n\u001b[0;32m      6\u001b[0m s1\u001b[38;5;241m=\u001b[39mstudent(\u001b[38;5;241m58\u001b[39m,\u001b[38;5;241m69\u001b[39m)\n\u001b[0;32m      7\u001b[0m s2\u001b[38;5;241m=\u001b[39mstudent(\u001b[38;5;241m60\u001b[39m,\u001b[38;5;241m65\u001b[39m)\n\u001b[1;32m----> 9\u001b[0m total\u001b[38;5;241m=\u001b[39ms1\u001b[38;5;241m+\u001b[39ms2\n",
      "\u001b[1;31mTypeError\u001b[0m: unsupported operand type(s) for +: 'student' and 'student'"
     ]
    }
   ],
   "source": [
    "class student:\n",
    "    def __init__(self,m1,m2):\n",
    "        self.m1=m1\n",
    "        self.m2=m2\n",
    "\n",
    "s1=student(58,69)\n",
    "s2=student(60,65)\n",
    "\n",
    "total=s1+s2"
   ]
  },
  {
   "cell_type": "code",
   "execution_count": 15,
   "id": "707a7b71",
   "metadata": {},
   "outputs": [
    {
     "name": "stdout",
     "output_type": "stream",
     "text": [
      "118\n"
     ]
    }
   ],
   "source": [
    "class student:\n",
    "    def __init__(self,m1,m2):\n",
    "        self.m1=m1\n",
    "        self.m2=m2\n",
    "    def __add__(self,other):\n",
    "        m1=self.m1+other.m1\n",
    "        m2=self.m2+other.m2\n",
    "        total=student(m1,m2)\n",
    "        return total\n",
    "        \n",
    "s1=student(58,69)\n",
    "s2=student(60,65)\n",
    "\n",
    "total=s1+s2  # student __add__(s1,s2)\n",
    "\n",
    "print(total.m1)"
   ]
  },
  {
   "cell_type": "code",
   "execution_count": null,
   "id": "77fbe8d6",
   "metadata": {},
   "outputs": [],
   "source": []
  },
  {
   "cell_type": "code",
   "execution_count": 21,
   "id": "a17edaba",
   "metadata": {},
   "outputs": [
    {
     "name": "stdout",
     "output_type": "stream",
     "text": [
      "118\n",
      "s1 wins\n"
     ]
    }
   ],
   "source": [
    "class student:\n",
    "    def __init__(self,m1,m2):\n",
    "        self.m1=m1\n",
    "        self.m2=m2\n",
    "        \n",
    "    def __add__(self,other):\n",
    "        m1=self.m1+other.m1\n",
    "        m2=self.m2+other.m2\n",
    "        total=student(m1,m2)\n",
    "        return total\n",
    "            \n",
    "        \n",
    "    def __gt__(self,other):\n",
    "        r1=self.m1+self.m2\n",
    "        r2=other.m1+other.m2\n",
    "        if r1>r2:\n",
    "            return True\n",
    "        else:\n",
    "            return False\n",
    "        \n",
    "s1=student(58,69)\n",
    "s2=student(60,65)   \n",
    "\n",
    "total=s1+s2  # student __add__(s1,s2)\n",
    "\n",
    "print(total.m1)\n",
    "\n",
    "if s1>s2:\n",
    "    print('s1 wins')\n",
    "else:\n",
    "    print('s2 wins')"
   ]
  },
  {
   "cell_type": "code",
   "execution_count": null,
   "id": "307e5177",
   "metadata": {},
   "outputs": [],
   "source": []
  },
  {
   "cell_type": "markdown",
   "id": "376466a9",
   "metadata": {},
   "source": [
    "#### Method Overloading "
   ]
  },
  {
   "cell_type": "code",
   "execution_count": 23,
   "id": "c3ecfa8e",
   "metadata": {},
   "outputs": [
    {
     "data": {
      "text/plain": [
       "4"
      ]
     },
     "execution_count": 23,
     "metadata": {},
     "output_type": "execute_result"
    }
   ],
   "source": [
    "class student:\n",
    "    def __init__(self,m1,m2):\n",
    "        self.m1=m1\n",
    "        self.m2=m2\n",
    "    def sum(self,a,b):\n",
    "        s=a+b\n",
    "        return a\n",
    "s1= student(90,67)\n",
    "s1.sum(4,5)"
   ]
  },
  {
   "cell_type": "code",
   "execution_count": 25,
   "id": "3829ef8b",
   "metadata": {},
   "outputs": [
    {
     "ename": "TypeError",
     "evalue": "student.sum() takes 3 positional arguments but 4 were given",
     "output_type": "error",
     "traceback": [
      "\u001b[1;31m---------------------------------------------------------------------------\u001b[0m",
      "\u001b[1;31mTypeError\u001b[0m                                 Traceback (most recent call last)",
      "Cell \u001b[1;32mIn[25], line 9\u001b[0m\n\u001b[0;32m      7\u001b[0m         \u001b[38;5;28;01mreturn\u001b[39;00m a\n\u001b[0;32m      8\u001b[0m s1\u001b[38;5;241m=\u001b[39m student(\u001b[38;5;241m90\u001b[39m,\u001b[38;5;241m67\u001b[39m)\n\u001b[1;32m----> 9\u001b[0m s1\u001b[38;5;241m.\u001b[39msum(\u001b[38;5;241m4\u001b[39m,\u001b[38;5;241m5\u001b[39m,\u001b[38;5;241m6\u001b[39m)\n",
      "\u001b[1;31mTypeError\u001b[0m: student.sum() takes 3 positional arguments but 4 were given"
     ]
    }
   ],
   "source": [
    "class student:\n",
    "    def __init__(self,m1,m2):\n",
    "        self.m1=m1\n",
    "        self.m2=m2\n",
    "    def sum(self,a,b):\n",
    "        s=a+b\n",
    "        return a\n",
    "s1= student(90,67)\n",
    "s1.sum(4,5,6) # it will not work"
   ]
  },
  {
   "cell_type": "code",
   "execution_count": 38,
   "id": "60e65e8d",
   "metadata": {},
   "outputs": [
    {
     "name": "stdout",
     "output_type": "stream",
     "text": [
      "9\n",
      "13\n"
     ]
    },
    {
     "ename": "TypeError",
     "evalue": "unsupported operand type(s) for +: 'int' and 'NoneType'",
     "output_type": "error",
     "traceback": [
      "\u001b[1;31m---------------------------------------------------------------------------\u001b[0m",
      "\u001b[1;31mTypeError\u001b[0m                                 Traceback (most recent call last)",
      "Cell \u001b[1;32mIn[38], line 11\u001b[0m\n\u001b[0;32m      9\u001b[0m \u001b[38;5;28mprint\u001b[39m(s1\u001b[38;5;241m.\u001b[39msum(\u001b[38;5;241m4\u001b[39m,\u001b[38;5;241m5\u001b[39m))\n\u001b[0;32m     10\u001b[0m \u001b[38;5;28mprint\u001b[39m(s1\u001b[38;5;241m.\u001b[39msum(\u001b[38;5;241m6\u001b[39m,\u001b[38;5;241m7\u001b[39m,\u001b[38;5;241m9\u001b[39m))\n\u001b[1;32m---> 11\u001b[0m \u001b[38;5;28mprint\u001b[39m(s1\u001b[38;5;241m.\u001b[39msum(\u001b[38;5;241m45\u001b[39m))\n",
      "Cell \u001b[1;32mIn[38], line 6\u001b[0m, in \u001b[0;36mstudent.sum\u001b[1;34m(self, a, b, c)\u001b[0m\n\u001b[0;32m      5\u001b[0m \u001b[38;5;28;01mdef\u001b[39;00m \u001b[38;5;21msum\u001b[39m(\u001b[38;5;28mself\u001b[39m,a\u001b[38;5;241m=\u001b[39m\u001b[38;5;28;01mNone\u001b[39;00m,b\u001b[38;5;241m=\u001b[39m\u001b[38;5;28;01mNone\u001b[39;00m,c\u001b[38;5;241m=\u001b[39m\u001b[38;5;28;01mNone\u001b[39;00m):\n\u001b[1;32m----> 6\u001b[0m     s\u001b[38;5;241m=\u001b[39ma\u001b[38;5;241m+\u001b[39mb\n\u001b[0;32m      7\u001b[0m     \u001b[38;5;28;01mreturn\u001b[39;00m s\n",
      "\u001b[1;31mTypeError\u001b[0m: unsupported operand type(s) for +: 'int' and 'NoneType'"
     ]
    }
   ],
   "source": [
    "class student:\n",
    "    def __init__(self,m1,m2):\n",
    "        self.m1=m1\n",
    "        self.m2=m2\n",
    "    def sum(self,a=None,b=None,c=None):\n",
    "        s=a+b\n",
    "        return s\n",
    "s1= student(90,67)\n",
    "print(s1.sum(4,5))\n",
    "print(s1.sum(6,7,9))\n",
    "print(s1.sum(45))"
   ]
  },
  {
   "cell_type": "code",
   "execution_count": null,
   "id": "2c1cfe84",
   "metadata": {},
   "outputs": [],
   "source": []
  },
  {
   "cell_type": "markdown",
   "id": "096eba5e",
   "metadata": {},
   "source": [
    "### Method overriding "
   ]
  },
  {
   "cell_type": "code",
   "execution_count": 2,
   "id": "bbb16a56",
   "metadata": {},
   "outputs": [
    {
     "ename": "AttributeError",
     "evalue": "'B' object has no attribute 'show'",
     "output_type": "error",
     "traceback": [
      "\u001b[1;31m---------------------------------------------------------------------------\u001b[0m",
      "\u001b[1;31mAttributeError\u001b[0m                            Traceback (most recent call last)",
      "Cell \u001b[1;32mIn[2], line 8\u001b[0m\n\u001b[0;32m      5\u001b[0m     \u001b[38;5;28;01mpass\u001b[39;00m\n\u001b[0;32m      7\u001b[0m b1\u001b[38;5;241m=\u001b[39mB()\n\u001b[1;32m----> 8\u001b[0m b1\u001b[38;5;241m.\u001b[39mshow()\n",
      "\u001b[1;31mAttributeError\u001b[0m: 'B' object has no attribute 'show'"
     ]
    }
   ],
   "source": [
    "class A:\n",
    "    def show(self):\n",
    "        print('in a show')\n",
    "class B:\n",
    "    pass\n",
    "\n",
    "b1=B()\n",
    "b1.show()"
   ]
  },
  {
   "cell_type": "code",
   "execution_count": 3,
   "id": "ff625560",
   "metadata": {},
   "outputs": [
    {
     "name": "stdout",
     "output_type": "stream",
     "text": [
      "in a show\n"
     ]
    }
   ],
   "source": [
    "class A:\n",
    "    def show(self):\n",
    "        print('in a show')\n",
    "        \n",
    "class B(A):\n",
    "    pass\n",
    "\n",
    "b1=B()\n",
    "b1.show()"
   ]
  },
  {
   "cell_type": "code",
   "execution_count": 4,
   "id": "a9dfbe1f",
   "metadata": {},
   "outputs": [
    {
     "name": "stdout",
     "output_type": "stream",
     "text": [
      "in show B\n"
     ]
    }
   ],
   "source": [
    "class A:\n",
    "    def show(self):\n",
    "        print('in a show')\n",
    "        \n",
    "class B(A):\n",
    "    def show(self):\n",
    "        print('in show B')\n",
    "        \n",
    "b1=B()\n",
    "b1.show()  # this is method overriding"
   ]
  },
  {
   "cell_type": "code",
   "execution_count": null,
   "id": "2e4912fb",
   "metadata": {},
   "outputs": [],
   "source": []
  },
  {
   "cell_type": "code",
   "execution_count": null,
   "id": "ad8359b3",
   "metadata": {},
   "outputs": [],
   "source": []
  },
  {
   "cell_type": "code",
   "execution_count": null,
   "id": "e0979b0b",
   "metadata": {},
   "outputs": [],
   "source": []
  },
  {
   "cell_type": "code",
   "execution_count": null,
   "id": "b78b7e94",
   "metadata": {},
   "outputs": [],
   "source": []
  },
  {
   "cell_type": "code",
   "execution_count": null,
   "id": "98b803aa",
   "metadata": {},
   "outputs": [],
   "source": []
  },
  {
   "cell_type": "code",
   "execution_count": null,
   "id": "35de50a3",
   "metadata": {},
   "outputs": [],
   "source": []
  },
  {
   "cell_type": "code",
   "execution_count": null,
   "id": "2047f682",
   "metadata": {},
   "outputs": [],
   "source": []
  },
  {
   "cell_type": "code",
   "execution_count": null,
   "id": "36f5acc6",
   "metadata": {},
   "outputs": [],
   "source": []
  },
  {
   "cell_type": "code",
   "execution_count": null,
   "id": "a8fdb084",
   "metadata": {},
   "outputs": [],
   "source": []
  },
  {
   "cell_type": "code",
   "execution_count": null,
   "id": "125b2779",
   "metadata": {},
   "outputs": [],
   "source": []
  },
  {
   "cell_type": "code",
   "execution_count": null,
   "id": "6179a933",
   "metadata": {},
   "outputs": [],
   "source": []
  },
  {
   "cell_type": "code",
   "execution_count": null,
   "id": "71afe0e6",
   "metadata": {},
   "outputs": [],
   "source": []
  }
 ],
 "metadata": {
  "kernelspec": {
   "display_name": "Python 3 (ipykernel)",
   "language": "python",
   "name": "python3"
  },
  "language_info": {
   "codemirror_mode": {
    "name": "ipython",
    "version": 3
   },
   "file_extension": ".py",
   "mimetype": "text/x-python",
   "name": "python",
   "nbconvert_exporter": "python",
   "pygments_lexer": "ipython3",
   "version": "3.11.3"
  }
 },
 "nbformat": 4,
 "nbformat_minor": 5
}
