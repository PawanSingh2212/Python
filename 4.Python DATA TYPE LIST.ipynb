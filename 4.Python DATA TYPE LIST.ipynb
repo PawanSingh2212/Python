{
 "cells": [
  {
   "cell_type": "markdown",
   "id": "07aa0651",
   "metadata": {},
   "source": [
    "# Data type"
   ]
  },
  {
   "cell_type": "markdown",
   "id": "f2f65cf9",
   "metadata": {},
   "source": [
    "## python there are two types of DATA \n",
    "\n",
    "1. MUTABLE data types - Data types in python where the value assigned to a variable can be changed . But memmory address never changes .Some mutable data types in python includes Set,List,Dictionary \n",
    "2. IMMUTABLE data types - data types in python where the values assigned to a variable cann't be changed. But memmory address can be changed des - (all other data type are immutable) ex- String,Tuple,Integer,Float,"
   ]
  },
  {
   "cell_type": "markdown",
   "id": "9b05f33b",
   "metadata": {},
   "source": [
    "## Python List"
   ]
  },
  {
   "cell_type": "markdown",
   "id": "893b937b",
   "metadata": {},
   "source": [
    "### Properties of list\n",
    "\n",
    "1. Mutable: The elements of the list can be modified\n",
    "2. Ordered: The items in the list are ordered\n",
    "3. Heterogenous: The list can contain different types of elements(data types)\n",
    "4. Duplicate: The list can contain duplicates i.e, lists can contain two items with same value "
   ]
  },
  {
   "cell_type": "markdown",
   "id": "45ee1bcf",
   "metadata": {},
   "source": [
    "- list always written with square brackets "
   ]
  },
  {
   "cell_type": "code",
   "execution_count": 1,
   "id": "e2e44972",
   "metadata": {},
   "outputs": [
    {
     "name": "stdout",
     "output_type": "stream",
     "text": [
      "list[2, 4, 4, 2, 6, 77, 777, 'pawan', 1.4]\n"
     ]
    }
   ],
   "source": [
    "my_list= list[2,4,4,2,6,77,777,\"pawan\",1.4,]\n",
    "print(my_list)\n"
   ]
  },
  {
   "cell_type": "code",
   "execution_count": 2,
   "id": "d2f5bd9d",
   "metadata": {},
   "outputs": [
    {
     "name": "stdout",
     "output_type": "stream",
     "text": [
      "9\n"
     ]
    }
   ],
   "source": [
    "my_list= [2,4,4,2,6,77,777,\"pawan\",1.4,]\n",
    "\n",
    "print(len(my_list))\n"
   ]
  },
  {
   "cell_type": "code",
   "execution_count": 5,
   "id": "c0b6b7df",
   "metadata": {},
   "outputs": [
    {
     "name": "stdout",
     "output_type": "stream",
     "text": [
      "9\n"
     ]
    }
   ],
   "source": [
    "my_list= [2,4,4,2,6,77,777     ,\"pawan\",1.4,]           # space is a character but not shown here\n",
    "\n",
    "print(len(my_list))                                      "
   ]
  },
  {
   "cell_type": "code",
   "execution_count": 20,
   "id": "fbe9bf33",
   "metadata": {},
   "outputs": [
    {
     "name": "stdout",
     "output_type": "stream",
     "text": [
      "11\n"
     ]
    }
   ],
   "source": [
    "my_list= [2,4,4,\"     \", 2,6, \"       \", 77,777,\"pawan\",1.4,]   # we can makw space count by using \"\" comas\n",
    "print(len(my_list))"
   ]
  },
  {
   "cell_type": "code",
   "execution_count": 3,
   "id": "af38c031",
   "metadata": {},
   "outputs": [
    {
     "name": "stdout",
     "output_type": "stream",
     "text": [
      "[1, 2.3, 'pawam', (6+12j)]\n"
     ]
    }
   ],
   "source": [
    "list=[1,2.3,\"pawam\",6+12j]     #Hetrogenous contains diff. data types\n",
    "\n",
    "print(list)"
   ]
  },
  {
   "cell_type": "code",
   "execution_count": 1,
   "id": "557cc5da",
   "metadata": {},
   "outputs": [
    {
     "name": "stdout",
     "output_type": "stream",
     "text": [
      "[1, 2, 2, 12.3, 'pawam', 1, (6+12j)]\n"
     ]
    }
   ],
   "source": [
    "list=[1,2,2,12.3,\"pawam\",1,6+12j]     # Duplicate  having repeated  elements\n",
    "print(list)"
   ]
  },
  {
   "cell_type": "markdown",
   "id": "0c69bbc9",
   "metadata": {},
   "source": [
    "### Ordered / Indexing"
   ]
  },
  {
   "cell_type": "markdown",
   "id": "2dc3d831",
   "metadata": {},
   "source": [
    "- Ordered list (INDEX) counted from 0,1,2.....\n",
    "- items are counted from 1,2,3...."
   ]
  },
  {
   "cell_type": "code",
   "execution_count": 6,
   "id": "0f2e2003",
   "metadata": {},
   "outputs": [
    {
     "data": {
      "text/plain": [
       "'pawam'"
      ]
     },
     "execution_count": 6,
     "metadata": {},
     "output_type": "execute_result"
    }
   ],
   "source": [
    "list[3]      # ordered  (index 3 have item \"pawan\")"
   ]
  },
  {
   "cell_type": "code",
   "execution_count": 28,
   "id": "1bd41486",
   "metadata": {},
   "outputs": [
    {
     "name": "stdout",
     "output_type": "stream",
     "text": [
      "[1, 2.3, 1, 'pawan', (12+2j), 8]\n",
      "6\n",
      "(12+2j)\n"
     ]
    }
   ],
   "source": [
    "list1=[1,2.3,1,\"pawan\",12+2j,8]\n",
    "print(list1)\n",
    "print(len(list1))\n",
    "print(list1[4])"
   ]
  },
  {
   "cell_type": "markdown",
   "id": "09ad1148",
   "metadata": {},
   "source": [
    "### Positive Indexing, Negative Indexing\n",
    "\n",
    "##### Positive Indexing- starts from left to right   counting -0,1,2,3,4...\n",
    "##### Negative Indexing- starts from right to left  counting- -1,-2,-3,-4..."
   ]
  },
  {
   "cell_type": "code",
   "execution_count": 13,
   "id": "e2effec6",
   "metadata": {},
   "outputs": [],
   "source": [
    "list1=[1,2.3,1,\"pawan\",12+2j,8]"
   ]
  },
  {
   "cell_type": "code",
   "execution_count": 14,
   "id": "23c901b7",
   "metadata": {},
   "outputs": [
    {
     "data": {
      "text/plain": [
       "8"
      ]
     },
     "execution_count": 14,
     "metadata": {},
     "output_type": "execute_result"
    }
   ],
   "source": [
    "list1[-1]         # Negative Indexing"
   ]
  },
  {
   "cell_type": "code",
   "execution_count": 16,
   "id": "9cd55a9b",
   "metadata": {},
   "outputs": [
    {
     "name": "stdout",
     "output_type": "stream",
     "text": [
      "pawan\n",
      "pawan\n"
     ]
    }
   ],
   "source": [
    "print(list1[3])\n",
    "print(list1[3-6])\n"
   ]
  },
  {
   "cell_type": "code",
   "execution_count": 12,
   "id": "aa6c135b",
   "metadata": {},
   "outputs": [],
   "source": [
    "term=[1,2,5.7,'holly',7+4j,\"worhty\"]"
   ]
  },
  {
   "cell_type": "code",
   "execution_count": 41,
   "id": "8eca859d",
   "metadata": {},
   "outputs": [
    {
     "name": "stdout",
     "output_type": "stream",
     "text": [
      "(7+4j)\n",
      "(7+4j)\n"
     ]
    }
   ],
   "source": [
    "print(term[4])\n",
    "print(term[4-6]) # same item by reverse indexing "
   ]
  },
  {
   "cell_type": "code",
   "execution_count": 17,
   "id": "0934965d",
   "metadata": {},
   "outputs": [
    {
     "ename": "SyntaxError",
     "evalue": "invalid decimal literal (2110011990.py, line 1)",
     "output_type": "error",
     "traceback": [
      "\u001b[1;36m  Cell \u001b[1;32mIn[17], line 1\u001b[1;36m\u001b[0m\n\u001b[1;33m    list0=[1,\"pawan\",2.3,1,\"y\",45+16k]\u001b[0m\n\u001b[1;37m                                   ^\u001b[0m\n\u001b[1;31mSyntaxError\u001b[0m\u001b[1;31m:\u001b[0m invalid decimal literal\n"
     ]
    }
   ],
   "source": [
    "list0=[1,\"pawan\",2.3,1,\"y\",45+16k]       # only j is used as iota in python not any other alphabet\n",
    "print(list0)"
   ]
  },
  {
   "cell_type": "markdown",
   "id": "b107cc6b",
   "metadata": {},
   "source": [
    " ### Formula \n",
    "  \n",
    "  POSTIVE Index no. - total no. of items"
   ]
  },
  {
   "cell_type": "markdown",
   "id": "ea4c861e",
   "metadata": {},
   "source": [
    "### slicing of list"
   ]
  },
  {
   "cell_type": "code",
   "execution_count": 11,
   "id": "4da9a7f8",
   "metadata": {},
   "outputs": [],
   "source": [
    "list1=[1,2.3,1,\"pawan\",12+2j,8]"
   ]
  },
  {
   "cell_type": "code",
   "execution_count": 12,
   "id": "a953f083",
   "metadata": {},
   "outputs": [
    {
     "name": "stdout",
     "output_type": "stream",
     "text": [
      "['pawan', (12+2j)]\n"
     ]
    }
   ],
   "source": [
    "print(list1[3:5])    # it will show only index no. 3,4 not 5"
   ]
  },
  {
   "cell_type": "markdown",
   "id": "166b2fbc",
   "metadata": {},
   "source": [
    "#### For negative we have to write index no. from left to right [-5:-3], [-3:-1] \n",
    "    - or smaller no. first "
   ]
  },
  {
   "cell_type": "code",
   "execution_count": 18,
   "id": "f6b77dba",
   "metadata": {},
   "outputs": [
    {
     "name": "stdout",
     "output_type": "stream",
     "text": [
      "[]\n"
     ]
    }
   ],
   "source": [
    "print(list1[-1:-4])"
   ]
  },
  {
   "cell_type": "code",
   "execution_count": 19,
   "id": "c4196565",
   "metadata": {},
   "outputs": [
    {
     "name": "stdout",
     "output_type": "stream",
     "text": [
      "[1, 'pawan', (12+2j)]\n"
     ]
    }
   ],
   "source": [
    "print(list1[-4:-1])"
   ]
  },
  {
   "cell_type": "code",
   "execution_count": 13,
   "id": "82bf1f8f",
   "metadata": {},
   "outputs": [
    {
     "name": "stdout",
     "output_type": "stream",
     "text": [
      "['pawan', (12+2j)]\n",
      "[2.3, 1, 'pawan']\n"
     ]
    }
   ],
   "source": [
    "print(list1[-3:-1]) # it will show only index no. -3,-2\n",
    "print(list1[-5:-2]) # it will show only index no. -5,-4,-3"
   ]
  },
  {
   "cell_type": "markdown",
   "id": "c0168142",
   "metadata": {},
   "source": [
    "- If we have 5 elements so we have to write [1:6] to get  the 5th element sliced"
   ]
  },
  {
   "cell_type": "code",
   "execution_count": 21,
   "id": "8124f5c5",
   "metadata": {},
   "outputs": [],
   "source": [
    "new_list=[1,9.6,\"alice\",2+4j,1,98,\"f\",78]"
   ]
  },
  {
   "cell_type": "code",
   "execution_count": 22,
   "id": "65d189ef",
   "metadata": {},
   "outputs": [
    {
     "name": "stdout",
     "output_type": "stream",
     "text": [
      "[(2+4j), 1, 98, 'f', 78]\n"
     ]
    }
   ],
   "source": [
    "print(new_list[3:8])"
   ]
  },
  {
   "cell_type": "code",
   "execution_count": 23,
   "id": "3e6d9399",
   "metadata": {},
   "outputs": [
    {
     "name": "stdout",
     "output_type": "stream",
     "text": [
      "[(2+4j), 1, 98, 'f']\n"
     ]
    }
   ],
   "source": [
    "print(new_list[3:7])"
   ]
  },
  {
   "cell_type": "code",
   "execution_count": null,
   "id": "03b387e3",
   "metadata": {},
   "outputs": [],
   "source": []
  },
  {
   "cell_type": "code",
   "execution_count": 2,
   "id": "8d783103",
   "metadata": {},
   "outputs": [
    {
     "name": "stdout",
     "output_type": "stream",
     "text": [
      "[10, 20, 'shreya', 12.5, 'malni', 25, 50, 4, 3, 9, 70, 80]\n"
     ]
    }
   ],
   "source": [
    "print(my_list[:]) # this full sclicing "
   ]
  },
  {
   "cell_type": "markdown",
   "id": "1e581c1b",
   "metadata": {},
   "source": [
    "## Step slicing\n",
    "\n",
    "#### listname[start_index:end_index:step]\n"
   ]
  },
  {
   "cell_type": "code",
   "execution_count": 2,
   "id": "2baca23b",
   "metadata": {},
   "outputs": [
    {
     "name": "stdout",
     "output_type": "stream",
     "text": [
      "[20, 12.5, 25, 4]\n",
      "[20, 12.5]\n"
     ]
    }
   ],
   "source": [
    "my_list=[10,20,'shreya',12.50,'malni',25,50,4,3,9,70,80]\n",
    "\n",
    "# extracting a portion of the list from 2nd till 8th element\n",
    "\n",
    "print(my_list[1:8:2])\n",
    "\n",
    "# output [20,12.5,25,4]\n",
    "\n",
    "print(my_list[1:4:2])\n",
    "\n"
   ]
  },
  {
   "cell_type": "code",
   "execution_count": 1,
   "id": "c193e092",
   "metadata": {},
   "outputs": [
    {
     "data": {
      "text/plain": [
       "[46, 34, 'pawan']"
      ]
     },
     "execution_count": 1,
     "metadata": {},
     "output_type": "execute_result"
    }
   ],
   "source": [
    "wl=[12,46,7,34,32,'pawan',45,454]\n",
    "\n",
    "wl[1:6:2]"
   ]
  },
  {
   "cell_type": "code",
   "execution_count": null,
   "id": "bda39154",
   "metadata": {},
   "outputs": [],
   "source": []
  },
  {
   "cell_type": "markdown",
   "id": "f0ff0f70",
   "metadata": {},
   "source": [
    "# Reversing of list"
   ]
  },
  {
   "cell_type": "code",
   "execution_count": 2,
   "id": "f66cbbf7",
   "metadata": {},
   "outputs": [
    {
     "name": "stdout",
     "output_type": "stream",
     "text": [
      "[80, 70, 9, 3, 4, 50, 25, 'malni', 12.5, 'shreya', 20, 10]\n"
     ]
    }
   ],
   "source": [
    "my_list=[10,20,'shreya',12.50,'malni',25,50,4,3,9,70,80]\n",
    "\n",
    "print(my_list[::-1])"
   ]
  },
  {
   "cell_type": "code",
   "execution_count": 12,
   "id": "93f4ab3a",
   "metadata": {},
   "outputs": [
    {
     "data": {
      "text/plain": [
       "[10, 20, 'shreya', 12.5, 'malni', 25, 50, 4, 3, 9, 70]"
      ]
     },
     "execution_count": 12,
     "metadata": {},
     "output_type": "execute_result"
    }
   ],
   "source": [
    "my_list[:-1]\n"
   ]
  },
  {
   "cell_type": "code",
   "execution_count": null,
   "id": "ef5aedbe",
   "metadata": {},
   "outputs": [],
   "source": []
  },
  {
   "cell_type": "markdown",
   "id": "862f5a3d",
   "metadata": {},
   "source": [
    "### Adding elements to the list  "
   ]
  },
  {
   "cell_type": "markdown",
   "id": "03d9adf0",
   "metadata": {},
   "source": [
    "#### 1. APPEND item at the end of the list"
   ]
  },
  {
   "cell_type": "code",
   "execution_count": 5,
   "id": "fddbb638",
   "metadata": {},
   "outputs": [],
   "source": [
    "list2=[1,5.6,\"pawan\",2+3j,14]\n"
   ]
  },
  {
   "cell_type": "code",
   "execution_count": 6,
   "id": "8372ac28",
   "metadata": {},
   "outputs": [
    {
     "data": {
      "text/plain": [
       "2037372569600"
      ]
     },
     "execution_count": 6,
     "metadata": {},
     "output_type": "execute_result"
    }
   ],
   "source": [
    "id(list2)"
   ]
  },
  {
   "cell_type": "code",
   "execution_count": 7,
   "id": "9bdd551a",
   "metadata": {},
   "outputs": [
    {
     "name": "stdout",
     "output_type": "stream",
     "text": [
      "[1, 5.6, 'pawan', (2+3j), 14, 'singh']\n"
     ]
    },
    {
     "data": {
      "text/plain": [
       "2037372569600"
      ]
     },
     "execution_count": 7,
     "metadata": {},
     "output_type": "execute_result"
    }
   ],
   "source": [
    "list2.append(\"singh\")\n",
    "print(list2)    # i ran it several times\n",
    "\n",
    "id(list2)"
   ]
  },
  {
   "cell_type": "code",
   "execution_count": 7,
   "id": "3b198f45",
   "metadata": {},
   "outputs": [],
   "source": [
    "list3=[1,2,3,\"hey\",3.4]"
   ]
  },
  {
   "cell_type": "code",
   "execution_count": 8,
   "id": "c16acf7d",
   "metadata": {},
   "outputs": [
    {
     "data": {
      "text/plain": [
       "2150090920256"
      ]
     },
     "execution_count": 8,
     "metadata": {},
     "output_type": "execute_result"
    }
   ],
   "source": [
    "id(list3)"
   ]
  },
  {
   "cell_type": "code",
   "execution_count": 16,
   "id": "6d44b021",
   "metadata": {},
   "outputs": [
    {
     "name": "stdout",
     "output_type": "stream",
     "text": [
      "[1, 2, 3, 'hey', 3.4, (2+6j), (2+6j), (2+6j), (2+6j)]\n"
     ]
    }
   ],
   "source": [
    "list3.append(2+6j)\n",
    "print(list3)"
   ]
  },
  {
   "cell_type": "code",
   "execution_count": 15,
   "id": "cec1b68f",
   "metadata": {},
   "outputs": [
    {
     "data": {
      "text/plain": [
       "2150090920256"
      ]
     },
     "execution_count": 15,
     "metadata": {},
     "output_type": "execute_result"
    }
   ],
   "source": [
    "id(list3)            # id is same after appending c/z list is mutable data type"
   ]
  },
  {
   "cell_type": "code",
   "execution_count": 19,
   "id": "e4f76c6c",
   "metadata": {},
   "outputs": [
    {
     "name": "stdout",
     "output_type": "stream",
     "text": [
      "[1, 2, 'singh', [1, 2, 3], [1, 2, 3], (16+5j), 3, 'hey', 3.4, (2+6j), (2+6j), (2+6j), (2+6j), [1, 2, 3], [1, 2, 3]]\n"
     ]
    }
   ],
   "source": [
    "list3.append([1,2,3])           # it can add list inside list\n",
    "print(list3)"
   ]
  },
  {
   "cell_type": "code",
   "execution_count": 23,
   "id": "75865976",
   "metadata": {},
   "outputs": [
    {
     "ename": "TypeError",
     "evalue": "list.append() takes exactly one argument (3 given)",
     "output_type": "error",
     "traceback": [
      "\u001b[1;31m---------------------------------------------------------------------------\u001b[0m",
      "\u001b[1;31mTypeError\u001b[0m                                 Traceback (most recent call last)",
      "Cell \u001b[1;32mIn[23], line 1\u001b[0m\n\u001b[1;32m----> 1\u001b[0m list3\u001b[38;5;241m.\u001b[39mappend(\u001b[38;5;124m\"\u001b[39m\u001b[38;5;124mw\u001b[39m\u001b[38;5;124m\"\u001b[39m,\u001b[38;5;124m\"\u001b[39m\u001b[38;5;124mq\u001b[39m\u001b[38;5;124m\"\u001b[39m,\u001b[38;5;124m\"\u001b[39m\u001b[38;5;124mw\u001b[39m\u001b[38;5;124m\"\u001b[39m)\n",
      "\u001b[1;31mTypeError\u001b[0m: list.append() takes exactly one argument (3 given)"
     ]
    }
   ],
   "source": [
    "list3.append(\"w\",\"q\",\"w\")               #append takes only one element"
   ]
  },
  {
   "cell_type": "markdown",
   "id": "a4bdf891",
   "metadata": {},
   "source": [
    "### 2.addtion using Insert method"
   ]
  },
  {
   "cell_type": "code",
   "execution_count": 3,
   "id": "ad5ff116",
   "metadata": {},
   "outputs": [],
   "source": [
    "list3=[1, 2, 3, 'hey', 3.4, (2+6j), (2+6j), (2+6j), (2+6j)]"
   ]
  },
  {
   "cell_type": "code",
   "execution_count": 4,
   "id": "3a12cf14",
   "metadata": {},
   "outputs": [],
   "source": [
    "list3.insert(2,\"singh\")             # it inserted \"singh\" at index no. 2 shfiting the places"
   ]
  },
  {
   "cell_type": "code",
   "execution_count": 5,
   "id": "f2fd9730",
   "metadata": {},
   "outputs": [
    {
     "name": "stdout",
     "output_type": "stream",
     "text": [
      "[1, 2, 'singh', 3, 'hey', 3.4, (2+6j), (2+6j), (2+6j), (2+6j)]\n"
     ]
    }
   ],
   "source": [
    "print(list3)"
   ]
  },
  {
   "cell_type": "code",
   "execution_count": 6,
   "id": "d2dcf6ed",
   "metadata": {},
   "outputs": [
    {
     "name": "stdout",
     "output_type": "stream",
     "text": [
      "[1, 2, 'singh', (16+5j), 3, 'hey', 3.4, (2+6j), (2+6j), (2+6j), (2+6j)]\n"
     ]
    }
   ],
   "source": [
    "list3.insert(3,16+5j)\n",
    "print(list3)"
   ]
  },
  {
   "cell_type": "code",
   "execution_count": 8,
   "id": "09ee5eaa",
   "metadata": {},
   "outputs": [
    {
     "name": "stdout",
     "output_type": "stream",
     "text": [
      "[1, 2, 'singh', [1, 2, 3], [1, 2, 3], (16+5j), 3, 'hey', 3.4, (2+6j), (2+6j), (2+6j), (2+6j)]\n"
     ]
    }
   ],
   "source": [
    "list3.insert(3,[1,2,3])\n",
    "print(list3)"
   ]
  },
  {
   "cell_type": "markdown",
   "id": "1bd19a4b",
   "metadata": {},
   "source": [
    "### 3. addition using extend method"
   ]
  },
  {
   "cell_type": "code",
   "execution_count": 23,
   "id": "caffc3e4",
   "metadata": {},
   "outputs": [],
   "source": [
    "list_no=[23,45,0.9,\"wahh\"]"
   ]
  },
  {
   "cell_type": "code",
   "execution_count": 24,
   "id": "b2a8ecaf",
   "metadata": {},
   "outputs": [],
   "source": [
    "list_no.extend('disha')"
   ]
  },
  {
   "cell_type": "code",
   "execution_count": 12,
   "id": "e379a168",
   "metadata": {},
   "outputs": [
    {
     "name": "stdout",
     "output_type": "stream",
     "text": [
      "[23, 45, 0.9, 'wahh', 'd', 'i', 's', 'h', 'a']\n"
     ]
    }
   ],
   "source": [
    "print(list_no)"
   ]
  },
  {
   "cell_type": "code",
   "execution_count": 13,
   "id": "e24bbd2f",
   "metadata": {},
   "outputs": [],
   "source": [
    "list_no.extend([1,3,4])"
   ]
  },
  {
   "cell_type": "code",
   "execution_count": 14,
   "id": "d80c0422",
   "metadata": {},
   "outputs": [
    {
     "name": "stdout",
     "output_type": "stream",
     "text": [
      "[23, 45, 0.9, 'wahh', 'd', 'i', 's', 'h', 'a', 1, 3, 4]\n"
     ]
    }
   ],
   "source": [
    "print(list_no)"
   ]
  },
  {
   "cell_type": "code",
   "execution_count": 2,
   "id": "ca5c37c9",
   "metadata": {},
   "outputs": [],
   "source": [
    "po=[12,34.56,\"pawan\",78]"
   ]
  },
  {
   "cell_type": "code",
   "execution_count": 4,
   "id": "3f1217bc",
   "metadata": {},
   "outputs": [
    {
     "name": "stdout",
     "output_type": "stream",
     "text": [
      "[12, 34.56, 'pawan', 78, 1, 1]\n"
     ]
    }
   ],
   "source": [
    "po.extend([1])\n",
    "print(po)"
   ]
  },
  {
   "cell_type": "code",
   "execution_count": 6,
   "id": "83ba2511",
   "metadata": {},
   "outputs": [
    {
     "name": "stdout",
     "output_type": "stream",
     "text": [
      "[12, 34.56, 'pawan', 78, '[', '7', '8', ',', '3', '4', ',', '5', '6', ']', '[', '7', '8', ',', '3', '4', ',', '5', '6', ']']\n"
     ]
    }
   ],
   "source": [
    "po.extend(\"[78,34,56]\")\n",
    "print(po)"
   ]
  },
  {
   "cell_type": "code",
   "execution_count": 10,
   "id": "750c6d4c",
   "metadata": {},
   "outputs": [],
   "source": [
    "u=[334,456,78,89,43]"
   ]
  },
  {
   "cell_type": "code",
   "execution_count": 11,
   "id": "842c1450",
   "metadata": {},
   "outputs": [
    {
     "name": "stdout",
     "output_type": "stream",
     "text": [
      "[334, 456, 78, 89, 43, [9, 89, 84]]\n"
     ]
    }
   ],
   "source": [
    "u.extend([[9,89,84]])\n",
    "print(u)"
   ]
  },
  {
   "cell_type": "code",
   "execution_count": 12,
   "id": "bf112f3e",
   "metadata": {},
   "outputs": [
    {
     "ename": "TypeError",
     "evalue": "'int' object is not iterable",
     "output_type": "error",
     "traceback": [
      "\u001b[1;31m---------------------------------------------------------------------------\u001b[0m",
      "\u001b[1;31mTypeError\u001b[0m                                 Traceback (most recent call last)",
      "Cell \u001b[1;32mIn[12], line 1\u001b[0m\n\u001b[1;32m----> 1\u001b[0m u\u001b[38;5;241m.\u001b[39mextend(\u001b[38;5;241m5\u001b[39m)\n",
      "\u001b[1;31mTypeError\u001b[0m: 'int' object is not iterable"
     ]
    }
   ],
   "source": [
    "u.extend(5)  # only iterable items can be added"
   ]
  },
  {
   "cell_type": "code",
   "execution_count": 13,
   "id": "16d026e8",
   "metadata": {},
   "outputs": [
    {
     "ename": "TypeError",
     "evalue": "list.extend() takes exactly one argument (2 given)",
     "output_type": "error",
     "traceback": [
      "\u001b[1;31m---------------------------------------------------------------------------\u001b[0m",
      "\u001b[1;31mTypeError\u001b[0m                                 Traceback (most recent call last)",
      "Cell \u001b[1;32mIn[13], line 1\u001b[0m\n\u001b[1;32m----> 1\u001b[0m u\u001b[38;5;241m.\u001b[39mextend(\u001b[38;5;241m10\u001b[39m,\u001b[38;5;241m20\u001b[39m)\n",
      "\u001b[1;31mTypeError\u001b[0m: list.extend() takes exactly one argument (2 given)"
     ]
    }
   ],
   "source": [
    "u.extend(10,20)"
   ]
  },
  {
   "cell_type": "code",
   "execution_count": 17,
   "id": "b35bf2bc",
   "metadata": {},
   "outputs": [
    {
     "name": "stdout",
     "output_type": "stream",
     "text": [
      "None\n"
     ]
    }
   ],
   "source": [
    "print(u.extend('n'))      # do not works with print func"
   ]
  },
  {
   "cell_type": "code",
   "execution_count": 18,
   "id": "736f90d3",
   "metadata": {},
   "outputs": [],
   "source": [
    "u.extend('n')"
   ]
  },
  {
   "cell_type": "code",
   "execution_count": 19,
   "id": "cb84cfab",
   "metadata": {},
   "outputs": [
    {
     "name": "stdout",
     "output_type": "stream",
     "text": [
      "[334, 456, 78, 89, 43, [9, 89, 84], 'p', 'a', 'w', 'a', 'n', 'p', 'a', 'w', 'a', 'n', 'n', 'n']\n"
     ]
    }
   ],
   "source": [
    "print(u)"
   ]
  },
  {
   "cell_type": "markdown",
   "id": "023bd6b7",
   "metadata": {},
   "source": [
    "#### None is a special built-in constant that represents the absence of a value or a null value. It is used to indicate that a variable or expression doesn't have a meaningful value."
   ]
  },
  {
   "cell_type": "markdown",
   "id": "6a415e18",
   "metadata": {},
   "source": [
    "## Modify the items of the list\n",
    "\n",
    "    list[index no.]=data"
   ]
  },
  {
   "cell_type": "code",
   "execution_count": 2,
   "id": "8eabb9ad",
   "metadata": {},
   "outputs": [
    {
     "data": {
      "text/plain": [
       "2319712649664"
      ]
     },
     "execution_count": 2,
     "metadata": {},
     "output_type": "execute_result"
    }
   ],
   "source": [
    "p_list=[9,5,7,34.5,23]\n",
    "id(p_list)"
   ]
  },
  {
   "cell_type": "code",
   "execution_count": 3,
   "id": "955902ed",
   "metadata": {},
   "outputs": [],
   "source": [
    "p_list[3]=89"
   ]
  },
  {
   "cell_type": "code",
   "execution_count": 4,
   "id": "b4fea10e",
   "metadata": {},
   "outputs": [
    {
     "name": "stdout",
     "output_type": "stream",
     "text": [
      "[9, 5, 7, 89, 23]\n"
     ]
    }
   ],
   "source": [
    "print(p_list)       # replaced item no.3 (34.5 with 89)"
   ]
  },
  {
   "cell_type": "code",
   "execution_count": 5,
   "id": "6ba8910c",
   "metadata": {},
   "outputs": [
    {
     "data": {
      "text/plain": [
       "2319712649664"
      ]
     },
     "execution_count": 5,
     "metadata": {},
     "output_type": "execute_result"
    }
   ],
   "source": [
    "id(p_list)"
   ]
  },
  {
   "cell_type": "code",
   "execution_count": 6,
   "id": "22d3aac1",
   "metadata": {},
   "outputs": [],
   "source": [
    "p_list[4]=69\n"
   ]
  },
  {
   "cell_type": "code",
   "execution_count": 7,
   "id": "77da64d7",
   "metadata": {},
   "outputs": [
    {
     "name": "stdout",
     "output_type": "stream",
     "text": [
      "[9, 5, 7, 89, 69]\n"
     ]
    }
   ],
   "source": [
    "print(p_list)"
   ]
  },
  {
   "cell_type": "code",
   "execution_count": 23,
   "id": "35ed1a70",
   "metadata": {},
   "outputs": [
    {
     "data": {
      "text/plain": [
       "2237855252672"
      ]
     },
     "execution_count": 23,
     "metadata": {},
     "output_type": "execute_result"
    }
   ],
   "source": [
    "id(p_list)"
   ]
  },
  {
   "cell_type": "code",
   "execution_count": 8,
   "id": "5d9379da",
   "metadata": {},
   "outputs": [
    {
     "ename": "TypeError",
     "evalue": "can only assign an iterable",
     "output_type": "error",
     "traceback": [
      "\u001b[1;31m---------------------------------------------------------------------------\u001b[0m",
      "\u001b[1;31mTypeError\u001b[0m                                 Traceback (most recent call last)",
      "Cell \u001b[1;32mIn[8], line 1\u001b[0m\n\u001b[1;32m----> 1\u001b[0m p_list[\u001b[38;5;241m0\u001b[39m:\u001b[38;5;241m2\u001b[39m]\u001b[38;5;241m=\u001b[39m\u001b[38;5;241m21\u001b[39m\n",
      "\u001b[1;31mTypeError\u001b[0m: can only assign an iterable"
     ]
    }
   ],
   "source": [
    "p_list[0:2]=21"
   ]
  },
  {
   "cell_type": "markdown",
   "id": "707a5871",
   "metadata": {},
   "source": [
    "### - modifying more than one indexes"
   ]
  },
  {
   "cell_type": "code",
   "execution_count": 1,
   "id": "cdef5afe",
   "metadata": {},
   "outputs": [],
   "source": [
    "c_list=[1,2,4.5,78,34,2,7]"
   ]
  },
  {
   "cell_type": "code",
   "execution_count": 2,
   "id": "617a265e",
   "metadata": {},
   "outputs": [],
   "source": [
    "c_list[0:3]=[20,80,90,233]    # it replaced indexes 0,1,2"
   ]
  },
  {
   "cell_type": "code",
   "execution_count": 3,
   "id": "2db6ace8",
   "metadata": {},
   "outputs": [
    {
     "name": "stdout",
     "output_type": "stream",
     "text": [
      "[20, 80, 90, 233, 78, 34, 2, 7]\n"
     ]
    }
   ],
   "source": [
    "print(c_list)       "
   ]
  },
  {
   "cell_type": "code",
   "execution_count": 4,
   "id": "fd0162ce",
   "metadata": {},
   "outputs": [],
   "source": [
    "q_list=[45,67,89,6.7,\"hello\",567,345]"
   ]
  },
  {
   "cell_type": "code",
   "execution_count": 5,
   "id": "d765d73c",
   "metadata": {},
   "outputs": [
    {
     "name": "stdout",
     "output_type": "stream",
     "text": [
      "[0, 9, 8, 7, 6, 567, 345]\n"
     ]
    }
   ],
   "source": [
    "q_list[0:5]=[0,9,8,7,6]\n",
    "print(q_list)"
   ]
  },
  {
   "cell_type": "code",
   "execution_count": 24,
   "id": "40f9b302",
   "metadata": {},
   "outputs": [],
   "source": [
    "t_list=[1,2,3.4,5.6,23,56,3]"
   ]
  },
  {
   "cell_type": "code",
   "execution_count": 25,
   "id": "be2718af",
   "metadata": {},
   "outputs": [],
   "source": [
    "t_list[2:4]=[\"pawan\"]    # it replaced index numbers 2,3 with \"pawan\""
   ]
  },
  {
   "cell_type": "code",
   "execution_count": 26,
   "id": "80eee1dc",
   "metadata": {},
   "outputs": [
    {
     "name": "stdout",
     "output_type": "stream",
     "text": [
      "[1, 2, 'pawan', 23, 56, 3]\n"
     ]
    }
   ],
   "source": [
    "print(t_list)"
   ]
  },
  {
   "cell_type": "code",
   "execution_count": 61,
   "id": "a7675eac",
   "metadata": {},
   "outputs": [],
   "source": [
    "t_list[2:4]=\"pawan\""
   ]
  },
  {
   "cell_type": "code",
   "execution_count": 62,
   "id": "2393c019",
   "metadata": {},
   "outputs": [
    {
     "name": "stdout",
     "output_type": "stream",
     "text": [
      "[1, 2, 'p', 'a', 'w', 'a', 'n', 56, 3]\n"
     ]
    }
   ],
   "source": [
    "print(t_list)"
   ]
  },
  {
   "cell_type": "code",
   "execution_count": 12,
   "id": "39d0e6ad",
   "metadata": {},
   "outputs": [],
   "source": [
    "h=[2,4,6,78,89]"
   ]
  },
  {
   "cell_type": "code",
   "execution_count": 13,
   "id": "0e913d6e",
   "metadata": {},
   "outputs": [],
   "source": [
    "h[0:4]=\"pawan\""
   ]
  },
  {
   "cell_type": "code",
   "execution_count": 14,
   "id": "14cc0dfb",
   "metadata": {},
   "outputs": [
    {
     "name": "stdout",
     "output_type": "stream",
     "text": [
      "['p', 'a', 'w', 'a', 'n', 89]\n"
     ]
    }
   ],
   "source": [
    "print(h)"
   ]
  },
  {
   "cell_type": "code",
   "execution_count": 15,
   "id": "f2d04047",
   "metadata": {},
   "outputs": [],
   "source": [
    "h[0:4]=[\"pawan\"]"
   ]
  },
  {
   "cell_type": "code",
   "execution_count": 16,
   "id": "371b6874",
   "metadata": {},
   "outputs": [
    {
     "name": "stdout",
     "output_type": "stream",
     "text": [
      "['pawan', 'n', 89]\n"
     ]
    }
   ],
   "source": [
    "print(h)"
   ]
  },
  {
   "cell_type": "code",
   "execution_count": 17,
   "id": "7671db03",
   "metadata": {},
   "outputs": [],
   "source": [
    "h[0:1]=[\"singh\"+\"pawan\"]"
   ]
  },
  {
   "cell_type": "code",
   "execution_count": 18,
   "id": "d70ed993",
   "metadata": {},
   "outputs": [
    {
     "name": "stdout",
     "output_type": "stream",
     "text": [
      "['singhpawan', 'n', 89]\n"
     ]
    }
   ],
   "source": [
    "print(h)"
   ]
  },
  {
   "cell_type": "code",
   "execution_count": 19,
   "id": "0642d17a",
   "metadata": {},
   "outputs": [],
   "source": [
    "h.extend(\"arvi\")"
   ]
  },
  {
   "cell_type": "code",
   "execution_count": 20,
   "id": "a2f0b2cc",
   "metadata": {},
   "outputs": [
    {
     "name": "stdout",
     "output_type": "stream",
     "text": [
      "['singhpawan', 'n', 89, 'a', 'r', 'v', 'i']\n"
     ]
    }
   ],
   "source": [
    "print(h)"
   ]
  },
  {
   "cell_type": "code",
   "execution_count": 21,
   "id": "c3f60ed1",
   "metadata": {},
   "outputs": [],
   "source": [
    "h.extend([\"arvi\"])"
   ]
  },
  {
   "cell_type": "code",
   "execution_count": 22,
   "id": "54afeac7",
   "metadata": {},
   "outputs": [
    {
     "name": "stdout",
     "output_type": "stream",
     "text": [
      "['singhpawan', 'n', 89, 'a', 'r', 'v', 'i', 'arvi']\n"
     ]
    }
   ],
   "source": [
    "print(h)"
   ]
  },
  {
   "cell_type": "code",
   "execution_count": 23,
   "id": "0dcd0872",
   "metadata": {},
   "outputs": [
    {
     "name": "stdout",
     "output_type": "stream",
     "text": [
      "['singhpawan', 'n', 'suryansh', 'r', 'v', 'i', 'arvi']\n"
     ]
    }
   ],
   "source": [
    "h[2:4]=[\"suryansh\"]\n",
    "print(h)"
   ]
  },
  {
   "cell_type": "code",
   "execution_count": 24,
   "id": "3a6c39b7",
   "metadata": {},
   "outputs": [
    {
     "name": "stdout",
     "output_type": "stream",
     "text": [
      "['singhpawan', 'n', 22, 'v', 'i', 'arvi']\n"
     ]
    }
   ],
   "source": [
    "h[2:4]=[22]\n",
    "print(h)"
   ]
  },
  {
   "cell_type": "code",
   "execution_count": 25,
   "id": "2ccb7689",
   "metadata": {},
   "outputs": [],
   "source": [
    "h[0:2]=22,34"
   ]
  },
  {
   "cell_type": "code",
   "execution_count": 26,
   "id": "4ededd7d",
   "metadata": {},
   "outputs": [
    {
     "name": "stdout",
     "output_type": "stream",
     "text": [
      "[22, 34, 22, 'v', 'i', 'arvi']\n"
     ]
    }
   ],
   "source": [
    "print(h)"
   ]
  },
  {
   "cell_type": "code",
   "execution_count": 27,
   "id": "a3a696be",
   "metadata": {},
   "outputs": [],
   "source": [
    "h[0:3]=[\"pawan\"*3]     "
   ]
  },
  {
   "cell_type": "code",
   "execution_count": 28,
   "id": "0ff848aa",
   "metadata": {},
   "outputs": [
    {
     "name": "stdout",
     "output_type": "stream",
     "text": [
      "['pawanpawanpawan', 'v', 'i', 'arvi']\n"
     ]
    }
   ],
   "source": [
    "print(h)"
   ]
  },
  {
   "cell_type": "markdown",
   "id": "d526d8de",
   "metadata": {},
   "source": [
    "### Removing elements from a list"
   ]
  },
  {
   "cell_type": "markdown",
   "id": "08497f72",
   "metadata": {},
   "source": [
    "1. list.remove(item)\n",
    "2. list.pop(index)\n",
    "3. list.clear()\n",
    "4. del (list name)"
   ]
  },
  {
   "cell_type": "markdown",
   "id": "eaaa6b22",
   "metadata": {},
   "source": [
    "### remove"
   ]
  },
  {
   "cell_type": "code",
   "execution_count": 76,
   "id": "56285893",
   "metadata": {},
   "outputs": [
    {
     "data": {
      "text/plain": [
       "2353699611968"
      ]
     },
     "execution_count": 76,
     "metadata": {},
     "output_type": "execute_result"
    }
   ],
   "source": [
    "lost=[1,2,44,6,8,\"singh\"]\n",
    "id(lost)"
   ]
  },
  {
   "cell_type": "code",
   "execution_count": 77,
   "id": "6ee084b8",
   "metadata": {},
   "outputs": [],
   "source": [
    "lost.remove(8)        # it will remove the item 8"
   ]
  },
  {
   "cell_type": "code",
   "execution_count": 78,
   "id": "cc13a3ad",
   "metadata": {},
   "outputs": [
    {
     "name": "stdout",
     "output_type": "stream",
     "text": [
      "[1, 2, 44, 6, 'singh']\n"
     ]
    }
   ],
   "source": [
    "print(lost)"
   ]
  },
  {
   "cell_type": "code",
   "execution_count": 79,
   "id": "daac0e90",
   "metadata": {},
   "outputs": [
    {
     "data": {
      "text/plain": [
       "1"
      ]
     },
     "execution_count": 79,
     "metadata": {},
     "output_type": "execute_result"
    }
   ],
   "source": [
    "lost.pop(0)"
   ]
  },
  {
   "cell_type": "code",
   "execution_count": 80,
   "id": "b9b7c4f8",
   "metadata": {},
   "outputs": [
    {
     "name": "stdout",
     "output_type": "stream",
     "text": [
      "[2, 44, 6, 'singh']\n"
     ]
    }
   ],
   "source": [
    "print(lost)"
   ]
  },
  {
   "cell_type": "code",
   "execution_count": 81,
   "id": "90ee189f",
   "metadata": {},
   "outputs": [
    {
     "data": {
      "text/plain": [
       "2353699611968"
      ]
     },
     "execution_count": 81,
     "metadata": {},
     "output_type": "execute_result"
    }
   ],
   "source": [
    "id(lost)"
   ]
  },
  {
   "cell_type": "code",
   "execution_count": 82,
   "id": "14dcf2ef",
   "metadata": {},
   "outputs": [
    {
     "name": "stdout",
     "output_type": "stream",
     "text": [
      "[2, 44, 6, 'singh']\n"
     ]
    }
   ],
   "source": [
    "print(lost)"
   ]
  },
  {
   "cell_type": "markdown",
   "id": "1c8af9db",
   "metadata": {},
   "source": [
    "### pop"
   ]
  },
  {
   "cell_type": "code",
   "execution_count": 83,
   "id": "a394427e",
   "metadata": {},
   "outputs": [
    {
     "data": {
      "text/plain": [
       "6"
      ]
     },
     "execution_count": 83,
     "metadata": {},
     "output_type": "execute_result"
    }
   ],
   "source": [
    "lost.pop(2)     # it will remove the index no. 2"
   ]
  },
  {
   "cell_type": "code",
   "execution_count": 84,
   "id": "db0725de",
   "metadata": {},
   "outputs": [
    {
     "name": "stdout",
     "output_type": "stream",
     "text": [
      "[2, 44, 'singh']\n"
     ]
    }
   ],
   "source": [
    "print(lost) "
   ]
  },
  {
   "cell_type": "code",
   "execution_count": 85,
   "id": "137d6e30",
   "metadata": {},
   "outputs": [
    {
     "data": {
      "text/plain": [
       "'singh'"
      ]
     },
     "execution_count": 85,
     "metadata": {},
     "output_type": "execute_result"
    }
   ],
   "source": [
    "lost.pop()                 # it will remove the last item"
   ]
  },
  {
   "cell_type": "code",
   "execution_count": 86,
   "id": "79461141",
   "metadata": {},
   "outputs": [
    {
     "name": "stdout",
     "output_type": "stream",
     "text": [
      "[2, 44]\n"
     ]
    }
   ],
   "source": [
    "print(lost)"
   ]
  },
  {
   "cell_type": "code",
   "execution_count": 87,
   "id": "32ff19d0",
   "metadata": {},
   "outputs": [
    {
     "ename": "TypeError",
     "evalue": "'list' object cannot be interpreted as an integer",
     "output_type": "error",
     "traceback": [
      "\u001b[1;31m---------------------------------------------------------------------------\u001b[0m",
      "\u001b[1;31mTypeError\u001b[0m                                 Traceback (most recent call last)",
      "Cell \u001b[1;32mIn[87], line 1\u001b[0m\n\u001b[1;32m----> 1\u001b[0m lost\u001b[38;5;241m.\u001b[39mpop([\u001b[38;5;241m0\u001b[39m])\n",
      "\u001b[1;31mTypeError\u001b[0m: 'list' object cannot be interpreted as an integer"
     ]
    }
   ],
   "source": [
    "lost.pop([0])              #c/z [0] is an list and index is an integer"
   ]
  },
  {
   "cell_type": "code",
   "execution_count": 89,
   "id": "89e26d81",
   "metadata": {},
   "outputs": [
    {
     "ename": "TypeError",
     "evalue": "pop expected at most 1 argument, got 2",
     "output_type": "error",
     "traceback": [
      "\u001b[1;31m---------------------------------------------------------------------------\u001b[0m",
      "\u001b[1;31mTypeError\u001b[0m                                 Traceback (most recent call last)",
      "Cell \u001b[1;32mIn[89], line 1\u001b[0m\n\u001b[1;32m----> 1\u001b[0m lost\u001b[38;5;241m.\u001b[39mpop(\u001b[38;5;241m0\u001b[39m,\u001b[38;5;241m1\u001b[39m)\n",
      "\u001b[1;31mTypeError\u001b[0m: pop expected at most 1 argument, got 2"
     ]
    }
   ],
   "source": [
    "lost.pop(0,1)"
   ]
  },
  {
   "cell_type": "code",
   "execution_count": 103,
   "id": "a393bff1",
   "metadata": {},
   "outputs": [
    {
     "name": "stdout",
     "output_type": "stream",
     "text": [
      "[2, 44]\n"
     ]
    }
   ],
   "source": [
    "print(lost)"
   ]
  },
  {
   "cell_type": "markdown",
   "id": "5f2b0779",
   "metadata": {},
   "source": [
    "### del"
   ]
  },
  {
   "cell_type": "code",
   "execution_count": 109,
   "id": "cdb739b2",
   "metadata": {},
   "outputs": [
    {
     "data": {
      "text/plain": [
       "2353700095744"
      ]
     },
     "execution_count": 109,
     "metadata": {},
     "output_type": "execute_result"
    }
   ],
   "source": [
    "x_list=[90,56,23,56,12,45,\"hey\"]\n",
    "id(x_list)"
   ]
  },
  {
   "cell_type": "code",
   "execution_count": 110,
   "id": "6a8b6617",
   "metadata": {},
   "outputs": [],
   "source": [
    "del x_list[2:5]"
   ]
  },
  {
   "cell_type": "code",
   "execution_count": 111,
   "id": "c119bb44",
   "metadata": {},
   "outputs": [
    {
     "name": "stdout",
     "output_type": "stream",
     "text": [
      "[90, 56, 45, 'hey']\n",
      "2353700095744\n"
     ]
    }
   ],
   "source": [
    "print(x_list)\n",
    "print(id(x_list))"
   ]
  },
  {
   "cell_type": "code",
   "execution_count": 112,
   "id": "7a2207d1",
   "metadata": {},
   "outputs": [],
   "source": [
    "del x_list           # it erased the list"
   ]
  },
  {
   "cell_type": "code",
   "execution_count": 113,
   "id": "c44b8e8c",
   "metadata": {},
   "outputs": [
    {
     "ename": "NameError",
     "evalue": "name 'x_list' is not defined",
     "output_type": "error",
     "traceback": [
      "\u001b[1;31m---------------------------------------------------------------------------\u001b[0m",
      "\u001b[1;31mNameError\u001b[0m                                 Traceback (most recent call last)",
      "Cell \u001b[1;32mIn[113], line 1\u001b[0m\n\u001b[1;32m----> 1\u001b[0m \u001b[38;5;28mprint\u001b[39m(x_list)\n",
      "\u001b[1;31mNameError\u001b[0m: name 'x_list' is not defined"
     ]
    }
   ],
   "source": [
    "print(x_list)"
   ]
  },
  {
   "cell_type": "code",
   "execution_count": 3,
   "id": "d159dd4b",
   "metadata": {},
   "outputs": [],
   "source": [
    "p=[1,2,3,45,67]"
   ]
  },
  {
   "cell_type": "code",
   "execution_count": 4,
   "id": "b82e7f5b",
   "metadata": {},
   "outputs": [],
   "source": [
    "p.remove(1)"
   ]
  },
  {
   "cell_type": "code",
   "execution_count": 5,
   "id": "26556149",
   "metadata": {},
   "outputs": [
    {
     "name": "stdout",
     "output_type": "stream",
     "text": [
      "[2, 3, 45, 67]\n"
     ]
    }
   ],
   "source": [
    "print(p)"
   ]
  },
  {
   "cell_type": "code",
   "execution_count": 6,
   "id": "e36b7876",
   "metadata": {},
   "outputs": [],
   "source": [
    "p=[1,2,3,45,67]"
   ]
  },
  {
   "cell_type": "code",
   "execution_count": 7,
   "id": "576b9d71",
   "metadata": {},
   "outputs": [],
   "source": [
    "p.remove(p[0])          # removing item using index no."
   ]
  },
  {
   "cell_type": "code",
   "execution_count": 8,
   "id": "a2c42946",
   "metadata": {},
   "outputs": [
    {
     "name": "stdout",
     "output_type": "stream",
     "text": [
      "[2, 3, 45, 67]\n"
     ]
    }
   ],
   "source": [
    "print(p)"
   ]
  },
  {
   "cell_type": "markdown",
   "id": "f3374105",
   "metadata": {},
   "source": [
    "### clear "
   ]
  },
  {
   "cell_type": "code",
   "execution_count": 9,
   "id": "5bd52a55",
   "metadata": {},
   "outputs": [
    {
     "name": "stdout",
     "output_type": "stream",
     "text": [
      "[2, 3, 45, 67]\n"
     ]
    }
   ],
   "source": [
    "print(p)"
   ]
  },
  {
   "cell_type": "code",
   "execution_count": 10,
   "id": "4286b851",
   "metadata": {},
   "outputs": [],
   "source": [
    "p.clear()"
   ]
  },
  {
   "cell_type": "code",
   "execution_count": 11,
   "id": "39168666",
   "metadata": {},
   "outputs": [
    {
     "name": "stdout",
     "output_type": "stream",
     "text": [
      "[]\n"
     ]
    }
   ],
   "source": [
    "print(p)"
   ]
  },
  {
   "cell_type": "code",
   "execution_count": 12,
   "id": "7de89261",
   "metadata": {},
   "outputs": [
    {
     "name": "stdout",
     "output_type": "stream",
     "text": [
      "[]\n"
     ]
    }
   ],
   "source": [
    "print(p)"
   ]
  },
  {
   "cell_type": "code",
   "execution_count": 13,
   "id": "a63292cb",
   "metadata": {},
   "outputs": [],
   "source": [
    "p.append(2)"
   ]
  },
  {
   "cell_type": "code",
   "execution_count": 15,
   "id": "48a50fa7",
   "metadata": {},
   "outputs": [
    {
     "name": "stdout",
     "output_type": "stream",
     "text": [
      "[2]\n"
     ]
    }
   ],
   "source": [
    "print(p)   # append also works after clearing "
   ]
  },
  {
   "cell_type": "code",
   "execution_count": 70,
   "id": "06b020f7",
   "metadata": {},
   "outputs": [],
   "source": [
    "p.insert(0,34)             "
   ]
  },
  {
   "cell_type": "code",
   "execution_count": 71,
   "id": "48a0d91a",
   "metadata": {},
   "outputs": [
    {
     "name": "stdout",
     "output_type": "stream",
     "text": [
      "[34, 2]\n"
     ]
    }
   ],
   "source": [
    "print(p)     # insert works after clearing the list"
   ]
  },
  {
   "cell_type": "code",
   "execution_count": 2,
   "id": "5c8f25e4",
   "metadata": {},
   "outputs": [
    {
     "data": {
      "text/plain": [
       "2214163116672"
      ]
     },
     "execution_count": 2,
     "metadata": {},
     "output_type": "execute_result"
    }
   ],
   "source": [
    "c=[23,45,78,90]\n",
    "id(c)\n"
   ]
  },
  {
   "cell_type": "code",
   "execution_count": 3,
   "id": "c689ed76",
   "metadata": {},
   "outputs": [],
   "source": [
    "c.clear()"
   ]
  },
  {
   "cell_type": "code",
   "execution_count": 4,
   "id": "2b887bb4",
   "metadata": {},
   "outputs": [
    {
     "name": "stdout",
     "output_type": "stream",
     "text": [
      "[]\n"
     ]
    }
   ],
   "source": [
    "print(c)"
   ]
  },
  {
   "cell_type": "code",
   "execution_count": 5,
   "id": "cf70794e",
   "metadata": {},
   "outputs": [],
   "source": [
    "c.extend(\"pawan\")"
   ]
  },
  {
   "cell_type": "code",
   "execution_count": 6,
   "id": "e6cdf617",
   "metadata": {},
   "outputs": [
    {
     "name": "stdout",
     "output_type": "stream",
     "text": [
      "['p', 'a', 'w', 'a', 'n']\n"
     ]
    }
   ],
   "source": [
    "print(c)             # extend works after clearing the list"
   ]
  },
  {
   "cell_type": "code",
   "execution_count": 7,
   "id": "70fa1bbd",
   "metadata": {},
   "outputs": [],
   "source": [
    "c.clear()"
   ]
  },
  {
   "cell_type": "code",
   "execution_count": 8,
   "id": "17792db9",
   "metadata": {},
   "outputs": [
    {
     "name": "stdout",
     "output_type": "stream",
     "text": [
      "[]\n"
     ]
    }
   ],
   "source": [
    "print(c)"
   ]
  },
  {
   "cell_type": "code",
   "execution_count": 9,
   "id": "c5ef84ad",
   "metadata": {},
   "outputs": [
    {
     "ename": "IndexError",
     "evalue": "list assignment index out of range",
     "output_type": "error",
     "traceback": [
      "\u001b[1;31m---------------------------------------------------------------------------\u001b[0m",
      "\u001b[1;31mIndexError\u001b[0m                                Traceback (most recent call last)",
      "Cell \u001b[1;32mIn[9], line 1\u001b[0m\n\u001b[1;32m----> 1\u001b[0m c[\u001b[38;5;241m0\u001b[39m]\u001b[38;5;241m=\u001b[39m\u001b[38;5;241m23\u001b[39m\n",
      "\u001b[1;31mIndexError\u001b[0m: list assignment index out of range"
     ]
    }
   ],
   "source": [
    "c[0]=23          # modify do not works"
   ]
  },
  {
   "cell_type": "code",
   "execution_count": 10,
   "id": "3d0d243d",
   "metadata": {},
   "outputs": [
    {
     "name": "stdout",
     "output_type": "stream",
     "text": [
      "[]\n",
      "2214163116672\n"
     ]
    }
   ],
   "source": [
    "print(c)\n",
    "print(id(c))"
   ]
  },
  {
   "cell_type": "code",
   "execution_count": 11,
   "id": "5bd21e3d",
   "metadata": {},
   "outputs": [],
   "source": [
    "c.append(12)"
   ]
  },
  {
   "cell_type": "code",
   "execution_count": 12,
   "id": "829a259c",
   "metadata": {},
   "outputs": [
    {
     "name": "stdout",
     "output_type": "stream",
     "text": [
      "[12]\n"
     ]
    }
   ],
   "source": [
    "print(c)   # append also works"
   ]
  },
  {
   "cell_type": "markdown",
   "id": "5f80d577",
   "metadata": {},
   "source": [
    "## Finding an element in the list"
   ]
  },
  {
   "cell_type": "markdown",
   "id": "51cfd77f",
   "metadata": {},
   "source": [
    "used the index func. to find an item of the list"
   ]
  },
  {
   "cell_type": "code",
   "execution_count": 1,
   "id": "a8f0181d",
   "metadata": {},
   "outputs": [],
   "source": [
    "my_lost=[45,67,89,23,67]"
   ]
  },
  {
   "cell_type": "code",
   "execution_count": 2,
   "id": "6340433b",
   "metadata": {},
   "outputs": [
    {
     "name": "stdout",
     "output_type": "stream",
     "text": [
      "2\n"
     ]
    }
   ],
   "source": [
    "print(my_lost.index(89))"
   ]
  },
  {
   "cell_type": "code",
   "execution_count": 4,
   "id": "9d1f4aa0",
   "metadata": {},
   "outputs": [
    {
     "name": "stdout",
     "output_type": "stream",
     "text": [
      "1\n"
     ]
    }
   ],
   "source": [
    "print(my_lost.index(67))"
   ]
  },
  {
   "cell_type": "code",
   "execution_count": 5,
   "id": "5652dad2",
   "metadata": {},
   "outputs": [
    {
     "ename": "ValueError",
     "evalue": "0 is not in list",
     "output_type": "error",
     "traceback": [
      "\u001b[1;31m---------------------------------------------------------------------------\u001b[0m",
      "\u001b[1;31mValueError\u001b[0m                                Traceback (most recent call last)",
      "Cell \u001b[1;32mIn[5], line 1\u001b[0m\n\u001b[1;32m----> 1\u001b[0m \u001b[38;5;28mprint\u001b[39m(my_lost\u001b[38;5;241m.\u001b[39mindex(\u001b[38;5;241m0\u001b[39m))\n",
      "\u001b[1;31mValueError\u001b[0m: 0 is not in list"
     ]
    }
   ],
   "source": [
    "print(my_lost.index(0))"
   ]
  },
  {
   "cell_type": "code",
   "execution_count": 20,
   "id": "808ff478",
   "metadata": {},
   "outputs": [
    {
     "ename": "ValueError",
     "evalue": "67 is not in list",
     "output_type": "error",
     "traceback": [
      "\u001b[1;31m---------------------------------------------------------------------------\u001b[0m",
      "\u001b[1;31mValueError\u001b[0m                                Traceback (most recent call last)",
      "Cell \u001b[1;32mIn[20], line 1\u001b[0m\n\u001b[1;32m----> 1\u001b[0m \u001b[38;5;28mprint\u001b[39m(my_lost\u001b[38;5;241m.\u001b[39mindex(\u001b[38;5;241m67\u001b[39m,\u001b[38;5;241m89\u001b[39m))\n",
      "\u001b[1;31mValueError\u001b[0m: 67 is not in list"
     ]
    }
   ],
   "source": [
    "print(my_lost.index(67,89))"
   ]
  },
  {
   "cell_type": "code",
   "execution_count": 10,
   "id": "d4cd13f3",
   "metadata": {},
   "outputs": [
    {
     "ename": "ValueError",
     "evalue": "[67, 89] is not in list",
     "output_type": "error",
     "traceback": [
      "\u001b[1;31m---------------------------------------------------------------------------\u001b[0m",
      "\u001b[1;31mValueError\u001b[0m                                Traceback (most recent call last)",
      "Cell \u001b[1;32mIn[10], line 1\u001b[0m\n\u001b[1;32m----> 1\u001b[0m \u001b[38;5;28mprint\u001b[39m(my_lost\u001b[38;5;241m.\u001b[39mindex([\u001b[38;5;241m67\u001b[39m,\u001b[38;5;241m89\u001b[39m]))\n",
      "\u001b[1;31mValueError\u001b[0m: [67, 89] is not in list"
     ]
    }
   ],
   "source": [
    "print(my_lost.index([67,89]))\n"
   ]
  },
  {
   "cell_type": "code",
   "execution_count": 14,
   "id": "738ec037",
   "metadata": {},
   "outputs": [
    {
     "name": "stdout",
     "output_type": "stream",
     "text": [
      "1 89\n"
     ]
    }
   ],
   "source": [
    "print(my_lost.index(67),(89))"
   ]
  },
  {
   "cell_type": "code",
   "execution_count": 17,
   "id": "ccb90887",
   "metadata": {},
   "outputs": [
    {
     "name": "stdout",
     "output_type": "stream",
     "text": [
      "1 2\n"
     ]
    }
   ],
   "source": [
    "print(my_lost.index(67),my_lost.index(89))"
   ]
  },
  {
   "cell_type": "code",
   "execution_count": 18,
   "id": "c5c130c1",
   "metadata": {},
   "outputs": [
    {
     "name": "stdout",
     "output_type": "stream",
     "text": [
      "8\n"
     ]
    }
   ],
   "source": [
    "print(8)"
   ]
  },
  {
   "cell_type": "markdown",
   "id": "7fb11522",
   "metadata": {},
   "source": [
    "## concatenation of two list"
   ]
  },
  {
   "cell_type": "code",
   "execution_count": 20,
   "id": "e00afa33",
   "metadata": {},
   "outputs": [
    {
     "name": "stdout",
     "output_type": "stream",
     "text": [
      "sayno\n"
     ]
    }
   ],
   "source": [
    "print(\"say\"+\"no\")"
   ]
  },
  {
   "cell_type": "code",
   "execution_count": 4,
   "id": "50a2cf71",
   "metadata": {},
   "outputs": [],
   "source": [
    "list22=[1,23,4]\n",
    "list12=[9,8,0]"
   ]
  },
  {
   "cell_type": "code",
   "execution_count": 5,
   "id": "d98536c9",
   "metadata": {},
   "outputs": [
    {
     "name": "stdout",
     "output_type": "stream",
     "text": [
      "[1, 23, 4, 9, 8, 0]\n"
     ]
    }
   ],
   "source": [
    "print(list22+list12)              # using concatenation"
   ]
  },
  {
   "cell_type": "code",
   "execution_count": 6,
   "id": "e9325665",
   "metadata": {},
   "outputs": [],
   "source": [
    "list22+=list12        # using add and assign"
   ]
  },
  {
   "cell_type": "code",
   "execution_count": 7,
   "id": "d543a304",
   "metadata": {},
   "outputs": [
    {
     "name": "stdout",
     "output_type": "stream",
     "text": [
      "[1, 23, 4, 9, 8, 0]\n"
     ]
    }
   ],
   "source": [
    "print(list22)"
   ]
  },
  {
   "cell_type": "code",
   "execution_count": 8,
   "id": "b5ba3c6f",
   "metadata": {},
   "outputs": [
    {
     "name": "stdout",
     "output_type": "stream",
     "text": [
      "[1, 23, 4, 9, 8, 0]\n"
     ]
    }
   ],
   "source": [
    "print(list22)"
   ]
  },
  {
   "cell_type": "code",
   "execution_count": 9,
   "id": "12d65b7c",
   "metadata": {},
   "outputs": [
    {
     "name": "stdout",
     "output_type": "stream",
     "text": [
      "[1, 23, 4, 9, 8, 0]\n"
     ]
    }
   ],
   "source": [
    "list36=[34,56,23]\n",
    "print(list22)"
   ]
  },
  {
   "cell_type": "code",
   "execution_count": 10,
   "id": "7a2f05fa",
   "metadata": {},
   "outputs": [],
   "source": [
    "list22[6:9]=list36"
   ]
  },
  {
   "cell_type": "code",
   "execution_count": 11,
   "id": "e6c39dba",
   "metadata": {},
   "outputs": [
    {
     "name": "stdout",
     "output_type": "stream",
     "text": [
      "[1, 23, 4, 9, 8, 0, 34, 56, 23]\n"
     ]
    }
   ],
   "source": [
    "print(list22)"
   ]
  },
  {
   "cell_type": "code",
   "execution_count": 12,
   "id": "305aba61",
   "metadata": {},
   "outputs": [],
   "source": [
    "list36.insert(3,list22)"
   ]
  },
  {
   "cell_type": "code",
   "execution_count": 13,
   "id": "298b4316",
   "metadata": {},
   "outputs": [
    {
     "name": "stdout",
     "output_type": "stream",
     "text": [
      "[34, 56, 23, [1, 23, 4, 9, 8, 0, 34, 56, 23]]\n",
      "[1, 23, 4, 9, 8, 0, 34, 56, 23]\n"
     ]
    }
   ],
   "source": [
    "print(list36)\n",
    "print(list22)"
   ]
  },
  {
   "cell_type": "code",
   "execution_count": 14,
   "id": "ad27c0f3",
   "metadata": {},
   "outputs": [],
   "source": [
    "list36.extend(list22)            # adding list using extend"
   ]
  },
  {
   "cell_type": "code",
   "execution_count": 15,
   "id": "addfb898",
   "metadata": {},
   "outputs": [
    {
     "name": "stdout",
     "output_type": "stream",
     "text": [
      "[34, 56, 23, [1, 23, 4, 9, 8, 0, 34, 56, 23], 1, 23, 4, 9, 8, 0, 34, 56, 23]\n"
     ]
    }
   ],
   "source": [
    "print(list36)"
   ]
  },
  {
   "cell_type": "code",
   "execution_count": null,
   "id": "24e0f645-75be-4d30-9448-7e3f53fbdda8",
   "metadata": {},
   "outputs": [],
   "source": []
  },
  {
   "cell_type": "markdown",
   "id": "0b0a1f2e",
   "metadata": {},
   "source": [
    "### list can be multiplied"
   ]
  },
  {
   "cell_type": "code",
   "execution_count": 5,
   "id": "4ee546af",
   "metadata": {},
   "outputs": [
    {
     "name": "stdout",
     "output_type": "stream",
     "text": [
      "[1, 2, 335, 90, 'no', 1, 2, 335, 90, 'no']\n"
     ]
    }
   ],
   "source": [
    "f_list=[1,2,335,90,\"no\"]*2\n",
    "print(f_list)"
   ]
  },
  {
   "cell_type": "markdown",
   "id": "98e5d0b5",
   "metadata": {},
   "source": [
    "## list can be added to list"
   ]
  },
  {
   "cell_type": "code",
   "execution_count": 6,
   "id": "4344eb62",
   "metadata": {},
   "outputs": [
    {
     "data": {
      "text/plain": [
       "[1, 2, 335, 90, 'no', 1, 2, 335, 90, 'no', 2]"
      ]
     },
     "execution_count": 6,
     "metadata": {},
     "output_type": "execute_result"
    }
   ],
   "source": [
    "f_list+[2]"
   ]
  },
  {
   "cell_type": "code",
   "execution_count": 7,
   "id": "9c012ea3",
   "metadata": {},
   "outputs": [
    {
     "ename": "TypeError",
     "evalue": "can only concatenate list (not \"int\") to list",
     "output_type": "error",
     "traceback": [
      "\u001b[1;31m---------------------------------------------------------------------------\u001b[0m",
      "\u001b[1;31mTypeError\u001b[0m                                 Traceback (most recent call last)",
      "Cell \u001b[1;32mIn[7], line 1\u001b[0m\n\u001b[1;32m----> 1\u001b[0m f_list\u001b[38;5;241m+\u001b[39m\u001b[38;5;241m2\u001b[39m\n",
      "\u001b[1;31mTypeError\u001b[0m: can only concatenate list (not \"int\") to list"
     ]
    }
   ],
   "source": [
    "f_list+2"
   ]
  },
  {
   "cell_type": "code",
   "execution_count": 8,
   "id": "8c983a7f",
   "metadata": {},
   "outputs": [
    {
     "name": "stdout",
     "output_type": "stream",
     "text": [
      "[1, 2, 335, 90, 'no', 1, 2, 335, 90, 'no']\n"
     ]
    }
   ],
   "source": [
    "f_list+[1,4]\n",
    "print(f_list)"
   ]
  },
  {
   "cell_type": "markdown",
   "id": "bc8c5e0d",
   "metadata": {},
   "source": [
    "# Revesion questions"
   ]
  },
  {
   "cell_type": "markdown",
   "id": "384770e1",
   "metadata": {},
   "source": [
    " ### Q- finding element of sublist"
   ]
  },
  {
   "cell_type": "code",
   "execution_count": 1,
   "id": "c58b29a0",
   "metadata": {},
   "outputs": [],
   "source": [
    "fac=[34,23,78,[24,35,5,[748,45]]]"
   ]
  },
  {
   "cell_type": "code",
   "execution_count": 2,
   "id": "667e5228",
   "metadata": {},
   "outputs": [
    {
     "data": {
      "text/plain": [
       "5"
      ]
     },
     "execution_count": 2,
     "metadata": {},
     "output_type": "execute_result"
    }
   ],
   "source": [
    "fac[3][2]      "
   ]
  },
  {
   "cell_type": "code",
   "execution_count": 3,
   "id": "d8242f97",
   "metadata": {},
   "outputs": [
    {
     "data": {
      "text/plain": [
       "748"
      ]
     },
     "execution_count": 3,
     "metadata": {},
     "output_type": "execute_result"
    }
   ],
   "source": [
    "fac[3][3][0]"
   ]
  },
  {
   "cell_type": "markdown",
   "id": "c3eda8b4",
   "metadata": {},
   "source": [
    "### Q- removing empty string from a list of string"
   ]
  },
  {
   "cell_type": "code",
   "execution_count": 4,
   "id": "6c5a7f9b",
   "metadata": {},
   "outputs": [],
   "source": [
    "list2=[\"pawan\",'singh',\"say\",\"no\",\"\"]"
   ]
  },
  {
   "cell_type": "code",
   "execution_count": 5,
   "id": "7dbb5a0e",
   "metadata": {},
   "outputs": [],
   "source": [
    "list2.remove(\"\")"
   ]
  },
  {
   "cell_type": "code",
   "execution_count": 6,
   "id": "534dfdda",
   "metadata": {},
   "outputs": [
    {
     "name": "stdout",
     "output_type": "stream",
     "text": [
      "['pawan', 'singh', 'say', 'no']\n"
     ]
    }
   ],
   "source": [
    "print(list2)"
   ]
  },
  {
   "cell_type": "markdown",
   "id": "9bb51f30",
   "metadata": {},
   "source": [
    "### Q- concatination of two string "
   ]
  },
  {
   "cell_type": "code",
   "execution_count": 8,
   "id": "bcc55605",
   "metadata": {},
   "outputs": [],
   "source": [
    "listr=[\"no\",\"say\",\"fail\"]\n",
    "listf=[\"fo\",\"hi\",\"go\",\"yay\"]"
   ]
  },
  {
   "cell_type": "code",
   "execution_count": 9,
   "id": "179390ba",
   "metadata": {},
   "outputs": [
    {
     "name": "stdout",
     "output_type": "stream",
     "text": [
      "failyay\n"
     ]
    }
   ],
   "source": [
    "print(listr[2]+listf[3])"
   ]
  },
  {
   "cell_type": "code",
   "execution_count": 10,
   "id": "34e05f84",
   "metadata": {},
   "outputs": [
    {
     "name": "stdout",
     "output_type": "stream",
     "text": [
      "['no', 'say', 'fail', 'fo', 'hi', 'go', 'yay']\n"
     ]
    }
   ],
   "source": [
    "print(listr+listf)"
   ]
  },
  {
   "cell_type": "markdown",
   "id": "86349982",
   "metadata": {},
   "source": [
    "### Q- adding strings in sequence"
   ]
  },
  {
   "cell_type": "code",
   "execution_count": 12,
   "id": "614108e9",
   "metadata": {},
   "outputs": [],
   "source": [
    "l1=[\"i \",\"studying \",\"in \"]\n",
    "l2=[\"python \",\"am \",\"vijai \"]"
   ]
  },
  {
   "cell_type": "code",
   "execution_count": 13,
   "id": "0c9d7fa7",
   "metadata": {},
   "outputs": [
    {
     "name": "stdout",
     "output_type": "stream",
     "text": [
      "i am studying python  in  vijai \n"
     ]
    }
   ],
   "source": [
    "print(l1[0]+l2[1]+l1[1]+l2[0],l1[2],l2[2])"
   ]
  },
  {
   "cell_type": "markdown",
   "id": "95e8ceac",
   "metadata": {},
   "source": [
    "### Q- nesting adding list into list"
   ]
  },
  {
   "cell_type": "code",
   "execution_count": 18,
   "id": "46543384",
   "metadata": {},
   "outputs": [],
   "source": [
    "nes=[12,\"yay\",33,90]"
   ]
  },
  {
   "cell_type": "code",
   "execution_count": 19,
   "id": "999c6cfd",
   "metadata": {},
   "outputs": [],
   "source": [
    "nes.insert(90,[123,456])"
   ]
  },
  {
   "cell_type": "code",
   "execution_count": 20,
   "id": "b4b5489c",
   "metadata": {},
   "outputs": [
    {
     "name": "stdout",
     "output_type": "stream",
     "text": [
      "[12, 'yay', 33, 90, [123, 456]]\n"
     ]
    }
   ],
   "source": [
    "print(nes)"
   ]
  },
  {
   "cell_type": "markdown",
   "id": "56b24773",
   "metadata": {},
   "source": [
    "### Q- reversing the list"
   ]
  },
  {
   "cell_type": "code",
   "execution_count": 13,
   "id": "063a76b8",
   "metadata": {},
   "outputs": [],
   "source": [
    "num=[12,345,76,34,98]"
   ]
  },
  {
   "cell_type": "code",
   "execution_count": 14,
   "id": "41e08457",
   "metadata": {},
   "outputs": [
    {
     "data": {
      "text/plain": [
       "[98, 34, 76, 345, 12]"
      ]
     },
     "execution_count": 14,
     "metadata": {},
     "output_type": "execute_result"
    }
   ],
   "source": [
    "num[5::-1]"
   ]
  },
  {
   "cell_type": "code",
   "execution_count": 15,
   "id": "51f409bc",
   "metadata": {},
   "outputs": [
    {
     "data": {
      "text/plain": [
       "[98, 34, 76, 345, 12]"
      ]
     },
     "execution_count": 15,
     "metadata": {},
     "output_type": "execute_result"
    }
   ],
   "source": [
    "num[::-1]"
   ]
  },
  {
   "cell_type": "markdown",
   "id": "0803b94a",
   "metadata": {},
   "source": [
    "### Q- squaring the items of the list"
   ]
  },
  {
   "cell_type": "code",
   "execution_count": 25,
   "id": "f7c09b71",
   "metadata": {},
   "outputs": [
    {
     "name": "stdout",
     "output_type": "stream",
     "text": [
      "[12, 345, 76, 34, 98]\n"
     ]
    }
   ],
   "source": [
    "print(num)"
   ]
  },
  {
   "cell_type": "code",
   "execution_count": 27,
   "id": "5696dd9d",
   "metadata": {},
   "outputs": [
    {
     "name": "stdout",
     "output_type": "stream",
     "text": [
      "144 119025 5776 1156 9604\n"
     ]
    }
   ],
   "source": [
    "print(num[0]**2,num[1]**2,num[2]**2,num[3]**2,num[4]**2)"
   ]
  },
  {
   "cell_type": "markdown",
   "id": "e803c728",
   "metadata": {},
   "source": [
    "## doubling of a list"
   ]
  },
  {
   "cell_type": "code",
   "execution_count": 1,
   "id": "222072e4",
   "metadata": {},
   "outputs": [
    {
     "name": "stdout",
     "output_type": "stream",
     "text": [
      "[12, 34, 57, 890, 'hey', 12, 34, 57, 890, 'hey']\n"
     ]
    }
   ],
   "source": [
    "u=[12,34,57,890,'hey']\n",
    "print(u+u)"
   ]
  },
  {
   "cell_type": "markdown",
   "id": "cb30c591",
   "metadata": {},
   "source": [
    "## when to use List data type \n",
    "\n",
    "- To check the no. of items in a data\n",
    "- To insert a item at a particular place\n",
    "- To modify the items "
   ]
  },
  {
   "cell_type": "code",
   "execution_count": null,
   "id": "f7ada0b1",
   "metadata": {},
   "outputs": [],
   "source": []
  },
  {
   "cell_type": "markdown",
   "id": "74334402",
   "metadata": {},
   "source": [
    "# step indexing"
   ]
  },
  {
   "cell_type": "code",
   "execution_count": 1,
   "id": "b13ffa21",
   "metadata": {},
   "outputs": [],
   "source": [
    "lists=[12,422,24,242,'pawan',123,33,2,34,7,8,5,44,42]"
   ]
  },
  {
   "cell_type": "code",
   "execution_count": 4,
   "id": "f236b679",
   "metadata": {},
   "outputs": [
    {
     "data": {
      "text/plain": [
       "8"
      ]
     },
     "execution_count": 4,
     "metadata": {},
     "output_type": "execute_result"
    }
   ],
   "source": [
    "lists.index(34,2,10)    # 32 is item of which we are finding index \n",
    "                        # 2-10 is finding from index 2 to 10 "
   ]
  },
  {
   "cell_type": "code",
   "execution_count": 3,
   "id": "db5c0a9a",
   "metadata": {},
   "outputs": [
    {
     "ename": "ValueError",
     "evalue": "34 is not in list",
     "output_type": "error",
     "traceback": [
      "\u001b[1;31m---------------------------------------------------------------------------\u001b[0m",
      "\u001b[1;31mValueError\u001b[0m                                Traceback (most recent call last)",
      "Cell \u001b[1;32mIn[3], line 1\u001b[0m\n\u001b[1;32m----> 1\u001b[0m lists\u001b[38;5;241m.\u001b[39mindex(\u001b[38;5;241m34\u001b[39m,\u001b[38;5;241m2\u001b[39m,\u001b[38;5;241m7\u001b[39m)\n",
      "\u001b[1;31mValueError\u001b[0m: 34 is not in list"
     ]
    }
   ],
   "source": [
    "lists.index(34,2,7)"
   ]
  },
  {
   "cell_type": "markdown",
   "id": "4acdee39-c660-4320-a45f-68b6f49e1ecb",
   "metadata": {},
   "source": [
    "### Count\n",
    "\n",
    "- counting number of times an item is present in a list "
   ]
  },
  {
   "cell_type": "code",
   "execution_count": 4,
   "id": "17f5a61b-04dc-4912-944f-2dc3f7e14fc5",
   "metadata": {},
   "outputs": [],
   "source": [
    "listg=[1,24,12,\"pawan\",6,1,23,1,67,1,\"pawan\",6,1,12,90,35,34,12,1,\"hey\",90,12,1,89,345,12,24,6,1,23,\"pawan\"]"
   ]
  },
  {
   "cell_type": "code",
   "execution_count": 17,
   "id": "e014b4c1-66e8-4e04-a47b-4b43f00a538f",
   "metadata": {},
   "outputs": [
    {
     "data": {
      "text/plain": [
       "8"
      ]
     },
     "execution_count": 17,
     "metadata": {},
     "output_type": "execute_result"
    }
   ],
   "source": [
    "listg.count(1)"
   ]
  },
  {
   "cell_type": "code",
   "execution_count": 22,
   "id": "a5c77496-6d14-4898-b891-d929e593fdf2",
   "metadata": {},
   "outputs": [
    {
     "data": {
      "text/plain": [
       "3"
      ]
     },
     "execution_count": 22,
     "metadata": {},
     "output_type": "execute_result"
    }
   ],
   "source": [
    "listg.count(\"pawan\")"
   ]
  },
  {
   "cell_type": "markdown",
   "id": "4b884e83-6e14-4b43-8703-085fff479bf1",
   "metadata": {},
   "source": [
    "### MAX and MIN\n",
    "\n",
    "- maximum and minimum value in a list"
   ]
  },
  {
   "cell_type": "code",
   "execution_count": 5,
   "id": "239bcab7-5f59-4895-9de4-b2310480598d",
   "metadata": {},
   "outputs": [
    {
     "ename": "TypeError",
     "evalue": "'>' not supported between instances of 'str' and 'int'",
     "output_type": "error",
     "traceback": [
      "\u001b[1;31m---------------------------------------------------------------------------\u001b[0m",
      "\u001b[1;31mTypeError\u001b[0m                                 Traceback (most recent call last)",
      "Cell \u001b[1;32mIn[5], line 1\u001b[0m\n\u001b[1;32m----> 1\u001b[0m \u001b[38;5;28mmax\u001b[39m(listg)\n",
      "\u001b[1;31mTypeError\u001b[0m: '>' not supported between instances of 'str' and 'int'"
     ]
    }
   ],
   "source": [
    " max(listg)  # error becuase it can't compare string with intergers"
   ]
  },
  {
   "cell_type": "code",
   "execution_count": 10,
   "id": "02d404d5-23ec-4f9d-9a42-11cc92667faa",
   "metadata": {},
   "outputs": [
    {
     "data": {
      "text/plain": [
       "(345, 1)"
      ]
     },
     "execution_count": 10,
     "metadata": {},
     "output_type": "execute_result"
    }
   ],
   "source": [
    "list3=[1,24,12,6,1,23,1,67,1,6,1,12,90,35,34,12,1,90,12,1,89,345,12,24,6,1,23]\n",
    "\n",
    "max(list3),min(list3)"
   ]
  },
  {
   "cell_type": "code",
   "execution_count": null,
   "id": "222751bf-0562-4027-9a8b-4ad9400db2a8",
   "metadata": {},
   "outputs": [],
   "source": []
  },
  {
   "cell_type": "markdown",
   "id": "952ced15-bd51-498b-b592-d879a107c5f1",
   "metadata": {},
   "source": [
    "#### Adding items from a dictionary in a list by using extend method "
   ]
  },
  {
   "cell_type": "code",
   "execution_count": 15,
   "id": "7a4f58e7-d926-4c72-b6a0-d89c3cc606f7",
   "metadata": {},
   "outputs": [],
   "source": [
    "dict={'a':1,'B':22,2:\"pawan\"}"
   ]
  },
  {
   "cell_type": "code",
   "execution_count": 16,
   "id": "9ba860e8-6f08-4d56-b048-0e57bcdb0090",
   "metadata": {},
   "outputs": [],
   "source": [
    "list3.extend(dict)"
   ]
  },
  {
   "cell_type": "code",
   "execution_count": 18,
   "id": "5987fe79-7fae-48ad-92b1-48153e6b8678",
   "metadata": {},
   "outputs": [
    {
     "name": "stdout",
     "output_type": "stream",
     "text": [
      "[1, 24, 12, 6, 1, 23, 1, 67, 1, 6, 1, 12, 90, 35, 34, 12, 1, 90, 12, 1, 89, 345, 12, 24, 6, 1, 23, 'a', 'B', 2]\n"
     ]
    }
   ],
   "source": [
    "print(list3)    # only key got added "
   ]
  },
  {
   "cell_type": "code",
   "execution_count": null,
   "id": "1bb139e3-0c59-4aef-858e-40b967e57b69",
   "metadata": {},
   "outputs": [],
   "source": []
  },
  {
   "cell_type": "markdown",
   "id": "cc0146ca-d043-4e48-9a0c-acf64fe057a4",
   "metadata": {},
   "source": [
    "### Copying a list  \n",
    "\n",
    "    two methods of copying are:\n",
    "- Deep copy\n",
    "- .Copy()"
   ]
  },
  {
   "cell_type": "markdown",
   "id": "585a90df-7a71-4851-913d-77a1d9ee5469",
   "metadata": {},
   "source": [
    "#### Deep Copy\n",
    " Changes made on the original list will be reflected in copied list "
   ]
  },
  {
   "cell_type": "code",
   "execution_count": 10,
   "id": "71d8cd58-d1f6-413b-8494-ba4e5dfdea16",
   "metadata": {},
   "outputs": [],
   "source": [
    "list2=[34,35,36,37]"
   ]
  },
  {
   "cell_type": "code",
   "execution_count": 11,
   "id": "1ec27686-9ffa-4392-bc83-ad94313af586",
   "metadata": {},
   "outputs": [
    {
     "name": "stdout",
     "output_type": "stream",
     "text": [
      "[34, 35, 36, 37]\n"
     ]
    }
   ],
   "source": [
    "my_list=list2\n",
    "print(my_list)"
   ]
  },
  {
   "cell_type": "code",
   "execution_count": 12,
   "id": "1ac48f77-b055-4b3a-b99e-f2d96c86ad12",
   "metadata": {},
   "outputs": [],
   "source": [
    "# changing list2\n",
    "list2.append(38)"
   ]
  },
  {
   "cell_type": "code",
   "execution_count": 13,
   "id": "eed59506-a7b4-4cce-877e-262bbee8463a",
   "metadata": {},
   "outputs": [
    {
     "name": "stdout",
     "output_type": "stream",
     "text": [
      "[34, 35, 36, 37, 38]\n",
      "[34, 35, 36, 37, 38]\n"
     ]
    }
   ],
   "source": [
    "print(list2)\n",
    "print(my_list) # my_list also got changed"
   ]
  },
  {
   "cell_type": "code",
   "execution_count": null,
   "id": "fa59b352-fbdf-48af-8faf-cbe2ba245b33",
   "metadata": {},
   "outputs": [],
   "source": []
  },
  {
   "cell_type": "code",
   "execution_count": 16,
   "id": "edcbdc01-8e84-487f-b836-64e40afb43bf",
   "metadata": {},
   "outputs": [
    {
     "name": "stdout",
     "output_type": "stream",
     "text": [
      "[34, 35, 0, 36, 37, 38]\n",
      "[34, 35, 0, 36, 37, 38]\n"
     ]
    }
   ],
   "source": [
    "my_list.insert(2,0)\n",
    "print(my_list) # any change made on the copied list will also be reflected in the original list\n",
    "print(list2)"
   ]
  },
  {
   "cell_type": "code",
   "execution_count": null,
   "id": "6dde5eed-1822-48de-ba24-e77a862bf8b7",
   "metadata": {},
   "outputs": [],
   "source": []
  },
  {
   "cell_type": "markdown",
   "id": "eb7f292a-0885-4f51-89a4-8a08bb0f98ef",
   "metadata": {},
   "source": [
    "#### .copy()\n",
    "\n",
    "- Changes made on the original list will no reflected in the copied list "
   ]
  },
  {
   "cell_type": "code",
   "execution_count": 17,
   "id": "a083e265-5163-4706-98c1-8e3ed455239d",
   "metadata": {},
   "outputs": [
    {
     "name": "stdout",
     "output_type": "stream",
     "text": [
      "[34, 35, 0, 36, 37, 38]\n"
     ]
    }
   ],
   "source": [
    "new_list=list2.copy()\n",
    "print(new_list)"
   ]
  },
  {
   "cell_type": "code",
   "execution_count": 18,
   "id": "eec140fd-8538-4c2f-91c9-a9ea0b4ecc69",
   "metadata": {},
   "outputs": [
    {
     "name": "stdout",
     "output_type": "stream",
     "text": [
      "[34, 35, 0, 36, 37, 38, 'p', 'a', 'w']\n",
      "[34, 35, 0, 36, 37, 38]\n"
     ]
    }
   ],
   "source": [
    "list2.extend(\"paw\")\n",
    "print(list2)\n",
    "print(new_list) # no effect in the new list after changing the original list "
   ]
  },
  {
   "cell_type": "code",
   "execution_count": null,
   "id": "9438ade3-b1ec-49af-81ea-4576f2c082a5",
   "metadata": {},
   "outputs": [],
   "source": []
  },
  {
   "cell_type": "markdown",
   "id": "c451a554-3fb6-4fe7-b895-4bab6b5807d9",
   "metadata": {},
   "source": [
    "## List Operations\n",
    "\n",
    "- Sort()\n",
    "- Rverse()\n",
    "- sum()\n",
    "- All()\n"
   ]
  },
  {
   "cell_type": "markdown",
   "id": "a62c7a6c-b6b9-4c1e-a34e-7b2d193e0d1b",
   "metadata": {},
   "source": [
    "#### Sort()"
   ]
  },
  {
   "cell_type": "code",
   "execution_count": 19,
   "id": "07f78b1c-ed8e-485f-8c38-e3b3767c0f19",
   "metadata": {},
   "outputs": [
    {
     "name": "stdout",
     "output_type": "stream",
     "text": [
      "[1, 2, 3, 3, 4, 5, 6, 7]\n"
     ]
    }
   ],
   "source": [
    "list3=[3,6,3,2,1,5,4,7]\n",
    "list3.sort()   # no change in ID \n",
    "print(list3) "
   ]
  },
  {
   "cell_type": "code",
   "execution_count": null,
   "id": "86b37926-faa7-4ae2-9150-cdd0c0ae39f4",
   "metadata": {},
   "outputs": [],
   "source": []
  },
  {
   "cell_type": "markdown",
   "id": "1c5760d9-fae8-4919-9a7b-77874b053809",
   "metadata": {},
   "source": [
    "#### Reverse()"
   ]
  },
  {
   "cell_type": "code",
   "execution_count": 23,
   "id": "34951872-3fe7-47dc-9235-8f4999cc5a96",
   "metadata": {},
   "outputs": [
    {
     "name": "stdout",
     "output_type": "stream",
     "text": [
      "[7, 4, 5, 1, 2, 3, 6, 3]\n"
     ]
    }
   ],
   "source": [
    "list3=[3,6,3,2,1,5,4,7]\n",
    "list3.reverse() # no change in ID\n",
    "print(list3)"
   ]
  },
  {
   "cell_type": "code",
   "execution_count": null,
   "id": "63971fcf-59ab-4a3f-8224-41d7376eb8b8",
   "metadata": {},
   "outputs": [],
   "source": []
  },
  {
   "cell_type": "markdown",
   "id": "1bed2a3b-e329-478d-8047-a45ce331c907",
   "metadata": {},
   "source": [
    "#### SUM()"
   ]
  },
  {
   "cell_type": "code",
   "execution_count": 25,
   "id": "f3662323-a61f-437f-a9d7-bd1fcfbcfe43",
   "metadata": {},
   "outputs": [
    {
     "data": {
      "text/plain": [
       "31"
      ]
     },
     "execution_count": 25,
     "metadata": {},
     "output_type": "execute_result"
    }
   ],
   "source": [
    "list3=[3,6,3,2,1,5,4,7]\n",
    "sum(list3)"
   ]
  },
  {
   "cell_type": "code",
   "execution_count": 27,
   "id": "e4eba53f-ab85-4ff1-98bc-6003c67302cb",
   "metadata": {},
   "outputs": [
    {
     "ename": "TypeError",
     "evalue": "unsupported operand type(s) for +: 'int' and 'str'",
     "output_type": "error",
     "traceback": [
      "\u001b[1;31m---------------------------------------------------------------------------\u001b[0m",
      "\u001b[1;31mTypeError\u001b[0m                                 Traceback (most recent call last)",
      "Cell \u001b[1;32mIn[27], line 3\u001b[0m\n\u001b[0;32m      1\u001b[0m list3\u001b[38;5;241m=\u001b[39m[\u001b[38;5;241m3\u001b[39m,\u001b[38;5;241m6\u001b[39m,\u001b[38;5;241m3\u001b[39m,\u001b[38;5;241m2\u001b[39m,\u001b[38;5;241m1\u001b[39m,\u001b[38;5;241m5\u001b[39m,\u001b[38;5;241m4\u001b[39m,\u001b[38;5;241m7\u001b[39m,\u001b[38;5;124m'\u001b[39m\u001b[38;5;124mpaw\u001b[39m\u001b[38;5;124m'\u001b[39m]\n\u001b[1;32m----> 3\u001b[0m \u001b[38;5;28msum\u001b[39m(list3)\n",
      "\u001b[1;31mTypeError\u001b[0m: unsupported operand type(s) for +: 'int' and 'str'"
     ]
    }
   ],
   "source": [
    "list3=[3,6,3,2,1,5,4,7,'paw']\n",
    "\n",
    "sum(list3)"
   ]
  },
  {
   "cell_type": "code",
   "execution_count": 30,
   "id": "0a021055-d487-4037-be10-56be3ca291d1",
   "metadata": {},
   "outputs": [
    {
     "ename": "TypeError",
     "evalue": "unsupported operand type(s) for +: 'int' and 'str'",
     "output_type": "error",
     "traceback": [
      "\u001b[1;31m---------------------------------------------------------------------------\u001b[0m",
      "\u001b[1;31mTypeError\u001b[0m                                 Traceback (most recent call last)",
      "Cell \u001b[1;32mIn[30], line 2\u001b[0m\n\u001b[0;32m      1\u001b[0m list4\u001b[38;5;241m=\u001b[39m[\u001b[38;5;124m'\u001b[39m\u001b[38;5;124ma\u001b[39m\u001b[38;5;124m'\u001b[39m,\u001b[38;5;124m'\u001b[39m\u001b[38;5;124mb\u001b[39m\u001b[38;5;124m'\u001b[39m,\u001b[38;5;124m'\u001b[39m\u001b[38;5;124mc\u001b[39m\u001b[38;5;124m'\u001b[39m,\u001b[38;5;124m'\u001b[39m\u001b[38;5;124md\u001b[39m\u001b[38;5;124m'\u001b[39m,\u001b[38;5;124m'\u001b[39m\u001b[38;5;124me\u001b[39m\u001b[38;5;124m'\u001b[39m]\n\u001b[1;32m----> 2\u001b[0m \u001b[38;5;28msum\u001b[39m(list4)\n",
      "\u001b[1;31mTypeError\u001b[0m: unsupported operand type(s) for +: 'int' and 'str'"
     ]
    }
   ],
   "source": [
    "list4=['a','b','c','d','e']\n",
    "sum(list4)"
   ]
  },
  {
   "cell_type": "code",
   "execution_count": null,
   "id": "a51fe231-6e56-4c36-9f23-5b8817d5bd68",
   "metadata": {},
   "outputs": [],
   "source": []
  },
  {
   "cell_type": "markdown",
   "id": "3a1d44f8-a56d-4e1b-9f9f-f8f4357a405c",
   "metadata": {},
   "source": [
    "#### ALL()\n",
    "\n",
    "- IN case of all function the return value will be true if all the items inside the list are true\n",
    "\n",
    "- NOTE* all datatype except 0 and False are true  "
   ]
  },
  {
   "cell_type": "code",
   "execution_count": 33,
   "id": "5e465b18-9386-4cdb-8c6e-b42e028ec9a6",
   "metadata": {},
   "outputs": [
    {
     "name": "stdout",
     "output_type": "stream",
     "text": [
      "True\n"
     ]
    }
   ],
   "source": [
    "sample_list=[1,1,True,\"X\",6.9,[8,0]]\n",
    "print(all(sample_list))"
   ]
  },
  {
   "cell_type": "code",
   "execution_count": 34,
   "id": "1fb043c7-2af4-4b0b-b5f0-1a2e7544edfe",
   "metadata": {},
   "outputs": [
    {
     "data": {
      "text/plain": [
       "False"
      ]
     },
     "execution_count": 34,
     "metadata": {},
     "output_type": "execute_result"
    }
   ],
   "source": [
    "sample1=[0,4,True]\n",
    "all(sample1)"
   ]
  },
  {
   "cell_type": "code",
   "execution_count": 35,
   "id": "5eec7c3f-07e1-4f96-8f9a-f1c850aa502d",
   "metadata": {},
   "outputs": [
    {
     "data": {
      "text/plain": [
       "True"
      ]
     },
     "execution_count": 35,
     "metadata": {},
     "output_type": "execute_result"
    }
   ],
   "source": [
    "sample2=[]  #empty list is always true \n",
    "all(sample2)"
   ]
  },
  {
   "cell_type": "code",
   "execution_count": null,
   "id": "b98f6516-d4ac-4980-bdaa-be74dca54224",
   "metadata": {},
   "outputs": [],
   "source": []
  },
  {
   "cell_type": "markdown",
   "id": "04df9862-45fd-4c5a-a879-dc2e5d36cd56",
   "metadata": {},
   "source": [
    "## List Comprehension\n",
    "\n",
    "- is a simple method to create a list from a existing list\n",
    "- It is generally a list of iterables generated with an option to include only the items which satisfy a condotion"
   ]
  },
  {
   "cell_type": "code",
   "execution_count": 37,
   "id": "6d95e7a6-64b7-43ac-8c73-dc6f7f66eaec",
   "metadata": {},
   "outputs": [
    {
     "name": "stdout",
     "output_type": "stream",
     "text": [
      "[1, 4, 9, 16, 25, 36, 49, 64, 81, 100]\n"
     ]
    }
   ],
   "source": [
    "# Creating squares from 1 to 100 by normal method\n",
    "\n",
    "lists=[]\n",
    "for i in range (1,11):\n",
    "    i=i**2\n",
    "    lists.append(i)\n",
    "print(lists)"
   ]
  },
  {
   "cell_type": "code",
   "execution_count": 17,
   "id": "19ec3a4d-af26-49aa-9266-e54bd483b1ac",
   "metadata": {},
   "outputs": [
    {
     "name": "stdout",
     "output_type": "stream",
     "text": [
      "{64, 1, 4, 36, 100, 9, 16, 49, 81, 25}\n"
     ]
    }
   ],
   "source": [
    "# Using comprehension method\n",
    "\n",
    "output_set={i**2 for i in range(1,11)}\n",
    "print(output_set)"
   ]
  },
  {
   "cell_type": "code",
   "execution_count": 40,
   "id": "e5c6bcb8-7858-49f0-b144-d00da0df3055",
   "metadata": {},
   "outputs": [
    {
     "data": {
      "text/plain": [
       "set"
      ]
     },
     "execution_count": 40,
     "metadata": {},
     "output_type": "execute_result"
    }
   ],
   "source": [
    "type(output_list)"
   ]
  },
  {
   "cell_type": "code",
   "execution_count": 44,
   "id": "c805f5fa-3cfa-4d21-b9ee-f3c34892ba37",
   "metadata": {},
   "outputs": [
    {
     "name": "stdout",
     "output_type": "stream",
     "text": [
      "[1, 4, 9, 16, 25, 36, 49, 64, 81, 100]\n"
     ]
    }
   ],
   "source": [
    "output_list1=[i**2 for i in range(1,11)] # by change the starting brackets it changed the data type\n",
    "print(output_list1)"
   ]
  },
  {
   "cell_type": "code",
   "execution_count": 43,
   "id": "edc89337-7f88-4ee2-8039-67da4a8021de",
   "metadata": {},
   "outputs": [
    {
     "data": {
      "text/plain": [
       "list"
      ]
     },
     "execution_count": 43,
     "metadata": {},
     "output_type": "execute_result"
    }
   ],
   "source": [
    "type(output_list1)"
   ]
  },
  {
   "cell_type": "code",
   "execution_count": null,
   "id": "1a68d649-f8f7-4638-a495-33915b73173a",
   "metadata": {},
   "outputs": [],
   "source": []
  },
  {
   "cell_type": "code",
   "execution_count": 46,
   "id": "f69208c7-56e0-41d3-aeba-4b8f66812a69",
   "metadata": {},
   "outputs": [],
   "source": [
    "even_list=[i for i in range(1,11) if i%2==0]"
   ]
  },
  {
   "cell_type": "code",
   "execution_count": 47,
   "id": "4d4fe9db-705f-4197-90e1-18ffc00cd507",
   "metadata": {},
   "outputs": [
    {
     "name": "stdout",
     "output_type": "stream",
     "text": [
      "[2, 4, 6, 8, 10]\n"
     ]
    }
   ],
   "source": [
    "print(even_list)"
   ]
  },
  {
   "cell_type": "code",
   "execution_count": 21,
   "id": "c3fe457c-accc-4c40-9883-c58eb61ecc18",
   "metadata": {},
   "outputs": [
    {
     "ename": "SyntaxError",
     "evalue": "invalid syntax (3798569683.py, line 1)",
     "output_type": "error",
     "traceback": [
      "\u001b[1;36m  Cell \u001b[1;32mIn[21], line 1\u001b[1;36m\u001b[0m\n\u001b[1;33m    eve_list=[if i%2==0 for i in range(1,11)]\u001b[0m\n\u001b[1;37m              ^\u001b[0m\n\u001b[1;31mSyntaxError\u001b[0m\u001b[1;31m:\u001b[0m invalid syntax\n"
     ]
    }
   ],
   "source": [
    "eve_list=[ i%2==0 for i in range(1,11)]"
   ]
  },
  {
   "cell_type": "code",
   "execution_count": null,
   "id": "9f574ea2-e65f-45ae-b045-a57b459de894",
   "metadata": {},
   "outputs": [],
   "source": []
  },
  {
   "cell_type": "code",
   "execution_count": 48,
   "id": "ed69e2b3-4625-462a-9ac3-cf4bee5cbdb0",
   "metadata": {},
   "outputs": [],
   "source": [
    "text=\"HeLlO WorlD\""
   ]
  },
  {
   "cell_type": "code",
   "execution_count": 49,
   "id": "c1dc91de-5989-408a-92d3-dc21f0336572",
   "metadata": {},
   "outputs": [],
   "source": [
    "up_text=[ i for i in text if i==i.upper()]"
   ]
  },
  {
   "cell_type": "code",
   "execution_count": 50,
   "id": "b25d0037-8cdd-495f-bd8c-2599870a5349",
   "metadata": {},
   "outputs": [
    {
     "name": "stdout",
     "output_type": "stream",
     "text": [
      "['H', 'L', 'O', ' ', 'W', 'D']\n"
     ]
    }
   ],
   "source": [
    "print(up_text)"
   ]
  },
  {
   "cell_type": "code",
   "execution_count": null,
   "id": "fd23ff0a-b3d4-40e8-9823-849cdfc70f22",
   "metadata": {},
   "outputs": [],
   "source": []
  },
  {
   "cell_type": "markdown",
   "id": "7fdfaae6-9027-484b-98e8-97431d344aa6",
   "metadata": {},
   "source": [
    "### Methods of Converting user input into List "
   ]
  },
  {
   "cell_type": "markdown",
   "id": "8f61f760-3160-4831-a9f5-6d117f4d9ecf",
   "metadata": {},
   "source": [
    "#### List of numbers as input from user"
   ]
  },
  {
   "cell_type": "code",
   "execution_count": null,
   "id": "3598cdc3-b91e-4a5b-ac57-6d0d0411bf50",
   "metadata": {},
   "outputs": [],
   "source": [
    "input_string=input('enter elements of a list sperated by sapace')\n",
    "\n",
    "user_list=input_string.split()\n",
    "\n",
    "# converting each item into int type \n",
    "for i in range(len(user_list)):\n",
    "    user_list[i]=int(user_list[i])\n",
    "print(user_list)\n",
    "print(sum(user_list))\n"
   ]
  },
  {
   "cell_type": "code",
   "execution_count": null,
   "id": "7bb69da1-b90d-4006-af75-53106572e7b3",
   "metadata": {},
   "outputs": [],
   "source": []
  },
  {
   "cell_type": "markdown",
   "id": "168085c9-35b7-4623-987d-b08215fc1b25",
   "metadata": {},
   "source": [
    "#### Input a list using input() and range() Functions in pyhton "
   ]
  },
  {
   "cell_type": "code",
   "execution_count": 1,
   "id": "942128c7-5bce-4d2a-b3d5-56670c2415e5",
   "metadata": {},
   "outputs": [
    {
     "name": "stdin",
     "output_type": "stream",
     "text": [
      "enter the list size 4\n"
     ]
    },
    {
     "name": "stdout",
     "output_type": "stream",
     "text": [
      "\n",
      "\n",
      "enter number at index 0\n"
     ]
    },
    {
     "name": "stdin",
     "output_type": "stream",
     "text": [
      " 12\n"
     ]
    },
    {
     "name": "stdout",
     "output_type": "stream",
     "text": [
      "enter number at index 1\n"
     ]
    },
    {
     "name": "stdin",
     "output_type": "stream",
     "text": [
      " 34\n"
     ]
    },
    {
     "name": "stdout",
     "output_type": "stream",
     "text": [
      "enter number at index 2\n"
     ]
    },
    {
     "name": "stdin",
     "output_type": "stream",
     "text": [
      " 54\n"
     ]
    },
    {
     "name": "stdout",
     "output_type": "stream",
     "text": [
      "enter number at index 3\n"
     ]
    },
    {
     "name": "stdin",
     "output_type": "stream",
     "text": [
      " 32\n"
     ]
    },
    {
     "name": "stdout",
     "output_type": "stream",
     "text": [
      "user list is [12, 34, 54, 32]\n"
     ]
    }
   ],
   "source": [
    "\n",
    "liste=[]\n",
    "n=int(input(\"enter the list size\"))\n",
    "print(\"\\n\")  # for space in btw commands \n",
    "\n",
    "for i in range(0,n):\n",
    "    print(\"enter number at index\",i)\n",
    "    item=int(input())\n",
    "    liste.append(item)\n",
    "print('user list is', liste)"
   ]
  },
  {
   "cell_type": "code",
   "execution_count": null,
   "id": "5d5ad8d7-9e5e-4da9-910b-51f301eafa1f",
   "metadata": {},
   "outputs": [],
   "source": []
  },
  {
   "cell_type": "code",
   "execution_count": 3,
   "id": "504af306-d5b9-4f38-8c5b-3b6f4cfcf95c",
   "metadata": {},
   "outputs": [
    {
     "name": "stdin",
     "output_type": "stream",
     "text": [
      "enter the list size 3\n"
     ]
    },
    {
     "name": "stdout",
     "output_type": "stream",
     "text": [
      "\n",
      "\n"
     ]
    }
   ],
   "source": [
    "liste=[]\n",
    "n=int(input(\"enter the list size\"))\n",
    "print(\"\\n\")"
   ]
  },
  {
   "cell_type": "markdown",
   "id": "b438f044-2f17-45cc-9d91-f3eff28e7ecd",
   "metadata": {},
   "source": [
    "#### Input a list using map() Function "
   ]
  },
  {
   "cell_type": "code",
   "execution_count": null,
   "id": "af04d70e-b483-4fae-a330-535d6d0152a5",
   "metadata": {},
   "outputs": [],
   "source": [
    "n=input('enter the size of the list')\n",
    "print('\\n')\n",
    "\n",
    "num_list=list(map(float,input('enter the list numbers').strip().split()))[:n]"
   ]
  },
  {
   "cell_type": "code",
   "execution_count": null,
   "id": "f5235158-0a85-4504-a6d7-4520fe3292f6",
   "metadata": {},
   "outputs": [],
   "source": []
  },
  {
   "cell_type": "markdown",
   "id": "1337b3c1-d2a4-4f40-bd1b-0a28e11a25ef",
   "metadata": {},
   "source": [
    "#### Get a list of strings from a user (use spli() fuction)"
   ]
  },
  {
   "cell_type": "code",
   "execution_count": 1,
   "id": "c7701589-6e3f-40c3-b36c-eccc347552e7",
   "metadata": {},
   "outputs": [
    {
     "name": "stdin",
     "output_type": "stream",
     "text": [
      "enter the name of the family members separated by spaces Pawan Manoj Munni Anchal\n"
     ]
    },
    {
     "name": "stdout",
     "output_type": "stream",
     "text": [
      "\n",
      "\n",
      "name of all family members\n",
      "Pawan\n",
      "Manoj\n",
      "Munni\n",
      "Anchal\n"
     ]
    }
   ],
   "source": [
    "input_string=input('enter the name of the family members separated by spaces')\n",
    "\n",
    "family_list=input_string.split()\n",
    "print('\\n')\n",
    "print(\"name of all family members\")\n",
    "for i in family_list:\n",
    "    print(i)"
   ]
  },
  {
   "cell_type": "code",
   "execution_count": null,
   "id": "5323c7fd-d77d-48cd-bf9f-90ce0279681d",
   "metadata": {},
   "outputs": [],
   "source": []
  },
  {
   "cell_type": "code",
   "execution_count": 1,
   "id": "32a1a079-8002-4230-9187-1f9ab983aaf1",
   "metadata": {},
   "outputs": [
    {
     "name": "stdin",
     "output_type": "stream",
     "text": [
      "enter the name of the family members separated by spaces Pawan manoj anchal singh\n"
     ]
    },
    {
     "name": "stdout",
     "output_type": "stream",
     "text": [
      "\n",
      "\n",
      "name of all family members\n",
      "['Pawan', 'manoj', 'anchal', 'singh']\n"
     ]
    }
   ],
   "source": [
    "input_string=input('enter the name of the family members separated by spaces')\n",
    "\n",
    "family_list=input_string.split()\n",
    "print('\\n')\n",
    "print(\"name of all family members\")\n",
    "\n",
    "print(family_list)"
   ]
  },
  {
   "cell_type": "code",
   "execution_count": null,
   "id": "3e3234cb-2665-4b1f-9f8d-9c28eb4b4c2c",
   "metadata": {},
   "outputs": [],
   "source": []
  },
  {
   "cell_type": "code",
   "execution_count": 2,
   "id": "462de7c5-8867-4469-9c15-0f8cb0dfe4e6",
   "metadata": {
    "scrolled": true
   },
   "outputs": [
    {
     "name": "stdin",
     "output_type": "stream",
     "text": [
      "enter the name of the family members separated by spaces pawan manoj anchal singh\n"
     ]
    },
    {
     "name": "stdout",
     "output_type": "stream",
     "text": [
      "\n",
      "\n",
      "name of all family members\n",
      "p\n",
      "a\n",
      "w\n",
      "a\n",
      "n\n",
      " \n",
      "m\n",
      "a\n",
      "n\n",
      "o\n",
      "j\n",
      " \n",
      "a\n",
      "n\n",
      "c\n",
      "h\n",
      "a\n",
      "l\n",
      " \n",
      "s\n",
      "i\n",
      "n\n",
      "g\n",
      "h\n"
     ]
    }
   ],
   "source": [
    "input_string=input('enter the name of the family members separated by spaces')\n",
    "\n",
    "family_list=input_string\n",
    "print('\\n')\n",
    "print(\"name of all family members\")\n",
    "for i in family_list:\n",
    "    print(i)"
   ]
  },
  {
   "cell_type": "code",
   "execution_count": 5,
   "id": "35438718-6447-4f87-a1a7-7ef4b2a5631f",
   "metadata": {},
   "outputs": [
    {
     "name": "stdin",
     "output_type": "stream",
     "text": [
      "names 'seeta', 'geeta','sarita' , 'pushpa' ,'hansha'\n"
     ]
    },
    {
     "data": {
      "text/plain": [
       "[\"'seeta',\", \"'geeta','sarita'\", ',', \"'pushpa'\", \",'hansha'\"]"
      ]
     },
     "execution_count": 5,
     "metadata": {},
     "output_type": "execute_result"
    }
   ],
   "source": [
    "names1=input('names')\n",
    "names1.split()\n",
    "\n"
   ]
  },
  {
   "cell_type": "code",
   "execution_count": 17,
   "id": "117f9125-03b5-43ab-8535-9d4e3d0a2c8e",
   "metadata": {},
   "outputs": [
    {
     "data": {
      "text/plain": [
       "['seetageeta']"
      ]
     },
     "execution_count": 17,
     "metadata": {},
     "output_type": "execute_result"
    }
   ],
   "source": [
    "namess='seeta' 'geeta'\n",
    "namess.split()"
   ]
  },
  {
   "cell_type": "code",
   "execution_count": null,
   "id": "3f883202-9ffc-4d77-923a-2fdc7d0f2c63",
   "metadata": {},
   "outputs": [],
   "source": []
  },
  {
   "cell_type": "markdown",
   "id": "6759ac24-536d-4620-9787-d2c0f7085d5d",
   "metadata": {},
   "source": [
    "#### Accept a nested list as inout "
   ]
  },
  {
   "cell_type": "code",
   "execution_count": 1,
   "id": "e607895c-4de6-4982-9975-b042cd0ed997",
   "metadata": {},
   "outputs": [
    {
     "name": "stdin",
     "output_type": "stream",
     "text": [
      "enter single number of sublists innested list 3\n"
     ]
    },
    {
     "name": "stdout",
     "output_type": "stream",
     "text": [
      "\n",
      "\n"
     ]
    },
    {
     "name": "stdin",
     "output_type": "stream",
     "text": [
      "enter the number of sublist in nested list 23\n",
      "enter the number of sublist in nested list 13\n",
      "enter the number of sublist in nested list 12\n",
      "enter the number of sublist in nested list 6\n",
      "enter the number of sublist in nested list 63\n",
      "enter the number of sublist in nested list 56\n",
      "enter the number of sublist in nested list 5\n",
      "enter the number of sublist in nested list 53\n",
      "enter the number of sublist in nested list 53\n"
     ]
    },
    {
     "name": "stdout",
     "output_type": "stream",
     "text": [
      "list is [[23, 13, 12], [6, 63, 56], [5, 53, 53]]\n"
     ]
    }
   ],
   "source": [
    " list_size=int(input(\"enter single number of sublists innested list\"))\n",
    "print('\\n')\n",
    "\n",
    "final_list=[[int(input(\"enter the number of sublist in nested list\")) for _ in range(list_size)]for _ in range(list_size)]\n",
    "\n",
    "print('list is', final_list)"
   ]
  },
  {
   "cell_type": "code",
   "execution_count": null,
   "id": "36c36183-ee63-41ca-9061-fd93ebecb904",
   "metadata": {},
   "outputs": [],
   "source": []
  },
  {
   "cell_type": "code",
   "execution_count": null,
   "id": "8118382d-e4bb-42fd-a4c3-a5fd4b36e863",
   "metadata": {},
   "outputs": [],
   "source": []
  },
  {
   "cell_type": "code",
   "execution_count": null,
   "id": "0d9949b5-6d2d-44d9-90dd-a1bb94534b4c",
   "metadata": {},
   "outputs": [],
   "source": []
  },
  {
   "cell_type": "code",
   "execution_count": null,
   "id": "a56bf45c-6261-4f5c-99fe-b823b3b44d51",
   "metadata": {},
   "outputs": [],
   "source": []
  },
  {
   "cell_type": "code",
   "execution_count": null,
   "id": "0bd01697-1314-43cb-94d0-ab6cc87d3069",
   "metadata": {},
   "outputs": [],
   "source": []
  }
 ],
 "metadata": {
  "kernelspec": {
   "display_name": "Python 3 (ipykernel)",
   "language": "python",
   "name": "python3"
  },
  "language_info": {
   "codemirror_mode": {
    "name": "ipython",
    "version": 3
   },
   "file_extension": ".py",
   "mimetype": "text/x-python",
   "name": "python",
   "nbconvert_exporter": "python",
   "pygments_lexer": "ipython3",
   "version": "3.11.7"
  }
 },
 "nbformat": 4,
 "nbformat_minor": 5
}
