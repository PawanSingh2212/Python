{
 "cells": [
  {
   "cell_type": "markdown",
   "id": "40f5578a-9c4f-45c3-8bda-fe1ec170e9f7",
   "metadata": {},
   "source": [
    "# Pyhton Modules\n",
    "\n",
    "- IN  python  modules refers to the python file , which contains python code like python statements classes function, variables, etc. A file with pyhton code is  defined with extension.py\n",
    "- for example.in best.py.where the best is the module name\n",
    "- In python , large code is divided into small modules . The benefit of module name.why to share reusable function\n",
    "- A module is a file (or collections of files) that contain definations of function classes variable and runnable code Modules are designed to encapsulate code and data for reuse to improve code redabilty and maintainabilty "
   ]
  },
  {
   "cell_type": "code",
   "execution_count": null,
   "id": "edf01699-2200-4da6-8b3d-40ff89f435e8",
   "metadata": {},
   "outputs": [],
   "source": []
  },
  {
   "cell_type": "markdown",
   "id": "7c335a12-94eb-4ac3-986c-a7244e18685b",
   "metadata": {},
   "source": [
    "## Library\n",
    "\n",
    "- A library is a collection of modules that provides a wide range of functionalites and tools designed to be used in development of software . Librariesaim to offer a set of helper function classes and modules to streamline the development process by providing resuable components"
   ]
  },
  {
   "cell_type": "code",
   "execution_count": 1,
   "id": "a1d3226b-b680-406b-bc52-2eaae9f638b1",
   "metadata": {},
   "outputs": [
    {
     "name": "stdout",
     "output_type": "stream",
     "text": [
      "2.0\n"
     ]
    }
   ],
   "source": [
    "# math module \n",
    "import math \n",
    "# use math module funtion \n",
    "print(math.sqrt(4))"
   ]
  },
  {
   "cell_type": "code",
   "execution_count": 3,
   "id": "f311f5cb-5025-4a7c-9bff-051e52346b36",
   "metadata": {},
   "outputs": [
    {
     "name": "stdout",
     "output_type": "stream",
     "text": [
      "Now: 2024-03-02 06:59:48.111753\n",
      "future Date: 2024-03-09 06:59:48.111753\n"
     ]
    }
   ],
   "source": [
    "from datetime import datetime,timedelta\n",
    "# current date and time\n",
    "\n",
    "now= datetime.now()\n",
    "print(\"Now:\",now)\n",
    "\n",
    "# Date 7 days from now \n",
    "future_date=now+timedelta(days=7)\n",
    "print(\"future Date:\", future_date)\n",
    "\n",
    "# formatting date "
   ]
  },
  {
   "cell_type": "code",
   "execution_count": null,
   "id": "75673706-eaab-43c0-8e1d-fa69fdff3ea4",
   "metadata": {},
   "outputs": [],
   "source": []
  },
  {
   "cell_type": "markdown",
   "id": "c2ebb7dd-f35e-40f9-a67e-1d7e5dd3be36",
   "metadata": {},
   "source": [
    "## OS Module\n",
    "\n",
    "- The Os Module provides a way to use operating sysem dependent functionality like reading or writing to a file system, and managing directories"
   ]
  },
  {
   "cell_type": "code",
   "execution_count": 1,
   "id": "9ae27e60-3c32-4bc7-b74c-adca1d9d7287",
   "metadata": {},
   "outputs": [
    {
     "name": "stdout",
     "output_type": "stream",
     "text": [
      "Current Directory: C:\\Users\\hplap\n",
      "files and directories: ['.anaconda', '.conda', '.condarc', '.continuum', '.ipynb_checkpoints', '.ipython', '.jupyter', '.matplotlib', '.ms-ad', '.spyder-py3', '.vscode', '1.my 1st python coding 19.july.2023.ipynb', '10 Python Range .ipynb', '1000Mrach test .ipynb', '11. Python Input.ipynb', '12.For loop.ipynb', '13.new code.ipynb', '14.for loop programming.ipynb', '15. Comments in python.ipynb', '17 while loop postmortum.ipynb', '18. Python functions.ipynb', '19. programe with and operator.ipynb', '2.Python Variables 21.7.2023.ipynb', '20. OR operator program.ipynb', '21-REVESION- For-Loop.ipynb', '22-Comprehension.ipynb', '23.Recursive, Lambda function.ipynb', '24. OOPs.ipynb', '25.OOP 2.ipynb', '26. OOPS question.ipynb', '27.STATISTICS.ipynb', '28.Python-Modules.ipynb', '3.Python Operators 21.7.2023.ipynb', '4.Python DATA TYPE LIST.ipynb', '5.Data type-SET .ipynb', '6.Data type- Dictionaries .ipynb', '7.LSD cheat sheet.ipynb', '8.Data type- String.ipynb', '9.Tuple.ipynb', 'anaconda3', 'AppData', 'Application Data', 'colours on python.ipynb', 'Contacts', 'Cookies', 'Documents', 'Downloads', 'Extra notes.ipynb', 'Favorites', 'IntelGraphicsProfiles', 'Jedi', 'Links', 'Local Settings', 'Microsoft', 'Music', 'My Documents', 'NetHood', 'NTUSER.DAT', 'ntuser.dat.LOG1', 'ntuser.dat.LOG2', 'NTUSER.DAT{a2332f18-cdbf-11ec-8680-002248483d79}.TM.blf', 'NTUSER.DAT{a2332f18-cdbf-11ec-8680-002248483d79}.TMContainer00000000000000000001.regtrans-ms', 'NTUSER.DAT{a2332f18-cdbf-11ec-8680-002248483d79}.TMContainer00000000000000000002.regtrans-ms', 'ntuser.ini', 'OneDrive', 'OpenVPN', 'Patterns.ipynb', 'PrintHood', 'python KEYWORDS chapter1 20.7.2023.ipynb', 'Python version check.ipynb', 'Recent', 'Saved Games', 'Searches', 'SendTo', 'Start Menu', 'stat practice.ipynb', 'STATS 2.ipynb', 'STATS.ipynb', 'Templates', 'Untitled.ipynb', 'Untitled1.ipynb', 'Videos', 'While-loop question paper.ipynb', 'X.ipynb']\n",
      "Directory 'new_dir' created\n"
     ]
    }
   ],
   "source": [
    "import os \n",
    "print(\"Current Directory:\",os.getcwd())\n",
    "\n",
    "# List files and directions \n",
    "print(\"files and directories:\",os.listdir(\".\"))\n",
    "\n",
    "# making a new directory\n",
    "\n",
    "if not os.path.exists('new_dir'):\n",
    "    os.makedirs('new_dir')\n",
    "    print(\"Directory 'new_dir' created\")"
   ]
  },
  {
   "cell_type": "code",
   "execution_count": null,
   "id": "b6a6de91-4975-4ac6-a816-576065a4e255",
   "metadata": {},
   "outputs": [],
   "source": []
  },
  {
   "cell_type": "markdown",
   "id": "483543cd-f725-40ad-8372-1c90b77530f6",
   "metadata": {},
   "source": [
    "#### Import Two Modules"
   ]
  },
  {
   "cell_type": "code",
   "execution_count": 2,
   "id": "b9436ecd-7692-49e2-8f2b-f24f0c55805b",
   "metadata": {},
   "outputs": [
    {
     "name": "stdout",
     "output_type": "stream",
     "text": [
      "120\n"
     ]
    },
    {
     "ename": "AttributeError",
     "evalue": "module 'random' has no attribute 'randit'",
     "output_type": "error",
     "traceback": [
      "\u001b[1;31m---------------------------------------------------------------------------\u001b[0m",
      "\u001b[1;31mAttributeError\u001b[0m                            Traceback (most recent call last)",
      "Cell \u001b[1;32mIn[2], line 4\u001b[0m\n\u001b[0;32m      1\u001b[0m \u001b[38;5;28;01mimport\u001b[39;00m \u001b[38;5;21;01mmath\u001b[39;00m\u001b[38;5;241m,\u001b[39m \u001b[38;5;21;01mrandom\u001b[39;00m\n\u001b[0;32m      3\u001b[0m \u001b[38;5;28mprint\u001b[39m(math\u001b[38;5;241m.\u001b[39mfactorial(\u001b[38;5;241m5\u001b[39m))\n\u001b[1;32m----> 4\u001b[0m \u001b[38;5;28mprint\u001b[39m(random\u001b[38;5;241m.\u001b[39mrandit(\u001b[38;5;241m10\u001b[39m,\u001b[38;5;241m20\u001b[39m))\n",
      "\u001b[1;31mAttributeError\u001b[0m: module 'random' has no attribute 'randit'"
     ]
    }
   ],
   "source": [
    "import math, random\n",
    "\n",
    "print(math.factorial(5))\n",
    "print(random.randit(10,20))"
   ]
  },
  {
   "cell_type": "code",
   "execution_count": 4,
   "id": "cd5c31ab-d442-4785-9ade-04184da2f1c1",
   "metadata": {},
   "outputs": [
    {
     "name": "stdout",
     "output_type": "stream",
     "text": [
      "120\n",
      "11\n"
     ]
    }
   ],
   "source": [
    "import math, random\n",
    "\n",
    "print(math.factorial(5))\n",
    "print(random.randint(10,20))"
   ]
  },
  {
   "cell_type": "markdown",
   "id": "10bf2715-e0b1-495e-b770-b275077ea5ee",
   "metadata": {},
   "source": [
    "#### Import Only specific classes or function from a module "
   ]
  },
  {
   "cell_type": "code",
   "execution_count": 5,
   "id": "2ae4905b-931d-4953-80c3-f68c2f7737f1",
   "metadata": {},
   "outputs": [
    {
     "name": "stdout",
     "output_type": "stream",
     "text": [
      "120\n"
     ]
    }
   ],
   "source": [
    "# import only factorial function from math module\n",
    "from math import factorial \n",
    "print(factorial(5))"
   ]
  },
  {
   "cell_type": "markdown",
   "id": "a6e57c70-c374-4a11-8cbd-52d8f0cbf457",
   "metadata": {},
   "source": [
    "#### Import With renaming a module \n"
   ]
  },
  {
   "cell_type": "code",
   "execution_count": 6,
   "id": "340a51dd-b1fb-4d9f-9e67-a776afdf887b",
   "metadata": {},
   "outputs": [
    {
     "name": "stdout",
     "output_type": "stream",
     "text": [
      "14\n"
     ]
    }
   ],
   "source": [
    "import random as rand \n",
    "print(rand.randrange(10,20,2))"
   ]
  },
  {
   "cell_type": "markdown",
   "id": "45d5f44b-b186-4337-b30d-1edf809c5ff6",
   "metadata": {},
   "source": [
    "#### Import all names\n",
    "\n",
    "- If we need to import all functions and attributes of a specific module then instead of writing all function names and attribute names , we can import all using asterisk "
   ]
  },
  {
   "cell_type": "code",
   "execution_count": 7,
   "id": "84324dad-b569-4ce2-9dfd-78265e49f361",
   "metadata": {},
   "outputs": [
    {
     "name": "stdout",
     "output_type": "stream",
     "text": [
      "16.0\n",
      "120\n",
      "9.42477796076938\n",
      "10.0\n"
     ]
    }
   ],
   "source": [
    "from math import *\n",
    "print(pow(4,2))\n",
    "print(factorial(5))\n",
    "\n",
    "print(pi*3)\n",
    "print(sqrt(100))"
   ]
  },
  {
   "cell_type": "code",
   "execution_count": null,
   "id": "d1c20537-bc07-479b-b913-ab0499a9ae64",
   "metadata": {},
   "outputs": [],
   "source": []
  },
  {
   "cell_type": "code",
   "execution_count": null,
   "id": "522ba945-a9f0-4bd9-b003-1ca72b1aa1a8",
   "metadata": {},
   "outputs": [],
   "source": []
  },
  {
   "cell_type": "code",
   "execution_count": null,
   "id": "3b8a5a92-e150-4733-bc73-f2b5bc20bd9a",
   "metadata": {},
   "outputs": [],
   "source": []
  },
  {
   "cell_type": "code",
   "execution_count": null,
   "id": "6716b6de-4dc1-4517-a210-ce7268a1ecf2",
   "metadata": {},
   "outputs": [],
   "source": []
  },
  {
   "cell_type": "code",
   "execution_count": null,
   "id": "6ead251e-386c-40d1-9cee-cf3285c5b2f6",
   "metadata": {},
   "outputs": [],
   "source": []
  },
  {
   "cell_type": "code",
   "execution_count": null,
   "id": "6e861ab8-e886-4898-9d45-598eaf6a3d34",
   "metadata": {},
   "outputs": [],
   "source": []
  },
  {
   "cell_type": "code",
   "execution_count": null,
   "id": "0194406b-184a-4acd-b29e-e5b585eadcce",
   "metadata": {},
   "outputs": [],
   "source": []
  },
  {
   "cell_type": "code",
   "execution_count": null,
   "id": "21730614-9675-4d09-8fc5-ec47e86a68ab",
   "metadata": {},
   "outputs": [],
   "source": []
  },
  {
   "cell_type": "code",
   "execution_count": null,
   "id": "22873031-aaa5-4591-861d-8b2490ad4782",
   "metadata": {},
   "outputs": [],
   "source": []
  },
  {
   "cell_type": "code",
   "execution_count": null,
   "id": "b2e50463-5f96-4c42-b20c-e953f18eacc3",
   "metadata": {},
   "outputs": [],
   "source": []
  },
  {
   "cell_type": "code",
   "execution_count": null,
   "id": "41efb70a-9432-4c0c-ab04-cee183666f7e",
   "metadata": {},
   "outputs": [],
   "source": []
  },
  {
   "cell_type": "code",
   "execution_count": null,
   "id": "aa75bda5-464c-411c-b98e-31e3114a5499",
   "metadata": {},
   "outputs": [],
   "source": []
  }
 ],
 "metadata": {
  "kernelspec": {
   "display_name": "Python 3 (ipykernel)",
   "language": "python",
   "name": "python3"
  },
  "language_info": {
   "codemirror_mode": {
    "name": "ipython",
    "version": 3
   },
   "file_extension": ".py",
   "mimetype": "text/x-python",
   "name": "python",
   "nbconvert_exporter": "python",
   "pygments_lexer": "ipython3",
   "version": "3.11.7"
  }
 },
 "nbformat": 4,
 "nbformat_minor": 5
}
