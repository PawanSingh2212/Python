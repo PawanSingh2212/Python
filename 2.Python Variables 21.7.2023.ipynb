{
 "cells": [
  {
   "cell_type": "markdown",
   "id": "57fff30c",
   "metadata": {},
   "source": [
    "# Python variables"
   ]
  },
  {
   "cell_type": "markdown",
   "id": "e7ea851f",
   "metadata": {},
   "source": [
    "### -Variables are used to store values \n",
    "    - values always written in \"\" comas  ex- \"pawan\" or 'pawan'"
   ]
  },
  {
   "cell_type": "code",
   "execution_count": 1,
   "id": "ae661d35",
   "metadata": {},
   "outputs": [],
   "source": [
    "name=\"PAWAN \"     # name is a variable, Storing a value PAWAN"
   ]
  },
  {
   "cell_type": "markdown",
   "id": "1bd91a58",
   "metadata": {},
   "source": [
    "## Rule 1 - it can be only one word "
   ]
  },
  {
   "cell_type": "code",
   "execution_count": 3,
   "id": "73082611",
   "metadata": {},
   "outputs": [
    {
     "name": "stdout",
     "output_type": "stream",
     "text": [
      "pawan\n"
     ]
    }
   ],
   "source": [
    "name= \"pawan\" \n",
    "print(name)"
   ]
  },
  {
   "cell_type": "code",
   "execution_count": 25,
   "id": "71ffa4b2",
   "metadata": {},
   "outputs": [
    {
     "ename": "SyntaxError",
     "evalue": "invalid syntax (3299753293.py, line 1)",
     "output_type": "error",
     "traceback": [
      "\u001b[1;36m  Cell \u001b[1;32mIn[25], line 1\u001b[1;36m\u001b[0m\n\u001b[1;33m    my name= \"pawan\"           # in this there are two variables (my) (name)   # or we can't use sapce b/w variables\u001b[0m\n\u001b[1;37m       ^\u001b[0m\n\u001b[1;31mSyntaxError\u001b[0m\u001b[1;31m:\u001b[0m invalid syntax\n"
     ]
    }
   ],
   "source": [
    "my name=\"pawan\"           # in this there are two variables (my) (name)   # or we can't use sapce b/w variables\n",
    "print(my name)"
   ]
  },
  {
   "cell_type": "markdown",
   "id": "70dcdda6",
   "metadata": {},
   "source": [
    "## Rule 2 \n",
    "- It can use only letters, numbers, and the underscore (_) character  \n",
    "- no special characters              "
   ]
  },
  {
   "cell_type": "code",
   "execution_count": 8,
   "id": "d7bec84f",
   "metadata": {},
   "outputs": [
    {
     "name": "stdout",
     "output_type": "stream",
     "text": [
      "pawan singh\n"
     ]
    }
   ],
   "source": [
    "my_name=\"pawan singh\"\n",
    "print(my_name)"
   ]
  },
  {
   "cell_type": "code",
   "execution_count": 9,
   "id": "bc37e5f5",
   "metadata": {},
   "outputs": [
    {
     "ename": "SyntaxError",
     "evalue": "cannot assign to expression here. Maybe you meant '==' instead of '='? (4034441769.py, line 1)",
     "output_type": "error",
     "traceback": [
      "\u001b[1;36m  Cell \u001b[1;32mIn[9], line 1\u001b[1;36m\u001b[0m\n\u001b[1;33m    my@name=\"pawan\"\u001b[0m\n\u001b[1;37m    ^\u001b[0m\n\u001b[1;31mSyntaxError\u001b[0m\u001b[1;31m:\u001b[0m cannot assign to expression here. Maybe you meant '==' instead of '='?\n"
     ]
    }
   ],
   "source": [
    "my@name=\"pawan\"            # no special characters\n",
    "print(my@name)"
   ]
  },
  {
   "cell_type": "code",
   "execution_count": 10,
   "id": "c8e07904",
   "metadata": {},
   "outputs": [
    {
     "ename": "SyntaxError",
     "evalue": "invalid syntax. Maybe you meant '==' or ':=' instead of '='? (1018091339.py, line 1)",
     "output_type": "error",
     "traceback": [
      "\u001b[1;36m  Cell \u001b[1;32mIn[10], line 1\u001b[1;36m\u001b[0m\n\u001b[1;33m    @name=\"pawan\"\u001b[0m\n\u001b[1;37m     ^\u001b[0m\n\u001b[1;31mSyntaxError\u001b[0m\u001b[1;31m:\u001b[0m invalid syntax. Maybe you meant '==' or ':=' instead of '='?\n"
     ]
    }
   ],
   "source": [
    "@name=\"pawan\"\n",
    "print(name)"
   ]
  },
  {
   "cell_type": "code",
   "execution_count": 14,
   "id": "dc2ebfe6",
   "metadata": {},
   "outputs": [
    {
     "name": "stdout",
     "output_type": "stream",
     "text": [
      "pawan\n",
      "pawan\n",
      "singh\n"
     ]
    }
   ],
   "source": [
    "name1=\"pawan\"\n",
    "name_1='pawan'\n",
    "name_1y=\"singh\"\n",
    "print(name1)\n",
    "print(name_1)\n",
    "print(name_1y)"
   ]
  },
  {
   "cell_type": "markdown",
   "id": "c4f15343",
   "metadata": {},
   "source": [
    "### Rule 3 - can't begin with numbers \n",
    "            "
   ]
  },
  {
   "cell_type": "markdown",
   "id": "5d58380a",
   "metadata": {},
   "source": [
    " ### -      but can end with a number"
   ]
  },
  {
   "cell_type": "code",
   "execution_count": 15,
   "id": "f8c56c90",
   "metadata": {},
   "outputs": [
    {
     "ename": "SyntaxError",
     "evalue": "invalid decimal literal (2765833570.py, line 1)",
     "output_type": "error",
     "traceback": [
      "\u001b[1;36m  Cell \u001b[1;32mIn[15], line 1\u001b[1;36m\u001b[0m\n\u001b[1;33m    1name=\"pawan\"\u001b[0m\n\u001b[1;37m    ^\u001b[0m\n\u001b[1;31mSyntaxError\u001b[0m\u001b[1;31m:\u001b[0m invalid decimal literal\n"
     ]
    }
   ],
   "source": [
    "1name=\"pawan\"\n",
    "print(1name)"
   ]
  },
  {
   "cell_type": "code",
   "execution_count": 16,
   "id": "7e65c7e9",
   "metadata": {},
   "outputs": [
    {
     "name": "stdout",
     "output_type": "stream",
     "text": [
      "pawan\n"
     ]
    }
   ],
   "source": [
    "name1=\"pawan\"\n",
    "print(name1)"
   ]
  },
  {
   "cell_type": "code",
   "execution_count": 17,
   "id": "12ff6d32",
   "metadata": {},
   "outputs": [
    {
     "ename": "SyntaxError",
     "evalue": "invalid decimal literal (2191187317.py, line 1)",
     "output_type": "error",
     "traceback": [
      "\u001b[1;36m  Cell \u001b[1;32mIn[17], line 1\u001b[1;36m\u001b[0m\n\u001b[1;33m    1_name=\"pawan\"\u001b[0m\n\u001b[1;37m     ^\u001b[0m\n\u001b[1;31mSyntaxError\u001b[0m\u001b[1;31m:\u001b[0m invalid decimal literal\n"
     ]
    }
   ],
   "source": [
    "1_name=\"pawan\"\n",
    "print(1_name)"
   ]
  },
  {
   "cell_type": "code",
   "execution_count": 19,
   "id": "a8c433fc",
   "metadata": {},
   "outputs": [
    {
     "name": "stdout",
     "output_type": "stream",
     "text": [
      "pawan\n"
     ]
    }
   ],
   "source": [
    "x_1=\"pawan\"\n",
    "print(x_1)"
   ]
  },
  {
   "cell_type": "markdown",
   "id": "5b91c37c",
   "metadata": {},
   "source": [
    "### Rule 4 -Variable name starting with an underscore (_) are considered as “unuseful”."
   ]
  },
  {
   "cell_type": "code",
   "execution_count": 20,
   "id": "36013723",
   "metadata": {},
   "outputs": [
    {
     "name": "stdout",
     "output_type": "stream",
     "text": [
      "pawan\n"
     ]
    }
   ],
   "source": [
    "_name='pawan'\n",
    "print(_name)"
   ]
  },
  {
   "cell_type": "code",
   "execution_count": 21,
   "id": "e4d24cde",
   "metadata": {},
   "outputs": [
    {
     "name": "stdout",
     "output_type": "stream",
     "text": [
      "value\n"
     ]
    }
   ],
   "source": [
    "__variable=\"value\"\n",
    "print(__variable)"
   ]
  },
  {
   "cell_type": "code",
   "execution_count": 1,
   "id": "52814c82",
   "metadata": {},
   "outputs": [
    {
     "name": "stdout",
     "output_type": "stream",
     "text": [
      "15\n"
     ]
    }
   ],
   "source": [
    "x=15\n",
    "print(x)"
   ]
  },
  {
   "cell_type": "markdown",
   "id": "b73aca7e",
   "metadata": {},
   "source": [
    "# Memory/ Address "
   ]
  },
  {
   "cell_type": "code",
   "execution_count": 2,
   "id": "38d1c665",
   "metadata": {},
   "outputs": [],
   "source": [
    "x=10"
   ]
  },
  {
   "cell_type": "code",
   "execution_count": 3,
   "id": "401ee994",
   "metadata": {},
   "outputs": [
    {
     "data": {
      "text/plain": [
       "140725265929288"
      ]
     },
     "execution_count": 3,
     "metadata": {},
     "output_type": "execute_result"
    }
   ],
   "source": [
    "id(x)"
   ]
  },
  {
   "cell_type": "code",
   "execution_count": 4,
   "id": "8e637963",
   "metadata": {},
   "outputs": [],
   "source": [
    "y=10"
   ]
  },
  {
   "cell_type": "code",
   "execution_count": 5,
   "id": "6bc219c2",
   "metadata": {},
   "outputs": [
    {
     "data": {
      "text/plain": [
       "140725265929288"
      ]
     },
     "execution_count": 5,
     "metadata": {},
     "output_type": "execute_result"
    }
   ],
   "source": [
    "id(y)"
   ]
  },
  {
   "cell_type": "code",
   "execution_count": 6,
   "id": "b310a314",
   "metadata": {},
   "outputs": [
    {
     "data": {
      "text/plain": [
       "140725265929448"
      ]
     },
     "execution_count": 6,
     "metadata": {},
     "output_type": "execute_result"
    }
   ],
   "source": [
    "y=15\n",
    "id(y)"
   ]
  },
  {
   "cell_type": "code",
   "execution_count": 7,
   "id": "08c2d492",
   "metadata": {},
   "outputs": [],
   "source": [
    "p=\"pawan\""
   ]
  },
  {
   "cell_type": "code",
   "execution_count": 8,
   "id": "f0bd1ccb",
   "metadata": {},
   "outputs": [
    {
     "data": {
      "text/plain": [
       "1712273859824"
      ]
     },
     "execution_count": 8,
     "metadata": {},
     "output_type": "execute_result"
    }
   ],
   "source": [
    "id(p)"
   ]
  },
  {
   "cell_type": "code",
   "execution_count": 9,
   "id": "779030ea",
   "metadata": {},
   "outputs": [],
   "source": [
    "p=\"jfgd\""
   ]
  },
  {
   "cell_type": "code",
   "execution_count": 10,
   "id": "a54dbd5f",
   "metadata": {},
   "outputs": [
    {
     "data": {
      "text/plain": [
       "1712273877552"
      ]
     },
     "execution_count": 10,
     "metadata": {},
     "output_type": "execute_result"
    }
   ],
   "source": [
    "id(p)"
   ]
  },
  {
   "cell_type": "code",
   "execution_count": 12,
   "id": "33b79a5a",
   "metadata": {},
   "outputs": [
    {
     "data": {
      "text/plain": [
       "140725265929448"
      ]
     },
     "execution_count": 12,
     "metadata": {},
     "output_type": "execute_result"
    }
   ],
   "source": [
    "id(y)"
   ]
  },
  {
   "cell_type": "code",
   "execution_count": 18,
   "id": "f5575949",
   "metadata": {},
   "outputs": [],
   "source": [
    "x=10\n",
    "y=11\n",
    "z=x\n",
    "a=b=z"
   ]
  },
  {
   "cell_type": "code",
   "execution_count": 14,
   "id": "1c99fd2a",
   "metadata": {},
   "outputs": [
    {
     "data": {
      "text/plain": [
       "140725265929288"
      ]
     },
     "execution_count": 14,
     "metadata": {},
     "output_type": "execute_result"
    }
   ],
   "source": [
    "id(x)"
   ]
  },
  {
   "cell_type": "code",
   "execution_count": 15,
   "id": "f33ef15e",
   "metadata": {},
   "outputs": [
    {
     "data": {
      "text/plain": [
       "140725265929288"
      ]
     },
     "execution_count": 15,
     "metadata": {},
     "output_type": "execute_result"
    }
   ],
   "source": [
    "id(z)"
   ]
  },
  {
   "cell_type": "code",
   "execution_count": 16,
   "id": "d2b27004",
   "metadata": {},
   "outputs": [
    {
     "data": {
      "text/plain": [
       "140725265929320"
      ]
     },
     "execution_count": 16,
     "metadata": {},
     "output_type": "execute_result"
    }
   ],
   "source": [
    "id(y)"
   ]
  },
  {
   "cell_type": "code",
   "execution_count": 22,
   "id": "b3219b1c",
   "metadata": {},
   "outputs": [
    {
     "data": {
      "text/plain": [
       "140725265929320"
      ]
     },
     "execution_count": 22,
     "metadata": {},
     "output_type": "execute_result"
    }
   ],
   "source": [
    "id(a);id(y)"
   ]
  },
  {
   "cell_type": "code",
   "execution_count": 24,
   "id": "19726d46",
   "metadata": {},
   "outputs": [
    {
     "name": "stdout",
     "output_type": "stream",
     "text": [
      "140725265929288\n",
      "140725265929288\n"
     ]
    }
   ],
   "source": [
    "print (id(a));print(id(b))"
   ]
  },
  {
   "cell_type": "code",
   "execution_count": 26,
   "id": "7d17f47e",
   "metadata": {},
   "outputs": [
    {
     "name": "stdout",
     "output_type": "stream",
     "text": [
      "140725265929288 140725265929288 140725265929288\n"
     ]
    }
   ],
   "source": [
    "print(id(a),id(b),id(z))"
   ]
  },
  {
   "cell_type": "code",
   "execution_count": 27,
   "id": "11c34bdd",
   "metadata": {},
   "outputs": [
    {
     "data": {
      "text/plain": [
       "140725265929288"
      ]
     },
     "execution_count": 27,
     "metadata": {},
     "output_type": "execute_result"
    }
   ],
   "source": [
    "id(10)"
   ]
  },
  {
   "cell_type": "code",
   "execution_count": 28,
   "id": "653d941c",
   "metadata": {},
   "outputs": [
    {
     "data": {
      "text/plain": [
       "140725265936456"
      ]
     },
     "execution_count": 28,
     "metadata": {},
     "output_type": "execute_result"
    }
   ],
   "source": [
    "id(234)"
   ]
  },
  {
   "cell_type": "code",
   "execution_count": 22,
   "id": "4b4adc96",
   "metadata": {},
   "outputs": [
    {
     "ename": "SyntaxError",
     "evalue": "invalid syntax (3237760806.py, line 1)",
     "output_type": "error",
     "traceback": [
      "\u001b[1;36m  Cell \u001b[1;32mIn[22], line 1\u001b[1;36m\u001b[0m\n\u001b[1;33m    $=10                    # c/z special character do not used in variables\u001b[0m\n\u001b[1;37m    ^\u001b[0m\n\u001b[1;31mSyntaxError\u001b[0m\u001b[1;31m:\u001b[0m invalid syntax\n"
     ]
    }
   ],
   "source": [
    "$=10                    # c/z special character do not used in variables\n",
    "print(id($)) "
   ]
  },
  {
   "cell_type": "code",
   "execution_count": 30,
   "id": "348d00a2",
   "metadata": {},
   "outputs": [
    {
     "ename": "SyntaxError",
     "evalue": "invalid syntax (486422336.py, line 1)",
     "output_type": "error",
     "traceback": [
      "\u001b[1;36m  Cell \u001b[1;32mIn[30], line 1\u001b[1;36m\u001b[0m\n\u001b[1;33m    @=14\u001b[0m\n\u001b[1;37m    ^\u001b[0m\n\u001b[1;31mSyntaxError\u001b[0m\u001b[1;31m:\u001b[0m invalid syntax\n"
     ]
    }
   ],
   "source": [
    "@=14\n",
    "print(id(@))"
   ]
  },
  {
   "cell_type": "markdown",
   "id": "4d479e2d",
   "metadata": {},
   "source": [
    "### variables can't be no."
   ]
  },
  {
   "cell_type": "code",
   "execution_count": 31,
   "id": "4fc0be79",
   "metadata": {},
   "outputs": [
    {
     "ename": "SyntaxError",
     "evalue": "cannot assign to literal here. Maybe you meant '==' instead of '='? (1771786479.py, line 1)",
     "output_type": "error",
     "traceback": [
      "\u001b[1;36m  Cell \u001b[1;32mIn[31], line 1\u001b[1;36m\u001b[0m\n\u001b[1;33m    1=15\u001b[0m\n\u001b[1;37m    ^\u001b[0m\n\u001b[1;31mSyntaxError\u001b[0m\u001b[1;31m:\u001b[0m cannot assign to literal here. Maybe you meant '==' instead of '='?\n"
     ]
    }
   ],
   "source": [
    "1=15                    # variables can't be no.\n",
    "print(1)"
   ]
  },
  {
   "cell_type": "code",
   "execution_count": 32,
   "id": "7479b5f4",
   "metadata": {},
   "outputs": [
    {
     "name": "stdout",
     "output_type": "stream",
     "text": [
      "140725265929000\n"
     ]
    }
   ],
   "source": [
    "print(id(1))"
   ]
  },
  {
   "cell_type": "code",
   "execution_count": 34,
   "id": "534ca688",
   "metadata": {},
   "outputs": [
    {
     "name": "stdout",
     "output_type": "stream",
     "text": [
      "-15\n"
     ]
    }
   ],
   "source": [
    "pawan=-15\n",
    "print(pawan)"
   ]
  },
  {
   "cell_type": "code",
   "execution_count": 35,
   "id": "1400403a",
   "metadata": {},
   "outputs": [
    {
     "data": {
      "text/plain": [
       "1712287302576"
      ]
     },
     "execution_count": 35,
     "metadata": {},
     "output_type": "execute_result"
    }
   ],
   "source": [
    "id(pawan)"
   ]
  },
  {
   "cell_type": "code",
   "execution_count": 36,
   "id": "b4e72a3a",
   "metadata": {},
   "outputs": [
    {
     "data": {
      "text/plain": [
       "1712287302832"
      ]
     },
     "execution_count": 36,
     "metadata": {},
     "output_type": "execute_result"
    }
   ],
   "source": [
    "id(-15)"
   ]
  },
  {
   "cell_type": "code",
   "execution_count": 44,
   "id": "4c28b57d",
   "metadata": {},
   "outputs": [
    {
     "name": "stdout",
     "output_type": "stream",
     "text": [
      "90\n"
     ]
    }
   ],
   "source": [
    "total_cars=90\n",
    "print(total_cars)"
   ]
  },
  {
   "cell_type": "code",
   "execution_count": 43,
   "id": "543eecb2",
   "metadata": {},
   "outputs": [],
   "source": [
    "S=15"
   ]
  },
  {
   "cell_type": "code",
   "execution_count": 45,
   "id": "7f8cfaac",
   "metadata": {},
   "outputs": [
    {
     "name": "stdout",
     "output_type": "stream",
     "text": [
      "20\n",
      "15\n",
      "17\n"
     ]
    }
   ],
   "source": [
    "total=20\n",
    "Total=15\n",
    "TOTAL=17\n",
    "print(total)\n",
    "print(Total)\n",
    "print(TOTAL)"
   ]
  },
  {
   "cell_type": "markdown",
   "id": "3d4c4f09",
   "metadata": {},
   "source": []
  }
 ],
 "metadata": {
  "kernelspec": {
   "display_name": "Python 3 (ipykernel)",
   "language": "python",
   "name": "python3"
  },
  "language_info": {
   "codemirror_mode": {
    "name": "ipython",
    "version": 3
   },
   "file_extension": ".py",
   "mimetype": "text/x-python",
   "name": "python",
   "nbconvert_exporter": "python",
   "pygments_lexer": "ipython3",
   "version": "3.11.7"
  }
 },
 "nbformat": 4,
 "nbformat_minor": 5
}
