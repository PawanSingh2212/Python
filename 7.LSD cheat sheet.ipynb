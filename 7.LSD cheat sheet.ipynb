{
 "cells": [
  {
   "cell_type": "markdown",
   "id": "f95d3100",
   "metadata": {},
   "source": [
    "- Accessing items of list\n",
    "- accessing items of nested list\n",
    "- Accessing items of set \n",
    "- Accessing elements of a dictionary  "
   ]
  },
  {
   "cell_type": "code",
   "execution_count": 6,
   "id": "fd0c18c3",
   "metadata": {},
   "outputs": [
    {
     "name": "stdout",
     "output_type": "stream",
     "text": [
      "35 yaay 89\n"
     ]
    }
   ],
   "source": [
    "# accessing items of lits\n",
    "\n",
    "list=[12,35,34,\"yaay\",89]\n",
    "\n",
    "print(list[1],list[3],list[4])"
   ]
  },
  {
   "cell_type": "code",
   "execution_count": 9,
   "id": "d6f20bbe",
   "metadata": {},
   "outputs": [
    {
     "name": "stdout",
     "output_type": "stream",
     "text": [
      "34.6 3\n"
     ]
    }
   ],
   "source": [
    "# accessing items of nested list\n",
    "\n",
    "list1=[12,34,990,3+56j,[\"pawan\",34.6,2,[1,2,3,4]]]\n",
    "\n",
    "print(list1[4][1],list1[4][3][2])"
   ]
  },
  {
   "cell_type": "code",
   "execution_count": 3,
   "id": "73ece4fe",
   "metadata": {},
   "outputs": [
    {
     "name": "stdout",
     "output_type": "stream",
     "text": [
      "{89, 34, 54, 'hay', 90, 12}\n"
     ]
    }
   ],
   "source": [
    "# accessing items of the set \n",
    "\n",
    "set={12,34,\"hay\",89,54,90}\n",
    "\n",
    "print(set)"
   ]
  },
  {
   "cell_type": "markdown",
   "id": "13566104",
   "metadata": {},
   "source": [
    "- Checking if an item exists in a set\n",
    "- Finding an element in the list\n",
    "- Checking if a key exists in dict"
   ]
  },
  {
   "cell_type": "code",
   "execution_count": 22,
   "id": "70939907",
   "metadata": {},
   "outputs": [
    {
     "name": "stdout",
     "output_type": "stream",
     "text": [
      "True\n",
      "False\n",
      "False\n"
     ]
    }
   ],
   "source": [
    "# checking if an item exists in a set\n",
    "\n",
    "set={12,34,\"hay\",89,54,90}\n",
    "\n",
    "print(12 in set)\n",
    "\n",
    "print(43 in set)\n",
    "\n",
    "print(89 not in set)"
   ]
  },
  {
   "cell_type": "markdown",
   "id": "b510996b",
   "metadata": {},
   "source": [
    "- Removing item(s) from a set -remove () vs discard()\n",
    "- Removing elements from a list\n",
    "- Remove specific item \n",
    "- Remove all occurance of a specific item\n",
    "- Remove all item present at given index\n",
    "- Remove the range of items\n",
    "- Remove all items \n",
    "- remove items from the dictionary \n",
    "\n",
    "\n",
    "\n"
   ]
  },
  {
   "cell_type": "markdown",
   "id": "78c8a2e4",
   "metadata": {},
   "source": [
    "- Adding elements to the list \n",
    "- Append item at the end of the list \n",
    "- Add at the specific position\n",
    "- Adding items to the dicitionary "
   ]
  },
  {
   "cell_type": "code",
   "execution_count": 34,
   "id": "5c05373b",
   "metadata": {},
   "outputs": [
    {
     "name": "stdout",
     "output_type": "stream",
     "text": [
      "{34, 'naay', 'hay', 54, 89, 90}\n",
      "{'naay', 'hay', 54, 89, 90}\n",
      "{'naay', 54, 89, 90}\n",
      "{54, 89, 90}\n"
     ]
    }
   ],
   "source": [
    " # Removing item(s) from a set -remove () vs discard()\n",
    "\n",
    "set={12,34,\"hay\",89,54,90,\"naay\"}\n",
    "\n",
    "set.remove(12)\n",
    "print(set)\n",
    "\n",
    "set.discard(34)\n",
    "print(set)\n",
    "\n",
    "set.discard(\"hay\")\n",
    "print(set)\n",
    "\n",
    "set.remove(\"naay\")\n",
    "print(set)"
   ]
  },
  {
   "cell_type": "code",
   "execution_count": 49,
   "id": "f360bf55",
   "metadata": {},
   "outputs": [
    {
     "name": "stdout",
     "output_type": "stream",
     "text": [
      "[12, 35, 34, 'yaay']\n",
      "[]\n",
      "None None None None\n",
      "[12, 56, 24, 56]\n"
     ]
    }
   ],
   "source": [
    "# Remove specific item\n",
    "\n",
    "list=[12,35,34,\"yaay\",89]\n",
    "\n",
    "list.remove(89)\n",
    "print(list)\n",
    "\n",
    "# Removing elements from a list\n",
    "\n",
    "list=[12,35,34,\"yaay\",89]\n",
    "\n",
    "list.clear()\n",
    "print(list)\n",
    "\n",
    "# Remove all occurance of a specific item\n",
    "\n",
    "list1=[20,12,20,56,20,24,20,56]\n",
    "print(list1.remove(20),list1.remove(20),list1.remove(20),list1.remove(20))\n",
    "print(list1)"
   ]
  },
  {
   "cell_type": "code",
   "execution_count": 75,
   "id": "b3a1910f",
   "metadata": {},
   "outputs": [
    {
     "name": "stdout",
     "output_type": "stream",
     "text": [
      "[12, 45, 98, 76, 54, 22]\n",
      "[]\n"
     ]
    }
   ],
   "source": [
    "# Remove all item present at given index\n",
    "\n",
    "list2=[12,45,98,76,[\"hey\",34,90],54,22]\n",
    "list2.pop(4)\n",
    "\n",
    "print(list2)\n",
    "\n",
    "# Remove the range of items\n",
    "\n",
    "list2=[12, 45, 98, 76, 54, 22]\n",
    "\n",
    "    \n",
    "      \n",
    "      \n",
    "# Remove all items\n",
    "      \n",
    "list2=[12, 45, 98, 76, 54, 22]\n",
    "\n",
    "list2.clear()\n",
    "print(list2)\n",
    "      "
   ]
  },
  {
   "cell_type": "code",
   "execution_count": 80,
   "id": "732e66c8",
   "metadata": {},
   "outputs": [
    {
     "name": "stdout",
     "output_type": "stream",
     "text": [
      "[12, 54, 0.67, 32, 21, 76, 87]\n",
      "[12, 54, 0.67, 32, 21, 76, 87, 3000]\n"
     ]
    },
    {
     "data": {
      "text/plain": [
       "[12, 54, 0.67, 32, 21, 76, 87, 3000, 6000]"
      ]
     },
     "execution_count": 80,
     "metadata": {},
     "output_type": "execute_result"
    }
   ],
   "source": [
    " # Add at the specific position\n",
    "\n",
    "list3=[12,54,32,21,76,87]\n",
    "\n",
    "list3.insert(2,0.67)\n",
    "print(list3)\n",
    "\n",
    "# Append item at the end of the list\n",
    "\n",
    "list3.append(3000)\n",
    "print(list3)\n",
    "\n",
    "# Adding elements to the list\n",
    "\n",
    "list3+[6000]"
   ]
  },
  {
   "cell_type": "markdown",
   "id": "3919e95d",
   "metadata": {},
   "source": [
    "### Set Operation"
   ]
  },
  {
   "cell_type": "markdown",
   "id": "fa437657",
   "metadata": {},
   "source": [
    "- union of set \n",
    "- intersection of set \n",
    "- Intersection updaate \n",
    "- Difference of set \n",
    "- Difference update \n",
    "- Symmetric difference of set \n",
    "- Symmetric difference update \n",
    "- Copying a set \n",
    "- subset and superset \n",
    "- Find whether two sets are disjoint \n",
    "- Sort the set \n",
    "- Using python built-in fucn. for set\n",
    "- All() and any()\n",
    "- Max() and min()"
   ]
  },
  {
   "cell_type": "code",
   "execution_count": 10,
   "id": "c4eae066",
   "metadata": {},
   "outputs": [
    {
     "name": "stdout",
     "output_type": "stream",
     "text": [
      "{34, 12, 78, 'raven', 21, 23, 56, 'hay', 90}\n"
     ]
    },
    {
     "data": {
      "text/plain": [
       "{90, 'raven'}"
      ]
     },
     "execution_count": 10,
     "metadata": {},
     "output_type": "execute_result"
    }
   ],
   "source": [
    "# union of set \n",
    "set0={12,\"raven\",90,56,23}\n",
    "set1={34,21,\"hay\",78,90,\"raven\"}\n",
    "\n",
    "print(set0.union(set1))\n",
    "\n",
    "\n",
    "#intersection of set \n",
    "\n",
    "set0.intersection(set1)"
   ]
  },
  {
   "cell_type": "code",
   "execution_count": 98,
   "id": "2f834fc6",
   "metadata": {},
   "outputs": [
    {
     "name": "stdout",
     "output_type": "stream",
     "text": [
      "{90, 'raven'}\n",
      "{34, 21, 'hay', 90, 78, 'raven'}\n",
      "{'hay', 34, 21, 78}\n",
      "{34, 21, 'hay', 90, 78, 'raven'}\n",
      "{12, 78, 21, 23, 'hay', 34, 56}\n",
      "{34, 78, 'raven', 21, 'hay', 90}\n"
     ]
    }
   ],
   "source": [
    "# Intersection updaate \n",
    "\n",
    "set0={12,\"raven\",90,56,23}\n",
    "set1={34,21,\"hay\",78,90,\"raven\"}\n",
    "\n",
    "set2=set0.intersection(set1)\n",
    "print(set2)\n",
    "\n",
    "set2.intersection_update(set1)\n",
    "print(set1)\n",
    "\n",
    "# Difference of set \n",
    "\n",
    "setdif=set1.difference(set0)\n",
    "print(setdif)\n",
    "\n",
    "setdif.difference_update(set1)\n",
    "print(set1)\n",
    "\n",
    "\n",
    "# Symmetric difference of set \n",
    "\n",
    "set_sym_dif=set0^set1\n",
    "print(set_sym_dif)\n",
    "\n",
    "# Symmetric difference update\n",
    "\n",
    "set0.symmetric_difference_update(set_sym_dif)\n",
    "\n",
    "print(set0)\n",
    "\n",
    "\n"
   ]
  },
  {
   "cell_type": "code",
   "execution_count": 99,
   "id": "6a2e9303",
   "metadata": {},
   "outputs": [
    {
     "name": "stdout",
     "output_type": "stream",
     "text": [
      "{56, 'no', 90, 23}\n",
      "True\n",
      "True\n",
      "[0.4, 34.2, 56.8, 79, 123, 546]\n",
      "546\n",
      "0.4\n"
     ]
    },
    {
     "data": {
      "text/plain": [
       "839.4"
      ]
     },
     "execution_count": 99,
     "metadata": {},
     "output_type": "execute_result"
    }
   ],
   "source": [
    "# Copying a set \n",
    "\n",
    "setp={12,76,\"say\",}\n",
    "sets={23,56,\"no\",90}\n",
    "\n",
    "set_new=sets.copy()\n",
    "print(set_new)\n",
    "\n",
    "\n",
    "# Find whether two sets are disjoint \n",
    "\n",
    "print(setp.isdisjoint(sets))\n",
    "\n",
    "print(sets.isdisjoint(setp))\n",
    "\n",
    "#Sort the set \n",
    "\n",
    "setS={123,546,79,34.2,56.8,0.4}\n",
    "print(sorted(setS))\n",
    "\n",
    "# Max() and min()\n",
    " \n",
    "print(max(setS))\n",
    "print(min(setS))\n",
    "\n",
    "\n",
    "# using sum()\n",
    "\n",
    "sum(setS)"
   ]
  },
  {
   "cell_type": "markdown",
   "id": "ce8aec13",
   "metadata": {},
   "source": [
    "## list operations"
   ]
  },
  {
   "cell_type": "markdown",
   "id": "278489d2",
   "metadata": {},
   "source": [
    "- Sort list using sort()\n",
    "- Reverse a list using reverse()\n",
    "- Python Built-in functions with  list \n",
    "- Using max() and min()\n",
    "- Using sum()\n",
    "- All()\n",
    "- Any()\n",
    "- Nested list"
   ]
  },
  {
   "cell_type": "code",
   "execution_count": 96,
   "id": "a76b5fd8",
   "metadata": {},
   "outputs": [
    {
     "name": "stdout",
     "output_type": "stream",
     "text": [
      "[12, 45.3445, 78, 78, 345]\n",
      "[45.3445, 78, 78, 345, 12]\n",
      "345\n",
      "12\n"
     ]
    },
    {
     "data": {
      "text/plain": [
       "558.3444999999999"
      ]
     },
     "execution_count": 96,
     "metadata": {},
     "output_type": "execute_result"
    }
   ],
   "source": [
    "# Sort list using sort()\n",
    "\n",
    "LIST=[12,345,78,78,45.3445]\n",
    "\n",
    "print(sorted(LIST))\n",
    "\n",
    "# Reverse a list using reverse()\n",
    "\n",
    "LIST.reverse()\n",
    "\n",
    "print(LIST)\n",
    "\n",
    "# Using max() and min()\n",
    "print(max(LIST))\n",
    "print(min(LIST))\n",
    "\n",
    "# Using sum()\n",
    "\n",
    "sum(LIST)"
   ]
  },
  {
   "cell_type": "markdown",
   "id": "cb6eb1dc",
   "metadata": {},
   "source": [
    "## Dictionary Operations"
   ]
  },
  {
   "cell_type": "markdown",
   "id": "60dc5907",
   "metadata": {},
   "source": [
    "- Join two dictionary \n",
    "- using update() metod\n",
    "- Using **kwargs to unpack \n",
    "- Join two dictionaries having few items in common\n",
    "- Copy a dictionary \n",
    "- copy using the assignment operator \n",
    "- Nested dictionary \n",
    "- add multiple dictionaried inside a single dictionary \n",
    "- sort dictionary \n",
    "- dictionary comprehension\n",
    "- Python Built-in function with dictionary \n",
    "- max() and min()\n",
    "- all()\n",
    "- any()"
   ]
  },
  {
   "cell_type": "code",
   "execution_count": 21,
   "id": "98da13df",
   "metadata": {},
   "outputs": [
    {
     "name": "stdout",
     "output_type": "stream",
     "text": [
      "{'name': 'pawan', 'country': 'nepal', 'food': 'momo', 'telephone': 2324}\n",
      "{'name': 'pawan', 'country': 'nepal', 'food': 'momo', 'telephone': 2324}\n",
      "{'name': 'pawan', 'country': 'nepal', 'telephone': 2324, 'food': 'momo'}\n"
     ]
    }
   ],
   "source": [
    "# joining two dictionary\n",
    "\n",
    "dic1={'name':'pawan','country':'nepal'}\n",
    "dic2={'food':'momo','telephone':2324}\n",
    "\n",
    "dic1.update(dic2)\n",
    "\n",
    "print(dic1)\n",
    "\n",
    "# **kwarg\n",
    "\n",
    "dic1={**dic1,**dic2}\n",
    "\n",
    "print(dic1)\n",
    "\n",
    "\n",
    "# Join two dictionaries having few items in common\n",
    "\n",
    "dic3={'name':'pawan','country':'nepal','telephone':2324}\n",
    "dic4={'food':'momo','telephone':2324,'name':'pawan'}\n",
    "\n",
    "dic3.update(dic4)\n",
    "print(dic3)\n",
    "\n"
   ]
  },
  {
   "cell_type": "code",
   "execution_count": 31,
   "id": "24c022a6",
   "metadata": {},
   "outputs": [
    {
     "name": "stdout",
     "output_type": "stream",
     "text": [
      "{'name': 'pawan', 'country': 'nepal', 'telephone': 2324}\n",
      "{'food': 'momo', 'telephone': 2324, 'name': 'pawan'}\n"
     ]
    }
   ],
   "source": [
    "# Copy a dictionary\n",
    "\n",
    "dic3={'name':'pawan','country':'nepal','telephone':2324}\n",
    "dic4={'food':'momo','telephone':2324,'name':'pawan'}\n",
    "\n",
    "print(dic3.copy())\n",
    "\n",
    "\n",
    "# copy using the assignment operator \n",
    "\n",
    "dic5=dic4\n",
    "\n",
    "print(dic5)"
   ]
  },
  {
   "cell_type": "code",
   "execution_count": 40,
   "id": "8a99b02d",
   "metadata": {},
   "outputs": [
    {
     "ename": "SyntaxError",
     "evalue": "':' expected after dictionary key (468608247.py, line 3)",
     "output_type": "error",
     "traceback": [
      "\u001b[1;36m  Cell \u001b[1;32mIn[40], line 3\u001b[1;36m\u001b[0m\n\u001b[1;33m    dic0={'state':'assam','place':'haldwani',{'food':'rice','drink':'juice'},'bike':'bjaj'}\u001b[0m\n\u001b[1;37m                                                                           ^\u001b[0m\n\u001b[1;31mSyntaxError\u001b[0m\u001b[1;31m:\u001b[0m ':' expected after dictionary key\n"
     ]
    }
   ],
   "source": [
    "# Nested dictionary\n",
    "\n",
    "dic0={'state':'assam','place':'haldwani',{'food':'rice','drink':'juice'},'bike':'bjaj'}"
   ]
  },
  {
   "cell_type": "markdown",
   "id": "1743719f",
   "metadata": {},
   "source": []
  },
  {
   "cell_type": "markdown",
   "id": "24eab120",
   "metadata": {},
   "source": [
    "- convert two lists into dictionary \n",
    "- merge two dictionaries \n",
    "- print the value of a key from a dict"
   ]
  },
  {
   "cell_type": "code",
   "execution_count": 64,
   "id": "2ff8262e",
   "metadata": {},
   "outputs": [
    {
     "name": "stdout",
     "output_type": "stream",
     "text": [
      "{20: 56}\n",
      "{'name': 'pawan', 'food': 'momo', 'veg': 'onion'}\n"
     ]
    },
    {
     "data": {
      "text/plain": [
       "dict"
      ]
     },
     "execution_count": 64,
     "metadata": {},
     "output_type": "execute_result"
    }
   ],
   "source": [
    "# convert two lists into dictionary \n",
    "\n",
    "x=dict([(20,12),(20,56,),(20,24),(20,56)])\n",
    "\n",
    "print(x)\n",
    "\n",
    "type(x)\n",
    "\n",
    "\n",
    "list1=[('name','pawan'),('food','momo')]\n",
    "list2=[('veg','onion')]\n",
    "\n",
    "x=dict(list1+list2)\n",
    "\n",
    "print(x)\n",
    "\n",
    "type(x)"
   ]
  },
  {
   "cell_type": "code",
   "execution_count": 4,
   "id": "fabf3c21",
   "metadata": {},
   "outputs": [
    {
     "name": "stdout",
     "output_type": "stream",
     "text": [
      "{'name': 'pawan', 'food': 'momo', 'veg': 'onion', 'telephone': 456}\n",
      "pawan\n"
     ]
    }
   ],
   "source": [
    "# merge two dictionaries\n",
    "\n",
    "x={'name': 'pawan', 'food': 'momo', 'veg': 'onion'}\n",
    "y={'telephone':456}\n",
    "\n",
    "x.update(y)\n",
    "\n",
    "print(x)\n",
    "\n",
    "# print the value of a key from a dict\n",
    "\n",
    "x={'name': 'pawan', 'food': 'momo', 'veg': 'onion'}\n",
    "\n",
    "print(x['name'])"
   ]
  },
  {
   "cell_type": "code",
   "execution_count": null,
   "id": "302c95c8",
   "metadata": {},
   "outputs": [],
   "source": [
    "# creat a dict by extracting the keys from a given dictionary\n",
    "\n"
   ]
  },
  {
   "cell_type": "code",
   "execution_count": null,
   "id": "f990d15b",
   "metadata": {},
   "outputs": [],
   "source": []
  },
  {
   "cell_type": "markdown",
   "id": "efa3b02d",
   "metadata": {},
   "source": [
    "- Frozen set \n",
    "- when to use frozen set? \n",
    "- Nested sets \n",
    "- set comprehension "
   ]
  },
  {
   "cell_type": "markdown",
   "id": "1b1cdf0e",
   "metadata": {},
   "source": [
    "- when to use a set Data structure?\n",
    "- when to use dictionaries"
   ]
  },
  {
   "cell_type": "code",
   "execution_count": null,
   "id": "bfe148ec",
   "metadata": {},
   "outputs": [],
   "source": []
  },
  {
   "cell_type": "markdown",
   "id": "e8a34dea",
   "metadata": {},
   "source": [
    "# summary of List Operations\n",
    "\n",
    " for the following examples, we assume that L1 and L2 are lists,x,i,j,k,n are integers\n",
    " \n",
    " L1=[10,20,30,40,50]  and L2=[60,70,80,60]"
   ]
  },
  {
   "cell_type": "markdown",
   "id": "09231ffb",
   "metadata": {},
   "source": [
    " x in L1 : check id the list  L1 contains x\n",
    " \n",
    " x not in L2 : check if list L1 doest not comtain item x\n",
    " \n",
    " L1+L2 : Concatenate the lists L1 and L2 . Creates a new list containing the items \n",
    " \n",
    " L1*5 : Repeat the list L1 5 times \n",
    " \n",
    " L1[i] : Get the item at index i ,Example L1[2] is 30 \n",
    " \n",
    " L1[i:j] : List slicing . Get the items from index i up to index j (excluding j) as a List .An example  L1[o:2] is [10,20]\n",
    " \n",
    " L1[i:j:k] : List slicing with step .Returns a List with the items from index i up to index j taking every k-th item. An example               L1[0:4:2] is [10,30]\n",
    " \n",
    " len(L1) : Returns a count of total items in a list \n",
    " \n",
    " \n",
    " L2.count(60): Returns the no. of times a particular item(60) appears in a list . the answer is 2\n",
    "\n",
    " L1.index(30): Returns the index no. of a particular item(30) in a list . the answer is 2\n",
    " \n",
    " L1.index(30,2,5): Returns the index no. of a particular item (30) in a list .But search Returns the item with the minimum value                    from a list .The answer is 60 only from index no.2 to5\n",
    " \n",
    " min(L1): returns the item with a minimum value from a list . The answer is 10\n",
    " \n",
    " max(L1): Returns the item with maximum value from a list .The answer is 60 \n",
    " \n",
    " L1.append(100): add item at the end of the list \n",
    " \n",
    " L1.append([2,5,7]): Append the nested list at the end \n",
    " \n",
    " L1[2]=40 : Modify the items present at the index 2\n",
    " \n",
    " L1.remove(40): Removes the first occurrence of item 40 from the list \n",
    " \n",
    " pop(2) : Removes and returns the item the index 2 from the list \n",
    " \n",
    " L1.clear() : make list empty \n",
    " \n",
    " L3=L1.copy() : copy L1 to L2"
   ]
  },
  {
   "cell_type": "code",
   "execution_count": null,
   "id": "b65f7e8e",
   "metadata": {},
   "outputs": [],
   "source": []
  }
 ],
 "metadata": {
  "kernelspec": {
   "display_name": "Python 3 (ipykernel)",
   "language": "python",
   "name": "python3"
  },
  "language_info": {
   "codemirror_mode": {
    "name": "ipython",
    "version": 3
   },
   "file_extension": ".py",
   "mimetype": "text/x-python",
   "name": "python",
   "nbconvert_exporter": "python",
   "pygments_lexer": "ipython3",
   "version": "3.11.3"
  }
 },
 "nbformat": 4,
 "nbformat_minor": 5
}
