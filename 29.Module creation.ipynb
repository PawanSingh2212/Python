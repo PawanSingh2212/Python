{
 "cells": [
  {
   "cell_type": "code",
   "execution_count": 2,
   "id": "6f4ab95e-fd75-4adb-8478-c20a2451214a",
   "metadata": {},
   "outputs": [
    {
     "name": "stdout",
     "output_type": "stream",
     "text": [
      "learn Python with Vijai\n"
     ]
    }
   ],
   "source": [
    "import test \n",
    "x=test.my_function()"
   ]
  },
  {
   "cell_type": "code",
   "execution_count": 4,
   "id": "c3941c61-8897-4404-9425-b7554ddf6587",
   "metadata": {},
   "outputs": [
    {
     "name": "stdout",
     "output_type": "stream",
     "text": [
      "[2, 34, 23, 12]\n"
     ]
    }
   ],
   "source": [
    "a=test.y\n",
    "print(a)"
   ]
  },
  {
   "cell_type": "code",
   "execution_count": 6,
   "id": "e61df304-1f1e-46b8-b23b-5e1b1e9799c0",
   "metadata": {},
   "outputs": [
    {
     "name": "stdout",
     "output_type": "stream",
     "text": [
      "world\n"
     ]
    }
   ],
   "source": [
    "b=test.x\n",
    "print(b)"
   ]
  },
  {
   "cell_type": "code",
   "execution_count": 4,
   "id": "3ca9c797-e40a-47f1-b9d2-2317ef64bb27",
   "metadata": {},
   "outputs": [
    {
     "name": "stdout",
     "output_type": "stream",
     "text": [
      "your in my_module lib\n"
     ]
    }
   ],
   "source": [
    "import self_lib\n",
    "\n",
    "d=self_lib.my_module()"
   ]
  },
  {
   "cell_type": "code",
   "execution_count": 8,
   "id": "72f81e19-2c64-47eb-9650-23a9f48481b1",
   "metadata": {},
   "outputs": [
    {
     "name": "stdout",
     "output_type": "stream",
     "text": [
      "44\n"
     ]
    }
   ],
   "source": [
    "c=self_lib.addition(10,34)\n",
    "\n",
    "print(c)"
   ]
  },
  {
   "cell_type": "code",
   "execution_count": null,
   "id": "2cb37645-0068-43dd-a8d9-328c350072da",
   "metadata": {},
   "outputs": [],
   "source": []
  }
 ],
 "metadata": {
  "kernelspec": {
   "display_name": "Python 3 (ipykernel)",
   "language": "python",
   "name": "python3"
  },
  "language_info": {
   "codemirror_mode": {
    "name": "ipython",
    "version": 3
   },
   "file_extension": ".py",
   "mimetype": "text/x-python",
   "name": "python",
   "nbconvert_exporter": "python",
   "pygments_lexer": "ipython3",
   "version": "3.11.7"
  }
 },
 "nbformat": 4,
 "nbformat_minor": 5
}
